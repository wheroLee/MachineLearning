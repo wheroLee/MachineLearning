{
 "metadata": {
  "language_info": {
   "codemirror_mode": {
    "name": "ipython",
    "version": 3
   },
   "file_extension": ".py",
   "mimetype": "text/x-python",
   "name": "python",
   "nbconvert_exporter": "python",
   "pygments_lexer": "ipython3",
   "version": "3.7.6-final"
  },
  "orig_nbformat": 2,
  "kernelspec": {
   "name": "python37664bittf21condacacb7fb5d6184e80be7a052c9d395d5b",
   "display_name": "Python 3.7.6 64-bit ('tf21': conda)"
  }
 },
 "nbformat": 4,
 "nbformat_minor": 2,
 "cells": [
  {
   "source": [
    "# GridSearch 활용 예제"
   ],
   "cell_type": "markdown",
   "metadata": {}
  },
  {
   "cell_type": "code",
   "execution_count": 1,
   "metadata": {},
   "outputs": [],
   "source": [
    "from sklearn.model_selection import GridSearchCV"
   ]
  },
  {
   "cell_type": "code",
   "execution_count": 7,
   "metadata": {},
   "outputs": [],
   "source": [
    "param_grid = {\n",
    "    'n_estimators': [100, 150, 200, 250],\n",
    "    'max_depth': [None, 6, 9, 12],\n",
    "    'min_samples_split': [0.01, 0.05, 0.1],\n",
    "    'max_features': ['auto', 'sqrt'],\n",
    "}"
   ]
  },
  {
   "cell_type": "code",
   "execution_count": 5,
   "metadata": {
    "tags": []
   },
   "outputs": [
    {
     "output_type": "stream",
     "name": "stdout",
     "text": "[-8.32987858]\n"
    }
   ],
   "source": [
    "from sklearn.ensemble import RandomForestRegressor\n",
    "from sklearn.datasets import make_regression\n",
    "X, y = make_regression(n_features=4, n_informative=2, random_state=0, shuffle=False)\n",
    "estimator = RandomForestRegressor(max_depth=2, random_state=0)\n",
    "estimator.fit(X, y)\n",
    "print(estimator.predict([[0, 0, 0, 0]]))"
   ]
  },
  {
   "cell_type": "code",
   "execution_count": 6,
   "metadata": {},
   "outputs": [
    {
     "output_type": "execute_result",
     "data": {
      "text/plain": "array([0.18146984, 0.81473937, 0.00145312, 0.00233767])"
     },
     "metadata": {},
     "execution_count": 6
    }
   ],
   "source": [
    "estimator.feature_importances_"
   ]
  },
  {
   "cell_type": "code",
   "execution_count": 8,
   "metadata": {},
   "outputs": [],
   "source": [
    "from sklearn.model_selection import KFold\n",
    "\n",
    "kf = KFold(random_state=30,\n",
    "           n_splits=10,\n",
    "           shuffle=True,\n",
    "          )"
   ]
  },
  {
   "cell_type": "code",
   "execution_count": 9,
   "metadata": {
    "tags": []
   },
   "outputs": [
    {
     "output_type": "stream",
     "name": "stdout",
     "text": "Fitting 10 folds for each of 96 candidates, totalling 960 fits\n[Parallel(n_jobs=-1)]: Using backend LokyBackend with 8 concurrent workers.\n[Parallel(n_jobs=-1)]: Done  25 tasks      | elapsed:    2.4s\n[Parallel(n_jobs=-1)]: Done 146 tasks      | elapsed:    7.2s\n[Parallel(n_jobs=-1)]: Done 349 tasks      | elapsed:   15.4s\n[Parallel(n_jobs=-1)]: Done 632 tasks      | elapsed:   26.7s\n[Parallel(n_jobs=-1)]: Done 960 out of 960 | elapsed:   39.9s finished\n"
    },
    {
     "output_type": "execute_result",
     "data": {
      "text/plain": "GridSearchCV(cv=KFold(n_splits=10, random_state=30, shuffle=True),\n             estimator=RandomForestRegressor(max_depth=2, random_state=0),\n             n_jobs=-1,\n             param_grid={'max_depth': [None, 6, 9, 12],\n                         'max_features': ['auto', 'sqrt'],\n                         'min_samples_split': [0.01, 0.05, 0.1],\n                         'n_estimators': [100, 150, 200, 250]},\n             verbose=2)"
     },
     "metadata": {},
     "execution_count": 9
    }
   ],
   "source": [
    "# define grid_search\n",
    "grid_search = GridSearchCV(estimator=estimator, \n",
    "                           param_grid=param_grid, \n",
    "                           cv=kf, \n",
    "                           n_jobs=-1, \n",
    "                           verbose=2\n",
    "                          )\n",
    "\n",
    "# fit with (x_train, y_train)\n",
    "grid_search.fit(X, y)"
   ]
  },
  {
   "cell_type": "code",
   "execution_count": 10,
   "metadata": {},
   "outputs": [
    {
     "output_type": "execute_result",
     "data": {
      "text/plain": "{'max_depth': 9,\n 'max_features': 'auto',\n 'min_samples_split': 0.01,\n 'n_estimators': 200}"
     },
     "metadata": {},
     "execution_count": 10
    }
   ],
   "source": [
    "grid_search.best_params_"
   ]
  },
  {
   "cell_type": "code",
   "execution_count": 11,
   "metadata": {
    "tags": []
   },
   "outputs": [
    {
     "output_type": "stream",
     "name": "stdout",
     "text": "[-0.21872506]\n"
    }
   ],
   "source": [
    "estimator = RandomForestRegressor(n_estimators=200,max_depth=9, max_features= 'auto', min_samples_split=0.01, random_state=0)\n",
    "estimator.fit(X, y)\n",
    "print(estimator.predict([[0, 0, 0, 0]]))"
   ]
  },
  {
   "cell_type": "code",
   "execution_count": null,
   "metadata": {},
   "outputs": [],
   "source": []
  }
 ]
}