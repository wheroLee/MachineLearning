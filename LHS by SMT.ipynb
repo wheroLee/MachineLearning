{
  cells : [
  {
    cell_type :  code ,
    execution_count : 1,
    metadata : {},
    outputs : [
    {
      name :  stdout ,
      output_type :  stream ,
      text : [
       (50, 2)\n 
     ]
    },
    {
      data : {
       image/png :  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\n ,
       text/plain : [
        <Figure size 432x288 with 1 Axes> 
      ]
     },
      metadata : {
       needs_background :  light 
     },
      output_type :  display_data 
    }
   ],
    source : [
     import numpy as np\n ,
     import matplotlib.pyplot as plt\n ,
     \n ,
     from smt.sampling_methods import LHS\n ,
     \n ,
     xlimits = np.array([[0.0, 4.0], [0.0, 3.0]])\n ,
     sampling = LHS(xlimits=xlimits)\n ,
     \n ,
     num = 50\n ,
     x = sampling(num)\n ,
     \n ,
     print(x.shape)\n ,
     \n ,
     plt.plot(x[:, 0], x[:, 1], \ o\ )\n ,
     plt.xlabel(\ x\ )\n ,
     plt.ylabel(\ y\ )\n ,
     plt.show() 
   ]
  },
  {
    cell_type :  code ,
    execution_count : null,
    metadata : {},
    outputs : [],
    source : []
  }
 ],
  metadata : {
   kernelspec : {
    display_name :  Python 3 ,
    language :  python ,
    name :  python3 
  },
   language_info : {
    codemirror_mode : {
     name :  ipython ,
     version : 3
   },
    file_extension :  .py ,
    mimetype :  text/x-python ,
    name :  python ,
    nbconvert_exporter :  python ,
    pygments_lexer :  ipython3 ,
    version :  3.7.6 
  }
 },
  nbformat : 4,
  nbformat_minor : 4
}
