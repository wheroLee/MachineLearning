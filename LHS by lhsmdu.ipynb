{
 "metadata": {
  "language_info": {
   "codemirror_mode": {
    "name": "ipython",
    "version": 3
   },
   "file_extension": ".py",
   "mimetype": "text/x-python",
   "name": "python",
   "nbconvert_exporter": "python",
   "pygments_lexer": "ipython3",
   "version": "3.7.6-final"
  },
  "orig_nbformat": 2,
  "kernelspec": {
   "name": "python37664bittf21condacacb7fb5d6184e80be7a052c9d395d5b",
   "display_name": "Python 3.7.6 64-bit ('tf21': conda)"
  }
 },
 "nbformat": 4,
 "nbformat_minor": 2,
 "cells": [
  {
   "source": [
    "# LHS by lhsmdu"
   ],
   "cell_type": "markdown",
   "metadata": {}
  },
  {
   "cell_type": "code",
   "execution_count": 1,
   "metadata": {},
   "outputs": [],
   "source": [
    "from sklearn.model_selection import GridSearchCV"
   ]
  },
  {
    "cell_type" :  "code" ,
    "execution_count" : 2,
    "metadata" : {},
    "outputs" : [],
    "source" : [
     "import lhsmdu\n" ,
     "import matplotlib.pyplot as plt\n" ,
     "import numpy\n" ,
     "\n" ,
     "Stime = time.time()\n" ,
     "\n" ,
     "l = lhsmdu.sample(45,2400) # Latin Hypercube Sampling of two variables, and 10 samples each.\n" ,
     "\n" ,
     "Etime = time.time()\n" ,
     "\n" ,
     "second = (Etime - Stime)/1545925769.9618232\n" ,
     "print(second)" 
   ]
  },
  {
    "cell_type" :  "code" ,
    execution_count : 13,
    metadata : {},
    outputs : [
    {
      data : {
       text/plain : [
        matrix([[0.96244729, 0.2517823 , 0.49724851, 0.30087831, 0.28484049,\n ,
                 0.03688695, 0.60956433, 0.50267902, 0.05147875, 0.27864646],\n ,
                [0.90826589, 0.23956189, 0.14489487, 0.48945276, 0.98565045,\n ,
                 0.24205527, 0.67213555, 0.76161962, 0.23763754, 0.72821635]]) 
      ]
     },
      execution_count : 13,
      metadata : {},
      output_type :  execute_result 
    }
   ],
    source : [
     k = lhsmdu.createRandomStandardUniformMatrix(2,10) # Monte Carlo Sampling\n ,
     k\n 
   ]
  },
  {
    cell_type :  code ,
    execution_count : 14,
    metadata : {},
    outputs : [
    {
      ename :  ValueError ,
      evalue :  Masked arrays must be 1-D ,
      output_type :  error ,
      traceback : [
       \u001b[1;31m---------------------------------------------------------------------------\u001b[0m ,
       \u001b[1;31mValueError\u001b[0m                                Traceback (most recent call last) ,
       \u001b[1;32m<ipython-input-14-a0724ccd44ff>\u001b[0m in \u001b[0;36m<module>\u001b[1;34m\u001b[0m\n\u001b[0;32m      3\u001b[0m \u001b[0max\u001b[0m\u001b[1;33m.\u001b[0m\u001b[0mset_xticks\u001b[0m\u001b[1;33m(\u001b[0m\u001b[0mnumpy\u001b[0m\u001b[1;33m.\u001b[0m\u001b[0marange\u001b[0m\u001b[1;33m(\u001b[0m\u001b[1;36m0\u001b[0m\u001b[1;33m,\u001b[0m\u001b[1;36m1\u001b[0m\u001b[1;33m,\u001b[0m\u001b[1;36m0.1\u001b[0m\u001b[1;33m)\u001b[0m\u001b[1;33m)\u001b[0m\u001b[1;33m\u001b[0m\u001b[1;33m\u001b[0m\u001b[0m\n\u001b[0;32m      4\u001b[0m \u001b[0max\u001b[0m\u001b[1;33m.\u001b[0m\u001b[0mset_yticks\u001b[0m\u001b[1;33m(\u001b[0m\u001b[0mnumpy\u001b[0m\u001b[1;33m.\u001b[0m\u001b[0marange\u001b[0m\u001b[1;33m(\u001b[0m\u001b[1;36m0\u001b[0m\u001b[1;33m,\u001b[0m\u001b[1;36m1\u001b[0m\u001b[1;33m,\u001b[0m\u001b[1;36m0.1\u001b[0m\u001b[1;33m)\u001b[0m\u001b[1;33m)\u001b[0m\u001b[1;33m\u001b[0m\u001b[1;33m\u001b[0m\u001b[0m\n\u001b[1;32m----> 5\u001b[1;33m \u001b[0mplt\u001b[0m\u001b[1;33m.\u001b[0m\u001b[0mscatter\u001b[0m\u001b[1;33m(\u001b[0m\u001b[0mk\u001b[0m\u001b[1;33m[\u001b[0m\u001b[1;36m0\u001b[0m\u001b[1;33m]\u001b[0m\u001b[1;33m,\u001b[0m \u001b[0mk\u001b[0m\u001b[1;33m[\u001b[0m\u001b[1;36m1\u001b[0m\u001b[1;33m]\u001b[0m\u001b[1;33m,\u001b[0m \u001b[0mcolor\u001b[0m\u001b[1;33m=\u001b[0m\u001b[1;34m\ b\ \u001b[0m\u001b[1;33m,\u001b[0m \u001b[0mlabel\u001b[0m\u001b[1;33m=\u001b[0m\u001b[1;34m\ LHS-MDU\ \u001b[0m\u001b[1;33m)\u001b[0m\u001b[1;33m\u001b[0m\u001b[1;33m\u001b[0m\u001b[0m\n\u001b[0m\u001b[0;32m      6\u001b[0m \u001b[1;31m#plt.scatter(l[0], l[1], color=\ r\ , label=\ MC\ )\u001b[0m\u001b[1;33m\u001b[0m\u001b[1;33m\u001b[0m\u001b[1;33m\u001b[0m\u001b[0m\n\u001b[0;32m      7\u001b[0m \u001b[0mplt\u001b[0m\u001b[1;33m.\u001b[0m\u001b[0mgrid\u001b[0m\u001b[1;33m(\u001b[0m\u001b[1;33m)\u001b[0m\u001b[1;33m\u001b[0m\u001b[1;33m\u001b[0m\u001b[0m\n ,
       \u001b[1;32m~\\.conda\\envs\\tf20\\lib\\site-packages\\matplotlib\\pyplot.py\u001b[0m in \u001b[0;36mscatter\u001b[1;34m(x, y, s, c, marker, cmap, norm, vmin, vmax, alpha, linewidths, verts, edgecolors, plotnonfinite, data, **kwargs)\u001b[0m\n\u001b[0;32m   2846\u001b[0m         \u001b[0mverts\u001b[0m\u001b[1;33m=\u001b[0m\u001b[0mverts\u001b[0m\u001b[1;33m,\u001b[0m \u001b[0medgecolors\u001b[0m\u001b[1;33m=\u001b[0m\u001b[0medgecolors\u001b[0m\u001b[1;33m,\u001b[0m\u001b[1;33m\u001b[0m\u001b[1;33m\u001b[0m\u001b[0m\n\u001b[0;32m   2847\u001b[0m         plotnonfinite=plotnonfinite, **({\ data\ : data} if data is not\n\u001b[1;32m-> 2848\u001b[1;33m         None else {}), **kwargs)\n\u001b[0m\u001b[0;32m   2849\u001b[0m     \u001b[0msci\u001b[0m\u001b[1;33m(\u001b[0m\u001b[0m__ret\u001b[0m\u001b[1;33m)\u001b[0m\u001b[1;33m\u001b[0m\u001b[1;33m\u001b[0m\u001b[0m\n\u001b[0;32m   2850\u001b[0m     \u001b[1;32mreturn\u001b[0m \u001b[0m__ret\u001b[0m\u001b[1;33m\u001b[0m\u001b[1;33m\u001b[0m\u001b[0m\n ,
       \u001b[1;32m~\\.conda\\envs\\tf20\\lib\\site-packages\\matplotlib\\__init__.py\u001b[0m in \u001b[0;36minner\u001b[1;34m(ax, data, *args, **kwargs)\u001b[0m\n\u001b[0;32m   1597\u001b[0m     \u001b[1;32mdef\u001b[0m \u001b[0minner\u001b[0m\u001b[1;33m(\u001b[0m\u001b[0max\u001b[0m\u001b[1;33m,\u001b[0m \u001b[1;33m*\u001b[0m\u001b[0margs\u001b[0m\u001b[1;33m,\u001b[0m \u001b[0mdata\u001b[0m\u001b[1;33m=\u001b[0m\u001b[1;32mNone\u001b[0m\u001b[1;33m,\u001b[0m \u001b[1;33m**\u001b[0m\u001b[0mkwargs\u001b[0m\u001b[1;33m)\u001b[0m\u001b[1;33m:\u001b[0m\u001b[1;33m\u001b[0m\u001b[1;33m\u001b[0m\u001b[0m\n\u001b[0;32m   1598\u001b[0m         \u001b[1;32mif\u001b[0m \u001b[0mdata\u001b[0m \u001b[1;32mis\u001b[0m \u001b[1;32mNone\u001b[0m\u001b[1;33m:\u001b[0m\u001b[1;33m\u001b[0m\u001b[1;33m\u001b[0m\u001b[0m\n\u001b[1;32m-> 1599\u001b[1;33m             \u001b[1;32mreturn\u001b[0m \u001b[0mfunc\u001b[0m\u001b[1;33m(\u001b[0m\u001b[0max\u001b[0m\u001b[1;33m,\u001b[0m \u001b[1;33m*\u001b[0m\u001b[0mmap\u001b[0m\u001b[1;33m(\u001b[0m\u001b[0msanitize_sequence\u001b[0m\u001b[1;33m,\u001b[0m \u001b[0margs\u001b[0m\u001b[1;33m)\u001b[0m\u001b[1;33m,\u001b[0m \u001b[1;33m**\u001b[0m\u001b[0mkwargs\u001b[0m\u001b[1;33m)\u001b[0m\u001b[1;33m\u001b[0m\u001b[1;33m\u001b[0m\u001b[0m\n\u001b[0m\u001b[0;32m   1600\u001b[0m \u001b[1;33m\u001b[0m\u001b[0m\n\u001b[0;32m   1601\u001b[0m         \u001b[0mbound\u001b[0m \u001b[1;33m=\u001b[0m \u001b[0mnew_sig\u001b[0m\u001b[1;33m.\u001b[0m\u001b[0mbind\u001b[0m\u001b[1;33m(\u001b[0m\u001b[0max\u001b[0m\u001b[1;33m,\u001b[0m \u001b[1;33m*\u001b[0m\u001b[0margs\u001b[0m\u001b[1;33m,\u001b[0m \u001b[1;33m**\u001b[0m\u001b[0mkwargs\u001b[0m\u001b[1;33m)\u001b[0m\u001b[1;33m\u001b[0m\u001b[1;33m\u001b[0m\u001b[0m\n ,
       \u001b[1;32m~\\.conda\\envs\\tf20\\lib\\site-packages\\matplotlib\\axes\\_axes.py\u001b[0m in \u001b[0;36mscatter\u001b[1;34m(self, x, y, s, c, marker, cmap, norm, vmin, vmax, alpha, linewidths, verts, edgecolors, plotnonfinite, **kwargs)\u001b[0m\n\u001b[0;32m   4460\u001b[0m             \u001b[0mx\u001b[0m\u001b[1;33m,\u001b[0m \u001b[0my\u001b[0m\u001b[1;33m,\u001b[0m \u001b[0ms\u001b[0m\u001b[1;33m,\u001b[0m \u001b[0mc\u001b[0m\u001b[1;33m,\u001b[0m \u001b[0mcolors\u001b[0m\u001b[1;33m,\u001b[0m \u001b[0medgecolors\u001b[0m\u001b[1;33m,\u001b[0m \u001b[0mlinewidths\u001b[0m \u001b[1;33m=\u001b[0m\u001b[0;31m \u001b[0m\u001b[0;31m\\\u001b[0m\u001b[1;33m\u001b[0m\u001b[1;33m\u001b[0m\u001b[0m\n\u001b[0;32m   4461\u001b[0m                 cbook._combine_masks(\n\u001b[1;32m-> 4462\u001b[1;33m                     x, y, s, c, colors, edgecolors, linewidths)\n\u001b[0m\u001b[0;32m   4463\u001b[0m \u001b[1;33m\u001b[0m\u001b[0m\n\u001b[0;32m   4464\u001b[0m         \u001b[0mscales\u001b[0m \u001b[1;33m=\u001b[0m \u001b[0ms\u001b[0m   \u001b[1;31m# Renamed for readability below.\u001b[0m\u001b[1;33m\u001b[0m\u001b[1;33m\u001b[0m\u001b[0m\n ,
       \u001b[1;32m~\\.conda\\envs\\tf20\\lib\\site-packages\\matplotlib\\cbook\\__init__.py\u001b[0m in \u001b[0;36m_combine_masks\u001b[1;34m(*args)\u001b[0m\n\u001b[0;32m   1117\u001b[0m         \u001b[1;32melse\u001b[0m\u001b[1;33m:\u001b[0m\u001b[1;33m\u001b[0m\u001b[1;33m\u001b[0m\u001b[0m\n\u001b[0;32m   1118\u001b[0m             \u001b[1;32mif\u001b[0m \u001b[0misinstance\u001b[0m\u001b[1;33m(\u001b[0m\u001b[0mx\u001b[0m\u001b[1;33m,\u001b[0m \u001b[0mnp\u001b[0m\u001b[1;33m.\u001b[0m\u001b[0mma\u001b[0m\u001b[1;33m.\u001b[0m\u001b[0mMaskedArray\u001b[0m\u001b[1;33m)\u001b[0m \u001b[1;32mand\u001b[0m \u001b[0mx\u001b[0m\u001b[1;33m.\u001b[0m\u001b[0mndim\u001b[0m \u001b[1;33m>\u001b[0m \u001b[1;36m1\u001b[0m\u001b[1;33m:\u001b[0m\u001b[1;33m\u001b[0m\u001b[1;33m\u001b[0m\u001b[0m\n\u001b[1;32m-> 1119\u001b[1;33m                 \u001b[1;32mraise\u001b[0m \u001b[0mValueError\u001b[0m\u001b[1;33m(\u001b[0m\u001b[1;34m\ Masked arrays must be 1-D\ \u001b[0m\u001b[1;33m)\u001b[0m\u001b[1;33m\u001b[0m\u001b[1;33m\u001b[0m\u001b[0m\n\u001b[0m\u001b[0;32m   1120\u001b[0m             \u001b[0mx\u001b[0m \u001b[1;33m=\u001b[0m \u001b[0mnp\u001b[0m\u001b[1;33m.\u001b[0m\u001b[0masanyarray\u001b[0m\u001b[1;33m(\u001b[0m\u001b[0mx\u001b[0m\u001b[1;33m)\u001b[0m\u001b[1;33m\u001b[0m\u001b[1;33m\u001b[0m\u001b[0m\n\u001b[0;32m   1121\u001b[0m             \u001b[1;32mif\u001b[0m \u001b[0mx\u001b[0m\u001b[1;33m.\u001b[0m\u001b[0mndim\u001b[0m \u001b[1;33m==\u001b[0m \u001b[1;36m1\u001b[0m\u001b[1;33m:\u001b[0m\u001b[1;33m\u001b[0m\u001b[1;33m\u001b[0m\u001b[0m\n ,
       \u001b[1;31mValueError\u001b[0m: Masked arrays must be 1-D 
     ]
    },
    {
      data : {
       image/png :  iVBORw0KGgoAAAANSUhEUgAAAXQAAAD4CAYAAAD8Zh1EAAAABHNCSVQICAgIfAhkiAAAAAlwSFlzAAALEgAACxIB0t1+/AAAADh0RVh0U29mdHdhcmUAbWF0cGxvdGxpYiB2ZXJzaW9uMy4xLjMsIGh0dHA6Ly9tYXRwbG90bGliLm9yZy+AADFEAAARxUlEQVR4nO3df4hd+V3G8ffTLFHUbZVmFEniJmqqRl1cHFdBcKu2kq2YWHeVBApdWBvUphVbxZWWUiKitmIRjGispT+gptv9Q6clNdDtLmLpambdHzVZUse4umPAjutaQbHb6Mc/7k17vXtn7pnsuXNnv75fMHB+fHPPw5nkyZlz59xvqgpJ0gvfi+YdQJLUDwtdkhphoUtSIyx0SWqEhS5JjbhhXgfetWtX7du3b16Hl6QXpIcffvhfqmph0r65Ffq+fftYXl6e1+El6QUpyT+st89bLpLUCAtdkhphoUtSIyx0SWqEhS5JjbDQJakRFrokNcJCl6RGWOiS1AgLXZIaYaFLUiMsdElqhIUuSY2w0CWpERa6JDXCQpekRljoktSIToWe5FCSS0lWktwzYf9NSe5P8niSB5Ps6T+qJGkjUws9yQ7gFHA7cBA4luTg2LDfAt5fVTcDJ4Ff7zuoJGljXa7QbwVWqupyVT0LnAGOjI05CNw/XH5gwn5J0ox1KfTdwFMj66vDbaMeA+4YLr8auDHJS8dfKMnxJMtJltfW1q4nryRpHV0KPRO21dj6LwK3JXkEuA34J+Dqc/5Q1emqWqyqxYWFhU2HlSSt74YOY1aBvSPre4ArowOq6grwEwBJvgq4o6o+11dISdJ0Xa7QzwMHkuxPshM4CiyNDkiyK8m11/oV4D39xpQkTTO10KvqKnACOAc8AdxbVReSnExyeDjs5cClJJ8Bvg74tRnllSStI1Xjt8O3xuLiYi0vL8/l2JL0QpXk4apanLTPJ0UlqREWuiQ1wkKXpEZY6JLUCAtdkhphoUtSIyx0SWqEhS5JjbDQJakRFrokNcJCl6RGWOiS1AgLXZIa0anQkxxKcinJSpJ7Juz/hiQPJHkkyeNJXtV/VEnSRqYWepIdwCngdgaTQR9LcnBs2FsZfE76LQwmwPi9voNKkjbW5Qr9VmClqi5X1bPAGeDI2JgCXjxcfgljU9RJkmavS6HvBp4aWV8dbhv1duA1SVaBs8AbJr1QkuNJlpMsr62tXUdcSdJ6uhR6Jmwbn+boGPDeqtoDvAr4wMgco1/6Q1Wnq2qxqhYXFhY2n1aStK4uhb4K7B1Z38Nzb6ncDdwLUFWfAr4c2NVHQElSN10K/TxwIMn+JDsZvOm5NDbmH4EfBkjybQwK3XsqkrSFphZ6VV0FTgDngCcY/DbLhSQnkxweDnsz8LokjwF/DNxV85p9WpL+n7qhy6CqOsvgzc7RbW8bWb4IfH+/0SRJm+GTopLUCAtdkhphoUtSIyx0SWqEhS5JjbDQJakRFrokNcJCl6RGWOiS1AgLXZIaYaFLUiMsdElqRF+TRL8ryaPDr88k+bf+o0qSNjL10xZHJol+JYPJLs4nWRp+wiIAVfULI+PfANwyg6ySpA30NUn0qGMMPhNdkrSF+pokGoAkNwH7gU88/2iSpM3oa5Loa44C91XVf098oeR4kuUky2trzlAnSX3qa5Loa46ywe2WqjpdVYtVtbiwsNA9pSRpqr4miSbJtwBfA3yq34iSpC76miQaBm+GnnFyaEmaj14miR6uv72/WJKkzfJJUUlqhIUuSY2w0CWpERa6JDXCQpekRljoktQIC12SGmGhS1IjLHRJaoSFLkmNsNAlqREWuiQ1wkKXpEZ0KvQkh5JcSrKS5J51xvxUkotJLiT5YL8xJUnTTP343CQ7gFPAKxnMXnQ+yVJVXRwZcwD4FeD7q+qZJF87q8CSpMm6XKHfCqxU1eWqehY4AxwZG/M64FRVPQNQVZ/tN6YkaZouhb4beGpkfXW4bdTLgJcl+WSSh5IcmvRCThItSbPTpdAzYdv4NHM3AAeAlzOYiu7dSb76OX/ISaIlaWa6FPoqsHdkfQ9wZcKYP62qL1TV3wOXGBS8JGmLdCn088CBJPuT7ASOAktjY/4E+EGAJLsY3IK53GdQSdLGphZ6VV0FTgDngCeAe6vqQpKTSQ4Ph50Dnk5yEXgA+KWqenpWoSVJz5Wq8dvhW2NxcbGWl5fncmxJeqFK8nBVLU7a55OiktQIC12SGmGhS1IjLHRJaoSFLkmNsNAlqREWuiQ1wkKXpEZY6JLUCAtdkhphoUtSIyx0SWqEhS5JjehU6EkOJbmUZCXJPRP235VkLcmjw6+f7j+qJGkjN0wbkGQHcAp4JYOZic4nWaqqi2NDP1RVJ2aQUZLUQZcr9FuBlaq6XFXPAmeAI7ONJUnarC6Fvht4amR9dbht3B1JHk9yX5K9E/aT5HiS5STLa2tr1xFXkrSeLoWeCdvGpzn6CLCvqm4GPg68b9ILVdXpqlqsqsWFhYXNJZUkbahLoa8Co1fce4ArowOq6umq+vxw9Q+B7+4nniSpqy6Ffh44kGR/kp3AUWBpdECSrx9ZPcxgMmlJ0haa+lsuVXU1yQngHLADeE9VXUhyEliuqiXgjUkOA1eBfwXummFmSdIEqRq/Hb41FhcXa3l5eS7HlqQXqiQPV9XipH0+KSpJjbDQJakRFrokNcJCl6RGWOiS1AgLXZIaYaFLUiMsdElqhIUuSY2w0CWpERa6JDXCQpekRljoktSIToWe5FCSS0lWktyzwbg7k1SSiZ8EJkmanamFnmQHcAq4HTgIHEtycMK4G4E3An/Zd0hJ0nRdrtBvBVaq6nJVPQucAY5MGPerwDuA/+oxnySpoy6Fvht4amR9dbjti5LcAuytqo9u9EJJjidZTrK8tra26bCSpPV1KfRM2PbFaY6SvAh4F/DmaS9UVaerarGqFhcWFrqnlCRN1aXQV4G9I+t7gCsj6zcC3wE8mORJ4PuAJd8YlaSt1aXQzwMHkuxPshM4Cixd21lVn6uqXVW1r6r2AQ8Bh6vKCUMlaQtNLfSqugqcAM4BTwD3VtWFJCeTHJ51QElSNzd0GVRVZ4GzY9vets7Ylz//WJKkzfJJUUlqhIUuSY2w0CWpERa6JDXCQpekRljoktQIC12SGmGhS1IjLHRJaoSFLkmNsNAlqREWuiQ1opdJopP8TJJPJ3k0yV9MmnNUkjRbfU0S/cGq+s6q+i4G84r+du9JJUkb6mWS6Kr695HVr2RkijpJ0tbo8nnokyaJ/t7xQUleD7wJ2An8UC/pJEmdPe9Jor+4oepUVX0T8MvAWye+UHI8yXKS5bW1tc0llSRtqI9JosedAX580o6qOl1Vi1W1uLCw0D2lJGmq5z1JNECSAyOrPwr8bX8RJUldTL2HXlVXk1ybJHoH8J5rk0QDy1W1BJxI8grgC8AzwGtnGVqS9Fy9TBJdVT/fcy5J0ib5pKgkNcJCl6RGWOiS1AgLXZIaYaFLUiMsdElqhIUuSY2w0CWpERa6JDXCQpekRljoktQIC12SGmGhS1IjOhV6kkNJLiVZSXLPhP1vSnIxyeNJ7k9yU/9RJUkbmVroSXYAp4DbgYPAsSQHx4Y9AixW1c3AfcA7+g4qSdpYlyv0W4GVqrpcVc8ymGLuyOiAqnqgqv5zuPoQg2nqJElbqEuh7waeGllfHW5bz93AxybtcJJoSZqdLoWeCdtq4sDkNcAi8M5J+50kWpJmp8sUdKvA3pH1PcCV8UHDOUXfAtxWVZ/vJ54kqasuV+jngQNJ9ifZCRwFlkYHJLkF+APgcFV9tv+YkqRpphZ6VV0FTgDngCeAe6vqQpKTSQ4Ph70T+Crgw0keTbK0zstJkmakyy0XquoscHZs29tGll/Rcy5J0ib5pKgkNcJCl6RGWOiS1AgLXZIaYaFLUiMsdElqhIUuSY2w0CWpERa6JDXCQpekRljoktQIC12SGmGhS1IjOhV6kkNJLiVZSXLPhP0/kOSvk1xNcmf/MSVJ00wt9CQ7gFPA7cBB4FiSg2PD/hG4C/hg3wElSd10+Tz0W4GVqroMkOQMcAS4eG1AVT053Pc/M8goSeqgyy2X3cBTI+urw22bluR4kuUky2tra9fzEpKkdXQp9EzYVtdzsKo6XVWLVbW4sLBwPS8hSVpHl0JfBfaOrO8BrswmjiTpenUp9PPAgST7k+wEjgJOAi1J28zUQq+qq8AJ4BzwBHBvVV1IcjLJYYAk35NkFfhJ4A+SXJhlaEnSc3X5LReq6ixwdmzb20aWzzO4FSNJmhOfFJWkRljoktQIC12SGmGhS1IjLHRJaoSFLkmNsNAlqREWuiQ1wkKXpEZY6JLUCAtdkhphoUtSIyx0SWpEp0JPcijJpSQrSe6ZsP/LknxouP8vk+zrO6gkaWNTCz3JDuAUcDtwEDiW5ODYsLuBZ6rqm4F3Ab/Zd1BJ0sa6XKHfCqxU1eWqehY4AxwZG3MEeN9w+T7gh5NMmotUkjQjXSa42A08NbK+CnzvemOq6mqSzwEvBf5ldFCS48Dx4ernk/zN9YTu2S7Gcv4/zQDbI4cZvmQ75NgOGWB75NgOGQBuWm9Hl0KfdKVd1zGGqjoNnAZIslxVix2OP1PbIcd2yLBdcphhe+XYDhm2S47tkGGaLrdcVoG9I+t7gCvrjUlyA/AS4F/7CChJ6qZLoZ8HDiTZn2QncBRYGhuzBLx2uHwn8Imqes4VuiRpdqbechneEz8BnAN2AO+pqgtJTgLLVbUE/BHwgSQrDK7Mj3Y49unnkbtP2yHHdsgA2yOHGb5kO+TYDhlge+TYDhk2FC+kJakNPikqSY2w0CWpETMv9O3wsQEdMvxAkr9OcjXJnX0ffxM53pTkYpLHk9yfZN3fN51hhp9J8ukkjyb5iwlPBW9JjpFxdyapJL3/uliHc3FXkrXhuXg0yU/3naFLjuGYnxr+3biQ5INbnSHJu0bOw2eS/FvfGTrm+IYkDyR5ZPjv5FVzyHDT8N/n40keTLKn7wzXrapm9sXgTdS/A74R2Ak8BhwcG/NzwO8Pl48CH5pDhn3AzcD7gTvneC5+EPiK4fLPzulcvHhk+TDwZ/M4F8NxNwJ/DjwELM7hXNwF/O4s/j5sMscB4BHga4brXzuP78fI+Dcw+OWIeZyL08DPDpcPAk/OIcOHgdcOl38I+MAs/45s5mvWV+jb4WMDpmaoqier6nHgf3o87vXkeKCq/nO4+hCD3/nf6gz/PrL6lUx4QGwrcgz9KvAO4L/mmGHWuuR4HXCqqp4BqKrPziHDqGPAH/ecoWuOAl48XH4Jz30mZisyHATuHy4/MGH/3My60Cd9bMDu9cZU1VXg2scGbGWGrbDZHHcDH5tHhiSvT/J3DMr0jT1n6JQjyS3A3qr66AyO3ynD0B3DH63vS7J3wv6tyPEy4GVJPpnkoSSH5pABGNxuAPYDn+g5Q9ccbwdek2QVOMvgp4WtzvAYcMdw+dXAjUn67KzrNutC7+1jA2acYSt0zpHkNcAi8M55ZKiqU1X1TcAvA2/tOcPUHElexOBTO988g2N3yjD0EWBfVd0MfJwv/SS51TluYHDb5eUMro7fneSrtzjDNUeB+6rqv3s8/mZyHAPeW1V7gFcxeP6lzx7rkuEXgduSPALcBvwTcLXHDNdt1oW+HT42oEuGrdApR5JXAG8BDlfV5+eRYcQZ4Md7ztAlx43AdwAPJnkS+D5gqec3Rqeei6p6euR78IfAd/d4/M45hmP+tKq+UFV/D1xiUPBbmeGao8zmdkvXHHcD9wJU1aeAL2fwoVlblqGqrlTVT1TVLQz+rVJVn+sxw/Wb5Q16BlcWlxn8iHbtDYZvHxvzev7vm6L3bnWGkbHvZXZvinY5F7cweEPmwBwzHBhZ/jEGTwNveY6x8Q/S/5uiXc7F148svxp4aE7fk0PA+4bLuxjcEnjpVn8/gG8BnmT4QOKczsXHgLuGy9/GoGx7y9Mxwy7gRcPlXwNOzuJ8XFf+mR9g8GPRZ4ZF9ZbhtpMMrkBh8D/sh4EV4K+Ab5xDhu9h8D/zfwBPAxfmdC4+Dvwz8Ojwa2kOGX4HuDA8/gMbFe0sc4yNfZCeC73jufj14bl4bHguvnVOfy8C/DZwEfg0cHQe3w8G969/YxbnYBPn4iDwyeH35FHgR+aQ4U7gb4dj3g182SzPyWa+fPRfkhrhk6KS1AgLXZIaYaFLUiMsdElqhIUuSY2w0CWpERa6JDXifwGElS9BjB+i1QAAAABJRU5ErkJggg==\n ,
       text/plain : [
        <Figure size 432x288 with 1 Axes> 
      ]
     },
      metadata : {
       needs_background :  light 
     },
      output_type :  display_data 
    }
   ],
    source : [
     fig = plt.figure()\n ,
     ax = fig.gca()\n ,
     ax.set_xticks(numpy.arange(0,1,0.1))\n ,
     ax.set_yticks(numpy.arange(0,1,0.1))\n ,
     plt.scatter(k[0], k[1], color=\ b\ , label=\ LHS-MDU\ )\n ,
     #plt.scatter(l[0], l[1], color=\ r\ , label=\ MC\ )\n ,
     plt.grid()\n ,
     plt.show() 
   ]
  },
  {
    cell_type :  code ,
    execution_count : null,
    metadata : {},
    outputs : [],
    source : []
  }
 ],
  metadata : {
   kernelspec : {
    display_name :  Python 3 ,
    language :  python ,
    name :  python3 
  },
   language_info : {
    codemirror_mode : {
     name :  ipython ,
     version : 3
   },
    file_extension :  .py ,
    mimetype :  text/x-python ,
    name :  python ,
    nbconvert_exporter :  python ,
    pygments_lexer :  ipython3 ,
    version :  3.7.6-final 
  }
 },
  nbformat : 4,
  nbformat_minor : 4
}