{
  cells : [
  {
    cell_type :  markdown ,
    metadata : {},
    source : [
     # iterator\n ,
     ## iterable 의 의미는 member를 하나씩 차례로 반환 가능한 object를 말한다.  \n ,
     ## iterable 의 예로는 sequence type인 list, str, tuple 이 대표적이다.  \n ,
     출처: https://bluese05.tistory.com/55 [ㅍㅍㅋㄷ]\n ,
     \n ,
     ```python\n ,
     l = [1,2,3,4]\n ,
     i = 0\n ,
     n = len(l)\n ,
     while(i<n):\n ,
         print(i)\n ,
         i+=1\n ,
     \n ,
     for i in l:\n ,
         print(i)\n ,
     \n ,
     for i in iter(l):\n ,
     ...\n ,
     ``` 
   ]
  },
  {
    cell_type :  code ,
    execution_count : 5,
    metadata : {
     tags : []
   },
    outputs : [
    {
      output_type :  stream ,
      name :  stdout ,
      text :  1\n2\n3\n4\n5\n6\n7\n8\n9\n 
    }
   ],
    source : [
     l=range(1, 10)\n ,
     for i in l:\n ,
         print(i) 
   ]
  },
  {
    cell_type :  markdown ,
    metadata : {
     tags : []
   },
    source : []
  },
  {
    cell_type :  markdown ,
    metadata : {},
    source : [
     # dict iteation 방법\n ,
     \n ,
     ```python \n ,
     for x in dic:\n ,
     for x in dic.value()\n ,
     for k, v in dic.items()\n ,
     ```\n 
   ]
  },
  {
    cell_type :  code ,
    execution_count : 8,
    metadata : {},
    outputs : [],
    source : [
     from math import sqrt\n ,
     def is_prime(x):\n ,
         if x<2:\n ,
             return False\n ,
         for i in range(2, int(sqrt(x))+1):\n ,
             if x%i==0:\n ,
                 return False\n ,
         return True 
   ]
  },
  {
    cell_type :  markdown ,
    metadata : {},
    source : [
     # Simple is better than complex\n ,
     \n ,
     ## Code is written once  \n ,
     ## But read over and Over flowError  \n ,
     ## fewer is clearer   
   ]
  },
  {
    cell_type :  code ,
    execution_count : 12,
    metadata : {
     tags : []
   },
    outputs : [
    {
      output_type :  stream ,
      name :  stdout ,
      text :  [0, 1, 2, 3, 4, 5, 6, 7, 8, 9, 10, 11, 12, 13, 14, 15, 16, 17, 18, 19]\n 
    },
    {
      output_type :  error ,
      ename :  NameError ,
      evalue :  name 'x' is not defined ,
      traceback : [
       \u001b[1;31m---------------------------------------------------------------------------\u001b[0m ,
       \u001b[1;31mNameError\u001b[0m                                 Traceback (most recent call last) ,
       \u001b[1;32m<ipython-input-12-046757e5a5e4>\u001b[0m in \u001b[0;36m<module>\u001b[1;34m\u001b[0m\n\u001b[0;32m      1\u001b[0m \u001b[0mla\u001b[0m \u001b[1;33m=\u001b[0m \u001b[1;33m[\u001b[0m\u001b[0mx\u001b[0m \u001b[1;32mfor\u001b[0m \u001b[0mx\u001b[0m \u001b[1;32min\u001b[0m \u001b[0mrange\u001b[0m\u001b[1;33m(\u001b[0m\u001b[1;36m20\u001b[0m\u001b[1;33m)\u001b[0m\u001b[1;33m]\u001b[0m\u001b[1;33m\u001b[0m\u001b[1;33m\u001b[0m\u001b[0m\n\u001b[0;32m      2\u001b[0m \u001b[0mprint\u001b[0m\u001b[1;33m(\u001b[0m\u001b[0mla\u001b[0m\u001b[1;33m)\u001b[0m\u001b[1;33m\u001b[0m\u001b[1;33m\u001b[0m\u001b[0m\n\u001b[1;32m----> 3\u001b[1;33m \u001b[0mx\u001b[0m\u001b[1;33m\u001b[0m\u001b[1;33m\u001b[0m\u001b[0m\n\u001b[0m ,
       \u001b[1;31mNameError\u001b[0m: name 'x' is not defined 
     ]
    }
   ],
    source : [
     la = [x for x in range(20)]\n ,
     print(la)\n ,
     x 
   ]
  },
  {
    cell_type :  code ,
    execution_count : 11,
    metadata : {},
    outputs : [
    {
      output_type :  execute_result ,
      data : {
       text/plain :  [0, 1, 2, 3, 4, 5, 6, 7, 8, 9, 10, 11, 12, 13, 14, 15, 16, 17, 18, 19] 
     },
      metadata : {},
      execution_count : 11
    }
   ],
    source : [
     la 
   ]
  },
  {
    cell_type :  markdown ,
    metadata : {},
    source : [
     # iterable vs iterator\n ,
     \n ,
     > iterator = iter(iterable) 
   ]
  },
  {
    cell_type :  markdown ,
    metadata : {},
    source : [
     # Generator function 
   ]
  },
  {
    cell_type :  code ,
    execution_count : 19,
    metadata : {
     tags : []
   },
    outputs : [
    {
      output_type :  stream ,
      name :  stdout ,
      text :  1\n2\nNone\n 
    }
   ],
    source : [
     \n ,
     def gen123():\n ,
         yield 1\n ,
         yield 2\n ,
         yield \n ,
     g = gen123() \n ,
     print(next(g))\n ,
     print(next(g))\n ,
     print(next(g)) 
   ]
  },
  {
    cell_type :  markdown ,
    metadata : {},
    source : [
     # continue vs pass 
   ]
  },
  {
    cell_type :  markdown ,
    metadata : {},
    source : [
     # lazy computation\n ,
     \n ,
     > Lazy Evaluation은 어떤 값이 실제로 쓰일 때 까지 그 값의 계산을 뒤로 미루는 동작 방식이다.   \n ,
     ```python\n ,
     itertools.islice()\n ,
     ``` 
   ]
  },
  {
    cell_type :  code ,
    execution_count : 20,
    metadata : {},
    outputs : [
    {
      output_type :  error ,
      ename :  SyntaxError ,
      evalue :  invalid syntax (<ipython-input-20-568466c04cc8>, line 5) ,
      traceback : [
       \u001b[1;36m  File \u001b[1;32m\ <ipython-input-20-568466c04cc8>\ \u001b[1;36m, line \u001b[1;32m5\u001b[0m\n\u001b[1;33m    if i==3 raise StopIteration\u001b[0m\n\u001b[1;37m                ^\u001b[0m\n\u001b[1;31mSyntaxError\u001b[0m\u001b[1;31m:\u001b[0m invalid syntax\n 
     ]
    }
   ],
    source : [
     #for item in take(3, list(distint(items))):\n ,
     \n ,
     def a(lst):\n ,
         for i in lst:\n ,
             if i==3 raise StopIteration\n ,
             yield i\n 
   ]
  },
  {
    cell_type :  markdown ,
    metadata : {},
    source : [
     # any vs all\n ,
     \n ,
     >https://velog.io/@doondoony/python-all-any-builtin-functions 
   ]
  },
  {
    cell_type :  markdown ,
    metadata : {},
    source : [
     # zip\n ,
     > https://excelsior-cjh.tistory.com/100 
   ]
  },
  {
    cell_type :  markdown ,
    metadata": {},
   "source": [
    "# enumerate\n",
    "> 반복문 사용 시 몇 번째 반복문인지 확인이 필요할 수 있습니다.  \n",
    "> 이때 사용합니다.  \n",
    "> 인덱스 번호와 컬렉션의 원소를 tuple형태로 반환합니다.  \n",
    "\n",
    "> https://wikidocs.net/16045"
   ]
  },
  {
   "cell_type": "code",
   "execution_count": null,
   "metadata": {},
   "outputs": [],
   "source": []
  }
 ],
 "metadata": {
  "language_info": {
   "codemirror_mode": {
    "name": "ipython",
    "version": 3
   },
   "file_extension": ".py",
   "mimetype": "text/x-python",
   "name": "python",
   "nbconvert_exporter": "python",
   "pygments_lexer": "ipython3",
   "version": "3.7.4-final"
  },
  "orig_nbformat": 2,
  "kernelspec": {
   "name": "python3",
   "display_name": "Python 3"
  }
 },
 "nbformat": 4,
 "nbformat_minor": 2
}