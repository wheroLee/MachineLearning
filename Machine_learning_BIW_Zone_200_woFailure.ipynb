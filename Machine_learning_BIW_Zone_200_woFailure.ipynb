{
 "metadata": {
  "language_info": {
   "codemirror_mode": {
    "name": "ipython",
    "version": 3
   },
   "file_extension": ".py",
   "mimetype": "text/x-python",
   "name": "python",
   "nbconvert_exporter": "python",
   "pygments_lexer": "ipython3",
   "version": "3.7.6-final"
  },
  "orig_nbformat": 2,
  "kernelspec": {
   "name": "python37664bittf21condacacb7fb5d6184e80be7a052c9d395d5b",
   "display_name": "Python 3.7.6 64-bit ('tf21': conda)"
  }
 },
 "nbformat": 4,
 "nbformat_minor": 2,
 "cells": [
  {
   "cell_type": "markdown",
   "source": [
    "# The study for HMC BIW PROJECT  \n",
    "\n",
    "## M/L is used to estimate the value with parameters.  \n",
    "## \n"
   ],
   "metadata": {}
  },
  {
   "cell_type": "code",
   "execution_count": 1,
   "source": [
    "# import libraries\r\n",
    "from __future__ import absolute_import, division, print_function, unicode_literals\r\n",
    "\r\n",
    "# tensorflow libraries\r\n",
    "import tensorflow as tf\r\n",
    "from tensorflow import keras\r\n",
    "from tensorflow.keras import layers\r\n",
    "import tensorflow_docs as tfdocs\r\n",
    "import tensorflow_docs.plots\r\n",
    "import tensorflow_docs.modeling\r\n",
    "\r\n",
    "# other utiles\r\n",
    "import matplotlib.pyplot as plt\r\n",
    "from  IPython import display\r\n",
    "import numpy as np\r\n",
    "import pandas as pd\r\n",
    "import seaborn as sns\r\n",
    "import pathlib"
   ],
   "outputs": [],
   "metadata": {}
  },
  {
   "cell_type": "code",
   "execution_count": 2,
   "source": [
    "# check the tensorflow version\r\n",
    "print(tf.__version__)"
   ],
   "outputs": [
    {
     "output_type": "stream",
     "name": "stdout",
     "text": [
      "2.1.0\n"
     ]
    }
   ],
   "metadata": {
    "tags": []
   }
  },
  {
   "cell_type": "markdown",
   "source": [
    "# Pre-Checking Dataframe\n"
   ],
   "metadata": {}
  },
  {
   "cell_type": "code",
   "execution_count": 3,
   "source": [
    "#------------------------------------------------------\r\n",
    "# read training dataset\r\n",
    "#------------------------------------------------------\r\n",
    "dir = r\"r'F:\\CON_TRENSYS_elasticFabric\\STUDY\\MachineLearning\\1p-length\\BRKT\"\r\n",
    "csv = dir+r\"\\Dataset-BRKT-1p-length-wholeRangeRes.csv\"\r\n",
    "dataset = pd.read_csv(csv)\r\n",
    "dataset\r\n"
   ],
   "outputs": [
    {
     "output_type": "execute_result",
     "data": {
      "text/plain": [
       "     Training      p1      p2      p3      p4      p5      p6          p7  \\\n",
       "0         NaN  127.59   29.43  149.30   53.62  111.53  149.39   69.515478   \n",
       "1         NaN  153.19   69.06   66.57   84.91  194.77  154.99  148.032445   \n",
       "2         NaN  151.50  174.84  177.37  120.31  188.06  199.50  160.773969   \n",
       "3         NaN  189.75  148.58  142.95  118.17   56.91   46.56  124.376269   \n",
       "4         NaN   87.77  155.67  108.44   76.53   67.59  102.73  189.059269   \n",
       "..        ...     ...     ...     ...     ...     ...     ...         ...   \n",
       "195       NaN  160.32  177.41  110.27  188.59  107.58  130.81  140.238703   \n",
       "196       NaN   44.60   88.44  144.47   74.81   87.20  194.92  150.173655   \n",
       "197       NaN   59.78   72.67  101.33  169.79   70.44   94.21   75.836254   \n",
       "198       NaN  196.76  183.33   53.54  126.40   52.45  124.80  151.664073   \n",
       "199       NaN   62.56   73.21   70.22  118.90  116.43  162.08   38.721355   \n",
       "\n",
       "             p8       H100  ...       H380       H400       H420       H440  \\\n",
       "0     30.406883  45.533109  ...  88.654437  88.862885  88.676377  88.505649   \n",
       "1     65.997396  44.299852  ...  84.753762  85.260058  85.499639  85.237228   \n",
       "2     33.634948  45.378346  ...  89.104591  89.368680  89.229710  89.310887   \n",
       "3    143.105107  45.318064  ...  86.137930  86.223853  86.137306  86.148126   \n",
       "4     79.364644  43.774187  ...  86.222947  86.570678  86.651966  86.434385   \n",
       "..          ...        ...  ...        ...        ...        ...        ...   \n",
       "195  104.424995  45.640396  ...  91.538919  91.682209  91.620483  91.535996   \n",
       "196   30.917086  39.024743  ...  82.243124  82.474193  82.461214  82.086048   \n",
       "197   67.177781  41.935674  ...  85.745605  86.225002  86.058900  85.749958   \n",
       "198  142.992047  44.895547  ...  89.410018  89.719656  89.598630  89.589162   \n",
       "199  150.952328  44.134588  ...  84.870486  84.960948  84.788604  84.620418   \n",
       "\n",
       "          H460       H480       H500   Intrusion    Area  region  \n",
       "0    87.352812  87.181031  86.459617  102.584045 -5890.0       3  \n",
       "1    84.009360  83.772648  82.836991  102.964600 -4350.0       2  \n",
       "2    88.260606  88.240718  87.613000  105.073791 -5880.0       3  \n",
       "3    85.061797  85.072588  84.434125  108.405090 -6840.0       3  \n",
       "4    85.174383  85.004546  84.168729  111.079529 -6970.0       3  \n",
       "..         ...        ...        ...         ...     ...     ...  \n",
       "195  90.425114  90.336602  89.632263  147.602173 -7440.0       3  \n",
       "196  80.781438  80.478360  79.657760   98.088074 -4540.0       2  \n",
       "197  84.484449  84.263231  83.327309  106.315064 -7890.0       3  \n",
       "198  88.458142  88.508819  87.799127   98.483093 -2540.0       2  \n",
       "199  83.435408  83.363667  82.572414  107.597656 -5230.0       3  \n",
       "\n",
       "[200 rows x 33 columns]"
      ],
      "text/html": [
       "<div>\n",
       "<style scoped>\n",
       "    .dataframe tbody tr th:only-of-type {\n",
       "        vertical-align: middle;\n",
       "    }\n",
       "\n",
       "    .dataframe tbody tr th {\n",
       "        vertical-align: top;\n",
       "    }\n",
       "\n",
       "    .dataframe thead th {\n",
       "        text-align: right;\n",
       "    }\n",
       "</style>\n",
       "<table border=\"1\" class=\"dataframe\">\n",
       "  <thead>\n",
       "    <tr style=\"text-align: right;\">\n",
       "      <th></th>\n",
       "      <th>Training</th>\n",
       "      <th>p1</th>\n",
       "      <th>p2</th>\n",
       "      <th>p3</th>\n",
       "      <th>p4</th>\n",
       "      <th>p5</th>\n",
       "      <th>p6</th>\n",
       "      <th>p7</th>\n",
       "      <th>p8</th>\n",
       "      <th>H100</th>\n",
       "      <th>...</th>\n",
       "      <th>H380</th>\n",
       "      <th>H400</th>\n",
       "      <th>H420</th>\n",
       "      <th>H440</th>\n",
       "      <th>H460</th>\n",
       "      <th>H480</th>\n",
       "      <th>H500</th>\n",
       "      <th>Intrusion</th>\n",
       "      <th>Area</th>\n",
       "      <th>region</th>\n",
       "    </tr>\n",
       "  </thead>\n",
       "  <tbody>\n",
       "    <tr>\n",
       "      <th>0</th>\n",
       "      <td>NaN</td>\n",
       "      <td>127.59</td>\n",
       "      <td>29.43</td>\n",
       "      <td>149.30</td>\n",
       "      <td>53.62</td>\n",
       "      <td>111.53</td>\n",
       "      <td>149.39</td>\n",
       "      <td>69.515478</td>\n",
       "      <td>30.406883</td>\n",
       "      <td>45.533109</td>\n",
       "      <td>...</td>\n",
       "      <td>88.654437</td>\n",
       "      <td>88.862885</td>\n",
       "      <td>88.676377</td>\n",
       "      <td>88.505649</td>\n",
       "      <td>87.352812</td>\n",
       "      <td>87.181031</td>\n",
       "      <td>86.459617</td>\n",
       "      <td>102.584045</td>\n",
       "      <td>-5890.0</td>\n",
       "      <td>3</td>\n",
       "    </tr>\n",
       "    <tr>\n",
       "      <th>1</th>\n",
       "      <td>NaN</td>\n",
       "      <td>153.19</td>\n",
       "      <td>69.06</td>\n",
       "      <td>66.57</td>\n",
       "      <td>84.91</td>\n",
       "      <td>194.77</td>\n",
       "      <td>154.99</td>\n",
       "      <td>148.032445</td>\n",
       "      <td>65.997396</td>\n",
       "      <td>44.299852</td>\n",
       "      <td>...</td>\n",
       "      <td>84.753762</td>\n",
       "      <td>85.260058</td>\n",
       "      <td>85.499639</td>\n",
       "      <td>85.237228</td>\n",
       "      <td>84.009360</td>\n",
       "      <td>83.772648</td>\n",
       "      <td>82.836991</td>\n",
       "      <td>102.964600</td>\n",
       "      <td>-4350.0</td>\n",
       "      <td>2</td>\n",
       "    </tr>\n",
       "    <tr>\n",
       "      <th>2</th>\n",
       "      <td>NaN</td>\n",
       "      <td>151.50</td>\n",
       "      <td>174.84</td>\n",
       "      <td>177.37</td>\n",
       "      <td>120.31</td>\n",
       "      <td>188.06</td>\n",
       "      <td>199.50</td>\n",
       "      <td>160.773969</td>\n",
       "      <td>33.634948</td>\n",
       "      <td>45.378346</td>\n",
       "      <td>...</td>\n",
       "      <td>89.104591</td>\n",
       "      <td>89.368680</td>\n",
       "      <td>89.229710</td>\n",
       "      <td>89.310887</td>\n",
       "      <td>88.260606</td>\n",
       "      <td>88.240718</td>\n",
       "      <td>87.613000</td>\n",
       "      <td>105.073791</td>\n",
       "      <td>-5880.0</td>\n",
       "      <td>3</td>\n",
       "    </tr>\n",
       "    <tr>\n",
       "      <th>3</th>\n",
       "      <td>NaN</td>\n",
       "      <td>189.75</td>\n",
       "      <td>148.58</td>\n",
       "      <td>142.95</td>\n",
       "      <td>118.17</td>\n",
       "      <td>56.91</td>\n",
       "      <td>46.56</td>\n",
       "      <td>124.376269</td>\n",
       "      <td>143.105107</td>\n",
       "      <td>45.318064</td>\n",
       "      <td>...</td>\n",
       "      <td>86.137930</td>\n",
       "      <td>86.223853</td>\n",
       "      <td>86.137306</td>\n",
       "      <td>86.148126</td>\n",
       "      <td>85.061797</td>\n",
       "      <td>85.072588</td>\n",
       "      <td>84.434125</td>\n",
       "      <td>108.405090</td>\n",
       "      <td>-6840.0</td>\n",
       "      <td>3</td>\n",
       "    </tr>\n",
       "    <tr>\n",
       "      <th>4</th>\n",
       "      <td>NaN</td>\n",
       "      <td>87.77</td>\n",
       "      <td>155.67</td>\n",
       "      <td>108.44</td>\n",
       "      <td>76.53</td>\n",
       "      <td>67.59</td>\n",
       "      <td>102.73</td>\n",
       "      <td>189.059269</td>\n",
       "      <td>79.364644</td>\n",
       "      <td>43.774187</td>\n",
       "      <td>...</td>\n",
       "      <td>86.222947</td>\n",
       "      <td>86.570678</td>\n",
       "      <td>86.651966</td>\n",
       "      <td>86.434385</td>\n",
       "      <td>85.174383</td>\n",
       "      <td>85.004546</td>\n",
       "      <td>84.168729</td>\n",
       "      <td>111.079529</td>\n",
       "      <td>-6970.0</td>\n",
       "      <td>3</td>\n",
       "    </tr>\n",
       "    <tr>\n",
       "      <th>...</th>\n",
       "      <td>...</td>\n",
       "      <td>...</td>\n",
       "      <td>...</td>\n",
       "      <td>...</td>\n",
       "      <td>...</td>\n",
       "      <td>...</td>\n",
       "      <td>...</td>\n",
       "      <td>...</td>\n",
       "      <td>...</td>\n",
       "      <td>...</td>\n",
       "      <td>...</td>\n",
       "      <td>...</td>\n",
       "      <td>...</td>\n",
       "      <td>...</td>\n",
       "      <td>...</td>\n",
       "      <td>...</td>\n",
       "      <td>...</td>\n",
       "      <td>...</td>\n",
       "      <td>...</td>\n",
       "      <td>...</td>\n",
       "      <td>...</td>\n",
       "    </tr>\n",
       "    <tr>\n",
       "      <th>195</th>\n",
       "      <td>NaN</td>\n",
       "      <td>160.32</td>\n",
       "      <td>177.41</td>\n",
       "      <td>110.27</td>\n",
       "      <td>188.59</td>\n",
       "      <td>107.58</td>\n",
       "      <td>130.81</td>\n",
       "      <td>140.238703</td>\n",
       "      <td>104.424995</td>\n",
       "      <td>45.640396</td>\n",
       "      <td>...</td>\n",
       "      <td>91.538919</td>\n",
       "      <td>91.682209</td>\n",
       "      <td>91.620483</td>\n",
       "      <td>91.535996</td>\n",
       "      <td>90.425114</td>\n",
       "      <td>90.336602</td>\n",
       "      <td>89.632263</td>\n",
       "      <td>147.602173</td>\n",
       "      <td>-7440.0</td>\n",
       "      <td>3</td>\n",
       "    </tr>\n",
       "    <tr>\n",
       "      <th>196</th>\n",
       "      <td>NaN</td>\n",
       "      <td>44.60</td>\n",
       "      <td>88.44</td>\n",
       "      <td>144.47</td>\n",
       "      <td>74.81</td>\n",
       "      <td>87.20</td>\n",
       "      <td>194.92</td>\n",
       "      <td>150.173655</td>\n",
       "      <td>30.917086</td>\n",
       "      <td>39.024743</td>\n",
       "      <td>...</td>\n",
       "      <td>82.243124</td>\n",
       "      <td>82.474193</td>\n",
       "      <td>82.461214</td>\n",
       "      <td>82.086048</td>\n",
       "      <td>80.781438</td>\n",
       "      <td>80.478360</td>\n",
       "      <td>79.657760</td>\n",
       "      <td>98.088074</td>\n",
       "      <td>-4540.0</td>\n",
       "      <td>2</td>\n",
       "    </tr>\n",
       "    <tr>\n",
       "      <th>197</th>\n",
       "      <td>NaN</td>\n",
       "      <td>59.78</td>\n",
       "      <td>72.67</td>\n",
       "      <td>101.33</td>\n",
       "      <td>169.79</td>\n",
       "      <td>70.44</td>\n",
       "      <td>94.21</td>\n",
       "      <td>75.836254</td>\n",
       "      <td>67.177781</td>\n",
       "      <td>41.935674</td>\n",
       "      <td>...</td>\n",
       "      <td>85.745605</td>\n",
       "      <td>86.225002</td>\n",
       "      <td>86.058900</td>\n",
       "      <td>85.749958</td>\n",
       "      <td>84.484449</td>\n",
       "      <td>84.263231</td>\n",
       "      <td>83.327309</td>\n",
       "      <td>106.315064</td>\n",
       "      <td>-7890.0</td>\n",
       "      <td>3</td>\n",
       "    </tr>\n",
       "    <tr>\n",
       "      <th>198</th>\n",
       "      <td>NaN</td>\n",
       "      <td>196.76</td>\n",
       "      <td>183.33</td>\n",
       "      <td>53.54</td>\n",
       "      <td>126.40</td>\n",
       "      <td>52.45</td>\n",
       "      <td>124.80</td>\n",
       "      <td>151.664073</td>\n",
       "      <td>142.992047</td>\n",
       "      <td>44.895547</td>\n",
       "      <td>...</td>\n",
       "      <td>89.410018</td>\n",
       "      <td>89.719656</td>\n",
       "      <td>89.598630</td>\n",
       "      <td>89.589162</td>\n",
       "      <td>88.458142</td>\n",
       "      <td>88.508819</td>\n",
       "      <td>87.799127</td>\n",
       "      <td>98.483093</td>\n",
       "      <td>-2540.0</td>\n",
       "      <td>2</td>\n",
       "    </tr>\n",
       "    <tr>\n",
       "      <th>199</th>\n",
       "      <td>NaN</td>\n",
       "      <td>62.56</td>\n",
       "      <td>73.21</td>\n",
       "      <td>70.22</td>\n",
       "      <td>118.90</td>\n",
       "      <td>116.43</td>\n",
       "      <td>162.08</td>\n",
       "      <td>38.721355</td>\n",
       "      <td>150.952328</td>\n",
       "      <td>44.134588</td>\n",
       "      <td>...</td>\n",
       "      <td>84.870486</td>\n",
       "      <td>84.960948</td>\n",
       "      <td>84.788604</td>\n",
       "      <td>84.620418</td>\n",
       "      <td>83.435408</td>\n",
       "      <td>83.363667</td>\n",
       "      <td>82.572414</td>\n",
       "      <td>107.597656</td>\n",
       "      <td>-5230.0</td>\n",
       "      <td>3</td>\n",
       "    </tr>\n",
       "  </tbody>\n",
       "</table>\n",
       "<p>200 rows × 33 columns</p>\n",
       "</div>"
      ]
     },
     "metadata": {},
     "execution_count": 3
    }
   ],
   "metadata": {
    "tags": []
   }
  },
  {
   "cell_type": "code",
   "execution_count": 30,
   "source": [
    "# read training dataset\r\n",
    "dataset_org = pd.read_csv(r'F:\\CON_TRENSYS_elasticFabric\\STUDY\\MachineLearning\\1p-length\\BRKT\\Dataset-BRKT-1p-length-wholeRangeRes.csv')\r\n",
    "\r\n",
    "# make an instance for dataset\r\n",
    "dataset = dataset_org\r\n",
    "# extract the columns from the dataset\r\n",
    "column_names = dataset.columns\r\n",
    "\r\n",
    "# lst_max = (dataset.max(0).tail(5))\r\n",
    "# lst_min = (dataset.min(0).tail(5))\r\n",
    "\r\n",
    "# min_Area = lst_min[0]\r\n",
    "# max_Area = lst_max[0]\r\n",
    "\r\n",
    "# min_Head = lst_min[1] \r\n",
    "# max_Head = lst_max[1]\r\n",
    "\r\n",
    "# min_Shou = lst_min[2]\r\n",
    "# max_Shou = lst_max[2]\r\n",
    "\r\n",
    "# min_Abdo = lst_min[3]\r\n",
    "# max_Abdo = lst_max[3]\r\n",
    "\r\n",
    "# min_Pelv = lst_min[4]\r\n",
    "# max_Pelv = lst_max[4]\r\n",
    "\r\n",
    "dataset.head()"
   ],
   "outputs": [
    {
     "data": {
      "text/plain": [
       "   length  ild25 (predicted)  ild45 (predicted)\n",
       "0     0.0          46.469123          68.752217\n",
       "1     0.1          46.485011          68.773715\n",
       "2     0.2          46.500900          68.795214\n",
       "3     0.3          46.516789          68.816712\n",
       "4     0.4          46.532678          68.838211"
      ],
      "text/html": [
       "<div>\n",
       "<style scoped>\n",
       "    .dataframe tbody tr th:only-of-type {\n",
       "        vertical-align: middle;\n",
       "    }\n",
       "\n",
       "    .dataframe tbody tr th {\n",
       "        vertical-align: top;\n",
       "    }\n",
       "\n",
       "    .dataframe thead th {\n",
       "        text-align: right;\n",
       "    }\n",
       "</style>\n",
       "<table border=\"1\" class=\"dataframe\">\n",
       "  <thead>\n",
       "    <tr style=\"text-align: right;\">\n",
       "      <th></th>\n",
       "      <th>length</th>\n",
       "      <th>ild25 (predicted)</th>\n",
       "      <th>ild45 (predicted)</th>\n",
       "    </tr>\n",
       "  </thead>\n",
       "  <tbody>\n",
       "    <tr>\n",
       "      <th>0</th>\n",
       "      <td>0.0</td>\n",
       "      <td>46.469123</td>\n",
       "      <td>68.752217</td>\n",
       "    </tr>\n",
       "    <tr>\n",
       "      <th>1</th>\n",
       "      <td>0.1</td>\n",
       "      <td>46.485011</td>\n",
       "      <td>68.773715</td>\n",
       "    </tr>\n",
       "    <tr>\n",
       "      <th>2</th>\n",
       "      <td>0.2</td>\n",
       "      <td>46.500900</td>\n",
       "      <td>68.795214</td>\n",
       "    </tr>\n",
       "    <tr>\n",
       "      <th>3</th>\n",
       "      <td>0.3</td>\n",
       "      <td>46.516789</td>\n",
       "      <td>68.816712</td>\n",
       "    </tr>\n",
       "    <tr>\n",
       "      <th>4</th>\n",
       "      <td>0.4</td>\n",
       "      <td>46.532678</td>\n",
       "      <td>68.838211</td>\n",
       "    </tr>\n",
       "  </tbody>\n",
       "</table>\n",
       "</div>"
      ]
     },
     "metadata": {},
     "output_type": "display_data"
    }
   ],
   "metadata": {
    "tags": []
   }
  },
  {
   "cell_type": "code",
   "execution_count": 4,
   "source": [
    "# extract the columns from the dataset\n",
    "column_names = dataset.columns\n",
    "print(\"parameters      : {}\".format(column_names[1:9]))\n",
    "print(\"output_curves   : {}\".format(column_names[9:30]))\n",
    "print(\"output_Intrusion: {}\".format(column_names[30]))\n",
    "print(\"output_Area     : {}\".format(column_names[31]))\n",
    "print(\"output_region   : {}\".format(column_names[32]))\n"
   ],
   "outputs": [
    {
     "output_type": "stream",
     "name": "stdout",
     "text": [
      "parameters      : Index(['p1', 'p2', 'p3', 'p4', 'p5', 'p6', 'p7', 'p8'], dtype='object')\n",
      "output_curves   : Index(['H100', 'H120', 'H140', 'H160', 'H180', 'H200', 'H220', 'H240', 'H260',\n",
      "       'H280', 'H300', 'H320', 'H340', 'H360', 'H380', 'H400', 'H420', 'H440',\n",
      "       'H460', 'H480', 'H500'],\n",
      "      dtype='object')\n",
      "output_Intrusion: Intrusion\n",
      "output_Area     : Area\n",
      "output_region   : region\n"
     ]
    }
   ],
   "metadata": {
    "tags": []
   }
  },
  {
   "cell_type": "code",
   "execution_count": 5,
   "source": [
    "# pop of first column: train Maker\n",
    "dataset.pop(column_names[0])\n",
    "dataset.head()\n"
   ],
   "outputs": [
    {
     "output_type": "execute_result",
     "data": {
      "text/plain": [
       "       p1      p2      p3      p4      p5      p6          p7          p8  \\\n",
       "0  127.59   29.43  149.30   53.62  111.53  149.39   69.515478   30.406883   \n",
       "1  153.19   69.06   66.57   84.91  194.77  154.99  148.032445   65.997396   \n",
       "2  151.50  174.84  177.37  120.31  188.06  199.50  160.773969   33.634948   \n",
       "3  189.75  148.58  142.95  118.17   56.91   46.56  124.376269  143.105107   \n",
       "4   87.77  155.67  108.44   76.53   67.59  102.73  189.059269   79.364644   \n",
       "\n",
       "        H100       H120  ...       H380       H400       H420       H440  \\\n",
       "0  45.533109  52.202396  ...  88.654437  88.862885  88.676377  88.505649   \n",
       "1  44.299852  50.208966  ...  84.753762  85.260058  85.499639  85.237228   \n",
       "2  45.378346  52.229768  ...  89.104591  89.368680  89.229710  89.310887   \n",
       "3  45.318064  51.088673  ...  86.137930  86.223853  86.137306  86.148126   \n",
       "4  43.774187  49.395367  ...  86.222947  86.570678  86.651966  86.434385   \n",
       "\n",
       "        H460       H480       H500   Intrusion    Area  region  \n",
       "0  87.352812  87.181031  86.459617  102.584045 -5890.0       3  \n",
       "1  84.009360  83.772648  82.836991  102.964600 -4350.0       2  \n",
       "2  88.260606  88.240718  87.613000  105.073791 -5880.0       3  \n",
       "3  85.061797  85.072588  84.434125  108.405090 -6840.0       3  \n",
       "4  85.174383  85.004546  84.168729  111.079529 -6970.0       3  \n",
       "\n",
       "[5 rows x 32 columns]"
      ],
      "text/html": [
       "<div>\n",
       "<style scoped>\n",
       "    .dataframe tbody tr th:only-of-type {\n",
       "        vertical-align: middle;\n",
       "    }\n",
       "\n",
       "    .dataframe tbody tr th {\n",
       "        vertical-align: top;\n",
       "    }\n",
       "\n",
       "    .dataframe thead th {\n",
       "        text-align: right;\n",
       "    }\n",
       "</style>\n",
       "<table border=\"1\" class=\"dataframe\">\n",
       "  <thead>\n",
       "    <tr style=\"text-align: right;\">\n",
       "      <th></th>\n",
       "      <th>p1</th>\n",
       "      <th>p2</th>\n",
       "      <th>p3</th>\n",
       "      <th>p4</th>\n",
       "      <th>p5</th>\n",
       "      <th>p6</th>\n",
       "      <th>p7</th>\n",
       "      <th>p8</th>\n",
       "      <th>H100</th>\n",
       "      <th>H120</th>\n",
       "      <th>...</th>\n",
       "      <th>H380</th>\n",
       "      <th>H400</th>\n",
       "      <th>H420</th>\n",
       "      <th>H440</th>\n",
       "      <th>H460</th>\n",
       "      <th>H480</th>\n",
       "      <th>H500</th>\n",
       "      <th>Intrusion</th>\n",
       "      <th>Area</th>\n",
       "      <th>region</th>\n",
       "    </tr>\n",
       "  </thead>\n",
       "  <tbody>\n",
       "    <tr>\n",
       "      <th>0</th>\n",
       "      <td>127.59</td>\n",
       "      <td>29.43</td>\n",
       "      <td>149.30</td>\n",
       "      <td>53.62</td>\n",
       "      <td>111.53</td>\n",
       "      <td>149.39</td>\n",
       "      <td>69.515478</td>\n",
       "      <td>30.406883</td>\n",
       "      <td>45.533109</td>\n",
       "      <td>52.202396</td>\n",
       "      <td>...</td>\n",
       "      <td>88.654437</td>\n",
       "      <td>88.862885</td>\n",
       "      <td>88.676377</td>\n",
       "      <td>88.505649</td>\n",
       "      <td>87.352812</td>\n",
       "      <td>87.181031</td>\n",
       "      <td>86.459617</td>\n",
       "      <td>102.584045</td>\n",
       "      <td>-5890.0</td>\n",
       "      <td>3</td>\n",
       "    </tr>\n",
       "    <tr>\n",
       "      <th>1</th>\n",
       "      <td>153.19</td>\n",
       "      <td>69.06</td>\n",
       "      <td>66.57</td>\n",
       "      <td>84.91</td>\n",
       "      <td>194.77</td>\n",
       "      <td>154.99</td>\n",
       "      <td>148.032445</td>\n",
       "      <td>65.997396</td>\n",
       "      <td>44.299852</td>\n",
       "      <td>50.208966</td>\n",
       "      <td>...</td>\n",
       "      <td>84.753762</td>\n",
       "      <td>85.260058</td>\n",
       "      <td>85.499639</td>\n",
       "      <td>85.237228</td>\n",
       "      <td>84.009360</td>\n",
       "      <td>83.772648</td>\n",
       "      <td>82.836991</td>\n",
       "      <td>102.964600</td>\n",
       "      <td>-4350.0</td>\n",
       "      <td>2</td>\n",
       "    </tr>\n",
       "    <tr>\n",
       "      <th>2</th>\n",
       "      <td>151.50</td>\n",
       "      <td>174.84</td>\n",
       "      <td>177.37</td>\n",
       "      <td>120.31</td>\n",
       "      <td>188.06</td>\n",
       "      <td>199.50</td>\n",
       "      <td>160.773969</td>\n",
       "      <td>33.634948</td>\n",
       "      <td>45.378346</td>\n",
       "      <td>52.229768</td>\n",
       "      <td>...</td>\n",
       "      <td>89.104591</td>\n",
       "      <td>89.368680</td>\n",
       "      <td>89.229710</td>\n",
       "      <td>89.310887</td>\n",
       "      <td>88.260606</td>\n",
       "      <td>88.240718</td>\n",
       "      <td>87.613000</td>\n",
       "      <td>105.073791</td>\n",
       "      <td>-5880.0</td>\n",
       "      <td>3</td>\n",
       "    </tr>\n",
       "    <tr>\n",
       "      <th>3</th>\n",
       "      <td>189.75</td>\n",
       "      <td>148.58</td>\n",
       "      <td>142.95</td>\n",
       "      <td>118.17</td>\n",
       "      <td>56.91</td>\n",
       "      <td>46.56</td>\n",
       "      <td>124.376269</td>\n",
       "      <td>143.105107</td>\n",
       "      <td>45.318064</td>\n",
       "      <td>51.088673</td>\n",
       "      <td>...</td>\n",
       "      <td>86.137930</td>\n",
       "      <td>86.223853</td>\n",
       "      <td>86.137306</td>\n",
       "      <td>86.148126</td>\n",
       "      <td>85.061797</td>\n",
       "      <td>85.072588</td>\n",
       "      <td>84.434125</td>\n",
       "      <td>108.405090</td>\n",
       "      <td>-6840.0</td>\n",
       "      <td>3</td>\n",
       "    </tr>\n",
       "    <tr>\n",
       "      <th>4</th>\n",
       "      <td>87.77</td>\n",
       "      <td>155.67</td>\n",
       "      <td>108.44</td>\n",
       "      <td>76.53</td>\n",
       "      <td>67.59</td>\n",
       "      <td>102.73</td>\n",
       "      <td>189.059269</td>\n",
       "      <td>79.364644</td>\n",
       "      <td>43.774187</td>\n",
       "      <td>49.395367</td>\n",
       "      <td>...</td>\n",
       "      <td>86.222947</td>\n",
       "      <td>86.570678</td>\n",
       "      <td>86.651966</td>\n",
       "      <td>86.434385</td>\n",
       "      <td>85.174383</td>\n",
       "      <td>85.004546</td>\n",
       "      <td>84.168729</td>\n",
       "      <td>111.079529</td>\n",
       "      <td>-6970.0</td>\n",
       "      <td>3</td>\n",
       "    </tr>\n",
       "  </tbody>\n",
       "</table>\n",
       "<p>5 rows × 32 columns</p>\n",
       "</div>"
      ]
     },
     "metadata": {},
     "execution_count": 5
    }
   ],
   "metadata": {
    "tags": []
   }
  },
  {
   "cell_type": "code",
   "execution_count": 6,
   "source": [
    "#seperate data as region\n",
    "dataset_2 = dataset[dataset['region']==0]\n",
    "dataset_3 = dataset[dataset['region']==1]\n"
   ],
   "outputs": [],
   "metadata": {}
  },
  {
   "cell_type": "code",
   "execution_count": 7,
   "source": [
    "# dataset_3[column_names[1]]"
   ],
   "outputs": [],
   "metadata": {}
  },
  {
   "cell_type": "code",
   "execution_count": 8,
   "source": [
    "# Checking: min/max for each dataset\n",
    "lst_max = (dataset.max(0))\n",
    "lst_min = (dataset.min(0))\n",
    "\n",
    "lst_max_2 = (dataset_2.max(0))\n",
    "lst_min_2 = (dataset_2.min(0))\n",
    "\n",
    "lst_max_3 = (dataset_3.max(0))\n",
    "lst_min_3 = (dataset_3.min(0))\n",
    "\n",
    "print(\"max={}, min={} of first Column\".format(lst_max_3[-3],lst_min_3[-3] ))"
   ],
   "outputs": [
    {
     "output_type": "stream",
     "name": "stdout",
     "text": [
      "max=104.31896970000001, min=98.76605225 of first Column\n"
     ]
    }
   ],
   "metadata": {
    "tags": []
   }
  },
  {
   "cell_type": "markdown",
   "source": [
    "# M/L model"
   ],
   "metadata": {}
  },
  {
   "cell_type": "code",
   "execution_count": 9,
   "source": [
    "# Define functions\n",
    "\n",
    "def norm(x, train_stats):\n",
    "  stats=train_stats\n",
    "  return (x - stats['mean']) / stats['std']\n",
    "\n",
    "model = None\n",
    "def build_model(iunit, ounit, train_dataset,activation=\"sigmoid\",loss='binary_crossentropy',metrics=['accuracy']):\n",
    "    model = keras.Sequential([\n",
    "      layers.Dense(iunit, activation='relu', \n",
    "                   kernel_regularizer=keras.regularizers.l2(0.01), \n",
    "                   input_shape=[len(train_dataset.keys())]),\n",
    "      layers.Dense(iunit, activation='relu', \n",
    "                   kernel_regularizer=keras.regularizers.l2(0.001)\n",
    "                   ), \n",
    "      # layers.Dense(iunit, activation='relu', \n",
    "      #              kernel_regularizer=keras.regularizers.l2(0.001)\n",
    "      #              ),                     \n",
    "      # layers.Dense(iunit, activation='relu', \n",
    "      #              kernel_regularizer=keras.regularizers.l2(0.001)\n",
    "      #              ),                    \n",
    "      layers.Dense(ounit,activation=activation)\n",
    "      ])\n",
    "    # optimizer = tf.keras.optimizers.RMSprop(lr=0.01, rho=0.9, epsilon=None, decay=0.0)\n",
    "    #optimizer = tf.keras.optimizers.Adagrad(lr=0.01, epsilon=None, decay=0.0)\n",
    "    #optimizer = tf.keras.optimizers.SGD(lr=0.01, momentum=0.0, decay=0.0, nesterov=False)\n",
    "    #optimizer = tf.keras.optimizers.Adadelta(lr=1.0, rho=0.95, epsilon=None, decay=0.0)\n",
    "    optimizer = tf.keras.optimizers.Adam(lr=0.001, beta_1=0.9, beta_2=0.999, epsilon=None, decay=0.0, amsgrad=False)\n",
    "    #optimizer = tf.keras.optimizers.Adamax(lr=0.002, beta_1=0.9, beta_2=0.999, epsilon=None, decay=0.0)\n",
    "    #optimizer = tf.keras.optimizers.Nadam(lr=0.002, beta_1=0.9, beta_2=0.999, epsilon=None, schedule_decay=0.004)\n",
    "    \n",
    "    model.compile(\n",
    "      loss=loss, #'mse', #'binary_crossentropy'\n",
    "      optimizer=optimizer,\n",
    "      # 'mae', 'mse', 'mape','accuracy'\n",
    "      metrics=metrics)\n",
    "\n",
    "    return model  \n",
    "\n",
    "# Training\n",
    "def training(EPOCHS=1000, model=model, normed_train_data=None, train_labels=None,verbose=0,monitor='accuracy',patience=5 ):\n",
    "    model=model\n",
    "    history = model.fit(\n",
    "                          normed_train_data, train_labels,\n",
    "                          epochs=EPOCHS, validation_split = 0.2, verbose=verbose,\n",
    "                          callbacks=[tfdocs.modeling.EpochDots()]\n",
    "                          # callbacks=[keras.callbacks.TensorBoard(log_dir=dir+r'\\logs')]\n",
    "                          )\n",
    "    print(\"% : Training : end\", model) \n",
    "    early_stop = keras.callbacks.EarlyStopping(monitor=monitor, patience=patience) #loss,accuracy,val_loss,val_accuracy\n",
    "    early_history = model.fit(normed_train_data, train_labels, \n",
    "                    epochs=EPOCHS, validation_split = 0.2, verbose=0, \n",
    "                    callbacks=[early_stop, tfdocs.modeling.EpochDots()]\n",
    "                    # callbacks=[keras.callbacks.TensorBoard(log_dir=dir+r'\\logs')]\n",
    "                    )  \n",
    "\n",
    "    return model, history, early_history   \n",
    "                              "
   ],
   "outputs": [],
   "metadata": {}
  },
  {
   "cell_type": "code",
   "execution_count": 10,
   "source": [
    "train_dataset = dataset.sample(frac=0.7)\n",
    "test__dataset  = dataset.drop(train_dataset.index)\n",
    "\n",
    "train_dataset_2 = dataset_2.sample(frac=0.7)\n",
    "test__dataset_2  = dataset_2.drop(train_dataset_2.index)\n",
    "\n",
    "train_dataset_3 = dataset_3.sample(frac=0.7)\n",
    "test__dataset_3  = dataset_3.drop(train_dataset_3.index)\n",
    "\n",
    "\n"
   ],
   "outputs": [],
   "metadata": {
    "tags": []
   }
  },
  {
   "cell_type": "code",
   "execution_count": 11,
   "source": [
    "\n",
    "# train_dataset_3"
   ],
   "outputs": [],
   "metadata": {}
  },
  {
   "cell_type": "code",
   "execution_count": 12,
   "source": [
    "# # make an instance for dataframe as \"train_stats\"\n",
    "train_stats = train_dataset.describe()\n",
    "\n",
    "train_stats_2 = train_dataset_2.describe()\n",
    "train_stats_3 = train_dataset_3.describe()\n",
    "\n",
    "# train_stats_3.head()\n"
   ],
   "outputs": [],
   "metadata": {}
  },
  {
   "cell_type": "code",
   "execution_count": 13,
   "source": [
    "# # delete \"Area\" column from \"train_stats\"\n",
    "for col in column_names[9:33]:\n",
    "    train_stats.pop(col)\n",
    "    train_stats_2.pop(col)\n",
    "    train_stats_3.pop(col)\n",
    "\n",
    "train_stats   = train_stats.transpose()    \n",
    "train_stats_2 = train_stats_2.transpose()\n",
    "train_stats_3 = train_stats_3.transpose()\n",
    "\n"
   ],
   "outputs": [],
   "metadata": {}
  },
  {
   "cell_type": "code",
   "execution_count": 14,
   "source": [
    "# train_stats_3\n",
    "train_dataset.head()\n",
    "# label = train_dataset.loc[:,'Intrusion']\n",
    "# label"
   ],
   "outputs": [
    {
     "output_type": "execute_result",
     "data": {
      "text/plain": [
       "         p1      p2      p3      p4      p5      p6          p7          p8  \\\n",
       "125  115.12  195.74  198.58   49.78   42.72  123.70  199.132925   46.964711   \n",
       "123   36.25  132.10  189.32  180.19   84.23   88.41  182.261843  139.215301   \n",
       "50   137.83  144.59  158.91   67.35  101.59  135.73  191.388497   37.470938   \n",
       "57   195.10   69.76   83.53  137.95  139.09  137.70   67.842092  178.605676   \n",
       "19   115.39   30.80  178.71  194.83  172.74  101.34  103.212152  186.768376   \n",
       "\n",
       "          H100       H120  ...       H380       H400       H420       H440  \\\n",
       "125  45.680488  51.297157  ...  85.112585  85.241096  85.309228  85.460459   \n",
       "123  43.732774  49.617831  ...  86.321152  86.160572  86.163200  86.093673   \n",
       "50   45.564266  52.320024  ...  87.195500  87.415239  87.426885  87.383565   \n",
       "57   44.513816  50.383278  ...  87.762674  87.525616  87.338795  87.291703   \n",
       "19   44.291454  50.303699  ...  89.135411  88.806807  88.488171  88.497853   \n",
       "\n",
       "          H460       H480       H500   Intrusion    Area  region  \n",
       "125  84.495954  84.549605  84.105249  105.032715 -7300.0       3  \n",
       "123  85.037830  85.052992  84.579535   98.438660 -1840.0       2  \n",
       "50   86.269757  86.163326  85.487665  102.725098 -5910.0       3  \n",
       "57   86.170402  86.302278  85.620526  101.343994 -3900.0       3  \n",
       "19   87.455615  87.541966  87.005113   99.085144 -4280.0       3  \n",
       "\n",
       "[5 rows x 32 columns]"
      ],
      "text/html": [
       "<div>\n",
       "<style scoped>\n",
       "    .dataframe tbody tr th:only-of-type {\n",
       "        vertical-align: middle;\n",
       "    }\n",
       "\n",
       "    .dataframe tbody tr th {\n",
       "        vertical-align: top;\n",
       "    }\n",
       "\n",
       "    .dataframe thead th {\n",
       "        text-align: right;\n",
       "    }\n",
       "</style>\n",
       "<table border=\"1\" class=\"dataframe\">\n",
       "  <thead>\n",
       "    <tr style=\"text-align: right;\">\n",
       "      <th></th>\n",
       "      <th>p1</th>\n",
       "      <th>p2</th>\n",
       "      <th>p3</th>\n",
       "      <th>p4</th>\n",
       "      <th>p5</th>\n",
       "      <th>p6</th>\n",
       "      <th>p7</th>\n",
       "      <th>p8</th>\n",
       "      <th>H100</th>\n",
       "      <th>H120</th>\n",
       "      <th>...</th>\n",
       "      <th>H380</th>\n",
       "      <th>H400</th>\n",
       "      <th>H420</th>\n",
       "      <th>H440</th>\n",
       "      <th>H460</th>\n",
       "      <th>H480</th>\n",
       "      <th>H500</th>\n",
       "      <th>Intrusion</th>\n",
       "      <th>Area</th>\n",
       "      <th>region</th>\n",
       "    </tr>\n",
       "  </thead>\n",
       "  <tbody>\n",
       "    <tr>\n",
       "      <th>125</th>\n",
       "      <td>115.12</td>\n",
       "      <td>195.74</td>\n",
       "      <td>198.58</td>\n",
       "      <td>49.78</td>\n",
       "      <td>42.72</td>\n",
       "      <td>123.70</td>\n",
       "      <td>199.132925</td>\n",
       "      <td>46.964711</td>\n",
       "      <td>45.680488</td>\n",
       "      <td>51.297157</td>\n",
       "      <td>...</td>\n",
       "      <td>85.112585</td>\n",
       "      <td>85.241096</td>\n",
       "      <td>85.309228</td>\n",
       "      <td>85.460459</td>\n",
       "      <td>84.495954</td>\n",
       "      <td>84.549605</td>\n",
       "      <td>84.105249</td>\n",
       "      <td>105.032715</td>\n",
       "      <td>-7300.0</td>\n",
       "      <td>3</td>\n",
       "    </tr>\n",
       "    <tr>\n",
       "      <th>123</th>\n",
       "      <td>36.25</td>\n",
       "      <td>132.10</td>\n",
       "      <td>189.32</td>\n",
       "      <td>180.19</td>\n",
       "      <td>84.23</td>\n",
       "      <td>88.41</td>\n",
       "      <td>182.261843</td>\n",
       "      <td>139.215301</td>\n",
       "      <td>43.732774</td>\n",
       "      <td>49.617831</td>\n",
       "      <td>...</td>\n",
       "      <td>86.321152</td>\n",
       "      <td>86.160572</td>\n",
       "      <td>86.163200</td>\n",
       "      <td>86.093673</td>\n",
       "      <td>85.037830</td>\n",
       "      <td>85.052992</td>\n",
       "      <td>84.579535</td>\n",
       "      <td>98.438660</td>\n",
       "      <td>-1840.0</td>\n",
       "      <td>2</td>\n",
       "    </tr>\n",
       "    <tr>\n",
       "      <th>50</th>\n",
       "      <td>137.83</td>\n",
       "      <td>144.59</td>\n",
       "      <td>158.91</td>\n",
       "      <td>67.35</td>\n",
       "      <td>101.59</td>\n",
       "      <td>135.73</td>\n",
       "      <td>191.388497</td>\n",
       "      <td>37.470938</td>\n",
       "      <td>45.564266</td>\n",
       "      <td>52.320024</td>\n",
       "      <td>...</td>\n",
       "      <td>87.195500</td>\n",
       "      <td>87.415239</td>\n",
       "      <td>87.426885</td>\n",
       "      <td>87.383565</td>\n",
       "      <td>86.269757</td>\n",
       "      <td>86.163326</td>\n",
       "      <td>85.487665</td>\n",
       "      <td>102.725098</td>\n",
       "      <td>-5910.0</td>\n",
       "      <td>3</td>\n",
       "    </tr>\n",
       "    <tr>\n",
       "      <th>57</th>\n",
       "      <td>195.10</td>\n",
       "      <td>69.76</td>\n",
       "      <td>83.53</td>\n",
       "      <td>137.95</td>\n",
       "      <td>139.09</td>\n",
       "      <td>137.70</td>\n",
       "      <td>67.842092</td>\n",
       "      <td>178.605676</td>\n",
       "      <td>44.513816</td>\n",
       "      <td>50.383278</td>\n",
       "      <td>...</td>\n",
       "      <td>87.762674</td>\n",
       "      <td>87.525616</td>\n",
       "      <td>87.338795</td>\n",
       "      <td>87.291703</td>\n",
       "      <td>86.170402</td>\n",
       "      <td>86.302278</td>\n",
       "      <td>85.620526</td>\n",
       "      <td>101.343994</td>\n",
       "      <td>-3900.0</td>\n",
       "      <td>3</td>\n",
       "    </tr>\n",
       "    <tr>\n",
       "      <th>19</th>\n",
       "      <td>115.39</td>\n",
       "      <td>30.80</td>\n",
       "      <td>178.71</td>\n",
       "      <td>194.83</td>\n",
       "      <td>172.74</td>\n",
       "      <td>101.34</td>\n",
       "      <td>103.212152</td>\n",
       "      <td>186.768376</td>\n",
       "      <td>44.291454</td>\n",
       "      <td>50.303699</td>\n",
       "      <td>...</td>\n",
       "      <td>89.135411</td>\n",
       "      <td>88.806807</td>\n",
       "      <td>88.488171</td>\n",
       "      <td>88.497853</td>\n",
       "      <td>87.455615</td>\n",
       "      <td>87.541966</td>\n",
       "      <td>87.005113</td>\n",
       "      <td>99.085144</td>\n",
       "      <td>-4280.0</td>\n",
       "      <td>3</td>\n",
       "    </tr>\n",
       "  </tbody>\n",
       "</table>\n",
       "<p>5 rows × 32 columns</p>\n",
       "</div>"
      ]
     },
     "metadata": {},
     "execution_count": 14
    }
   ],
   "metadata": {}
  },
  {
   "cell_type": "code",
   "execution_count": null,
   "source": [],
   "outputs": [],
   "metadata": {}
  },
  {
   "cell_type": "code",
   "execution_count": 15,
   "source": [
    "# make instances for dataset without the QoI\n",
    "train_labels_Reg    = train_dataset.loc[:,'region']\n",
    "test__labels_Reg    = test__dataset.loc[:,'region']\n",
    "train_labels_Intr   = train_dataset.loc[:,'Intrusion']\n",
    "test__labels_Intr   = test__dataset.loc[:,'Intrusion']\n",
    "train_labels_Area   = train_dataset.loc[:,'Area']\n",
    "test__labels_Area   = test__dataset.loc[:,'Area']\n",
    "\n",
    "train_labels_Intr_2 = train_dataset_2.loc[:,'Intrusion']\n",
    "test__labels_Intr_2 = test__dataset_2.loc[:,'Intrusion']\n",
    "train_labels_Area_2 = train_dataset_2.loc[:,'Area']\n",
    "test__labels_Area_2 = test__dataset_2.loc[:,'Area']\n",
    "\n",
    "train_labels_Intr_3 = train_dataset_3.loc[:,'Intrusion']\n",
    "test__labels_Intr_3 = test__dataset_3.loc[:,'Intrusion']\n",
    "train_labels_Area_3 = train_dataset_3.loc[:,'Area']\n",
    "test__labels_Area_3 = test__dataset_3.loc[:,'Area']\n",
    "\n",
    "for i in range(9,33):    \n",
    "    train_dataset.pop(column_names[i])\n",
    "    test__dataset.pop(column_names[i])\n",
    "    train_dataset_2.pop(column_names[i])\n",
    "    test__dataset_2.pop(column_names[i])\n",
    "    train_dataset_3.pop(column_names[i])\n",
    "    test__dataset_3.pop(column_names[i])        \n",
    "\n",
    "normed_train_data   = norm( train_dataset,  train_stats   )\n",
    "normed_test__data   = norm( test__dataset,  train_stats   )\n",
    "normed_train_data_2 = norm( train_dataset_2,train_stats_2 )\n",
    "normed_test__data_2 = norm( test__dataset_2,train_stats_2 )\n",
    "normed_train_data_3 = norm( train_dataset_3,train_stats_3 )\n",
    "normed_test__data_3 = norm( test__dataset_3,train_stats_3 )  \n",
    "\n",
    "\n"
   ],
   "outputs": [],
   "metadata": {
    "tags": []
   }
  },
  {
   "cell_type": "code",
   "execution_count": 16,
   "source": [
    "# train_dataset_2.head()"
   ],
   "outputs": [],
   "metadata": {
    "tags": []
   }
  },
  {
   "cell_type": "markdown",
   "source": [
    "## M/L for region"
   ],
   "metadata": {}
  },
  {
   "cell_type": "code",
   "execution_count": 17,
   "source": [
    "from tensorflow.keras.utils import multi_gpu_model, to_categorical\n",
    "train_labels_Reg = to_categorical(train_labels_Reg)"
   ],
   "outputs": [],
   "metadata": {}
  },
  {
   "cell_type": "code",
   "execution_count": 18,
   "source": [
    "# # tensorboard\n",
    "# # %load_ext tensorboard\n",
    "# %reload_ext tensorboard\n",
    "# %tensorboard --logdir=dir+r\"\\logs\" --port 6060"
   ],
   "outputs": [],
   "metadata": {
    "tags": []
   }
  },
  {
   "cell_type": "code",
   "execution_count": 19,
   "source": [
    "# # create the model instance \n",
    "EPOCHS = 1000\n",
    "nPar = 8\n",
    "nOut = 2\n",
    "iunit = nPar * nOut\n",
    "ounit = nOut\n",
    "print(\"nPar: {}, nOut: {}, iunit: {}, ounit: {}\".format(nPar,nOut,iunit,ounit))\n",
    "\n",
    "# from tensorflow.keras.utils import multi_gpu_model, to_categorical\n",
    "# train_labels_Reg = to_categorical(train_labels_Reg)\n",
    "model_Reg = build_model(iunit, ounit, train_dataset,activation='sigmoid',loss='mse',metrics=['accuracy'])\n",
    "model_Reg, model_Reg_history, model_Reg_early_history = training(EPOCHS, model_Reg, normed_train_data, train_labels_Reg, verbose=0, monitor='accuracy', patience=5)\n",
    "model_Reg.save(dir+r'\\trainingdata_Intr_for_Zone_Reg.h5')"
   ],
   "outputs": [
    {
     "output_type": "stream",
     "name": "stdout",
     "text": [
      "nPar: 8, nOut: 2, iunit: 16, ounit: 2\n"
     ]
    },
    {
     "output_type": "error",
     "ename": "ValueError",
     "evalue": "A target array with shape (140, 5) was passed for an output of shape (None, 2) while using as loss `mean_squared_error`. This loss expects targets to have the same shape as the output.",
     "traceback": [
      "\u001b[1;31m---------------------------------------------------------------------------\u001b[0m",
      "\u001b[1;31mValueError\u001b[0m                                Traceback (most recent call last)",
      "\u001b[1;32m<ipython-input-19-358aca030838>\u001b[0m in \u001b[0;36m<module>\u001b[1;34m\u001b[0m\n\u001b[0;32m     10\u001b[0m \u001b[1;31m# train_labels_Reg = to_categorical(train_labels_Reg)\u001b[0m\u001b[1;33m\u001b[0m\u001b[1;33m\u001b[0m\u001b[1;33m\u001b[0m\u001b[0m\n\u001b[0;32m     11\u001b[0m \u001b[0mmodel_Reg\u001b[0m \u001b[1;33m=\u001b[0m \u001b[0mbuild_model\u001b[0m\u001b[1;33m(\u001b[0m\u001b[0miunit\u001b[0m\u001b[1;33m,\u001b[0m \u001b[0mounit\u001b[0m\u001b[1;33m,\u001b[0m \u001b[0mtrain_dataset\u001b[0m\u001b[1;33m,\u001b[0m\u001b[0mactivation\u001b[0m\u001b[1;33m=\u001b[0m\u001b[1;34m'sigmoid'\u001b[0m\u001b[1;33m,\u001b[0m\u001b[0mloss\u001b[0m\u001b[1;33m=\u001b[0m\u001b[1;34m'mse'\u001b[0m\u001b[1;33m,\u001b[0m\u001b[0mmetrics\u001b[0m\u001b[1;33m=\u001b[0m\u001b[1;33m[\u001b[0m\u001b[1;34m'accuracy'\u001b[0m\u001b[1;33m]\u001b[0m\u001b[1;33m)\u001b[0m\u001b[1;33m\u001b[0m\u001b[1;33m\u001b[0m\u001b[0m\n\u001b[1;32m---> 12\u001b[1;33m \u001b[0mmodel_Reg\u001b[0m\u001b[1;33m,\u001b[0m \u001b[0mmodel_Reg_history\u001b[0m\u001b[1;33m,\u001b[0m \u001b[0mmodel_Reg_early_history\u001b[0m \u001b[1;33m=\u001b[0m \u001b[0mtraining\u001b[0m\u001b[1;33m(\u001b[0m\u001b[0mEPOCHS\u001b[0m\u001b[1;33m,\u001b[0m \u001b[0mmodel_Reg\u001b[0m\u001b[1;33m,\u001b[0m \u001b[0mnormed_train_data\u001b[0m\u001b[1;33m,\u001b[0m \u001b[0mtrain_labels_Reg\u001b[0m\u001b[1;33m,\u001b[0m \u001b[0mverbose\u001b[0m\u001b[1;33m=\u001b[0m\u001b[1;36m0\u001b[0m\u001b[1;33m,\u001b[0m \u001b[0mmonitor\u001b[0m\u001b[1;33m=\u001b[0m\u001b[1;34m'accuracy'\u001b[0m\u001b[1;33m,\u001b[0m \u001b[0mpatience\u001b[0m\u001b[1;33m=\u001b[0m\u001b[1;36m5\u001b[0m\u001b[1;33m)\u001b[0m\u001b[1;33m\u001b[0m\u001b[1;33m\u001b[0m\u001b[0m\n\u001b[0m\u001b[0;32m     13\u001b[0m \u001b[0mmodel_Reg\u001b[0m\u001b[1;33m.\u001b[0m\u001b[0msave\u001b[0m\u001b[1;33m(\u001b[0m\u001b[0mdir\u001b[0m\u001b[1;33m+\u001b[0m\u001b[1;34mr'\\trainingdata_Intr_for_Zone_Reg.h5'\u001b[0m\u001b[1;33m)\u001b[0m\u001b[1;33m\u001b[0m\u001b[1;33m\u001b[0m\u001b[0m\n",
      "\u001b[1;32m<ipython-input-9-3d5ce7e00300>\u001b[0m in \u001b[0;36mtraining\u001b[1;34m(EPOCHS, model, normed_train_data, train_labels, verbose, monitor, patience)\u001b[0m\n\u001b[0;32m     44\u001b[0m                           \u001b[0mnormed_train_data\u001b[0m\u001b[1;33m,\u001b[0m \u001b[0mtrain_labels\u001b[0m\u001b[1;33m,\u001b[0m\u001b[1;33m\u001b[0m\u001b[1;33m\u001b[0m\u001b[0m\n\u001b[0;32m     45\u001b[0m                           \u001b[0mepochs\u001b[0m\u001b[1;33m=\u001b[0m\u001b[0mEPOCHS\u001b[0m\u001b[1;33m,\u001b[0m \u001b[0mvalidation_split\u001b[0m \u001b[1;33m=\u001b[0m \u001b[1;36m0.2\u001b[0m\u001b[1;33m,\u001b[0m \u001b[0mverbose\u001b[0m\u001b[1;33m=\u001b[0m\u001b[0mverbose\u001b[0m\u001b[1;33m,\u001b[0m\u001b[1;33m\u001b[0m\u001b[1;33m\u001b[0m\u001b[0m\n\u001b[1;32m---> 46\u001b[1;33m                           \u001b[0mcallbacks\u001b[0m\u001b[1;33m=\u001b[0m\u001b[1;33m[\u001b[0m\u001b[0mtfdocs\u001b[0m\u001b[1;33m.\u001b[0m\u001b[0mmodeling\u001b[0m\u001b[1;33m.\u001b[0m\u001b[0mEpochDots\u001b[0m\u001b[1;33m(\u001b[0m\u001b[1;33m)\u001b[0m\u001b[1;33m]\u001b[0m\u001b[1;33m\u001b[0m\u001b[1;33m\u001b[0m\u001b[0m\n\u001b[0m\u001b[0;32m     47\u001b[0m                           \u001b[1;31m# callbacks=[keras.callbacks.TensorBoard(log_dir=dir+r'\\logs')]\u001b[0m\u001b[1;33m\u001b[0m\u001b[1;33m\u001b[0m\u001b[1;33m\u001b[0m\u001b[0m\n\u001b[0;32m     48\u001b[0m                           )\n",
      "\u001b[1;32m~\\.conda\\envs\\tf21\\lib\\site-packages\\tensorflow_core\\python\\keras\\engine\\training.py\u001b[0m in \u001b[0;36mfit\u001b[1;34m(self, x, y, batch_size, epochs, verbose, callbacks, validation_split, validation_data, shuffle, class_weight, sample_weight, initial_epoch, steps_per_epoch, validation_steps, validation_freq, max_queue_size, workers, use_multiprocessing, **kwargs)\u001b[0m\n\u001b[0;32m    817\u001b[0m         \u001b[0mmax_queue_size\u001b[0m\u001b[1;33m=\u001b[0m\u001b[0mmax_queue_size\u001b[0m\u001b[1;33m,\u001b[0m\u001b[1;33m\u001b[0m\u001b[1;33m\u001b[0m\u001b[0m\n\u001b[0;32m    818\u001b[0m         \u001b[0mworkers\u001b[0m\u001b[1;33m=\u001b[0m\u001b[0mworkers\u001b[0m\u001b[1;33m,\u001b[0m\u001b[1;33m\u001b[0m\u001b[1;33m\u001b[0m\u001b[0m\n\u001b[1;32m--> 819\u001b[1;33m         use_multiprocessing=use_multiprocessing)\n\u001b[0m\u001b[0;32m    820\u001b[0m \u001b[1;33m\u001b[0m\u001b[0m\n\u001b[0;32m    821\u001b[0m   def evaluate(self,\n",
      "\u001b[1;32m~\\.conda\\envs\\tf21\\lib\\site-packages\\tensorflow_core\\python\\keras\\engine\\training_v2.py\u001b[0m in \u001b[0;36mfit\u001b[1;34m(self, model, x, y, batch_size, epochs, verbose, callbacks, validation_split, validation_data, shuffle, class_weight, sample_weight, initial_epoch, steps_per_epoch, validation_steps, validation_freq, max_queue_size, workers, use_multiprocessing, **kwargs)\u001b[0m\n\u001b[0;32m    233\u001b[0m           \u001b[0mmax_queue_size\u001b[0m\u001b[1;33m=\u001b[0m\u001b[0mmax_queue_size\u001b[0m\u001b[1;33m,\u001b[0m\u001b[1;33m\u001b[0m\u001b[1;33m\u001b[0m\u001b[0m\n\u001b[0;32m    234\u001b[0m           \u001b[0mworkers\u001b[0m\u001b[1;33m=\u001b[0m\u001b[0mworkers\u001b[0m\u001b[1;33m,\u001b[0m\u001b[1;33m\u001b[0m\u001b[1;33m\u001b[0m\u001b[0m\n\u001b[1;32m--> 235\u001b[1;33m           use_multiprocessing=use_multiprocessing)\n\u001b[0m\u001b[0;32m    236\u001b[0m \u001b[1;33m\u001b[0m\u001b[0m\n\u001b[0;32m    237\u001b[0m       \u001b[0mtotal_samples\u001b[0m \u001b[1;33m=\u001b[0m \u001b[0m_get_total_number_of_samples\u001b[0m\u001b[1;33m(\u001b[0m\u001b[0mtraining_data_adapter\u001b[0m\u001b[1;33m)\u001b[0m\u001b[1;33m\u001b[0m\u001b[1;33m\u001b[0m\u001b[0m\n",
      "\u001b[1;32m~\\.conda\\envs\\tf21\\lib\\site-packages\\tensorflow_core\\python\\keras\\engine\\training_v2.py\u001b[0m in \u001b[0;36m_process_training_inputs\u001b[1;34m(model, x, y, batch_size, epochs, sample_weights, class_weights, steps_per_epoch, validation_split, validation_data, validation_steps, shuffle, distribution_strategy, max_queue_size, workers, use_multiprocessing)\u001b[0m\n\u001b[0;32m    550\u001b[0m         \u001b[0mbatch_size\u001b[0m\u001b[1;33m=\u001b[0m\u001b[0mbatch_size\u001b[0m\u001b[1;33m,\u001b[0m\u001b[1;33m\u001b[0m\u001b[1;33m\u001b[0m\u001b[0m\n\u001b[0;32m    551\u001b[0m         \u001b[0mcheck_steps\u001b[0m\u001b[1;33m=\u001b[0m\u001b[1;32mFalse\u001b[0m\u001b[1;33m,\u001b[0m\u001b[1;33m\u001b[0m\u001b[1;33m\u001b[0m\u001b[0m\n\u001b[1;32m--> 552\u001b[1;33m         steps=steps_per_epoch)\n\u001b[0m\u001b[0;32m    553\u001b[0m     (x, y, sample_weights,\n\u001b[0;32m    554\u001b[0m      \u001b[0mval_x\u001b[0m\u001b[1;33m,\u001b[0m \u001b[0mval_y\u001b[0m\u001b[1;33m,\u001b[0m\u001b[1;33m\u001b[0m\u001b[1;33m\u001b[0m\u001b[0m\n",
      "\u001b[1;32m~\\.conda\\envs\\tf21\\lib\\site-packages\\tensorflow_core\\python\\keras\\engine\\training.py\u001b[0m in \u001b[0;36m_standardize_user_data\u001b[1;34m(self, x, y, sample_weight, class_weight, batch_size, check_steps, steps_name, steps, validation_split, shuffle, extract_tensors_from_dataset)\u001b[0m\n\u001b[0;32m   2381\u001b[0m         \u001b[0mis_dataset\u001b[0m\u001b[1;33m=\u001b[0m\u001b[0mis_dataset\u001b[0m\u001b[1;33m,\u001b[0m\u001b[1;33m\u001b[0m\u001b[1;33m\u001b[0m\u001b[0m\n\u001b[0;32m   2382\u001b[0m         \u001b[0mclass_weight\u001b[0m\u001b[1;33m=\u001b[0m\u001b[0mclass_weight\u001b[0m\u001b[1;33m,\u001b[0m\u001b[1;33m\u001b[0m\u001b[1;33m\u001b[0m\u001b[0m\n\u001b[1;32m-> 2383\u001b[1;33m         batch_size=batch_size)\n\u001b[0m\u001b[0;32m   2384\u001b[0m \u001b[1;33m\u001b[0m\u001b[0m\n\u001b[0;32m   2385\u001b[0m   def _standardize_tensors(self, x, y, sample_weight, run_eagerly, dict_inputs,\n",
      "\u001b[1;32m~\\.conda\\envs\\tf21\\lib\\site-packages\\tensorflow_core\\python\\keras\\engine\\training.py\u001b[0m in \u001b[0;36m_standardize_tensors\u001b[1;34m(self, x, y, sample_weight, run_eagerly, dict_inputs, is_dataset, class_weight, batch_size)\u001b[0m\n\u001b[0;32m   2487\u001b[0m           \u001b[1;31m# Additional checks to avoid users mistakenly using improper loss fns.\u001b[0m\u001b[1;33m\u001b[0m\u001b[1;33m\u001b[0m\u001b[1;33m\u001b[0m\u001b[0m\n\u001b[0;32m   2488\u001b[0m           training_utils.check_loss_and_target_compatibility(\n\u001b[1;32m-> 2489\u001b[1;33m               y, self._feed_loss_fns, feed_output_shapes)\n\u001b[0m\u001b[0;32m   2490\u001b[0m \u001b[1;33m\u001b[0m\u001b[0m\n\u001b[0;32m   2491\u001b[0m       sample_weights, _, _ = training_utils.handle_partial_sample_weights(\n",
      "\u001b[1;32m~\\.conda\\envs\\tf21\\lib\\site-packages\\tensorflow_core\\python\\keras\\engine\\training_utils.py\u001b[0m in \u001b[0;36mcheck_loss_and_target_compatibility\u001b[1;34m(targets, loss_fns, output_shapes)\u001b[0m\n\u001b[0;32m    808\u001b[0m           raise ValueError('A target array with shape ' + str(y.shape) +\n\u001b[0;32m    809\u001b[0m                            \u001b[1;34m' was passed for an output of shape '\u001b[0m \u001b[1;33m+\u001b[0m \u001b[0mstr\u001b[0m\u001b[1;33m(\u001b[0m\u001b[0mshape\u001b[0m\u001b[1;33m)\u001b[0m \u001b[1;33m+\u001b[0m\u001b[1;33m\u001b[0m\u001b[1;33m\u001b[0m\u001b[0m\n\u001b[1;32m--> 810\u001b[1;33m                            \u001b[1;34m' while using as loss `'\u001b[0m \u001b[1;33m+\u001b[0m \u001b[0mloss_name\u001b[0m \u001b[1;33m+\u001b[0m \u001b[1;34m'`. '\u001b[0m\u001b[1;33m\u001b[0m\u001b[1;33m\u001b[0m\u001b[0m\n\u001b[0m\u001b[0;32m    811\u001b[0m                            \u001b[1;34m'This loss expects targets to have the same shape '\u001b[0m\u001b[1;33m\u001b[0m\u001b[1;33m\u001b[0m\u001b[0m\n\u001b[0;32m    812\u001b[0m                            'as the output.')\n",
      "\u001b[1;31mValueError\u001b[0m: A target array with shape (140, 5) was passed for an output of shape (None, 2) while using as loss `mean_squared_error`. This loss expects targets to have the same shape as the output."
     ]
    }
   ],
   "metadata": {
    "tags": []
   }
  },
  {
   "cell_type": "code",
   "execution_count": 20,
   "source": [
    "test__labels_Reg = to_categorical(test__labels_Reg)\n",
    "# test_labels__Reg\n"
   ],
   "outputs": [],
   "metadata": {
    "tags": []
   }
  },
  {
   "cell_type": "code",
   "execution_count": 21,
   "source": [
    "test_mae_score_Reg, test_mae_score1_Reg = model_Reg.evaluate(  normed_test__data, test__labels_Reg  )\n",
    "print(test_mae_score_Reg, test_mae_score1_Reg)"
   ],
   "outputs": [
    {
     "output_type": "error",
     "ename": "ValueError",
     "evalue": "A target array with shape (60, 5) was passed for an output of shape (None, 2) while using as loss `mean_squared_error`. This loss expects targets to have the same shape as the output.",
     "traceback": [
      "\u001b[1;31m---------------------------------------------------------------------------\u001b[0m",
      "\u001b[1;31mValueError\u001b[0m                                Traceback (most recent call last)",
      "\u001b[1;32m<ipython-input-21-9c135e0eaa2c>\u001b[0m in \u001b[0;36m<module>\u001b[1;34m\u001b[0m\n\u001b[1;32m----> 1\u001b[1;33m \u001b[0mtest_mae_score_Reg\u001b[0m\u001b[1;33m,\u001b[0m \u001b[0mtest_mae_score1_Reg\u001b[0m \u001b[1;33m=\u001b[0m \u001b[0mmodel_Reg\u001b[0m\u001b[1;33m.\u001b[0m\u001b[0mevaluate\u001b[0m\u001b[1;33m(\u001b[0m  \u001b[0mnormed_test__data\u001b[0m\u001b[1;33m,\u001b[0m \u001b[0mtest__labels_Reg\u001b[0m  \u001b[1;33m)\u001b[0m\u001b[1;33m\u001b[0m\u001b[1;33m\u001b[0m\u001b[0m\n\u001b[0m\u001b[0;32m      2\u001b[0m \u001b[0mprint\u001b[0m\u001b[1;33m(\u001b[0m\u001b[0mtest_mae_score_Reg\u001b[0m\u001b[1;33m,\u001b[0m \u001b[0mtest_mae_score1_Reg\u001b[0m\u001b[1;33m)\u001b[0m\u001b[1;33m\u001b[0m\u001b[1;33m\u001b[0m\u001b[0m\n",
      "\u001b[1;32m~\\.conda\\envs\\tf21\\lib\\site-packages\\tensorflow_core\\python\\keras\\engine\\training.py\u001b[0m in \u001b[0;36mevaluate\u001b[1;34m(self, x, y, batch_size, verbose, sample_weight, steps, callbacks, max_queue_size, workers, use_multiprocessing)\u001b[0m\n\u001b[0;32m    928\u001b[0m         \u001b[0mmax_queue_size\u001b[0m\u001b[1;33m=\u001b[0m\u001b[0mmax_queue_size\u001b[0m\u001b[1;33m,\u001b[0m\u001b[1;33m\u001b[0m\u001b[1;33m\u001b[0m\u001b[0m\n\u001b[0;32m    929\u001b[0m         \u001b[0mworkers\u001b[0m\u001b[1;33m=\u001b[0m\u001b[0mworkers\u001b[0m\u001b[1;33m,\u001b[0m\u001b[1;33m\u001b[0m\u001b[1;33m\u001b[0m\u001b[0m\n\u001b[1;32m--> 930\u001b[1;33m         use_multiprocessing=use_multiprocessing)\n\u001b[0m\u001b[0;32m    931\u001b[0m \u001b[1;33m\u001b[0m\u001b[0m\n\u001b[0;32m    932\u001b[0m   def predict(self,\n",
      "\u001b[1;32m~\\.conda\\envs\\tf21\\lib\\site-packages\\tensorflow_core\\python\\keras\\engine\\training_v2.py\u001b[0m in \u001b[0;36mevaluate\u001b[1;34m(self, model, x, y, batch_size, verbose, sample_weight, steps, callbacks, max_queue_size, workers, use_multiprocessing, **kwargs)\u001b[0m\n\u001b[0;32m    488\u001b[0m         \u001b[0msample_weight\u001b[0m\u001b[1;33m=\u001b[0m\u001b[0msample_weight\u001b[0m\u001b[1;33m,\u001b[0m \u001b[0msteps\u001b[0m\u001b[1;33m=\u001b[0m\u001b[0msteps\u001b[0m\u001b[1;33m,\u001b[0m \u001b[0mcallbacks\u001b[0m\u001b[1;33m=\u001b[0m\u001b[0mcallbacks\u001b[0m\u001b[1;33m,\u001b[0m\u001b[1;33m\u001b[0m\u001b[1;33m\u001b[0m\u001b[0m\n\u001b[0;32m    489\u001b[0m         \u001b[0mmax_queue_size\u001b[0m\u001b[1;33m=\u001b[0m\u001b[0mmax_queue_size\u001b[0m\u001b[1;33m,\u001b[0m \u001b[0mworkers\u001b[0m\u001b[1;33m=\u001b[0m\u001b[0mworkers\u001b[0m\u001b[1;33m,\u001b[0m\u001b[1;33m\u001b[0m\u001b[1;33m\u001b[0m\u001b[0m\n\u001b[1;32m--> 490\u001b[1;33m         use_multiprocessing=use_multiprocessing, **kwargs)\n\u001b[0m\u001b[0;32m    491\u001b[0m \u001b[1;33m\u001b[0m\u001b[0m\n\u001b[0;32m    492\u001b[0m   def predict(self, model, x, batch_size=None, verbose=0, steps=None,\n",
      "\u001b[1;32m~\\.conda\\envs\\tf21\\lib\\site-packages\\tensorflow_core\\python\\keras\\engine\\training_v2.py\u001b[0m in \u001b[0;36m_model_iteration\u001b[1;34m(self, model, mode, x, y, batch_size, verbose, sample_weight, steps, callbacks, max_queue_size, workers, use_multiprocessing, **kwargs)\u001b[0m\n\u001b[0;32m    424\u001b[0m           \u001b[0mmax_queue_size\u001b[0m\u001b[1;33m=\u001b[0m\u001b[0mmax_queue_size\u001b[0m\u001b[1;33m,\u001b[0m\u001b[1;33m\u001b[0m\u001b[1;33m\u001b[0m\u001b[0m\n\u001b[0;32m    425\u001b[0m           \u001b[0mworkers\u001b[0m\u001b[1;33m=\u001b[0m\u001b[0mworkers\u001b[0m\u001b[1;33m,\u001b[0m\u001b[1;33m\u001b[0m\u001b[1;33m\u001b[0m\u001b[0m\n\u001b[1;32m--> 426\u001b[1;33m           use_multiprocessing=use_multiprocessing)\n\u001b[0m\u001b[0;32m    427\u001b[0m       \u001b[0mtotal_samples\u001b[0m \u001b[1;33m=\u001b[0m \u001b[0m_get_total_number_of_samples\u001b[0m\u001b[1;33m(\u001b[0m\u001b[0madapter\u001b[0m\u001b[1;33m)\u001b[0m\u001b[1;33m\u001b[0m\u001b[1;33m\u001b[0m\u001b[0m\n\u001b[0;32m    428\u001b[0m       \u001b[0muse_sample\u001b[0m \u001b[1;33m=\u001b[0m \u001b[0mtotal_samples\u001b[0m \u001b[1;32mis\u001b[0m \u001b[1;32mnot\u001b[0m \u001b[1;32mNone\u001b[0m\u001b[1;33m\u001b[0m\u001b[1;33m\u001b[0m\u001b[0m\n",
      "\u001b[1;32m~\\.conda\\envs\\tf21\\lib\\site-packages\\tensorflow_core\\python\\keras\\engine\\training_v2.py\u001b[0m in \u001b[0;36m_process_inputs\u001b[1;34m(model, mode, x, y, batch_size, epochs, sample_weights, class_weights, shuffle, steps, distribution_strategy, max_queue_size, workers, use_multiprocessing)\u001b[0m\n\u001b[0;32m    644\u001b[0m     \u001b[0mstandardize_function\u001b[0m \u001b[1;33m=\u001b[0m \u001b[1;32mNone\u001b[0m\u001b[1;33m\u001b[0m\u001b[1;33m\u001b[0m\u001b[0m\n\u001b[0;32m    645\u001b[0m     x, y, sample_weights = standardize(\n\u001b[1;32m--> 646\u001b[1;33m         x, y, sample_weight=sample_weights)\n\u001b[0m\u001b[0;32m    647\u001b[0m   \u001b[1;32melif\u001b[0m \u001b[0madapter_cls\u001b[0m \u001b[1;32mis\u001b[0m \u001b[0mdata_adapter\u001b[0m\u001b[1;33m.\u001b[0m\u001b[0mListsOfScalarsDataAdapter\u001b[0m\u001b[1;33m:\u001b[0m\u001b[1;33m\u001b[0m\u001b[1;33m\u001b[0m\u001b[0m\n\u001b[0;32m    648\u001b[0m     \u001b[0mstandardize_function\u001b[0m \u001b[1;33m=\u001b[0m \u001b[0mstandardize\u001b[0m\u001b[1;33m\u001b[0m\u001b[1;33m\u001b[0m\u001b[0m\n",
      "\u001b[1;32m~\\.conda\\envs\\tf21\\lib\\site-packages\\tensorflow_core\\python\\keras\\engine\\training.py\u001b[0m in \u001b[0;36m_standardize_user_data\u001b[1;34m(self, x, y, sample_weight, class_weight, batch_size, check_steps, steps_name, steps, validation_split, shuffle, extract_tensors_from_dataset)\u001b[0m\n\u001b[0;32m   2381\u001b[0m         \u001b[0mis_dataset\u001b[0m\u001b[1;33m=\u001b[0m\u001b[0mis_dataset\u001b[0m\u001b[1;33m,\u001b[0m\u001b[1;33m\u001b[0m\u001b[1;33m\u001b[0m\u001b[0m\n\u001b[0;32m   2382\u001b[0m         \u001b[0mclass_weight\u001b[0m\u001b[1;33m=\u001b[0m\u001b[0mclass_weight\u001b[0m\u001b[1;33m,\u001b[0m\u001b[1;33m\u001b[0m\u001b[1;33m\u001b[0m\u001b[0m\n\u001b[1;32m-> 2383\u001b[1;33m         batch_size=batch_size)\n\u001b[0m\u001b[0;32m   2384\u001b[0m \u001b[1;33m\u001b[0m\u001b[0m\n\u001b[0;32m   2385\u001b[0m   def _standardize_tensors(self, x, y, sample_weight, run_eagerly, dict_inputs,\n",
      "\u001b[1;32m~\\.conda\\envs\\tf21\\lib\\site-packages\\tensorflow_core\\python\\keras\\engine\\training.py\u001b[0m in \u001b[0;36m_standardize_tensors\u001b[1;34m(self, x, y, sample_weight, run_eagerly, dict_inputs, is_dataset, class_weight, batch_size)\u001b[0m\n\u001b[0;32m   2487\u001b[0m           \u001b[1;31m# Additional checks to avoid users mistakenly using improper loss fns.\u001b[0m\u001b[1;33m\u001b[0m\u001b[1;33m\u001b[0m\u001b[1;33m\u001b[0m\u001b[0m\n\u001b[0;32m   2488\u001b[0m           training_utils.check_loss_and_target_compatibility(\n\u001b[1;32m-> 2489\u001b[1;33m               y, self._feed_loss_fns, feed_output_shapes)\n\u001b[0m\u001b[0;32m   2490\u001b[0m \u001b[1;33m\u001b[0m\u001b[0m\n\u001b[0;32m   2491\u001b[0m       sample_weights, _, _ = training_utils.handle_partial_sample_weights(\n",
      "\u001b[1;32m~\\.conda\\envs\\tf21\\lib\\site-packages\\tensorflow_core\\python\\keras\\engine\\training_utils.py\u001b[0m in \u001b[0;36mcheck_loss_and_target_compatibility\u001b[1;34m(targets, loss_fns, output_shapes)\u001b[0m\n\u001b[0;32m    808\u001b[0m           raise ValueError('A target array with shape ' + str(y.shape) +\n\u001b[0;32m    809\u001b[0m                            \u001b[1;34m' was passed for an output of shape '\u001b[0m \u001b[1;33m+\u001b[0m \u001b[0mstr\u001b[0m\u001b[1;33m(\u001b[0m\u001b[0mshape\u001b[0m\u001b[1;33m)\u001b[0m \u001b[1;33m+\u001b[0m\u001b[1;33m\u001b[0m\u001b[1;33m\u001b[0m\u001b[0m\n\u001b[1;32m--> 810\u001b[1;33m                            \u001b[1;34m' while using as loss `'\u001b[0m \u001b[1;33m+\u001b[0m \u001b[0mloss_name\u001b[0m \u001b[1;33m+\u001b[0m \u001b[1;34m'`. '\u001b[0m\u001b[1;33m\u001b[0m\u001b[1;33m\u001b[0m\u001b[0m\n\u001b[0m\u001b[0;32m    811\u001b[0m                            \u001b[1;34m'This loss expects targets to have the same shape '\u001b[0m\u001b[1;33m\u001b[0m\u001b[1;33m\u001b[0m\u001b[0m\n\u001b[0;32m    812\u001b[0m                            'as the output.')\n",
      "\u001b[1;31mValueError\u001b[0m: A target array with shape (60, 5) was passed for an output of shape (None, 2) while using as loss `mean_squared_error`. This loss expects targets to have the same shape as the output."
     ]
    }
   ],
   "metadata": {
    "tags": []
   }
  },
  {
   "cell_type": "code",
   "execution_count": 22,
   "source": [
    "train_predictions = model_Reg.predict(normed_train_data).flatten()\n",
    "test__predictions = model_Reg.predict(normed_test__data).flatten()\n",
    "print(type(train_predictions))\n",
    "print(\"{},{}\".format(len(train_predictions),len(train_labels_Reg)))\n",
    "train_value=[]\n",
    "test__value=[]\n",
    "for i in range(0,len(train_predictions)-1):\n",
    "    if i % 2 == 0:\n",
    "        if train_predictions[i] < train_predictions[i+1] :\n",
    "            train_value.append(1)\n",
    "        else:\n",
    "            train_value.append(0)\n",
    "for i in range(0,len(test__predictions)-1):\n",
    "    if i % 2 == 0:           \n",
    "        if test__predictions[i] < test__predictions[i+1] :\n",
    "            test__value.append(1)\n",
    "        else:\n",
    "            test__value.append(0)            \n",
    "train_predictions = np.array(train_value)  \n",
    "test__predictions = np.array(test__value) \n",
    "# len(out_array)"
   ],
   "outputs": [
    {
     "output_type": "stream",
     "name": "stdout",
     "text": [
      "<class 'numpy.ndarray'>\n",
      "280,140\n"
     ]
    }
   ],
   "metadata": {
    "tags": []
   }
  },
  {
   "cell_type": "code",
   "execution_count": 23,
   "source": [
    "print(\"{},{}\".format(len(train_labels_Reg),len(train_predictions)))\n",
    "print(\"{},{}\".format(len(test__labels_Reg),len(test__predictions)))\n",
    "train_predictions = to_categorical(train_predictions)\n",
    "test__predictions = to_categorical(test__predictions)\n",
    "\n",
    "print(\"dtype: {},{}\".format(train_labels_Reg.dtype,  train_predictions.dtype))\n",
    "print(\"ndim:  {},{}\".format(train_labels_Reg.ndim,   train_predictions.ndim))\n",
    "print(\"size:  {},{}\".format(train_labels_Reg.size,   train_predictions.size))\n",
    "print(\"nbytes:{},{}\".format(train_labels_Reg.nbytes, train_predictions.nbytes))\n",
    "\n"
   ],
   "outputs": [
    {
     "output_type": "stream",
     "name": "stdout",
     "text": [
      "140,140\n",
      "60,60\n",
      "dtype: float32,float32\n",
      "ndim:  2,2\n",
      "size:  700,280\n",
      "nbytes:2800,1120\n"
     ]
    }
   ],
   "metadata": {
    "tags": []
   }
  },
  {
   "cell_type": "code",
   "execution_count": 24,
   "source": [
    "\n",
    "print(\"{},{}\".format(len(train_labels_Reg),len(train_predictions)))\n",
    "print(\"{},{}\".format(len(test__labels_Reg),len(test__predictions)))\n",
    "\n",
    "plt.scatter(train_labels_Reg, train_predictions)\n",
    "plt.scatter(test__labels_Reg, test__predictions )\n",
    "plt.xlabel('True Values [Reg]')\n",
    "plt.ylabel('Predictions [Reg]')\n",
    "plt.axis('equal')\n",
    "plt.axis('square')\n",
    "plt.xlim([0,plt.xlim()[1]])\n",
    "plt.ylim([0,plt.ylim()[1]])\n",
    "_ = plt.plot([0, 150], [0, 150])"
   ],
   "outputs": [
    {
     "output_type": "stream",
     "name": "stdout",
     "text": [
      "140,140\n",
      "60,60\n"
     ]
    },
    {
     "output_type": "error",
     "ename": "ValueError",
     "evalue": "x and y must be the same size",
     "traceback": [
      "\u001b[1;31m---------------------------------------------------------------------------\u001b[0m",
      "\u001b[1;31mValueError\u001b[0m                                Traceback (most recent call last)",
      "\u001b[1;32m<ipython-input-24-183b03722d3d>\u001b[0m in \u001b[0;36m<module>\u001b[1;34m\u001b[0m\n\u001b[0;32m      2\u001b[0m \u001b[0mprint\u001b[0m\u001b[1;33m(\u001b[0m\u001b[1;34m\"{},{}\"\u001b[0m\u001b[1;33m.\u001b[0m\u001b[0mformat\u001b[0m\u001b[1;33m(\u001b[0m\u001b[0mlen\u001b[0m\u001b[1;33m(\u001b[0m\u001b[0mtest__labels_Reg\u001b[0m\u001b[1;33m)\u001b[0m\u001b[1;33m,\u001b[0m\u001b[0mlen\u001b[0m\u001b[1;33m(\u001b[0m\u001b[0mtest__predictions\u001b[0m\u001b[1;33m)\u001b[0m\u001b[1;33m)\u001b[0m\u001b[1;33m)\u001b[0m\u001b[1;33m\u001b[0m\u001b[1;33m\u001b[0m\u001b[0m\n\u001b[0;32m      3\u001b[0m \u001b[1;33m\u001b[0m\u001b[0m\n\u001b[1;32m----> 4\u001b[1;33m \u001b[0mplt\u001b[0m\u001b[1;33m.\u001b[0m\u001b[0mscatter\u001b[0m\u001b[1;33m(\u001b[0m\u001b[0mtrain_labels_Reg\u001b[0m\u001b[1;33m,\u001b[0m \u001b[0mtrain_predictions\u001b[0m\u001b[1;33m)\u001b[0m\u001b[1;33m\u001b[0m\u001b[1;33m\u001b[0m\u001b[0m\n\u001b[0m\u001b[0;32m      5\u001b[0m \u001b[0mplt\u001b[0m\u001b[1;33m.\u001b[0m\u001b[0mscatter\u001b[0m\u001b[1;33m(\u001b[0m\u001b[0mtest__labels_Reg\u001b[0m\u001b[1;33m,\u001b[0m \u001b[0mtest__predictions\u001b[0m \u001b[1;33m)\u001b[0m\u001b[1;33m\u001b[0m\u001b[1;33m\u001b[0m\u001b[0m\n\u001b[0;32m      6\u001b[0m \u001b[0mplt\u001b[0m\u001b[1;33m.\u001b[0m\u001b[0mxlabel\u001b[0m\u001b[1;33m(\u001b[0m\u001b[1;34m'True Values [Reg]'\u001b[0m\u001b[1;33m)\u001b[0m\u001b[1;33m\u001b[0m\u001b[1;33m\u001b[0m\u001b[0m\n",
      "\u001b[1;32m~\\.conda\\envs\\tf21\\lib\\site-packages\\matplotlib\\pyplot.py\u001b[0m in \u001b[0;36mscatter\u001b[1;34m(x, y, s, c, marker, cmap, norm, vmin, vmax, alpha, linewidths, verts, edgecolors, plotnonfinite, data, **kwargs)\u001b[0m\n\u001b[0;32m   2846\u001b[0m         \u001b[0mverts\u001b[0m\u001b[1;33m=\u001b[0m\u001b[0mverts\u001b[0m\u001b[1;33m,\u001b[0m \u001b[0medgecolors\u001b[0m\u001b[1;33m=\u001b[0m\u001b[0medgecolors\u001b[0m\u001b[1;33m,\u001b[0m\u001b[1;33m\u001b[0m\u001b[1;33m\u001b[0m\u001b[0m\n\u001b[0;32m   2847\u001b[0m         plotnonfinite=plotnonfinite, **({\"data\": data} if data is not\n\u001b[1;32m-> 2848\u001b[1;33m         None else {}), **kwargs)\n\u001b[0m\u001b[0;32m   2849\u001b[0m     \u001b[0msci\u001b[0m\u001b[1;33m(\u001b[0m\u001b[0m__ret\u001b[0m\u001b[1;33m)\u001b[0m\u001b[1;33m\u001b[0m\u001b[1;33m\u001b[0m\u001b[0m\n\u001b[0;32m   2850\u001b[0m     \u001b[1;32mreturn\u001b[0m \u001b[0m__ret\u001b[0m\u001b[1;33m\u001b[0m\u001b[1;33m\u001b[0m\u001b[0m\n",
      "\u001b[1;32m~\\.conda\\envs\\tf21\\lib\\site-packages\\matplotlib\\__init__.py\u001b[0m in \u001b[0;36minner\u001b[1;34m(ax, data, *args, **kwargs)\u001b[0m\n\u001b[0;32m   1597\u001b[0m     \u001b[1;32mdef\u001b[0m \u001b[0minner\u001b[0m\u001b[1;33m(\u001b[0m\u001b[0max\u001b[0m\u001b[1;33m,\u001b[0m \u001b[1;33m*\u001b[0m\u001b[0margs\u001b[0m\u001b[1;33m,\u001b[0m \u001b[0mdata\u001b[0m\u001b[1;33m=\u001b[0m\u001b[1;32mNone\u001b[0m\u001b[1;33m,\u001b[0m \u001b[1;33m**\u001b[0m\u001b[0mkwargs\u001b[0m\u001b[1;33m)\u001b[0m\u001b[1;33m:\u001b[0m\u001b[1;33m\u001b[0m\u001b[1;33m\u001b[0m\u001b[0m\n\u001b[0;32m   1598\u001b[0m         \u001b[1;32mif\u001b[0m \u001b[0mdata\u001b[0m \u001b[1;32mis\u001b[0m \u001b[1;32mNone\u001b[0m\u001b[1;33m:\u001b[0m\u001b[1;33m\u001b[0m\u001b[1;33m\u001b[0m\u001b[0m\n\u001b[1;32m-> 1599\u001b[1;33m             \u001b[1;32mreturn\u001b[0m \u001b[0mfunc\u001b[0m\u001b[1;33m(\u001b[0m\u001b[0max\u001b[0m\u001b[1;33m,\u001b[0m \u001b[1;33m*\u001b[0m\u001b[0mmap\u001b[0m\u001b[1;33m(\u001b[0m\u001b[0msanitize_sequence\u001b[0m\u001b[1;33m,\u001b[0m \u001b[0margs\u001b[0m\u001b[1;33m)\u001b[0m\u001b[1;33m,\u001b[0m \u001b[1;33m**\u001b[0m\u001b[0mkwargs\u001b[0m\u001b[1;33m)\u001b[0m\u001b[1;33m\u001b[0m\u001b[1;33m\u001b[0m\u001b[0m\n\u001b[0m\u001b[0;32m   1600\u001b[0m \u001b[1;33m\u001b[0m\u001b[0m\n\u001b[0;32m   1601\u001b[0m         \u001b[0mbound\u001b[0m \u001b[1;33m=\u001b[0m \u001b[0mnew_sig\u001b[0m\u001b[1;33m.\u001b[0m\u001b[0mbind\u001b[0m\u001b[1;33m(\u001b[0m\u001b[0max\u001b[0m\u001b[1;33m,\u001b[0m \u001b[1;33m*\u001b[0m\u001b[0margs\u001b[0m\u001b[1;33m,\u001b[0m \u001b[1;33m**\u001b[0m\u001b[0mkwargs\u001b[0m\u001b[1;33m)\u001b[0m\u001b[1;33m\u001b[0m\u001b[1;33m\u001b[0m\u001b[0m\n",
      "\u001b[1;32m~\\.conda\\envs\\tf21\\lib\\site-packages\\matplotlib\\axes\\_axes.py\u001b[0m in \u001b[0;36mscatter\u001b[1;34m(self, x, y, s, c, marker, cmap, norm, vmin, vmax, alpha, linewidths, verts, edgecolors, plotnonfinite, **kwargs)\u001b[0m\n\u001b[0;32m   4441\u001b[0m         \u001b[0my\u001b[0m \u001b[1;33m=\u001b[0m \u001b[0mnp\u001b[0m\u001b[1;33m.\u001b[0m\u001b[0mma\u001b[0m\u001b[1;33m.\u001b[0m\u001b[0mravel\u001b[0m\u001b[1;33m(\u001b[0m\u001b[0my\u001b[0m\u001b[1;33m)\u001b[0m\u001b[1;33m\u001b[0m\u001b[1;33m\u001b[0m\u001b[0m\n\u001b[0;32m   4442\u001b[0m         \u001b[1;32mif\u001b[0m \u001b[0mx\u001b[0m\u001b[1;33m.\u001b[0m\u001b[0msize\u001b[0m \u001b[1;33m!=\u001b[0m \u001b[0my\u001b[0m\u001b[1;33m.\u001b[0m\u001b[0msize\u001b[0m\u001b[1;33m:\u001b[0m\u001b[1;33m\u001b[0m\u001b[1;33m\u001b[0m\u001b[0m\n\u001b[1;32m-> 4443\u001b[1;33m             \u001b[1;32mraise\u001b[0m \u001b[0mValueError\u001b[0m\u001b[1;33m(\u001b[0m\u001b[1;34m\"x and y must be the same size\"\u001b[0m\u001b[1;33m)\u001b[0m\u001b[1;33m\u001b[0m\u001b[1;33m\u001b[0m\u001b[0m\n\u001b[0m\u001b[0;32m   4444\u001b[0m \u001b[1;33m\u001b[0m\u001b[0m\n\u001b[0;32m   4445\u001b[0m         \u001b[1;32mif\u001b[0m \u001b[0ms\u001b[0m \u001b[1;32mis\u001b[0m \u001b[1;32mNone\u001b[0m\u001b[1;33m:\u001b[0m\u001b[1;33m\u001b[0m\u001b[1;33m\u001b[0m\u001b[0m\n",
      "\u001b[1;31mValueError\u001b[0m: x and y must be the same size"
     ]
    }
   ],
   "metadata": {
    "tags": []
   }
  },
  {
   "cell_type": "code",
   "execution_count": 25,
   "source": [
    "# test_predictions\n",
    "error = test__predictions - test__labels_Reg\n",
    "\n",
    "plt.hist(error, bins = 25)\n",
    "plt.xlabel(\"Prediction Error [region]\")\n",
    "_ = plt.ylabel(\"Count\")"
   ],
   "outputs": [
    {
     "output_type": "error",
     "ename": "ValueError",
     "evalue": "operands could not be broadcast together with shapes (60,2) (60,5) ",
     "traceback": [
      "\u001b[1;31m---------------------------------------------------------------------------\u001b[0m",
      "\u001b[1;31mValueError\u001b[0m                                Traceback (most recent call last)",
      "\u001b[1;32m<ipython-input-25-816658cf1546>\u001b[0m in \u001b[0;36m<module>\u001b[1;34m\u001b[0m\n\u001b[0;32m      1\u001b[0m \u001b[1;31m# test_predictions\u001b[0m\u001b[1;33m\u001b[0m\u001b[1;33m\u001b[0m\u001b[1;33m\u001b[0m\u001b[0m\n\u001b[1;32m----> 2\u001b[1;33m \u001b[0merror\u001b[0m \u001b[1;33m=\u001b[0m \u001b[0mtest__predictions\u001b[0m \u001b[1;33m-\u001b[0m \u001b[0mtest__labels_Reg\u001b[0m\u001b[1;33m\u001b[0m\u001b[1;33m\u001b[0m\u001b[0m\n\u001b[0m\u001b[0;32m      3\u001b[0m \u001b[1;33m\u001b[0m\u001b[0m\n\u001b[0;32m      4\u001b[0m \u001b[0mplt\u001b[0m\u001b[1;33m.\u001b[0m\u001b[0mhist\u001b[0m\u001b[1;33m(\u001b[0m\u001b[0merror\u001b[0m\u001b[1;33m,\u001b[0m \u001b[0mbins\u001b[0m \u001b[1;33m=\u001b[0m \u001b[1;36m25\u001b[0m\u001b[1;33m)\u001b[0m\u001b[1;33m\u001b[0m\u001b[1;33m\u001b[0m\u001b[0m\n\u001b[0;32m      5\u001b[0m \u001b[0mplt\u001b[0m\u001b[1;33m.\u001b[0m\u001b[0mxlabel\u001b[0m\u001b[1;33m(\u001b[0m\u001b[1;34m\"Prediction Error [region]\"\u001b[0m\u001b[1;33m)\u001b[0m\u001b[1;33m\u001b[0m\u001b[1;33m\u001b[0m\u001b[0m\n",
      "\u001b[1;31mValueError\u001b[0m: operands could not be broadcast together with shapes (60,2) (60,5) "
     ]
    }
   ],
   "metadata": {
    "tags": []
   }
  },
  {
   "cell_type": "code",
   "execution_count": 26,
   "source": [
    "# train_dataset.to_csv(r\"F:\\CON_2019_HMC_PGD-MINESET\\Zone5_mat590\\DROP_SIMUL_200\\train_dataset.csv\")\n",
    "# test_dataset.to_csv(r\"F:\\CON_2019_HMC_PGD-MINESET\\Zone5_mat590\\DROP_SIMUL_200\\test_dataset.csv\")\n",
    "\n",
    "pd.DataFrame(train_predictions).to_csv(dir+r\"\\train_pred_region.csv\")\n",
    "pd.DataFrame(test__predictions).to_csv(dir+r\"\\test__pred_region.csv\")\n"
   ],
   "outputs": [],
   "metadata": {}
  },
  {
   "cell_type": "code",
   "execution_count": 27,
   "source": [
    "plotter = tfdocs.plots.HistoryPlotter(smoothing_std=2)\n",
    "plotter.plot({'Basic': model_Reg_history}, metric = \"loss\")\n",
    "plt.ylim([0, 1])\n",
    "plt.ylabel('loss')"
   ],
   "outputs": [
    {
     "output_type": "error",
     "ename": "NameError",
     "evalue": "name 'model_Reg_history' is not defined",
     "traceback": [
      "\u001b[1;31m---------------------------------------------------------------------------\u001b[0m",
      "\u001b[1;31mNameError\u001b[0m                                 Traceback (most recent call last)",
      "\u001b[1;32m<ipython-input-27-f9172fcc7494>\u001b[0m in \u001b[0;36m<module>\u001b[1;34m\u001b[0m\n\u001b[0;32m      1\u001b[0m \u001b[0mplotter\u001b[0m \u001b[1;33m=\u001b[0m \u001b[0mtfdocs\u001b[0m\u001b[1;33m.\u001b[0m\u001b[0mplots\u001b[0m\u001b[1;33m.\u001b[0m\u001b[0mHistoryPlotter\u001b[0m\u001b[1;33m(\u001b[0m\u001b[0msmoothing_std\u001b[0m\u001b[1;33m=\u001b[0m\u001b[1;36m2\u001b[0m\u001b[1;33m)\u001b[0m\u001b[1;33m\u001b[0m\u001b[1;33m\u001b[0m\u001b[0m\n\u001b[1;32m----> 2\u001b[1;33m \u001b[0mplotter\u001b[0m\u001b[1;33m.\u001b[0m\u001b[0mplot\u001b[0m\u001b[1;33m(\u001b[0m\u001b[1;33m{\u001b[0m\u001b[1;34m'Basic'\u001b[0m\u001b[1;33m:\u001b[0m \u001b[0mmodel_Reg_history\u001b[0m\u001b[1;33m}\u001b[0m\u001b[1;33m,\u001b[0m \u001b[0mmetric\u001b[0m \u001b[1;33m=\u001b[0m \u001b[1;34m\"loss\"\u001b[0m\u001b[1;33m)\u001b[0m\u001b[1;33m\u001b[0m\u001b[1;33m\u001b[0m\u001b[0m\n\u001b[0m\u001b[0;32m      3\u001b[0m \u001b[0mplt\u001b[0m\u001b[1;33m.\u001b[0m\u001b[0mylim\u001b[0m\u001b[1;33m(\u001b[0m\u001b[1;33m[\u001b[0m\u001b[1;36m0\u001b[0m\u001b[1;33m,\u001b[0m \u001b[1;36m1\u001b[0m\u001b[1;33m]\u001b[0m\u001b[1;33m)\u001b[0m\u001b[1;33m\u001b[0m\u001b[1;33m\u001b[0m\u001b[0m\n\u001b[0;32m      4\u001b[0m \u001b[0mplt\u001b[0m\u001b[1;33m.\u001b[0m\u001b[0mylabel\u001b[0m\u001b[1;33m(\u001b[0m\u001b[1;34m'loss'\u001b[0m\u001b[1;33m)\u001b[0m\u001b[1;33m\u001b[0m\u001b[1;33m\u001b[0m\u001b[0m\n",
      "\u001b[1;31mNameError\u001b[0m: name 'model_Reg_history' is not defined"
     ]
    }
   ],
   "metadata": {}
  },
  {
   "cell_type": "code",
   "execution_count": 28,
   "source": [
    "# 모델 학습 과정 표시하기\n",
    "%matplotlib inline\n",
    "import matplotlib.pyplot as plt\n",
    "\n",
    "fig, loss_ax = plt.subplots()\n",
    "acc_ax = loss_ax.twinx()\n",
    "hist = model_Reg_early_history\n",
    "loss_ax.plot(hist.history['loss'], 'y', label='train loss')\n",
    "loss_ax.plot(hist.history['val_loss'], 'r', label='val loss')\n",
    "\n",
    "acc_ax.plot(hist.history['accuracy'], 'b', label='train acc')\n",
    "acc_ax.plot(hist.history['val_accuracy'], 'g', label='val acc')\n",
    "\n",
    "loss_ax.set_xlabel('epoch')\n",
    "loss_ax.set_ylabel('loss')\n",
    "acc_ax.set_ylabel('accuray')\n",
    "\n",
    "loss_ax.legend(loc='upper left')\n",
    "acc_ax.legend(loc='lower left')\n",
    "\n",
    "plt.show()"
   ],
   "outputs": [
    {
     "output_type": "error",
     "ename": "NameError",
     "evalue": "name 'model_Reg_early_history' is not defined",
     "traceback": [
      "\u001b[1;31m---------------------------------------------------------------------------\u001b[0m",
      "\u001b[1;31mNameError\u001b[0m                                 Traceback (most recent call last)",
      "\u001b[1;32m<ipython-input-28-9c3022c44c06>\u001b[0m in \u001b[0;36m<module>\u001b[1;34m\u001b[0m\n\u001b[0;32m      5\u001b[0m \u001b[0mfig\u001b[0m\u001b[1;33m,\u001b[0m \u001b[0mloss_ax\u001b[0m \u001b[1;33m=\u001b[0m \u001b[0mplt\u001b[0m\u001b[1;33m.\u001b[0m\u001b[0msubplots\u001b[0m\u001b[1;33m(\u001b[0m\u001b[1;33m)\u001b[0m\u001b[1;33m\u001b[0m\u001b[1;33m\u001b[0m\u001b[0m\n\u001b[0;32m      6\u001b[0m \u001b[0macc_ax\u001b[0m \u001b[1;33m=\u001b[0m \u001b[0mloss_ax\u001b[0m\u001b[1;33m.\u001b[0m\u001b[0mtwinx\u001b[0m\u001b[1;33m(\u001b[0m\u001b[1;33m)\u001b[0m\u001b[1;33m\u001b[0m\u001b[1;33m\u001b[0m\u001b[0m\n\u001b[1;32m----> 7\u001b[1;33m \u001b[0mhist\u001b[0m \u001b[1;33m=\u001b[0m \u001b[0mmodel_Reg_early_history\u001b[0m\u001b[1;33m\u001b[0m\u001b[1;33m\u001b[0m\u001b[0m\n\u001b[0m\u001b[0;32m      8\u001b[0m \u001b[0mloss_ax\u001b[0m\u001b[1;33m.\u001b[0m\u001b[0mplot\u001b[0m\u001b[1;33m(\u001b[0m\u001b[0mhist\u001b[0m\u001b[1;33m.\u001b[0m\u001b[0mhistory\u001b[0m\u001b[1;33m[\u001b[0m\u001b[1;34m'loss'\u001b[0m\u001b[1;33m]\u001b[0m\u001b[1;33m,\u001b[0m \u001b[1;34m'y'\u001b[0m\u001b[1;33m,\u001b[0m \u001b[0mlabel\u001b[0m\u001b[1;33m=\u001b[0m\u001b[1;34m'train loss'\u001b[0m\u001b[1;33m)\u001b[0m\u001b[1;33m\u001b[0m\u001b[1;33m\u001b[0m\u001b[0m\n\u001b[0;32m      9\u001b[0m \u001b[0mloss_ax\u001b[0m\u001b[1;33m.\u001b[0m\u001b[0mplot\u001b[0m\u001b[1;33m(\u001b[0m\u001b[0mhist\u001b[0m\u001b[1;33m.\u001b[0m\u001b[0mhistory\u001b[0m\u001b[1;33m[\u001b[0m\u001b[1;34m'val_loss'\u001b[0m\u001b[1;33m]\u001b[0m\u001b[1;33m,\u001b[0m \u001b[1;34m'r'\u001b[0m\u001b[1;33m,\u001b[0m \u001b[0mlabel\u001b[0m\u001b[1;33m=\u001b[0m\u001b[1;34m'val loss'\u001b[0m\u001b[1;33m)\u001b[0m\u001b[1;33m\u001b[0m\u001b[1;33m\u001b[0m\u001b[0m\n",
      "\u001b[1;31mNameError\u001b[0m: name 'model_Reg_early_history' is not defined"
     ]
    }
   ],
   "metadata": {}
  },
  {
   "cell_type": "markdown",
   "source": [
    "## M/L for Intursion without classification"
   ],
   "metadata": {}
  },
  {
   "cell_type": "code",
   "execution_count": 32,
   "source": [
    "# # create the model instance \n",
    "EPOCHS = 5000\n",
    "nPar = 8\n",
    "nOut = 1\n",
    "iunit = nPar * nOut\n",
    "ounit = nOut\n",
    "print(\"nPar: {}, nOut: {}, iunit: {}, ounit: {}\".format(nPar,nOut,iunit,ounit))\n",
    "model_Intr = build_model(iunit, ounit, train_dataset,activation=None,loss='mse',metrics=['mse'])\n",
    "model_Intr, model_Intr_history, model_Intr_early_history = training(EPOCHS, model_Intr, normed_train_data, train_labels_Intr, verbose=0, monitor='mse', patience=5)\n",
    "\n",
    "\n",
    "model_Intr.save(dir+r'\\trainingdata_Intr_for_Zone.h5')"
   ],
   "outputs": [
    {
     "output_type": "stream",
     "name": "stdout",
     "text": [
      "nPar: 8, nOut: 1, iunit: 8, ounit: 1\n",
      "\n",
      "Epoch: 0, loss:11623.3838,  mse:11623.2822,  val_loss:11141.3203,  val_mse:11141.2188,  \n",
      "....................................................................................................\n",
      "Epoch: 100, loss:8543.6899,  mse:8543.4004,  val_loss:8572.8105,  val_mse:8572.5186,  \n",
      "....................................................................................................\n",
      "Epoch: 200, loss:2383.5010,  mse:2382.8398,  val_loss:2990.2981,  val_mse:2989.6355,  \n",
      "....................................................................................................\n",
      "Epoch: 300, loss:532.8788,  mse:532.1236,  val_loss:662.6148,  val_mse:661.8597,  \n",
      "....................................................................................................\n",
      "Epoch: 400, loss:284.7575,  mse:284.0288,  val_loss:293.7495,  val_mse:293.0210,  \n",
      "....................................................................................................\n",
      "Epoch: 500, loss:211.0493,  mse:210.3605,  val_loss:209.4859,  val_mse:208.7973,  \n",
      "....................................................................................................\n",
      "Epoch: 600, loss:170.3354,  mse:169.6869,  val_loss:182.7738,  val_mse:182.1256,  \n",
      "....................................................................................................\n",
      "Epoch: 700, loss:142.3331,  mse:141.7234,  val_loss:163.3984,  val_mse:162.7890,  \n",
      "....................................................................................................\n",
      "Epoch: 800, loss:121.1085,  mse:120.5350,  val_loss:143.1071,  val_mse:142.5338,  \n",
      "....................................................................................................\n",
      "Epoch: 900, loss:101.4736,  mse:100.9375,  val_loss:126.8623,  val_mse:126.3265,  \n",
      "....................................................................................................\n",
      "Epoch: 1000, loss:84.0088,  mse:83.5053,  val_loss:113.8217,  val_mse:113.3184,  \n",
      "....................................................................................................\n",
      "Epoch: 1100, loss:71.1947,  mse:70.7165,  val_loss:107.6458,  val_mse:107.1677,  \n",
      "....................................................................................................\n",
      "Epoch: 1200, loss:62.3640,  mse:61.9044,  val_loss:99.6911,  val_mse:99.2316,  \n",
      "....................................................................................................\n",
      "Epoch: 1300, loss:55.5942,  mse:55.1464,  val_loss:95.4797,  val_mse:95.0319,  \n",
      "....................................................................................................\n",
      "Epoch: 1400, loss:50.5494,  mse:50.1087,  val_loss:91.4616,  val_mse:91.0210,  \n",
      "....................................................................................................\n",
      "Epoch: 1500, loss:46.4215,  mse:45.9853,  val_loss:87.5797,  val_mse:87.1436,  \n",
      "....................................................................................................\n",
      "Epoch: 1600, loss:43.1871,  mse:42.7528,  val_loss:88.4202,  val_mse:87.9859,  \n",
      "....................................................................................................\n",
      "Epoch: 1700, loss:40.8775,  mse:40.4444,  val_loss:88.2015,  val_mse:87.7684,  \n",
      "....................................................................................................\n",
      "Epoch: 1800, loss:38.6839,  mse:38.2520,  val_loss:87.3704,  val_mse:86.9385,  \n",
      "....................................................................................................\n",
      "Epoch: 1900, loss:36.8808,  mse:36.4475,  val_loss:89.2906,  val_mse:88.8572,  \n",
      "....................................................................................................\n",
      "Epoch: 2000, loss:35.4822,  mse:35.0475,  val_loss:90.8266,  val_mse:90.3919,  \n",
      "....................................................................................................\n",
      "Epoch: 2100, loss:33.9799,  mse:33.5454,  val_loss:94.4041,  val_mse:93.9695,  \n",
      "....................................................................................................\n",
      "Epoch: 2200, loss:32.7272,  mse:32.2932,  val_loss:93.2341,  val_mse:92.8002,  \n",
      "....................................................................................................\n",
      "Epoch: 2300, loss:31.6931,  mse:31.2593,  val_loss:93.1275,  val_mse:92.6937,  \n",
      "....................................................................................................\n",
      "Epoch: 2400, loss:30.8947,  mse:30.4623,  val_loss:91.9736,  val_mse:91.5412,  \n",
      "....................................................................................................\n",
      "Epoch: 2500, loss:29.9751,  mse:29.5434,  val_loss:92.2441,  val_mse:91.8124,  \n",
      "....................................................................................................\n",
      "Epoch: 2600, loss:29.2731,  mse:28.8415,  val_loss:91.3522,  val_mse:90.9206,  \n",
      "....................................................................................................\n",
      "Epoch: 2700, loss:28.5887,  mse:28.1576,  val_loss:91.8298,  val_mse:91.3987,  \n",
      "....................................................................................................\n",
      "Epoch: 2800, loss:27.8974,  mse:27.4659,  val_loss:93.5153,  val_mse:93.0838,  \n",
      "....................................................................................................\n",
      "Epoch: 2900, loss:27.2969,  mse:26.8657,  val_loss:94.6355,  val_mse:94.2043,  \n",
      "....................................................................................................\n",
      "Epoch: 3000, loss:26.9324,  mse:26.5010,  val_loss:94.6463,  val_mse:94.2148,  \n",
      "....................................................................................................\n",
      "Epoch: 3100, loss:26.4219,  mse:25.9897,  val_loss:93.9005,  val_mse:93.4683,  \n",
      "....................................................................................................\n",
      "Epoch: 3200, loss:26.0314,  mse:25.5982,  val_loss:94.5611,  val_mse:94.1279,  \n",
      "....................................................................................................\n",
      "Epoch: 3300, loss:25.6826,  mse:25.2489,  val_loss:93.9604,  val_mse:93.5267,  \n",
      "....................................................................................................\n",
      "Epoch: 3400, loss:25.3938,  mse:24.9587,  val_loss:95.3386,  val_mse:94.9035,  \n",
      "....................................................................................................\n",
      "Epoch: 3500, loss:24.9538,  mse:24.5174,  val_loss:93.9956,  val_mse:93.5592,  \n",
      "....................................................................................................\n",
      "Epoch: 3600, loss:24.7319,  mse:24.2938,  val_loss:93.8741,  val_mse:93.4360,  \n",
      "....................................................................................................\n",
      "Epoch: 3700, loss:24.3445,  mse:23.9058,  val_loss:93.8463,  val_mse:93.4075,  \n",
      "....................................................................................................\n",
      "Epoch: 3800, loss:22.0977,  mse:21.6570,  val_loss:88.7127,  val_mse:88.2720,  \n",
      "....................................................................................................\n",
      "Epoch: 3900, loss:20.0902,  mse:19.6429,  val_loss:93.8050,  val_mse:93.3577,  \n",
      "....................................................................................................\n",
      "Epoch: 4000, loss:18.2527,  mse:17.7979,  val_loss:100.2127,  val_mse:99.7577,  \n",
      "....................................................................................................\n",
      "Epoch: 4100, loss:16.8755,  mse:16.4120,  val_loss:105.9211,  val_mse:105.4575,  \n",
      "....................................................................................................\n",
      "Epoch: 4200, loss:15.7575,  mse:15.2856,  val_loss:109.8060,  val_mse:109.3340,  \n",
      "....................................................................................................\n",
      "Epoch: 4300, loss:14.7012,  mse:14.2210,val_loss:115.5066,  val_mse:115.0263,  \n",
      "....................................................................................................\n",
      "Epoch: 4400, loss:13.5858,  mse:13.0959,  val_loss:120.9222,  val_mse:120.4322,  \n",
      "....................................................................................................\n",
      "Epoch: 4500, loss:12.8696,  mse:12.3727,  val_loss:123.8866,  val_mse:123.3897,  \n",
      "....................................................................................................\n",
      "Epoch: 4600, loss:12.2754,  mse:11.7732,  val_loss:125.4884,  val_mse:124.9862,  \n",
      "....................................................................................................\n",
      "Epoch: 4700, loss:11.8119,  mse:11.3047,  val_loss:128.6341,  val_mse:128.1268,  \n",
      "....................................................................................................\n",
      "Epoch: 4800, loss:11.2192,  mse:10.7068,  val_loss:134.2988,  val_mse:133.7864,  \n",
      "....................................................................................................\n",
      "Epoch: 4900, loss:10.7378,  mse:10.2206,  val_loss:136.9505,  val_mse:136.4333,  \n",
      "....................................................................................................% : Training : end <tensorflow.python.keras.engine.sequential.Sequential object at 0x0000025A04FCE208>\n",
      "\n",
      "Epoch: 0, loss:10.2533,  mse:9.7331,  val_loss:140.2230,  val_mse:139.7027,  \n",
      "......"
     ]
    }
   ],
   "metadata": {
    "tags": []
   }
  },
  {
   "cell_type": "code",
   "execution_count": 33,
   "source": [
    "test_mae_score_Intr, test_mae_score1_Intr = model_Intr.evaluate(  normed_test__data, test__labels_Intr  )\n",
    "print(test_mae_score_Intr, test_mae_score1_Intr)"
   ],
   "outputs": [
    {
     "output_type": "stream",
     "name": "stdout",
     "text": [
      "60/60 [==============================] - 0s 50us/sample - loss: 118.5287 - mse: 118.0082\n",
      "118.5287078857422 118.00817\n"
     ]
    }
   ],
   "metadata": {
    "tags": []
   }
  },
  {
   "cell_type": "code",
   "execution_count": 31,
   "source": [
    "train_predictions = model_Intr.predict(normed_train_data).flatten()\n",
    "test__predictions = model_Intr.predict(normed_test__data).flatten()\n",
    "print(\"{},{}\".format(len(train_predictions),len(train_labels_Intr)))\n",
    "plt.scatter(train_labels_Intr, train_predictions)\n",
    "plt.scatter(test__labels_Intr, test__predictions )\n",
    "\n",
    "plt.xlabel('True Values [Intr]')\n",
    "plt.ylabel('Predictions [Intr]')\n",
    "plt.axis('equal')\n",
    "plt.axis('square')\n",
    "plt.xlim([80,plt.xlim()[1]])\n",
    "plt.ylim([80,plt.ylim()[1]])\n",
    "_ = plt.plot([0, 150], [0, 150])"
   ],
   "outputs": [
    {
     "output_type": "stream",
     "name": "stdout",
     "text": [
      "140,140\n"
     ]
    },
    {
     "output_type": "display_data",
     "data": {
      "text/plain": [
       "<Figure size 432x288 with 1 Axes>"
      ],
      "image/svg+xml": "<?xml version=\"1.0\" encoding=\"utf-8\" standalone=\"no\"?>\r\n<!DOCTYPE svg PUBLIC \"-//W3C//DTD SVG 1.1//EN\"\r\n  \"http://www.w3.org/Graphics/SVG/1.1/DTD/svg11.dtd\">\r\n<!-- Created with matplotlib (https://matplotlib.org/) -->\r\n<svg height=\"262.19625pt\" version=\"1.1\" viewBox=\"0 0 281.890557 262.19625\" width=\"281.890557pt\" xmlns=\"http://www.w3.org/2000/svg\" xmlns:xlink=\"http://www.w3.org/1999/xlink\">\r\n <defs>\r\n  <style type=\"text/css\">\r\n*{stroke-linecap:butt;stroke-linejoin:round;}\r\n  </style>\r\n </defs>\r\n <g id=\"figure_1\">\r\n  <g id=\"patch_1\">\r\n   <path d=\"M -0 262.19625 \r\nL 281.890557 262.19625 \r\nL 281.890557 0 \r\nL -0 0 \r\nz\r\n\" style=\"fill:none;\"/>\r\n  </g>\r\n  <g id=\"axes_1\">\r\n   <g id=\"patch_2\">\r\n    <path d=\"M 46.965625 224.64 \r\nL 274.690557 224.64 \r\nL 274.690557 7.2 \r\nL 46.965625 7.2 \r\nz\r\n\" style=\"fill:#ffffff;\"/>\r\n   </g>\r\n   <g id=\"PathCollection_1\">\r\n    <defs>\r\n     <path d=\"M 0 3 \r\nC 0.795609 3 1.55874 2.683901 2.12132 2.12132 \r\nC 2.683901 1.55874 3 0.795609 3 0 \r\nC 3 -0.795609 2.683901 -1.55874 2.12132 -2.12132 \r\nC 1.55874 -2.683901 0.795609 -3 0 -3 \r\nC -0.795609 -3 -1.55874 -2.683901 -2.12132 -2.12132 \r\nC -2.683901 -1.55874 -3 -0.795609 -3 0 \r\nC -3 0.795609 -2.683901 1.55874 -2.12132 2.12132 \r\nC -1.55874 2.683901 -0.795609 3 0 3 \r\nz\r\n\" id=\"m9db635ad72\" style=\"stroke:#1f77b4;\"/>\r\n    </defs>\r\n    <g clip-path=\"url(#pe0e346a2d9)\">\r\n     <use style=\"fill:#1f77b4;stroke:#1f77b4;\" x=\"123.266993\" xlink:href=\"#m9db635ad72\" y=\"128.035827\"/>\r\n     <use style=\"fill:#1f77b4;stroke:#1f77b4;\" x=\"103.167877\" xlink:href=\"#m9db635ad72\" y=\"162.576048\"/>\r\n     <use style=\"fill:#1f77b4;stroke:#1f77b4;\" x=\"116.233224\" xlink:href=\"#m9db635ad72\" y=\"145.755943\"/>\r\n     <use style=\"fill:#1f77b4;stroke:#1f77b4;\" x=\"112.023529\" xlink:href=\"#m9db635ad72\" y=\"152.502398\"/>\r\n     <use style=\"fill:#1f77b4;stroke:#1f77b4;\" x=\"105.138404\" xlink:href=\"#m9db635ad72\" y=\"151.710383\"/>\r\n     <use style=\"fill:#1f77b4;stroke:#1f77b4;\" x=\"253.021513\" xlink:href=\"#m9db635ad72\" y=\"108.445761\"/>\r\n     <use style=\"fill:#1f77b4;stroke:#1f77b4;\" x=\"106.492956\" xlink:href=\"#m9db635ad72\" y=\"153.233997\"/>\r\n     <use style=\"fill:#1f77b4;stroke:#1f77b4;\" x=\"134.086474\" xlink:href=\"#m9db635ad72\" y=\"138.093477\"/>\r\n     <use style=\"fill:#1f77b4;stroke:#1f77b4;\" x=\"156.563356\" xlink:href=\"#m9db635ad72\" y=\"149.199412\"/>\r\n     <use style=\"fill:#1f77b4;stroke:#1f77b4;\" x=\"102.024481\" xlink:href=\"#m9db635ad72\" y=\"158.584647\"/>\r\n     <use style=\"fill:#1f77b4;stroke:#1f77b4;\" x=\"140.878207\" xlink:href=\"#m9db635ad72\" y=\"130.057142\"/>\r\n     <use style=\"fill:#1f77b4;stroke:#1f77b4;\" x=\"191.48347\" xlink:href=\"#m9db635ad72\" y=\"103.033881\"/>\r\n     <use style=\"fill:#1f77b4;stroke:#1f77b4;\" x=\"104.512011\" xlink:href=\"#m9db635ad72\" y=\"147.993925\"/>\r\n     <use style=\"fill:#1f77b4;stroke:#1f77b4;\" x=\"129.779667\" xlink:href=\"#m9db635ad72\" y=\"137.245325\"/>\r\n     <use style=\"fill:#1f77b4;stroke:#1f77b4;\" x=\"133.376176\" xlink:href=\"#m9db635ad72\" y=\"136.089765\"/>\r\n     <use style=\"fill:#1f77b4;stroke:#1f77b4;\" x=\"129.680694\" xlink:href=\"#m9db635ad72\" y=\"101.279764\"/>\r\n     <use style=\"fill:#1f77b4;stroke:#1f77b4;\" x=\"114.092656\" xlink:href=\"#m9db635ad72\" y=\"154.204401\"/>\r\n     <use style=\"fill:#1f77b4;stroke:#1f77b4;\" x=\"133.310505\" xlink:href=\"#m9db635ad72\" y=\"153.163628\"/>\r\n     <use style=\"fill:#1f77b4;stroke:#1f77b4;\" x=\"139.745228\" xlink:href=\"#m9db635ad72\" y=\"122.004622\"/>\r\n     <use style=\"fill:#1f77b4;stroke:#1f77b4;\" x=\"132.905125\" xlink:href=\"#m9db635ad72\" y=\"130.368712\"/>\r\n     <use style=\"fill:#1f77b4;stroke:#1f77b4;\" x=\"137.119657\" xlink:href=\"#m9db635ad72\" y=\"142.661018\"/>\r\n     <use style=\"fill:#1f77b4;stroke:#1f77b4;\" x=\"147.82398\" xlink:href=\"#m9db635ad72\" y=\"120.678116\"/>\r\n     <use style=\"fill:#1f77b4;stroke:#1f77b4;\" x=\"146.261809\" xlink:href=\"#m9db635ad72\" y=\"99.334771\"/>\r\n     <use style=\"fill:#1f77b4;stroke:#1f77b4;\" x=\"167.920119\" xlink:href=\"#m9db635ad72\" y=\"140.046098\"/>\r\n     <use style=\"fill:#1f77b4;stroke:#1f77b4;\" x=\"118.812657\" xlink:href=\"#m9db635ad72\" y=\"152.644067\"/>\r\n     <use style=\"fill:#1f77b4;stroke:#1f77b4;\" x=\"150.223513\" xlink:href=\"#m9db635ad72\" y=\"133.780484\"/>\r\n     <use style=\"fill:#1f77b4;stroke:#1f77b4;\" x=\"129.179691\" xlink:href=\"#m9db635ad72\" y=\"129.614439\"/>\r\n     <use style=\"fill:#1f77b4;stroke:#1f77b4;\" x=\"156.204115\" xlink:href=\"#m9db635ad72\" y=\"129.899939\"/>\r\n     <use style=\"fill:#1f77b4;stroke:#1f77b4;\" x=\"116.55042\" xlink:href=\"#m9db635ad72\" y=\"156.201974\"/>\r\n     <use style=\"fill:#1f77b4;stroke:#1f77b4;\" x=\"112.869635\" xlink:href=\"#m9db635ad72\" y=\"160.043962\"/>\r\n     <use style=\"fill:#1f77b4;stroke:#1f77b4;\" x=\"115.803287\" xlink:href=\"#m9db635ad72\" y=\"150.27337\"/>\r\n     <use style=\"fill:#1f77b4;stroke:#1f77b4;\" x=\"109.924262\" xlink:href=\"#m9db635ad72\" y=\"145.448118\"/>\r\n     <use style=\"fill:#1f77b4;stroke:#1f77b4;\" x=\"112.865542\" xlink:href=\"#m9db635ad72\" y=\"167.084475\"/>\r\n     <use style=\"fill:#1f77b4;stroke:#1f77b4;\" x=\"97.184113\" xlink:href=\"#m9db635ad72\" y=\"185.152694\"/>\r\n     <use style=\"fill:#1f77b4;stroke:#1f77b4;\" x=\"131.207704\" xlink:href=\"#m9db635ad72\" y=\"134.62487\"/>\r\n     <use style=\"fill:#1f77b4;stroke:#1f77b4;\" x=\"122.948308\" xlink:href=\"#m9db635ad72\" y=\"156.646096\"/>\r\n     <use style=\"fill:#1f77b4;stroke:#1f77b4;\" x=\"113.731182\" xlink:href=\"#m9db635ad72\" y=\"168.656646\"/>\r\n     <use style=\"fill:#1f77b4;stroke:#1f77b4;\" x=\"156.256392\" xlink:href=\"#m9db635ad72\" y=\"133.518262\"/>\r\n     <use style=\"fill:#1f77b4;stroke:#1f77b4;\" x=\"144.0072\" xlink:href=\"#m9db635ad72\" y=\"160.005963\"/>\r\n     <use style=\"fill:#1f77b4;stroke:#1f77b4;\" x=\"131.085104\" xlink:href=\"#m9db635ad72\" y=\"134.217909\"/>\r\n     <use style=\"fill:#1f77b4;stroke:#1f77b4;\" x=\"95.201307\" xlink:href=\"#m9db635ad72\" y=\"172.881061\"/>\r\n     <use style=\"fill:#1f77b4;stroke:#1f77b4;\" x=\"123.072396\" xlink:href=\"#m9db635ad72\" y=\"125.158405\"/>\r\n     <use style=\"fill:#1f77b4;stroke:#1f77b4;\" x=\"141.698081\" xlink:href=\"#m9db635ad72\" y=\"146.208251\"/>\r\n     <use style=\"fill:#1f77b4;stroke:#1f77b4;\" x=\"115.261727\" xlink:href=\"#m9db635ad72\" y=\"159.187856\"/>\r\n     <use style=\"fill:#1f77b4;stroke:#1f77b4;\" x=\"115.635107\" xlink:href=\"#m9db635ad72\" y=\"165.027347\"/>\r\n     <use style=\"fill:#1f77b4;stroke:#1f77b4;\" x=\"130.77107\" xlink:href=\"#m9db635ad72\" y=\"92.643918\"/>\r\n     <use style=\"fill:#1f77b4;stroke:#1f77b4;\" x=\"167.260982\" xlink:href=\"#m9db635ad72\" y=\"152.542373\"/>\r\n     <use style=\"fill:#1f77b4;stroke:#1f77b4;\" x=\"119.026602\" xlink:href=\"#m9db635ad72\" y=\"159.32292\"/>\r\n     <use style=\"fill:#1f77b4;stroke:#1f77b4;\" x=\"161.446327\" xlink:href=\"#m9db635ad72\" y=\"117.675049\"/>\r\n     <use style=\"fill:#1f77b4;stroke:#1f77b4;\" x=\"104.837765\" xlink:href=\"#m9db635ad72\" y=\"146.487682\"/>\r\n     <use style=\"fill:#1f77b4;stroke:#1f77b4;\" x=\"131.829074\" xlink:href=\"#m9db635ad72\" y=\"122.755128\"/>\r\n     <use style=\"fill:#1f77b4;stroke:#1f77b4;\" x=\"97.033793\" xlink:href=\"#m9db635ad72\" y=\"162.019512\"/>\r\n     <use style=\"fill:#1f77b4;stroke:#1f77b4;\" x=\"121.953184\" xlink:href=\"#m9db635ad72\" y=\"149.713485\"/>\r\n     <use style=\"fill:#1f77b4;stroke:#1f77b4;\" x=\"143.644051\" xlink:href=\"#m9db635ad72\" y=\"131.298861\"/>\r\n     <use style=\"fill:#1f77b4;stroke:#1f77b4;\" x=\"105.90656\" xlink:href=\"#m9db635ad72\" y=\"164.231239\"/>\r\n     <use style=\"fill:#1f77b4;stroke:#1f77b4;\" x=\"104.335645\" xlink:href=\"#m9db635ad72\" y=\"133.046699\"/>\r\n     <use style=\"fill:#1f77b4;stroke:#1f77b4;\" x=\"111.142261\" xlink:href=\"#m9db635ad72\" y=\"165.650369\"/>\r\n     <use style=\"fill:#1f77b4;stroke:#1f77b4;\" x=\"117.675027\" xlink:href=\"#m9db635ad72\" y=\"160.487921\"/>\r\n     <use style=\"fill:#1f77b4;stroke:#1f77b4;\" x=\"93.061671\" xlink:href=\"#m9db635ad72\" y=\"161.921306\"/>\r\n     <use style=\"fill:#1f77b4;stroke:#1f77b4;\" x=\"102.0109\" xlink:href=\"#m9db635ad72\" y=\"159.74802\"/>\r\n     <use style=\"fill:#1f77b4;stroke:#1f77b4;\" x=\"108.755937\" xlink:href=\"#m9db635ad72\" y=\"161.037272\"/>\r\n     <use style=\"fill:#1f77b4;stroke:#1f77b4;\" x=\"173.1854\" xlink:href=\"#m9db635ad72\" y=\"107.924711\"/>\r\n     <use style=\"fill:#1f77b4;stroke:#1f77b4;\" x=\"124.591592\" xlink:href=\"#m9db635ad72\" y=\"136.466425\"/>\r\n     <use style=\"fill:#1f77b4;stroke:#1f77b4;\" x=\"122.181827\" xlink:href=\"#m9db635ad72\" y=\"147.562314\"/>\r\n     <use style=\"fill:#1f77b4;stroke:#1f77b4;\" x=\"123.215088\" xlink:href=\"#m9db635ad72\" y=\"130.294366\"/>\r\n     <use style=\"fill:#1f77b4;stroke:#1f77b4;\" x=\"153.234557\" xlink:href=\"#m9db635ad72\" y=\"129.948937\"/>\r\n     <use style=\"fill:#1f77b4;stroke:#1f77b4;\" x=\"107.661468\" xlink:href=\"#m9db635ad72\" y=\"150.048588\"/>\r\n     <use style=\"fill:#1f77b4;stroke:#1f77b4;\" x=\"113.095486\" xlink:href=\"#m9db635ad72\" y=\"139.667741\"/>\r\n     <use style=\"fill:#1f77b4;stroke:#1f77b4;\" x=\"119.4757\" xlink:href=\"#m9db635ad72\" y=\"168.494094\"/>\r\n     <use style=\"fill:#1f77b4;stroke:#1f77b4;\" x=\"110.697813\" xlink:href=\"#m9db635ad72\" y=\"119.99598\"/>\r\n     <use style=\"fill:#1f77b4;stroke:#1f77b4;\" x=\"131.054221\" xlink:href=\"#m9db635ad72\" y=\"166.129885\"/>\r\n     <use style=\"fill:#1f77b4;stroke:#1f77b4;\" x=\"161.77636\" xlink:href=\"#m9db635ad72\" y=\"124.337902\"/>\r\n     <use style=\"fill:#1f77b4;stroke:#1f77b4;\" x=\"102.425767\" xlink:href=\"#m9db635ad72\" y=\"170.214678\"/>\r\n     <use style=\"fill:#1f77b4;stroke:#1f77b4;\" x=\"147.59664\" xlink:href=\"#m9db635ad72\" y=\"132.033669\"/>\r\n     <use style=\"fill:#1f77b4;stroke:#1f77b4;\" x=\"104.580287\" xlink:href=\"#m9db635ad72\" y=\"143.089606\"/>\r\n     <use style=\"fill:#1f77b4;stroke:#1f77b4;\" x=\"103.303314\" xlink:href=\"#m9db635ad72\" y=\"129.172573\"/>\r\n     <use style=\"fill:#1f77b4;stroke:#1f77b4;\" x=\"124.23942\" xlink:href=\"#m9db635ad72\" y=\"127.916389\"/>\r\n     <use style=\"fill:#1f77b4;stroke:#1f77b4;\" x=\"115.113454\" xlink:href=\"#m9db635ad72\" y=\"151.705453\"/>\r\n     <use style=\"fill:#1f77b4;stroke:#1f77b4;\" x=\"149.553028\" xlink:href=\"#m9db635ad72\" y=\"131.952556\"/>\r\n     <use style=\"fill:#1f77b4;stroke:#1f77b4;\" x=\"99.994607\" xlink:href=\"#m9db635ad72\" y=\"133.586027\"/>\r\n     <use style=\"fill:#1f77b4;stroke:#1f77b4;\" x=\"134.92179\" xlink:href=\"#m9db635ad72\" y=\"142.885102\"/>\r\n     <use style=\"fill:#1f77b4;stroke:#1f77b4;\" x=\"125.908563\" xlink:href=\"#m9db635ad72\" y=\"160.151539\"/>\r\n     <use style=\"fill:#1f77b4;stroke:#1f77b4;\" x=\"111.752284\" xlink:href=\"#m9db635ad72\" y=\"164.352257\"/>\r\n     <use style=\"fill:#1f77b4;stroke:#1f77b4;\" x=\"137.867348\" xlink:href=\"#m9db635ad72\" y=\"136.209923\"/>\r\n     <use style=\"fill:#1f77b4;stroke:#1f77b4;\" x=\"146.877226\" xlink:href=\"#m9db635ad72\" y=\"132.935448\"/>\r\n     <use style=\"fill:#1f77b4;stroke:#1f77b4;\" x=\"105.516064\" xlink:href=\"#m9db635ad72\" y=\"160.03666\"/>\r\n     <use style=\"fill:#1f77b4;stroke:#1f77b4;\" x=\"142.091554\" xlink:href=\"#m9db635ad72\" y=\"143.259878\"/>\r\n     <use style=\"fill:#1f77b4;stroke:#1f77b4;\" x=\"103.367311\" xlink:href=\"#m9db635ad72\" y=\"149.641185\"/>\r\n     <use style=\"fill:#1f77b4;stroke:#1f77b4;\" x=\"151.600017\" xlink:href=\"#m9db635ad72\" y=\"121.569477\"/>\r\n     <use style=\"fill:#1f77b4;stroke:#1f77b4;\" x=\"130.137606\" xlink:href=\"#m9db635ad72\" y=\"141.088103\"/>\r\n     <use style=\"fill:#1f77b4;stroke:#1f77b4;\" x=\"140.298695\" xlink:href=\"#m9db635ad72\" y=\"136.511958\"/>\r\n     <use style=\"fill:#1f77b4;stroke:#1f77b4;\" x=\"105.666942\" xlink:href=\"#m9db635ad72\" y=\"155.733201\"/>\r\n     <use style=\"fill:#1f77b4;stroke:#1f77b4;\" x=\"111.632102\" xlink:href=\"#m9db635ad72\" y=\"153.598146\"/>\r\n     <use style=\"fill:#1f77b4;stroke:#1f77b4;\" x=\"121.966579\" xlink:href=\"#m9db635ad72\" y=\"140.292251\"/>\r\n     <use style=\"fill:#1f77b4;stroke:#1f77b4;\" x=\"169.239881\" xlink:href=\"#m9db635ad72\" y=\"127.745978\"/>\r\n     <use style=\"fill:#1f77b4;stroke:#1f77b4;\" x=\"105.505646\" xlink:href=\"#m9db635ad72\" y=\"156.722116\"/>\r\n     <use style=\"fill:#1f77b4;stroke:#1f77b4;\" x=\"143.409084\" xlink:href=\"#m9db635ad72\" y=\"146.383104\"/>\r\n     <use style=\"fill:#1f77b4;stroke:#1f77b4;\" x=\"116.963241\" xlink:href=\"#m9db635ad72\" y=\"161.944306\"/>\r\n     <use style=\"fill:#1f77b4;stroke:#1f77b4;\" x=\"145.188176\" xlink:href=\"#m9db635ad72\" y=\"139.006418\"/>\r\n     <use style=\"fill:#1f77b4;stroke:#1f77b4;\" x=\"265.953655\" xlink:href=\"#m9db635ad72\" y=\"45.903874\"/>\r\n     <use style=\"fill:#1f77b4;stroke:#1f77b4;\" x=\"156.368202\" xlink:href=\"#m9db635ad72\" y=\"106.599833\"/>\r\n     <use style=\"fill:#1f77b4;stroke:#1f77b4;\" x=\"107.179626\" xlink:href=\"#m9db635ad72\" y=\"147.964484\"/>\r\n     <use style=\"fill:#1f77b4;stroke:#1f77b4;\" x=\"121.091451\" xlink:href=\"#m9db635ad72\" y=\"143.730139\"/>\r\n     <use style=\"fill:#1f77b4;stroke:#1f77b4;\" x=\"102.893284\" xlink:href=\"#m9db635ad72\" y=\"164.451742\"/>\r\n     <use style=\"fill:#1f77b4;stroke:#1f77b4;\" x=\"102.227263\" xlink:href=\"#m9db635ad72\" y=\"154.876654\"/>\r\n     <use style=\"fill:#1f77b4;stroke:#1f77b4;\" x=\"150.350392\" xlink:href=\"#m9db635ad72\" y=\"114.988643\"/>\r\n     <use style=\"fill:#1f77b4;stroke:#1f77b4;\" x=\"105.202216\" xlink:href=\"#m9db635ad72\" y=\"156.590168\"/>\r\n     <use style=\"fill:#1f77b4;stroke:#1f77b4;\" x=\"114.586777\" xlink:href=\"#m9db635ad72\" y=\"146.684441\"/>\r\n     <use style=\"fill:#1f77b4;stroke:#1f77b4;\" x=\"122.010857\" xlink:href=\"#m9db635ad72\" y=\"146.287155\"/>\r\n     <use style=\"fill:#1f77b4;stroke:#1f77b4;\" x=\"113.489331\" xlink:href=\"#m9db635ad72\" y=\"146.135509\"/>\r\n     <use style=\"fill:#1f77b4;stroke:#1f77b4;\" x=\"133.546216\" xlink:href=\"#m9db635ad72\" y=\"133.62849\"/>\r\n     <use style=\"fill:#1f77b4;stroke:#1f77b4;\" x=\"223.949541\" xlink:href=\"#m9db635ad72\" y=\"130.014167\"/>\r\n     <use style=\"fill:#1f77b4;stroke:#1f77b4;\" x=\"120.989687\" xlink:href=\"#m9db635ad72\" y=\"123.326105\"/>\r\n     <use style=\"fill:#1f77b4;stroke:#1f77b4;\" x=\"138.095991\" xlink:href=\"#m9db635ad72\" y=\"116.52428\"/>\r\n     <use style=\"fill:#1f77b4;stroke:#1f77b4;\" x=\"104.734141\" xlink:href=\"#m9db635ad72\" y=\"148.615923\"/>\r\n     <use style=\"fill:#1f77b4;stroke:#1f77b4;\" x=\"117.570101\" xlink:href=\"#m9db635ad72\" y=\"141.066965\"/>\r\n     <use style=\"fill:#1f77b4;stroke:#1f77b4;\" x=\"119.113854\" xlink:href=\"#m9db635ad72\" y=\"146.701045\"/>\r\n     <use style=\"fill:#1f77b4;stroke:#1f77b4;\" x=\"120.9149\" xlink:href=\"#m9db635ad72\" y=\"142.671018\"/>\r\n     <use style=\"fill:#1f77b4;stroke:#1f77b4;\" x=\"101.582824\" xlink:href=\"#m9db635ad72\" y=\"160.739237\"/>\r\n     <use style=\"fill:#1f77b4;stroke:#1f77b4;\" x=\"102.786683\" xlink:href=\"#m9db635ad72\" y=\"147.733633\"/>\r\n     <use style=\"fill:#1f77b4;stroke:#1f77b4;\" x=\"129.816317\" xlink:href=\"#m9db635ad72\" y=\"118.245654\"/>\r\n     <use style=\"fill:#1f77b4;stroke:#1f77b4;\" x=\"141.203589\" xlink:href=\"#m9db635ad72\" y=\"84.018397\"/>\r\n     <use style=\"fill:#1f77b4;stroke:#1f77b4;\" x=\"112.845636\" xlink:href=\"#m9db635ad72\" y=\"134.546942\"/>\r\n     <use style=\"fill:#1f77b4;stroke:#1f77b4;\" x=\"128.364281\" xlink:href=\"#m9db635ad72\" y=\"112.53546\"/>\r\n     <use style=\"fill:#1f77b4;stroke:#1f77b4;\" x=\"112.059992\" xlink:href=\"#m9db635ad72\" y=\"145.134688\"/>\r\n     <use style=\"fill:#1f77b4;stroke:#1f77b4;\" x=\"123.392197\" xlink:href=\"#m9db635ad72\" y=\"104.502311\"/>\r\n     <use style=\"fill:#1f77b4;stroke:#1f77b4;\" x=\"129.12853\" xlink:href=\"#m9db635ad72\" y=\"161.651945\"/>\r\n     <use style=\"fill:#1f77b4;stroke:#1f77b4;\" x=\"111.390251\" xlink:href=\"#m9db635ad72\" y=\"178.411239\"/>\r\n     <use style=\"fill:#1f77b4;stroke:#1f77b4;\" x=\"146.141627\" xlink:href=\"#m9db635ad72\" y=\"138.155661\"/>\r\n     <use style=\"fill:#1f77b4;stroke:#1f77b4;\" x=\"129.333731\" xlink:href=\"#m9db635ad72\" y=\"138.88233\"/>\r\n     <use style=\"fill:#1f77b4;stroke:#1f77b4;\" x=\"103.220713\" xlink:href=\"#m9db635ad72\" y=\"121.9253\"/>\r\n     <use style=\"fill:#1f77b4;stroke:#1f77b4;\" x=\"111.676194\" xlink:href=\"#m9db635ad72\" y=\"146.400685\"/>\r\n     <use style=\"fill:#1f77b4;stroke:#1f77b4;\" x=\"131.862748\" xlink:href=\"#m9db635ad72\" y=\"134.337765\"/>\r\n     <use style=\"fill:#1f77b4;stroke:#1f77b4;\" x=\"120.10935\" xlink:href=\"#m9db635ad72\" y=\"147.613102\"/>\r\n     <use style=\"fill:#1f77b4;stroke:#1f77b4;\" x=\"153.794907\" xlink:href=\"#m9db635ad72\" y=\"139.372218\"/>\r\n     <use style=\"fill:#1f77b4;stroke:#1f77b4;\" x=\"156.557961\" xlink:href=\"#m9db635ad72\" y=\"111.566312\"/>\r\n     <use style=\"fill:#1f77b4;stroke:#1f77b4;\" x=\"146.46794\" xlink:href=\"#m9db635ad72\" y=\"132.661296\"/>\r\n     <use style=\"fill:#1f77b4;stroke:#1f77b4;\" x=\"120.921225\" xlink:href=\"#m9db635ad72\" y=\"158.351331\"/>\r\n     <use style=\"fill:#1f77b4;stroke:#1f77b4;\" x=\"120.383386\" xlink:href=\"#m9db635ad72\" y=\"162.333127\"/>\r\n     <use style=\"fill:#1f77b4;stroke:#1f77b4;\" x=\"113.991451\" xlink:href=\"#m9db635ad72\" y=\"138.998\"/>\r\n    </g>\r\n   </g>\r\n   <g id=\"PathCollection_2\">\r\n    <defs>\r\n     <path d=\"M 0 3 \r\nC 0.795609 3 1.55874 2.683901 2.12132 2.12132 \r\nC 2.683901 1.55874 3 0.795609 3 0 \r\nC 3 -0.795609 2.683901 -1.55874 2.12132 -2.12132 \r\nC 1.55874 -2.683901 0.795609 -3 0 -3 \r\nC -0.795609 -3 -1.55874 -2.683901 -2.12132 -2.12132 \r\nC -2.683901 -1.55874 -3 -0.795609 -3 0 \r\nC -3 0.795609 -2.683901 1.55874 -2.12132 2.12132 \r\nC -1.55874 2.683901 -0.795609 3 0 3 \r\nz\r\n\" id=\"m4994c351e2\" style=\"stroke:#ff7f0e;\"/>\r\n    </defs>\r\n    <g clip-path=\"url(#pe0e346a2d9)\">\r\n     <use style=\"fill:#ff7f0e;stroke:#ff7f0e;\" x=\"111.361787\" xlink:href=\"#m4994c351e2\" y=\"139.773178\"/>\r\n     <use style=\"fill:#ff7f0e;stroke:#ff7f0e;\" x=\"129.404054\" xlink:href=\"#m4994c351e2\" y=\"140.839532\"/>\r\n     <use style=\"fill:#ff7f0e;stroke:#ff7f0e;\" x=\"128.91384\" xlink:href=\"#m4994c351e2\" y=\"147.385251\"/>\r\n     <use style=\"fill:#ff7f0e;stroke:#ff7f0e;\" x=\"144.918606\" xlink:href=\"#m4994c351e2\" y=\"125.220426\"/>\r\n     <use style=\"fill:#ff7f0e;stroke:#ff7f0e;\" x=\"111.182446\" xlink:href=\"#m4994c351e2\" y=\"177.896073\"/>\r\n     <use style=\"fill:#ff7f0e;stroke:#ff7f0e;\" x=\"118.944187\" xlink:href=\"#m4994c351e2\" y=\"157.117542\"/>\r\n     <use style=\"fill:#ff7f0e;stroke:#ff7f0e;\" x=\"138.002413\" xlink:href=\"#m4994c351e2\" y=\"171.492581\"/>\r\n     <use style=\"fill:#ff7f0e;stroke:#ff7f0e;\" x=\"132.99275\" xlink:href=\"#m4994c351e2\" y=\"144.891489\"/>\r\n     <use style=\"fill:#ff7f0e;stroke:#ff7f0e;\" x=\"127.939367\" xlink:href=\"#m4994c351e2\" y=\"113.202248\"/>\r\n     <use style=\"fill:#ff7f0e;stroke:#ff7f0e;\" x=\"104.847067\" xlink:href=\"#m4994c351e2\" y=\"102.453113\"/>\r\n     <use style=\"fill:#ff7f0e;stroke:#ff7f0e;\" x=\"112.301843\" xlink:href=\"#m4994c351e2\" y=\"146.713045\"/>\r\n     <use style=\"fill:#ff7f0e;stroke:#ff7f0e;\" x=\"109.6346\" xlink:href=\"#m4994c351e2\" y=\"166.009169\"/>\r\n     <use style=\"fill:#ff7f0e;stroke:#ff7f0e;\" x=\"114.187537\" xlink:href=\"#m4994c351e2\" y=\"132.024088\"/>\r\n     <use style=\"fill:#ff7f0e;stroke:#ff7f0e;\" x=\"101.659472\" xlink:href=\"#m4994c351e2\" y=\"156.529077\"/>\r\n     <use style=\"fill:#ff7f0e;stroke:#ff7f0e;\" x=\"130.717863\" xlink:href=\"#m4994c351e2\" y=\"124.838627\"/>\r\n     <use style=\"fill:#ff7f0e;stroke:#ff7f0e;\" x=\"98.720052\" xlink:href=\"#m4994c351e2\" y=\"189.413085\"/>\r\n     <use style=\"fill:#ff7f0e;stroke:#ff7f0e;\" x=\"126.284549\" xlink:href=\"#m4994c351e2\" y=\"97.870875\"/>\r\n     <use style=\"fill:#ff7f0e;stroke:#ff7f0e;\" x=\"109.219918\" xlink:href=\"#m4994c351e2\" y=\"177.003852\"/>\r\n     <use style=\"fill:#ff7f0e;stroke:#ff7f0e;\" x=\"99.728013\" xlink:href=\"#m4994c351e2\" y=\"149.420194\"/>\r\n     <use style=\"fill:#ff7f0e;stroke:#ff7f0e;\" x=\"126.473192\" xlink:href=\"#m4994c351e2\" y=\"153.585658\"/>\r\n     <use style=\"fill:#ff7f0e;stroke:#ff7f0e;\" x=\"121.456832\" xlink:href=\"#m4994c351e2\" y=\"130.279134\"/>\r\n     <use style=\"fill:#ff7f0e;stroke:#ff7f0e;\" x=\"109.393307\" xlink:href=\"#m4994c351e2\" y=\"175.853432\"/>\r\n     <use style=\"fill:#ff7f0e;stroke:#ff7f0e;\" x=\"93.49384\" xlink:href=\"#m4994c351e2\" y=\"161.140151\"/>\r\n     <use style=\"fill:#ff7f0e;stroke:#ff7f0e;\" x=\"161.04132\" xlink:href=\"#m4994c351e2\" y=\"121.896906\"/>\r\n     <use style=\"fill:#ff7f0e;stroke:#ff7f0e;\" x=\"124.212444\" xlink:href=\"#m4994c351e2\" y=\"97.518982\"/>\r\n     <use style=\"fill:#ff7f0e;stroke:#ff7f0e;\" x=\"112.966933\" xlink:href=\"#m4994c351e2\" y=\"160.376507\"/>\r\n     <use style=\"fill:#ff7f0e;stroke:#ff7f0e;\" x=\"130.680841\" xlink:href=\"#m4994c351e2\" y=\"130.809485\"/>\r\n     <use style=\"fill:#ff7f0e;stroke:#ff7f0e;\" x=\"135.226522\" xlink:href=\"#m4994c351e2\" y=\"150.812186\"/>\r\n     <use style=\"fill:#ff7f0e;stroke:#ff7f0e;\" x=\"133.607423\" xlink:href=\"#m4994c351e2\" y=\"122.298332\"/>\r\n     <use style=\"fill:#ff7f0e;stroke:#ff7f0e;\" x=\"151.44114\" xlink:href=\"#m4994c351e2\" y=\"142.869661\"/>\r\n     <use style=\"fill:#ff7f0e;stroke:#ff7f0e;\" x=\"150.628334\" xlink:href=\"#m4994c351e2\" y=\"134.292394\"/>\r\n     <use style=\"fill:#ff7f0e;stroke:#ff7f0e;\" x=\"134.490551\" xlink:href=\"#m4994c351e2\" y=\"153.455872\"/>\r\n     <use style=\"fill:#ff7f0e;stroke:#ff7f0e;\" x=\"107.796532\" xlink:href=\"#m4994c351e2\" y=\"152.718948\"/>\r\n     <use style=\"fill:#ff7f0e;stroke:#ff7f0e;\" x=\"134.357905\" xlink:href=\"#m4994c351e2\" y=\"138.811007\"/>\r\n     <use style=\"fill:#ff7f0e;stroke:#ff7f0e;\" x=\"129.931103\" xlink:href=\"#m4994c351e2\" y=\"123.241387\"/>\r\n     <use style=\"fill:#ff7f0e;stroke:#ff7f0e;\" x=\"124.279046\" xlink:href=\"#m4994c351e2\" y=\"150.955668\"/>\r\n     <use style=\"fill:#ff7f0e;stroke:#ff7f0e;\" x=\"101.524779\" xlink:href=\"#m4994c351e2\" y=\"154.146008\"/>\r\n     <use style=\"fill:#ff7f0e;stroke:#ff7f0e;\" x=\"125.264496\" xlink:href=\"#m4994c351e2\" y=\"130.223182\"/>\r\n     <use style=\"fill:#ff7f0e;stroke:#ff7f0e;\" x=\"114.612822\" xlink:href=\"#m4994c351e2\" y=\"163.478989\"/>\r\n     <use style=\"fill:#ff7f0e;stroke:#ff7f0e;\" x=\"137.418994\" xlink:href=\"#m4994c351e2\" y=\"136.146461\"/>\r\n     <use style=\"fill:#ff7f0e;stroke:#ff7f0e;\" x=\"110.061001\" xlink:href=\"#m4994c351e2\" y=\"120.805065\"/>\r\n     <use style=\"fill:#ff7f0e;stroke:#ff7f0e;\" x=\"141.940863\" xlink:href=\"#m4994c351e2\" y=\"140.054051\"/>\r\n     <use style=\"fill:#ff7f0e;stroke:#ff7f0e;\" x=\"112.194685\" xlink:href=\"#m4994c351e2\" y=\"151.345886\"/>\r\n     <use style=\"fill:#ff7f0e;stroke:#ff7f0e;\" x=\"104.165792\" xlink:href=\"#m4994c351e2\" y=\"149.045558\"/>\r\n     <use style=\"fill:#ff7f0e;stroke:#ff7f0e;\" x=\"136.191135\" xlink:href=\"#m4994c351e2\" y=\"135.671898\"/>\r\n     <use style=\"fill:#ff7f0e;stroke:#ff7f0e;\" x=\"148.132805\" xlink:href=\"#m4994c351e2\" y=\"106.280265\"/>\r\n     <use style=\"fill:#ff7f0e;stroke:#ff7f0e;\" x=\"111.272675\" xlink:href=\"#m4994c351e2\" y=\"177.050455\"/>\r\n     <use style=\"fill:#ff7f0e;stroke:#ff7f0e;\" x=\"114.993458\" xlink:href=\"#m4994c351e2\" y=\"135.524578\"/>\r\n     <use style=\"fill:#ff7f0e;stroke:#ff7f0e;\" x=\"114.919787\" xlink:href=\"#m4994c351e2\" y=\"122.004436\"/>\r\n     <use style=\"fill:#ff7f0e;stroke:#ff7f0e;\" x=\"119.466398\" xlink:href=\"#m4994c351e2\" y=\"165.907312\"/>\r\n     <use style=\"fill:#ff7f0e;stroke:#ff7f0e;\" x=\"112.612529\" xlink:href=\"#m4994c351e2\" y=\"154.498645\"/>\r\n     <use style=\"fill:#ff7f0e;stroke:#ff7f0e;\" x=\"139.761785\" xlink:href=\"#m4994c351e2\" y=\"99.641875\"/>\r\n     <use style=\"fill:#ff7f0e;stroke:#ff7f0e;\" x=\"99.137524\" xlink:href=\"#m4994c351e2\" y=\"140.898623\"/>\r\n     <use style=\"fill:#ff7f0e;stroke:#ff7f0e;\" x=\"123.815437\" xlink:href=\"#m4994c351e2\" y=\"120.096674\"/>\r\n     <use style=\"fill:#ff7f0e;stroke:#ff7f0e;\" x=\"107.887506\" xlink:href=\"#m4994c351e2\" y=\"139.455889\"/>\r\n     <use style=\"fill:#ff7f0e;stroke:#ff7f0e;\" x=\"115.062479\" xlink:href=\"#m4994c351e2\" y=\"150.631914\"/>\r\n     <use style=\"fill:#ff7f0e;stroke:#ff7f0e;\" x=\"177.563274\" xlink:href=\"#m4994c351e2\" y=\"142.01323\"/>\r\n     <use style=\"fill:#ff7f0e;stroke:#ff7f0e;\" x=\"130.462431\" xlink:href=\"#m4994c351e2\" y=\"139.069415\"/>\r\n     <use style=\"fill:#ff7f0e;stroke:#ff7f0e;\" x=\"102.099268\" xlink:href=\"#m4994c351e2\" y=\"155.02588\"/>\r\n     <use style=\"fill:#ff7f0e;stroke:#ff7f0e;\" x=\"127.175676\" xlink:href=\"#m4994c351e2\" y=\"128.337838\"/>\r\n    </g>\r\n   </g>\r\n   <g id=\"matplotlib.axis_1\">\r\n    <g id=\"xtick_1\">\r\n     <g id=\"line2d_1\">\r\n      <defs>\r\n       <path d=\"M 0 0 \r\nL 0 3.5 \r\n\" id=\"mb5b9378335\" style=\"stroke:#000000;stroke-width:0.8;\"/>\r\n      </defs>\r\n      <g>\r\n       <use style=\"stroke:#000000;stroke-width:0.8;\" x=\"46.965625\" xlink:href=\"#mb5b9378335\" y=\"224.64\"/>\r\n      </g>\r\n     </g>\r\n     <g id=\"text_1\">\r\n      <!-- 80 -->\r\n      <defs>\r\n       <path d=\"M 31.78125 34.625 \r\nQ 24.75 34.625 20.71875 30.859375 \r\nQ 16.703125 27.09375 16.703125 20.515625 \r\nQ 16.703125 13.921875 20.71875 10.15625 \r\nQ 24.75 6.390625 31.78125 6.390625 \r\nQ 38.8125 6.390625 42.859375 10.171875 \r\nQ 46.921875 13.96875 46.921875 20.515625 \r\nQ 46.921875 27.09375 42.890625 30.859375 \r\nQ 38.875 34.625 31.78125 34.625 \r\nz\r\nM 21.921875 38.8125 \r\nQ 15.578125 40.375 12.03125 44.71875 \r\nQ 8.5 49.078125 8.5 55.328125 \r\nQ 8.5 64.0625 14.71875 69.140625 \r\nQ 20.953125 74.21875 31.78125 74.21875 \r\nQ 42.671875 74.21875 48.875 69.140625 \r\nQ 55.078125 64.0625 55.078125 55.328125 \r\nQ 55.078125 49.078125 51.53125 44.71875 \r\nQ 48 40.375 41.703125 38.8125 \r\nQ 48.828125 37.15625 52.796875 32.3125 \r\nQ 56.78125 27.484375 56.78125 20.515625 \r\nQ 56.78125 9.90625 50.3125 4.234375 \r\nQ 43.84375 -1.421875 31.78125 -1.421875 \r\nQ 19.734375 -1.421875 13.25 4.234375 \r\nQ 6.78125 9.90625 6.78125 20.515625 \r\nQ 6.78125 27.484375 10.78125 32.3125 \r\nQ 14.796875 37.15625 21.921875 38.8125 \r\nz\r\nM 18.3125 54.390625 \r\nQ 18.3125 48.734375 21.84375 45.5625 \r\nQ 25.390625 42.390625 31.78125 42.390625 \r\nQ 38.140625 42.390625 41.71875 45.5625 \r\nQ 45.3125 48.734375 45.3125 54.390625 \r\nQ 45.3125 60.0625 41.71875 63.234375 \r\nQ 38.140625 66.40625 31.78125 66.40625 \r\nQ 25.390625 66.40625 21.84375 63.234375 \r\nQ 18.3125 60.0625 18.3125 54.390625 \r\nz\r\n\" id=\"DejaVuSans-56\"/>\r\n       <path d=\"M 31.78125 66.40625 \r\nQ 24.171875 66.40625 20.328125 58.90625 \r\nQ 16.5 51.421875 16.5 36.375 \r\nQ 16.5 21.390625 20.328125 13.890625 \r\nQ 24.171875 6.390625 31.78125 6.390625 \r\nQ 39.453125 6.390625 43.28125 13.890625 \r\nQ 47.125 21.390625 47.125 36.375 \r\nQ 47.125 51.421875 43.28125 58.90625 \r\nQ 39.453125 66.40625 31.78125 66.40625 \r\nz\r\nM 31.78125 74.21875 \r\nQ 44.046875 74.21875 50.515625 64.515625 \r\nQ 56.984375 54.828125 56.984375 36.375 \r\nQ 56.984375 17.96875 50.515625 8.265625 \r\nQ 44.046875 -1.421875 31.78125 -1.421875 \r\nQ 19.53125 -1.421875 13.0625 8.265625 \r\nQ 6.59375 17.96875 6.59375 36.375 \r\nQ 6.59375 54.828125 13.0625 64.515625 \r\nQ 19.53125 74.21875 31.78125 74.21875 \r\nz\r\n\" id=\"DejaVuSans-48\"/>\r\n      </defs>\r\n      <g transform=\"translate(40.603125 239.238437)scale(0.1 -0.1)\">\r\n       <use xlink:href=\"#DejaVuSans-56\"/>\r\n       <use x=\"63.623047\" xlink:href=\"#DejaVuSans-48\"/>\r\n      </g>\r\n     </g>\r\n    </g>\r\n    <g id=\"xtick_2\">\r\n     <g id=\"line2d_2\">\r\n      <g>\r\n       <use style=\"stroke:#000000;stroke-width:0.8;\" x=\"107.926946\" xlink:href=\"#mb5b9378335\" y=\"224.64\"/>\r\n      </g>\r\n     </g>\r\n     <g id=\"text_2\">\r\n      <!-- 100 -->\r\n      <defs>\r\n       <path d=\"M 12.40625 8.296875 \r\nL 28.515625 8.296875 \r\nL 28.515625 63.921875 \r\nL 10.984375 60.40625 \r\nL 10.984375 69.390625 \r\nL 28.421875 72.90625 \r\nL 38.28125 72.90625 \r\nL 38.28125 8.296875 \r\nL 54.390625 8.296875 \r\nL 54.390625 0 \r\nL 12.40625 0 \r\nz\r\n\" id=\"DejaVuSans-49\"/>\r\n      </defs>\r\n      <g transform=\"translate(98.383196 239.238437)scale(0.1 -0.1)\">\r\n       <use xlink:href=\"#DejaVuSans-49\"/>\r\n       <use x=\"63.623047\" xlink:href=\"#DejaVuSans-48\"/>\r\n       <use x=\"127.246094\" xlink:href=\"#DejaVuSans-48\"/>\r\n      </g>\r\n     </g>\r\n    </g>\r\n    <g id=\"xtick_3\">\r\n     <g id=\"line2d_3\">\r\n      <g>\r\n       <use style=\"stroke:#000000;stroke-width:0.8;\" x=\"168.888267\" xlink:href=\"#mb5b9378335\" y=\"224.64\"/>\r\n      </g>\r\n     </g>\r\n     <g id=\"text_3\">\r\n      <!-- 120 -->\r\n      <defs>\r\n       <path d=\"M 19.1875 8.296875 \r\nL 53.609375 8.296875 \r\nL 53.609375 0 \r\nL 7.328125 0 \r\nL 7.328125 8.296875 \r\nQ 12.9375 14.109375 22.625 23.890625 \r\nQ 32.328125 33.6875 34.8125 36.53125 \r\nQ 39.546875 41.84375 41.421875 45.53125 \r\nQ 43.3125 49.21875 43.3125 52.78125 \r\nQ 43.3125 58.59375 39.234375 62.25 \r\nQ 35.15625 65.921875 28.609375 65.921875 \r\nQ 23.96875 65.921875 18.8125 64.3125 \r\nQ 13.671875 62.703125 7.8125 59.421875 \r\nL 7.8125 69.390625 \r\nQ 13.765625 71.78125 18.9375 73 \r\nQ 24.125 74.21875 28.421875 74.21875 \r\nQ 39.75 74.21875 46.484375 68.546875 \r\nQ 53.21875 62.890625 53.21875 53.421875 \r\nQ 53.21875 48.921875 51.53125 44.890625 \r\nQ 49.859375 40.875 45.40625 35.40625 \r\nQ 44.1875 33.984375 37.640625 27.21875 \r\nQ 31.109375 20.453125 19.1875 8.296875 \r\nz\r\n\" id=\"DejaVuSans-50\"/>\r\n      </defs>\r\n      <g transform=\"translate(159.344517 239.238437)scale(0.1 -0.1)\">\r\n       <use xlink:href=\"#DejaVuSans-49\"/>\r\n       <use x=\"63.623047\" xlink:href=\"#DejaVuSans-50\"/>\r\n       <use x=\"127.246094\" xlink:href=\"#DejaVuSans-48\"/>\r\n      </g>\r\n     </g>\r\n    </g>\r\n    <g id=\"xtick_4\">\r\n     <g id=\"line2d_4\">\r\n      <g>\r\n       <use style=\"stroke:#000000;stroke-width:0.8;\" x=\"229.849587\" xlink:href=\"#mb5b9378335\" y=\"224.64\"/>\r\n      </g>\r\n     </g>\r\n     <g id=\"text_4\">\r\n      <!-- 140 -->\r\n      <defs>\r\n       <path d=\"M 37.796875 64.3125 \r\nL 12.890625 25.390625 \r\nL 37.796875 25.390625 \r\nz\r\nM 35.203125 72.90625 \r\nL 47.609375 72.90625 \r\nL 47.609375 25.390625 \r\nL 58.015625 25.390625 \r\nL 58.015625 17.1875 \r\nL 47.609375 17.1875 \r\nL 47.609375 0 \r\nL 37.796875 0 \r\nL 37.796875 17.1875 \r\nL 4.890625 17.1875 \r\nL 4.890625 26.703125 \r\nz\r\n\" id=\"DejaVuSans-52\"/>\r\n      </defs>\r\n      <g transform=\"translate(220.305837 239.238437)scale(0.1 -0.1)\">\r\n       <use xlink:href=\"#DejaVuSans-49\"/>\r\n       <use x=\"63.623047\" xlink:href=\"#DejaVuSans-52\"/>\r\n       <use x=\"127.246094\" xlink:href=\"#DejaVuSans-48\"/>\r\n      </g>\r\n     </g>\r\n    </g>\r\n    <g id=\"text_5\">\r\n     <!-- True Values [Intr] -->\r\n     <defs>\r\n      <path d=\"M -0.296875 72.90625 \r\nL 61.375 72.90625 \r\nL 61.375 64.59375 \r\nL 35.5 64.59375 \r\nL 35.5 0 \r\nL 25.59375 0 \r\nL 25.59375 64.59375 \r\nL -0.296875 64.59375 \r\nz\r\n\" id=\"DejaVuSans-84\"/>\r\n      <path d=\"M 41.109375 46.296875 \r\nQ 39.59375 47.171875 37.8125 47.578125 \r\nQ 36.03125 48 33.890625 48 \r\nQ 26.265625 48 22.1875 43.046875 \r\nQ 18.109375 38.09375 18.109375 28.8125 \r\nL 18.109375 0 \r\nL 9.078125 0 \r\nL 9.078125 54.6875 \r\nL 18.109375 54.6875 \r\nL 18.109375 46.1875 \r\nQ 20.953125 51.171875 25.484375 53.578125 \r\nQ 30.03125 56 36.53125 56 \r\nQ 37.453125 56 38.578125 55.875 \r\nQ 39.703125 55.765625 41.0625 55.515625 \r\nz\r\n\" id=\"DejaVuSans-114\"/>\r\n      <path d=\"M 8.5 21.578125 \r\nL 8.5 54.6875 \r\nL 17.484375 54.6875 \r\nL 17.484375 21.921875 \r\nQ 17.484375 14.15625 20.5 10.265625 \r\nQ 23.53125 6.390625 29.59375 6.390625 \r\nQ 36.859375 6.390625 41.078125 11.03125 \r\nQ 45.3125 15.671875 45.3125 23.6875 \r\nL 45.3125 54.6875 \r\nL 54.296875 54.6875 \r\nL 54.296875 0 \r\nL 45.3125 0 \r\nL 45.3125 8.40625 \r\nQ 42.046875 3.421875 37.71875 1 \r\nQ 33.40625 -1.421875 27.6875 -1.421875 \r\nQ 18.265625 -1.421875 13.375 4.4375 \r\nQ 8.5 10.296875 8.5 21.578125 \r\nz\r\nM 31.109375 56 \r\nz\r\n\" id=\"DejaVuSans-117\"/>\r\n      <path d=\"M 56.203125 29.59375 \r\nL 56.203125 25.203125 \r\nL 14.890625 25.203125 \r\nQ 15.484375 15.921875 20.484375 11.0625 \r\nQ 25.484375 6.203125 34.421875 6.203125 \r\nQ 39.59375 6.203125 44.453125 7.46875 \r\nQ 49.3125 8.734375 54.109375 11.28125 \r\nL 54.109375 2.78125 \r\nQ 49.265625 0.734375 44.1875 -0.34375 \r\nQ 39.109375 -1.421875 33.890625 -1.421875 \r\nQ 20.796875 -1.421875 13.15625 6.1875 \r\nQ 5.515625 13.8125 5.515625 26.8125 \r\nQ 5.515625 40.234375 12.765625 48.109375 \r\nQ 20.015625 56 32.328125 56 \r\nQ 43.359375 56 49.78125 48.890625 \r\nQ 56.203125 41.796875 56.203125 29.59375 \r\nz\r\nM 47.21875 32.234375 \r\nQ 47.125 39.59375 43.09375 43.984375 \r\nQ 39.0625 48.390625 32.421875 48.390625 \r\nQ 24.90625 48.390625 20.390625 44.140625 \r\nQ 15.875 39.890625 15.1875 32.171875 \r\nz\r\n\" id=\"DejaVuSans-101\"/>\r\n      <path id=\"DejaVuSans-32\"/>\r\n      <path d=\"M 28.609375 0 \r\nL 0.78125 72.90625 \r\nL 11.078125 72.90625 \r\nL 34.1875 11.53125 \r\nL 57.328125 72.90625 \r\nL 67.578125 72.90625 \r\nL 39.796875 0 \r\nz\r\n\" id=\"DejaVuSans-86\"/>\r\n      <path d=\"M 34.28125 27.484375 \r\nQ 23.390625 27.484375 19.1875 25 \r\nQ 14.984375 22.515625 14.984375 16.5 \r\nQ 14.984375 11.71875 18.140625 8.90625 \r\nQ 21.296875 6.109375 26.703125 6.109375 \r\nQ 34.1875 6.109375 38.703125 11.40625 \r\nQ 43.21875 16.703125 43.21875 25.484375 \r\nL 43.21875 27.484375 \r\nz\r\nM 52.203125 31.203125 \r\nL 52.203125 0 \r\nL 43.21875 0 \r\nL 43.21875 8.296875 \r\nQ 40.140625 3.328125 35.546875 0.953125 \r\nQ 30.953125 -1.421875 24.3125 -1.421875 \r\nQ 15.921875 -1.421875 10.953125 3.296875 \r\nQ 6 8.015625 6 15.921875 \r\nQ 6 25.140625 12.171875 29.828125 \r\nQ 18.359375 34.515625 30.609375 34.515625 \r\nL 43.21875 34.515625 \r\nL 43.21875 35.40625 \r\nQ 43.21875 41.609375 39.140625 45 \r\nQ 35.0625 48.390625 27.6875 48.390625 \r\nQ 23 48.390625 18.546875 47.265625 \r\nQ 14.109375 46.140625 10.015625 43.890625 \r\nL 10.015625 52.203125 \r\nQ 14.9375 54.109375 19.578125 55.046875 \r\nQ 24.21875 56 28.609375 56 \r\nQ 40.484375 56 46.34375 49.84375 \r\nQ 52.203125 43.703125 52.203125 31.203125 \r\nz\r\n\" id=\"DejaVuSans-97\"/>\r\n      <path d=\"M 9.421875 75.984375 \r\nL 18.40625 75.984375 \r\nL 18.40625 0 \r\nL 9.421875 0 \r\nz\r\n\" id=\"DejaVuSans-108\"/>\r\n      <path d=\"M 44.28125 53.078125 \r\nL 44.28125 44.578125 \r\nQ 40.484375 46.53125 36.375 47.5 \r\nQ 32.28125 48.484375 27.875 48.484375 \r\nQ 21.1875 48.484375 17.84375 46.4375 \r\nQ 14.5 44.390625 14.5 40.28125 \r\nQ 14.5 37.15625 16.890625 35.375 \r\nQ 19.28125 33.59375 26.515625 31.984375 \r\nL 29.59375 31.296875 \r\nQ 39.15625 29.25 43.1875 25.515625 \r\nQ 47.21875 21.78125 47.21875 15.09375 \r\nQ 47.21875 7.46875 41.1875 3.015625 \r\nQ 35.15625 -1.421875 24.609375 -1.421875 \r\nQ 20.21875 -1.421875 15.453125 -0.5625 \r\nQ 10.6875 0.296875 5.421875 2 \r\nL 5.421875 11.28125 \r\nQ 10.40625 8.6875 15.234375 7.390625 \r\nQ 20.0625 6.109375 24.8125 6.109375 \r\nQ 31.15625 6.109375 34.5625 8.28125 \r\nQ 37.984375 10.453125 37.984375 14.40625 \r\nQ 37.984375 18.0625 35.515625 20.015625 \r\nQ 33.0625 21.96875 24.703125 23.78125 \r\nL 21.578125 24.515625 \r\nQ 13.234375 26.265625 9.515625 29.90625 \r\nQ 5.8125 33.546875 5.8125 39.890625 \r\nQ 5.8125 47.609375 11.28125 51.796875 \r\nQ 16.75 56 26.8125 56 \r\nQ 31.78125 56 36.171875 55.265625 \r\nQ 40.578125 54.546875 44.28125 53.078125 \r\nz\r\n\" id=\"DejaVuSans-115\"/>\r\n      <path d=\"M 8.59375 75.984375 \r\nL 29.296875 75.984375 \r\nL 29.296875 69 \r\nL 17.578125 69 \r\nL 17.578125 -6.203125 \r\nL 29.296875 -6.203125 \r\nL 29.296875 -13.1875 \r\nL 8.59375 -13.1875 \r\nz\r\n\" id=\"DejaVuSans-91\"/>\r\n      <path d=\"M 9.8125 72.90625 \r\nL 19.671875 72.90625 \r\nL 19.671875 0 \r\nL 9.8125 0 \r\nz\r\n\" id=\"DejaVuSans-73\"/>\r\n      <path d=\"M 54.890625 33.015625 \r\nL 54.890625 0 \r\nL 45.90625 0 \r\nL 45.90625 32.71875 \r\nQ 45.90625 40.484375 42.875 44.328125 \r\nQ 39.84375 48.1875 33.796875 48.1875 \r\nQ 26.515625 48.1875 22.3125 43.546875 \r\nQ 18.109375 38.921875 18.109375 30.90625 \r\nL 18.109375 0 \r\nL 9.078125 0 \r\nL 9.078125 54.6875 \r\nL 18.109375 54.6875 \r\nL 18.109375 46.1875 \r\nQ 21.34375 51.125 25.703125 53.5625 \r\nQ 30.078125 56 35.796875 56 \r\nQ 45.21875 56 50.046875 50.171875 \r\nQ 54.890625 44.34375 54.890625 33.015625 \r\nz\r\n\" id=\"DejaVuSans-110\"/>\r\n      <path d=\"M 18.3125 70.21875 \r\nL 18.3125 54.6875 \r\nL 36.8125 54.6875 \r\nL 36.8125 47.703125 \r\nL 18.3125 47.703125 \r\nL 18.3125 18.015625 \r\nQ 18.3125 11.328125 20.140625 9.421875 \r\nQ 21.96875 7.515625 27.59375 7.515625 \r\nL 36.8125 7.515625 \r\nL 36.8125 0 \r\nL 27.59375 0 \r\nQ 17.1875 0 13.234375 3.875 \r\nQ 9.28125 7.765625 9.28125 18.015625 \r\nL 9.28125 47.703125 \r\nL 2.6875 47.703125 \r\nL 2.6875 54.6875 \r\nL 9.28125 54.6875 \r\nL 9.28125 70.21875 \r\nz\r\n\" id=\"DejaVuSans-116\"/>\r\n      <path d=\"M 30.421875 75.984375 \r\nL 30.421875 -13.1875 \r\nL 9.71875 -13.1875 \r\nL 9.71875 -6.203125 \r\nL 21.390625 -6.203125 \r\nL 21.390625 69 \r\nL 9.71875 69 \r\nL 9.71875 75.984375 \r\nz\r\n\" id=\"DejaVuSans-93\"/>\r\n     </defs>\r\n     <g transform=\"translate(117.02731 252.916562)scale(0.1 -0.1)\">\r\n      <use xlink:href=\"#DejaVuSans-84\"/>\r\n      <use x=\"60.865234\" xlink:href=\"#DejaVuSans-114\"/>\r\n      <use x=\"101.978516\" xlink:href=\"#DejaVuSans-117\"/>\r\n      <use x=\"165.357422\" xlink:href=\"#DejaVuSans-101\"/>\r\n      <use x=\"226.880859\" xlink:href=\"#DejaVuSans-32\"/>\r\n      <use x=\"258.667969\" xlink:href=\"#DejaVuSans-86\"/>\r\n      <use x=\"326.966797\" xlink:href=\"#DejaVuSans-97\"/>\r\n      <use x=\"388.246094\" xlink:href=\"#DejaVuSans-108\"/>\r\n      <use x=\"416.029297\" xlink:href=\"#DejaVuSans-117\"/>\r\n      <use x=\"479.408203\" xlink:href=\"#DejaVuSans-101\"/>\r\n      <use x=\"540.931641\" xlink:href=\"#DejaVuSans-115\"/>\r\n      <use x=\"593.03125\" xlink:href=\"#DejaVuSans-32\"/>\r\n      <use x=\"624.818359\" xlink:href=\"#DejaVuSans-91\"/>\r\n      <use x=\"663.832031\" xlink:href=\"#DejaVuSans-73\"/>\r\n      <use x=\"693.324219\" xlink:href=\"#DejaVuSans-110\"/>\r\n      <use x=\"756.703125\" xlink:href=\"#DejaVuSans-116\"/>\r\n      <use x=\"795.912109\" xlink:href=\"#DejaVuSans-114\"/>\r\n      <use x=\"837.025391\" xlink:href=\"#DejaVuSans-93\"/>\r\n     </g>\r\n    </g>\r\n   </g>\r\n   <g id=\"matplotlib.axis_2\">\r\n    <g id=\"ytick_1\">\r\n     <g id=\"line2d_5\">\r\n      <defs>\r\n       <path d=\"M 0 0 \r\nL -3.5 0 \r\n\" id=\"mc348355ec0\" style=\"stroke:#000000;stroke-width:0.8;\"/>\r\n      </defs>\r\n      <g>\r\n       <use style=\"stroke:#000000;stroke-width:0.8;\" x=\"46.965625\" xlink:href=\"#mc348355ec0\" y=\"224.64\"/>\r\n      </g>\r\n     </g>\r\n     <g id=\"text_6\">\r\n      <!-- 80 -->\r\n      <g transform=\"translate(27.240625 228.439219)scale(0.1 -0.1)\">\r\n       <use xlink:href=\"#DejaVuSans-56\"/>\r\n       <use x=\"63.623047\" xlink:href=\"#DejaVuSans-48\"/>\r\n      </g>\r\n     </g>\r\n    </g>\r\n    <g id=\"ytick_2\">\r\n     <g id=\"line2d_6\">\r\n      <g>\r\n       <use style=\"stroke:#000000;stroke-width:0.8;\" x=\"46.965625\" xlink:href=\"#mc348355ec0\" y=\"194.15934\"/>\r\n      </g>\r\n     </g>\r\n     <g id=\"text_7\">\r\n      <!-- 90 -->\r\n      <defs>\r\n       <path d=\"M 10.984375 1.515625 \r\nL 10.984375 10.5 \r\nQ 14.703125 8.734375 18.5 7.8125 \r\nQ 22.3125 6.890625 25.984375 6.890625 \r\nQ 35.75 6.890625 40.890625 13.453125 \r\nQ 46.046875 20.015625 46.78125 33.40625 \r\nQ 43.953125 29.203125 39.59375 26.953125 \r\nQ 35.25 24.703125 29.984375 24.703125 \r\nQ 19.046875 24.703125 12.671875 31.3125 \r\nQ 6.296875 37.9375 6.296875 49.421875 \r\nQ 6.296875 60.640625 12.9375 67.421875 \r\nQ 19.578125 74.21875 30.609375 74.21875 \r\nQ 43.265625 74.21875 49.921875 64.515625 \r\nQ 56.59375 54.828125 56.59375 36.375 \r\nQ 56.59375 19.140625 48.40625 8.859375 \r\nQ 40.234375 -1.421875 26.421875 -1.421875 \r\nQ 22.703125 -1.421875 18.890625 -0.6875 \r\nQ 15.09375 0.046875 10.984375 1.515625 \r\nz\r\nM 30.609375 32.421875 \r\nQ 37.25 32.421875 41.125 36.953125 \r\nQ 45.015625 41.5 45.015625 49.421875 \r\nQ 45.015625 57.28125 41.125 61.84375 \r\nQ 37.25 66.40625 30.609375 66.40625 \r\nQ 23.96875 66.40625 20.09375 61.84375 \r\nQ 16.21875 57.28125 16.21875 49.421875 \r\nQ 16.21875 41.5 20.09375 36.953125 \r\nQ 23.96875 32.421875 30.609375 32.421875 \r\nz\r\n\" id=\"DejaVuSans-57\"/>\r\n      </defs>\r\n      <g transform=\"translate(27.240625 197.958558)scale(0.1 -0.1)\">\r\n       <use xlink:href=\"#DejaVuSans-57\"/>\r\n       <use x=\"63.623047\" xlink:href=\"#DejaVuSans-48\"/>\r\n      </g>\r\n     </g>\r\n    </g>\r\n    <g id=\"ytick_3\">\r\n     <g id=\"line2d_7\">\r\n      <g>\r\n       <use style=\"stroke:#000000;stroke-width:0.8;\" x=\"46.965625\" xlink:href=\"#mc348355ec0\" y=\"163.678679\"/>\r\n      </g>\r\n     </g>\r\n     <g id=\"text_8\">\r\n      <!-- 100 -->\r\n      <g transform=\"translate(20.878125 167.477898)scale(0.1 -0.1)\">\r\n       <use xlink:href=\"#DejaVuSans-49\"/>\r\n       <use x=\"63.623047\" xlink:href=\"#DejaVuSans-48\"/>\r\n       <use x=\"127.246094\" xlink:href=\"#DejaVuSans-48\"/>\r\n      </g>\r\n     </g>\r\n    </g>\r\n    <g id=\"ytick_4\">\r\n     <g id=\"line2d_8\">\r\n      <g>\r\n       <use style=\"stroke:#000000;stroke-width:0.8;\" x=\"46.965625\" xlink:href=\"#mc348355ec0\" y=\"133.198019\"/>\r\n      </g>\r\n     </g>\r\n     <g id=\"text_9\">\r\n      <!-- 110 -->\r\n      <g transform=\"translate(20.878125 136.997238)scale(0.1 -0.1)\">\r\n       <use xlink:href=\"#DejaVuSans-49\"/>\r\n       <use x=\"63.623047\" xlink:href=\"#DejaVuSans-49\"/>\r\n       <use x=\"127.246094\" xlink:href=\"#DejaVuSans-48\"/>\r\n      </g>\r\n     </g>\r\n    </g>\r\n    <g id=\"ytick_5\">\r\n     <g id=\"line2d_9\">\r\n      <g>\r\n       <use style=\"stroke:#000000;stroke-width:0.8;\" x=\"46.965625\" xlink:href=\"#mc348355ec0\" y=\"102.717358\"/>\r\n      </g>\r\n     </g>\r\n     <g id=\"text_10\">\r\n      <!-- 120 -->\r\n      <g transform=\"translate(20.878125 106.516577)scale(0.1 -0.1)\">\r\n       <use xlink:href=\"#DejaVuSans-49\"/>\r\n       <use x=\"63.623047\" xlink:href=\"#DejaVuSans-50\"/>\r\n       <use x=\"127.246094\" xlink:href=\"#DejaVuSans-48\"/>\r\n      </g>\r\n     </g>\r\n    </g>\r\n    <g id=\"ytick_6\">\r\n     <g id=\"line2d_10\">\r\n      <g>\r\n       <use style=\"stroke:#000000;stroke-width:0.8;\" x=\"46.965625\" xlink:href=\"#mc348355ec0\" y=\"72.236698\"/>\r\n      </g>\r\n     </g>\r\n     <g id=\"text_11\">\r\n      <!-- 130 -->\r\n      <defs>\r\n       <path d=\"M 40.578125 39.3125 \r\nQ 47.65625 37.796875 51.625 33 \r\nQ 55.609375 28.21875 55.609375 21.1875 \r\nQ 55.609375 10.40625 48.1875 4.484375 \r\nQ 40.765625 -1.421875 27.09375 -1.421875 \r\nQ 22.515625 -1.421875 17.65625 -0.515625 \r\nQ 12.796875 0.390625 7.625 2.203125 \r\nL 7.625 11.71875 \r\nQ 11.71875 9.328125 16.59375 8.109375 \r\nQ 21.484375 6.890625 26.8125 6.890625 \r\nQ 36.078125 6.890625 40.9375 10.546875 \r\nQ 45.796875 14.203125 45.796875 21.1875 \r\nQ 45.796875 27.640625 41.28125 31.265625 \r\nQ 36.765625 34.90625 28.71875 34.90625 \r\nL 20.21875 34.90625 \r\nL 20.21875 43.015625 \r\nL 29.109375 43.015625 \r\nQ 36.375 43.015625 40.234375 45.921875 \r\nQ 44.09375 48.828125 44.09375 54.296875 \r\nQ 44.09375 59.90625 40.109375 62.90625 \r\nQ 36.140625 65.921875 28.71875 65.921875 \r\nQ 24.65625 65.921875 20.015625 65.03125 \r\nQ 15.375 64.15625 9.8125 62.3125 \r\nL 9.8125 71.09375 \r\nQ 15.4375 72.65625 20.34375 73.4375 \r\nQ 25.25 74.21875 29.59375 74.21875 \r\nQ 40.828125 74.21875 47.359375 69.109375 \r\nQ 53.90625 64.015625 53.90625 55.328125 \r\nQ 53.90625 49.265625 50.4375 45.09375 \r\nQ 46.96875 40.921875 40.578125 39.3125 \r\nz\r\n\" id=\"DejaVuSans-51\"/>\r\n      </defs>\r\n      <g transform=\"translate(20.878125 76.035917)scale(0.1 -0.1)\">\r\n       <use xlink:href=\"#DejaVuSans-49\"/>\r\n       <use x=\"63.623047\" xlink:href=\"#DejaVuSans-51\"/>\r\n       <use x=\"127.246094\" xlink:href=\"#DejaVuSans-48\"/>\r\n      </g>\r\n     </g>\r\n    </g>\r\n    <g id=\"ytick_7\">\r\n     <g id=\"line2d_11\">\r\n      <g>\r\n       <use style=\"stroke:#000000;stroke-width:0.8;\" x=\"46.965625\" xlink:href=\"#mc348355ec0\" y=\"41.756038\"/>\r\n      </g>\r\n     </g>\r\n     <g id=\"text_12\">\r\n      <!-- 140 -->\r\n      <g transform=\"translate(20.878125 45.555256)scale(0.1 -0.1)\">\r\n       <use xlink:href=\"#DejaVuSans-49\"/>\r\n       <use x=\"63.623047\" xlink:href=\"#DejaVuSans-52\"/>\r\n       <use x=\"127.246094\" xlink:href=\"#DejaVuSans-48\"/>\r\n      </g>\r\n     </g>\r\n    </g>\r\n    <g id=\"ytick_8\">\r\n     <g id=\"line2d_12\">\r\n      <g>\r\n       <use style=\"stroke:#000000;stroke-width:0.8;\" x=\"46.965625\" xlink:href=\"#mc348355ec0\" y=\"11.275377\"/>\r\n      </g>\r\n     </g>\r\n     <g id=\"text_13\">\r\n      <!-- 150 -->\r\n      <defs>\r\n       <path d=\"M 10.796875 72.90625 \r\nL 49.515625 72.90625 \r\nL 49.515625 64.59375 \r\nL 19.828125 64.59375 \r\nL 19.828125 46.734375 \r\nQ 21.96875 47.46875 24.109375 47.828125 \r\nQ 26.265625 48.1875 28.421875 48.1875 \r\nQ 40.625 48.1875 47.75 41.5 \r\nQ 54.890625 34.8125 54.890625 23.390625 \r\nQ 54.890625 11.625 47.5625 5.09375 \r\nQ 40.234375 -1.421875 26.90625 -1.421875 \r\nQ 22.3125 -1.421875 17.546875 -0.640625 \r\nQ 12.796875 0.140625 7.71875 1.703125 \r\nL 7.71875 11.625 \r\nQ 12.109375 9.234375 16.796875 8.0625 \r\nQ 21.484375 6.890625 26.703125 6.890625 \r\nQ 35.15625 6.890625 40.078125 11.328125 \r\nQ 45.015625 15.765625 45.015625 23.390625 \r\nQ 45.015625 31 40.078125 35.4375 \r\nQ 35.15625 39.890625 26.703125 39.890625 \r\nQ 22.75 39.890625 18.8125 39.015625 \r\nQ 14.890625 38.140625 10.796875 36.28125 \r\nz\r\n\" id=\"DejaVuSans-53\"/>\r\n      </defs>\r\n      <g transform=\"translate(20.878125 15.074596)scale(0.1 -0.1)\">\r\n       <use xlink:href=\"#DejaVuSans-49\"/>\r\n       <use x=\"63.623047\" xlink:href=\"#DejaVuSans-53\"/>\r\n       <use x=\"127.246094\" xlink:href=\"#DejaVuSans-48\"/>\r\n      </g>\r\n     </g>\r\n    </g>\r\n    <g id=\"text_14\">\r\n     <!-- Predictions [Intr] -->\r\n     <defs>\r\n      <path d=\"M 19.671875 64.796875 \r\nL 19.671875 37.40625 \r\nL 32.078125 37.40625 \r\nQ 38.96875 37.40625 42.71875 40.96875 \r\nQ 46.484375 44.53125 46.484375 51.125 \r\nQ 46.484375 57.671875 42.71875 61.234375 \r\nQ 38.96875 64.796875 32.078125 64.796875 \r\nz\r\nM 9.8125 72.90625 \r\nL 32.078125 72.90625 \r\nQ 44.34375 72.90625 50.609375 67.359375 \r\nQ 56.890625 61.8125 56.890625 51.125 \r\nQ 56.890625 40.328125 50.609375 34.8125 \r\nQ 44.34375 29.296875 32.078125 29.296875 \r\nL 19.671875 29.296875 \r\nL 19.671875 0 \r\nL 9.8125 0 \r\nz\r\n\" id=\"DejaVuSans-80\"/>\r\n      <path d=\"M 45.40625 46.390625 \r\nL 45.40625 75.984375 \r\nL 54.390625 75.984375 \r\nL 54.390625 0 \r\nL 45.40625 0 \r\nL 45.40625 8.203125 \r\nQ 42.578125 3.328125 38.25 0.953125 \r\nQ 33.9375 -1.421875 27.875 -1.421875 \r\nQ 17.96875 -1.421875 11.734375 6.484375 \r\nQ 5.515625 14.40625 5.515625 27.296875 \r\nQ 5.515625 40.1875 11.734375 48.09375 \r\nQ 17.96875 56 27.875 56 \r\nQ 33.9375 56 38.25 53.625 \r\nQ 42.578125 51.265625 45.40625 46.390625 \r\nz\r\nM 14.796875 27.296875 \r\nQ 14.796875 17.390625 18.875 11.75 \r\nQ 22.953125 6.109375 30.078125 6.109375 \r\nQ 37.203125 6.109375 41.296875 11.75 \r\nQ 45.40625 17.390625 45.40625 27.296875 \r\nQ 45.40625 37.203125 41.296875 42.84375 \r\nQ 37.203125 48.484375 30.078125 48.484375 \r\nQ 22.953125 48.484375 18.875 42.84375 \r\nQ 14.796875 37.203125 14.796875 27.296875 \r\nz\r\n\" id=\"DejaVuSans-100\"/>\r\n      <path d=\"M 9.421875 54.6875 \r\nL 18.40625 54.6875 \r\nL 18.40625 0 \r\nL 9.421875 0 \r\nz\r\nM 9.421875 75.984375 \r\nL 18.40625 75.984375 \r\nL 18.40625 64.59375 \r\nL 9.421875 64.59375 \r\nz\r\n\" id=\"DejaVuSans-105\"/>\r\n      <path d=\"M 48.78125 52.59375 \r\nL 48.78125 44.1875 \r\nQ 44.96875 46.296875 41.140625 47.34375 \r\nQ 37.3125 48.390625 33.40625 48.390625 \r\nQ 24.65625 48.390625 19.8125 42.84375 \r\nQ 14.984375 37.3125 14.984375 27.296875 \r\nQ 14.984375 17.28125 19.8125 11.734375 \r\nQ 24.65625 6.203125 33.40625 6.203125 \r\nQ 37.3125 6.203125 41.140625 7.25 \r\nQ 44.96875 8.296875 48.78125 10.40625 \r\nL 48.78125 2.09375 \r\nQ 45.015625 0.34375 40.984375 -0.53125 \r\nQ 36.96875 -1.421875 32.421875 -1.421875 \r\nQ 20.0625 -1.421875 12.78125 6.34375 \r\nQ 5.515625 14.109375 5.515625 27.296875 \r\nQ 5.515625 40.671875 12.859375 48.328125 \r\nQ 20.21875 56 33.015625 56 \r\nQ 37.15625 56 41.109375 55.140625 \r\nQ 45.0625 54.296875 48.78125 52.59375 \r\nz\r\n\" id=\"DejaVuSans-99\"/>\r\n      <path d=\"M 30.609375 48.390625 \r\nQ 23.390625 48.390625 19.1875 42.75 \r\nQ 14.984375 37.109375 14.984375 27.296875 \r\nQ 14.984375 17.484375 19.15625 11.84375 \r\nQ 23.34375 6.203125 30.609375 6.203125 \r\nQ 37.796875 6.203125 41.984375 11.859375 \r\nQ 46.1875 17.53125 46.1875 27.296875 \r\nQ 46.1875 37.015625 41.984375 42.703125 \r\nQ 37.796875 48.390625 30.609375 48.390625 \r\nz\r\nM 30.609375 56 \r\nQ 42.328125 56 49.015625 48.375 \r\nQ 55.71875 40.765625 55.71875 27.296875 \r\nQ 55.71875 13.875 49.015625 6.21875 \r\nQ 42.328125 -1.421875 30.609375 -1.421875 \r\nQ 18.84375 -1.421875 12.171875 6.21875 \r\nQ 5.515625 13.875 5.515625 27.296875 \r\nQ 5.515625 40.765625 12.171875 48.375 \r\nQ 18.84375 56 30.609375 56 \r\nz\r\n\" id=\"DejaVuSans-111\"/>\r\n     </defs>\r\n     <g transform=\"translate(14.798438 157.709062)rotate(-90)scale(0.1 -0.1)\">\r\n      <use xlink:href=\"#DejaVuSans-80\"/>\r\n      <use x=\"60.287109\" xlink:href=\"#DejaVuSans-114\"/>\r\n      <use x=\"101.369141\" xlink:href=\"#DejaVuSans-101\"/>\r\n      <use x=\"162.892578\" xlink:href=\"#DejaVuSans-100\"/>\r\n      <use x=\"226.369141\" xlink:href=\"#DejaVuSans-105\"/>\r\n      <use x=\"254.152344\" xlink:href=\"#DejaVuSans-99\"/>\r\n      <use x=\"309.132812\" xlink:href=\"#DejaVuSans-116\"/>\r\n      <use x=\"348.341797\" xlink:href=\"#DejaVuSans-105\"/>\r\n      <use x=\"376.125\" xlink:href=\"#DejaVuSans-111\"/>\r\n      <use x=\"437.306641\" xlink:href=\"#DejaVuSans-110\"/>\r\n      <use x=\"500.685547\" xlink:href=\"#DejaVuSans-115\"/>\r\n      <use x=\"552.785156\" xlink:href=\"#DejaVuSans-32\"/>\r\n      <use x=\"584.572266\" xlink:href=\"#DejaVuSans-91\"/>\r\n      <use x=\"623.585938\" xlink:href=\"#DejaVuSans-73\"/>\r\n      <use x=\"653.078125\" xlink:href=\"#DejaVuSans-110\"/>\r\n      <use x=\"716.457031\" xlink:href=\"#DejaVuSans-116\"/>\r\n      <use x=\"755.666016\" xlink:href=\"#DejaVuSans-114\"/>\r\n      <use x=\"796.779297\" xlink:href=\"#DejaVuSans-93\"/>\r\n     </g>\r\n    </g>\r\n   </g>\r\n   <g id=\"line2d_13\">\r\n    <path clip-path=\"url(#pe0e346a2d9)\" d=\"M 8.409375 263.19625 \r\nL 260.330248 11.275377 \r\n\" style=\"fill:none;stroke:#1f77b4;stroke-linecap:square;stroke-width:1.5;\"/>\r\n   </g>\r\n   <g id=\"patch_3\">\r\n    <path d=\"M 46.965625 224.64 \r\nL 46.965625 7.2 \r\n\" style=\"fill:none;stroke:#000000;stroke-linecap:square;stroke-linejoin:miter;stroke-width:0.8;\"/>\r\n   </g>\r\n   <g id=\"patch_4\">\r\n    <path d=\"M 274.690557 224.64 \r\nL 274.690557 7.2 \r\n\" style=\"fill:none;stroke:#000000;stroke-linecap:square;stroke-linejoin:miter;stroke-width:0.8;\"/>\r\n   </g>\r\n   <g id=\"patch_5\">\r\n    <path d=\"M 46.965625 224.64 \r\nL 274.690557 224.64 \r\n\" style=\"fill:none;stroke:#000000;stroke-linecap:square;stroke-linejoin:miter;stroke-width:0.8;\"/>\r\n   </g>\r\n   <g id=\"patch_6\">\r\n    <path d=\"M 46.965625 7.2 \r\nL 274.690557 7.2 \r\n\" style=\"fill:none;stroke:#000000;stroke-linecap:square;stroke-linejoin:miter;stroke-width:0.8;\"/>\r\n   </g>\r\n  </g>\r\n </g>\r\n <defs>\r\n  <clipPath id=\"pe0e346a2d9\">\r\n   <rect height=\"217.44\" width=\"227.724932\" x=\"46.965625\" y=\"7.2\"/>\r\n  </clipPath>\r\n </defs>\r\n</svg>\r\n",
      "image/png": "[encoded data removed]"
     },
     "metadata": {
      "needs_background": "light"
     }
    }
   ],
   "metadata": {
    "tags": []
   }
  },
  {
   "cell_type": "code",
   "execution_count": 38,
   "source": [
    "# train_predictions = np.array(train_value)  \n",
    "# test_predictions  = np.array(test__value) \n",
    "print(\"size:  {},{}\".format(len(test__predictions),len(test__labels_Intr)))\n",
    "# print(\"type:  {},{}\".format(type(test_predictions),type(test_labels__Intr)))\n",
    "# print(\"dtype: {},{}\".format(test_labels__Intr.dtype,  test_predictions.dtype))\n",
    "# print(\"ndim:  {},{}\".format(test_labels__Intr.ndim,   test_predictions.ndim))\n",
    "# print(\"size:  {},{}\".format(test_labels__Intr.size,   test_predictions.size))\n",
    "# print(\"nbytes:{},{}\".format(test_labels__Intr.nbytes, test_predictions.nbytes))\n",
    "# data = test__labels_Intr.iloc[0]\n",
    "# print(type(data))\n",
    "error = test__predictions - test__labels_Intr\n",
    "\n",
    "plt.hist(error, bins = 25)\n",
    "plt.xlabel(\"Prediction Error [Intrusion]\")\n",
    "_ = plt.ylabel(\"Count\")"
   ],
   "outputs": [
    {
     "output_type": "stream",
     "name": "stdout",
     "text": [
      "size:  59,59\n"
     ]
    },
    {
     "output_type": "display_data",
     "data": {
      "text/plain": [
       "<Figure size 432x288 with 1 Axes>"
      ],
      "image/svg+xml": "<?xml version=\"1.0\" encoding=\"utf-8\" standalone=\"no\"?>\r\n<!DOCTYPE svg PUBLIC \"-//W3C//DTD SVG 1.1//EN\"\r\n  \"http://www.w3.org/Graphics/SVG/1.1/DTD/svg11.dtd\">\r\n<!-- Created with matplotlib (https://matplotlib.org/) -->\r\n<svg height=\"262.19625pt\" version=\"1.1\" viewBox=\"0 0 376.240625 262.19625\" width=\"376.240625pt\" xmlns=\"http://www.w3.org/2000/svg\" xmlns:xlink=\"http://www.w3.org/1999/xlink\">\r\n <defs>\r\n  <style type=\"text/css\">\r\n*{stroke-linecap:butt;stroke-linejoin:round;}\r\n  </style>\r\n </defs>\r\n <g id=\"figure_1\">\r\n  <g id=\"patch_1\">\r\n   <path d=\"M 0 262.19625 \r\nL 376.240625 262.19625 \r\nL 376.240625 0 \r\nL 0 0 \r\nz\r\n\" style=\"fill:none;\"/>\r\n  </g>\r\n  <g id=\"axes_1\">\r\n   <g id=\"patch_2\">\r\n    <path d=\"M 34.240625 224.64 \r\nL 369.040625 224.64 \r\nL 369.040625 7.2 \r\nL 34.240625 7.2 \r\nz\r\n\" style=\"fill:#ffffff;\"/>\r\n   </g>\r\n   <g id=\"patch_3\">\r\n    <path clip-path=\"url(#p974fd06d84)\" d=\"M 49.458807 224.64 \r\nL 61.633352 224.64 \r\nL 61.633352 195.056327 \r\nL 49.458807 195.056327 \r\nz\r\n\" style=\"fill:#1f77b4;\"/>\r\n   </g>\r\n   <g id=\"patch_4\">\r\n    <path clip-path=\"url(#p974fd06d84)\" d=\"M 61.633352 224.64 \r\nL 73.807898 224.64 \r\nL 73.807898 224.64 \r\nL 61.633352 224.64 \r\nz\r\n\" style=\"fill:#1f77b4;\"/>\r\n   </g>\r\n   <g id=\"patch_5\">\r\n    <path clip-path=\"url(#p974fd06d84)\" d=\"M 73.807898 224.64 \r\nL 85.982443 224.64 \r\nL 85.982443 224.64 \r\nL 73.807898 224.64 \r\nz\r\n\" style=\"fill:#1f77b4;\"/>\r\n   </g>\r\n   <g id=\"patch_6\">\r\n    <path clip-path=\"url(#p974fd06d84)\" d=\"M 85.982443 224.64 \r\nL 98.156989 224.64 \r\nL 98.156989 165.472653 \r\nL 85.982443 165.472653 \r\nz\r\n\" style=\"fill:#1f77b4;\"/>\r\n   </g>\r\n   <g id=\"patch_7\">\r\n    <path clip-path=\"url(#p974fd06d84)\" d=\"M 98.156989 224.64 \r\nL 110.331534 224.64 \r\nL 110.331534 224.64 \r\nL 98.156989 224.64 \r\nz\r\n\" style=\"fill:#1f77b4;\"/>\r\n   </g>\r\n   <g id=\"patch_8\">\r\n    <path clip-path=\"url(#p974fd06d84)\" d=\"M 110.331534 224.64 \r\nL 122.50608 224.64 \r\nL 122.50608 165.472653 \r\nL 110.331534 165.472653 \r\nz\r\n\" style=\"fill:#1f77b4;\"/>\r\n   </g>\r\n   <g id=\"patch_9\">\r\n    <path clip-path=\"url(#p974fd06d84)\" d=\"M 122.50608 224.64 \r\nL 134.680625 224.64 \r\nL 134.680625 165.472653 \r\nL 122.50608 165.472653 \r\nz\r\n\" style=\"fill:#1f77b4;\"/>\r\n   </g>\r\n   <g id=\"patch_10\">\r\n    <path clip-path=\"url(#p974fd06d84)\" d=\"M 134.680625 224.64 \r\nL 146.85517 224.64 \r\nL 146.85517 135.88898 \r\nL 134.680625 135.88898 \r\nz\r\n\" style=\"fill:#1f77b4;\"/>\r\n   </g>\r\n   <g id=\"patch_11\">\r\n    <path clip-path=\"url(#p974fd06d84)\" d=\"M 146.85517 224.64 \r\nL 159.029716 224.64 \r\nL 159.029716 106.305306 \r\nL 146.85517 106.305306 \r\nz\r\n\" style=\"fill:#1f77b4;\"/>\r\n   </g>\r\n   <g id=\"patch_12\">\r\n    <path clip-path=\"url(#p974fd06d84)\" d=\"M 159.029716 224.64 \r\nL 171.204261 224.64 \r\nL 171.204261 224.64 \r\nL 159.029716 224.64 \r\nz\r\n\" style=\"fill:#1f77b4;\"/>\r\n   </g>\r\n   <g id=\"patch_13\">\r\n    <path clip-path=\"url(#p974fd06d84)\" d=\"M 171.204261 224.64 \r\nL 183.378807 224.64 \r\nL 183.378807 165.472653 \r\nL 171.204261 165.472653 \r\nz\r\n\" style=\"fill:#1f77b4;\"/>\r\n   </g>\r\n   <g id=\"patch_14\">\r\n    <path clip-path=\"url(#p974fd06d84)\" d=\"M 183.378807 224.64 \r\nL 195.553352 224.64 \r\nL 195.553352 195.056327 \r\nL 183.378807 195.056327 \r\nz\r\n\" style=\"fill:#1f77b4;\"/>\r\n   </g>\r\n   <g id=\"patch_15\">\r\n    <path clip-path=\"url(#p974fd06d84)\" d=\"M 195.553352 224.64 \r\nL 207.727898 224.64 \r\nL 207.727898 165.472653 \r\nL 195.553352 165.472653 \r\nz\r\n\" style=\"fill:#1f77b4;\"/>\r\n   </g>\r\n   <g id=\"patch_16\">\r\n    <path clip-path=\"url(#p974fd06d84)\" d=\"M 207.727898 224.64 \r\nL 219.902443 224.64 \r\nL 219.902443 135.88898 \r\nL 207.727898 135.88898 \r\nz\r\n\" style=\"fill:#1f77b4;\"/>\r\n   </g>\r\n   <g id=\"patch_17\">\r\n    <path clip-path=\"url(#p974fd06d84)\" d=\"M 219.902443 224.64 \r\nL 232.076989 224.64 \r\nL 232.076989 17.554286 \r\nL 219.902443 17.554286 \r\nz\r\n\" style=\"fill:#1f77b4;\"/>\r\n   </g>\r\n   <g id=\"patch_18\">\r\n    <path clip-path=\"url(#p974fd06d84)\" d=\"M 232.076989 224.64 \r\nL 244.251534 224.64 \r\nL 244.251534 106.305306 \r\nL 232.076989 106.305306 \r\nz\r\n\" style=\"fill:#1f77b4;\"/>\r\n   </g>\r\n   <g id=\"patch_19\">\r\n    <path clip-path=\"url(#p974fd06d84)\" d=\"M 244.251534 224.64 \r\nL 256.42608 224.64 \r\nL 256.42608 135.88898 \r\nL 244.251534 135.88898 \r\nz\r\n\" style=\"fill:#1f77b4;\"/>\r\n   </g>\r\n   <g id=\"patch_20\">\r\n    <path clip-path=\"url(#p974fd06d84)\" d=\"M 256.42608 224.64 \r\nL 268.600625 224.64 \r\nL 268.600625 135.88898 \r\nL 256.42608 135.88898 \r\nz\r\n\" style=\"fill:#1f77b4;\"/>\r\n   </g>\r\n   <g id=\"patch_21\">\r\n    <path clip-path=\"url(#p974fd06d84)\" d=\"M 268.600625 224.64 \r\nL 280.77517 224.64 \r\nL 280.77517 135.88898 \r\nL 268.600625 135.88898 \r\nz\r\n\" style=\"fill:#1f77b4;\"/>\r\n   </g>\r\n   <g id=\"patch_22\">\r\n    <path clip-path=\"url(#p974fd06d84)\" d=\"M 280.77517 224.64 \r\nL 292.949716 224.64 \r\nL 292.949716 106.305306 \r\nL 280.77517 106.305306 \r\nz\r\n\" style=\"fill:#1f77b4;\"/>\r\n   </g>\r\n   <g id=\"patch_23\">\r\n    <path clip-path=\"url(#p974fd06d84)\" d=\"M 292.949716 224.64 \r\nL 305.124261 224.64 \r\nL 305.124261 224.64 \r\nL 292.949716 224.64 \r\nz\r\n\" style=\"fill:#1f77b4;\"/>\r\n   </g>\r\n   <g id=\"patch_24\">\r\n    <path clip-path=\"url(#p974fd06d84)\" d=\"M 305.124261 224.64 \r\nL 317.298807 224.64 \r\nL 317.298807 135.88898 \r\nL 305.124261 135.88898 \r\nz\r\n\" style=\"fill:#1f77b4;\"/>\r\n   </g>\r\n   <g id=\"patch_25\">\r\n    <path clip-path=\"url(#p974fd06d84)\" d=\"M 317.298807 224.64 \r\nL 329.473352 224.64 \r\nL 329.473352 106.305306 \r\nL 317.298807 106.305306 \r\nz\r\n\" style=\"fill:#1f77b4;\"/>\r\n   </g>\r\n   <g id=\"patch_26\">\r\n    <path clip-path=\"url(#p974fd06d84)\" d=\"M 329.473352 224.64 \r\nL 341.647898 224.64 \r\nL 341.647898 165.472653 \r\nL 329.473352 165.472653 \r\nz\r\n\" style=\"fill:#1f77b4;\"/>\r\n   </g>\r\n   <g id=\"patch_27\">\r\n    <path clip-path=\"url(#p974fd06d84)\" d=\"M 341.647898 224.64 \r\nL 353.822443 224.64 \r\nL 353.822443 106.305306 \r\nL 341.647898 106.305306 \r\nz\r\n\" style=\"fill:#1f77b4;\"/>\r\n   </g>\r\n   <g id=\"matplotlib.axis_1\">\r\n    <g id=\"xtick_1\">\r\n     <g id=\"line2d_1\">\r\n      <defs>\r\n       <path d=\"M 0 0 \r\nL 0 3.5 \r\n\" id=\"m1f33b629a7\" style=\"stroke:#000000;stroke-width:0.8;\"/>\r\n      </defs>\r\n      <g>\r\n       <use style=\"stroke:#000000;stroke-width:0.8;\" x=\"61.198548\" xlink:href=\"#m1f33b629a7\" y=\"224.64\"/>\r\n      </g>\r\n     </g>\r\n     <g id=\"text_1\">\r\n      <!-- −15 -->\r\n      <defs>\r\n       <path d=\"M 10.59375 35.5 \r\nL 73.1875 35.5 \r\nL 73.1875 27.203125 \r\nL 10.59375 27.203125 \r\nz\r\n\" id=\"DejaVuSans-8722\"/>\r\n       <path d=\"M 12.40625 8.296875 \r\nL 28.515625 8.296875 \r\nL 28.515625 63.921875 \r\nL 10.984375 60.40625 \r\nL 10.984375 69.390625 \r\nL 28.421875 72.90625 \r\nL 38.28125 72.90625 \r\nL 38.28125 8.296875 \r\nL 54.390625 8.296875 \r\nL 54.390625 0 \r\nL 12.40625 0 \r\nz\r\n\" id=\"DejaVuSans-49\"/>\r\n       <path d=\"M 10.796875 72.90625 \r\nL 49.515625 72.90625 \r\nL 49.515625 64.59375 \r\nL 19.828125 64.59375 \r\nL 19.828125 46.734375 \r\nQ 21.96875 47.46875 24.109375 47.828125 \r\nQ 26.265625 48.1875 28.421875 48.1875 \r\nQ 40.625 48.1875 47.75 41.5 \r\nQ 54.890625 34.8125 54.890625 23.390625 \r\nQ 54.890625 11.625 47.5625 5.09375 \r\nQ 40.234375 -1.421875 26.90625 -1.421875 \r\nQ 22.3125 -1.421875 17.546875 -0.640625 \r\nQ 12.796875 0.140625 7.71875 1.703125 \r\nL 7.71875 11.625 \r\nQ 12.109375 9.234375 16.796875 8.0625 \r\nQ 21.484375 6.890625 26.703125 6.890625 \r\nQ 35.15625 6.890625 40.078125 11.328125 \r\nQ 45.015625 15.765625 45.015625 23.390625 \r\nQ 45.015625 31 40.078125 35.4375 \r\nQ 35.15625 39.890625 26.703125 39.890625 \r\nQ 22.75 39.890625 18.8125 39.015625 \r\nQ 14.890625 38.140625 10.796875 36.28125 \r\nz\r\n\" id=\"DejaVuSans-53\"/>\r\n      </defs>\r\n      <g transform=\"translate(50.646204 239.238437)scale(0.1 -0.1)\">\r\n       <use xlink:href=\"#DejaVuSans-8722\"/>\r\n       <use x=\"83.789062\" xlink:href=\"#DejaVuSans-49\"/>\r\n       <use x=\"147.412109\" xlink:href=\"#DejaVuSans-53\"/>\r\n      </g>\r\n     </g>\r\n    </g>\r\n    <g id=\"xtick_2\">\r\n     <g id=\"line2d_2\">\r\n      <g>\r\n       <use style=\"stroke:#000000;stroke-width:0.8;\" x=\"117.393454\" xlink:href=\"#m1f33b629a7\" y=\"224.64\"/>\r\n      </g>\r\n     </g>\r\n     <g id=\"text_2\">\r\n      <!-- −10 -->\r\n      <defs>\r\n       <path d=\"M 31.78125 66.40625 \r\nQ 24.171875 66.40625 20.328125 58.90625 \r\nQ 16.5 51.421875 16.5 36.375 \r\nQ 16.5 21.390625 20.328125 13.890625 \r\nQ 24.171875 6.390625 31.78125 6.390625 \r\nQ 39.453125 6.390625 43.28125 13.890625 \r\nQ 47.125 21.390625 47.125 36.375 \r\nQ 47.125 51.421875 43.28125 58.90625 \r\nQ 39.453125 66.40625 31.78125 66.40625 \r\nz\r\nM 31.78125 74.21875 \r\nQ 44.046875 74.21875 50.515625 64.515625 \r\nQ 56.984375 54.828125 56.984375 36.375 \r\nQ 56.984375 17.96875 50.515625 8.265625 \r\nQ 44.046875 -1.421875 31.78125 -1.421875 \r\nQ 19.53125 -1.421875 13.0625 8.265625 \r\nQ 6.59375 17.96875 6.59375 36.375 \r\nQ 6.59375 54.828125 13.0625 64.515625 \r\nQ 19.53125 74.21875 31.78125 74.21875 \r\nz\r\n\" id=\"DejaVuSans-48\"/>\r\n      </defs>\r\n      <g transform=\"translate(106.84111 239.238437)scale(0.1 -0.1)\">\r\n       <use xlink:href=\"#DejaVuSans-8722\"/>\r\n       <use x=\"83.789062\" xlink:href=\"#DejaVuSans-49\"/>\r\n       <use x=\"147.412109\" xlink:href=\"#DejaVuSans-48\"/>\r\n      </g>\r\n     </g>\r\n    </g>\r\n    <g id=\"xtick_3\">\r\n     <g id=\"line2d_3\">\r\n      <g>\r\n       <use style=\"stroke:#000000;stroke-width:0.8;\" x=\"173.58836\" xlink:href=\"#m1f33b629a7\" y=\"224.64\"/>\r\n      </g>\r\n     </g>\r\n     <g id=\"text_3\">\r\n      <!-- −5 -->\r\n      <g transform=\"translate(166.217266 239.238437)scale(0.1 -0.1)\">\r\n       <use xlink:href=\"#DejaVuSans-8722\"/>\r\n       <use x=\"83.789062\" xlink:href=\"#DejaVuSans-53\"/>\r\n      </g>\r\n     </g>\r\n    </g>\r\n    <g id=\"xtick_4\">\r\n     <g id=\"line2d_4\">\r\n      <g>\r\n       <use style=\"stroke:#000000;stroke-width:0.8;\" x=\"229.783266\" xlink:href=\"#m1f33b629a7\" y=\"224.64\"/>\r\n      </g>\r\n     </g>\r\n     <g id=\"text_4\">\r\n      <!-- 0 -->\r\n      <g transform=\"translate(226.602016 239.238437)scale(0.1 -0.1)\">\r\n       <use xlink:href=\"#DejaVuSans-48\"/>\r\n      </g>\r\n     </g>\r\n    </g>\r\n    <g id=\"xtick_5\">\r\n     <g id=\"line2d_5\">\r\n      <g>\r\n       <use style=\"stroke:#000000;stroke-width:0.8;\" x=\"285.978172\" xlink:href=\"#m1f33b629a7\" y=\"224.64\"/>\r\n      </g>\r\n     </g>\r\n     <g id=\"text_5\">\r\n      <!-- 5 -->\r\n      <g transform=\"translate(282.796922 239.238437)scale(0.1 -0.1)\">\r\n       <use xlink:href=\"#DejaVuSans-53\"/>\r\n      </g>\r\n     </g>\r\n    </g>\r\n    <g id=\"xtick_6\">\r\n     <g id=\"line2d_6\">\r\n      <g>\r\n       <use style=\"stroke:#000000;stroke-width:0.8;\" x=\"342.173079\" xlink:href=\"#m1f33b629a7\" y=\"224.64\"/>\r\n      </g>\r\n     </g>\r\n     <g id=\"text_6\">\r\n      <!-- 10 -->\r\n      <g transform=\"translate(335.810579 239.238437)scale(0.1 -0.1)\">\r\n       <use xlink:href=\"#DejaVuSans-49\"/>\r\n       <use x=\"63.623047\" xlink:href=\"#DejaVuSans-48\"/>\r\n      </g>\r\n     </g>\r\n    </g>\r\n    <g id=\"text_7\">\r\n     <!-- Prediction Error [Intrusion] -->\r\n     <defs>\r\n      <path d=\"M 19.671875 64.796875 \r\nL 19.671875 37.40625 \r\nL 32.078125 37.40625 \r\nQ 38.96875 37.40625 42.71875 40.96875 \r\nQ 46.484375 44.53125 46.484375 51.125 \r\nQ 46.484375 57.671875 42.71875 61.234375 \r\nQ 38.96875 64.796875 32.078125 64.796875 \r\nz\r\nM 9.8125 72.90625 \r\nL 32.078125 72.90625 \r\nQ 44.34375 72.90625 50.609375 67.359375 \r\nQ 56.890625 61.8125 56.890625 51.125 \r\nQ 56.890625 40.328125 50.609375 34.8125 \r\nQ 44.34375 29.296875 32.078125 29.296875 \r\nL 19.671875 29.296875 \r\nL 19.671875 0 \r\nL 9.8125 0 \r\nz\r\n\" id=\"DejaVuSans-80\"/>\r\n      <path d=\"M 41.109375 46.296875 \r\nQ 39.59375 47.171875 37.8125 47.578125 \r\nQ 36.03125 48 33.890625 48 \r\nQ 26.265625 48 22.1875 43.046875 \r\nQ 18.109375 38.09375 18.109375 28.8125 \r\nL 18.109375 0 \r\nL 9.078125 0 \r\nL 9.078125 54.6875 \r\nL 18.109375 54.6875 \r\nL 18.109375 46.1875 \r\nQ 20.953125 51.171875 25.484375 53.578125 \r\nQ 30.03125 56 36.53125 56 \r\nQ 37.453125 56 38.578125 55.875 \r\nQ 39.703125 55.765625 41.0625 55.515625 \r\nz\r\n\" id=\"DejaVuSans-114\"/>\r\n      <path d=\"M 56.203125 29.59375 \r\nL 56.203125 25.203125 \r\nL 14.890625 25.203125 \r\nQ 15.484375 15.921875 20.484375 11.0625 \r\nQ 25.484375 6.203125 34.421875 6.203125 \r\nQ 39.59375 6.203125 44.453125 7.46875 \r\nQ 49.3125 8.734375 54.109375 11.28125 \r\nL 54.109375 2.78125 \r\nQ 49.265625 0.734375 44.1875 -0.34375 \r\nQ 39.109375 -1.421875 33.890625 -1.421875 \r\nQ 20.796875 -1.421875 13.15625 6.1875 \r\nQ 5.515625 13.8125 5.515625 26.8125 \r\nQ 5.515625 40.234375 12.765625 48.109375 \r\nQ 20.015625 56 32.328125 56 \r\nQ 43.359375 56 49.78125 48.890625 \r\nQ 56.203125 41.796875 56.203125 29.59375 \r\nz\r\nM 47.21875 32.234375 \r\nQ 47.125 39.59375 43.09375 43.984375 \r\nQ 39.0625 48.390625 32.421875 48.390625 \r\nQ 24.90625 48.390625 20.390625 44.140625 \r\nQ 15.875 39.890625 15.1875 32.171875 \r\nz\r\n\" id=\"DejaVuSans-101\"/>\r\n      <path d=\"M 45.40625 46.390625 \r\nL 45.40625 75.984375 \r\nL 54.390625 75.984375 \r\nL 54.390625 0 \r\nL 45.40625 0 \r\nL 45.40625 8.203125 \r\nQ 42.578125 3.328125 38.25 0.953125 \r\nQ 33.9375 -1.421875 27.875 -1.421875 \r\nQ 17.96875 -1.421875 11.734375 6.484375 \r\nQ 5.515625 14.40625 5.515625 27.296875 \r\nQ 5.515625 40.1875 11.734375 48.09375 \r\nQ 17.96875 56 27.875 56 \r\nQ 33.9375 56 38.25 53.625 \r\nQ 42.578125 51.265625 45.40625 46.390625 \r\nz\r\nM 14.796875 27.296875 \r\nQ 14.796875 17.390625 18.875 11.75 \r\nQ 22.953125 6.109375 30.078125 6.109375 \r\nQ 37.203125 6.109375 41.296875 11.75 \r\nQ 45.40625 17.390625 45.40625 27.296875 \r\nQ 45.40625 37.203125 41.296875 42.84375 \r\nQ 37.203125 48.484375 30.078125 48.484375 \r\nQ 22.953125 48.484375 18.875 42.84375 \r\nQ 14.796875 37.203125 14.796875 27.296875 \r\nz\r\n\" id=\"DejaVuSans-100\"/>\r\n      <path d=\"M 9.421875 54.6875 \r\nL 18.40625 54.6875 \r\nL 18.40625 0 \r\nL 9.421875 0 \r\nz\r\nM 9.421875 75.984375 \r\nL 18.40625 75.984375 \r\nL 18.40625 64.59375 \r\nL 9.421875 64.59375 \r\nz\r\n\" id=\"DejaVuSans-105\"/>\r\n      <path d=\"M 48.78125 52.59375 \r\nL 48.78125 44.1875 \r\nQ 44.96875 46.296875 41.140625 47.34375 \r\nQ 37.3125 48.390625 33.40625 48.390625 \r\nQ 24.65625 48.390625 19.8125 42.84375 \r\nQ 14.984375 37.3125 14.984375 27.296875 \r\nQ 14.984375 17.28125 19.8125 11.734375 \r\nQ 24.65625 6.203125 33.40625 6.203125 \r\nQ 37.3125 6.203125 41.140625 7.25 \r\nQ 44.96875 8.296875 48.78125 10.40625 \r\nL 48.78125 2.09375 \r\nQ 45.015625 0.34375 40.984375 -0.53125 \r\nQ 36.96875 -1.421875 32.421875 -1.421875 \r\nQ 20.0625 -1.421875 12.78125 6.34375 \r\nQ 5.515625 14.109375 5.515625 27.296875 \r\nQ 5.515625 40.671875 12.859375 48.328125 \r\nQ 20.21875 56 33.015625 56 \r\nQ 37.15625 56 41.109375 55.140625 \r\nQ 45.0625 54.296875 48.78125 52.59375 \r\nz\r\n\" id=\"DejaVuSans-99\"/>\r\n      <path d=\"M 18.3125 70.21875 \r\nL 18.3125 54.6875 \r\nL 36.8125 54.6875 \r\nL 36.8125 47.703125 \r\nL 18.3125 47.703125 \r\nL 18.3125 18.015625 \r\nQ 18.3125 11.328125 20.140625 9.421875 \r\nQ 21.96875 7.515625 27.59375 7.515625 \r\nL 36.8125 7.515625 \r\nL 36.8125 0 \r\nL 27.59375 0 \r\nQ 17.1875 0 13.234375 3.875 \r\nQ 9.28125 7.765625 9.28125 18.015625 \r\nL 9.28125 47.703125 \r\nL 2.6875 47.703125 \r\nL 2.6875 54.6875 \r\nL 9.28125 54.6875 \r\nL 9.28125 70.21875 \r\nz\r\n\" id=\"DejaVuSans-116\"/>\r\n      <path d=\"M 30.609375 48.390625 \r\nQ 23.390625 48.390625 19.1875 42.75 \r\nQ 14.984375 37.109375 14.984375 27.296875 \r\nQ 14.984375 17.484375 19.15625 11.84375 \r\nQ 23.34375 6.203125 30.609375 6.203125 \r\nQ 37.796875 6.203125 41.984375 11.859375 \r\nQ 46.1875 17.53125 46.1875 27.296875 \r\nQ 46.1875 37.015625 41.984375 42.703125 \r\nQ 37.796875 48.390625 30.609375 48.390625 \r\nz\r\nM 30.609375 56 \r\nQ 42.328125 56 49.015625 48.375 \r\nQ 55.71875 40.765625 55.71875 27.296875 \r\nQ 55.71875 13.875 49.015625 6.21875 \r\nQ 42.328125 -1.421875 30.609375 -1.421875 \r\nQ 18.84375 -1.421875 12.171875 6.21875 \r\nQ 5.515625 13.875 5.515625 27.296875 \r\nQ 5.515625 40.765625 12.171875 48.375 \r\nQ 18.84375 56 30.609375 56 \r\nz\r\n\" id=\"DejaVuSans-111\"/>\r\n      <path d=\"M 54.890625 33.015625 \r\nL 54.890625 0 \r\nL 45.90625 0 \r\nL 45.90625 32.71875 \r\nQ 45.90625 40.484375 42.875 44.328125 \r\nQ 39.84375 48.1875 33.796875 48.1875 \r\nQ 26.515625 48.1875 22.3125 43.546875 \r\nQ 18.109375 38.921875 18.109375 30.90625 \r\nL 18.109375 0 \r\nL 9.078125 0 \r\nL 9.078125 54.6875 \r\nL 18.109375 54.6875 \r\nL 18.109375 46.1875 \r\nQ 21.34375 51.125 25.703125 53.5625 \r\nQ 30.078125 56 35.796875 56 \r\nQ 45.21875 56 50.046875 50.171875 \r\nQ 54.890625 44.34375 54.890625 33.015625 \r\nz\r\n\" id=\"DejaVuSans-110\"/>\r\n      <path id=\"DejaVuSans-32\"/>\r\n      <path d=\"M 9.8125 72.90625 \r\nL 55.90625 72.90625 \r\nL 55.90625 64.59375 \r\nL 19.671875 64.59375 \r\nL 19.671875 43.015625 \r\nL 54.390625 43.015625 \r\nL 54.390625 34.71875 \r\nL 19.671875 34.71875 \r\nL 19.671875 8.296875 \r\nL 56.78125 8.296875 \r\nL 56.78125 0 \r\nL 9.8125 0 \r\nz\r\n\" id=\"DejaVuSans-69\"/>\r\n      <path d=\"M 8.59375 75.984375 \r\nL 29.296875 75.984375 \r\nL 29.296875 69 \r\nL 17.578125 69 \r\nL 17.578125 -6.203125 \r\nL 29.296875 -6.203125 \r\nL 29.296875 -13.1875 \r\nL 8.59375 -13.1875 \r\nz\r\n\" id=\"DejaVuSans-91\"/>\r\n      <path d=\"M 9.8125 72.90625 \r\nL 19.671875 72.90625 \r\nL 19.671875 0 \r\nL 9.8125 0 \r\nz\r\n\" id=\"DejaVuSans-73\"/>\r\n      <path d=\"M 8.5 21.578125 \r\nL 8.5 54.6875 \r\nL 17.484375 54.6875 \r\nL 17.484375 21.921875 \r\nQ 17.484375 14.15625 20.5 10.265625 \r\nQ 23.53125 6.390625 29.59375 6.390625 \r\nQ 36.859375 6.390625 41.078125 11.03125 \r\nQ 45.3125 15.671875 45.3125 23.6875 \r\nL 45.3125 54.6875 \r\nL 54.296875 54.6875 \r\nL 54.296875 0 \r\nL 45.3125 0 \r\nL 45.3125 8.40625 \r\nQ 42.046875 3.421875 37.71875 1 \r\nQ 33.40625 -1.421875 27.6875 -1.421875 \r\nQ 18.265625 -1.421875 13.375 4.4375 \r\nQ 8.5 10.296875 8.5 21.578125 \r\nz\r\nM 31.109375 56 \r\nz\r\n\" id=\"DejaVuSans-117\"/>\r\n      <path d=\"M 44.28125 53.078125 \r\nL 44.28125 44.578125 \r\nQ 40.484375 46.53125 36.375 47.5 \r\nQ 32.28125 48.484375 27.875 48.484375 \r\nQ 21.1875 48.484375 17.84375 46.4375 \r\nQ 14.5 44.390625 14.5 40.28125 \r\nQ 14.5 37.15625 16.890625 35.375 \r\nQ 19.28125 33.59375 26.515625 31.984375 \r\nL 29.59375 31.296875 \r\nQ 39.15625 29.25 43.1875 25.515625 \r\nQ 47.21875 21.78125 47.21875 15.09375 \r\nQ 47.21875 7.46875 41.1875 3.015625 \r\nQ 35.15625 -1.421875 24.609375 -1.421875 \r\nQ 20.21875 -1.421875 15.453125 -0.5625 \r\nQ 10.6875 0.296875 5.421875 2 \r\nL 5.421875 11.28125 \r\nQ 10.40625 8.6875 15.234375 7.390625 \r\nQ 20.0625 6.109375 24.8125 6.109375 \r\nQ 31.15625 6.109375 34.5625 8.28125 \r\nQ 37.984375 10.453125 37.984375 14.40625 \r\nQ 37.984375 18.0625 35.515625 20.015625 \r\nQ 33.0625 21.96875 24.703125 23.78125 \r\nL 21.578125 24.515625 \r\nQ 13.234375 26.265625 9.515625 29.90625 \r\nQ 5.8125 33.546875 5.8125 39.890625 \r\nQ 5.8125 47.609375 11.28125 51.796875 \r\nQ 16.75 56 26.8125 56 \r\nQ 31.78125 56 36.171875 55.265625 \r\nQ 40.578125 54.546875 44.28125 53.078125 \r\nz\r\n\" id=\"DejaVuSans-115\"/>\r\n      <path d=\"M 30.421875 75.984375 \r\nL 30.421875 -13.1875 \r\nL 9.71875 -13.1875 \r\nL 9.71875 -6.203125 \r\nL 21.390625 -6.203125 \r\nL 21.390625 69 \r\nL 9.71875 69 \r\nL 9.71875 75.984375 \r\nz\r\n\" id=\"DejaVuSans-93\"/>\r\n     </defs>\r\n     <g transform=\"translate(135.09375 252.916562)scale(0.1 -0.1)\">\r\n      <use xlink:href=\"#DejaVuSans-80\"/>\r\n      <use x=\"60.287109\" xlink:href=\"#DejaVuSans-114\"/>\r\n      <use x=\"101.369141\" xlink:href=\"#DejaVuSans-101\"/>\r\n      <use x=\"162.892578\" xlink:href=\"#DejaVuSans-100\"/>\r\n      <use x=\"226.369141\" xlink:href=\"#DejaVuSans-105\"/>\r\n      <use x=\"254.152344\" xlink:href=\"#DejaVuSans-99\"/>\r\n      <use x=\"309.132812\" xlink:href=\"#DejaVuSans-116\"/>\r\n      <use x=\"348.341797\" xlink:href=\"#DejaVuSans-105\"/>\r\n      <use x=\"376.125\" xlink:href=\"#DejaVuSans-111\"/>\r\n      <use x=\"437.306641\" xlink:href=\"#DejaVuSans-110\"/>\r\n      <use x=\"500.685547\" xlink:href=\"#DejaVuSans-32\"/>\r\n      <use x=\"532.472656\" xlink:href=\"#DejaVuSans-69\"/>\r\n      <use x=\"595.65625\" xlink:href=\"#DejaVuSans-114\"/>\r\n      <use x=\"636.753906\" xlink:href=\"#DejaVuSans-114\"/>\r\n      <use x=\"677.835938\" xlink:href=\"#DejaVuSans-111\"/>\r\n      <use x=\"739.017578\" xlink:href=\"#DejaVuSans-114\"/>\r\n      <use x=\"780.130859\" xlink:href=\"#DejaVuSans-32\"/>\r\n      <use x=\"811.917969\" xlink:href=\"#DejaVuSans-91\"/>\r\n      <use x=\"850.931641\" xlink:href=\"#DejaVuSans-73\"/>\r\n      <use x=\"880.423828\" xlink:href=\"#DejaVuSans-110\"/>\r\n      <use x=\"943.802734\" xlink:href=\"#DejaVuSans-116\"/>\r\n      <use x=\"983.011719\" xlink:href=\"#DejaVuSans-114\"/>\r\n      <use x=\"1024.125\" xlink:href=\"#DejaVuSans-117\"/>\r\n      <use x=\"1087.503906\" xlink:href=\"#DejaVuSans-115\"/>\r\n      <use x=\"1139.603516\" xlink:href=\"#DejaVuSans-105\"/>\r\n      <use x=\"1167.386719\" xlink:href=\"#DejaVuSans-111\"/>\r\n      <use x=\"1228.568359\" xlink:href=\"#DejaVuSans-110\"/>\r\n      <use x=\"1291.947266\" xlink:href=\"#DejaVuSans-93\"/>\r\n     </g>\r\n    </g>\r\n   </g>\r\n   <g id=\"matplotlib.axis_2\">\r\n    <g id=\"ytick_1\">\r\n     <g id=\"line2d_7\">\r\n      <defs>\r\n       <path d=\"M 0 0 \r\nL -3.5 0 \r\n\" id=\"m06237c9c52\" style=\"stroke:#000000;stroke-width:0.8;\"/>\r\n      </defs>\r\n      <g>\r\n       <use style=\"stroke:#000000;stroke-width:0.8;\" x=\"34.240625\" xlink:href=\"#m06237c9c52\" y=\"224.64\"/>\r\n      </g>\r\n     </g>\r\n     <g id=\"text_8\">\r\n      <!-- 0 -->\r\n      <g transform=\"translate(20.878125 228.439219)scale(0.1 -0.1)\">\r\n       <use xlink:href=\"#DejaVuSans-48\"/>\r\n      </g>\r\n     </g>\r\n    </g>\r\n    <g id=\"ytick_2\">\r\n     <g id=\"line2d_8\">\r\n      <g>\r\n       <use style=\"stroke:#000000;stroke-width:0.8;\" x=\"34.240625\" xlink:href=\"#m06237c9c52\" y=\"195.056327\"/>\r\n      </g>\r\n     </g>\r\n     <g id=\"text_9\">\r\n      <!-- 1 -->\r\n      <g transform=\"translate(20.878125 198.855545)scale(0.1 -0.1)\">\r\n       <use xlink:href=\"#DejaVuSans-49\"/>\r\n      </g>\r\n     </g>\r\n    </g>\r\n    <g id=\"ytick_3\">\r\n     <g id=\"line2d_9\">\r\n      <g>\r\n       <use style=\"stroke:#000000;stroke-width:0.8;\" x=\"34.240625\" xlink:href=\"#m06237c9c52\" y=\"165.472653\"/>\r\n      </g>\r\n     </g>\r\n     <g id=\"text_10\">\r\n      <!-- 2 -->\r\n      <defs>\r\n       <path d=\"M 19.1875 8.296875 \r\nL 53.609375 8.296875 \r\nL 53.609375 0 \r\nL 7.328125 0 \r\nL 7.328125 8.296875 \r\nQ 12.9375 14.109375 22.625 23.890625 \r\nQ 32.328125 33.6875 34.8125 36.53125 \r\nQ 39.546875 41.84375 41.421875 45.53125 \r\nQ 43.3125 49.21875 43.3125 52.78125 \r\nQ 43.3125 58.59375 39.234375 62.25 \r\nQ 35.15625 65.921875 28.609375 65.921875 \r\nQ 23.96875 65.921875 18.8125 64.3125 \r\nQ 13.671875 62.703125 7.8125 59.421875 \r\nL 7.8125 69.390625 \r\nQ 13.765625 71.78125 18.9375 73 \r\nQ 24.125 74.21875 28.421875 74.21875 \r\nQ 39.75 74.21875 46.484375 68.546875 \r\nQ 53.21875 62.890625 53.21875 53.421875 \r\nQ 53.21875 48.921875 51.53125 44.890625 \r\nQ 49.859375 40.875 45.40625 35.40625 \r\nQ 44.1875 33.984375 37.640625 27.21875 \r\nQ 31.109375 20.453125 19.1875 8.296875 \r\nz\r\n\" id=\"DejaVuSans-50\"/>\r\n      </defs>\r\n      <g transform=\"translate(20.878125 169.271872)scale(0.1 -0.1)\">\r\n       <use xlink:href=\"#DejaVuSans-50\"/>\r\n      </g>\r\n     </g>\r\n    </g>\r\n    <g id=\"ytick_4\">\r\n     <g id=\"line2d_10\">\r\n      <g>\r\n       <use style=\"stroke:#000000;stroke-width:0.8;\" x=\"34.240625\" xlink:href=\"#m06237c9c52\" y=\"135.88898\"/>\r\n      </g>\r\n     </g>\r\n     <g id=\"text_11\">\r\n      <!-- 3 -->\r\n      <defs>\r\n       <path d=\"M 40.578125 39.3125 \r\nQ 47.65625 37.796875 51.625 33 \r\nQ 55.609375 28.21875 55.609375 21.1875 \r\nQ 55.609375 10.40625 48.1875 4.484375 \r\nQ 40.765625 -1.421875 27.09375 -1.421875 \r\nQ 22.515625 -1.421875 17.65625 -0.515625 \r\nQ 12.796875 0.390625 7.625 2.203125 \r\nL 7.625 11.71875 \r\nQ 11.71875 9.328125 16.59375 8.109375 \r\nQ 21.484375 6.890625 26.8125 6.890625 \r\nQ 36.078125 6.890625 40.9375 10.546875 \r\nQ 45.796875 14.203125 45.796875 21.1875 \r\nQ 45.796875 27.640625 41.28125 31.265625 \r\nQ 36.765625 34.90625 28.71875 34.90625 \r\nL 20.21875 34.90625 \r\nL 20.21875 43.015625 \r\nL 29.109375 43.015625 \r\nQ 36.375 43.015625 40.234375 45.921875 \r\nQ 44.09375 48.828125 44.09375 54.296875 \r\nQ 44.09375 59.90625 40.109375 62.90625 \r\nQ 36.140625 65.921875 28.71875 65.921875 \r\nQ 24.65625 65.921875 20.015625 65.03125 \r\nQ 15.375 64.15625 9.8125 62.3125 \r\nL 9.8125 71.09375 \r\nQ 15.4375 72.65625 20.34375 73.4375 \r\nQ 25.25 74.21875 29.59375 74.21875 \r\nQ 40.828125 74.21875 47.359375 69.109375 \r\nQ 53.90625 64.015625 53.90625 55.328125 \r\nQ 53.90625 49.265625 50.4375 45.09375 \r\nQ 46.96875 40.921875 40.578125 39.3125 \r\nz\r\n\" id=\"DejaVuSans-51\"/>\r\n      </defs>\r\n      <g transform=\"translate(20.878125 139.688198)scale(0.1 -0.1)\">\r\n       <use xlink:href=\"#DejaVuSans-51\"/>\r\n      </g>\r\n     </g>\r\n    </g>\r\n    <g id=\"ytick_5\">\r\n     <g id=\"line2d_11\">\r\n      <g>\r\n       <use style=\"stroke:#000000;stroke-width:0.8;\" x=\"34.240625\" xlink:href=\"#m06237c9c52\" y=\"106.305306\"/>\r\n      </g>\r\n     </g>\r\n     <g id=\"text_12\">\r\n      <!-- 4 -->\r\n      <defs>\r\n       <path d=\"M 37.796875 64.3125 \r\nL 12.890625 25.390625 \r\nL 37.796875 25.390625 \r\nz\r\nM 35.203125 72.90625 \r\nL 47.609375 72.90625 \r\nL 47.609375 25.390625 \r\nL 58.015625 25.390625 \r\nL 58.015625 17.1875 \r\nL 47.609375 17.1875 \r\nL 47.609375 0 \r\nL 37.796875 0 \r\nL 37.796875 17.1875 \r\nL 4.890625 17.1875 \r\nL 4.890625 26.703125 \r\nz\r\n\" id=\"DejaVuSans-52\"/>\r\n      </defs>\r\n      <g transform=\"translate(20.878125 110.104525)scale(0.1 -0.1)\">\r\n       <use xlink:href=\"#DejaVuSans-52\"/>\r\n      </g>\r\n     </g>\r\n    </g>\r\n    <g id=\"ytick_6\">\r\n     <g id=\"line2d_12\">\r\n      <g>\r\n       <use style=\"stroke:#000000;stroke-width:0.8;\" x=\"34.240625\" xlink:href=\"#m06237c9c52\" y=\"76.721633\"/>\r\n      </g>\r\n     </g>\r\n     <g id=\"text_13\">\r\n      <!-- 5 -->\r\n      <g transform=\"translate(20.878125 80.520851)scale(0.1 -0.1)\">\r\n       <use xlink:href=\"#DejaVuSans-53\"/>\r\n      </g>\r\n     </g>\r\n    </g>\r\n    <g id=\"ytick_7\">\r\n     <g id=\"line2d_13\">\r\n      <g>\r\n       <use style=\"stroke:#000000;stroke-width:0.8;\" x=\"34.240625\" xlink:href=\"#m06237c9c52\" y=\"47.137959\"/>\r\n      </g>\r\n     </g>\r\n     <g id=\"text_14\">\r\n      <!-- 6 -->\r\n      <defs>\r\n       <path d=\"M 33.015625 40.375 \r\nQ 26.375 40.375 22.484375 35.828125 \r\nQ 18.609375 31.296875 18.609375 23.390625 \r\nQ 18.609375 15.53125 22.484375 10.953125 \r\nQ 26.375 6.390625 33.015625 6.390625 \r\nQ 39.65625 6.390625 43.53125 10.953125 \r\nQ 47.40625 15.53125 47.40625 23.390625 \r\nQ 47.40625 31.296875 43.53125 35.828125 \r\nQ 39.65625 40.375 33.015625 40.375 \r\nz\r\nM 52.59375 71.296875 \r\nL 52.59375 62.3125 \r\nQ 48.875 64.0625 45.09375 64.984375 \r\nQ 41.3125 65.921875 37.59375 65.921875 \r\nQ 27.828125 65.921875 22.671875 59.328125 \r\nQ 17.53125 52.734375 16.796875 39.40625 \r\nQ 19.671875 43.65625 24.015625 45.921875 \r\nQ 28.375 48.1875 33.59375 48.1875 \r\nQ 44.578125 48.1875 50.953125 41.515625 \r\nQ 57.328125 34.859375 57.328125 23.390625 \r\nQ 57.328125 12.15625 50.6875 5.359375 \r\nQ 44.046875 -1.421875 33.015625 -1.421875 \r\nQ 20.359375 -1.421875 13.671875 8.265625 \r\nQ 6.984375 17.96875 6.984375 36.375 \r\nQ 6.984375 53.65625 15.1875 63.9375 \r\nQ 23.390625 74.21875 37.203125 74.21875 \r\nQ 40.921875 74.21875 44.703125 73.484375 \r\nQ 48.484375 72.75 52.59375 71.296875 \r\nz\r\n\" id=\"DejaVuSans-54\"/>\r\n      </defs>\r\n      <g transform=\"translate(20.878125 50.937178)scale(0.1 -0.1)\">\r\n       <use xlink:href=\"#DejaVuSans-54\"/>\r\n      </g>\r\n     </g>\r\n    </g>\r\n    <g id=\"ytick_8\">\r\n     <g id=\"line2d_14\">\r\n      <g>\r\n       <use style=\"stroke:#000000;stroke-width:0.8;\" x=\"34.240625\" xlink:href=\"#m06237c9c52\" y=\"17.554286\"/>\r\n      </g>\r\n     </g>\r\n     <g id=\"text_15\">\r\n      <!-- 7 -->\r\n      <defs>\r\n       <path d=\"M 8.203125 72.90625 \r\nL 55.078125 72.90625 \r\nL 55.078125 68.703125 \r\nL 28.609375 0 \r\nL 18.3125 0 \r\nL 43.21875 64.59375 \r\nL 8.203125 64.59375 \r\nz\r\n\" id=\"DejaVuSans-55\"/>\r\n      </defs>\r\n      <g transform=\"translate(20.878125 21.353504)scale(0.1 -0.1)\">\r\n       <use xlink:href=\"#DejaVuSans-55\"/>\r\n      </g>\r\n     </g>\r\n    </g>\r\n    <g id=\"text_16\">\r\n     <!-- Count -->\r\n     <defs>\r\n      <path d=\"M 64.40625 67.28125 \r\nL 64.40625 56.890625 \r\nQ 59.421875 61.53125 53.78125 63.8125 \r\nQ 48.140625 66.109375 41.796875 66.109375 \r\nQ 29.296875 66.109375 22.65625 58.46875 \r\nQ 16.015625 50.828125 16.015625 36.375 \r\nQ 16.015625 21.96875 22.65625 14.328125 \r\nQ 29.296875 6.6875 41.796875 6.6875 \r\nQ 48.140625 6.6875 53.78125 8.984375 \r\nQ 59.421875 11.28125 64.40625 15.921875 \r\nL 64.40625 5.609375 \r\nQ 59.234375 2.09375 53.4375 0.328125 \r\nQ 47.65625 -1.421875 41.21875 -1.421875 \r\nQ 24.65625 -1.421875 15.125 8.703125 \r\nQ 5.609375 18.84375 5.609375 36.375 \r\nQ 5.609375 53.953125 15.125 64.078125 \r\nQ 24.65625 74.21875 41.21875 74.21875 \r\nQ 47.75 74.21875 53.53125 72.484375 \r\nQ 59.328125 70.75 64.40625 67.28125 \r\nz\r\n\" id=\"DejaVuSans-67\"/>\r\n     </defs>\r\n     <g transform=\"translate(14.798437 130.768437)rotate(-90)scale(0.1 -0.1)\">\r\n      <use xlink:href=\"#DejaVuSans-67\"/>\r\n      <use x=\"69.824219\" xlink:href=\"#DejaVuSans-111\"/>\r\n      <use x=\"131.005859\" xlink:href=\"#DejaVuSans-117\"/>\r\n      <use x=\"194.384766\" xlink:href=\"#DejaVuSans-110\"/>\r\n      <use x=\"257.763672\" xlink:href=\"#DejaVuSans-116\"/>\r\n     </g>\r\n    </g>\r\n   </g>\r\n   <g id=\"patch_28\">\r\n    <path d=\"M 34.240625 224.64 \r\nL 34.240625 7.2 \r\n\" style=\"fill:none;stroke:#000000;stroke-linecap:square;stroke-linejoin:miter;stroke-width:0.8;\"/>\r\n   </g>\r\n   <g id=\"patch_29\">\r\n    <path d=\"M 369.040625 224.64 \r\nL 369.040625 7.2 \r\n\" style=\"fill:none;stroke:#000000;stroke-linecap:square;stroke-linejoin:miter;stroke-width:0.8;\"/>\r\n   </g>\r\n   <g id=\"patch_30\">\r\n    <path d=\"M 34.240625 224.64 \r\nL 369.040625 224.64 \r\n\" style=\"fill:none;stroke:#000000;stroke-linecap:square;stroke-linejoin:miter;stroke-width:0.8;\"/>\r\n   </g>\r\n   <g id=\"patch_31\">\r\n    <path d=\"M 34.240625 7.2 \r\nL 369.040625 7.2 \r\n\" style=\"fill:none;stroke:#000000;stroke-linecap:square;stroke-linejoin:miter;stroke-width:0.8;\"/>\r\n   </g>\r\n  </g>\r\n </g>\r\n <defs>\r\n  <clipPath id=\"p974fd06d84\">\r\n   <rect height=\"217.44\" width=\"334.8\" x=\"34.240625\" y=\"7.2\"/>\r\n  </clipPath>\r\n </defs>\r\n</svg>\r\n",
      "image/png": "[encoded data removed]"
     },
     "metadata": {
      "needs_background": "light"
     }
    }
   ],
   "metadata": {
    "tags": []
   }
  },
  {
   "cell_type": "code",
   "execution_count": 33,
   "source": [
    "# 모델 학습 과정 표시하기\n",
    "%matplotlib inline\n",
    "import matplotlib.pyplot as plt\n",
    "\n",
    "fig, loss_ax = plt.subplots()\n",
    "# acc_ax = loss_ax.twinx()\n",
    "\n",
    "hist = model_Intr_history\n",
    "# hist = model_Intr_early_history \n",
    "loss_ax.plot(hist.history['loss'], 'y', label='train loss')\n",
    "loss_ax.plot(hist.history['val_loss'], 'r', label='val loss')\n",
    "\n",
    "# acc_ax.plot(hist.history['mse'], 'b', label='train mse')\n",
    "# acc_ax.plot(hist.history['val_mse'], 'g', label='val mse')\n",
    "\n",
    "loss_ax.set_xlabel('epoch')\n",
    "loss_ax.set_ylabel('loss')\n",
    "# acc_ax.set_ylabel('mse')\n",
    "\n",
    "loss_ax.legend(loc='upper left')\n",
    "# acc_ax.legend(loc='lower left')\n",
    "\n",
    "plt.show()"
   ],
   "outputs": [
    {
     "output_type": "display_data",
     "data": {
      "text/plain": [
       "<Figure size 432x288 with 1 Axes>"
      ],
      "image/svg+xml": "<?xml version=\"1.0\" encoding=\"utf-8\" standalone=\"no\"?>\r\n<!DOCTYPE svg PUBLIC \"-//W3C//DTD SVG 1.1//EN\"\r\n  \"http://www.w3.org/Graphics/SVG/1.1/DTD/svg11.dtd\">\r\n<!-- Created with matplotlib (https://matplotlib.org/) -->\r\n<svg height=\"262.19625pt\" version=\"1.1\" viewBox=\"0 0 401.690625 262.19625\" width=\"401.690625pt\" xmlns=\"http://www.w3.org/2000/svg\" xmlns:xlink=\"http://www.w3.org/1999/xlink\">\r\n <defs>\r\n  <style type=\"text/css\">\r\n*{stroke-linecap:butt;stroke-linejoin:round;}\r\n  </style>\r\n </defs>\r\n <g id=\"figure_1\">\r\n  <g id=\"patch_1\">\r\n   <path d=\"M 0 262.19625 \r\nL 401.690625 262.19625 \r\nL 401.690625 0 \r\nL 0 0 \r\nz\r\n\" style=\"fill:none;\"/>\r\n  </g>\r\n  <g id=\"axes_1\">\r\n   <g id=\"patch_2\">\r\n    <path d=\"M 59.690625 224.64 \r\nL 394.490625 224.64 \r\nL 394.490625 7.2 \r\nL 59.690625 7.2 \r\nz\r\n\" style=\"fill:#ffffff;\"/>\r\n   </g>\r\n   <g id=\"matplotlib.axis_1\">\r\n    <g id=\"xtick_1\">\r\n     <g id=\"line2d_1\">\r\n      <defs>\r\n       <path d=\"M 0 0 \r\nL 0 3.5 \r\n\" id=\"mebdeb2a165\" style=\"stroke:#000000;stroke-width:0.8;\"/>\r\n      </defs>\r\n      <g>\r\n       <use style=\"stroke:#000000;stroke-width:0.8;\" x=\"74.908807\" xlink:href=\"#mebdeb2a165\" y=\"224.64\"/>\r\n      </g>\r\n     </g>\r\n     <g id=\"text_1\">\r\n      <!-- 0 -->\r\n      <defs>\r\n       <path d=\"M 31.78125 66.40625 \r\nQ 24.171875 66.40625 20.328125 58.90625 \r\nQ 16.5 51.421875 16.5 36.375 \r\nQ 16.5 21.390625 20.328125 13.890625 \r\nQ 24.171875 6.390625 31.78125 6.390625 \r\nQ 39.453125 6.390625 43.28125 13.890625 \r\nQ 47.125 21.390625 47.125 36.375 \r\nQ 47.125 51.421875 43.28125 58.90625 \r\nQ 39.453125 66.40625 31.78125 66.40625 \r\nz\r\nM 31.78125 74.21875 \r\nQ 44.046875 74.21875 50.515625 64.515625 \r\nQ 56.984375 54.828125 56.984375 36.375 \r\nQ 56.984375 17.96875 50.515625 8.265625 \r\nQ 44.046875 -1.421875 31.78125 -1.421875 \r\nQ 19.53125 -1.421875 13.0625 8.265625 \r\nQ 6.59375 17.96875 6.59375 36.375 \r\nQ 6.59375 54.828125 13.0625 64.515625 \r\nQ 19.53125 74.21875 31.78125 74.21875 \r\nz\r\n\" id=\"DejaVuSans-48\"/>\r\n      </defs>\r\n      <g transform=\"translate(71.727557 239.238437)scale(0.1 -0.1)\">\r\n       <use xlink:href=\"#DejaVuSans-48\"/>\r\n      </g>\r\n     </g>\r\n    </g>\r\n    <g id=\"xtick_2\">\r\n     <g id=\"line2d_2\">\r\n      <g>\r\n       <use style=\"stroke:#000000;stroke-width:0.8;\" x=\"135.793711\" xlink:href=\"#mebdeb2a165\" y=\"224.64\"/>\r\n      </g>\r\n     </g>\r\n     <g id=\"text_2\">\r\n      <!-- 1000 -->\r\n      <defs>\r\n       <path d=\"M 12.40625 8.296875 \r\nL 28.515625 8.296875 \r\nL 28.515625 63.921875 \r\nL 10.984375 60.40625 \r\nL 10.984375 69.390625 \r\nL 28.421875 72.90625 \r\nL 38.28125 72.90625 \r\nL 38.28125 8.296875 \r\nL 54.390625 8.296875 \r\nL 54.390625 0 \r\nL 12.40625 0 \r\nz\r\n\" id=\"DejaVuSans-49\"/>\r\n      </defs>\r\n      <g transform=\"translate(123.068711 239.238437)scale(0.1 -0.1)\">\r\n       <use xlink:href=\"#DejaVuSans-49\"/>\r\n       <use x=\"63.623047\" xlink:href=\"#DejaVuSans-48\"/>\r\n       <use x=\"127.246094\" xlink:href=\"#DejaVuSans-48\"/>\r\n       <use x=\"190.869141\" xlink:href=\"#DejaVuSans-48\"/>\r\n      </g>\r\n     </g>\r\n    </g>\r\n    <g id=\"xtick_3\">\r\n     <g id=\"line2d_3\">\r\n      <g>\r\n       <use style=\"stroke:#000000;stroke-width:0.8;\" x=\"196.678615\" xlink:href=\"#mebdeb2a165\" y=\"224.64\"/>\r\n      </g>\r\n     </g>\r\n     <g id=\"text_3\">\r\n      <!-- 2000 -->\r\n      <defs>\r\n       <path d=\"M 19.1875 8.296875 \r\nL 53.609375 8.296875 \r\nL 53.609375 0 \r\nL 7.328125 0 \r\nL 7.328125 8.296875 \r\nQ 12.9375 14.109375 22.625 23.890625 \r\nQ 32.328125 33.6875 34.8125 36.53125 \r\nQ 39.546875 41.84375 41.421875 45.53125 \r\nQ 43.3125 49.21875 43.3125 52.78125 \r\nQ 43.3125 58.59375 39.234375 62.25 \r\nQ 35.15625 65.921875 28.609375 65.921875 \r\nQ 23.96875 65.921875 18.8125 64.3125 \r\nQ 13.671875 62.703125 7.8125 59.421875 \r\nL 7.8125 69.390625 \r\nQ 13.765625 71.78125 18.9375 73 \r\nQ 24.125 74.21875 28.421875 74.21875 \r\nQ 39.75 74.21875 46.484375 68.546875 \r\nQ 53.21875 62.890625 53.21875 53.421875 \r\nQ 53.21875 48.921875 51.53125 44.890625 \r\nQ 49.859375 40.875 45.40625 35.40625 \r\nQ 44.1875 33.984375 37.640625 27.21875 \r\nQ 31.109375 20.453125 19.1875 8.296875 \r\nz\r\n\" id=\"DejaVuSans-50\"/>\r\n      </defs>\r\n      <g transform=\"translate(183.953615 239.238437)scale(0.1 -0.1)\">\r\n       <use xlink:href=\"#DejaVuSans-50\"/>\r\n       <use x=\"63.623047\" xlink:href=\"#DejaVuSans-48\"/>\r\n       <use x=\"127.246094\" xlink:href=\"#DejaVuSans-48\"/>\r\n       <use x=\"190.869141\" xlink:href=\"#DejaVuSans-48\"/>\r\n      </g>\r\n     </g>\r\n    </g>\r\n    <g id=\"xtick_4\">\r\n     <g id=\"line2d_4\">\r\n      <g>\r\n       <use style=\"stroke:#000000;stroke-width:0.8;\" x=\"257.56352\" xlink:href=\"#mebdeb2a165\" y=\"224.64\"/>\r\n      </g>\r\n     </g>\r\n     <g id=\"text_4\">\r\n      <!-- 3000 -->\r\n      <defs>\r\n       <path d=\"M 40.578125 39.3125 \r\nQ 47.65625 37.796875 51.625 33 \r\nQ 55.609375 28.21875 55.609375 21.1875 \r\nQ 55.609375 10.40625 48.1875 4.484375 \r\nQ 40.765625 -1.421875 27.09375 -1.421875 \r\nQ 22.515625 -1.421875 17.65625 -0.515625 \r\nQ 12.796875 0.390625 7.625 2.203125 \r\nL 7.625 11.71875 \r\nQ 11.71875 9.328125 16.59375 8.109375 \r\nQ 21.484375 6.890625 26.8125 6.890625 \r\nQ 36.078125 6.890625 40.9375 10.546875 \r\nQ 45.796875 14.203125 45.796875 21.1875 \r\nQ 45.796875 27.640625 41.28125 31.265625 \r\nQ 36.765625 34.90625 28.71875 34.90625 \r\nL 20.21875 34.90625 \r\nL 20.21875 43.015625 \r\nL 29.109375 43.015625 \r\nQ 36.375 43.015625 40.234375 45.921875 \r\nQ 44.09375 48.828125 44.09375 54.296875 \r\nQ 44.09375 59.90625 40.109375 62.90625 \r\nQ 36.140625 65.921875 28.71875 65.921875 \r\nQ 24.65625 65.921875 20.015625 65.03125 \r\nQ 15.375 64.15625 9.8125 62.3125 \r\nL 9.8125 71.09375 \r\nQ 15.4375 72.65625 20.34375 73.4375 \r\nQ 25.25 74.21875 29.59375 74.21875 \r\nQ 40.828125 74.21875 47.359375 69.109375 \r\nQ 53.90625 64.015625 53.90625 55.328125 \r\nQ 53.90625 49.265625 50.4375 45.09375 \r\nQ 46.96875 40.921875 40.578125 39.3125 \r\nz\r\n\" id=\"DejaVuSans-51\"/>\r\n      </defs>\r\n      <g transform=\"translate(244.83852 239.238437)scale(0.1 -0.1)\">\r\n       <use xlink:href=\"#DejaVuSans-51\"/>\r\n       <use x=\"63.623047\" xlink:href=\"#DejaVuSans-48\"/>\r\n       <use x=\"127.246094\" xlink:href=\"#DejaVuSans-48\"/>\r\n       <use x=\"190.869141\" xlink:href=\"#DejaVuSans-48\"/>\r\n      </g>\r\n     </g>\r\n    </g>\r\n    <g id=\"xtick_5\">\r\n     <g id=\"line2d_5\">\r\n      <g>\r\n       <use style=\"stroke:#000000;stroke-width:0.8;\" x=\"318.448424\" xlink:href=\"#mebdeb2a165\" y=\"224.64\"/>\r\n      </g>\r\n     </g>\r\n     <g id=\"text_5\">\r\n      <!-- 4000 -->\r\n      <defs>\r\n       <path d=\"M 37.796875 64.3125 \r\nL 12.890625 25.390625 \r\nL 37.796875 25.390625 \r\nz\r\nM 35.203125 72.90625 \r\nL 47.609375 72.90625 \r\nL 47.609375 25.390625 \r\nL 58.015625 25.390625 \r\nL 58.015625 17.1875 \r\nL 47.609375 17.1875 \r\nL 47.609375 0 \r\nL 37.796875 0 \r\nL 37.796875 17.1875 \r\nL 4.890625 17.1875 \r\nL 4.890625 26.703125 \r\nz\r\n\" id=\"DejaVuSans-52\"/>\r\n      </defs>\r\n      <g transform=\"translate(305.723424 239.238437)scale(0.1 -0.1)\">\r\n       <use xlink:href=\"#DejaVuSans-52\"/>\r\n       <use x=\"63.623047\" xlink:href=\"#DejaVuSans-48\"/>\r\n       <use x=\"127.246094\" xlink:href=\"#DejaVuSans-48\"/>\r\n       <use x=\"190.869141\" xlink:href=\"#DejaVuSans-48\"/>\r\n      </g>\r\n     </g>\r\n    </g>\r\n    <g id=\"xtick_6\">\r\n     <g id=\"line2d_6\">\r\n      <g>\r\n       <use style=\"stroke:#000000;stroke-width:0.8;\" x=\"379.333328\" xlink:href=\"#mebdeb2a165\" y=\"224.64\"/>\r\n      </g>\r\n     </g>\r\n     <g id=\"text_6\">\r\n      <!-- 5000 -->\r\n      <defs>\r\n       <path d=\"M 10.796875 72.90625 \r\nL 49.515625 72.90625 \r\nL 49.515625 64.59375 \r\nL 19.828125 64.59375 \r\nL 19.828125 46.734375 \r\nQ 21.96875 47.46875 24.109375 47.828125 \r\nQ 26.265625 48.1875 28.421875 48.1875 \r\nQ 40.625 48.1875 47.75 41.5 \r\nQ 54.890625 34.8125 54.890625 23.390625 \r\nQ 54.890625 11.625 47.5625 5.09375 \r\nQ 40.234375 -1.421875 26.90625 -1.421875 \r\nQ 22.3125 -1.421875 17.546875 -0.640625 \r\nQ 12.796875 0.140625 7.71875 1.703125 \r\nL 7.71875 11.625 \r\nQ 12.109375 9.234375 16.796875 8.0625 \r\nQ 21.484375 6.890625 26.703125 6.890625 \r\nQ 35.15625 6.890625 40.078125 11.328125 \r\nQ 45.015625 15.765625 45.015625 23.390625 \r\nQ 45.015625 31 40.078125 35.4375 \r\nQ 35.15625 39.890625 26.703125 39.890625 \r\nQ 22.75 39.890625 18.8125 39.015625 \r\nQ 14.890625 38.140625 10.796875 36.28125 \r\nz\r\n\" id=\"DejaVuSans-53\"/>\r\n      </defs>\r\n      <g transform=\"translate(366.608328 239.238437)scale(0.1 -0.1)\">\r\n       <use xlink:href=\"#DejaVuSans-53\"/>\r\n       <use x=\"63.623047\" xlink:href=\"#DejaVuSans-48\"/>\r\n       <use x=\"127.246094\" xlink:href=\"#DejaVuSans-48\"/>\r\n       <use x=\"190.869141\" xlink:href=\"#DejaVuSans-48\"/>\r\n      </g>\r\n     </g>\r\n    </g>\r\n    <g id=\"text_7\">\r\n     <!-- epoch -->\r\n     <defs>\r\n      <path d=\"M 56.203125 29.59375 \r\nL 56.203125 25.203125 \r\nL 14.890625 25.203125 \r\nQ 15.484375 15.921875 20.484375 11.0625 \r\nQ 25.484375 6.203125 34.421875 6.203125 \r\nQ 39.59375 6.203125 44.453125 7.46875 \r\nQ 49.3125 8.734375 54.109375 11.28125 \r\nL 54.109375 2.78125 \r\nQ 49.265625 0.734375 44.1875 -0.34375 \r\nQ 39.109375 -1.421875 33.890625 -1.421875 \r\nQ 20.796875 -1.421875 13.15625 6.1875 \r\nQ 5.515625 13.8125 5.515625 26.8125 \r\nQ 5.515625 40.234375 12.765625 48.109375 \r\nQ 20.015625 56 32.328125 56 \r\nQ 43.359375 56 49.78125 48.890625 \r\nQ 56.203125 41.796875 56.203125 29.59375 \r\nz\r\nM 47.21875 32.234375 \r\nQ 47.125 39.59375 43.09375 43.984375 \r\nQ 39.0625 48.390625 32.421875 48.390625 \r\nQ 24.90625 48.390625 20.390625 44.140625 \r\nQ 15.875 39.890625 15.1875 32.171875 \r\nz\r\n\" id=\"DejaVuSans-101\"/>\r\n      <path d=\"M 18.109375 8.203125 \r\nL 18.109375 -20.796875 \r\nL 9.078125 -20.796875 \r\nL 9.078125 54.6875 \r\nL 18.109375 54.6875 \r\nL 18.109375 46.390625 \r\nQ 20.953125 51.265625 25.265625 53.625 \r\nQ 29.59375 56 35.59375 56 \r\nQ 45.5625 56 51.78125 48.09375 \r\nQ 58.015625 40.1875 58.015625 27.296875 \r\nQ 58.015625 14.40625 51.78125 6.484375 \r\nQ 45.5625 -1.421875 35.59375 -1.421875 \r\nQ 29.59375 -1.421875 25.265625 0.953125 \r\nQ 20.953125 3.328125 18.109375 8.203125 \r\nz\r\nM 48.6875 27.296875 \r\nQ 48.6875 37.203125 44.609375 42.84375 \r\nQ 40.53125 48.484375 33.40625 48.484375 \r\nQ 26.265625 48.484375 22.1875 42.84375 \r\nQ 18.109375 37.203125 18.109375 27.296875 \r\nQ 18.109375 17.390625 22.1875 11.75 \r\nQ 26.265625 6.109375 33.40625 6.109375 \r\nQ 40.53125 6.109375 44.609375 11.75 \r\nQ 48.6875 17.390625 48.6875 27.296875 \r\nz\r\n\" id=\"DejaVuSans-112\"/>\r\n      <path d=\"M 30.609375 48.390625 \r\nQ 23.390625 48.390625 19.1875 42.75 \r\nQ 14.984375 37.109375 14.984375 27.296875 \r\nQ 14.984375 17.484375 19.15625 11.84375 \r\nQ 23.34375 6.203125 30.609375 6.203125 \r\nQ 37.796875 6.203125 41.984375 11.859375 \r\nQ 46.1875 17.53125 46.1875 27.296875 \r\nQ 46.1875 37.015625 41.984375 42.703125 \r\nQ 37.796875 48.390625 30.609375 48.390625 \r\nz\r\nM 30.609375 56 \r\nQ 42.328125 56 49.015625 48.375 \r\nQ 55.71875 40.765625 55.71875 27.296875 \r\nQ 55.71875 13.875 49.015625 6.21875 \r\nQ 42.328125 -1.421875 30.609375 -1.421875 \r\nQ 18.84375 -1.421875 12.171875 6.21875 \r\nQ 5.515625 13.875 5.515625 27.296875 \r\nQ 5.515625 40.765625 12.171875 48.375 \r\nQ 18.84375 56 30.609375 56 \r\nz\r\n\" id=\"DejaVuSans-111\"/>\r\n      <path d=\"M 48.78125 52.59375 \r\nL 48.78125 44.1875 \r\nQ 44.96875 46.296875 41.140625 47.34375 \r\nQ 37.3125 48.390625 33.40625 48.390625 \r\nQ 24.65625 48.390625 19.8125 42.84375 \r\nQ 14.984375 37.3125 14.984375 27.296875 \r\nQ 14.984375 17.28125 19.8125 11.734375 \r\nQ 24.65625 6.203125 33.40625 6.203125 \r\nQ 37.3125 6.203125 41.140625 7.25 \r\nQ 44.96875 8.296875 48.78125 10.40625 \r\nL 48.78125 2.09375 \r\nQ 45.015625 0.34375 40.984375 -0.53125 \r\nQ 36.96875 -1.421875 32.421875 -1.421875 \r\nQ 20.0625 -1.421875 12.78125 6.34375 \r\nQ 5.515625 14.109375 5.515625 27.296875 \r\nQ 5.515625 40.671875 12.859375 48.328125 \r\nQ 20.21875 56 33.015625 56 \r\nQ 37.15625 56 41.109375 55.140625 \r\nQ 45.0625 54.296875 48.78125 52.59375 \r\nz\r\n\" id=\"DejaVuSans-99\"/>\r\n      <path d=\"M 54.890625 33.015625 \r\nL 54.890625 0 \r\nL 45.90625 0 \r\nL 45.90625 32.71875 \r\nQ 45.90625 40.484375 42.875 44.328125 \r\nQ 39.84375 48.1875 33.796875 48.1875 \r\nQ 26.515625 48.1875 22.3125 43.546875 \r\nQ 18.109375 38.921875 18.109375 30.90625 \r\nL 18.109375 0 \r\nL 9.078125 0 \r\nL 9.078125 75.984375 \r\nL 18.109375 75.984375 \r\nL 18.109375 46.1875 \r\nQ 21.34375 51.125 25.703125 53.5625 \r\nQ 30.078125 56 35.796875 56 \r\nQ 45.21875 56 50.046875 50.171875 \r\nQ 54.890625 44.34375 54.890625 33.015625 \r\nz\r\n\" id=\"DejaVuSans-104\"/>\r\n     </defs>\r\n     <g transform=\"translate(211.8625 252.916562)scale(0.1 -0.1)\">\r\n      <use xlink:href=\"#DejaVuSans-101\"/>\r\n      <use x=\"61.523438\" xlink:href=\"#DejaVuSans-112\"/>\r\n      <use x=\"125\" xlink:href=\"#DejaVuSans-111\"/>\r\n      <use x=\"186.181641\" xlink:href=\"#DejaVuSans-99\"/>\r\n      <use x=\"241.162109\" xlink:href=\"#DejaVuSans-104\"/>\r\n     </g>\r\n    </g>\r\n   </g>\r\n   <g id=\"matplotlib.axis_2\">\r\n    <g id=\"ytick_1\">\r\n     <g id=\"line2d_7\">\r\n      <defs>\r\n       <path d=\"M 0 0 \r\nL -3.5 0 \r\n\" id=\"m352db83a71\" style=\"stroke:#000000;stroke-width:0.8;\"/>\r\n      </defs>\r\n      <g>\r\n       <use style=\"stroke:#000000;stroke-width:0.8;\" x=\"59.690625\" xlink:href=\"#m352db83a71\" y=\"214.937947\"/>\r\n      </g>\r\n     </g>\r\n     <g id=\"text_8\">\r\n      <!-- 0 -->\r\n      <g transform=\"translate(46.328125 218.737165)scale(0.1 -0.1)\">\r\n       <use xlink:href=\"#DejaVuSans-48\"/>\r\n      </g>\r\n     </g>\r\n    </g>\r\n    <g id=\"ytick_2\">\r\n     <g id=\"line2d_8\">\r\n      <g>\r\n       <use style=\"stroke:#000000;stroke-width:0.8;\" x=\"59.690625\" xlink:href=\"#m352db83a71\" y=\"179.776384\"/>\r\n      </g>\r\n     </g>\r\n     <g id=\"text_9\">\r\n      <!-- 2000 -->\r\n      <g transform=\"translate(27.240625 183.575602)scale(0.1 -0.1)\">\r\n       <use xlink:href=\"#DejaVuSans-50\"/>\r\n       <use x=\"63.623047\" xlink:href=\"#DejaVuSans-48\"/>\r\n       <use x=\"127.246094\" xlink:href=\"#DejaVuSans-48\"/>\r\n       <use x=\"190.869141\" xlink:href=\"#DejaVuSans-48\"/>\r\n      </g>\r\n     </g>\r\n    </g>\r\n    <g id=\"ytick_3\">\r\n     <g id=\"line2d_9\">\r\n      <g>\r\n       <use style=\"stroke:#000000;stroke-width:0.8;\" x=\"59.690625\" xlink:href=\"#m352db83a71\" y=\"144.614821\"/>\r\n      </g>\r\n     </g>\r\n     <g id=\"text_10\">\r\n      <!-- 4000 -->\r\n      <g transform=\"translate(27.240625 148.414039)scale(0.1 -0.1)\">\r\n       <use xlink:href=\"#DejaVuSans-52\"/>\r\n       <use x=\"63.623047\" xlink:href=\"#DejaVuSans-48\"/>\r\n       <use x=\"127.246094\" xlink:href=\"#DejaVuSans-48\"/>\r\n       <use x=\"190.869141\" xlink:href=\"#DejaVuSans-48\"/>\r\n      </g>\r\n     </g>\r\n    </g>\r\n    <g id=\"ytick_4\">\r\n     <g id=\"line2d_10\">\r\n      <g>\r\n       <use style=\"stroke:#000000;stroke-width:0.8;\" x=\"59.690625\" xlink:href=\"#m352db83a71\" y=\"109.453258\"/>\r\n      </g>\r\n     </g>\r\n     <g id=\"text_11\">\r\n      <!-- 6000 -->\r\n      <defs>\r\n       <path d=\"M 33.015625 40.375 \r\nQ 26.375 40.375 22.484375 35.828125 \r\nQ 18.609375 31.296875 18.609375 23.390625 \r\nQ 18.609375 15.53125 22.484375 10.953125 \r\nQ 26.375 6.390625 33.015625 6.390625 \r\nQ 39.65625 6.390625 43.53125 10.953125 \r\nQ 47.40625 15.53125 47.40625 23.390625 \r\nQ 47.40625 31.296875 43.53125 35.828125 \r\nQ 39.65625 40.375 33.015625 40.375 \r\nz\r\nM 52.59375 71.296875 \r\nL 52.59375 62.3125 \r\nQ 48.875 64.0625 45.09375 64.984375 \r\nQ 41.3125 65.921875 37.59375 65.921875 \r\nQ 27.828125 65.921875 22.671875 59.328125 \r\nQ 17.53125 52.734375 16.796875 39.40625 \r\nQ 19.671875 43.65625 24.015625 45.921875 \r\nQ 28.375 48.1875 33.59375 48.1875 \r\nQ 44.578125 48.1875 50.953125 41.515625 \r\nQ 57.328125 34.859375 57.328125 23.390625 \r\nQ 57.328125 12.15625 50.6875 5.359375 \r\nQ 44.046875 -1.421875 33.015625 -1.421875 \r\nQ 20.359375 -1.421875 13.671875 8.265625 \r\nQ 6.984375 17.96875 6.984375 36.375 \r\nQ 6.984375 53.65625 15.1875 63.9375 \r\nQ 23.390625 74.21875 37.203125 74.21875 \r\nQ 40.921875 74.21875 44.703125 73.484375 \r\nQ 48.484375 72.75 52.59375 71.296875 \r\nz\r\n\" id=\"DejaVuSans-54\"/>\r\n      </defs>\r\n      <g transform=\"translate(27.240625 113.252476)scale(0.1 -0.1)\">\r\n       <use xlink:href=\"#DejaVuSans-54\"/>\r\n       <use x=\"63.623047\" xlink:href=\"#DejaVuSans-48\"/>\r\n       <use x=\"127.246094\" xlink:href=\"#DejaVuSans-48\"/>\r\n       <use x=\"190.869141\" xlink:href=\"#DejaVuSans-48\"/>\r\n      </g>\r\n     </g>\r\n    </g>\r\n    <g id=\"ytick_5\">\r\n     <g id=\"line2d_11\">\r\n      <g>\r\n       <use style=\"stroke:#000000;stroke-width:0.8;\" x=\"59.690625\" xlink:href=\"#m352db83a71\" y=\"74.291695\"/>\r\n      </g>\r\n     </g>\r\n     <g id=\"text_12\">\r\n      <!-- 8000 -->\r\n      <defs>\r\n       <path d=\"M 31.78125 34.625 \r\nQ 24.75 34.625 20.71875 30.859375 \r\nQ 16.703125 27.09375 16.703125 20.515625 \r\nQ 16.703125 13.921875 20.71875 10.15625 \r\nQ 24.75 6.390625 31.78125 6.390625 \r\nQ 38.8125 6.390625 42.859375 10.171875 \r\nQ 46.921875 13.96875 46.921875 20.515625 \r\nQ 46.921875 27.09375 42.890625 30.859375 \r\nQ 38.875 34.625 31.78125 34.625 \r\nz\r\nM 21.921875 38.8125 \r\nQ 15.578125 40.375 12.03125 44.71875 \r\nQ 8.5 49.078125 8.5 55.328125 \r\nQ 8.5 64.0625 14.71875 69.140625 \r\nQ 20.953125 74.21875 31.78125 74.21875 \r\nQ 42.671875 74.21875 48.875 69.140625 \r\nQ 55.078125 64.0625 55.078125 55.328125 \r\nQ 55.078125 49.078125 51.53125 44.71875 \r\nQ 48 40.375 41.703125 38.8125 \r\nQ 48.828125 37.15625 52.796875 32.3125 \r\nQ 56.78125 27.484375 56.78125 20.515625 \r\nQ 56.78125 9.90625 50.3125 4.234375 \r\nQ 43.84375 -1.421875 31.78125 -1.421875 \r\nQ 19.734375 -1.421875 13.25 4.234375 \r\nQ 6.78125 9.90625 6.78125 20.515625 \r\nQ 6.78125 27.484375 10.78125 32.3125 \r\nQ 14.796875 37.15625 21.921875 38.8125 \r\nz\r\nM 18.3125 54.390625 \r\nQ 18.3125 48.734375 21.84375 45.5625 \r\nQ 25.390625 42.390625 31.78125 42.390625 \r\nQ 38.140625 42.390625 41.71875 45.5625 \r\nQ 45.3125 48.734375 45.3125 54.390625 \r\nQ 45.3125 60.0625 41.71875 63.234375 \r\nQ 38.140625 66.40625 31.78125 66.40625 \r\nQ 25.390625 66.40625 21.84375 63.234375 \r\nQ 18.3125 60.0625 18.3125 54.390625 \r\nz\r\n\" id=\"DejaVuSans-56\"/>\r\n      </defs>\r\n      <g transform=\"translate(27.240625 78.090914)scale(0.1 -0.1)\">\r\n       <use xlink:href=\"#DejaVuSans-56\"/>\r\n       <use x=\"63.623047\" xlink:href=\"#DejaVuSans-48\"/>\r\n       <use x=\"127.246094\" xlink:href=\"#DejaVuSans-48\"/>\r\n       <use x=\"190.869141\" xlink:href=\"#DejaVuSans-48\"/>\r\n      </g>\r\n     </g>\r\n    </g>\r\n    <g id=\"ytick_6\">\r\n     <g id=\"line2d_12\">\r\n      <g>\r\n       <use style=\"stroke:#000000;stroke-width:0.8;\" x=\"59.690625\" xlink:href=\"#m352db83a71\" y=\"39.130132\"/>\r\n      </g>\r\n     </g>\r\n     <g id=\"text_13\">\r\n      <!-- 10000 -->\r\n      <g transform=\"translate(20.878125 42.929351)scale(0.1 -0.1)\">\r\n       <use xlink:href=\"#DejaVuSans-49\"/>\r\n       <use x=\"63.623047\" xlink:href=\"#DejaVuSans-48\"/>\r\n       <use x=\"127.246094\" xlink:href=\"#DejaVuSans-48\"/>\r\n       <use x=\"190.869141\" xlink:href=\"#DejaVuSans-48\"/>\r\n       <use x=\"254.492188\" xlink:href=\"#DejaVuSans-48\"/>\r\n      </g>\r\n     </g>\r\n    </g>\r\n    <g id=\"text_14\">\r\n     <!-- loss -->\r\n     <defs>\r\n      <path d=\"M 9.421875 75.984375 \r\nL 18.40625 75.984375 \r\nL 18.40625 0 \r\nL 9.421875 0 \r\nz\r\n\" id=\"DejaVuSans-108\"/>\r\n      <path d=\"M 44.28125 53.078125 \r\nL 44.28125 44.578125 \r\nQ 40.484375 46.53125 36.375 47.5 \r\nQ 32.28125 48.484375 27.875 48.484375 \r\nQ 21.1875 48.484375 17.84375 46.4375 \r\nQ 14.5 44.390625 14.5 40.28125 \r\nQ 14.5 37.15625 16.890625 35.375 \r\nQ 19.28125 33.59375 26.515625 31.984375 \r\nL 29.59375 31.296875 \r\nQ 39.15625 29.25 43.1875 25.515625 \r\nQ 47.21875 21.78125 47.21875 15.09375 \r\nQ 47.21875 7.46875 41.1875 3.015625 \r\nQ 35.15625 -1.421875 24.609375 -1.421875 \r\nQ 20.21875 -1.421875 15.453125 -0.5625 \r\nQ 10.6875 0.296875 5.421875 2 \r\nL 5.421875 11.28125 \r\nQ 10.40625 8.6875 15.234375 7.390625 \r\nQ 20.0625 6.109375 24.8125 6.109375 \r\nQ 31.15625 6.109375 34.5625 8.28125 \r\nQ 37.984375 10.453125 37.984375 14.40625 \r\nQ 37.984375 18.0625 35.515625 20.015625 \r\nQ 33.0625 21.96875 24.703125 23.78125 \r\nL 21.578125 24.515625 \r\nQ 13.234375 26.265625 9.515625 29.90625 \r\nQ 5.8125 33.546875 5.8125 39.890625 \r\nQ 5.8125 47.609375 11.28125 51.796875 \r\nQ 16.75 56 26.8125 56 \r\nQ 31.78125 56 36.171875 55.265625 \r\nQ 40.578125 54.546875 44.28125 53.078125 \r\nz\r\n\" id=\"DejaVuSans-115\"/>\r\n     </defs>\r\n     <g transform=\"translate(14.798438 125.577812)rotate(-90)scale(0.1 -0.1)\">\r\n      <use xlink:href=\"#DejaVuSans-108\"/>\r\n      <use x=\"27.783203\" xlink:href=\"#DejaVuSans-111\"/>\r\n      <use x=\"88.964844\" xlink:href=\"#DejaVuSans-115\"/>\r\n      <use x=\"141.064453\" xlink:href=\"#DejaVuSans-115\"/>\r\n     </g>\r\n    </g>\r\n   </g>\r\n   <g id=\"line2d_13\">\r\n    <path clip-path=\"url(#p70a9b79915)\" d=\"M 74.908807 17.083636 \r\nL 76.06562 20.919791 \r\nL 76.735354 24.293977 \r\nL 77.405088 29.272988 \r\nL 78.013937 35.536492 \r\nL 78.622786 43.969488 \r\nL 79.353405 57.215506 \r\nL 80.266678 78.248175 \r\nL 81.484376 111.376838 \r\nL 83.493578 164.682543 \r\nL 84.285082 179.93075 \r\nL 85.015701 189.68303 \r\nL 85.685435 196.02279 \r\nL 86.416054 200.723407 \r\nL 87.207557 204.252881 \r\nL 88.120831 206.842191 \r\nL 88.790565 208.054641 \r\nL 89.460299 208.956394 \r\nL 90.434457 209.915501 \r\nL 91.469501 210.545297 \r\nL 93.113393 211.171586 \r\nL 94.879055 211.608322 \r\nL 101.63728 212.517676 \r\nL 108.821698 213.063069 \r\nL 118.258859 213.50252 \r\nL 126.478321 213.726239 \r\nL 135.915481 213.922317 \r\nL 146.387684 214.097075 \r\nL 155.337765 214.209694 \r\nL 186.997916 214.471458 \r\nL 196.98304 214.547395 \r\nL 219.632224 214.628755 \r\nL 299.452334 214.727846 \r\nL 313.273207 214.736529 \r\nL 379.272443 214.755647 \r\nL 379.272443 214.755647 \r\n\" style=\"fill:none;stroke:#bfbf00;stroke-linecap:square;stroke-width:1.5;\"/>\r\n   </g>\r\n   <g id=\"line2d_14\">\r\n    <path clip-path=\"url(#p70a9b79915)\" d=\"M 74.908807 20.161275 \r\nL 76.004735 23.06765 \r\nL 76.613584 25.498553 \r\nL 77.222433 28.836481 \r\nL 77.892167 33.905996 \r\nL 78.501016 40.306859 \r\nL 79.231635 50.585573 \r\nL 80.023139 65.0076 \r\nL 81.058182 88.460491 \r\nL 84.589507 173.020548 \r\nL 85.38101 184.317966 \r\nL 86.172514 192.235696 \r\nL 86.964018 197.445969 \r\nL 87.694637 200.755303 \r\nL 88.425256 202.946883 \r\nL 89.582069 205.154402 \r\nL 90.556227 206.419541 \r\nL 91.408616 207.182897 \r\nL 92.748084 207.950442 \r\nL 94.513746 208.618299 \r\nL 98.714804 209.67792 \r\nL 100.054272 209.907893 \r\nL 102.307014 210.270639 \r\nL 107.116921 211.005315 \r\nL 108.699929 211.177655 \r\nL 121.790183 212.52421 \r\nL 138.655302 213.396472 \r\nL 148.031577 213.54298 \r\nL 150.162548 213.58234 \r\nL 152.719714 213.602541 \r\nL 168.06271 213.700073 \r\nL 174.88182 213.691168 \r\nL 178.169604 213.686275 \r\nL 185.719333 213.740219 \r\nL 237.349731 213.985715 \r\nL 238.384775 213.970687 \r\nL 239.663358 213.962927 \r\nL 241.489905 213.964004 \r\nL 242.829373 213.968888 \r\nL 246.178042 213.94997 \r\nL 247.152201 213.955218 \r\nL 248.369899 213.954649 \r\nL 250.439986 213.95328 \r\nL 251.718569 213.954263 \r\nL 260.120686 213.966623 \r\nL 261.277499 213.9595 \r\nL 262.069002 213.949937 \r\nL 263.225816 213.962857 \r\nL 266.818025 213.943918 \r\nL 268.583687 213.945844 \r\nL 271.384393 213.944938 \r\nL 271.871472 213.957632 \r\nL 274.185098 213.944872 \r\nL 275.098372 213.933829 \r\nL 275.828991 213.942102 \r\nL 277.229344 213.946686 \r\nL 295.129506 213.94341 \r\nL 295.921009 213.958712 \r\nL 297.016938 213.96568 \r\nL 298.295521 213.946749 \r\nL 299.087024 213.956045 \r\nL 300.548262 213.966703 \r\nL 301.52242 213.970104 \r\nL 302.679234 213.9682 \r\nL 304.079586 213.9778 \r\nL 305.11463 213.968686 \r\nL 305.845249 213.994037 \r\nL 307.550026 213.977037 \r\nL 308.585069 213.989736 \r\nL 309.072149 213.993433 \r\nL 309.863652 213.992591 \r\nL 310.594271 213.991829 \r\nL 311.872854 213.99511 \r\nL 312.420818 213.995053 \r\nL 313.212322 213.997029 \r\nL 342.376191 214.067532 \r\nL 342.98504 214.079189 \r\nL 344.020084 214.077882 \r\nL 345.542206 214.080065 \r\nL 346.516365 214.057216 \r\nL 347.612293 214.080886 \r\nL 354.735827 214.096227 \r\nL 356.197064 214.097422 \r\nL 357.171223 214.086321 \r\nL 357.719187 214.077645 \r\nL 361.859361 214.103982 \r\nL 362.46821 214.098814 \r\nL 364.720951 214.087805 \r\nL 365.816879 214.094883 \r\nL 367.582542 214.086055 \r\nL 368.43493 214.097719 \r\nL 369.530859 214.086134 \r\nL 370.565902 214.093278 \r\nL 371.174751 214.085851 \r\nL 371.90537 214.096507 \r\nL 372.331564 214.102203 \r\nL 374.279881 214.089458 \r\nL 375.741119 214.085094 \r\nL 379.272443 214.100097 \r\nL 379.272443 214.100097 \r\n\" style=\"fill:none;stroke:#ff0000;stroke-linecap:square;stroke-width:1.5;\"/>\r\n   </g>\r\n   <g id=\"patch_3\">\r\n    <path d=\"M 59.690625 224.64 \r\nL 59.690625 7.2 \r\n\" style=\"fill:none;stroke:#000000;stroke-linecap:square;stroke-linejoin:miter;stroke-width:0.8;\"/>\r\n   </g>\r\n   <g id=\"patch_4\">\r\n    <path d=\"M 394.490625 224.64 \r\nL 394.490625 7.2 \r\n\" style=\"fill:none;stroke:#000000;stroke-linecap:square;stroke-linejoin:miter;stroke-width:0.8;\"/>\r\n   </g>\r\n   <g id=\"patch_5\">\r\n    <path d=\"M 59.690625 224.64 \r\nL 394.490625 224.64 \r\n\" style=\"fill:none;stroke:#000000;stroke-linecap:square;stroke-linejoin:miter;stroke-width:0.8;\"/>\r\n   </g>\r\n   <g id=\"patch_6\">\r\n    <path d=\"M 59.690625 7.2 \r\nL 394.490625 7.2 \r\n\" style=\"fill:none;stroke:#000000;stroke-linecap:square;stroke-linejoin:miter;stroke-width:0.8;\"/>\r\n   </g>\r\n   <g id=\"legend_1\">\r\n    <g id=\"patch_7\">\r\n     <path d=\"M 66.690625 44.55625 \r\nL 144.459375 44.55625 \r\nQ 146.459375 44.55625 146.459375 42.55625 \r\nL 146.459375 14.2 \r\nQ 146.459375 12.2 144.459375 12.2 \r\nL 66.690625 12.2 \r\nQ 64.690625 12.2 64.690625 14.2 \r\nL 64.690625 42.55625 \r\nQ 64.690625 44.55625 66.690625 44.55625 \r\nz\r\n\" style=\"fill:#ffffff;opacity:0.8;stroke:#cccccc;stroke-linejoin:miter;\"/>\r\n    </g>\r\n    <g id=\"line2d_15\">\r\n     <path d=\"M 68.690625 20.298437 \r\nL 88.690625 20.298437 \r\n\" style=\"fill:none;stroke:#bfbf00;stroke-linecap:square;stroke-width:1.5;\"/>\r\n    </g>\r\n    <g id=\"line2d_16\"/>\r\n    <g id=\"text_15\">\r\n     <!-- train loss -->\r\n     <defs>\r\n      <path d=\"M 18.3125 70.21875 \r\nL 18.3125 54.6875 \r\nL 36.8125 54.6875 \r\nL 36.8125 47.703125 \r\nL 18.3125 47.703125 \r\nL 18.3125 18.015625 \r\nQ 18.3125 11.328125 20.140625 9.421875 \r\nQ 21.96875 7.515625 27.59375 7.515625 \r\nL 36.8125 7.515625 \r\nL 36.8125 0 \r\nL 27.59375 0 \r\nQ 17.1875 0 13.234375 3.875 \r\nQ 9.28125 7.765625 9.28125 18.015625 \r\nL 9.28125 47.703125 \r\nL 2.6875 47.703125 \r\nL 2.6875 54.6875 \r\nL 9.28125 54.6875 \r\nL 9.28125 70.21875 \r\nz\r\n\" id=\"DejaVuSans-116\"/>\r\n      <path d=\"M 41.109375 46.296875 \r\nQ 39.59375 47.171875 37.8125 47.578125 \r\nQ 36.03125 48 33.890625 48 \r\nQ 26.265625 48 22.1875 43.046875 \r\nQ 18.109375 38.09375 18.109375 28.8125 \r\nL 18.109375 0 \r\nL 9.078125 0 \r\nL 9.078125 54.6875 \r\nL 18.109375 54.6875 \r\nL 18.109375 46.1875 \r\nQ 20.953125 51.171875 25.484375 53.578125 \r\nQ 30.03125 56 36.53125 56 \r\nQ 37.453125 56 38.578125 55.875 \r\nQ 39.703125 55.765625 41.0625 55.515625 \r\nz\r\n\" id=\"DejaVuSans-114\"/>\r\n      <path d=\"M 34.28125 27.484375 \r\nQ 23.390625 27.484375 19.1875 25 \r\nQ 14.984375 22.515625 14.984375 16.5 \r\nQ 14.984375 11.71875 18.140625 8.90625 \r\nQ 21.296875 6.109375 26.703125 6.109375 \r\nQ 34.1875 6.109375 38.703125 11.40625 \r\nQ 43.21875 16.703125 43.21875 25.484375 \r\nL 43.21875 27.484375 \r\nz\r\nM 52.203125 31.203125 \r\nL 52.203125 0 \r\nL 43.21875 0 \r\nL 43.21875 8.296875 \r\nQ 40.140625 3.328125 35.546875 0.953125 \r\nQ 30.953125 -1.421875 24.3125 -1.421875 \r\nQ 15.921875 -1.421875 10.953125 3.296875 \r\nQ 6 8.015625 6 15.921875 \r\nQ 6 25.140625 12.171875 29.828125 \r\nQ 18.359375 34.515625 30.609375 34.515625 \r\nL 43.21875 34.515625 \r\nL 43.21875 35.40625 \r\nQ 43.21875 41.609375 39.140625 45 \r\nQ 35.0625 48.390625 27.6875 48.390625 \r\nQ 23 48.390625 18.546875 47.265625 \r\nQ 14.109375 46.140625 10.015625 43.890625 \r\nL 10.015625 52.203125 \r\nQ 14.9375 54.109375 19.578125 55.046875 \r\nQ 24.21875 56 28.609375 56 \r\nQ 40.484375 56 46.34375 49.84375 \r\nQ 52.203125 43.703125 52.203125 31.203125 \r\nz\r\n\" id=\"DejaVuSans-97\"/>\r\n      <path d=\"M 9.421875 54.6875 \r\nL 18.40625 54.6875 \r\nL 18.40625 0 \r\nL 9.421875 0 \r\nz\r\nM 9.421875 75.984375 \r\nL 18.40625 75.984375 \r\nL 18.40625 64.59375 \r\nL 9.421875 64.59375 \r\nz\r\n\" id=\"DejaVuSans-105\"/>\r\n      <path d=\"M 54.890625 33.015625 \r\nL 54.890625 0 \r\nL 45.90625 0 \r\nL 45.90625 32.71875 \r\nQ 45.90625 40.484375 42.875 44.328125 \r\nQ 39.84375 48.1875 33.796875 48.1875 \r\nQ 26.515625 48.1875 22.3125 43.546875 \r\nQ 18.109375 38.921875 18.109375 30.90625 \r\nL 18.109375 0 \r\nL 9.078125 0 \r\nL 9.078125 54.6875 \r\nL 18.109375 54.6875 \r\nL 18.109375 46.1875 \r\nQ 21.34375 51.125 25.703125 53.5625 \r\nQ 30.078125 56 35.796875 56 \r\nQ 45.21875 56 50.046875 50.171875 \r\nQ 54.890625 44.34375 54.890625 33.015625 \r\nz\r\n\" id=\"DejaVuSans-110\"/>\r\n      <path id=\"DejaVuSans-32\"/>\r\n     </defs>\r\n     <g transform=\"translate(96.690625 23.798437)scale(0.1 -0.1)\">\r\n      <use xlink:href=\"#DejaVuSans-116\"/>\r\n      <use x=\"39.208984\" xlink:href=\"#DejaVuSans-114\"/>\r\n      <use x=\"80.322266\" xlink:href=\"#DejaVuSans-97\"/>\r\n      <use x=\"141.601562\" xlink:href=\"#DejaVuSans-105\"/>\r\n      <use x=\"169.384766\" xlink:href=\"#DejaVuSans-110\"/>\r\n      <use x=\"232.763672\" xlink:href=\"#DejaVuSans-32\"/>\r\n      <use x=\"264.550781\" xlink:href=\"#DejaVuSans-108\"/>\r\n      <use x=\"292.333984\" xlink:href=\"#DejaVuSans-111\"/>\r\n      <use x=\"353.515625\" xlink:href=\"#DejaVuSans-115\"/>\r\n      <use x=\"405.615234\" xlink:href=\"#DejaVuSans-115\"/>\r\n     </g>\r\n    </g>\r\n    <g id=\"line2d_17\">\r\n     <path d=\"M 68.690625 34.976562 \r\nL 88.690625 34.976562 \r\n\" style=\"fill:none;stroke:#ff0000;stroke-linecap:square;stroke-width:1.5;\"/>\r\n    </g>\r\n    <g id=\"line2d_18\"/>\r\n    <g id=\"text_16\">\r\n     <!-- val loss -->\r\n     <defs>\r\n      <path d=\"M 2.984375 54.6875 \r\nL 12.5 54.6875 \r\nL 29.59375 8.796875 \r\nL 46.6875 54.6875 \r\nL 56.203125 54.6875 \r\nL 35.6875 0 \r\nL 23.484375 0 \r\nz\r\n\" id=\"DejaVuSans-118\"/>\r\n     </defs>\r\n     <g transform=\"translate(96.690625 38.476562)scale(0.1 -0.1)\">\r\n      <use xlink:href=\"#DejaVuSans-118\"/>\r\n      <use x=\"59.179688\" xlink:href=\"#DejaVuSans-97\"/>\r\n      <use x=\"120.458984\" xlink:href=\"#DejaVuSans-108\"/>\r\n      <use x=\"148.242188\" xlink:href=\"#DejaVuSans-32\"/>\r\n      <use x=\"180.029297\" xlink:href=\"#DejaVuSans-108\"/>\r\n      <use x=\"207.8125\" xlink:href=\"#DejaVuSans-111\"/>\r\n      <use x=\"268.994141\" xlink:href=\"#DejaVuSans-115\"/>\r\n      <use x=\"321.09375\" xlink:href=\"#DejaVuSans-115\"/>\r\n     </g>\r\n    </g>\r\n   </g>\r\n  </g>\r\n </g>\r\n <defs>\r\n  <clipPath id=\"p70a9b79915\">\r\n   <rect height=\"217.44\" width=\"334.8\" x=\"59.690625\" y=\"7.2\"/>\r\n  </clipPath>\r\n </defs>\r\n</svg>\r\n",
      "image/png": "[encoded data removed]"
     },
     "metadata": {
      "needs_background": "light"
     }
    }
   ],
   "metadata": {}
  },
  {
   "cell_type": "code",
   "execution_count": 34,
   "source": [
    "# train_dataset.to_csv(r\"F:\\CON_2019_HMC_PGD-MINESET\\Zone5_mat590\\DROP_SIMUL_200\\train_dataset_intr_2.csv\")\n",
    "# test_dataset.to_csv(r\"F:\\CON_2019_HMC_PGD-MINESET\\Zone5_mat590\\DROP_SIMUL_200\\test_dataset_intr_2.csv\")\n",
    "\n",
    "pd.DataFrame(train_predictions).to_csv(dir+r\"\\train_pred_intr.csv\")\n",
    "pd.DataFrame(test__predictions).to_csv(dir+r\"\\test__pred_intr.csv\")"
   ],
   "outputs": [],
   "metadata": {}
  },
  {
   "cell_type": "code",
   "execution_count": 35,
   "source": [
    "plotter = tfdocs.plots.HistoryPlotter(smoothing_std=2)\n",
    "plotter.plot({'Basic': model_Intr_history}, metric = \"mse\")\n",
    "plt.ylim([-1, 1000])\n",
    "plt.ylabel('MSE_Intr')"
   ],
   "outputs": [
    {
     "output_type": "execute_result",
     "data": {
      "text/plain": [
       "Text(0, 0.5, 'MSE_Intr')"
      ]
     },
     "metadata": {},
     "execution_count": 35
    },
    {
     "output_type": "display_data",
     "data": {
      "text/plain": [
       "<Figure size 432x288 with 1 Axes>"
      ],
      "image/svg+xml": "<?xml version=\"1.0\" encoding=\"utf-8\" standalone=\"no\"?>\r\n<!DOCTYPE svg PUBLIC \"-//W3C//DTD SVG 1.1//EN\"\r\n  \"http://www.w3.org/Graphics/SVG/1.1/DTD/svg11.dtd\">\r\n<!-- Created with matplotlib (https://matplotlib.org/) -->\r\n<svg height=\"265.995469pt\" version=\"1.1\" viewBox=\"0 0 395.429687 265.995469\" width=\"395.429687pt\" xmlns=\"http://www.w3.org/2000/svg\" xmlns:xlink=\"http://www.w3.org/1999/xlink\">\r\n <defs>\r\n  <style type=\"text/css\">\r\n*{stroke-linecap:butt;stroke-linejoin:round;}\r\n  </style>\r\n </defs>\r\n <g id=\"figure_1\">\r\n  <g id=\"patch_1\">\r\n   <path d=\"M 0 265.995469 \r\nL 395.429687 265.995469 \r\nL 395.429687 0 \r\nL 0 0 \r\nz\r\n\" style=\"fill:none;\"/>\r\n  </g>\r\n  <g id=\"axes_1\">\r\n   <g id=\"patch_2\">\r\n    <path d=\"M 53.429688 228.439219 \r\nL 388.229688 228.439219 \r\nL 388.229688 10.999219 \r\nL 53.429688 10.999219 \r\nz\r\n\" style=\"fill:#ffffff;\"/>\r\n   </g>\r\n   <g id=\"matplotlib.axis_1\">\r\n    <g id=\"xtick_1\">\r\n     <g id=\"line2d_1\">\r\n      <path clip-path=\"url(#pfd9833e850)\" d=\"M 53.429688 228.439219 \r\nL 53.429688 10.999219 \r\n\" style=\"fill:none;stroke:#b0b0b0;stroke-linecap:square;stroke-width:0.8;\"/>\r\n     </g>\r\n     <g id=\"line2d_2\">\r\n      <defs>\r\n       <path d=\"M 0 0 \r\nL 0 3.5 \r\n\" id=\"m8fac01fb08\" style=\"stroke:#000000;stroke-width:0.8;\"/>\r\n      </defs>\r\n      <g>\r\n       <use style=\"stroke:#000000;stroke-width:0.8;\" x=\"53.429688\" xlink:href=\"#m8fac01fb08\" y=\"228.439219\"/>\r\n      </g>\r\n     </g>\r\n     <g id=\"text_1\">\r\n      <!-- 0 -->\r\n      <defs>\r\n       <path d=\"M 31.78125 66.40625 \r\nQ 24.171875 66.40625 20.328125 58.90625 \r\nQ 16.5 51.421875 16.5 36.375 \r\nQ 16.5 21.390625 20.328125 13.890625 \r\nQ 24.171875 6.390625 31.78125 6.390625 \r\nQ 39.453125 6.390625 43.28125 13.890625 \r\nQ 47.125 21.390625 47.125 36.375 \r\nQ 47.125 51.421875 43.28125 58.90625 \r\nQ 39.453125 66.40625 31.78125 66.40625 \r\nz\r\nM 31.78125 74.21875 \r\nQ 44.046875 74.21875 50.515625 64.515625 \r\nQ 56.984375 54.828125 56.984375 36.375 \r\nQ 56.984375 17.96875 50.515625 8.265625 \r\nQ 44.046875 -1.421875 31.78125 -1.421875 \r\nQ 19.53125 -1.421875 13.0625 8.265625 \r\nQ 6.59375 17.96875 6.59375 36.375 \r\nQ 6.59375 54.828125 13.0625 64.515625 \r\nQ 19.53125 74.21875 31.78125 74.21875 \r\nz\r\n\" id=\"DejaVuSans-48\"/>\r\n      </defs>\r\n      <g transform=\"translate(50.248438 243.037656)scale(0.1 -0.1)\">\r\n       <use xlink:href=\"#DejaVuSans-48\"/>\r\n      </g>\r\n     </g>\r\n    </g>\r\n    <g id=\"xtick_2\">\r\n     <g id=\"line2d_3\">\r\n      <path clip-path=\"url(#pfd9833e850)\" d=\"M 120.403082 228.439219 \r\nL 120.403082 10.999219 \r\n\" style=\"fill:none;stroke:#b0b0b0;stroke-linecap:square;stroke-width:0.8;\"/>\r\n     </g>\r\n     <g id=\"line2d_4\">\r\n      <g>\r\n       <use style=\"stroke:#000000;stroke-width:0.8;\" x=\"120.403082\" xlink:href=\"#m8fac01fb08\" y=\"228.439219\"/>\r\n      </g>\r\n     </g>\r\n     <g id=\"text_2\">\r\n      <!-- 1000 -->\r\n      <defs>\r\n       <path d=\"M 12.40625 8.296875 \r\nL 28.515625 8.296875 \r\nL 28.515625 63.921875 \r\nL 10.984375 60.40625 \r\nL 10.984375 69.390625 \r\nL 28.421875 72.90625 \r\nL 38.28125 72.90625 \r\nL 38.28125 8.296875 \r\nL 54.390625 8.296875 \r\nL 54.390625 0 \r\nL 12.40625 0 \r\nz\r\n\" id=\"DejaVuSans-49\"/>\r\n      </defs>\r\n      <g transform=\"translate(107.678082 243.037656)scale(0.1 -0.1)\">\r\n       <use xlink:href=\"#DejaVuSans-49\"/>\r\n       <use x=\"63.623047\" xlink:href=\"#DejaVuSans-48\"/>\r\n       <use x=\"127.246094\" xlink:href=\"#DejaVuSans-48\"/>\r\n       <use x=\"190.869141\" xlink:href=\"#DejaVuSans-48\"/>\r\n      </g>\r\n     </g>\r\n    </g>\r\n    <g id=\"xtick_3\">\r\n     <g id=\"line2d_5\">\r\n      <path clip-path=\"url(#pfd9833e850)\" d=\"M 187.376477 228.439219 \r\nL 187.376477 10.999219 \r\n\" style=\"fill:none;stroke:#b0b0b0;stroke-linecap:square;stroke-width:0.8;\"/>\r\n     </g>\r\n     <g id=\"line2d_6\">\r\n      <g>\r\n       <use style=\"stroke:#000000;stroke-width:0.8;\" x=\"187.376477\" xlink:href=\"#m8fac01fb08\" y=\"228.439219\"/>\r\n      </g>\r\n     </g>\r\n     <g id=\"text_3\">\r\n      <!-- 2000 -->\r\n      <defs>\r\n       <path d=\"M 19.1875 8.296875 \r\nL 53.609375 8.296875 \r\nL 53.609375 0 \r\nL 7.328125 0 \r\nL 7.328125 8.296875 \r\nQ 12.9375 14.109375 22.625 23.890625 \r\nQ 32.328125 33.6875 34.8125 36.53125 \r\nQ 39.546875 41.84375 41.421875 45.53125 \r\nQ 43.3125 49.21875 43.3125 52.78125 \r\nQ 43.3125 58.59375 39.234375 62.25 \r\nQ 35.15625 65.921875 28.609375 65.921875 \r\nQ 23.96875 65.921875 18.8125 64.3125 \r\nQ 13.671875 62.703125 7.8125 59.421875 \r\nL 7.8125 69.390625 \r\nQ 13.765625 71.78125 18.9375 73 \r\nQ 24.125 74.21875 28.421875 74.21875 \r\nQ 39.75 74.21875 46.484375 68.546875 \r\nQ 53.21875 62.890625 53.21875 53.421875 \r\nQ 53.21875 48.921875 51.53125 44.890625 \r\nQ 49.859375 40.875 45.40625 35.40625 \r\nQ 44.1875 33.984375 37.640625 27.21875 \r\nQ 31.109375 20.453125 19.1875 8.296875 \r\nz\r\n\" id=\"DejaVuSans-50\"/>\r\n      </defs>\r\n      <g transform=\"translate(174.651477 243.037656)scale(0.1 -0.1)\">\r\n       <use xlink:href=\"#DejaVuSans-50\"/>\r\n       <use x=\"63.623047\" xlink:href=\"#DejaVuSans-48\"/>\r\n       <use x=\"127.246094\" xlink:href=\"#DejaVuSans-48\"/>\r\n       <use x=\"190.869141\" xlink:href=\"#DejaVuSans-48\"/>\r\n      </g>\r\n     </g>\r\n    </g>\r\n    <g id=\"xtick_4\">\r\n     <g id=\"line2d_7\">\r\n      <path clip-path=\"url(#pfd9833e850)\" d=\"M 254.349872 228.439219 \r\nL 254.349872 10.999219 \r\n\" style=\"fill:none;stroke:#b0b0b0;stroke-linecap:square;stroke-width:0.8;\"/>\r\n     </g>\r\n     <g id=\"line2d_8\">\r\n      <g>\r\n       <use style=\"stroke:#000000;stroke-width:0.8;\" x=\"254.349872\" xlink:href=\"#m8fac01fb08\" y=\"228.439219\"/>\r\n      </g>\r\n     </g>\r\n     <g id=\"text_4\">\r\n      <!-- 3000 -->\r\n      <defs>\r\n       <path d=\"M 40.578125 39.3125 \r\nQ 47.65625 37.796875 51.625 33 \r\nQ 55.609375 28.21875 55.609375 21.1875 \r\nQ 55.609375 10.40625 48.1875 4.484375 \r\nQ 40.765625 -1.421875 27.09375 -1.421875 \r\nQ 22.515625 -1.421875 17.65625 -0.515625 \r\nQ 12.796875 0.390625 7.625 2.203125 \r\nL 7.625 11.71875 \r\nQ 11.71875 9.328125 16.59375 8.109375 \r\nQ 21.484375 6.890625 26.8125 6.890625 \r\nQ 36.078125 6.890625 40.9375 10.546875 \r\nQ 45.796875 14.203125 45.796875 21.1875 \r\nQ 45.796875 27.640625 41.28125 31.265625 \r\nQ 36.765625 34.90625 28.71875 34.90625 \r\nL 20.21875 34.90625 \r\nL 20.21875 43.015625 \r\nL 29.109375 43.015625 \r\nQ 36.375 43.015625 40.234375 45.921875 \r\nQ 44.09375 48.828125 44.09375 54.296875 \r\nQ 44.09375 59.90625 40.109375 62.90625 \r\nQ 36.140625 65.921875 28.71875 65.921875 \r\nQ 24.65625 65.921875 20.015625 65.03125 \r\nQ 15.375 64.15625 9.8125 62.3125 \r\nL 9.8125 71.09375 \r\nQ 15.4375 72.65625 20.34375 73.4375 \r\nQ 25.25 74.21875 29.59375 74.21875 \r\nQ 40.828125 74.21875 47.359375 69.109375 \r\nQ 53.90625 64.015625 53.90625 55.328125 \r\nQ 53.90625 49.265625 50.4375 45.09375 \r\nQ 46.96875 40.921875 40.578125 39.3125 \r\nz\r\n\" id=\"DejaVuSans-51\"/>\r\n      </defs>\r\n      <g transform=\"translate(241.624872 243.037656)scale(0.1 -0.1)\">\r\n       <use xlink:href=\"#DejaVuSans-51\"/>\r\n       <use x=\"63.623047\" xlink:href=\"#DejaVuSans-48\"/>\r\n       <use x=\"127.246094\" xlink:href=\"#DejaVuSans-48\"/>\r\n       <use x=\"190.869141\" xlink:href=\"#DejaVuSans-48\"/>\r\n      </g>\r\n     </g>\r\n    </g>\r\n    <g id=\"xtick_5\">\r\n     <g id=\"line2d_9\">\r\n      <path clip-path=\"url(#pfd9833e850)\" d=\"M 321.323266 228.439219 \r\nL 321.323266 10.999219 \r\n\" style=\"fill:none;stroke:#b0b0b0;stroke-linecap:square;stroke-width:0.8;\"/>\r\n     </g>\r\n     <g id=\"line2d_10\">\r\n      <g>\r\n       <use style=\"stroke:#000000;stroke-width:0.8;\" x=\"321.323266\" xlink:href=\"#m8fac01fb08\" y=\"228.439219\"/>\r\n      </g>\r\n     </g>\r\n     <g id=\"text_5\">\r\n      <!-- 4000 -->\r\n      <defs>\r\n       <path d=\"M 37.796875 64.3125 \r\nL 12.890625 25.390625 \r\nL 37.796875 25.390625 \r\nz\r\nM 35.203125 72.90625 \r\nL 47.609375 72.90625 \r\nL 47.609375 25.390625 \r\nL 58.015625 25.390625 \r\nL 58.015625 17.1875 \r\nL 47.609375 17.1875 \r\nL 47.609375 0 \r\nL 37.796875 0 \r\nL 37.796875 17.1875 \r\nL 4.890625 17.1875 \r\nL 4.890625 26.703125 \r\nz\r\n\" id=\"DejaVuSans-52\"/>\r\n      </defs>\r\n      <g transform=\"translate(308.598266 243.037656)scale(0.1 -0.1)\">\r\n       <use xlink:href=\"#DejaVuSans-52\"/>\r\n       <use x=\"63.623047\" xlink:href=\"#DejaVuSans-48\"/>\r\n       <use x=\"127.246094\" xlink:href=\"#DejaVuSans-48\"/>\r\n       <use x=\"190.869141\" xlink:href=\"#DejaVuSans-48\"/>\r\n      </g>\r\n     </g>\r\n    </g>\r\n    <g id=\"text_6\">\r\n     <!-- Epochs -->\r\n     <defs>\r\n      <path d=\"M 9.8125 72.90625 \r\nL 55.90625 72.90625 \r\nL 55.90625 64.59375 \r\nL 19.671875 64.59375 \r\nL 19.671875 43.015625 \r\nL 54.390625 43.015625 \r\nL 54.390625 34.71875 \r\nL 19.671875 34.71875 \r\nL 19.671875 8.296875 \r\nL 56.78125 8.296875 \r\nL 56.78125 0 \r\nL 9.8125 0 \r\nz\r\n\" id=\"DejaVuSans-69\"/>\r\n      <path d=\"M 18.109375 8.203125 \r\nL 18.109375 -20.796875 \r\nL 9.078125 -20.796875 \r\nL 9.078125 54.6875 \r\nL 18.109375 54.6875 \r\nL 18.109375 46.390625 \r\nQ 20.953125 51.265625 25.265625 53.625 \r\nQ 29.59375 56 35.59375 56 \r\nQ 45.5625 56 51.78125 48.09375 \r\nQ 58.015625 40.1875 58.015625 27.296875 \r\nQ 58.015625 14.40625 51.78125 6.484375 \r\nQ 45.5625 -1.421875 35.59375 -1.421875 \r\nQ 29.59375 -1.421875 25.265625 0.953125 \r\nQ 20.953125 3.328125 18.109375 8.203125 \r\nz\r\nM 48.6875 27.296875 \r\nQ 48.6875 37.203125 44.609375 42.84375 \r\nQ 40.53125 48.484375 33.40625 48.484375 \r\nQ 26.265625 48.484375 22.1875 42.84375 \r\nQ 18.109375 37.203125 18.109375 27.296875 \r\nQ 18.109375 17.390625 22.1875 11.75 \r\nQ 26.265625 6.109375 33.40625 6.109375 \r\nQ 40.53125 6.109375 44.609375 11.75 \r\nQ 48.6875 17.390625 48.6875 27.296875 \r\nz\r\n\" id=\"DejaVuSans-112\"/>\r\n      <path d=\"M 30.609375 48.390625 \r\nQ 23.390625 48.390625 19.1875 42.75 \r\nQ 14.984375 37.109375 14.984375 27.296875 \r\nQ 14.984375 17.484375 19.15625 11.84375 \r\nQ 23.34375 6.203125 30.609375 6.203125 \r\nQ 37.796875 6.203125 41.984375 11.859375 \r\nQ 46.1875 17.53125 46.1875 27.296875 \r\nQ 46.1875 37.015625 41.984375 42.703125 \r\nQ 37.796875 48.390625 30.609375 48.390625 \r\nz\r\nM 30.609375 56 \r\nQ 42.328125 56 49.015625 48.375 \r\nQ 55.71875 40.765625 55.71875 27.296875 \r\nQ 55.71875 13.875 49.015625 6.21875 \r\nQ 42.328125 -1.421875 30.609375 -1.421875 \r\nQ 18.84375 -1.421875 12.171875 6.21875 \r\nQ 5.515625 13.875 5.515625 27.296875 \r\nQ 5.515625 40.765625 12.171875 48.375 \r\nQ 18.84375 56 30.609375 56 \r\nz\r\n\" id=\"DejaVuSans-111\"/>\r\n      <path d=\"M 48.78125 52.59375 \r\nL 48.78125 44.1875 \r\nQ 44.96875 46.296875 41.140625 47.34375 \r\nQ 37.3125 48.390625 33.40625 48.390625 \r\nQ 24.65625 48.390625 19.8125 42.84375 \r\nQ 14.984375 37.3125 14.984375 27.296875 \r\nQ 14.984375 17.28125 19.8125 11.734375 \r\nQ 24.65625 6.203125 33.40625 6.203125 \r\nQ 37.3125 6.203125 41.140625 7.25 \r\nQ 44.96875 8.296875 48.78125 10.40625 \r\nL 48.78125 2.09375 \r\nQ 45.015625 0.34375 40.984375 -0.53125 \r\nQ 36.96875 -1.421875 32.421875 -1.421875 \r\nQ 20.0625 -1.421875 12.78125 6.34375 \r\nQ 5.515625 14.109375 5.515625 27.296875 \r\nQ 5.515625 40.671875 12.859375 48.328125 \r\nQ 20.21875 56 33.015625 56 \r\nQ 37.15625 56 41.109375 55.140625 \r\nQ 45.0625 54.296875 48.78125 52.59375 \r\nz\r\n\" id=\"DejaVuSans-99\"/>\r\n      <path d=\"M 54.890625 33.015625 \r\nL 54.890625 0 \r\nL 45.90625 0 \r\nL 45.90625 32.71875 \r\nQ 45.90625 40.484375 42.875 44.328125 \r\nQ 39.84375 48.1875 33.796875 48.1875 \r\nQ 26.515625 48.1875 22.3125 43.546875 \r\nQ 18.109375 38.921875 18.109375 30.90625 \r\nL 18.109375 0 \r\nL 9.078125 0 \r\nL 9.078125 75.984375 \r\nL 18.109375 75.984375 \r\nL 18.109375 46.1875 \r\nQ 21.34375 51.125 25.703125 53.5625 \r\nQ 30.078125 56 35.796875 56 \r\nQ 45.21875 56 50.046875 50.171875 \r\nQ 54.890625 44.34375 54.890625 33.015625 \r\nz\r\n\" id=\"DejaVuSans-104\"/>\r\n      <path d=\"M 44.28125 53.078125 \r\nL 44.28125 44.578125 \r\nQ 40.484375 46.53125 36.375 47.5 \r\nQ 32.28125 48.484375 27.875 48.484375 \r\nQ 21.1875 48.484375 17.84375 46.4375 \r\nQ 14.5 44.390625 14.5 40.28125 \r\nQ 14.5 37.15625 16.890625 35.375 \r\nQ 19.28125 33.59375 26.515625 31.984375 \r\nL 29.59375 31.296875 \r\nQ 39.15625 29.25 43.1875 25.515625 \r\nQ 47.21875 21.78125 47.21875 15.09375 \r\nQ 47.21875 7.46875 41.1875 3.015625 \r\nQ 35.15625 -1.421875 24.609375 -1.421875 \r\nQ 20.21875 -1.421875 15.453125 -0.5625 \r\nQ 10.6875 0.296875 5.421875 2 \r\nL 5.421875 11.28125 \r\nQ 10.40625 8.6875 15.234375 7.390625 \r\nQ 20.0625 6.109375 24.8125 6.109375 \r\nQ 31.15625 6.109375 34.5625 8.28125 \r\nQ 37.984375 10.453125 37.984375 14.40625 \r\nQ 37.984375 18.0625 35.515625 20.015625 \r\nQ 33.0625 21.96875 24.703125 23.78125 \r\nL 21.578125 24.515625 \r\nQ 13.234375 26.265625 9.515625 29.90625 \r\nQ 5.8125 33.546875 5.8125 39.890625 \r\nQ 5.8125 47.609375 11.28125 51.796875 \r\nQ 16.75 56 26.8125 56 \r\nQ 31.78125 56 36.171875 55.265625 \r\nQ 40.578125 54.546875 44.28125 53.078125 \r\nz\r\n\" id=\"DejaVuSans-115\"/>\r\n     </defs>\r\n     <g transform=\"translate(202.914062 256.715781)scale(0.1 -0.1)\">\r\n      <use xlink:href=\"#DejaVuSans-69\"/>\r\n      <use x=\"63.183594\" xlink:href=\"#DejaVuSans-112\"/>\r\n      <use x=\"126.660156\" xlink:href=\"#DejaVuSans-111\"/>\r\n      <use x=\"187.841797\" xlink:href=\"#DejaVuSans-99\"/>\r\n      <use x=\"242.822266\" xlink:href=\"#DejaVuSans-104\"/>\r\n      <use x=\"306.201172\" xlink:href=\"#DejaVuSans-115\"/>\r\n     </g>\r\n    </g>\r\n   </g>\r\n   <g id=\"matplotlib.axis_2\">\r\n    <g id=\"ytick_1\">\r\n     <g id=\"line2d_11\">\r\n      <path clip-path=\"url(#pfd9833e850)\" d=\"M 53.429688 228.221996 \r\nL 388.229688 228.221996 \r\n\" style=\"fill:none;stroke:#b0b0b0;stroke-linecap:square;stroke-width:0.8;\"/>\r\n     </g>\r\n     <g id=\"line2d_12\">\r\n      <defs>\r\n       <path d=\"M 0 0 \r\nL -3.5 0 \r\n\" id=\"m16f402fdfe\" style=\"stroke:#000000;stroke-width:0.8;\"/>\r\n      </defs>\r\n      <g>\r\n       <use style=\"stroke:#000000;stroke-width:0.8;\" x=\"53.429688\" xlink:href=\"#m16f402fdfe\" y=\"228.221996\"/>\r\n      </g>\r\n     </g>\r\n     <g id=\"text_7\">\r\n      <!-- 0 -->\r\n      <g transform=\"translate(40.067188 232.021215)scale(0.1 -0.1)\">\r\n       <use xlink:href=\"#DejaVuSans-48\"/>\r\n      </g>\r\n     </g>\r\n    </g>\r\n    <g id=\"ytick_2\">\r\n     <g id=\"line2d_13\">\r\n      <path clip-path=\"url(#pfd9833e850)\" d=\"M 53.429688 184.777441 \r\nL 388.229688 184.777441 \r\n\" style=\"fill:none;stroke:#b0b0b0;stroke-linecap:square;stroke-width:0.8;\"/>\r\n     </g>\r\n     <g id=\"line2d_14\">\r\n      <g>\r\n       <use style=\"stroke:#000000;stroke-width:0.8;\" x=\"53.429688\" xlink:href=\"#m16f402fdfe\" y=\"184.777441\"/>\r\n      </g>\r\n     </g>\r\n     <g id=\"text_8\">\r\n      <!-- 200 -->\r\n      <g transform=\"translate(27.342188 188.576659)scale(0.1 -0.1)\">\r\n       <use xlink:href=\"#DejaVuSans-50\"/>\r\n       <use x=\"63.623047\" xlink:href=\"#DejaVuSans-48\"/>\r\n       <use x=\"127.246094\" xlink:href=\"#DejaVuSans-48\"/>\r\n      </g>\r\n     </g>\r\n    </g>\r\n    <g id=\"ytick_3\">\r\n     <g id=\"line2d_15\">\r\n      <path clip-path=\"url(#pfd9833e850)\" d=\"M 53.429688 141.332885 \r\nL 388.229688 141.332885 \r\n\" style=\"fill:none;stroke:#b0b0b0;stroke-linecap:square;stroke-width:0.8;\"/>\r\n     </g>\r\n     <g id=\"line2d_16\">\r\n      <g>\r\n       <use style=\"stroke:#000000;stroke-width:0.8;\" x=\"53.429688\" xlink:href=\"#m16f402fdfe\" y=\"141.332885\"/>\r\n      </g>\r\n     </g>\r\n     <g id=\"text_9\">\r\n      <!-- 400 -->\r\n      <g transform=\"translate(27.342188 145.132104)scale(0.1 -0.1)\">\r\n       <use xlink:href=\"#DejaVuSans-52\"/>\r\n       <use x=\"63.623047\" xlink:href=\"#DejaVuSans-48\"/>\r\n       <use x=\"127.246094\" xlink:href=\"#DejaVuSans-48\"/>\r\n      </g>\r\n     </g>\r\n    </g>\r\n    <g id=\"ytick_4\">\r\n     <g id=\"line2d_17\">\r\n      <path clip-path=\"url(#pfd9833e850)\" d=\"M 53.429688 97.88833 \r\nL 388.229688 97.88833 \r\n\" style=\"fill:none;stroke:#b0b0b0;stroke-linecap:square;stroke-width:0.8;\"/>\r\n     </g>\r\n     <g id=\"line2d_18\">\r\n      <g>\r\n       <use style=\"stroke:#000000;stroke-width:0.8;\" x=\"53.429688\" xlink:href=\"#m16f402fdfe\" y=\"97.88833\"/>\r\n      </g>\r\n     </g>\r\n     <g id=\"text_10\">\r\n      <!-- 600 -->\r\n      <defs>\r\n       <path d=\"M 33.015625 40.375 \r\nQ 26.375 40.375 22.484375 35.828125 \r\nQ 18.609375 31.296875 18.609375 23.390625 \r\nQ 18.609375 15.53125 22.484375 10.953125 \r\nQ 26.375 6.390625 33.015625 6.390625 \r\nQ 39.65625 6.390625 43.53125 10.953125 \r\nQ 47.40625 15.53125 47.40625 23.390625 \r\nQ 47.40625 31.296875 43.53125 35.828125 \r\nQ 39.65625 40.375 33.015625 40.375 \r\nz\r\nM 52.59375 71.296875 \r\nL 52.59375 62.3125 \r\nQ 48.875 64.0625 45.09375 64.984375 \r\nQ 41.3125 65.921875 37.59375 65.921875 \r\nQ 27.828125 65.921875 22.671875 59.328125 \r\nQ 17.53125 52.734375 16.796875 39.40625 \r\nQ 19.671875 43.65625 24.015625 45.921875 \r\nQ 28.375 48.1875 33.59375 48.1875 \r\nQ 44.578125 48.1875 50.953125 41.515625 \r\nQ 57.328125 34.859375 57.328125 23.390625 \r\nQ 57.328125 12.15625 50.6875 5.359375 \r\nQ 44.046875 -1.421875 33.015625 -1.421875 \r\nQ 20.359375 -1.421875 13.671875 8.265625 \r\nQ 6.984375 17.96875 6.984375 36.375 \r\nQ 6.984375 53.65625 15.1875 63.9375 \r\nQ 23.390625 74.21875 37.203125 74.21875 \r\nQ 40.921875 74.21875 44.703125 73.484375 \r\nQ 48.484375 72.75 52.59375 71.296875 \r\nz\r\n\" id=\"DejaVuSans-54\"/>\r\n      </defs>\r\n      <g transform=\"translate(27.342188 101.687548)scale(0.1 -0.1)\">\r\n       <use xlink:href=\"#DejaVuSans-54\"/>\r\n       <use x=\"63.623047\" xlink:href=\"#DejaVuSans-48\"/>\r\n       <use x=\"127.246094\" xlink:href=\"#DejaVuSans-48\"/>\r\n      </g>\r\n     </g>\r\n    </g>\r\n    <g id=\"ytick_5\">\r\n     <g id=\"line2d_19\">\r\n      <path clip-path=\"url(#pfd9833e850)\" d=\"M 53.429688 54.443774 \r\nL 388.229688 54.443774 \r\n\" style=\"fill:none;stroke:#b0b0b0;stroke-linecap:square;stroke-width:0.8;\"/>\r\n     </g>\r\n     <g id=\"line2d_20\">\r\n      <g>\r\n       <use style=\"stroke:#000000;stroke-width:0.8;\" x=\"53.429688\" xlink:href=\"#m16f402fdfe\" y=\"54.443774\"/>\r\n      </g>\r\n     </g>\r\n     <g id=\"text_11\">\r\n      <!-- 800 -->\r\n      <defs>\r\n       <path d=\"M 31.78125 34.625 \r\nQ 24.75 34.625 20.71875 30.859375 \r\nQ 16.703125 27.09375 16.703125 20.515625 \r\nQ 16.703125 13.921875 20.71875 10.15625 \r\nQ 24.75 6.390625 31.78125 6.390625 \r\nQ 38.8125 6.390625 42.859375 10.171875 \r\nQ 46.921875 13.96875 46.921875 20.515625 \r\nQ 46.921875 27.09375 42.890625 30.859375 \r\nQ 38.875 34.625 31.78125 34.625 \r\nz\r\nM 21.921875 38.8125 \r\nQ 15.578125 40.375 12.03125 44.71875 \r\nQ 8.5 49.078125 8.5 55.328125 \r\nQ 8.5 64.0625 14.71875 69.140625 \r\nQ 20.953125 74.21875 31.78125 74.21875 \r\nQ 42.671875 74.21875 48.875 69.140625 \r\nQ 55.078125 64.0625 55.078125 55.328125 \r\nQ 55.078125 49.078125 51.53125 44.71875 \r\nQ 48 40.375 41.703125 38.8125 \r\nQ 48.828125 37.15625 52.796875 32.3125 \r\nQ 56.78125 27.484375 56.78125 20.515625 \r\nQ 56.78125 9.90625 50.3125 4.234375 \r\nQ 43.84375 -1.421875 31.78125 -1.421875 \r\nQ 19.734375 -1.421875 13.25 4.234375 \r\nQ 6.78125 9.90625 6.78125 20.515625 \r\nQ 6.78125 27.484375 10.78125 32.3125 \r\nQ 14.796875 37.15625 21.921875 38.8125 \r\nz\r\nM 18.3125 54.390625 \r\nQ 18.3125 48.734375 21.84375 45.5625 \r\nQ 25.390625 42.390625 31.78125 42.390625 \r\nQ 38.140625 42.390625 41.71875 45.5625 \r\nQ 45.3125 48.734375 45.3125 54.390625 \r\nQ 45.3125 60.0625 41.71875 63.234375 \r\nQ 38.140625 66.40625 31.78125 66.40625 \r\nQ 25.390625 66.40625 21.84375 63.234375 \r\nQ 18.3125 60.0625 18.3125 54.390625 \r\nz\r\n\" id=\"DejaVuSans-56\"/>\r\n      </defs>\r\n      <g transform=\"translate(27.342188 58.242993)scale(0.1 -0.1)\">\r\n       <use xlink:href=\"#DejaVuSans-56\"/>\r\n       <use x=\"63.623047\" xlink:href=\"#DejaVuSans-48\"/>\r\n       <use x=\"127.246094\" xlink:href=\"#DejaVuSans-48\"/>\r\n      </g>\r\n     </g>\r\n    </g>\r\n    <g id=\"ytick_6\">\r\n     <g id=\"line2d_21\">\r\n      <path clip-path=\"url(#pfd9833e850)\" d=\"M 53.429688 10.999219 \r\nL 388.229688 10.999219 \r\n\" style=\"fill:none;stroke:#b0b0b0;stroke-linecap:square;stroke-width:0.8;\"/>\r\n     </g>\r\n     <g id=\"line2d_22\">\r\n      <g>\r\n       <use style=\"stroke:#000000;stroke-width:0.8;\" x=\"53.429688\" xlink:href=\"#m16f402fdfe\" y=\"10.999219\"/>\r\n      </g>\r\n     </g>\r\n     <g id=\"text_12\">\r\n      <!-- 1000 -->\r\n      <g transform=\"translate(20.979688 14.798437)scale(0.1 -0.1)\">\r\n       <use xlink:href=\"#DejaVuSans-49\"/>\r\n       <use x=\"63.623047\" xlink:href=\"#DejaVuSans-48\"/>\r\n       <use x=\"127.246094\" xlink:href=\"#DejaVuSans-48\"/>\r\n       <use x=\"190.869141\" xlink:href=\"#DejaVuSans-48\"/>\r\n      </g>\r\n     </g>\r\n    </g>\r\n    <g id=\"text_13\">\r\n     <!-- MSE_Intr -->\r\n     <defs>\r\n      <path d=\"M 9.8125 72.90625 \r\nL 24.515625 72.90625 \r\nL 43.109375 23.296875 \r\nL 61.8125 72.90625 \r\nL 76.515625 72.90625 \r\nL 76.515625 0 \r\nL 66.890625 0 \r\nL 66.890625 64.015625 \r\nL 48.09375 14.015625 \r\nL 38.1875 14.015625 \r\nL 19.390625 64.015625 \r\nL 19.390625 0 \r\nL 9.8125 0 \r\nz\r\n\" id=\"DejaVuSans-77\"/>\r\n      <path d=\"M 53.515625 70.515625 \r\nL 53.515625 60.890625 \r\nQ 47.90625 63.578125 42.921875 64.890625 \r\nQ 37.9375 66.21875 33.296875 66.21875 \r\nQ 25.25 66.21875 20.875 63.09375 \r\nQ 16.5 59.96875 16.5 54.203125 \r\nQ 16.5 49.359375 19.40625 46.890625 \r\nQ 22.3125 44.4375 30.421875 42.921875 \r\nL 36.375 41.703125 \r\nQ 47.40625 39.59375 52.65625 34.296875 \r\nQ 57.90625 29 57.90625 20.125 \r\nQ 57.90625 9.515625 50.796875 4.046875 \r\nQ 43.703125 -1.421875 29.984375 -1.421875 \r\nQ 24.8125 -1.421875 18.96875 -0.25 \r\nQ 13.140625 0.921875 6.890625 3.21875 \r\nL 6.890625 13.375 \r\nQ 12.890625 10.015625 18.65625 8.296875 \r\nQ 24.421875 6.59375 29.984375 6.59375 \r\nQ 38.421875 6.59375 43.015625 9.90625 \r\nQ 47.609375 13.234375 47.609375 19.390625 \r\nQ 47.609375 24.75 44.3125 27.78125 \r\nQ 41.015625 30.8125 33.5 32.328125 \r\nL 27.484375 33.5 \r\nQ 16.453125 35.6875 11.515625 40.375 \r\nQ 6.59375 45.0625 6.59375 53.421875 \r\nQ 6.59375 63.09375 13.40625 68.65625 \r\nQ 20.21875 74.21875 32.171875 74.21875 \r\nQ 37.3125 74.21875 42.625 73.28125 \r\nQ 47.953125 72.359375 53.515625 70.515625 \r\nz\r\n\" id=\"DejaVuSans-83\"/>\r\n      <path d=\"M 50.984375 -16.609375 \r\nL 50.984375 -23.578125 \r\nL -0.984375 -23.578125 \r\nL -0.984375 -16.609375 \r\nz\r\n\" id=\"DejaVuSans-95\"/>\r\n      <path d=\"M 9.8125 72.90625 \r\nL 19.671875 72.90625 \r\nL 19.671875 0 \r\nL 9.8125 0 \r\nz\r\n\" id=\"DejaVuSans-73\"/>\r\n      <path d=\"M 54.890625 33.015625 \r\nL 54.890625 0 \r\nL 45.90625 0 \r\nL 45.90625 32.71875 \r\nQ 45.90625 40.484375 42.875 44.328125 \r\nQ 39.84375 48.1875 33.796875 48.1875 \r\nQ 26.515625 48.1875 22.3125 43.546875 \r\nQ 18.109375 38.921875 18.109375 30.90625 \r\nL 18.109375 0 \r\nL 9.078125 0 \r\nL 9.078125 54.6875 \r\nL 18.109375 54.6875 \r\nL 18.109375 46.1875 \r\nQ 21.34375 51.125 25.703125 53.5625 \r\nQ 30.078125 56 35.796875 56 \r\nQ 45.21875 56 50.046875 50.171875 \r\nQ 54.890625 44.34375 54.890625 33.015625 \r\nz\r\n\" id=\"DejaVuSans-110\"/>\r\n      <path d=\"M 18.3125 70.21875 \r\nL 18.3125 54.6875 \r\nL 36.8125 54.6875 \r\nL 36.8125 47.703125 \r\nL 18.3125 47.703125 \r\nL 18.3125 18.015625 \r\nQ 18.3125 11.328125 20.140625 9.421875 \r\nQ 21.96875 7.515625 27.59375 7.515625 \r\nL 36.8125 7.515625 \r\nL 36.8125 0 \r\nL 27.59375 0 \r\nQ 17.1875 0 13.234375 3.875 \r\nQ 9.28125 7.765625 9.28125 18.015625 \r\nL 9.28125 47.703125 \r\nL 2.6875 47.703125 \r\nL 2.6875 54.6875 \r\nL 9.28125 54.6875 \r\nL 9.28125 70.21875 \r\nz\r\n\" id=\"DejaVuSans-116\"/>\r\n      <path d=\"M 41.109375 46.296875 \r\nQ 39.59375 47.171875 37.8125 47.578125 \r\nQ 36.03125 48 33.890625 48 \r\nQ 26.265625 48 22.1875 43.046875 \r\nQ 18.109375 38.09375 18.109375 28.8125 \r\nL 18.109375 0 \r\nL 9.078125 0 \r\nL 9.078125 54.6875 \r\nL 18.109375 54.6875 \r\nL 18.109375 46.1875 \r\nQ 20.953125 51.171875 25.484375 53.578125 \r\nQ 30.03125 56 36.53125 56 \r\nQ 37.453125 56 38.578125 55.875 \r\nQ 39.703125 55.765625 41.0625 55.515625 \r\nz\r\n\" id=\"DejaVuSans-114\"/>\r\n     </defs>\r\n     <g transform=\"translate(14.621875 141.52625)rotate(-90)scale(0.1 -0.1)\">\r\n      <use xlink:href=\"#DejaVuSans-77\"/>\r\n      <use x=\"86.279297\" xlink:href=\"#DejaVuSans-83\"/>\r\n      <use x=\"149.755859\" xlink:href=\"#DejaVuSans-69\"/>\r\n      <use x=\"212.939453\" xlink:href=\"#DejaVuSans-95\"/>\r\n      <use x=\"262.939453\" xlink:href=\"#DejaVuSans-73\"/>\r\n      <use x=\"292.431641\" xlink:href=\"#DejaVuSans-110\"/>\r\n      <use x=\"355.810547\" xlink:href=\"#DejaVuSans-116\"/>\r\n      <use x=\"395.019531\" xlink:href=\"#DejaVuSans-114\"/>\r\n     </g>\r\n    </g>\r\n   </g>\r\n   <g id=\"line2d_23\">\r\n    <path clip-path=\"url(#pfd9833e850)\" d=\"M 65.347883 -1 \r\nL 65.953712 43.763739 \r\nL 66.69042 84.150672 \r\nL 67.427127 112.89947 \r\nL 68.163834 132.711915 \r\nL 68.900542 146.586677 \r\nL 69.704222 157.706196 \r\nL 70.507903 166.167383 \r\nL 71.24461 171.65929 \r\nL 72.115265 176.418127 \r\nL 73.119866 180.627107 \r\nL 74.19144 184.086178 \r\nL 75.463934 187.334899 \r\nL 76.870376 190.292334 \r\nL 78.34379 192.849733 \r\nL 80.018125 195.182844 \r\nL 81.826407 197.359344 \r\nL 84.237449 199.854331 \r\nL 86.246651 201.664686 \r\nL 88.925587 203.88478 \r\nL 92.207283 206.107474 \r\nL 95.622926 208.207125 \r\nL 98.301862 209.565444 \r\nL 100.712904 210.458155 \r\nL 107.611164 212.639141 \r\nL 113.772716 214.29977 \r\nL 118.527827 215.343535 \r\nL 131.654612 217.842866 \r\nL 137.749191 218.777817 \r\nL 146.053892 219.791121 \r\nL 166.614725 221.715203 \r\nL 195.346311 223.907737 \r\nL 229.100902 224.771358 \r\nL 285.89434 225.577706 \r\nL 308.196481 225.734402 \r\nL 337.195961 225.90705 \r\nL 357.087059 225.97697 \r\nL 388.229688 226.028433 \r\nL 388.229688 226.028433 \r\n\" style=\"fill:none;stroke:#1f77b4;stroke-linecap:square;stroke-width:1.5;\"/>\r\n   </g>\r\n   <g id=\"line2d_24\">\r\n    <path clip-path=\"url(#pfd9833e850)\" d=\"M 66.494231 -1 \r\nL 67.226207 40.707844 \r\nL 67.895941 67.6238 \r\nL 68.565675 86.63259 \r\nL 69.369355 103.86054 \r\nL 70.306983 118.94103 \r\nL 71.110664 128.049843 \r\nL 71.847371 134.399042 \r\nL 73.052892 141.968116 \r\nL 73.99052 146.672704 \r\nL 74.660254 149.221109 \r\nL 76.736429 155.379062 \r\nL 77.607083 157.724401 \r\nL 78.879577 161.494575 \r\nL 79.817205 163.768619 \r\nL 81.49154 166.886224 \r\nL 82.764034 168.974262 \r\nL 84.84021 173.108918 \r\nL 87.787039 177.809311 \r\nL 89.461374 180.833686 \r\nL 89.930188 181.310973 \r\nL 90.599922 181.902391 \r\nL 91.202682 182.913289 \r\nL 92.34123 184.784922 \r\nL 93.412804 185.753528 \r\nL 94.283458 186.987916 \r\nL 94.886219 187.785022 \r\nL 95.89082 189.156739 \r\nL 97.163314 190.6601 \r\nL 98.033968 191.867258 \r\nL 102.521186 196.257198 \r\nL 103.39184 196.96176 \r\nL 104.999201 198.501402 \r\nL 105.869856 199.032916 \r\nL 106.338669 199.35828 \r\nL 108.548791 201.331758 \r\nL 109.754312 202.028578 \r\nL 110.624967 202.939152 \r\nL 111.428647 203.466314 \r\nL 112.500222 204.275687 \r\nL 113.83969 205.199281 \r\nL 116.049812 206.080453 \r\nL 117.858093 207.147494 \r\nL 118.39388 207.380036 \r\nL 119.465455 207.912806 \r\nL 120.403082 208.127402 \r\nL 121.13979 208.388152 \r\nL 123.015045 209.094884 \r\nL 124.421486 209.464958 \r\nL 125.426087 209.700321 \r\nL 128.64081 210.49554 \r\nL 129.44449 210.56324 \r\nL 130.382118 210.746369 \r\nL 131.453692 210.895134 \r\nL 134.802362 211.226511 \r\nL 135.539069 211.433123 \r\nL 138.552872 211.753605 \r\nL 139.222606 211.878009 \r\nL 139.89234 211.936641 \r\nL 141.633648 212.091823 \r\nL 153.621886 213.064075 \r\nL 154.29162 213.07059 \r\nL 155.028327 213.116487 \r\nL 160.988959 213.018301 \r\nL 161.658693 212.972024 \r\nL 162.931188 212.938874 \r\nL 165.811044 212.827295 \r\nL 166.882618 212.885089 \r\nL 167.753272 212.826556 \r\nL 169.896421 212.845347 \r\nL 171.570756 213.049965 \r\nL 172.24049 213.176127 \r\nL 173.512984 213.256701 \r\nL 177.129547 213.762755 \r\nL 177.665335 213.816283 \r\nL 179.138749 214.074909 \r\nL 183.558993 214.881412 \r\nL 187.309503 215.247544 \r\nL 188.113184 215.293273 \r\nL 189.787519 215.451219 \r\nL 190.457253 215.452565 \r\nL 191.126987 215.579381 \r\nL 192.533428 215.592046 \r\nL 195.614204 215.774484 \r\nL 197.355513 215.873259 \r\nL 198.025247 215.939371 \r\nL 198.828927 216.005228 \r\nL 199.766555 216.035861 \r\nL 200.771156 216.15273 \r\nL 201.64181 216.209306 \r\nL 202.24457 216.140623 \r\nL 203.316145 216.256678 \r\nL 203.717985 216.265541 \r\nL 204.387719 216.39064 \r\nL 205.39232 216.406369 \r\nL 206.129027 216.392551 \r\nL 206.999681 216.526984 \r\nL 210.147431 216.656542 \r\nL 211.821766 216.531225 \r\nL 213.09426 216.534368 \r\nL 214.902542 216.508814 \r\nL 216.308983 216.570325 \r\nL 218.117265 216.573512 \r\nL 223.74303 216.473818 \r\nL 224.412764 216.464928 \r\nL 225.216445 216.518296 \r\nL 226.756833 216.496086 \r\nL 228.364194 216.551527 \r\nL 229.636689 216.538152 \r\nL 230.038529 216.599228 \r\nL 231.110104 216.503249 \r\nL 231.980758 216.492327 \r\nL 232.784438 216.379312 \r\nL 234.726667 216.280163 \r\nL 236.066135 216.238018 \r\nL 236.735869 216.256375 \r\nL 237.673496 216.340814 \r\nL 238.276257 216.294418 \r\nL 240.285459 216.147482 \r\nL 241.223086 216.148329 \r\nL 241.89282 216.131479 \r\nL 242.495581 216.165163 \r\nL 243.768075 216.075021 \r\nL 244.571756 216.037177 \r\nL 245.04057 216.069107 \r\nL 245.911224 216.175778 \r\nL 247.049772 216.097107 \r\nL 248.858053 216.148015 \r\nL 249.460814 216.178522 \r\nL 250.063574 216.170307 \r\nL 250.934228 216.146025 \r\nL 252.072776 216.23613 \r\nL 252.809483 216.176337 \r\nL 253.613164 216.215341 \r\nL 254.282898 216.185533 \r\nL 254.952632 216.202468 \r\nL 258.636169 216.238795 \r\nL 259.104983 216.191869 \r\nL 259.908663 216.099841 \r\nL 263.927067 216.151569 \r\nL 264.395881 216.095001 \r\nL 264.998641 216.033564 \r\nL 265.802322 216.035207 \r\nL 267.811524 216.104977 \r\nL 268.414284 216.14034 \r\nL 269.753752 216.021337 \r\nL 270.49046 216.052992 \r\nL 271.09322 216.062437 \r\nL 272.633608 215.988358 \r\nL 273.973076 215.980206 \r\nL 276.317145 215.983145 \r\nL 276.919906 215.910499 \r\nL 279.063054 215.936505 \r\nL 279.598841 215.878767 \r\nL 280.201602 215.935104 \r\nL 281.005283 215.955978 \r\nL 282.076857 215.727989 \r\nL 284.286979 215.870512 \r\nL 285.023686 215.752678 \r\nL 286.296181 215.805944 \r\nL 287.769595 215.864073 \r\nL 288.506303 215.866236 \r\nL 289.577877 215.957663 \r\nL 290.180638 215.973008 \r\nL 290.850372 215.996479 \r\nL 291.654052 215.960036 \r\nL 292.725627 215.967703 \r\nL 294.199041 216.00635 \r\nL 295.605483 215.998286 \r\nL 296.14127 216.011539 \r\nL 297.011924 216.123167 \r\nL 297.480738 216.1229 \r\nL 298.753232 216.202727 \r\nL 301.097301 216.185441 \r\nL 301.900982 216.305502 \r\nL 303.575317 216.315951 \r\nL 306.321226 216.400052 \r\nL 306.723066 216.404624 \r\nL 307.325827 216.511478 \r\nL 308.732268 216.473353 \r\nL 327.016005 217.099249 \r\nL 327.618765 217.100494 \r\nL 328.154552 217.161711 \r\nL 328.89126 217.134063 \r\nL 329.2931 217.101163 \r\nL 330.163754 217.243072 \r\nL 331.570196 217.231171 \r\nL 332.909663 217.188221 \r\nL 333.579397 217.259091 \r\nL 334.182158 217.278776 \r\nL 336.057413 217.329308 \r\nL 336.861094 217.343681 \r\nL 337.262934 217.249441 \r\nL 338.267535 217.403006 \r\nL 339.004242 217.408898 \r\nL 339.607003 217.42248 \r\nL 340.410684 217.470245 \r\nL 341.884098 217.482281 \r\nL 342.553832 217.59045 \r\nL 343.69238 217.616292 \r\nL 344.496061 217.559741 \r\nL 346.974076 217.63615 \r\nL 347.576837 217.576664 \r\nL 348.112624 217.571986 \r\nL 348.648411 217.589862 \r\nL 349.184198 217.606527 \r\nL 349.786959 217.648124 \r\nL 352.131028 217.596531 \r\nL 352.800762 217.650644 \r\nL 353.336549 217.634447 \r\nL 354.408123 217.670109 \r\nL 355.814564 217.691138 \r\nL 356.819165 217.788128 \r\nL 381.063534 217.741378 \r\nL 381.465375 217.754668 \r\nL 382.068135 217.791463 \r\nL 383.273656 217.776666 \r\nL 384.211284 217.815269 \r\nL 385.081938 217.832614 \r\nL 385.550752 217.870502 \r\nL 386.086539 217.818783 \r\nL 386.689299 217.805824 \r\nL 387.158113 217.7734 \r\nL 388.028767 217.904956 \r\nL 388.229688 217.915895 \r\nL 388.229688 217.915895 \r\n\" style=\"fill:none;stroke:#1f77b4;stroke-dasharray:5.55,2.4;stroke-dashoffset:0;stroke-width:1.5;\"/>\r\n   </g>\r\n   <g id=\"patch_3\">\r\n    <path d=\"M 53.429688 228.439219 \r\nL 53.429688 10.999219 \r\n\" style=\"fill:none;stroke:#000000;stroke-linecap:square;stroke-linejoin:miter;stroke-width:0.8;\"/>\r\n   </g>\r\n   <g id=\"patch_4\">\r\n    <path d=\"M 388.229688 228.439219 \r\nL 388.229688 10.999219 \r\n\" style=\"fill:none;stroke:#000000;stroke-linecap:square;stroke-linejoin:miter;stroke-width:0.8;\"/>\r\n   </g>\r\n   <g id=\"patch_5\">\r\n    <path d=\"M 53.429688 228.439219 \r\nL 388.229688 228.439219 \r\n\" style=\"fill:none;stroke:#000000;stroke-linecap:square;stroke-linejoin:miter;stroke-width:0.8;\"/>\r\n   </g>\r\n   <g id=\"patch_6\">\r\n    <path d=\"M 53.429688 10.999219 \r\nL 388.229688 10.999219 \r\n\" style=\"fill:none;stroke:#000000;stroke-linecap:square;stroke-linejoin:miter;stroke-width:0.8;\"/>\r\n   </g>\r\n   <g id=\"legend_1\">\r\n    <g id=\"patch_7\">\r\n     <path d=\"M 294.135938 48.355469 \r\nL 381.229688 48.355469 \r\nQ 383.229688 48.355469 383.229688 46.355469 \r\nL 383.229688 17.999219 \r\nQ 383.229688 15.999219 381.229688 15.999219 \r\nL 294.135938 15.999219 \r\nQ 292.135938 15.999219 292.135938 17.999219 \r\nL 292.135938 46.355469 \r\nQ 292.135938 48.355469 294.135938 48.355469 \r\nz\r\n\" style=\"fill:#ffffff;opacity:0.8;stroke:#cccccc;stroke-linejoin:miter;\"/>\r\n    </g>\r\n    <g id=\"line2d_25\">\r\n     <path d=\"M 296.135938 24.097656 \r\nL 316.135938 24.097656 \r\n\" style=\"fill:none;stroke:#1f77b4;stroke-linecap:square;stroke-width:1.5;\"/>\r\n    </g>\r\n    <g id=\"line2d_26\"/>\r\n    <g id=\"text_14\">\r\n     <!-- Basic Train -->\r\n     <defs>\r\n      <path d=\"M 19.671875 34.8125 \r\nL 19.671875 8.109375 \r\nL 35.5 8.109375 \r\nQ 43.453125 8.109375 47.28125 11.40625 \r\nQ 51.125 14.703125 51.125 21.484375 \r\nQ 51.125 28.328125 47.28125 31.5625 \r\nQ 43.453125 34.8125 35.5 34.8125 \r\nz\r\nM 19.671875 64.796875 \r\nL 19.671875 42.828125 \r\nL 34.28125 42.828125 \r\nQ 41.5 42.828125 45.03125 45.53125 \r\nQ 48.578125 48.25 48.578125 53.8125 \r\nQ 48.578125 59.328125 45.03125 62.0625 \r\nQ 41.5 64.796875 34.28125 64.796875 \r\nz\r\nM 9.8125 72.90625 \r\nL 35.015625 72.90625 \r\nQ 46.296875 72.90625 52.390625 68.21875 \r\nQ 58.5 63.53125 58.5 54.890625 \r\nQ 58.5 48.1875 55.375 44.234375 \r\nQ 52.25 40.28125 46.1875 39.3125 \r\nQ 53.46875 37.75 57.5 32.78125 \r\nQ 61.53125 27.828125 61.53125 20.40625 \r\nQ 61.53125 10.640625 54.890625 5.3125 \r\nQ 48.25 0 35.984375 0 \r\nL 9.8125 0 \r\nz\r\n\" id=\"DejaVuSans-66\"/>\r\n      <path d=\"M 34.28125 27.484375 \r\nQ 23.390625 27.484375 19.1875 25 \r\nQ 14.984375 22.515625 14.984375 16.5 \r\nQ 14.984375 11.71875 18.140625 8.90625 \r\nQ 21.296875 6.109375 26.703125 6.109375 \r\nQ 34.1875 6.109375 38.703125 11.40625 \r\nQ 43.21875 16.703125 43.21875 25.484375 \r\nL 43.21875 27.484375 \r\nz\r\nM 52.203125 31.203125 \r\nL 52.203125 0 \r\nL 43.21875 0 \r\nL 43.21875 8.296875 \r\nQ 40.140625 3.328125 35.546875 0.953125 \r\nQ 30.953125 -1.421875 24.3125 -1.421875 \r\nQ 15.921875 -1.421875 10.953125 3.296875 \r\nQ 6 8.015625 6 15.921875 \r\nQ 6 25.140625 12.171875 29.828125 \r\nQ 18.359375 34.515625 30.609375 34.515625 \r\nL 43.21875 34.515625 \r\nL 43.21875 35.40625 \r\nQ 43.21875 41.609375 39.140625 45 \r\nQ 35.0625 48.390625 27.6875 48.390625 \r\nQ 23 48.390625 18.546875 47.265625 \r\nQ 14.109375 46.140625 10.015625 43.890625 \r\nL 10.015625 52.203125 \r\nQ 14.9375 54.109375 19.578125 55.046875 \r\nQ 24.21875 56 28.609375 56 \r\nQ 40.484375 56 46.34375 49.84375 \r\nQ 52.203125 43.703125 52.203125 31.203125 \r\nz\r\n\" id=\"DejaVuSans-97\"/>\r\n      <path d=\"M 9.421875 54.6875 \r\nL 18.40625 54.6875 \r\nL 18.40625 0 \r\nL 9.421875 0 \r\nz\r\nM 9.421875 75.984375 \r\nL 18.40625 75.984375 \r\nL 18.40625 64.59375 \r\nL 9.421875 64.59375 \r\nz\r\n\" id=\"DejaVuSans-105\"/>\r\n      <path id=\"DejaVuSans-32\"/>\r\n      <path d=\"M -0.296875 72.90625 \r\nL 61.375 72.90625 \r\nL 61.375 64.59375 \r\nL 35.5 64.59375 \r\nL 35.5 0 \r\nL 25.59375 0 \r\nL 25.59375 64.59375 \r\nL -0.296875 64.59375 \r\nz\r\n\" id=\"DejaVuSans-84\"/>\r\n     </defs>\r\n     <g transform=\"translate(324.135938 27.597656)scale(0.1 -0.1)\">\r\n      <use xlink:href=\"#DejaVuSans-66\"/>\r\n      <use x=\"68.603516\" xlink:href=\"#DejaVuSans-97\"/>\r\n      <use x=\"129.882812\" xlink:href=\"#DejaVuSans-115\"/>\r\n      <use x=\"181.982422\" xlink:href=\"#DejaVuSans-105\"/>\r\n      <use x=\"209.765625\" xlink:href=\"#DejaVuSans-99\"/>\r\n      <use x=\"264.746094\" xlink:href=\"#DejaVuSans-32\"/>\r\n      <use x=\"296.533203\" xlink:href=\"#DejaVuSans-84\"/>\r\n      <use x=\"357.398438\" xlink:href=\"#DejaVuSans-114\"/>\r\n      <use x=\"398.511719\" xlink:href=\"#DejaVuSans-97\"/>\r\n      <use x=\"459.791016\" xlink:href=\"#DejaVuSans-105\"/>\r\n      <use x=\"487.574219\" xlink:href=\"#DejaVuSans-110\"/>\r\n     </g>\r\n    </g>\r\n    <g id=\"line2d_27\">\r\n     <path d=\"M 296.135938 38.775781 \r\nL 316.135938 38.775781 \r\n\" style=\"fill:none;stroke:#1f77b4;stroke-dasharray:5.55,2.4;stroke-dashoffset:0;stroke-width:1.5;\"/>\r\n    </g>\r\n    <g id=\"line2d_28\"/>\r\n    <g id=\"text_15\">\r\n     <!-- Basic Val -->\r\n     <defs>\r\n      <path d=\"M 28.609375 0 \r\nL 0.78125 72.90625 \r\nL 11.078125 72.90625 \r\nL 34.1875 11.53125 \r\nL 57.328125 72.90625 \r\nL 67.578125 72.90625 \r\nL 39.796875 0 \r\nz\r\n\" id=\"DejaVuSans-86\"/>\r\n      <path d=\"M 9.421875 75.984375 \r\nL 18.40625 75.984375 \r\nL 18.40625 0 \r\nL 9.421875 0 \r\nz\r\n\" id=\"DejaVuSans-108\"/>\r\n     </defs>\r\n     <g transform=\"translate(324.135938 42.275781)scale(0.1 -0.1)\">\r\n      <use xlink:href=\"#DejaVuSans-66\"/>\r\n      <use x=\"68.603516\" xlink:href=\"#DejaVuSans-97\"/>\r\n      <use x=\"129.882812\" xlink:href=\"#DejaVuSans-115\"/>\r\n      <use x=\"181.982422\" xlink:href=\"#DejaVuSans-105\"/>\r\n      <use x=\"209.765625\" xlink:href=\"#DejaVuSans-99\"/>\r\n      <use x=\"264.746094\" xlink:href=\"#DejaVuSans-32\"/>\r\n      <use x=\"296.533203\" xlink:href=\"#DejaVuSans-86\"/>\r\n      <use x=\"364.832031\" xlink:href=\"#DejaVuSans-97\"/>\r\n      <use x=\"426.111328\" xlink:href=\"#DejaVuSans-108\"/>\r\n     </g>\r\n    </g>\r\n   </g>\r\n  </g>\r\n </g>\r\n <defs>\r\n  <clipPath id=\"pfd9833e850\">\r\n   <rect height=\"217.44\" width=\"334.8\" x=\"53.429688\" y=\"10.999219\"/>\r\n  </clipPath>\r\n </defs>\r\n</svg>\r\n",
      "image/png": "[encoded data removed]"
     },
     "metadata": {
      "needs_background": "light"
     }
    }
   ],
   "metadata": {}
  },
  {
   "cell_type": "markdown",
   "source": [
    "## M/L for Intursion of region_2"
   ],
   "metadata": {}
  },
  {
   "cell_type": "code",
   "execution_count": 36,
   "source": [
    "# # create the model for intusion by region_2\n",
    "EPOCHS = 5000\n",
    "nPar = 8\n",
    "nOut = 1\n",
    "iunit = nPar * nOut\n",
    "ounit = nOut\n",
    "print(\"nPar: {}, nOut: {}, iunit: {}, ounit: {}\".format(nPar,nOut,iunit,ounit))\n",
    "model_Intr_2 = build_model(iunit, ounit, train_dataset_2, activation=None,loss='mse',metrics=['mse'])\n",
    "model_Intr_2, model_Intr_2_history, model_Intr_2_early_history = training(EPOCHS, model_Intr_2, normed_train_data_2, train_labels_Intr_2, verbose=0, monitor='mse', patience=5)\n",
    "\n",
    "model_Intr_2.save(dir+r'\\trainingdata_Intr_for_Zone_2.h5')"
   ],
   "outputs": [
    {
     "output_type": "stream",
     "name": "stdout",
     "text": [
      "nPar: 8, nOut: 1, iunit: 8, ounit: 1\n",
      "\n",
      "Epoch: 0, loss:10138.8419,  mse:10138.7578,  val_loss:9996.3027,  val_mse:9996.2188,  \n",
      "....................................................................................................\n",
      "Epoch: 100, loss:9663.5130,  mse:9663.4141,  val_loss:9601.2178,  val_mse:9601.1191,  \n",
      "....................................................................................................\n",
      "Epoch: 200, loss:7644.0374,  mse:7643.8491,  val_loss:7975.3706,  val_mse:7975.1812,  \n",
      "....................................................................................................\n",
      "Epoch: 300, loss:3758.5458,  mse:3758.2170,  val_loss:4820.3501,  val_mse:4820.0200,  \n",
      "....................................................................................................\n",
      "Epoch: 400, loss:1034.8479,  mse:1034.3997,  val_loss:2194.7817,  val_mse:2194.3325,  \n",
      "....................................................................................................\n",
      "Epoch: 500, loss:353.8966,  mse:353.4045,  val_loss:1034.2346,  val_mse:1033.7424,  \n",
      "....................................................................................................\n",
      "Epoch: 600, loss:235.9163,  mse:235.4302,  val_loss:726.1136,  val_mse:725.6276,  \n",
      "....................................................................................................\n",
      "Epoch: 700, loss:182.9002,  mse:182.4234,  val_loss:568.0304,  val_mse:567.5536,  \n",
      "....................................................................................................\n",
      "Epoch: 800, loss:152.2793,  mse:151.8139,  val_loss:502.5812,  val_mse:502.1158,  \n",
      "....................................................................................................\n",
      "Epoch: 900, loss:128.7758,  mse:128.3215,  val_loss:457.8137,  val_mse:457.3596,  \n",
      "....................................................................................................\n",
      "Epoch: 1000, loss:107.6442,  mse:107.1980,  val_loss:387.8618,  val_mse:387.4157,  \n",
      "....................................................................................................\n",
      "Epoch: 1100, loss:91.8573,  mse:91.4209,  val_loss:357.3453,  val_mse:356.9091,  \n",
      "....................................................................................................\n",
      "Epoch: 1200, loss:79.0030,  mse:78.5744,  val_loss:326.4299,  val_mse:326.0014,  \n",
      "....................................................................................................\n",
      "Epoch: 1300, loss:69.0014,  mse:68.5807,  val_loss:298.1122,  val_mse:297.6916,  \n",
      "....................................................................................................\n",
      "Epoch: 1400, loss:61.4299,  mse:61.0153,  val_loss:267.3384,  val_mse:266.9239,  \n",
      "....................................................................................................\n",
      "Epoch: 1500, loss:54.3324,  mse:53.9248,  val_loss:254.3437,  val_mse:253.9361,  \n",
      "....................................................................................................\n",
      "Epoch: 1600, loss:48.7813,  mse:48.3803,  val_loss:242.4510,  val_mse:242.0501,  \n",
      "....................................................................................................\n",
      "Epoch: 1700, loss:43.7947,  mse:43.3995,  val_loss:222.8986,  val_mse:222.5034,  \n",
      "....................................................................................................\n",
      "Epoch: 1800, loss:38.3251,  mse:37.9367,  val_loss:212.2903,  val_mse:211.9019,  \n",
      "....................................................................................................\n",
      "Epoch: 1900, loss:33.5949,  mse:33.2122,  val_loss:201.3243,  val_mse:200.9418,  \n",
      "....................................................................................................\n",
      "Epoch: 2000, loss:29.0120,  mse:28.6361,  val_loss:196.2385,  val_mse:195.8626,  \n",
      "....................................................................................................\n",
      "Epoch: 2100, loss:25.4691,  mse:25.0978,  val_loss:181.3979,  val_mse:181.0267,  \n",
      "....................................................................................................\n",
      "Epoch: 2200, loss:22.3677,  mse:22.0018,  val_loss:182.4196,  val_mse:182.0537,  \n",
      "....................................................................................................\n",
      "Epoch: 2300, loss:19.9937,  mse:19.6325,  val_loss:178.1746,  val_mse:177.8133,  \n",
      "....................................................................................................\n",
      "Epoch: 2400, loss:17.9530,  mse:17.5957,  val_loss:169.3977,  val_mse:169.0404,  \n",
      "....................................................................................................\n",
      "Epoch: 2500, loss:16.5062,  mse:16.1524,  val_loss:161.7233,  val_mse:161.3697,  \n",
      "....................................................................................................\n",
      "Epoch: 2600, loss:14.9094,  mse:14.5590,  val_loss:150.0211,  val_mse:149.6707,  \n",
      "....................................................................................................\n",
      "Epoch: 2700, loss:13.5995,  mse:13.2523,  val_loss:142.8883,  val_mse:142.5410,  \n",
      "....................................................................................................\n",
      "Epoch: 2800, loss:12.6802,  mse:12.3352,  val_loss:138.9041,  val_mse:138.5592,  \n",
      "....................................................................................................\n",
      "Epoch: 2900, loss:11.5700,  mse:11.2281,  val_loss:134.2460,  val_mse:133.9042,  \n",
      "....................................................................................................\n",
      "Epoch: 3000, loss:10.6495,  mse:10.3101,  val_loss:129.0035,  val_mse:128.6640,  \n",
      "....................................................................................................\n",
      "Epoch: 3100, loss:10.0176,  mse:9.6794,  val_loss:114.8917,  val_mse:114.5536,  \n",
      "....................................................................................................\n",
      "Epoch: 3200, loss:9.2583,  mse:8.9219,  val_loss:113.6450,  val_mse:113.3086,  \n",
      "....................................................................................................\n",
      "Epoch: 3300, loss:8.8550,  mse:8.5196,  val_loss:106.4460,  val_mse:106.1106,  \n",
      "....................................................................................................\n",
      "Epoch: 3400, loss:8.0128,  mse:7.6791,  val_loss:106.3061,  val_mse:105.9725,  \n",
      "....................................................................................................\n",
      "Epoch: 3500, loss:7.4905,  mse:7.1579,  val_loss:100.9979,  val_mse:100.6653,  \n",
      "....................................................................................................\n",
      "Epoch: 3600, loss:7.0599,  mse:6.7284,  val_loss:95.0453,  val_mse:94.7137,  \n",
      "....................................................................................................\n",
      "Epoch: 3700, loss:6.6315,  mse:6.3000,  val_loss:87.5352,  val_mse:87.2037,  \n",
      "....................................................................................................\n",
      "Epoch: 3800, loss:6.1614,  mse:5.8305,  val_loss:84.5748,  val_mse:84.2439,  \n",
      "....................................................................................................\n",
      "Epoch: 3900, loss:5.9184,  mse:5.5881,  val_loss:83.9386,  val_mse:83.6084,  \n",
      "....................................................................................................\n",
      "Epoch: 4000, loss:5.4841,  mse:5.1542,  val_loss:79.5477,  val_mse:79.2177,  \n",
      "....................................................................................................\n",
      "Epoch: 4100, loss:5.2403,  mse:4.9101,  val_loss:71.5939,  val_mse:71.2639,  \n",
      "....................................................................................................\n",
      "Epoch: 4200, loss:4.6283,  mse:4.2991,  val_loss:73.8115,  val_mse:73.4823,  \n",
      "....................................................................................................\n",
      "Epoch: 4300, loss:4.1357,  mse:3.8067,  val_loss:69.8967,  val_mse:69.5678,  \n",
      "....................."
     ]
    },
    {
     "output_type": "error",
     "ename": "KeyboardInterrupt",
     "evalue": "",
     "traceback": [
      "\u001b[1;31m---------------------------------------------------------------------------\u001b[0m",
      "\u001b[1;31mKeyboardInterrupt\u001b[0m                         Traceback (most recent call last)",
      "\u001b[1;32m<ipython-input-36-b5416d48fc0c>\u001b[0m in \u001b[0;36m<module>\u001b[1;34m\u001b[0m\n\u001b[0;32m      7\u001b[0m \u001b[0mprint\u001b[0m\u001b[1;33m(\u001b[0m\u001b[1;34m\"nPar: {}, nOut: {}, iunit: {}, ounit: {}\"\u001b[0m\u001b[1;33m.\u001b[0m\u001b[0mformat\u001b[0m\u001b[1;33m(\u001b[0m\u001b[0mnPar\u001b[0m\u001b[1;33m,\u001b[0m\u001b[0mnOut\u001b[0m\u001b[1;33m,\u001b[0m\u001b[0miunit\u001b[0m\u001b[1;33m,\u001b[0m\u001b[0mounit\u001b[0m\u001b[1;33m)\u001b[0m\u001b[1;33m)\u001b[0m\u001b[1;33m\u001b[0m\u001b[1;33m\u001b[0m\u001b[0m\n\u001b[0;32m      8\u001b[0m \u001b[0mmodel_Intr_2\u001b[0m \u001b[1;33m=\u001b[0m \u001b[0mbuild_model\u001b[0m\u001b[1;33m(\u001b[0m\u001b[0miunit\u001b[0m\u001b[1;33m,\u001b[0m \u001b[0mounit\u001b[0m\u001b[1;33m,\u001b[0m \u001b[0mtrain_dataset_2\u001b[0m\u001b[1;33m,\u001b[0m \u001b[0mactivation\u001b[0m\u001b[1;33m=\u001b[0m\u001b[1;32mNone\u001b[0m\u001b[1;33m,\u001b[0m\u001b[0mloss\u001b[0m\u001b[1;33m=\u001b[0m\u001b[1;34m'mse'\u001b[0m\u001b[1;33m,\u001b[0m\u001b[0mmetrics\u001b[0m\u001b[1;33m=\u001b[0m\u001b[1;33m[\u001b[0m\u001b[1;34m'mse'\u001b[0m\u001b[1;33m]\u001b[0m\u001b[1;33m)\u001b[0m\u001b[1;33m\u001b[0m\u001b[1;33m\u001b[0m\u001b[0m\n\u001b[1;32m----> 9\u001b[1;33m \u001b[0mmodel_Intr_2\u001b[0m\u001b[1;33m,\u001b[0m \u001b[0mmodel_Intr_2_history\u001b[0m\u001b[1;33m,\u001b[0m \u001b[0mmodel_Intr_2_early_history\u001b[0m \u001b[1;33m=\u001b[0m \u001b[0mtraining\u001b[0m\u001b[1;33m(\u001b[0m\u001b[0mEPOCHS\u001b[0m\u001b[1;33m,\u001b[0m \u001b[0mmodel_Intr_2\u001b[0m\u001b[1;33m,\u001b[0m \u001b[0mnormed_train_data_2\u001b[0m\u001b[1;33m,\u001b[0m \u001b[0mtrain_labels_Intr_2\u001b[0m\u001b[1;33m,\u001b[0m \u001b[0mverbose\u001b[0m\u001b[1;33m=\u001b[0m\u001b[1;36m0\u001b[0m\u001b[1;33m,\u001b[0m \u001b[0mmonitor\u001b[0m\u001b[1;33m=\u001b[0m\u001b[1;34m'mse'\u001b[0m\u001b[1;33m,\u001b[0m \u001b[0mpatience\u001b[0m\u001b[1;33m=\u001b[0m\u001b[1;36m5\u001b[0m\u001b[1;33m)\u001b[0m\u001b[1;33m\u001b[0m\u001b[1;33m\u001b[0m\u001b[0m\n\u001b[0m\u001b[0;32m     10\u001b[0m \u001b[1;33m\u001b[0m\u001b[0m\n\u001b[0;32m     11\u001b[0m \u001b[0mmodel_Intr_2\u001b[0m\u001b[1;33m.\u001b[0m\u001b[0msave\u001b[0m\u001b[1;33m(\u001b[0m\u001b[0mdir\u001b[0m\u001b[1;33m+\u001b[0m\u001b[1;34mr'\\trainingdata_Intr_for_Zone_2.h5'\u001b[0m\u001b[1;33m)\u001b[0m\u001b[1;33m\u001b[0m\u001b[1;33m\u001b[0m\u001b[0m\n",
      "\u001b[1;32m<ipython-input-9-3d5ce7e00300>\u001b[0m in \u001b[0;36mtraining\u001b[1;34m(EPOCHS, model, normed_train_data, train_labels, verbose, monitor, patience)\u001b[0m\n\u001b[0;32m     44\u001b[0m                           \u001b[0mnormed_train_data\u001b[0m\u001b[1;33m,\u001b[0m \u001b[0mtrain_labels\u001b[0m\u001b[1;33m,\u001b[0m\u001b[1;33m\u001b[0m\u001b[1;33m\u001b[0m\u001b[0m\n\u001b[0;32m     45\u001b[0m                           \u001b[0mepochs\u001b[0m\u001b[1;33m=\u001b[0m\u001b[0mEPOCHS\u001b[0m\u001b[1;33m,\u001b[0m \u001b[0mvalidation_split\u001b[0m \u001b[1;33m=\u001b[0m \u001b[1;36m0.2\u001b[0m\u001b[1;33m,\u001b[0m \u001b[0mverbose\u001b[0m\u001b[1;33m=\u001b[0m\u001b[0mverbose\u001b[0m\u001b[1;33m,\u001b[0m\u001b[1;33m\u001b[0m\u001b[1;33m\u001b[0m\u001b[0m\n\u001b[1;32m---> 46\u001b[1;33m                           \u001b[0mcallbacks\u001b[0m\u001b[1;33m=\u001b[0m\u001b[1;33m[\u001b[0m\u001b[0mtfdocs\u001b[0m\u001b[1;33m.\u001b[0m\u001b[0mmodeling\u001b[0m\u001b[1;33m.\u001b[0m\u001b[0mEpochDots\u001b[0m\u001b[1;33m(\u001b[0m\u001b[1;33m)\u001b[0m\u001b[1;33m]\u001b[0m\u001b[1;33m\u001b[0m\u001b[1;33m\u001b[0m\u001b[0m\n\u001b[0m\u001b[0;32m     47\u001b[0m                           \u001b[1;31m# callbacks=[keras.callbacks.TensorBoard(log_dir=dir+r'\\logs')]\u001b[0m\u001b[1;33m\u001b[0m\u001b[1;33m\u001b[0m\u001b[1;33m\u001b[0m\u001b[0m\n\u001b[0;32m     48\u001b[0m                           )\n",
      "\u001b[1;32m~\\.conda\\envs\\tf21\\lib\\site-packages\\tensorflow_core\\python\\keras\\engine\\training.py\u001b[0m in \u001b[0;36mfit\u001b[1;34m(self, x, y, batch_size, epochs, verbose, callbacks, validation_split, validation_data, shuffle, class_weight, sample_weight, initial_epoch, steps_per_epoch, validation_steps, validation_freq, max_queue_size, workers, use_multiprocessing, **kwargs)\u001b[0m\n\u001b[0;32m    817\u001b[0m         \u001b[0mmax_queue_size\u001b[0m\u001b[1;33m=\u001b[0m\u001b[0mmax_queue_size\u001b[0m\u001b[1;33m,\u001b[0m\u001b[1;33m\u001b[0m\u001b[1;33m\u001b[0m\u001b[0m\n\u001b[0;32m    818\u001b[0m         \u001b[0mworkers\u001b[0m\u001b[1;33m=\u001b[0m\u001b[0mworkers\u001b[0m\u001b[1;33m,\u001b[0m\u001b[1;33m\u001b[0m\u001b[1;33m\u001b[0m\u001b[0m\n\u001b[1;32m--> 819\u001b[1;33m         use_multiprocessing=use_multiprocessing)\n\u001b[0m\u001b[0;32m    820\u001b[0m \u001b[1;33m\u001b[0m\u001b[0m\n\u001b[0;32m    821\u001b[0m   def evaluate(self,\n",
      "\u001b[1;32m~\\.conda\\envs\\tf21\\lib\\site-packages\\tensorflow_core\\python\\keras\\engine\\training_v2.py\u001b[0m in \u001b[0;36mfit\u001b[1;34m(self, model, x, y, batch_size, epochs, verbose, callbacks, validation_split, validation_data, shuffle, class_weight, sample_weight, initial_epoch, steps_per_epoch, validation_steps, validation_freq, max_queue_size, workers, use_multiprocessing, **kwargs)\u001b[0m\n\u001b[0;32m    360\u001b[0m                 \u001b[0meval_data_iter\u001b[0m\u001b[1;33m.\u001b[0m\u001b[0m_initializer\u001b[0m  \u001b[1;31m# pylint: disable=pointless-statement\u001b[0m\u001b[1;33m\u001b[0m\u001b[1;33m\u001b[0m\u001b[0m\n\u001b[0;32m    361\u001b[0m               \u001b[1;32melse\u001b[0m\u001b[1;33m:\u001b[0m\u001b[1;33m\u001b[0m\u001b[1;33m\u001b[0m\u001b[0m\n\u001b[1;32m--> 362\u001b[1;33m                 \u001b[0meval_data_iter\u001b[0m \u001b[1;33m=\u001b[0m \u001b[0miter\u001b[0m\u001b[1;33m(\u001b[0m\u001b[0mvalidation_dataset\u001b[0m\u001b[1;33m)\u001b[0m\u001b[1;33m\u001b[0m\u001b[1;33m\u001b[0m\u001b[0m\n\u001b[0m\u001b[0;32m    363\u001b[0m \u001b[1;33m\u001b[0m\u001b[0m\n\u001b[0;32m    364\u001b[0m               validation_callbacks = cbks.configure_callbacks(\n",
      "\u001b[1;32m~\\.conda\\envs\\tf21\\lib\\site-packages\\tensorflow_core\\python\\data\\ops\\dataset_ops.py\u001b[0m in \u001b[0;36m__iter__\u001b[1;34m(self)\u001b[0m\n\u001b[0;32m    416\u001b[0m     if (context.executing_eagerly()\n\u001b[0;32m    417\u001b[0m         or ops.get_default_graph()._building_function):  # pylint: disable=protected-access\n\u001b[1;32m--> 418\u001b[1;33m       \u001b[1;32mreturn\u001b[0m \u001b[0miterator_ops\u001b[0m\u001b[1;33m.\u001b[0m\u001b[0mOwnedIterator\u001b[0m\u001b[1;33m(\u001b[0m\u001b[0mself\u001b[0m\u001b[1;33m)\u001b[0m\u001b[1;33m\u001b[0m\u001b[1;33m\u001b[0m\u001b[0m\n\u001b[0m\u001b[0;32m    419\u001b[0m     \u001b[1;32melse\u001b[0m\u001b[1;33m:\u001b[0m\u001b[1;33m\u001b[0m\u001b[1;33m\u001b[0m\u001b[0m\n\u001b[0;32m    420\u001b[0m       raise RuntimeError(\"__iter__() is only supported inside of tf.function \"\n",
      "\u001b[1;32m~\\.conda\\envs\\tf21\\lib\\site-packages\\tensorflow_core\\python\\data\\ops\\iterator_ops.py\u001b[0m in \u001b[0;36m__init__\u001b[1;34m(self, dataset, components, element_spec)\u001b[0m\n\u001b[0;32m    592\u001b[0m           context.context().device_spec.device_type != \"CPU\"):\n\u001b[0;32m    593\u001b[0m         \u001b[1;32mwith\u001b[0m \u001b[0mops\u001b[0m\u001b[1;33m.\u001b[0m\u001b[0mdevice\u001b[0m\u001b[1;33m(\u001b[0m\u001b[1;34m\"/cpu:0\"\u001b[0m\u001b[1;33m)\u001b[0m\u001b[1;33m:\u001b[0m\u001b[1;33m\u001b[0m\u001b[1;33m\u001b[0m\u001b[0m\n\u001b[1;32m--> 594\u001b[1;33m           \u001b[0mself\u001b[0m\u001b[1;33m.\u001b[0m\u001b[0m_create_iterator\u001b[0m\u001b[1;33m(\u001b[0m\u001b[0mdataset\u001b[0m\u001b[1;33m)\u001b[0m\u001b[1;33m\u001b[0m\u001b[1;33m\u001b[0m\u001b[0m\n\u001b[0m\u001b[0;32m    595\u001b[0m       \u001b[1;32melse\u001b[0m\u001b[1;33m:\u001b[0m\u001b[1;33m\u001b[0m\u001b[1;33m\u001b[0m\u001b[0m\n\u001b[0;32m    596\u001b[0m         \u001b[0mself\u001b[0m\u001b[1;33m.\u001b[0m\u001b[0m_create_iterator\u001b[0m\u001b[1;33m(\u001b[0m\u001b[0mdataset\u001b[0m\u001b[1;33m)\u001b[0m\u001b[1;33m\u001b[0m\u001b[1;33m\u001b[0m\u001b[0m\n",
      "\u001b[1;32m~\\.conda\\envs\\tf21\\lib\\site-packages\\tensorflow_core\\python\\data\\ops\\iterator_ops.py\u001b[0m in \u001b[0;36m_create_iterator\u001b[1;34m(self, dataset)\u001b[0m\n\u001b[0;32m    598\u001b[0m   \u001b[1;32mdef\u001b[0m \u001b[0m_create_iterator\u001b[0m\u001b[1;33m(\u001b[0m\u001b[0mself\u001b[0m\u001b[1;33m,\u001b[0m \u001b[0mdataset\u001b[0m\u001b[1;33m)\u001b[0m\u001b[1;33m:\u001b[0m\u001b[1;33m\u001b[0m\u001b[1;33m\u001b[0m\u001b[0m\n\u001b[0;32m    599\u001b[0m     \u001b[1;31m# pylint: disable=protected-access\u001b[0m\u001b[1;33m\u001b[0m\u001b[1;33m\u001b[0m\u001b[1;33m\u001b[0m\u001b[0m\n\u001b[1;32m--> 600\u001b[1;33m     \u001b[0mdataset\u001b[0m \u001b[1;33m=\u001b[0m \u001b[0mdataset\u001b[0m\u001b[1;33m.\u001b[0m\u001b[0m_apply_options\u001b[0m\u001b[1;33m(\u001b[0m\u001b[1;33m)\u001b[0m\u001b[1;33m\u001b[0m\u001b[1;33m\u001b[0m\u001b[0m\n\u001b[0m\u001b[0;32m    601\u001b[0m \u001b[1;33m\u001b[0m\u001b[0m\n\u001b[0;32m    602\u001b[0m     \u001b[1;31m# Store dataset reference to ensure that dataset is alive when this iterator\u001b[0m\u001b[1;33m\u001b[0m\u001b[1;33m\u001b[0m\u001b[1;33m\u001b[0m\u001b[0m\n",
      "\u001b[1;32m~\\.conda\\envs\\tf21\\lib\\site-packages\\tensorflow_core\\python\\data\\ops\\dataset_ops.py\u001b[0m in \u001b[0;36m_apply_options\u001b[1;34m(self)\u001b[0m\n\u001b[0;32m    393\u001b[0m \u001b[1;33m\u001b[0m\u001b[0m\n\u001b[0;32m    394\u001b[0m     \u001b[1;32mif\u001b[0m \u001b[0mautotune\u001b[0m\u001b[1;33m:\u001b[0m\u001b[1;33m\u001b[0m\u001b[1;33m\u001b[0m\u001b[0m\n\u001b[1;32m--> 395\u001b[1;33m       \u001b[0mdataset\u001b[0m \u001b[1;33m=\u001b[0m \u001b[0m_ModelDataset\u001b[0m\u001b[1;33m(\u001b[0m\u001b[0mdataset\u001b[0m\u001b[1;33m,\u001b[0m \u001b[0malgorithm\u001b[0m\u001b[1;33m,\u001b[0m \u001b[0mcpu_budget\u001b[0m\u001b[1;33m)\u001b[0m\u001b[1;33m\u001b[0m\u001b[1;33m\u001b[0m\u001b[0m\n\u001b[0m\u001b[0;32m    396\u001b[0m \u001b[1;33m\u001b[0m\u001b[0m\n\u001b[0;32m    397\u001b[0m     \u001b[1;32mif\u001b[0m \u001b[0moptions\u001b[0m\u001b[1;33m.\u001b[0m\u001b[0mexperimental_stats\u001b[0m \u001b[1;32mand\u001b[0m \u001b[0moptions\u001b[0m\u001b[1;33m.\u001b[0m\u001b[0mexperimental_stats\u001b[0m\u001b[1;33m.\u001b[0m\u001b[0maggregator\u001b[0m\u001b[1;33m:\u001b[0m  \u001b[1;31m# pylint: disable=line-too-long\u001b[0m\u001b[1;33m\u001b[0m\u001b[1;33m\u001b[0m\u001b[0m\n",
      "\u001b[1;32m~\\.conda\\envs\\tf21\\lib\\site-packages\\tensorflow_core\\python\\data\\ops\\dataset_ops.py\u001b[0m in \u001b[0;36m__init__\u001b[1;34m(self, input_dataset, algorithm, cpu_budget)\u001b[0m\n\u001b[0;32m   4192\u001b[0m           \u001b[0minput_dataset\u001b[0m\u001b[1;33m.\u001b[0m\u001b[0m_variant_tensor\u001b[0m\u001b[1;33m,\u001b[0m  \u001b[1;31m# pylint: disable=protected-access\u001b[0m\u001b[1;33m\u001b[0m\u001b[1;33m\u001b[0m\u001b[0m\n\u001b[0;32m   4193\u001b[0m           \u001b[0mcpu_budget\u001b[0m\u001b[1;33m=\u001b[0m\u001b[0mcpu_budget\u001b[0m\u001b[1;33m,\u001b[0m\u001b[1;33m\u001b[0m\u001b[1;33m\u001b[0m\u001b[0m\n\u001b[1;32m-> 4194\u001b[1;33m           **self._flat_structure)\n\u001b[0m\u001b[0;32m   4195\u001b[0m     \u001b[0msuper\u001b[0m\u001b[1;33m(\u001b[0m\u001b[0m_ModelDataset\u001b[0m\u001b[1;33m,\u001b[0m \u001b[0mself\u001b[0m\u001b[1;33m)\u001b[0m\u001b[1;33m.\u001b[0m\u001b[0m__init__\u001b[0m\u001b[1;33m(\u001b[0m\u001b[0minput_dataset\u001b[0m\u001b[1;33m,\u001b[0m \u001b[0mvariant_tensor\u001b[0m\u001b[1;33m)\u001b[0m\u001b[1;33m\u001b[0m\u001b[1;33m\u001b[0m\u001b[0m\n\u001b[0;32m   4196\u001b[0m \u001b[1;33m\u001b[0m\u001b[0m\n",
      "\u001b[1;32m~\\.conda\\envs\\tf21\\lib\\site-packages\\tensorflow_core\\python\\ops\\gen_dataset_ops.py\u001b[0m in \u001b[0;36mmodel_dataset\u001b[1;34m(input_dataset, output_types, output_shapes, algorithm, cpu_budget, name)\u001b[0m\n\u001b[0;32m   2974\u001b[0m         \u001b[0mtld\u001b[0m\u001b[1;33m.\u001b[0m\u001b[0mop_callbacks\u001b[0m\u001b[1;33m,\u001b[0m \u001b[0minput_dataset\u001b[0m\u001b[1;33m,\u001b[0m \u001b[1;34m\"algorithm\"\u001b[0m\u001b[1;33m,\u001b[0m \u001b[0malgorithm\u001b[0m\u001b[1;33m,\u001b[0m \u001b[1;34m\"cpu_budget\"\u001b[0m\u001b[1;33m,\u001b[0m\u001b[1;33m\u001b[0m\u001b[1;33m\u001b[0m\u001b[0m\n\u001b[0;32m   2975\u001b[0m         \u001b[0mcpu_budget\u001b[0m\u001b[1;33m,\u001b[0m \u001b[1;34m\"output_types\"\u001b[0m\u001b[1;33m,\u001b[0m \u001b[0moutput_types\u001b[0m\u001b[1;33m,\u001b[0m \u001b[1;34m\"output_shapes\"\u001b[0m\u001b[1;33m,\u001b[0m\u001b[1;33m\u001b[0m\u001b[1;33m\u001b[0m\u001b[0m\n\u001b[1;32m-> 2976\u001b[1;33m         output_shapes)\n\u001b[0m\u001b[0;32m   2977\u001b[0m       \u001b[1;32mreturn\u001b[0m \u001b[0m_result\u001b[0m\u001b[1;33m\u001b[0m\u001b[1;33m\u001b[0m\u001b[0m\n\u001b[0;32m   2978\u001b[0m     \u001b[1;32mexcept\u001b[0m \u001b[0m_core\u001b[0m\u001b[1;33m.\u001b[0m\u001b[0m_FallbackException\u001b[0m\u001b[1;33m:\u001b[0m\u001b[1;33m\u001b[0m\u001b[1;33m\u001b[0m\u001b[0m\n",
      "\u001b[1;31mKeyboardInterrupt\u001b[0m: "
     ]
    }
   ],
   "metadata": {
    "tags": []
   }
  },
  {
   "cell_type": "code",
   "execution_count": null,
   "source": [
    "test_mae_score_Intr_2, test_mae_score1_Intr_2 = model_Intr_2.evaluate(  normed_test__data_2, test__labels_Intr_2  )\n",
    "print(test_mae_score_Intr_2, test_mae_score1_Intr_2)"
   ],
   "outputs": [],
   "metadata": {
    "tags": []
   }
  },
  {
   "cell_type": "code",
   "execution_count": null,
   "source": [
    "train_predictions = model_Intr_2.predict(normed_train_data_2).flatten()\n",
    "test__predictions = model_Intr_2.predict(normed_test__data_2).flatten()\n",
    "\n",
    "plt.scatter(train_labels_Intr_2, train_predictions)\n",
    "plt.scatter(test__labels_Intr_2, test__predictions)\n",
    "\n",
    "plt.xlabel('True Values [Intr_2]')\n",
    "plt.ylabel('Predictions [Intr_2]')\n",
    "plt.axis('equal')\n",
    "plt.axis('square')\n",
    "plt.xlim([90,plt.xlim()[1]])\n",
    "plt.ylim([90,plt.ylim()[1]])\n",
    "_ = plt.plot([90, 150], [90, 150])"
   ],
   "outputs": [],
   "metadata": {}
  },
  {
   "cell_type": "code",
   "execution_count": null,
   "source": [
    "error = test__predictions - test__labels_Intr_2\n",
    "\n",
    "plt.hist(error, bins = 25)\n",
    "plt.xlabel(\"Prediction Error [Intrusion_region2]\")\n",
    "_ = plt.ylabel(\"Count\")"
   ],
   "outputs": [],
   "metadata": {}
  },
  {
   "cell_type": "code",
   "execution_count": null,
   "source": [
    "train_dataset_2.to_csv(dir+r\"\\train_dataset_intr_2.csv\")\n",
    "test__dataset_2.to_csv(dir+r\"\\test__dataset_intr_2.csv\")\n",
    "\n",
    "pd.DataFrame(train_predictions).to_csv(dir+r\"\\train_pred_intr_2.csv\")\n",
    "pd.DataFrame(test__predictions).to_csv(dir+r\"\\test__pred_intr_2.csv\")"
   ],
   "outputs": [],
   "metadata": {}
  },
  {
   "cell_type": "code",
   "execution_count": null,
   "source": [
    "plotter = tfdocs.plots.HistoryPlotter(smoothing_std=2)\n",
    "plotter.plot({'Basic': model_Intr_2_history}, metric = \"mse\")\n",
    "plt.ylim([-1, 2000])\n",
    "plt.ylabel('MSE_Intr_2')"
   ],
   "outputs": [],
   "metadata": {}
  },
  {
   "cell_type": "markdown",
   "source": [
    "## M/L for Intursion of region_3"
   ],
   "metadata": {}
  },
  {
   "cell_type": "code",
   "execution_count": null,
   "source": [
    "# # create the model for intusion by region_3\n",
    "EPOCHS = 5000\n",
    "nPar = 64\n",
    "nOut = 1\n",
    "iunit = nPar * nOut\n",
    "ounit = nOut\n",
    "print(\"nPar: {}, nOut: {}, iunit: {}, ounit: {}\".format(nPar,nOut,iunit,ounit))\n",
    "model_Intr_3 = build_model(iunit, ounit, train_dataset_3, activation=None,loss='mse',metrics=['mse'])\n",
    "model_Intr_3, model_Intr_3_history, model_Intr_3_early_history = training(EPOCHS, model_Intr_3, normed_train_data_3, train_labels_Intr_3, verbose=0, monitor='mse', patience=5)\n",
    "\n",
    "model_Intr_3.save(dir+r'\\trainingdata_Intr_for_Zone_3.h5')"
   ],
   "outputs": [],
   "metadata": {
    "tags": []
   }
  },
  {
   "cell_type": "code",
   "execution_count": null,
   "source": [
    "plotter = tfdocs.plots.HistoryPlotter(smoothing_std=2)\n",
    "plotter.plot({'Basic': model_Intr_3_history}, metric = \"mse\")\n",
    "plt.ylim([-1, 500])\n",
    "plt.ylabel('MSE_Intr_3')"
   ],
   "outputs": [],
   "metadata": {}
  },
  {
   "cell_type": "code",
   "execution_count": null,
   "source": [
    "test_mae_score_Intr_3, test_mae_score1_Intr_3 = model_Intr_3.evaluate(  normed_test__data_3, test__labels_Intr_3  )\n",
    "print(test_mae_score_Intr_3, test_mae_score1_Intr_3)"
   ],
   "outputs": [],
   "metadata": {
    "tags": []
   }
  },
  {
   "cell_type": "code",
   "execution_count": null,
   "source": [
    "train_predictions = model_Intr_3.predict(normed_train_data_3).flatten()\n",
    "test__predictions = model_Intr_3.predict(normed_test__data_3).flatten()\n",
    "\n",
    "plt.scatter(train_labels_Intr_3, train_predictions)\n",
    "plt.scatter(test__labels_Intr_3, test__predictions)\n",
    "\n",
    "plt.xlabel('True Values [Intr_3]')\n",
    "plt.ylabel('Predictions [Intr_3]')\n",
    "plt.axis('equal')\n",
    "plt.axis('square')\n",
    "plt.xlim([90,plt.xlim()[1]])\n",
    "plt.ylim([90,plt.ylim()[1]])\n",
    "_ = plt.plot([90, 150], [90, 150])"
   ],
   "outputs": [],
   "metadata": {}
  },
  {
   "cell_type": "code",
   "execution_count": null,
   "source": [
    "error = test__predictions - test__labels_Intr_3\n",
    "\n",
    "plt.hist(error, bins = 25)\n",
    "plt.xlabel(\"Prediction Error [Intrusion_region3]\")\n",
    "_ = plt.ylabel(\"Count\")"
   ],
   "outputs": [],
   "metadata": {}
  },
  {
   "cell_type": "code",
   "execution_count": null,
   "source": [
    "train_dataset_3.to_csv(dir+r\"\\train_dataset_intr_3.csv\")\n",
    "test__dataset_3.to_csv(dir+r\"\\test__dataset_intr_3.csv\")\n",
    "\n",
    "pd.DataFrame(train_predictions).to_csv(dir+r\"\\train_pred_intr_3.csv\")\n",
    "pd.DataFrame(test__predictions).to_csv(dir+r\"\\test__pred_intr_3.csv\")"
   ],
   "outputs": [],
   "metadata": {}
  },
  {
   "cell_type": "markdown",
   "source": [
    "## M/L for Area reduction"
   ],
   "metadata": {}
  },
  {
   "cell_type": "code",
   "execution_count": null,
   "source": [
    "EPOCHS = 5000\n",
    "nPar = 64\n",
    "nOut = 1\n",
    "iunit = nPar * nOut\n",
    "ounit = nOut\n",
    "print(\"nPar: {}, nOut: {}, iunit: {}, ounit: {}\".format(nPar,nOut,iunit,ounit))\n",
    "model_Area = build_model(iunit, ounit, train_dataset, activation=None,loss='mse',metrics=['mse'])\n",
    "model_Area, model_Area_history, model_Area_early_history = training(EPOCHS, model_Area, normed_train_data, train_labels_Area, verbose=0, monitor='mse', patience=5)\n",
    "model_Area.save(dir+r'\\trainingdata_Area_for_Zone.h5')"
   ],
   "outputs": [],
   "metadata": {
    "tags": []
   }
  },
  {
   "cell_type": "code",
   "execution_count": null,
   "source": [
    "test_mae_score_Area, test_mae_score1_Area = model_Area.evaluate(  normed_test__data, test__labels_Area  )\n",
    "print(test_mae_score_Area, test_mae_score1_Area)"
   ],
   "outputs": [],
   "metadata": {
    "tags": []
   }
  },
  {
   "cell_type": "code",
   "execution_count": null,
   "source": [
    "train_predictions = model_Area.predict(normed_train_data).flatten()\n",
    "test__predictions = model_Area.predict(normed_test__data).flatten()\n",
    "\n",
    "plt.scatter(train_labels_Area, train_predictions)\n",
    "plt.scatter(test__labels_Area, test__predictions )\n",
    "\n",
    "plt.xlabel('True Values [Area]')\n",
    "plt.ylabel('Predictions [Area]')\n",
    "plt.axis('equal')\n",
    "plt.axis('square')\n",
    "plt.xlim([-10,plt.xlim()[1]])\n",
    "plt.ylim([-10,plt.ylim()[1]])\n",
    "_ = plt.plot([-100, 1000], [-100, 1000])"
   ],
   "outputs": [],
   "metadata": {}
  },
  {
   "cell_type": "code",
   "execution_count": null,
   "source": [
    "error = test__predictions - test__labels_Area\n",
    "\n",
    "plt.hist(error, bins = 25)\n",
    "plt.xlabel(\"Prediction Error [Intrusion_Area]\")\n",
    "_ = plt.ylabel(\"Count\")"
   ],
   "outputs": [],
   "metadata": {}
  },
  {
   "cell_type": "code",
   "execution_count": null,
   "source": [
    "# train_dataset.to_csv(r\"F:\\CON_2019_HMC_PGD-MINESET\\Zone5_mat590\\DROP_SIMUL_200\\train_dataset.csv\")\n",
    "# test_dataset.to_csv(r\"F:\\CON_2019_HMC_PGD-MINESET\\Zone5_mat590\\DROP_SIMUL_200\\test_dataset.csv\")\n",
    "\n",
    "pd.DataFrame(train_predictions).to_csv(dir+r\"\\train_pred_area.csv\")\n",
    "pd.DataFrame(test__predictions).to_csv(dir+r\"\\test__pred_area.csv\")"
   ],
   "outputs": [],
   "metadata": {}
  },
  {
   "cell_type": "code",
   "execution_count": null,
   "source": [
    "plotter = tfdocs.plots.HistoryPlotter(smoothing_std=2)\n",
    "plotter.plot({'Basic': model_Area_history}, metric = \"mse\")\n",
    "plt.ylim([-0.1, 1000])\n",
    "plt.ylabel('MSE_Area')"
   ],
   "outputs": [],
   "metadata": {}
  },
  {
   "cell_type": "code",
   "execution_count": null,
   "source": [
    "# plotter = tfdocs.plots.HistoryPlotter(smoothing_std=2)\n",
    "# plotter.plot({'Early Stopping': early_history}, metric = \"mae\")\n",
    "# plt.ylim([-1, 10])\n",
    "# plt.ylabel('MAE')"
   ],
   "outputs": [],
   "metadata": {}
  },
  {
   "cell_type": "code",
   "execution_count": null,
   "source": [
    "# study for dataframe\n",
    "# data = {'a':[1,2,3.0],'b':[0.1,0.2,0.3],'sub':['1st','2nd','3nd']}\n",
    "# df = pd.DataFrame(data)\n",
    "# df\n",
    "# df = pd.DataFrame(data, columns=['sub','a','b'])\n",
    "# df\n",
    "# df = df.reindex(index = [0,2,1])\n",
    "# df\n",
    "# df['c']=np.nan\n",
    "# df\n",
    "# df.loc[:,['c']]=[1,2,3]\n",
    "# df"
   ],
   "outputs": [],
   "metadata": {}
  },
  {
   "cell_type": "code",
   "execution_count": null,
   "source": [],
   "outputs": [],
   "metadata": {}
  },
  {
   "cell_type": "code",
   "execution_count": null,
   "source": [
    "# model evaluate by curve\n",
    "# model = keras.models.load_modelr'F:\\CON_2019_HMC_PGD-MINESET\\Zone5_mat590\\machineLearning\\trainingdata_for_Zone.h5')\n",
    "# test_predictions = model.predict(normed_test_data).flatten()\n",
    "# test_predictions = model.predict(normed_test_data)\n",
    "# print(\"normed_test_data: {}\".format(normed_test_data))\n",
    "# print(\"test_dataset    : {}\".format(test_dataset))\n",
    "# print(\"test_predictions: {}\".format(test_predictions))\n"
   ],
   "outputs": [],
   "metadata": {
    "tags": []
   }
  },
  {
   "cell_type": "markdown",
   "source": [
    "# Optimization"
   ],
   "metadata": {}
  },
  {
   "cell_type": "code",
   "execution_count": null,
   "source": [
    "import pandas as pd\n",
    "import numpy as np\n",
    "import os\n",
    "from tensorflow.keras.models import Sequential, load_model\n",
    "from scipy import optimize\n",
    "import time\n"
   ],
   "outputs": [],
   "metadata": {}
  },
  {
   "cell_type": "code",
   "execution_count": null,
   "source": [
    "# Number of Curve points\n",
    "point = 39\n",
    "# Number of variables \n",
    "var = 8"
   ],
   "outputs": [],
   "metadata": {}
  },
  {
   "cell_type": "code",
   "execution_count": null,
   "source": [
    "# predict_func\n",
    "# Mean square error between test and prediction\n",
    "\n",
    "def predict_func( lst ):\n",
    "    import math\n",
    "    # # Result of prediction data \n",
    "    reg = 0 \n",
    "    \n",
    "    lstVar  = [ var  for var  in lst    ]\n",
    "\n",
    "    lstVarN = [ norm(varN, train_stats) for varN in lstVar ]\n",
    "\n",
    "    predict_Reg  = model_Reg.predict( [lstVarN] )[0]\n",
    "    predict_Intr = model_Intr.predict( [lstVarN] )[0]\n",
    "\n",
    "    predict_Intr_2 = model_Intr_2.predict( [lstVarN] )[0]\n",
    "    predict_Intr_3 = model_Intr_3.predict( [lstVarN] )[0]\n",
    "\n",
    "    predict_Area = model_Area.predict( [lstVarN] )[0]\n",
    "\n",
    "    # cVal = 0\n",
    "    # sInt = 0 \n",
    "    # sAre = 0\n",
    "    # sReg = 0\n",
    "\n",
    "    # for i in range(0,len(predict)):\n",
    "    #     if i <= 20: # curve data\n",
    "    #         cVal = cVal + predict[i]\n",
    "    #     if i == 21: # max. intrusion\n",
    "    #         sInt = predict[i]\n",
    "    #     if i == 22: # area\n",
    "    #         sAre = predict[i]\n",
    "    #     if i == 23: # region\n",
    "    #         sReg = predict[i]\n",
    "\n",
    "    # lst_max = (dataset.max(0))\n",
    "    # lst_min = (dataset.min(0))\n",
    "    # print(\"max={}, min={} of first Column\".format(lst_max[1],lst_min[1] ))\n",
    "\n",
    "    if predict_Reg[0] > predict_Reg[1] :\n",
    "        predict_Intr = predict_Intr_2\n",
    "        reg = 0\n",
    "    else:\n",
    "        predict_Intr = predict_Intr_3\n",
    "        reg = 1\n",
    "    \n",
    "\n",
    "    # if predict_Reg < 2.5:\n",
    "    #     predict_Intr = predict_Intr_2\n",
    "    # else:\n",
    "    #     predict_Intr = predict_Intr_3\n",
    "\n",
    "    norm_Int  = math.sqrt( ((predict_Intr - lst_min[29])/(lst_max[29] - lst_min[29]))**2 ) \n",
    "    norm_Int_2  = math.sqrt( ((predict_Intr_2 - lst_min[29])/(lst_max[29] - lst_min[29]))**2 ) \n",
    "    norm_Int_3  = math.sqrt( ((predict_Intr_3 - lst_min[29])/(lst_max[29] - lst_min[29]))**2 ) \n",
    "\n",
    "    norm_Area = math.sqrt( ((predict_Area - lst_min[30])/(lst_max[30] - lst_min[30]))**2 ) \n",
    "\n",
    "\n",
    "    # print(\"min: {}, max: {}\".format(lst_min[30], lst_max[30]))\n",
    "    print(\"parameter: {}\".format(lstVar))\n",
    "    print(\"Region: {}, Intursion: {}, Area: {}\".format(reg, predict_Intr, predict_Area))\n",
    "\n",
    "    # weight1 = 0.2\n",
    "\n",
    "\n",
    "    return  norm_Int + norm_Area\n"
   ],
   "outputs": [],
   "metadata": {}
  },
  {
   "cell_type": "code",
   "execution_count": null,
   "source": [
    "# normed_train_data_3"
   ],
   "outputs": [],
   "metadata": {}
  },
  {
   "cell_type": "code",
   "execution_count": null,
   "source": [
    "# 1st\n",
    "bnds = [( 25, 200 ), ( 25, 200 ), ( 25, 200 ), ( 25, 200 ),\n",
    "        ( 30, 200 ), ( 30, 200 ), ( 30, 200 ), ( 30, 200 )\n",
    "]\n",
    "from scipy import optimize\n",
    "# best1bin\n",
    "result_best1bin = optimize.differential_evolution(predict_func, bnds, strategy='best1bin', init='latinhypercube')\n",
    "print(\"DONE!!!!!!!!!!!!!!!!!!!!!!!!!!!!!!!!!!!!!!!!!!!!!!!!!!!!!!!!!!\")\n"
   ],
   "outputs": [],
   "metadata": {
    "tags": []
   }
  },
  {
   "cell_type": "code",
   "execution_count": null,
   "source": [
    "# Get minimize parameters\n",
    "minimum_best1bin_x = result_best1bin.x\n",
    "minimum_best1bin_f = result_best1bin.fun\n",
    "minimum_best1bin_x, minimum_best1bin_f"
   ],
   "outputs": [],
   "metadata": {}
  },
  {
   "cell_type": "code",
   "execution_count": null,
   "source": [
    "#Second\n",
    "bnds = [( 25, 200 ), ( 25, 200 ), ( 25, 200 ), ( 25, 200 ),\n",
    "        ( 30, 200 ), ( 30, 200 ), ( 30, 200 ), ( 30, 200 )\n",
    "]\n",
    "from scipy import optimize\n",
    "# best1bin\n",
    "result_best1bin = optimize.differential_evolution(predict_func, bnds, strategy='best1bin', init='latinhypercube')\n",
    "print(\"DONE!!!!!!!!!!!!!!!!!!!!!!!!!!!!!!!!!!!!!!!!!!!!!!!!!!!!!!!!!!\")"
   ],
   "outputs": [],
   "metadata": {
    "tags": []
   }
  },
  {
   "cell_type": "code",
   "execution_count": null,
   "source": [
    "# 2nd: Get minimize parameters\n",
    "minimum_best1bin_x = result_best1bin.x\n",
    "minimum_best1bin_f = result_best1bin.fun\n",
    "minimum_best1bin_x, minimum_best1bin_f"
   ],
   "outputs": [],
   "metadata": {}
  },
  {
   "cell_type": "code",
   "execution_count": null,
   "source": [
    "#Third\n",
    "bnds = [( 25, 200 ), ( 25, 200 ), ( 25, 200 ), ( 25, 200 ),\n",
    "        ( 30, 200 ), ( 30, 200 ), ( 30, 200 ), ( 30, 200 )\n",
    "]\n",
    "from scipy import optimize\n",
    "# best1bin\n",
    "result_best1bin = optimize.differential_evolution(predict_func, bnds, strategy='best1bin', init='latinhypercube')\n",
    "print(\"DONE!!!!!!!!!!!!!!!!!!!!!!!!!!!!!!!!!!!!!!!!!!!!!!!!!!!!!!!!!!\")"
   ],
   "outputs": [],
   "metadata": {
    "tags": []
   }
  },
  {
   "cell_type": "code",
   "execution_count": null,
   "source": [
    "# 3nd: Get minimize parameters\n",
    "minimum_best1bin_x = result_best1bin.x\n",
    "minimum_best1bin_f = result_best1bin.fun\n",
    "minimum_best1bin_x, minimum_best1bin_f"
   ],
   "outputs": [],
   "metadata": {}
  },
  {
   "cell_type": "code",
   "execution_count": null,
   "source": [
    "# normed_test_data\n",
    "\n",
    "# test_predictions = model.predict(normed_test_data)\n",
    "# print(\"normed_test_data: {}\".format(normed_test_data))\n",
    "# print(\"test_dataset    : {}\".format(test_dataset))\n",
    "# print(\"test_predictions: {}\".format(test_predictions))"
   ],
   "outputs": [],
   "metadata": {
    "tags": []
   }
  }
 ]
}