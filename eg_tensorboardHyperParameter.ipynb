{
 "metadata": {
  "language_info": {
   "codemirror_mode": {
    "name": "ipython",
    "version": 3
   },
   "file_extension": ".py",
   "mimetype": "text/x-python",
   "name": "python",
   "nbconvert_exporter": "python",
   "pygments_lexer": "ipython3",
   "version": "3.7.6"
  },
  "orig_nbformat": 2,
  "kernelspec": {
   "name": "python3",
   "display_name": "Python 3.7.6 64-bit ('tf21': conda)"
  },
  "interpreter": {
   "hash": "c9e899fc3088bf2866c8ce57404f6a20674c0f2e0ba70fb260d3aac68b70a40a"
  }
 },
 "nbformat": 4,
 "nbformat_minor": 2,
 "cells": [
  {
   "cell_type": "markdown",
   "source": [
    "# Tensorboard with Hyperparameter"
   ],
   "metadata": {}
  },
  {
   "cell_type": "code",
   "execution_count": 1,
   "source": [
    "import tensorflow as tf\r\n",
    "from tensorflow.keras import layers \r\n",
    "from tensorflow.keras.callbacks import TensorBoard"
   ],
   "outputs": [],
   "metadata": {}
  },
  {
   "cell_type": "code",
   "execution_count": 2,
   "source": [
    "from sklearn import datasets\r\n",
    "iris = datasets.load_iris()\r\n",
    "X = iris.data\r\n",
    "Y = iris.target"
   ],
   "outputs": [],
   "metadata": {}
  },
  {
   "cell_type": "code",
   "execution_count": 3,
   "source": [
    "def create_model(param):\r\n",
    "    cell_num  = param['cell_num']\r\n",
    "    layer_num = param['layer_num']\r\n",
    "\r\n",
    "    inputs = tf.keras.Input(shape=(4,))\r\n",
    "    x      = inputs\r\n",
    "    \r\n",
    "    for _ in range(layer_num):\r\n",
    "        x = layers.Dense(cell_num, activation='relu')(x)\r\n",
    "\r\n",
    "    outputs = layers.Dense(3,  activation='softmax')(x)\r\n",
    "    model   = tf.keras.Model(inputs=inputs, outputs=outputs)\r\n",
    "\r\n",
    "    model.compile(optimizer=tf.keras.optimizers.Adam(lr=0.001), \\\r\n",
    "                  loss=tf.keras.losses.sparse_categorical_crossentropy, \\\r\n",
    "                  metrics=[tf.keras.metrics.sparse_categorical_accuracy])\r\n",
    "    return model"
   ],
   "outputs": [],
   "metadata": {
    "tags": []
   }
  },
  {
   "cell_type": "code",
   "execution_count": 6,
   "source": [
    "from itertools import product\r\n",
    "# dict 데이터 입력받아 Cartersian Product 연산 Iterator 리턴\r\n",
    "def dict_product(dicts): \r\n",
    "    return (dict(zip(dicts, x)) for x in product(*dicts.values()))\r\n",
    "\r\n",
    "import time as pytime # 시간 모듈 \r\n",
    "params = {'cell_num':[8, 16], 'layer_num':[1, 2]}\r\n",
    "for param in dict_product(params): # 파라미터 순회 \r\n",
    "    tensorboard_name = \"iris_param: {}\".format(str(param)+\" on \"+str(int(pytime.time())))\r\n",
    "    tensorboard = TensorBoard(log_dir='./logs/{}'.format(tensorboard_name))\r\n",
    "    model = create_model(param)\r\n",
    "    model.fit(X, Y, epochs=20, callbacks=[tensorboard])"
   ],
   "outputs": [
    {
     "output_type": "execute_result",
     "data": {
      "text/plain": [
       "array([0.18146984, 0.81473937, 0.00145312, 0.00233767])"
      ]
     },
     "metadata": {},
     "execution_count": 6
    }
   ],
   "metadata": {}
  },
  {
   "cell_type": "code",
   "execution_count": 8,
   "source": [
    "from sklearn.model_selection import KFold\r\n",
    "\r\n",
    "kf = KFold(random_state=30,\r\n",
    "           n_splits=10,\r\n",
    "           shuffle=True,\r\n",
    "          )"
   ],
   "outputs": [],
   "metadata": {}
  },
  {
   "cell_type": "code",
   "execution_count": 9,
   "source": [
    "# define grid_search\r\n",
    "grid_search = GridSearchCV(estimator=estimator, \r\n",
    "                           param_grid=param_grid, \r\n",
    "                           cv=kf, \r\n",
    "                           n_jobs=-1, \r\n",
    "                           verbose=2\r\n",
    "                          )\r\n",
    "\r\n",
    "# fit with (x_train, y_train)\r\n",
    "grid_search.fit(X, y)"
   ],
   "outputs": [
    {
     "output_type": "stream",
     "name": "stdout",
     "text": [
      "Fitting 10 folds for each of 96 candidates, totalling 960 fits\n",
      "[Parallel(n_jobs=-1)]: Using backend LokyBackend with 8 concurrent workers.\n",
      "[Parallel(n_jobs=-1)]: Done  25 tasks      | elapsed:    2.4s\n",
      "[Parallel(n_jobs=-1)]: Done 146 tasks      | elapsed:    7.2s\n",
      "[Parallel(n_jobs=-1)]: Done 349 tasks      | elapsed:   15.4s\n",
      "[Parallel(n_jobs=-1)]: Done 632 tasks      | elapsed:   26.7s\n",
      "[Parallel(n_jobs=-1)]: Done 960 out of 960 | elapsed:   39.9s finished\n"
     ]
    },
    {
     "output_type": "execute_result",
     "data": {
      "text/plain": [
       "GridSearchCV(cv=KFold(n_splits=10, random_state=30, shuffle=True),\n",
       "             estimator=RandomForestRegressor(max_depth=2, random_state=0),\n",
       "             n_jobs=-1,\n",
       "             param_grid={'max_depth': [None, 6, 9, 12],\n",
       "                         'max_features': ['auto', 'sqrt'],\n",
       "                         'min_samples_split': [0.01, 0.05, 0.1],\n",
       "                         'n_estimators': [100, 150, 200, 250]},\n",
       "             verbose=2)"
      ]
     },
     "metadata": {},
     "execution_count": 9
    }
   ],
   "metadata": {
    "tags": []
   }
  },
  {
   "cell_type": "code",
   "execution_count": 10,
   "source": [
    "grid_search.best_params_"
   ],
   "outputs": [
    {
     "output_type": "execute_result",
     "data": {
      "text/plain": [
       "{'max_depth': 9,\n",
       " 'max_features': 'auto',\n",
       " 'min_samples_split': 0.01,\n",
       " 'n_estimators': 200}"
      ]
     },
     "metadata": {},
     "execution_count": 10
    }
   ],
   "metadata": {}
  },
  {
   "cell_type": "code",
   "execution_count": 11,
   "source": [
    "estimator = RandomForestRegressor(n_estimators=200,max_depth=9, max_features= 'auto', min_samples_split=0.01, random_state=0)\n",
    "estimator.fit(X, y)\n",
    "print(estimator.predict([[0, 0, 0, 0]]))"
   ],
   "outputs": [
    {
     "output_type": "stream",
     "name": "stdout",
     "text": [
      "[-0.21872506]\n"
     ]
    }
   ],
   "metadata": {
    "tags": []
   }
  },
  {
   "cell_type": "code",
   "execution_count": null,
   "source": [],
   "outputs": [],
   "metadata": {}
  }
 ]
}