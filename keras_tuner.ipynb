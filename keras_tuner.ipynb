{
 "cells": [
  {
   "cell_type": "markdown",
   "source": [
    "##### Copyright 2020 The TensorFlow Authors."
   ],
   "metadata": {
    "id": "Tce3stUlHN0L"
   }
  },
  {
   "cell_type": "code",
   "execution_count": 1,
   "source": [
    "#@title Licensed under the Apache License, Version 2.0 (the \"License\");\n",
    "# you may not use this file except in compliance with the License.\n",
    "# You may obtain a copy of the License at\n",
    "#\n",
    "# https://www.apache.org/licenses/LICENSE-2.0\n",
    "#\n",
    "# Unless required by applicable law or agreed to in writing, software\n",
    "# distributed under the License is distributed on an \"AS IS\" BASIS,\n",
    "# WITHOUT WARRANTIES OR CONDITIONS OF ANY KIND, either express or implied.\n",
    "# See the License for the specific language governing permissions and\n",
    "# limitations under the License."
   ],
   "outputs": [],
   "metadata": {
    "cellView": "form",
    "id": "tuOe1ymfHZPu"
   }
  },
  {
   "cell_type": "markdown",
   "source": [
    "# Introduction to the Keras Tuner"
   ],
   "metadata": {
    "id": "qFdPvlXBOdUN"
   }
  },
  {
   "cell_type": "markdown",
   "source": [
    "<table class=\"tfo-notebook-buttons\" align=\"left\">\n",
    "  <td>\n",
    "    <a target=\"_blank\" href=\"https://www.tensorflow.org/tutorials/keras/keras_tuner\"><img src=\"https://www.tensorflow.org/images/tf_logo_32px.png\" />View on TensorFlow.org</a>\n",
    "  </td>\n",
    "  <td>\n",
    "    <a target=\"_blank\" href=\"https://colab.research.google.com/github/tensorflow/docs/blob/master/site/en/tutorials/keras/keras_tuner.ipynb\"><img src=\"https://www.tensorflow.org/images/colab_logo_32px.png\" />Run in Google Colab</a>\n",
    "  </td>\n",
    "  <td>\n",
    "    <a target=\"_blank\" href=\"https://github.com/tensorflow/docs/blob/master/site/en/tutorials/keras/keras_tuner.ipynb\"><img src=\"https://www.tensorflow.org/images/GitHub-Mark-32px.png\" />View source on GitHub</a>\n",
    "  </td>\n",
    "  <td>\n",
    "    <a href=\"https://storage.googleapis.com/tensorflow_docs/docs/site/en/tutorials/keras/keras_tuner.ipynb\"><img src=\"https://www.tensorflow.org/images/download_logo_32px.png\" />Download notebook</a>\n",
    "  </td>\n",
    "</table>"
   ],
   "metadata": {
    "id": "MfBg1C5NB3X0"
   }
  },
  {
   "cell_type": "markdown",
   "source": [
    "## Overview\n",
    "\n",
    "The Keras Tuner is a library that helps you pick the optimal set of hyperparameters for your TensorFlow program. The process of selecting the right set of hyperparameters for your machine learning (ML) application is called *hyperparameter tuning* or *hypertuning*. \n",
    "\n",
    "Hyperparameters are the variables that govern the training process and the topology of an ML model. These variables remain constant over the training process and directly impact the performance of your ML program. Hyperparameters are of two types:\n",
    "1. **Model hyperparameters** which influence model selection such as the number and width of hidden layers\n",
    "2. **Algorithm hyperparameters** which influence the speed and quality of the learning algorithm such as the learning rate for Stochastic Gradient Descent (SGD) and the number of nearest neighbors for a k Nearest Neighbors (KNN) classifier\n",
    "\n",
    "In this tutorial, you will use the Keras Tuner to perform hypertuning for an image classification application."
   ],
   "metadata": {
    "id": "xHxb-dlhMIzW"
   }
  },
  {
   "cell_type": "markdown",
   "source": [
    "## Setup"
   ],
   "metadata": {
    "id": "MUXex9ctTuDB"
   }
  },
  {
   "cell_type": "code",
   "execution_count": 1,
   "source": [
    "import tensorflow as tf\r\n",
    "from tensorflow import keras\r\n",
    "\r\n",
    "import IPython"
   ],
   "outputs": [],
   "metadata": {
    "id": "IqR2PQG4ZaZ0"
   }
  },
  {
   "cell_type": "markdown",
   "source": [
    "Install and import the Keras Tuner."
   ],
   "metadata": {
    "id": "g83Lwsy-Aq2_"
   }
  },
  {
   "cell_type": "code",
   "execution_count": 9,
   "source": [
    "# !pip install -q -U keras-tuner\r\n",
    "import keras_tuner as kt\r\n"
   ],
   "outputs": [
    {
     "output_type": "error",
     "ename": "AttributeError",
     "evalue": "partially initialized module 'keras_tuner' has no attribute 'Hyperband' (most likely due to a circular import)",
     "traceback": [
      "\u001b[1;31m---------------------------------------------------------------------------\u001b[0m",
      "\u001b[1;31mAttributeError\u001b[0m                            Traceback (most recent call last)",
      "\u001b[1;32m<ipython-input-9-0f940ac2e99a>\u001b[0m in \u001b[0;36m<module>\u001b[1;34m\u001b[0m\n\u001b[0;32m      1\u001b[0m \u001b[1;31m# !pip install -q -U keras-tuner\u001b[0m\u001b[1;33m\u001b[0m\u001b[1;33m\u001b[0m\u001b[1;33m\u001b[0m\u001b[0m\n\u001b[1;32m----> 2\u001b[1;33m \u001b[1;32mimport\u001b[0m \u001b[0mkeras_tuner\u001b[0m \u001b[1;32mas\u001b[0m \u001b[0mkt\u001b[0m\u001b[1;33m\u001b[0m\u001b[1;33m\u001b[0m\u001b[0m\n\u001b[0m",
      "\u001b[1;32md:\\source\\MachineLearning\\keras_tuner.py\u001b[0m in \u001b[0;36m<module>\u001b[1;34m\u001b[0m\n\u001b[0;32m     32\u001b[0m   \u001b[1;32mreturn\u001b[0m \u001b[0mmodel\u001b[0m\u001b[1;33m\u001b[0m\u001b[1;33m\u001b[0m\u001b[0m\n\u001b[0;32m     33\u001b[0m \u001b[1;33m\u001b[0m\u001b[0m\n\u001b[1;32m---> 34\u001b[1;33m tuner = kt.Hyperband(model_builder,\n\u001b[0m\u001b[0;32m     35\u001b[0m                      \u001b[0mobjective\u001b[0m \u001b[1;33m=\u001b[0m \u001b[1;34m'val_accuracy'\u001b[0m\u001b[1;33m,\u001b[0m\u001b[1;33m\u001b[0m\u001b[1;33m\u001b[0m\u001b[0m\n\u001b[0;32m     36\u001b[0m                      \u001b[0mmax_epochs\u001b[0m \u001b[1;33m=\u001b[0m \u001b[1;36m10\u001b[0m\u001b[1;33m,\u001b[0m\u001b[1;33m\u001b[0m\u001b[1;33m\u001b[0m\u001b[0m\n",
      "\u001b[1;31mAttributeError\u001b[0m: partially initialized module 'keras_tuner' has no attribute 'Hyperband' (most likely due to a circular import)"
     ]
    }
   ],
   "metadata": {
    "id": "_leAIdFKAxAD",
    "tags": []
   }
  },
  {
   "cell_type": "markdown",
   "source": [
    "## Download and prepare the dataset\n",
    "\n",
    "In this tutorial, you will use the Keras Tuner to find the best hyperparameters for a machine learning model that classifies images of clothing from the [Fashion MNIST dataset](https://github.com/zalandoresearch/fashion-mnist). "
   ],
   "metadata": {
    "id": "ReV_UXOgCZvx"
   }
  },
  {
   "cell_type": "markdown",
   "source": [
    "Load the data."
   ],
   "metadata": {
    "id": "HljH_ENLEdHa"
   }
  },
  {
   "cell_type": "code",
   "execution_count": 6,
   "source": [
    "(img_train, label_train), (img_test, label_test) = keras.datasets.fashion_mnist.load_data()"
   ],
   "outputs": [
    {
     "output_type": "stream",
     "name": "stdout",
     "text": [
      "Downloading data fromhttps://storage.googleapis.com/tensorflow/tf-keras-datasets/train-labels-idx1-ubyte.gz\n",
      " 8192/29515 [=======>......................] - ETA:32768/29515 [=================================] - 0s 0us/step\n",
      "Downloading data fromhttps://storage.googleapis.com/tensorflow/tf-keras-datasets/train-images-idx3-ubyte.gz\n",
      "    8192/26421880 [..............................] - ETA:  581632/26421880 [..............................] - ETA: 1163264/26421880 [>.............................] - ETA: 1769472/26421880 [=>............................] - ETA: 2359296/26421880 [=>............................] - ETA: 2965504/26421880 [==>...........................] - ETA: 3571712/26421880 [===>..........................] - ETA: 4161536/26421880 [===>..........................] - ETA: 4751360/26421880 [====>.........................] - ETA: 5341184/26421880 [=====>........................] - ETA: 5963776/26421880 [=====>........................] - ETA: 6569984/26421880 [======>.......................] - ETA: 7176192/26421880 [=======>......................] - ETA: 7782400/26421880 [=======>......................] - ETA: 8388608/26421880 [========>.....................] - ETA: 8978432/26421880 [=========>....................] - ETA: 9584640/26421880 [=========>....................] - ETA:10190848/26421880 [==========>...................] - ETA:10797056/26421880 [===========>..................] - ETA:11403264/26421880 [===========>..................] - ETA:12009472/26421880 [============>.................] - ETA:12615680/26421880 [=============>................] - ETA:13221888/26421880 [==============>...............] - ETA:13828096/26421880 [==============>...............] - ETA:14434304/26421880 [===============>..............] - ETA:15040512/26421880 [================>.............] - ETA:15646720/26421880 [================>.............] - ETA:16244736/26421880 [=================>............] - ETA:16842752/26421880 [==================>...........] - ETA:17448960/26421880 [==================>...........] - ETA:18055168/26421880 [===================>..........] - ETA:18661376/26421880 [====================>.........] - ETA:19251200/26421880 [====================>.........] - ETA:19890176/26421880 [=====================>........] - ETA:20496384/26421880 [======================>.......] - ETA:21102592/26421880 [======================>.......] - ETA:21708800/26421880 [=======================>......] - ETA:22298624/26421880 [========================>.....] - ETA:22904832/26421880 [=========================>....] - ETA:23511040/26421880 [=========================>....] - ETA:24084480/26421880 [==========================>...] - ETA:24690688/26421880 [===========================>..] - ETA:25296896/26421880 [===========================>..] - ETA:25886720/26421880 [============================>.] - ETA:26427392/26421880 [==============================] - 2s 0us/step\n",
      "Downloading data fromhttps://storage.googleapis.com/tensorflow/tf-keras-datasets/t10k-labels-idx1-ubyte.gz\n",
      "8192/5148 [===============================================] - 0s 0s/step\n",
      "Downloading data fromhttps://storage.googleapis.com/tensorflow/tf-keras-datasets/t10k-images-idx3-ubyte.gz\n",
      "   8192/4422102 [..............................] - ETA: 589824/4422102 [===>..........................] - ETA:1187840/4422102 [=======>......................] - ETA:1794048/4422102 [===========>..................] - ETA:2375680/4422102 [===============>..............] - ETA:2973696/4422102 [===================>..........] - ETA:3563520/4422102 [=======================>......] - ETA:4169728/4422102 [===========================>..] - ETA:4423680/4422102 [==============================] - 0s 0us/step\n"
     ]
    }
   ],
   "metadata": {
    "id": "OHlHs9Wj_PUM",
    "tags": []
   }
  },
  {
   "cell_type": "code",
   "execution_count": 7,
   "source": [
    "# Normalize pixel values between 0 and 1\n",
    "img_train = img_train.astype('float32') / 255.0\n",
    "img_test = img_test.astype('float32') / 255.0"
   ],
   "outputs": [],
   "metadata": {
    "id": "bLVhXs3xrUD0"
   }
  },
  {
   "cell_type": "markdown",
   "source": [
    "## Define the model\n",
    "\n",
    "When you build a model for hypertuning, you also define the hyperparameter search space in addition to the model architecture. The model you set up for hypertuning is called a *hypermodel*.\n",
    "\n",
    "You can define a hypermodel through two approaches:\n",
    "\n",
    "* By using a model builder function\n",
    "* By subclassing the `HyperModel` class of the Keras Tuner API\n",
    "\n",
    "You can also use two pre-defined `HyperModel` classes - [HyperXception](https://keras-team.github.io/keras-tuner/documentation/hypermodels/#hyperxception-class) and [HyperResNet](https://keras-team.github.io/keras-tuner/documentation/hypermodels/#hyperresnet-class) for computer vision applications.\n",
    "\n",
    "In this tutorial, you use a model builder function to define the image classification model. The model builder function returns a compiled model and uses hyperparameters you define inline to hypertune the model."
   ],
   "metadata": {
    "id": "K5YEL2H2Ax3e"
   }
  },
  {
   "cell_type": "code",
   "execution_count": 8,
   "source": [
    "def model_builder(hp):\n",
    "  model = keras.Sequential()\n",
    "  model.add(keras.layers.Flatten(input_shape=(28, 28)))\n",
    "  \n",
    "  # Tune the number of units in the first Dense layer\n",
    "  # Choose an optimal value between 32-512\n",
    "  hp_units = hp.Int('units', min_value = 32, max_value = 512, step = 32)\n",
    "  model.add(keras.layers.Dense(units = hp_units, activation = 'relu'))\n",
    "  model.add(keras.layers.Dense(10))\n",
    "\n",
    "  # Tune the learning rate for the optimizer \n",
    "  # Choose an optimal value from 0.01, 0.001, or 0.0001\n",
    "  hp_learning_rate = hp.Choice('learning_rate', values = [1e-2, 1e-3, 1e-4]) \n",
    "  \n",
    "  model.compile(optimizer = keras.optimizers.Adam(learning_rate = hp_learning_rate),\n",
    "                loss = keras.losses.SparseCategoricalCrossentropy(from_logits = True), \n",
    "                metrics = ['accuracy'])\n",
    "  \n",
    "  return model"
   ],
   "outputs": [],
   "metadata": {
    "id": "ZQKodC-jtsva"
   }
  },
  {
   "cell_type": "markdown",
   "source": [
    "## Instantiate the tuner and perform hypertuning\n",
    "\n",
    "Instantiate the tuner to perform the hypertuning. The Keras Tuner has four tuners available - `RandomSearch`, `Hyperband`, `BayesianOptimization`, and `Sklearn`. In this tutorial, you use the [Hyperband](https://arxiv.org/pdf/1603.06560.pdf) tuner. \n",
    "\n",
    "To instantiate the Hyperband tuner, you must specify the hypermodel, the `objective` to optimize and the maximum number of epochs to train (`max_epochs`)."
   ],
   "metadata": {
    "id": "0J1VYw4q3x0b"
   }
  },
  {
   "cell_type": "code",
   "execution_count": 9,
   "source": [
    "tuner = kt.Hyperband(model_builder,\n",
    "                     objective = 'val_accuracy', \n",
    "                     max_epochs = 10,\n",
    "                     factor = 3,\n",
    "                     directory = 'my_dir',\n",
    "                     project_name = 'intro_to_kt')                       "
   ],
   "outputs": [],
   "metadata": {
    "id": "oichQFly6Y46"
   }
  },
  {
   "cell_type": "markdown",
   "source": [
    "The Hyperband tuning algorithm uses adaptive resource allocation and early-stopping to quickly converge on a high-performing model. This is done using a sports championship style bracket. The algorithm trains a large number of models for a few epochs and carries forward only the top-performing half of models to the next round. Hyperband determines the number of models to train in a bracket by computing 1 + log<sub>`factor`</sub>(`max_epochs`) and rounding it up to the nearest integer."
   ],
   "metadata": {
    "id": "VaIhhdKf9VtI"
   }
  },
  {
   "cell_type": "markdown",
   "source": [
    "Before running the hyperparameter search, define a callback to clear the training outputs at the end of every training step."
   ],
   "metadata": {
    "id": "oTeamrUWOJRb"
   }
  },
  {
   "cell_type": "code",
   "execution_count": 10,
   "source": [
    "class ClearTrainingOutput(tf.keras.callbacks.Callback):\n",
    "  def on_train_end(*args, **kwargs):\n",
    "    IPython.display.clear_output(wait = True)"
   ],
   "outputs": [],
   "metadata": {
    "id": "Bbr_8QE76PJd"
   }
  },
  {
   "cell_type": "markdown",
   "source": [
    "Run the hyperparameter search. The arguments for the search method are the same as those used for `tf.keras.model.fit` in addition to the callback above."
   ],
   "metadata": {
    "id": "UKghEo15Tduy"
   }
  },
  {
   "cell_type": "code",
   "execution_count": 9,
   "source": [
    "tuner.search(img_train, label_train, epochs = 10, validation_data = (img_test, label_test), callbacks = [ClearTrainingOutput()])\n",
    "\n",
    "# Get the optimal hyperparameters\n",
    "best_hps = tuner.get_best_hyperparameters(num_trials = 1)[0]\n",
    "\n",
    "print(f\"\"\"\n",
    "The hyperparameter search is complete. The optimal number of units in the first densely-connected\n",
    "layer is {best_hps.get('units')} and the optimal learning rate for the optimizer\n",
    "is {best_hps.get('learning_rate')}.\n",
    "\"\"\")"
   ],
   "outputs": [
    {
     "output_type": "display_data",
     "data": {
      "text/plain": [
       "<IPython.core.display.HTML object>"
      ],
      "text/html": [
       "<span style=\"color:#4527A0\"><h1 style=\"font-size:18px\">Trial complete</h1></span>"
      ]
     },
     "metadata": {}
    },
    {
     "output_type": "display_data",
     "data": {
      "text/plain": [
       "<IPython.core.display.HTML object>"
      ],
      "text/html": [
       "<span style=\"color:#4527A0\"><h1 style=\"font-size:18px\">Trial summary</h1></span>"
      ]
     },
     "metadata": {}
    },
    {
     "output_type": "display_data",
     "data": {
      "text/plain": [
       "<IPython.core.display.HTML object>"
      ],
      "text/html": [
       "<span style=\"color:cyan\"> |-Trial ID: b29ce9c18d8049fed2be2facd7c9f1d4</span>"
      ]
     },
     "metadata": {}
    },
    {
     "output_type": "display_data",
     "data": {
      "text/plain": [
       "<IPython.core.display.HTML object>"
      ],
      "text/html": [
       "<span style=\"color:cyan\"> |-Score: 0.8569999933242798</span>"
      ]
     },
     "metadata": {}
    },
    {
     "output_type": "display_data",
     "data": {
      "text/plain": [
       "<IPython.core.display.HTML object>"
      ],
      "text/html": [
       "<span style=\"color:cyan\"> |-Best step: 0</span>"
      ]
     },
     "metadata": {}
    },
    {
     "output_type": "display_data",
     "data": {
      "text/plain": [
       "<IPython.core.display.HTML object>"
      ],
      "text/html": [
       "<span style=\"color:#7E57C2\"><h2 style=\"font-size:16px\">Hyperparameters:</h2></span>"
      ]
     },
     "metadata": {}
    },
    {
     "output_type": "display_data",
     "data": {
      "text/plain": [
       "<IPython.core.display.HTML object>"
      ],
      "text/html": [
       "<span style=\"color:cyan\"> |-learning_rate: 0.001</span>"
      ]
     },
     "metadata": {}
    },
    {
     "output_type": "display_data",
     "data": {
      "text/plain": [
       "<IPython.core.display.HTML object>"
      ],
      "text/html": [
       "<span style=\"color:blue\"> |-tuner/bracket: 2</span>"
      ]
     },
     "metadata": {}
    },
    {
     "output_type": "display_data",
     "data": {
      "text/plain": [
       "<IPython.core.display.HTML object>"
      ],
      "text/html": [
       "<span style=\"color:cyan\"> |-tuner/epochs: 4</span>"
      ]
     },
     "metadata": {}
    },
    {
     "output_type": "display_data",
     "data": {
      "text/plain": [
       "<IPython.core.display.HTML object>"
      ],
      "text/html": [
       "<span style=\"color:blue\"> |-tuner/initial_epoch: 2</span>"
      ]
     },
     "metadata": {}
    },
    {
     "output_type": "display_data",
     "data": {
      "text/plain": [
       "<IPython.core.display.HTML object>"
      ],
      "text/html": [
       "<span style=\"color:cyan\"> |-tuner/round: 1</span>"
      ]
     },
     "metadata": {}
    },
    {
     "output_type": "display_data",
     "data": {
      "text/plain": [
       "<IPython.core.display.HTML object>"
      ],
      "text/html": [
       "<span style=\"color:blue\"> |-tuner/trial_id: 00420dd44e27fabe583a0c81b870825a</span>"
      ]
     },
     "metadata": {}
    },
    {
     "output_type": "display_data",
     "data": {
      "text/plain": [
       "<IPython.core.display.HTML object>"
      ],
      "text/html": [
       "<span style=\"color:cyan\"> |-units: 256</span>"
      ]
     },
     "metadata": {}
    },
    {
     "output_type": "stream",
     "name": "stdout",
     "text": [
      "Epoch 3/4"
     ]
    },
    {
     "output_type": "stream",
     "name": "stdout",
     "text": [
      "\n"
     ]
    },
    {
     "output_type": "stream",
     "name": "stdout",
     "text": [
      "\r"
     ]
    },
    {
     "output_type": "stream",
     "name": "stdout",
     "text": [
      "   1/1875 [..............................]"
     ]
    },
    {
     "output_type": "stream",
     "name": "stdout",
     "text": [
      " - ETA: 0s - loss: 2.4960 - accuracy: 0.1562"
     ]
    },
    {
     "output_type": "stream",
     "name": "stdout",
     "text": [
      "\b\b\b\b\b\b\b\b\b\b\b\b\b\b\b\b\b\b\b\b\b\b\b\b\b\b\b\b\b\b\b\b\b\b\b\b\b\b\b\b\b\b\b\b\b\b\b\b\b\b\b\b\b\b\b\b\b\b\b\b\b\b\b\b\b\b\b\b\b\b\b\b\b\b\b\b\b\b\b\b\b\b\b\b\b\b"
     ]
    },
    {
     "output_type": "stream",
     "name": "stdout",
     "text": [
      "\r"
     ]
    },
    {
     "output_type": "stream",
     "name": "stdout",
     "text": [
      "  36/1875 [..............................]"
     ]
    },
    {
     "output_type": "stream",
     "name": "stdout",
     "text": [
      " - ETA: 2s - loss: 1.2977 - accuracy: 0.5868"
     ]
    },
    {
     "output_type": "stream",
     "name": "stdout",
     "text": [
      "\b\b\b\b\b\b\b\b\b\b\b\b\b\b\b\b\b\b\b\b\b\b\b\b\b\b\b\b\b\b\b\b\b\b\b\b\b\b\b\b\b\b\b\b\b\b\b\b\b\b\b\b\b\b\b\b\b\b\b\b\b\b\b\b\b\b\b\b\b\b\b\b\b\b\b\b\b\b\b\b\b\b\b\b\b\b"
     ]
    },
    {
     "output_type": "stream",
     "name": "stdout",
     "text": [
      "\r"
     ]
    },
    {
     "output_type": "stream",
     "name": "stdout",
     "text": [
      "  71/1875 [>.............................]"
     ]
    },
    {
     "output_type": "stream",
     "name": "stdout",
     "text": [
      " - ETA: 2s - loss: 1.0636 - accuracy: 0.6510"
     ]
    },
    {
     "output_type": "stream",
     "name": "stdout",
     "text": [
      "\b\b\b\b\b\b\b\b\b\b\b\b\b\b\b\b\b\b\b\b\b\b\b\b\b\b\b\b\b\b\b\b\b\b\b\b\b\b\b\b\b\b\b\b\b\b\b\b\b\b\b\b\b\b\b\b\b\b\b\b\b\b\b\b\b\b\b\b\b\b\b\b\b\b\b\b\b\b\b\b\b\b\b\b\b\b"
     ]
    },
    {
     "output_type": "stream",
     "name": "stdout",
     "text": [
      "\r"
     ]
    },
    {
     "output_type": "stream",
     "name": "stdout",
     "text": [
      " 107/1875 [>.............................]"
     ]
    },
    {
     "output_type": "stream",
     "name": "stdout",
     "text": [
      " - ETA: 2s - loss: 0.9463 - accuracy: 0.6881"
     ]
    },
    {
     "output_type": "stream",
     "name": "stdout",
     "text": [
      "\b\b\b\b\b\b\b\b\b\b\b\b\b\b\b\b\b\b\b\b\b\b\b\b\b\b\b\b\b\b\b\b\b\b\b\b\b\b\b\b\b\b\b\b\b\b\b\b\b\b\b\b\b\b\b\b\b\b\b\b\b\b\b\b\b\b\b\b\b\b\b\b\b\b\b\b\b\b\b\b\b\b\b\b\b\b"
     ]
    },
    {
     "output_type": "stream",
     "name": "stdout",
     "text": [
      "\r"
     ]
    },
    {
     "output_type": "stream",
     "name": "stdout",
     "text": [
      " 143/1875 [=>............................]"
     ]
    },
    {
     "output_type": "stream",
     "name": "stdout",
     "text": [
      " - ETA: 2s - loss: 0.8894 - accuracy: 0.7032"
     ]
    },
    {
     "output_type": "stream",
     "name": "stdout",
     "text": [
      "\b\b\b\b\b\b\b\b\b\b\b\b\b\b\b\b\b\b\b\b\b\b\b\b\b\b\b\b\b\b\b\b\b\b\b\b\b\b\b\b\b\b\b\b\b\b\b\b\b\b\b\b\b\b\b\b\b\b\b\b\b\b\b\b\b\b\b\b\b\b\b\b\b\b\b\b\b\b\b\b\b\b\b\b\b\b"
     ]
    },
    {
     "output_type": "stream",
     "name": "stdout",
     "text": [
      "\r"
     ]
    },
    {
     "output_type": "stream",
     "name": "stdout",
     "text": [
      " 178/1875 [=>............................]"
     ]
    },
    {
     "output_type": "stream",
     "name": "stdout",
     "text": [
      " - ETA: 2s - loss: 0.8318 - accuracy: 0.7223"
     ]
    },
    {
     "output_type": "stream",
     "name": "stdout",
     "text": [
      "\b\b\b\b\b\b\b\b\b\b\b\b\b\b\b\b\b\b\b\b\b\b\b\b\b\b\b\b\b\b\b\b\b\b\b\b\b\b\b\b\b\b\b\b\b\b\b\b\b\b\b\b\b\b\b\b\b\b\b\b\b\b\b\b\b\b\b\b\b\b\b\b\b\b\b\b\b\b\b\b\b\b\b\b\b\b"
     ]
    },
    {
     "output_type": "stream",
     "name": "stdout",
     "text": [
      "\r"
     ]
    },
    {
     "output_type": "stream",
     "name": "stdout",
     "text": [
      " 214/1875 [==>...........................]"
     ]
    },
    {
     "output_type": "stream",
     "name": "stdout",
     "text": [
      " - ETA: 2s - loss: 0.7858 - accuracy: 0.7380"
     ]
    },
    {
     "output_type": "stream",
     "name": "stdout",
     "text": [
      "\b\b\b\b\b\b\b\b\b\b\b\b\b\b\b\b\b\b\b\b\b\b\b\b\b\b\b\b\b\b\b\b\b\b\b\b\b\b\b\b\b\b\b\b\b\b\b\b\b\b\b\b\b\b\b\b\b\b\b\b\b\b\b\b\b\b\b\b\b\b\b\b\b\b\b\b\b\b\b\b\b\b\b\b\b\b"
     ]
    },
    {
     "output_type": "stream",
     "name": "stdout",
     "text": [
      "\r"
     ]
    },
    {
     "output_type": "stream",
     "name": "stdout",
     "text": [
      " 250/1875 [===>..........................]"
     ]
    },
    {
     "output_type": "stream",
     "name": "stdout",
     "text": [
      " - ETA: 2s - loss: 0.7614 - accuracy: 0.7460"
     ]
    },
    {
     "output_type": "stream",
     "name": "stdout",
     "text": [
      "\b\b\b\b\b\b\b\b\b\b\b\b\b\b\b\b\b\b\b\b\b\b\b\b\b\b\b\b\b\b\b\b\b\b\b\b\b\b\b\b\b\b\b\b\b\b\b\b\b\b\b\b\b\b\b\b\b\b\b\b\b\b\b\b\b\b\b\b\b\b\b\b\b\b\b\b\b\b\b\b\b\b\b\b\b\b"
     ]
    },
    {
     "output_type": "stream",
     "name": "stdout",
     "text": [
      "\r"
     ]
    },
    {
     "output_type": "stream",
     "name": "stdout",
     "text": [
      " 285/1875 [===>..........................]"
     ]
    },
    {
     "output_type": "stream",
     "name": "stdout",
     "text": [
      " - ETA: 2s - loss: 0.7429 - accuracy: 0.7509"
     ]
    },
    {
     "output_type": "stream",
     "name": "stdout",
     "text": [
      "\b\b\b\b\b\b\b\b\b\b\b\b\b\b\b\b\b\b\b\b\b\b\b\b\b\b\b\b\b\b\b\b\b\b\b\b\b\b\b\b\b\b\b\b\b\b\b\b\b\b\b\b\b\b\b\b\b\b\b\b\b\b\b\b\b\b\b\b\b\b\b\b\b\b\b\b\b\b\b\b\b\b\b\b\b\b"
     ]
    },
    {
     "output_type": "stream",
     "name": "stdout",
     "text": [
      "\r"
     ]
    },
    {
     "output_type": "stream",
     "name": "stdout",
     "text": [
      " 315/1875 [====>.........................]"
     ]
    },
    {
     "output_type": "stream",
     "name": "stdout",
     "text": [
      " - ETA: 2s - loss: 0.7230 - accuracy: 0.7568"
     ]
    },
    {
     "output_type": "stream",
     "name": "stdout",
     "text": [
      "\b\b\b\b\b\b\b\b\b\b\b\b\b\b\b\b\b\b\b\b\b\b\b\b\b\b\b\b\b\b\b\b\b\b\b\b\b\b\b\b\b\b\b\b\b\b\b\b\b\b\b\b\b\b\b\b\b\b\b\b\b\b\b\b\b\b\b\b\b\b\b\b\b\b\b\b\b\b\b\b\b\b\b\b\b\b"
     ]
    },
    {
     "output_type": "stream",
     "name": "stdout",
     "text": [
      "\r"
     ]
    },
    {
     "output_type": "stream",
     "name": "stdout",
     "text": [
      " 350/1875 [====>.........................]"
     ]
    },
    {
     "output_type": "stream",
     "name": "stdout",
     "text": [
      " - ETA: 2s - loss: 0.7065 - accuracy: 0.7621"
     ]
    },
    {
     "output_type": "stream",
     "name": "stdout",
     "text": [
      "\b\b\b\b\b\b\b\b\b\b\b\b\b\b\b\b\b\b\b\b\b\b\b\b\b\b\b\b\b\b\b\b\b\b\b\b\b\b\b\b\b\b\b\b\b\b\b\b\b\b\b\b\b\b\b\b\b\b\b\b\b\b\b\b\b\b\b\b\b\b\b\b\b\b\b\b\b\b\b\b\b\b\b\b\b\b"
     ]
    },
    {
     "output_type": "stream",
     "name": "stdout",
     "text": [
      "\r"
     ]
    },
    {
     "output_type": "stream",
     "name": "stdout",
     "text": [
      " 385/1875 [=====>........................]"
     ]
    },
    {
     "output_type": "stream",
     "name": "stdout",
     "text": [
      " - ETA: 2s - loss: 0.6874 - accuracy: 0.7684"
     ]
    },
    {
     "output_type": "stream",
     "name": "stdout",
     "text": [
      "\b\b\b\b\b\b\b\b\b\b\b\b\b\b\b\b\b\b\b\b\b\b\b\b\b\b\b\b\b\b\b\b\b\b\b\b\b\b\b\b\b\b\b\b\b\b\b\b\b\b\b\b\b\b\b\b\b\b\b\b\b\b\b\b\b\b\b\b\b\b\b\b\b\b\b\b\b\b\b\b\b\b\b\b\b\b"
     ]
    },
    {
     "output_type": "stream",
     "name": "stdout",
     "text": [
      "\r"
     ]
    },
    {
     "output_type": "stream",
     "name": "stdout",
     "text": [
      " 420/1875 [=====>........................]"
     ]
    },
    {
     "output_type": "stream",
     "name": "stdout",
     "text": [
      " - ETA: 2s - loss: 0.6716 - accuracy: 0.7746"
     ]
    },
    {
     "output_type": "stream",
     "name": "stdout",
     "text": [
      "\b\b\b\b\b\b\b\b\b\b\b\b\b\b\b\b\b\b\b\b\b\b\b\b\b\b\b\b\b\b\b\b\b\b\b\b\b\b\b\b\b\b\b\b\b\b\b\b\b\b\b\b\b\b\b\b\b\b\b\b\b\b\b\b\b\b\b\b\b\b\b\b\b\b\b\b\b\b\b\b\b\b\b\b\b\b"
     ]
    },
    {
     "output_type": "stream",
     "name": "stdout",
     "text": [
      "\r"
     ]
    },
    {
     "output_type": "stream",
     "name": "stdout",
     "text": [
      " 455/1875 [======>.......................]"
     ]
    },
    {
     "output_type": "stream",
     "name": "stdout",
     "text": [
      " - ETA: 2s - loss: 0.6651 - accuracy: 0.7774"
     ]
    },
    {
     "output_type": "stream",
     "name": "stdout",
     "text": [
      "\b\b\b\b\b\b\b\b\b\b\b\b\b\b\b\b\b\b\b\b\b\b\b\b\b\b\b\b\b\b\b\b\b\b\b\b\b\b\b\b\b\b\b\b\b\b\b\b\b\b\b\b\b\b\b\b\b\b\b\b\b\b\b\b\b\b\b\b\b\b\b\b\b\b\b\b\b\b\b\b\b\b\b\b\b\b"
     ]
    },
    {
     "output_type": "stream",
     "name": "stdout",
     "text": [
      "\r"
     ]
    },
    {
     "output_type": "stream",
     "name": "stdout",
     "text": [
      " 489/1875 [======>.......................]"
     ]
    },
    {
     "output_type": "stream",
     "name": "stdout",
     "text": [
      " - ETA: 2s - loss: 0.6542 - accuracy: 0.7807"
     ]
    },
    {
     "output_type": "stream",
     "name": "stdout",
     "text": [
      "\b\b\b\b\b\b\b\b\b\b\b\b\b\b\b\b\b\b\b\b\b\b\b\b\b\b\b\b\b\b\b\b\b\b\b\b\b\b\b\b\b\b\b\b\b\b\b\b\b\b\b\b\b\b\b\b\b\b\b\b\b\b\b\b\b\b\b\b\b\b\b\b\b\b\b\b\b\b\b\b\b\b\b\b\b\b"
     ]
    },
    {
     "output_type": "stream",
     "name": "stdout",
     "text": [
      "\r"
     ]
    },
    {
     "output_type": "stream",
     "name": "stdout",
     "text": [
      " 524/1875 [=======>......................]"
     ]
    },
    {
     "output_type": "stream",
     "name": "stdout",
     "text": [
      " - ETA: 1s - loss: 0.6470 - accuracy: 0.7820"
     ]
    },
    {
     "output_type": "stream",
     "name": "stdout",
     "text": [
      "\b\b\b\b\b\b\b\b\b\b\b\b\b\b\b\b\b\b\b\b\b\b\b\b\b\b\b\b\b\b\b\b\b\b\b\b\b\b\b\b\b\b\b\b\b\b\b\b\b\b\b\b\b\b\b\b\b\b\b\b\b\b\b\b\b\b\b\b\b\b\b\b\b\b\b\b\b\b\b\b\b\b\b\b\b\b"
     ]
    },
    {
     "output_type": "stream",
     "name": "stdout",
     "text": [
      "\r"
     ]
    },
    {
     "output_type": "stream",
     "name": "stdout",
     "text": [
      " 559/1875 [=======>......................]"
     ]
    },
    {
     "output_type": "stream",
     "name": "stdout",
     "text": [
      " - ETA: 1s - loss: 0.6385 - accuracy: 0.7843"
     ]
    },
    {
     "output_type": "stream",
     "name": "stdout",
     "text": [
      "\b\b\b\b\b\b\b\b\b\b\b\b\b\b\b\b\b\b\b\b\b\b\b\b\b\b\b\b\b\b\b\b\b\b\b\b\b\b\b\b\b\b\b\b\b\b\b\b\b\b\b\b\b\b\b\b\b\b\b\b\b\b\b\b\b\b\b\b\b\b\b\b\b\b\b\b\b\b\b\b\b\b\b\b\b\b"
     ]
    },
    {
     "output_type": "stream",
     "name": "stdout",
     "text": [
      "\r"
     ]
    },
    {
     "output_type": "stream",
     "name": "stdout",
     "text": [
      " 593/1875 [========>.....................]"
     ]
    },
    {
     "output_type": "stream",
     "name": "stdout",
     "text": [
      " - ETA: 1s - loss: 0.6301 - accuracy: 0.7873"
     ]
    },
    {
     "output_type": "stream",
     "name": "stdout",
     "text": [
      "\b\b\b\b\b\b\b\b\b\b\b\b\b\b\b\b\b\b\b\b\b\b\b\b\b\b\b\b\b\b\b\b\b\b\b\b\b\b\b\b\b\b\b\b\b\b\b\b\b\b\b\b\b\b\b\b\b\b\b\b\b\b\b\b\b\b\b\b\b\b\b\b\b\b\b\b\b\b\b\b\b\b\b\b\b\b"
     ]
    },
    {
     "output_type": "stream",
     "name": "stdout",
     "text": [
      "\r"
     ]
    },
    {
     "output_type": "stream",
     "name": "stdout",
     "text": [
      " 627/1875 [=========>....................]"
     ]
    },
    {
     "output_type": "stream",
     "name": "stdout",
     "text": [
      " - ETA: 1s - loss: 0.6224 - accuracy: 0.7890"
     ]
    },
    {
     "output_type": "stream",
     "name": "stdout",
     "text": [
      "\b\b\b\b\b\b\b\b\b\b\b\b\b\b\b\b\b\b\b\b\b\b\b\b\b\b\b\b\b\b\b\b\b\b\b\b\b\b\b\b\b\b\b\b\b\b\b\b\b\b\b\b\b\b\b\b\b\b\b\b\b\b\b\b\b\b\b\b\b\b\b\b\b\b\b\b\b\b\b\b\b\b\b\b\b\b"
     ]
    },
    {
     "output_type": "stream",
     "name": "stdout",
     "text": [
      "\r"
     ]
    },
    {
     "output_type": "stream",
     "name": "stdout",
     "text": [
      " 662/1875 [=========>....................]"
     ]
    },
    {
     "output_type": "stream",
     "name": "stdout",
     "text": [
      " - ETA: 1s - loss: 0.6171 - accuracy: 0.7904"
     ]
    },
    {
     "output_type": "stream",
     "name": "stdout",
     "text": [
      "\b\b\b\b\b\b\b\b\b\b\b\b\b\b\b\b\b\b\b\b\b\b\b\b\b\b\b\b\b\b\b\b\b\b\b\b\b\b\b\b\b\b\b\b\b\b\b\b\b\b\b\b\b\b\b\b\b\b\b\b\b\b\b\b\b\b\b\b\b\b\b\b\b\b\b\b\b\b\b\b\b\b\b\b\b\b"
     ]
    },
    {
     "output_type": "stream",
     "name": "stdout",
     "text": [
      "\r"
     ]
    },
    {
     "output_type": "stream",
     "name": "stdout",
     "text": [
      " 697/1875 [==========>...................]"
     ]
    },
    {
     "output_type": "stream",
     "name": "stdout",
     "text": [
      " - ETA: 1s - loss: 0.6091 - accuracy: 0.7928"
     ]
    },
    {
     "output_type": "stream",
     "name": "stdout",
     "text": [
      "\b\b\b\b\b\b\b\b\b\b\b\b\b\b\b\b\b\b\b\b\b\b\b\b\b\b\b\b\b\b\b\b\b\b\b\b\b\b\b\b\b\b\b\b\b\b\b\b\b\b\b\b\b\b\b\b\b\b\b\b\b\b\b\b\b\b\b\b\b\b\b\b\b\b\b\b\b\b\b\b\b\b\b\b\b\b"
     ]
    },
    {
     "output_type": "stream",
     "name": "stdout",
     "text": [
      "\r"
     ]
    },
    {
     "output_type": "stream",
     "name": "stdout",
     "text": [
      " 732/1875 [==========>...................]"
     ]
    },
    {
     "output_type": "stream",
     "name": "stdout",
     "text": [
      " - ETA: 1s - loss: 0.6047 - accuracy: 0.7948"
     ]
    },
    {
     "output_type": "stream",
     "name": "stdout",
     "text": [
      "\b\b\b\b\b\b\b\b\b\b\b\b\b\b\b\b\b\b\b\b\b\b\b\b\b\b\b\b\b\b\b\b\b\b\b\b\b\b\b\b\b\b\b\b\b\b\b\b\b\b\b\b\b\b\b\b\b\b\b\b\b\b\b\b\b\b\b\b\b\b\b\b\b\b\b\b\b\b\b\b\b\b\b\b\b\b"
     ]
    },
    {
     "output_type": "stream",
     "name": "stdout",
     "text": [
      "\r"
     ]
    },
    {
     "output_type": "stream",
     "name": "stdout",
     "text": [
      " 768/1875 [===========>..................]"
     ]
    },
    {
     "output_type": "stream",
     "name": "stdout",
     "text": [
      " - ETA: 1s - loss: 0.5981 - accuracy: 0.7969"
     ]
    },
    {
     "output_type": "stream",
     "name": "stdout",
     "text": [
      "\b\b\b\b\b\b\b\b\b\b\b\b\b\b\b\b\b\b\b\b\b\b\b\b\b\b\b\b\b\b\b\b\b\b\b\b\b\b\b\b\b\b\b\b\b\b\b\b\b\b\b\b\b\b\b\b\b\b\b\b\b\b\b\b\b\b\b\b\b\b\b\b\b\b\b\b\b\b\b\b\b\b\b\b\b\b"
     ]
    },
    {
     "output_type": "stream",
     "name": "stdout",
     "text": [
      "\r"
     ]
    },
    {
     "output_type": "stream",
     "name": "stdout",
     "text": [
      " 803/1875 [===========>..................]"
     ]
    },
    {
     "output_type": "stream",
     "name": "stdout",
     "text": [
      " - ETA: 1s - loss: 0.5929 - accuracy: 0.7985"
     ]
    },
    {
     "output_type": "stream",
     "name": "stdout",
     "text": [
      "\b\b\b\b\b\b\b\b\b\b\b\b\b\b\b\b\b\b\b\b\b\b\b\b\b\b\b\b\b\b\b\b\b\b\b\b\b\b\b\b\b\b\b\b\b\b\b\b\b\b\b\b\b\b\b\b\b\b\b\b\b\b\b\b\b\b\b\b\b\b\b\b\b\b\b\b\b\b\b\b\b\b\b\b\b\b"
     ]
    },
    {
     "output_type": "stream",
     "name": "stdout",
     "text": [
      "\r"
     ]
    },
    {
     "output_type": "stream",
     "name": "stdout",
     "text": [
      " 839/1875 [============>.................]"
     ]
    },
    {
     "output_type": "stream",
     "name": "stdout",
     "text": [
      " - ETA: 1s - loss: 0.5873 - accuracy: 0.8006"
     ]
    },
    {
     "output_type": "stream",
     "name": "stdout",
     "text": [
      "\b\b\b\b\b\b\b\b\b\b\b\b\b\b\b\b\b\b\b\b\b\b\b\b\b\b\b\b\b\b\b\b\b\b\b\b\b\b\b\b\b\b\b\b\b\b\b\b\b\b\b\b\b\b\b\b\b\b\b\b\b\b\b\b\b\b\b\b\b\b\b\b\b\b\b\b\b\b\b\b\b\b\b\b\b\b"
     ]
    },
    {
     "output_type": "stream",
     "name": "stdout",
     "text": [
      "\r"
     ]
    },
    {
     "output_type": "stream",
     "name": "stdout",
     "text": [
      " 874/1875 [============>.................]"
     ]
    },
    {
     "output_type": "stream",
     "name": "stdout",
     "text": [
      " - ETA: 1s - loss: 0.5834 - accuracy: 0.8015"
     ]
    },
    {
     "output_type": "stream",
     "name": "stdout",
     "text": [
      "\b\b\b\b\b\b\b\b\b\b\b\b\b\b\b\b\b\b\b\b\b\b\b\b\b\b\b\b\b\b\b\b\b\b\b\b\b\b\b\b\b\b\b\b\b\b\b\b\b\b\b\b\b\b\b\b\b\b\b\b\b\b\b\b\b\b\b\b\b\b\b\b\b\b\b\b\b\b\b\b\b\b\b\b\b\b"
     ]
    },
    {
     "output_type": "stream",
     "name": "stdout",
     "text": [
      "\r"
     ]
    },
    {
     "output_type": "stream",
     "name": "stdout",
     "text": [
      " 911/1875 [=============>................]"
     ]
    },
    {
     "output_type": "stream",
     "name": "stdout",
     "text": [
      " - ETA: 1s - loss: 0.5757 - accuracy: 0.8040"
     ]
    }
   ],
   "metadata": {
    "id": "dSBQcTHF9cKt"
   }
  },
  {
   "cell_type": "markdown",
   "source": [
    "To finish this tutorial, retrain the model with the optimal hyperparameters from the search."
   ],
   "metadata": {
    "id": "Lak_ylf88xBv"
   }
  },
  {
   "cell_type": "code",
   "execution_count": 10,
   "source": [
    "# Build the model with the optimal hyperparameters and train it on the data\n",
    "model = tuner.hypermodel.build(best_hps)\n",
    "model.fit(img_train, label_train, epochs = 10, validation_data = (img_test, label_test))"
   ],
   "outputs": [
    {
     "output_type": "stream",
     "name": "stdout",
     "text": [
      "Epoch 1/10"
     ]
    },
    {
     "output_type": "stream",
     "name": "stdout",
     "text": [
      "\n"
     ]
    },
    {
     "output_type": "stream",
     "name": "stdout",
     "text": [
      "\r"
     ]
    },
    {
     "output_type": "stream",
     "name": "stdout",
     "text": [
      "   1/1875 [..............................]"
     ]
    },
    {
     "output_type": "stream",
     "name": "stdout",
     "text": [
      " - ETA: 0s - loss: 2.4916 - accuracy: 0.1562"
     ]
    },
    {
     "output_type": "stream",
     "name": "stdout",
     "text": [
      "\b\b\b\b\b\b\b\b\b\b\b\b\b\b\b\b\b\b\b\b\b\b\b\b\b\b\b\b\b\b\b\b\b\b\b\b\b\b\b\b\b\b\b\b\b\b\b\b\b\b\b\b\b\b\b\b\b\b\b\b\b\b\b\b\b\b\b\b\b\b\b\b\b\b\b\b\b\b\b\b\b\b\b\b\b\b"
     ]
    },
    {
     "output_type": "stream",
     "name": "stdout",
     "text": [
      "\r"
     ]
    },
    {
     "output_type": "stream",
     "name": "stdout",
     "text": [
      "  36/1875 [..............................]"
     ]
    },
    {
     "output_type": "stream",
     "name": "stdout",
     "text": [
      " - ETA: 2s - loss: 1.1267 - accuracy: 0.6024"
     ]
    },
    {
     "output_type": "stream",
     "name": "stdout",
     "text": [
      "\b\b\b\b\b\b\b\b\b\b\b\b\b\b\b\b\b\b\b\b\b\b\b\b\b\b\b\b\b\b\b\b\b\b\b\b\b\b\b\b\b\b\b\b\b\b\b\b\b\b\b\b\b\b\b\b\b\b\b\b\b\b\b\b\b\b\b\b\b\b\b\b\b\b\b\b\b\b\b\b\b\b\b\b\b\b"
     ]
    },
    {
     "output_type": "stream",
     "name": "stdout",
     "text": [
      "\r"
     ]
    },
    {
     "output_type": "stream",
     "name": "stdout",
     "text": [
      "  72/1875 [>.............................]"
     ]
    },
    {
     "output_type": "stream",
     "name": "stdout",
     "text": [
      " - ETA: 2s - loss: 0.9765 - accuracy: 0.6532"
     ]
    },
    {
     "output_type": "stream",
     "name": "stdout",
     "text": [
      "\b\b\b\b\b\b\b\b\b\b\b\b\b\b\b\b\b\b\b\b\b\b\b\b\b\b\b\b\b\b\b\b\b\b\b\b\b\b\b\b\b\b\b\b\b\b\b\b\b\b\b\b\b\b\b\b\b\b\b\b\b\b\b\b\b\b\b\b\b\b\b\b\b\b\b\b\b\b\b\b\b\b\b\b\b\b"
     ]
    },
    {
     "output_type": "stream",
     "name": "stdout",
     "text": [
      "\r"
     ]
    },
    {
     "output_type": "stream",
     "name": "stdout",
     "text": [
      " 108/1875 [>.............................]"
     ]
    },
    {
     "output_type": "stream",
     "name": "stdout",
     "text": [
      " - ETA: 2s - loss: 0.8900 - accuracy: 0.6881"
     ]
    },
    {
     "output_type": "stream",
     "name": "stdout",
     "text": [
      "\b\b\b\b\b\b\b\b\b\b\b\b\b\b\b\b\b\b\b\b\b\b\b\b\b\b\b\b\b\b\b\b\b\b\b\b\b\b\b\b\b\b\b\b\b\b\b\b\b\b\b\b\b\b\b\b\b\b\b\b\b\b\b\b\b\b\b\b\b\b\b\b\b\b\b\b\b\b\b\b\b\b\b\b\b\b"
     ]
    },
    {
     "output_type": "stream",
     "name": "stdout",
     "text": [
      "\r"
     ]
    },
    {
     "output_type": "stream",
     "name": "stdout",
     "text": [
      " 144/1875 [=>............................]"
     ]
    },
    {
     "output_type": "stream",
     "name": "stdout",
     "text": [
      " - ETA: 2s - loss: 0.8266 - accuracy: 0.7129"
     ]
    },
    {
     "output_type": "stream",
     "name": "stdout",
     "text": [
      "\b\b\b\b\b\b\b\b\b\b\b\b\b\b\b\b\b\b\b\b\b\b\b\b\b\b\b\b\b\b\b\b\b\b\b\b\b\b\b\b\b\b\b\b\b\b\b\b\b\b\b\b\b\b\b\b\b\b\b\b\b\b\b\b\b\b\b\b\b\b\b\b\b\b\b\b\b\b\b\b\b\b\b\b\b\b"
     ]
    },
    {
     "output_type": "stream",
     "name": "stdout",
     "text": [
      "\r"
     ]
    },
    {
     "output_type": "stream",
     "name": "stdout",
     "text": [
      " 180/1875 [=>............................]"
     ]
    },
    {
     "output_type": "stream",
     "name": "stdout",
     "text": [
      " - ETA: 2s - loss: 0.7821 - accuracy: 0.7281"
     ]
    },
    {
     "output_type": "stream",
     "name": "stdout",
     "text": [
      "\b\b\b\b\b\b\b\b\b\b\b\b\b\b\b\b\b\b\b\b\b\b\b\b\b\b\b\b\b\b\b\b\b\b\b\b\b\b\b\b\b\b\b\b\b\b\b\b\b\b\b\b\b\b\b\b\b\b\b\b\b\b\b\b\b\b\b\b\b\b\b\b\b\b\b\b\b\b\b\b\b\b\b\b\b\b"
     ]
    },
    {
     "output_type": "stream",
     "name": "stdout",
     "text": [
      "\r"
     ]
    },
    {
     "output_type": "stream",
     "name": "stdout",
     "text": [
      " 216/1875 [==>...........................]"
     ]
    },
    {
     "output_type": "stream",
     "name": "stdout",
     "text": [
      " - ETA: 2s - loss: 0.7460 - accuracy: 0.7418"
     ]
    },
    {
     "output_type": "stream",
     "name": "stdout",
     "text": [
      "\b\b\b\b\b\b\b\b\b\b\b\b\b\b\b\b\b\b\b\b\b\b\b\b\b\b\b\b\b\b\b\b\b\b\b\b\b\b\b\b\b\b\b\b\b\b\b\b\b\b\b\b\b\b\b\b\b\b\b\b\b\b\b\b\b\b\b\b\b\b\b\b\b\b\b\b\b\b\b\b\b\b\b\b\b\b"
     ]
    },
    {
     "output_type": "stream",
     "name": "stdout",
     "text": [
      "\r"
     ]
    },
    {
     "output_type": "stream",
     "name": "stdout",
     "text": [
      " 252/1875 [===>..........................]"
     ]
    },
    {
     "output_type": "stream",
     "name": "stdout",
     "text": [
      " - ETA: 2s - loss: 0.7214 - accuracy: 0.7495"
     ]
    },
    {
     "output_type": "stream",
     "name": "stdout",
     "text": [
      "\b\b\b\b\b\b\b\b\b\b\b\b\b\b\b\b\b\b\b\b\b\b\b\b\b\b\b\b\b\b\b\b\b\b\b\b\b\b\b\b\b\b\b\b\b\b\b\b\b\b\b\b\b\b\b\b\b\b\b\b\b\b\b\b\b\b\b\b\b\b\b\b\b\b\b\b\b\b\b\b\b\b\b\b\b\b"
     ]
    },
    {
     "output_type": "stream",
     "name": "stdout",
     "text": [
      "\r"
     ]
    },
    {
     "output_type": "stream",
     "name": "stdout",
     "text": [
      " 288/1875 [===>..........................]"
     ]
    },
    {
     "output_type": "stream",
     "name": "stdout",
     "text": [
      " - ETA: 2s - loss: 0.6988 - accuracy: 0.7559"
     ]
    },
    {
     "output_type": "stream",
     "name": "stdout",
     "text": [
      "\b\b\b\b\b\b\b\b\b\b\b\b\b\b\b\b\b\b\b\b\b\b\b\b\b\b\b\b\b\b\b\b\b\b\b\b\b\b\b\b\b\b\b\b\b\b\b\b\b\b\b\b\b\b\b\b\b\b\b\b\b\b\b\b\b\b\b\b\b\b\b\b\b\b\b\b\b\b\b\b\b\b\b\b\b\b"
     ]
    },
    {
     "output_type": "stream",
     "name": "stdout",
     "text": [
      "\r"
     ]
    },
    {
     "output_type": "stream",
     "name": "stdout",
     "text": [
      " 324/1875 [====>.........................]"
     ]
    },
    {
     "output_type": "stream",
     "name": "stdout",
     "text": [
      " - ETA: 2s - loss: 0.6790 - accuracy: 0.7622"
     ]
    },
    {
     "output_type": "stream",
     "name": "stdout",
     "text": [
      "\b\b\b\b\b\b\b\b\b\b\b\b\b\b\b\b\b\b\b\b\b\b\b\b\b\b\b\b\b\b\b\b\b\b\b\b\b\b\b\b\b\b\b\b\b\b\b\b\b\b\b\b\b\b\b\b\b\b\b\b\b\b\b\b\b\b\b\b\b\b\b\b\b\b\b\b\b\b\b\b\b\b\b\b\b\b"
     ]
    },
    {
     "output_type": "stream",
     "name": "stdout",
     "text": [
      "\r"
     ]
    },
    {
     "output_type": "stream",
     "name": "stdout",
     "text": [
      " 358/1875 [====>.........................]"
     ]
    },
    {
     "output_type": "stream",
     "name": "stdout",
     "text": [
      " - ETA: 2s - loss: 0.6650 - accuracy: 0.7661"
     ]
    },
    {
     "output_type": "stream",
     "name": "stdout",
     "text": [
      "\b\b\b\b\b\b\b\b\b\b\b\b\b\b\b\b\b\b\b\b\b\b\b\b\b\b\b\b\b\b\b\b\b\b\b\b\b\b\b\b\b\b\b\b\b\b\b\b\b\b\b\b\b\b\b\b\b\b\b\b\b\b\b\b\b\b\b\b\b\b\b\b\b\b\b\b\b\b\b\b\b\b\b\b\b\b"
     ]
    },
    {
     "output_type": "stream",
     "name": "stdout",
     "text": [
      "\r"
     ]
    },
    {
     "output_type": "stream",
     "name": "stdout",
     "text": [
      " 394/1875 [=====>........................]"
     ]
    },
    {
     "output_type": "stream",
     "name": "stdout",
     "text": [
      " - ETA: 2s - loss: 0.6467 - accuracy: 0.7728"
     ]
    },
    {
     "output_type": "stream",
     "name": "stdout",
     "text": [
      "\b\b\b\b\b\b\b\b\b\b\b\b\b\b\b\b\b\b\b\b\b\b\b\b\b\b\b\b\b\b\b\b\b\b\b\b\b\b\b\b\b\b\b\b\b\b\b\b\b\b\b\b\b\b\b\b\b\b\b\b\b\b\b\b\b\b\b\b\b\b\b\b\b\b\b\b\b\b\b\b\b\b\b\b\b\b"
     ]
    },
    {
     "output_type": "stream",
     "name": "stdout",
     "text": [
      "\r"
     ]
    },
    {
     "output_type": "stream",
     "name": "stdout",
     "text": [
      " 429/1875 [=====>........................]"
     ]
    },
    {
     "output_type": "stream",
     "name": "stdout",
     "text": [
      " - ETA: 2s - loss: 0.6371 - accuracy: 0.7759"
     ]
    },
    {
     "output_type": "stream",
     "name": "stdout",
     "text": [
      "\b\b\b\b\b\b\b\b\b\b\b\b\b\b\b\b\b\b\b\b\b\b\b\b\b\b\b\b\b\b\b\b\b\b\b\b\b\b\b\b\b\b\b\b\b\b\b\b\b\b\b\b\b\b\b\b\b\b\b\b\b\b\b\b\b\b\b\b\b\b\b\b\b\b\b\b\b\b\b\b\b\b\b\b\b\b"
     ]
    },
    {
     "output_type": "stream",
     "name": "stdout",
     "text": [
      "\r"
     ]
    },
    {
     "output_type": "stream",
     "name": "stdout",
     "text": [
      " 465/1875 [======>.......................]"
     ]
    },
    {
     "output_type": "stream",
     "name": "stdout",
     "text": [
      " - ETA: 1s - loss: 0.6249 - accuracy: 0.7798"
     ]
    },
    {
     "output_type": "stream",
     "name": "stdout",
     "text": [
      "\b\b\b\b\b\b\b\b\b\b\b\b\b\b\b\b\b\b\b\b\b\b\b\b\b\b\b\b\b\b\b\b\b\b\b\b\b\b\b\b\b\b\b\b\b\b\b\b\b\b\b\b\b\b\b\b\b\b\b\b\b\b\b\b\b\b\b\b\b\b\b\b\b\b\b\b\b\b\b\b\b\b\b\b\b\b"
     ]
    },
    {
     "output_type": "stream",
     "name": "stdout",
     "text": [
      "\r"
     ]
    },
    {
     "output_type": "stream",
     "name": "stdout",
     "text": [
      " 500/1875 [=======>......................]"
     ]
    },
    {
     "output_type": "stream",
     "name": "stdout",
     "text": [
      " - ETA: 1s - loss: 0.6135 - accuracy: 0.7839"
     ]
    },
    {
     "output_type": "stream",
     "name": "stdout",
     "text": [
      "\b\b\b\b\b\b\b\b\b\b\b\b\b\b\b\b\b\b\b\b\b\b\b\b\b\b\b\b\b\b\b\b\b\b\b\b\b\b\b\b\b\b\b\b\b\b\b\b\b\b\b\b\b\b\b\b\b\b\b\b\b\b\b\b\b\b\b\b\b\b\b\b\b\b\b\b\b\b\b\b\b\b\b\b\b\b"
     ]
    },
    {
     "output_type": "stream",
     "name": "stdout",
     "text": [
      "\r"
     ]
    },
    {
     "output_type": "stream",
     "name": "stdout",
     "text": [
      " 535/1875 [=======>......................]"
     ]
    },
    {
     "output_type": "stream",
     "name": "stdout",
     "text": [
      " - ETA: 1s - loss: 0.6060 - accuracy: 0.7874"
     ]
    },
    {
     "output_type": "stream",
     "name": "stdout",
     "text": [
      "\b\b\b\b\b\b\b\b\b\b\b\b\b\b\b\b\b\b\b\b\b\b\b\b\b\b\b\b\b\b\b\b\b\b\b\b\b\b\b\b\b\b\b\b\b\b\b\b\b\b\b\b\b\b\b\b\b\b\b\b\b\b\b\b\b\b\b\b\b\b\b\b\b\b\b\b\b\b\b\b\b\b\b\b\b\b"
     ]
    },
    {
     "output_type": "stream",
     "name": "stdout",
     "text": [
      "\r"
     ]
    },
    {
     "output_type": "stream",
     "name": "stdout",
     "text": [
      " 570/1875 [========>.....................]"
     ]
    },
    {
     "output_type": "stream",
     "name": "stdout",
     "text": [
      " - ETA: 1s - loss: 0.5961 - accuracy: 0.7912"
     ]
    },
    {
     "output_type": "stream",
     "name": "stdout",
     "text": [
      "\b\b\b\b\b\b\b\b\b\b\b\b\b\b\b\b\b\b\b\b\b\b\b\b\b\b\b\b\b\b\b\b\b\b\b\b\b\b\b\b\b\b\b\b\b\b\b\b\b\b\b\b\b\b\b\b\b\b\b\b\b\b\b\b\b\b\b\b\b\b\b\b\b\b\b\b\b\b\b\b\b\b\b\b\b\b"
     ]
    },
    {
     "output_type": "stream",
     "name": "stdout",
     "text": [
      "\r"
     ]
    },
    {
     "output_type": "stream",
     "name": "stdout",
     "text": [
      " 606/1875 [========>.....................]"
     ]
    },
    {
     "output_type": "stream",
     "name": "stdout",
     "text": [
      " - ETA: 1s - loss: 0.5897 - accuracy: 0.7932"
     ]
    },
    {
     "output_type": "stream",
     "name": "stdout",
     "text": [
      "\b\b\b\b\b\b\b\b\b\b\b\b\b\b\b\b\b\b\b\b\b\b\b\b\b\b\b\b\b\b\b\b\b\b\b\b\b\b\b\b\b\b\b\b\b\b\b\b\b\b\b\b\b\b\b\b\b\b\b\b\b\b\b\b\b\b\b\b\b\b\b\b\b\b\b\b\b\b\b\b\b\b\b\b\b\b"
     ]
    },
    {
     "output_type": "stream",
     "name": "stdout",
     "text": [
      "\r"
     ]
    },
    {
     "output_type": "stream",
     "name": "stdout",
     "text": [
      " 641/1875 [=========>....................]"
     ]
    },
    {
     "output_type": "stream",
     "name": "stdout",
     "text": [
      " - ETA: 1s - loss: 0.5832 - accuracy: 0.7953"
     ]
    },
    {
     "output_type": "stream",
     "name": "stdout",
     "text": [
      "\b\b\b\b\b\b\b\b\b\b\b\b\b\b\b\b\b\b\b\b\b\b\b\b\b\b\b\b\b\b\b\b\b\b\b\b\b\b\b\b\b\b\b\b\b\b\b\b\b\b\b\b\b\b\b\b\b\b\b\b\b\b\b\b\b\b\b\b\b\b\b\b\b\b\b\b\b\b\b\b\b\b\b\b\b\b"
     ]
    },
    {
     "output_type": "stream",
     "name": "stdout",
     "text": [
      "\r"
     ]
    },
    {
     "output_type": "stream",
     "name": "stdout",
     "text": [
      " 675/1875 [=========>....................]"
     ]
    },
    {
     "output_type": "stream",
     "name": "stdout",
     "text": [
      " - ETA: 1s - loss: 0.5790 - accuracy: 0.7966"
     ]
    },
    {
     "output_type": "stream",
     "name": "stdout",
     "text": [
      "\b\b\b\b\b\b\b\b\b\b\b\b\b\b\b\b\b\b\b\b\b\b\b\b\b\b\b\b\b\b\b\b\b\b\b\b\b\b\b\b\b\b\b\b\b\b\b\b\b\b\b\b\b\b\b\b\b\b\b\b\b\b\b\b\b\b\b\b\b\b\b\b\b\b\b\b\b\b\b\b\b\b\b\b\b\b"
     ]
    },
    {
     "output_type": "stream",
     "name": "stdout",
     "text": [
      "\r"
     ]
    },
    {
     "output_type": "stream",
     "name": "stdout",
     "text": [
      " 710/1875 [==========>...................]"
     ]
    },
    {
     "output_type": "stream",
     "name": "stdout",
     "text": [
      " - ETA: 1s - loss: 0.5748 - accuracy: 0.7978"
     ]
    },
    {
     "output_type": "stream",
     "name": "stdout",
     "text": [
      "\b\b\b\b\b\b\b\b\b\b\b\b\b\b\b\b\b\b\b\b\b\b\b\b\b\b\b\b\b\b\b\b\b\b\b\b\b\b\b\b\b\b\b\b\b\b\b\b\b\b\b\b\b\b\b\b\b\b\b\b\b\b\b\b\b\b\b\b\b\b\b\b\b\b\b\b\b\b\b\b\b\b\b\b\b\b"
     ]
    },
    {
     "output_type": "stream",
     "name": "stdout",
     "text": [
      "\r"
     ]
    },
    {
     "output_type": "stream",
     "name": "stdout",
     "text": [
      " 745/1875 [==========>...................]"
     ]
    },
    {
     "output_type": "stream",
     "name": "stdout",
     "text": [
      " - ETA: 1s - loss: 0.5690 - accuracy: 0.7997"
     ]
    },
    {
     "output_type": "stream",
     "name": "stdout",
     "text": [
      "\b\b\b\b\b\b\b\b\b\b\b\b\b\b\b\b\b\b\b\b\b\b\b\b\b\b\b\b\b\b\b\b\b\b\b\b\b\b\b\b\b\b\b\b\b\b\b\b\b\b\b\b\b\b\b\b\b\b\b\b\b\b\b\b\b\b\b\b\b\b\b\b\b\b\b\b\b\b\b\b\b\b\b\b\b\b"
     ]
    },
    {
     "output_type": "stream",
     "name": "stdout",
     "text": [
      "\r"
     ]
    },
    {
     "output_type": "stream",
     "name": "stdout",
     "text": [
      " 780/1875 [===========>..................]"
     ]
    },
    {
     "output_type": "stream",
     "name": "stdout",
     "text": [
      " - ETA: 1s - loss: 0.5631 - accuracy: 0.8018"
     ]
    },
    {
     "output_type": "stream",
     "name": "stdout",
     "text": [
      "\b\b\b\b\b\b\b\b\b\b\b\b\b\b\b\b\b\b\b\b\b\b\b\b\b\b\b\b\b\b\b\b\b\b\b\b\b\b\b\b\b\b\b\b\b\b\b\b\b\b\b\b\b\b\b\b\b\b\b\b\b\b\b\b\b\b\b\b\b\b\b\b\b\b\b\b\b\b\b\b\b\b\b\b\b\b"
     ]
    },
    {
     "output_type": "stream",
     "name": "stdout",
     "text": [
      "\r"
     ]
    },
    {
     "output_type": "stream",
     "name": "stdout",
     "text": [
      " 814/1875 [============>.................]"
     ]
    },
    {
     "output_type": "stream",
     "name": "stdout",
     "text": [
      " - ETA: 1s - loss: 0.5604 - accuracy: 0.8026"
     ]
    },
    {
     "output_type": "stream",
     "name": "stdout",
     "text": [
      "\b\b\b\b\b\b\b\b\b\b\b\b\b\b\b\b\b\b\b\b\b\b\b\b\b\b\b\b\b\b\b\b\b\b\b\b\b\b\b\b\b\b\b\b\b\b\b\b\b\b\b\b\b\b\b\b\b\b\b\b\b\b\b\b\b\b\b\b\b\b\b\b\b\b\b\b\b\b\b\b\b\b\b\b\b\b"
     ]
    },
    {
     "output_type": "stream",
     "name": "stdout",
     "text": [
      "\r"
     ]
    },
    {
     "output_type": "stream",
     "name": "stdout",
     "text": [
      " 849/1875 [============>.................]"
     ]
    },
    {
     "output_type": "stream",
     "name": "stdout",
     "text": [
      " - ETA: 1s - loss: 0.5554 - accuracy: 0.8048"
     ]
    },
    {
     "output_type": "stream",
     "name": "stdout",
     "text": [
      "\b\b\b\b\b\b\b\b\b\b\b\b\b\b\b\b\b\b\b\b\b\b\b\b\b\b\b\b\b\b\b\b\b\b\b\b\b\b\b\b\b\b\b\b\b\b\b\b\b\b\b\b\b\b\b\b\b\b\b\b\b\b\b\b\b\b\b\b\b\b\b\b\b\b\b\b\b\b\b\b\b\b\b\b\b\b"
     ]
    },
    {
     "output_type": "stream",
     "name": "stdout",
     "text": [
      "\r"
     ]
    },
    {
     "output_type": "stream",
     "name": "stdout",
     "text": [
      " 884/1875 [=============>................]"
     ]
    },
    {
     "output_type": "stream",
     "name": "stdout",
     "text": [
      " - ETA: 1s - loss: 0.5510 - accuracy: 0.8060"
     ]
    },
    {
     "output_type": "stream",
     "name": "stdout",
     "text": [
      "\b\b\b\b\b\b\b\b\b\b\b\b\b\b\b\b\b\b\b\b\b\b\b\b\b\b\b\b\b\b\b\b\b\b\b\b\b\b\b\b\b\b\b\b\b\b\b\b\b\b\b\b\b\b\b\b\b\b\b\b\b\b\b\b\b\b\b\b\b\b\b\b\b\b\b\b\b\b\b\b\b\b\b\b\b\b"
     ]
    },
    {
     "output_type": "stream",
     "name": "stdout",
     "text": [
      "\r"
     ]
    },
    {
     "output_type": "stream",
     "name": "stdout",
     "text": [
      " 918/1875 [=============>................]"
     ]
    },
    {
     "output_type": "stream",
     "name": "stdout",
     "text": [
      " - ETA: 1s - loss: 0.5485 - accuracy: 0.8070"
     ]
    },
    {
     "output_type": "stream",
     "name": "stdout",
     "text": [
      "\b\b\b\b\b\b\b\b\b\b\b\b\b\b\b\b\b\b\b\b\b\b\b\b\b\b\b\b\b\b\b\b\b\b\b\b\b\b\b\b\b\b\b\b\b\b\b\b\b\b\b\b\b\b\b\b\b\b\b\b\b\b\b\b\b\b\b\b\b\b\b\b\b\b\b\b\b\b\b\b\b\b\b\b\b\b"
     ]
    },
    {
     "output_type": "stream",
     "name": "stdout",
     "text": [
      "\r"
     ]
    },
    {
     "output_type": "stream",
     "name": "stdout",
     "text": [
      " 952/1875 [==============>...............]"
     ]
    },
    {
     "output_type": "stream",
     "name": "stdout",
     "text": [
      " - ETA: 1s - loss: 0.5437 - accuracy: 0.8087"
     ]
    },
    {
     "output_type": "stream",
     "name": "stdout",
     "text": [
      "\b\b\b\b\b\b\b\b\b\b\b\b\b\b\b\b\b\b\b\b\b\b\b\b\b\b\b\b\b\b\b\b\b\b\b\b\b\b\b\b\b\b\b\b\b\b\b\b\b\b\b\b\b\b\b\b\b\b\b\b\b\b\b\b\b\b\b\b\b\b\b\b\b\b\b\b\b\b\b\b\b\b\b\b\b\b"
     ]
    },
    {
     "output_type": "stream",
     "name": "stdout",
     "text": [
      "\r"
     ]
    },
    {
     "output_type": "stream",
     "name": "stdout",
     "text": [
      " 987/1875 [==============>...............]"
     ]
    },
    {
     "output_type": "stream",
     "name": "stdout",
     "text": [
      " - ETA: 1s - loss: 0.5390 - accuracy: 0.8102"
     ]
    },
    {
     "output_type": "stream",
     "name": "stdout",
     "text": [
      "\b\b\b\b\b\b\b\b\b\b\b\b\b\b\b\b\b\b\b\b\b\b\b\b\b\b\b\b\b\b\b\b\b\b\b\b\b\b\b\b\b\b\b\b\b\b\b\b\b\b\b\b\b\b\b\b\b\b\b\b\b\b\b\b\b\b\b\b\b\b\b\b\b\b\b\b\b\b\b\b\b\b\b\b\b\b"
     ]
    },
    {
     "output_type": "stream",
     "name": "stdout",
     "text": [
      "\r"
     ]
    },
    {
     "output_type": "stream",
     "name": "stdout",
     "text": [
      "1022/1875 [===============>..............]"
     ]
    },
    {
     "output_type": "stream",
     "name": "stdout",
     "text": [
      " - ETA: 1s - loss: 0.5364 - accuracy: 0.8111"
     ]
    },
    {
     "output_type": "stream",
     "name": "stdout",
     "text": [
      "\b\b\b\b\b\b\b\b\b\b\b\b\b\b\b\b\b\b\b\b\b\b\b\b\b\b\b\b\b\b\b\b\b\b\b\b\b\b\b\b\b\b\b\b\b\b\b\b\b\b\b\b\b\b\b\b\b\b\b\b\b\b\b\b\b\b\b\b\b\b\b\b\b\b\b\b\b\b\b\b\b\b\b\b\b\b"
     ]
    },
    {
     "output_type": "stream",
     "name": "stdout",
     "text": [
      "\r"
     ]
    },
    {
     "output_type": "stream",
     "name": "stdout",
     "text": [
      "1057/1875 [===============>..............]"
     ]
    },
    {
     "output_type": "stream",
     "name": "stdout",
     "text": [
      " - ETA: 1s - loss: 0.5334 - accuracy: 0.8121"
     ]
    },
    {
     "output_type": "stream",
     "name": "stdout",
     "text": [
      "\b\b\b\b\b\b\b\b\b\b\b\b\b\b\b\b\b\b\b\b\b\b\b\b\b\b\b\b\b\b\b\b\b\b\b\b\b\b\b\b\b\b\b\b\b\b\b\b\b\b\b\b\b\b\b\b\b\b\b\b\b\b\b\b\b\b\b\b\b\b\b\b\b\b\b\b\b\b\b\b\b\b\b\b\b\b"
     ]
    },
    {
     "output_type": "stream",
     "name": "stdout",
     "text": [
      "\r"
     ]
    },
    {
     "output_type": "stream",
     "name": "stdout",
     "text": [
      "1092/1875 [================>.............]"
     ]
    },
    {
     "output_type": "stream",
     "name": "stdout",
     "text": [
      " - ETA: 1s - loss: 0.5304 - accuracy: 0.8128"
     ]
    },
    {
     "output_type": "stream",
     "name": "stdout",
     "text": [
      "\b\b\b\b\b\b\b\b\b\b\b\b\b\b\b\b\b\b\b\b\b\b\b\b\b\b\b\b\b\b\b\b\b\b\b\b\b\b\b\b\b\b\b\b\b\b\b\b\b\b\b\b\b\b\b\b\b\b\b\b\b\b\b\b\b\b\b\b\b\b\b\b\b\b\b\b\b\b\b\b\b\b\b\b\b\b"
     ]
    },
    {
     "output_type": "stream",
     "name": "stdout",
     "text": [
      "\r"
     ]
    },
    {
     "output_type": "stream",
     "name": "stdout",
     "text": [
      "1127/1875 [=================>............]"
     ]
    },
    {
     "output_type": "stream",
     "name": "stdout",
     "text": [
      " - ETA: 1s - loss: 0.5286 - accuracy: 0.8136"
     ]
    },
    {
     "output_type": "stream",
     "name": "stdout",
     "text": [
      "\b\b\b\b\b\b\b\b\b\b\b\b\b\b\b\b\b\b\b\b\b\b\b\b\b\b\b\b\b\b\b\b\b\b\b\b\b\b\b\b\b\b\b\b\b\b\b\b\b\b\b\b\b\b\b\b\b\b\b\b\b\b\b\b\b\b\b\b\b\b\b\b\b\b\b\b\b\b\b\b\b\b\b\b\b\b"
     ]
    },
    {
     "output_type": "stream",
     "name": "stdout",
     "text": [
      "\r"
     ]
    },
    {
     "output_type": "stream",
     "name": "stdout",
     "text": [
      "1162/1875 [=================>............]"
     ]
    },
    {
     "output_type": "stream",
     "name": "stdout",
     "text": [
      " - ETA: 1s - loss: 0.5247 - accuracy: 0.8149"
     ]
    },
    {
     "output_type": "stream",
     "name": "stdout",
     "text": [
      "\b\b\b\b\b\b\b\b\b\b\b\b\b\b\b\b\b\b\b\b\b\b\b\b\b\b\b\b\b\b\b\b\b\b\b\b\b\b\b\b\b\b\b\b\b\b\b\b\b\b\b\b\b\b\b\b\b\b\b\b\b\b\b\b\b\b\b\b\b\b\b\b\b\b\b\b\b\b\b\b\b\b\b\b\b\b"
     ]
    },
    {
     "output_type": "stream",
     "name": "stdout",
     "text": [
      "\r"
     ]
    },
    {
     "output_type": "stream",
     "name": "stdout",
     "text": [
      "1197/1875 [==================>...........]"
     ]
    },
    {
     "output_type": "stream",
     "name": "stdout",
     "text": [
      " - ETA: 0s - loss: 0.5207 - accuracy: 0.8164"
     ]
    },
    {
     "output_type": "stream",
     "name": "stdout",
     "text": [
      "\b\b\b\b\b\b\b\b\b\b\b\b\b\b\b\b\b\b\b\b\b\b\b\b\b\b\b\b\b\b\b\b\b\b\b\b\b\b\b\b\b\b\b\b\b\b\b\b\b\b\b\b\b\b\b\b\b\b\b\b\b\b\b\b\b\b\b\b\b\b\b\b\b\b\b\b\b\b\b\b\b\b\b\b\b\b"
     ]
    },
    {
     "output_type": "stream",
     "name": "stdout",
     "text": [
      "\r"
     ]
    },
    {
     "output_type": "stream",
     "name": "stdout",
     "text": [
      "1232/1875 [==================>...........]"
     ]
    },
    {
     "output_type": "stream",
     "name": "stdout",
     "text": [
      " - ETA: 0s - loss: 0.5162 - accuracy: 0.8179"
     ]
    },
    {
     "output_type": "stream",
     "name": "stdout",
     "text": [
      "\b\b\b\b\b\b\b\b\b\b\b\b\b\b\b\b\b\b\b\b\b\b\b\b\b\b\b\b\b\b\b\b\b\b\b\b\b\b\b\b\b\b\b\b\b\b\b\b\b\b\b\b\b\b\b\b\b\b\b\b\b\b\b\b\b\b\b\b\b\b\b\b\b\b\b\b\b\b\b\b\b\b\b\b\b\b"
     ]
    },
    {
     "output_type": "stream",
     "name": "stdout",
     "text": [
      "\r"
     ]
    },
    {
     "output_type": "stream",
     "name": "stdout",
     "text": [
      "1267/1875 [===================>..........]"
     ]
    },
    {
     "output_type": "stream",
     "name": "stdout",
     "text": [
      " - ETA: 0s - loss: 0.5125 - accuracy: 0.8191"
     ]
    },
    {
     "output_type": "stream",
     "name": "stdout",
     "text": [
      "\b\b\b\b\b\b\b\b\b\b\b\b\b\b\b\b\b\b\b\b\b\b\b\b\b\b\b\b\b\b\b\b\b\b\b\b\b\b\b\b\b\b\b\b\b\b\b\b\b\b\b\b\b\b\b\b\b\b\b\b\b\b\b\b\b\b\b\b\b\b\b\b\b\b\b\b\b\b\b\b\b\b\b\b\b\b"
     ]
    },
    {
     "output_type": "stream",
     "name": "stdout",
     "text": [
      "\r"
     ]
    },
    {
     "output_type": "stream",
     "name": "stdout",
     "text": [
      "1301/1875 [===================>..........]"
     ]
    },
    {
     "output_type": "stream",
     "name": "stdout",
     "text": [
      " - ETA: 0s - loss: 0.5096 - accuracy: 0.8200"
     ]
    },
    {
     "output_type": "stream",
     "name": "stdout",
     "text": [
      "\b\b\b\b\b\b\b\b\b\b\b\b\b\b\b\b\b\b\b\b\b\b\b\b\b\b\b\b\b\b\b\b\b\b\b\b\b\b\b\b\b\b\b\b\b\b\b\b\b\b\b\b\b\b\b\b\b\b\b\b\b\b\b\b\b\b\b\b\b\b\b\b\b\b\b\b\b\b\b\b\b\b\b\b\b\b"
     ]
    },
    {
     "output_type": "stream",
     "name": "stdout",
     "text": [
      "\r"
     ]
    },
    {
     "output_type": "stream",
     "name": "stdout",
     "text": [
      "1336/1875 [====================>.........]"
     ]
    },
    {
     "output_type": "stream",
     "name": "stdout",
     "text": [
      " - ETA: 0s - loss: 0.5071 - accuracy: 0.8209"
     ]
    },
    {
     "output_type": "stream",
     "name": "stdout",
     "text": [
      "\b\b\b\b\b\b\b\b\b\b\b\b\b\b\b\b\b\b\b\b\b\b\b\b\b\b\b\b\b\b\b\b\b\b\b\b\b\b\b\b\b\b\b\b\b\b\b\b\b\b\b\b\b\b\b\b\b\b\b\b\b\b\b\b\b\b\b\b\b\b\b\b\b\b\b\b\b\b\b\b\b\b\b\b\b\b"
     ]
    },
    {
     "output_type": "stream",
     "name": "stdout",
     "text": [
      "\r"
     ]
    },
    {
     "output_type": "stream",
     "name": "stdout",
     "text": [
      "1371/1875 [====================>.........]"
     ]
    },
    {
     "output_type": "stream",
     "name": "stdout",
     "text": [
      " - ETA: 0s - loss: 0.5049 - accuracy: 0.8220"
     ]
    },
    {
     "output_type": "stream",
     "name": "stdout",
     "text": [
      "\b\b\b\b\b\b\b\b\b\b\b\b\b\b\b\b\b\b\b\b\b\b\b\b\b\b\b\b\b\b\b\b\b\b\b\b\b\b\b\b\b\b\b\b\b\b\b\b\b\b\b\b\b\b\b\b\b\b\b\b\b\b\b\b\b\b\b\b\b\b\b\b\b\b\b\b\b\b\b\b\b\b\b\b\b\b"
     ]
    },
    {
     "output_type": "stream",
     "name": "stdout",
     "text": [
      "\r"
     ]
    },
    {
     "output_type": "stream",
     "name": "stdout",
     "text": [
      "1406/1875 [=====================>........]"
     ]
    },
    {
     "output_type": "stream",
     "name": "stdout",
     "text": [
      " - ETA: 0s - loss: 0.5018 - accuracy: 0.8229"
     ]
    },
    {
     "output_type": "stream",
     "name": "stdout",
     "text": [
      "\b\b\b\b\b\b\b\b\b\b\b\b\b\b\b\b\b\b\b\b\b\b\b\b\b\b\b\b\b\b\b\b\b\b\b\b\b\b\b\b\b\b\b\b\b\b\b\b\b\b\b\b\b\b\b\b\b\b\b\b\b\b\b\b\b\b\b\b\b\b\b\b\b\b\b\b\b\b\b\b\b\b\b\b\b\b"
     ]
    },
    {
     "output_type": "stream",
     "name": "stdout",
     "text": [
      "\r"
     ]
    },
    {
     "output_type": "stream",
     "name": "stdout",
     "text": [
      "1441/1875 [======================>.......]"
     ]
    },
    {
     "output_type": "stream",
     "name": "stdout",
     "text": [
      " - ETA: 0s - loss: 0.4990 - accuracy: 0.8236"
     ]
    },
    {
     "output_type": "stream",
     "name": "stdout",
     "text": [
      "\b\b\b\b\b\b\b\b\b\b\b\b\b\b\b\b\b\b\b\b\b\b\b\b\b\b\b\b\b\b\b\b\b\b\b\b\b\b\b\b\b\b\b\b\b\b\b\b\b\b\b\b\b\b\b\b\b\b\b\b\b\b\b\b\b\b\b\b\b\b\b\b\b\b\b\b\b\b\b\b\b\b\b\b\b\b"
     ]
    },
    {
     "output_type": "stream",
     "name": "stdout",
     "text": [
      "\r"
     ]
    },
    {
     "output_type": "stream",
     "name": "stdout",
     "text": [
      "1476/1875 [======================>.......]"
     ]
    },
    {
     "output_type": "stream",
     "name": "stdout",
     "text": [
      " - ETA: 0s - loss: 0.4980 - accuracy: 0.8240"
     ]
    },
    {
     "output_type": "stream",
     "name": "stdout",
     "text": [
      "\b\b\b\b\b\b\b\b\b\b\b\b\b\b\b\b\b\b\b\b\b\b\b\b\b\b\b\b\b\b\b\b\b\b\b\b\b\b\b\b\b\b\b\b\b\b\b\b\b\b\b\b\b\b\b\b\b\b\b\b\b\b\b\b\b\b\b\b\b\b\b\b\b\b\b\b\b\b\b\b\b\b\b\b\b\b"
     ]
    },
    {
     "output_type": "stream",
     "name": "stdout",
     "text": [
      "\r"
     ]
    },
    {
     "output_type": "stream",
     "name": "stdout",
     "text": [
      "1511/1875 [=======================>......]"
     ]
    },
    {
     "output_type": "stream",
     "name": "stdout",
     "text": [
      " - ETA: 0s - loss: 0.4963 - accuracy: 0.8246"
     ]
    },
    {
     "output_type": "stream",
     "name": "stdout",
     "text": [
      "\b\b\b\b\b\b\b\b\b\b\b\b\b\b\b\b\b\b\b\b\b\b\b\b\b\b\b\b\b\b\b\b\b\b\b\b\b\b\b\b\b\b\b\b\b\b\b\b\b\b\b\b\b\b\b\b\b\b\b\b\b\b\b\b\b\b\b\b\b\b\b\b\b\b\b\b\b\b\b\b\b\b\b\b\b\b"
     ]
    },
    {
     "output_type": "stream",
     "name": "stdout",
     "text": [
      "\r"
     ]
    },
    {
     "output_type": "stream",
     "name": "stdout",
     "text": [
      "1546/1875 [=======================>......]"
     ]
    },
    {
     "output_type": "stream",
     "name": "stdout",
     "text": [
      " - ETA: 0s - loss: 0.4944 - accuracy: 0.8253"
     ]
    },
    {
     "output_type": "stream",
     "name": "stdout",
     "text": [
      "\b\b\b\b\b\b\b\b\b\b\b\b\b\b\b\b\b\b\b\b\b\b\b\b\b\b\b\b\b\b\b\b\b\b\b\b\b\b\b\b\b\b\b\b\b\b\b\b\b\b\b\b\b\b\b\b\b\b\b\b\b\b\b\b\b\b\b\b\b\b\b\b\b\b\b\b\b\b\b\b\b\b\b\b\b\b"
     ]
    },
    {
     "output_type": "stream",
     "name": "stdout",
     "text": [
      "\r"
     ]
    },
    {
     "output_type": "stream",
     "name": "stdout",
     "text": [
      "1581/1875 [========================>.....]"
     ]
    },
    {
     "output_type": "stream",
     "name": "stdout",
     "text": [
      " - ETA: 0s - loss: 0.4928 - accuracy: 0.8258"
     ]
    },
    {
     "output_type": "stream",
     "name": "stdout",
     "text": [
      "\b\b\b\b\b\b\b\b\b\b\b\b\b\b\b\b\b\b\b\b\b\b\b\b\b\b\b\b\b\b\b\b\b\b\b\b\b\b\b\b\b\b\b\b\b\b\b\b\b\b\b\b\b\b\b\b\b\b\b\b\b\b\b\b\b\b\b\b\b\b\b\b\b\b\b\b\b\b\b\b\b\b\b\b\b\b"
     ]
    },
    {
     "output_type": "stream",
     "name": "stdout",
     "text": [
      "\r"
     ]
    },
    {
     "output_type": "stream",
     "name": "stdout",
     "text": [
      "1616/1875 [========================>.....]"
     ]
    },
    {
     "output_type": "stream",
     "name": "stdout",
     "text": [
      " - ETA: 0s - loss: 0.4906 - accuracy: 0.8263"
     ]
    },
    {
     "output_type": "stream",
     "name": "stdout",
     "text": [
      "\b\b\b\b\b\b\b\b\b\b\b\b\b\b\b\b\b\b\b\b\b\b\b\b\b\b\b\b\b\b\b\b\b\b\b\b\b\b\b\b\b\b\b\b\b\b\b\b\b\b\b\b\b\b\b\b\b\b\b\b\b\b\b\b\b\b\b\b\b\b\b\b\b\b\b\b\b\b\b\b\b\b\b\b\b\b"
     ]
    },
    {
     "output_type": "stream",
     "name": "stdout",
     "text": [
      "\r"
     ]
    },
    {
     "output_type": "stream",
     "name": "stdout",
     "text": [
      "1652/1875 [=========================>....]"
     ]
    },
    {
     "output_type": "stream",
     "name": "stdout",
     "text": [
      " - ETA: 0s - loss: 0.4879 - accuracy: 0.8273"
     ]
    },
    {
     "output_type": "stream",
     "name": "stdout",
     "text": [
      "\b\b\b\b\b\b\b\b\b\b\b\b\b\b\b\b\b\b\b\b\b\b\b\b\b\b\b\b\b\b\b\b\b\b\b\b\b\b\b\b\b\b\b\b\b\b\b\b\b\b\b\b\b\b\b\b\b\b\b\b\b\b\b\b\b\b\b\b\b\b\b\b\b\b\b\b\b\b\b\b\b\b\b\b\b\b"
     ]
    },
    {
     "output_type": "stream",
     "name": "stdout",
     "text": [
      "\r"
     ]
    },
    {
     "output_type": "stream",
     "name": "stdout",
     "text": [
      "1688/1875 [==========================>...]"
     ]
    },
    {
     "output_type": "stream",
     "name": "stdout",
     "text": [
      " - ETA: 0s - loss: 0.4862 - accuracy: 0.8277"
     ]
    },
    {
     "output_type": "stream",
     "name": "stdout",
     "text": [
      "\b\b\b\b\b\b\b\b\b\b\b\b\b\b\b\b\b\b\b\b\b\b\b\b\b\b\b\b\b\b\b\b\b\b\b\b\b\b\b\b\b\b\b\b\b\b\b\b\b\b\b\b\b\b\b\b\b\b\b\b\b\b\b\b\b\b\b\b\b\b\b\b\b\b\b\b\b\b\b\b\b\b\b\b\b\b"
     ]
    },
    {
     "output_type": "stream",
     "name": "stdout",
     "text": [
      "\r"
     ]
    },
    {
     "output_type": "stream",
     "name": "stdout",
     "text": [
      "1723/1875 [==========================>...]"
     ]
    },
    {
     "output_type": "stream",
     "name": "stdout",
     "text": [
      " - ETA: 0s - loss: 0.4850 - accuracy: 0.8282"
     ]
    },
    {
     "output_type": "stream",
     "name": "stdout",
     "text": [
      "\b\b\b\b\b\b\b\b\b\b\b\b\b\b\b\b\b\b\b\b\b\b\b\b\b\b\b\b\b\b\b\b\b\b\b\b\b\b\b\b\b\b\b\b\b\b\b\b\b\b\b\b\b\b\b\b\b\b\b\b\b\b\b\b\b\b\b\b\b\b\b\b\b\b\b\b\b\b\b\b\b\b\b\b\b\b"
     ]
    },
    {
     "output_type": "stream",
     "name": "stdout",
     "text": [
      "\r"
     ]
    },
    {
     "output_type": "stream",
     "name": "stdout",
     "text": [
      "1758/1875 [===========================>..]"
     ]
    },
    {
     "output_type": "stream",
     "name": "stdout",
     "text": [
      " - ETA: 0s - loss: 0.4833 - accuracy: 0.8289"
     ]
    },
    {
     "output_type": "stream",
     "name": "stdout",
     "text": [
      "\b\b\b\b\b\b\b\b\b\b\b\b\b\b\b\b\b\b\b\b\b\b\b\b\b\b\b\b\b\b\b\b\b\b\b\b\b\b\b\b\b\b\b\b\b\b\b\b\b\b\b\b\b\b\b\b\b\b\b\b\b\b\b\b\b\b\b\b\b\b\b\b\b\b\b\b\b\b\b\b\b\b\b\b\b\b"
     ]
    },
    {
     "output_type": "stream",
     "name": "stdout",
     "text": [
      "\r"
     ]
    },
    {
     "output_type": "stream",
     "name": "stdout",
     "text": [
      "1793/1875 [===========================>..]"
     ]
    },
    {
     "output_type": "stream",
     "name": "stdout",
     "text": [
      " - ETA: 0s - loss: 0.4822 - accuracy: 0.8295"
     ]
    },
    {
     "output_type": "stream",
     "name": "stdout",
     "text": [
      "\b\b\b\b\b\b\b\b\b\b\b\b\b\b\b\b\b\b\b\b\b\b\b\b\b\b\b\b\b\b\b\b\b\b\b\b\b\b\b\b\b\b\b\b\b\b\b\b\b\b\b\b\b\b\b\b\b\b\b\b\b\b\b\b\b\b\b\b\b\b\b\b\b\b\b\b\b\b\b\b\b\b\b\b\b\b"
     ]
    },
    {
     "output_type": "stream",
     "name": "stdout",
     "text": [
      "\r"
     ]
    },
    {
     "output_type": "stream",
     "name": "stdout",
     "text": [
      "1828/1875 [============================>.]"
     ]
    },
    {
     "output_type": "stream",
     "name": "stdout",
     "text": [
      " - ETA: 0s - loss: 0.4808 - accuracy: 0.8299"
     ]
    },
    {
     "output_type": "stream",
     "name": "stdout",
     "text": [
      "\b\b\b\b\b\b\b\b\b\b\b\b\b\b\b\b\b\b\b\b\b\b\b\b\b\b\b\b\b\b\b\b\b\b\b\b\b\b\b\b\b\b\b\b\b\b\b\b\b\b\b\b\b\b\b\b\b\b\b\b\b\b\b\b\b\b\b\b\b\b\b\b\b\b\b\b\b\b\b\b\b\b\b\b\b\b"
     ]
    },
    {
     "output_type": "stream",
     "name": "stdout",
     "text": [
      "\r"
     ]
    },
    {
     "output_type": "stream",
     "name": "stdout",
     "text": [
      "1864/1875 [============================>.]"
     ]
    },
    {
     "output_type": "stream",
     "name": "stdout",
     "text": [
      " - ETA: 0s - loss: 0.4792 - accuracy: 0.8303"
     ]
    },
    {
     "output_type": "stream",
     "name": "stdout",
     "text": [
      "\b\b\b\b\b\b\b\b\b\b\b\b\b\b\b\b\b\b\b\b\b\b\b\b\b\b\b\b\b\b\b\b\b\b\b\b\b\b\b\b\b\b\b\b\b\b\b\b\b\b\b\b\b\b\b\b\b\b\b\b\b\b\b\b\b\b\b\b\b\b\b\b\b\b\b\b\b\b\b\b\b\b\b\b\b\b"
     ]
    },
    {
     "output_type": "stream",
     "name": "stdout",
     "text": [
      "\r"
     ]
    },
    {
     "output_type": "stream",
     "name": "stdout",
     "text": [
      "1875/1875 [==============================]"
     ]
    },
    {
     "output_type": "stream",
     "name": "stdout",
     "text": [
      " - 3s 2ms/step - loss: 0.4787 - accuracy: 0.8303 - val_loss: 0.4199 - val_accuracy: 0.8509\n"
     ]
    },
    {
     "output_type": "stream",
     "name": "stdout",
     "text": [
      "Epoch 2/10"
     ]
    },
    {
     "output_type": "stream",
     "name": "stdout",
     "text": [
      "\n"
     ]
    },
    {
     "output_type": "stream",
     "name": "stdout",
     "text": [
      "\r"
     ]
    },
    {
     "output_type": "stream",
     "name": "stdout",
     "text": [
      "   1/1875 [..............................]"
     ]
    },
    {
     "output_type": "stream",
     "name": "stdout",
     "text": [
      " - ETA: 0s - loss: 0.4382 - accuracy: 0.8125"
     ]
    },
    {
     "output_type": "stream",
     "name": "stdout",
     "text": [
      "\b\b\b\b\b\b\b\b\b\b\b\b\b\b\b\b\b\b\b\b\b\b\b\b\b\b\b\b\b\b\b\b\b\b\b\b\b\b\b\b\b\b\b\b\b\b\b\b\b\b\b\b\b\b\b\b\b\b\b\b\b\b\b\b\b\b\b\b\b\b\b\b\b\b\b\b\b\b\b\b\b\b\b\b\b\b"
     ]
    },
    {
     "output_type": "stream",
     "name": "stdout",
     "text": [
      "\r"
     ]
    },
    {
     "output_type": "stream",
     "name": "stdout",
     "text": [
      "  37/1875 [..............................]"
     ]
    },
    {
     "output_type": "stream",
     "name": "stdout",
     "text": [
      " - ETA: 2s - loss: 0.3576 - accuracy: 0.8725"
     ]
    },
    {
     "output_type": "stream",
     "name": "stdout",
     "text": [
      "\b\b\b\b\b\b\b\b\b\b\b\b\b\b\b\b\b\b\b\b\b\b\b\b\b\b\b\b\b\b\b\b\b\b\b\b\b\b\b\b\b\b\b\b\b\b\b\b\b\b\b\b\b\b\b\b\b\b\b\b\b\b\b\b\b\b\b\b\b\b\b\b\b\b\b\b\b\b\b\b\b\b\b\b\b\b"
     ]
    },
    {
     "output_type": "stream",
     "name": "stdout",
     "text": [
      "\r"
     ]
    },
    {
     "output_type": "stream",
     "name": "stdout",
     "text": [
      "  72/1875 [>.............................]"
     ]
    },
    {
     "output_type": "stream",
     "name": "stdout",
     "text": [
      " - ETA: 2s - loss: 0.3734 - accuracy: 0.8663"
     ]
    },
    {
     "output_type": "stream",
     "name": "stdout",
     "text": [
      "\b\b\b\b\b\b\b\b\b\b\b\b\b\b\b\b\b\b\b\b\b\b\b\b\b\b\b\b\b\b\b\b\b\b\b\b\b\b\b\b\b\b\b\b\b\b\b\b\b\b\b\b\b\b\b\b\b\b\b\b\b\b\b\b\b\b\b\b\b\b\b\b\b\b\b\b\b\b\b\b\b\b\b\b\b\b"
     ]
    },
    {
     "output_type": "stream",
     "name": "stdout",
     "text": [
      "\r"
     ]
    },
    {
     "output_type": "stream",
     "name": "stdout",
     "text": [
      " 108/1875 [>.............................]"
     ]
    },
    {
     "output_type": "stream",
     "name": "stdout",
     "text": [
      " - ETA: 2s - loss: 0.3734 - accuracy: 0.8637"
     ]
    },
    {
     "output_type": "stream",
     "name": "stdout",
     "text": [
      "\b\b\b\b\b\b\b\b\b\b\b\b\b\b\b\b\b\b\b\b\b\b\b\b\b\b\b\b\b\b\b\b\b\b\b\b\b\b\b\b\b\b\b\b\b\b\b\b\b\b\b\b\b\b\b\b\b\b\b\b\b\b\b\b\b\b\b\b\b\b\b\b\b\b\b\b\b\b\b\b\b\b\b\b\b\b"
     ]
    },
    {
     "output_type": "stream",
     "name": "stdout",
     "text": [
      "\r"
     ]
    },
    {
     "output_type": "stream",
     "name": "stdout",
     "text": [
      " 144/1875 [=>............................]"
     ]
    },
    {
     "output_type": "stream",
     "name": "stdout",
     "text": [
      " - ETA: 2s - loss: 0.3846 - accuracy: 0.8589"
     ]
    },
    {
     "output_type": "stream",
     "name": "stdout",
     "text": [
      "\b\b\b\b\b\b\b\b\b\b\b\b\b\b\b\b\b\b\b\b\b\b\b\b\b\b\b\b\b\b\b\b\b\b\b\b\b\b\b\b\b\b\b\b\b\b\b\b\b\b\b\b\b\b\b\b\b\b\b\b\b\b\b\b\b\b\b\b\b\b\b\b\b\b\b\b\b\b\b\b\b\b\b\b\b\b"
     ]
    },
    {
     "output_type": "stream",
     "name": "stdout",
     "text": [
      "\r"
     ]
    },
    {
     "output_type": "stream",
     "name": "stdout",
     "text": [
      " 179/1875 [=>............................]"
     ]
    },
    {
     "output_type": "stream",
     "name": "stdout",
     "text": [
      " - ETA: 2s - loss: 0.3858 - accuracy: 0.8589"
     ]
    },
    {
     "output_type": "stream",
     "name": "stdout",
     "text": [
      "\b\b\b\b\b\b\b\b\b\b\b\b\b\b\b\b\b\b\b\b\b\b\b\b\b\b\b\b\b\b\b\b\b\b\b\b\b\b\b\b\b\b\b\b\b\b\b\b\b\b\b\b\b\b\b\b\b\b\b\b\b\b\b\b\b\b\b\b\b\b\b\b\b\b\b\b\b\b\b\b\b\b\b\b\b\b"
     ]
    },
    {
     "output_type": "stream",
     "name": "stdout",
     "text": [
      "\r"
     ]
    },
    {
     "output_type": "stream",
     "name": "stdout",
     "text": [
      " 215/1875 [==>...........................]"
     ]
    },
    {
     "output_type": "stream",
     "name": "stdout",
     "text": [
      " - ETA: 2s - loss: 0.3854 - accuracy: 0.8581"
     ]
    },
    {
     "output_type": "stream",
     "name": "stdout",
     "text": [
      "\b\b\b\b\b\b\b\b\b\b\b\b\b\b\b\b\b\b\b\b\b\b\b\b\b\b\b\b\b\b\b\b\b\b\b\b\b\b\b\b\b\b\b\b\b\b\b\b\b\b\b\b\b\b\b\b\b\b\b\b\b\b\b\b\b\b\b\b\b\b\b\b\b\b\b\b\b\b\b\b\b\b\b\b\b\b"
     ]
    },
    {
     "output_type": "stream",
     "name": "stdout",
     "text": [
      "\r"
     ]
    },
    {
     "output_type": "stream",
     "name": "stdout",
     "text": [
      " 250/1875 [===>..........................]"
     ]
    },
    {
     "output_type": "stream",
     "name": "stdout",
     "text": [
      " - ETA: 2s - loss: 0.3764 - accuracy: 0.8641"
     ]
    },
    {
     "output_type": "stream",
     "name": "stdout",
     "text": [
      "\b\b\b\b\b\b\b\b\b\b\b\b\b\b\b\b\b\b\b\b\b\b\b\b\b\b\b\b\b\b\b\b\b\b\b\b\b\b\b\b\b\b\b\b\b\b\b\b\b\b\b\b\b\b\b\b\b\b\b\b\b\b\b\b\b\b\b\b\b\b\b\b\b\b\b\b\b\b\b\b\b\b\b\b\b\b"
     ]
    },
    {
     "output_type": "stream",
     "name": "stdout",
     "text": [
      "\r"
     ]
    },
    {
     "output_type": "stream",
     "name": "stdout",
     "text": [
      " 285/1875 [===>..........................]"
     ]
    },
    {
     "output_type": "stream",
     "name": "stdout",
     "text": [
      " - ETA: 2s - loss: 0.3766 - accuracy: 0.8636"
     ]
    },
    {
     "output_type": "stream",
     "name": "stdout",
     "text": [
      "\b\b\b\b\b\b\b\b\b\b\b\b\b\b\b\b\b\b\b\b\b\b\b\b\b\b\b\b\b\b\b\b\b\b\b\b\b\b\b\b\b\b\b\b\b\b\b\b\b\b\b\b\b\b\b\b\b\b\b\b\b\b\b\b\b\b\b\b\b\b\b\b\b\b\b\b\b\b\b\b\b\b\b\b\b\b"
     ]
    },
    {
     "output_type": "stream",
     "name": "stdout",
     "text": [
      "\r"
     ]
    },
    {
     "output_type": "stream",
     "name": "stdout",
     "text": [
      " 321/1875 [====>.........................]"
     ]
    },
    {
     "output_type": "stream",
     "name": "stdout",
     "text": [
      " - ETA: 2s - loss: 0.3718 - accuracy: 0.8650"
     ]
    },
    {
     "output_type": "stream",
     "name": "stdout",
     "text": [
      "\b\b\b\b\b\b\b\b\b\b\b\b\b\b\b\b\b\b\b\b\b\b\b\b\b\b\b\b\b\b\b\b\b\b\b\b\b\b\b\b\b\b\b\b\b\b\b\b\b\b\b\b\b\b\b\b\b\b\b\b\b\b\b\b\b\b\b\b\b\b\b\b\b\b\b\b\b\b\b\b\b\b\b\b\b\b"
     ]
    },
    {
     "output_type": "stream",
     "name": "stdout",
     "text": [
      "\r"
     ]
    },
    {
     "output_type": "stream",
     "name": "stdout",
     "text": [
      " 356/1875 [====>.........................]"
     ]
    },
    {
     "output_type": "stream",
     "name": "stdout",
     "text": [
      " - ETA: 2s - loss: 0.3720 - accuracy: 0.8643"
     ]
    },
    {
     "output_type": "stream",
     "name": "stdout",
     "text": [
      "\b\b\b\b\b\b\b\b\b\b\b\b\b\b\b\b\b\b\b\b\b\b\b\b\b\b\b\b\b\b\b\b\b\b\b\b\b\b\b\b\b\b\b\b\b\b\b\b\b\b\b\b\b\b\b\b\b\b\b\b\b\b\b\b\b\b\b\b\b\b\b\b\b\b\b\b\b\b\b\b\b\b\b\b\b\b"
     ]
    },
    {
     "output_type": "stream",
     "name": "stdout",
     "text": [
      "\r"
     ]
    },
    {
     "output_type": "stream",
     "name": "stdout",
     "text": [
      " 391/1875 [=====>........................]"
     ]
    },
    {
     "output_type": "stream",
     "name": "stdout",
     "text": [
      " - ETA: 2s - loss: 0.3682 - accuracy: 0.8648"
     ]
    },
    {
     "output_type": "stream",
     "name": "stdout",
     "text": [
      "\b\b\b\b\b\b\b\b\b\b\b\b\b\b\b\b\b\b\b\b\b\b\b\b\b\b\b\b\b\b\b\b\b\b\b\b\b\b\b\b\b\b\b\b\b\b\b\b\b\b\b\b\b\b\b\b\b\b\b\b\b\b\b\b\b\b\b\b\b\b\b\b\b\b\b\b\b\b\b\b\b\b\b\b\b\b"
     ]
    },
    {
     "output_type": "stream",
     "name": "stdout",
     "text": [
      "\r"
     ]
    },
    {
     "output_type": "stream",
     "name": "stdout",
     "text": [
      " 426/1875 [=====>........................]"
     ]
    },
    {
     "output_type": "stream",
     "name": "stdout",
     "text": [
      " - ETA: 2s - loss: 0.3719 - accuracy: 0.8638"
     ]
    },
    {
     "output_type": "stream",
     "name": "stdout",
     "text": [
      "\b\b\b\b\b\b\b\b\b\b\b\b\b\b\b\b\b\b\b\b\b\b\b\b\b\b\b\b\b\b\b\b\b\b\b\b\b\b\b\b\b\b\b\b\b\b\b\b\b\b\b\b\b\b\b\b\b\b\b\b\b\b\b\b\b\b\b\b\b\b\b\b\b\b\b\b\b\b\b\b\b\b\b\b\b\b"
     ]
    },
    {
     "output_type": "stream",
     "name": "stdout",
     "text": [
      "\r"
     ]
    },
    {
     "output_type": "stream",
     "name": "stdout",
     "text": [
      " 461/1875 [======>.......................]"
     ]
    },
    {
     "output_type": "stream",
     "name": "stdout",
     "text": [
      " - ETA: 2s - loss: 0.3676 - accuracy: 0.8657"
     ]
    },
    {
     "output_type": "stream",
     "name": "stdout",
     "text": [
      "\b\b\b\b\b\b\b\b\b\b\b\b\b\b\b\b\b\b\b\b\b\b\b\b\b\b\b\b\b\b\b\b\b\b\b\b\b\b\b\b\b\b\b\b\b\b\b\b\b\b\b\b\b\b\b\b\b\b\b\b\b\b\b\b\b\b\b\b\b\b\b\b\b\b\b\b\b\b\b\b\b\b\b\b\b\b"
     ]
    },
    {
     "output_type": "stream",
     "name": "stdout",
     "text": [
      "\r"
     ]
    },
    {
     "output_type": "stream",
     "name": "stdout",
     "text": [
      " 496/1875 [======>.......................]"
     ]
    },
    {
     "output_type": "stream",
     "name": "stdout",
     "text": [
      " - ETA: 1s - loss: 0.3671 - accuracy: 0.8657"
     ]
    },
    {
     "output_type": "stream",
     "name": "stdout",
     "text": [
      "\b\b\b\b\b\b\b\b\b\b\b\b\b\b\b\b\b\b\b\b\b\b\b\b\b\b\b\b\b\b\b\b\b\b\b\b\b\b\b\b\b\b\b\b\b\b\b\b\b\b\b\b\b\b\b\b\b\b\b\b\b\b\b\b\b\b\b\b\b\b\b\b\b\b\b\b\b\b\b\b\b\b\b\b\b\b"
     ]
    },
    {
     "output_type": "stream",
     "name": "stdout",
     "text": [
      "\r"
     ]
    },
    {
     "output_type": "stream",
     "name": "stdout",
     "text": [
      " 531/1875 [=======>......................]"
     ]
    },
    {
     "output_type": "stream",
     "name": "stdout",
     "text": [
      " - ETA: 1s - loss: 0.3680 - accuracy: 0.8658"
     ]
    },
    {
     "output_type": "stream",
     "name": "stdout",
     "text": [
      "\b\b\b\b\b\b\b\b\b\b\b\b\b\b\b\b\b\b\b\b\b\b\b\b\b\b\b\b\b\b\b\b\b\b\b\b\b\b\b\b\b\b\b\b\b\b\b\b\b\b\b\b\b\b\b\b\b\b\b\b\b\b\b\b\b\b\b\b\b\b\b\b\b\b\b\b\b\b\b\b\b\b\b\b\b\b"
     ]
    },
    {
     "output_type": "stream",
     "name": "stdout",
     "text": [
      "\r"
     ]
    },
    {
     "output_type": "stream",
     "name": "stdout",
     "text": [
      " 566/1875 [========>.....................]"
     ]
    },
    {
     "output_type": "stream",
     "name": "stdout",
     "text": [
      " - ETA: 1s - loss: 0.3686 - accuracy: 0.8662"
     ]
    },
    {
     "output_type": "stream",
     "name": "stdout",
     "text": [
      "\b\b\b\b\b\b\b\b\b\b\b\b\b\b\b\b\b\b\b\b\b\b\b\b\b\b\b\b\b\b\b\b\b\b\b\b\b\b\b\b\b\b\b\b\b\b\b\b\b\b\b\b\b\b\b\b\b\b\b\b\b\b\b\b\b\b\b\b\b\b\b\b\b\b\b\b\b\b\b\b\b\b\b\b\b\b"
     ]
    },
    {
     "output_type": "stream",
     "name": "stdout",
     "text": [
      "\r"
     ]
    },
    {
     "output_type": "stream",
     "name": "stdout",
     "text": [
      " 601/1875 [========>.....................]"
     ]
    },
    {
     "output_type": "stream",
     "name": "stdout",
     "text": [
      " - ETA: 1s - loss: 0.3711 - accuracy: 0.8652"
     ]
    },
    {
     "output_type": "stream",
     "name": "stdout",
     "text": [
      "\b\b\b\b\b\b\b\b\b\b\b\b\b\b\b\b\b\b\b\b\b\b\b\b\b\b\b\b\b\b\b\b\b\b\b\b\b\b\b\b\b\b\b\b\b\b\b\b\b\b\b\b\b\b\b\b\b\b\b\b\b\b\b\b\b\b\b\b\b\b\b\b\b\b\b\b\b\b\b\b\b\b\b\b\b\b"
     ]
    },
    {
     "output_type": "stream",
     "name": "stdout",
     "text": [
      "\r"
     ]
    },
    {
     "output_type": "stream",
     "name": "stdout",
     "text": [
      " 636/1875 [=========>....................]"
     ]
    },
    {
     "output_type": "stream",
     "name": "stdout",
     "text": [
      " - ETA: 1s - loss: 0.3719 - accuracy: 0.8650"
     ]
    },
    {
     "output_type": "stream",
     "name": "stdout",
     "text": [
      "\b\b\b\b\b\b\b\b\b\b\b\b\b\b\b\b\b\b\b\b\b\b\b\b\b\b\b\b\b\b\b\b\b\b\b\b\b\b\b\b\b\b\b\b\b\b\b\b\b\b\b\b\b\b\b\b\b\b\b\b\b\b\b\b\b\b\b\b\b\b\b\b\b\b\b\b\b\b\b\b\b\b\b\b\b\b"
     ]
    },
    {
     "output_type": "stream",
     "name": "stdout",
     "text": [
      "\r"
     ]
    },
    {
     "output_type": "stream",
     "name": "stdout",
     "text": [
      " 671/1875 [=========>....................]"
     ]
    },
    {
     "output_type": "stream",
     "name": "stdout",
     "text": [
      " - ETA: 1s - loss: 0.3699 - accuracy: 0.8652"
     ]
    },
    {
     "output_type": "stream",
     "name": "stdout",
     "text": [
      "\b\b\b\b\b\b\b\b\b\b\b\b\b\b\b\b\b\b\b\b\b\b\b\b\b\b\b\b\b\b\b\b\b\b\b\b\b\b\b\b\b\b\b\b\b\b\b\b\b\b\b\b\b\b\b\b\b\b\b\b\b\b\b\b\b\b\b\b\b\b\b\b\b\b\b\b\b\b\b\b\b\b\b\b\b\b"
     ]
    },
    {
     "output_type": "stream",
     "name": "stdout",
     "text": [
      "\r"
     ]
    },
    {
     "output_type": "stream",
     "name": "stdout",
     "text": [
      " 706/1875 [==========>...................]"
     ]
    },
    {
     "output_type": "stream",
     "name": "stdout",
     "text": [
      " - ETA: 1s - loss: 0.3700 - accuracy: 0.8646"
     ]
    },
    {
     "output_type": "stream",
     "name": "stdout",
     "text": [
      "\b\b\b\b\b\b\b\b\b\b\b\b\b\b\b\b\b\b\b\b\b\b\b\b\b\b\b\b\b\b\b\b\b\b\b\b\b\b\b\b\b\b\b\b\b\b\b\b\b\b\b\b\b\b\b\b\b\b\b\b\b\b\b\b\b\b\b\b\b\b\b\b\b\b\b\b\b\b\b\b\b\b\b\b\b\b"
     ]
    },
    {
     "output_type": "stream",
     "name": "stdout",
     "text": [
      "\r"
     ]
    },
    {
     "output_type": "stream",
     "name": "stdout",
     "text": [
      " 742/1875 [==========>...................]"
     ]
    },
    {
     "output_type": "stream",
     "name": "stdout",
     "text": [
      " - ETA: 1s - loss: 0.3698 - accuracy: 0.8645"
     ]
    },
    {
     "output_type": "stream",
     "name": "stdout",
     "text": [
      "\b\b\b\b\b\b\b\b\b\b\b\b\b\b\b\b\b\b\b\b\b\b\b\b\b\b\b\b\b\b\b\b\b\b\b\b\b\b\b\b\b\b\b\b\b\b\b\b\b\b\b\b\b\b\b\b\b\b\b\b\b\b\b\b\b\b\b\b\b\b\b\b\b\b\b\b\b\b\b\b\b\b\b\b\b\b"
     ]
    },
    {
     "output_type": "stream",
     "name": "stdout",
     "text": [
      "\r"
     ]
    },
    {
     "output_type": "stream",
     "name": "stdout",
     "text": [
      " 777/1875 [===========>..................]"
     ]
    },
    {
     "output_type": "stream",
     "name": "stdout",
     "text": [
      " - ETA: 1s - loss: 0.3681 - accuracy: 0.8650"
     ]
    },
    {
     "output_type": "stream",
     "name": "stdout",
     "text": [
      "\b\b\b\b\b\b\b\b\b\b\b\b\b\b\b\b\b\b\b\b\b\b\b\b\b\b\b\b\b\b\b\b\b\b\b\b\b\b\b\b\b\b\b\b\b\b\b\b\b\b\b\b\b\b\b\b\b\b\b\b\b\b\b\b\b\b\b\b\b\b\b\b\b\b\b\b\b\b\b\b\b\b\b\b\b\b"
     ]
    },
    {
     "output_type": "stream",
     "name": "stdout",
     "text": [
      "\r"
     ]
    },
    {
     "output_type": "stream",
     "name": "stdout",
     "text": [
      " 812/1875 [===========>..................]"
     ]
    },
    {
     "output_type": "stream",
     "name": "stdout",
     "text": [
      " - ETA: 1s - loss: 0.3678 - accuracy: 0.8650"
     ]
    },
    {
     "output_type": "stream",
     "name": "stdout",
     "text": [
      "\b\b\b\b\b\b\b\b\b\b\b\b\b\b\b\b\b\b\b\b\b\b\b\b\b\b\b\b\b\b\b\b\b\b\b\b\b\b\b\b\b\b\b\b\b\b\b\b\b\b\b\b\b\b\b\b\b\b\b\b\b\b\b\b\b\b\b\b\b\b\b\b\b\b\b\b\b\b\b\b\b\b\b\b\b\b"
     ]
    },
    {
     "output_type": "stream",
     "name": "stdout",
     "text": [
      "\r"
     ]
    },
    {
     "output_type": "stream",
     "name": "stdout",
     "text": [
      " 847/1875 [============>.................]"
     ]
    },
    {
     "output_type": "stream",
     "name": "stdout",
     "text": [
      " - ETA: 1s - loss: 0.3665 - accuracy: 0.8654"
     ]
    },
    {
     "output_type": "stream",
     "name": "stdout",
     "text": [
      "\b\b\b\b\b\b\b\b\b\b\b\b\b\b\b\b\b\b\b\b\b\b\b\b\b\b\b\b\b\b\b\b\b\b\b\b\b\b\b\b\b\b\b\b\b\b\b\b\b\b\b\b\b\b\b\b\b\b\b\b\b\b\b\b\b\b\b\b\b\b\b\b\b\b\b\b\b\b\b\b\b\b\b\b\b\b"
     ]
    },
    {
     "output_type": "stream",
     "name": "stdout",
     "text": [
      "\r"
     ]
    },
    {
     "output_type": "stream",
     "name": "stdout",
     "text": [
      " 883/1875 [=============>................]"
     ]
    },
    {
     "output_type": "stream",
     "name": "stdout",
     "text": [
      " - ETA: 1s - loss: 0.3659 - accuracy: 0.8659"
     ]
    },
    {
     "output_type": "stream",
     "name": "stdout",
     "text": [
      "\b\b\b\b\b\b\b\b\b\b\b\b\b\b\b\b\b\b\b\b\b\b\b\b\b\b\b\b\b\b\b\b\b\b\b\b\b\b\b\b\b\b\b\b\b\b\b\b\b\b\b\b\b\b\b\b\b\b\b\b\b\b\b\b\b\b\b\b\b\b\b\b\b\b\b\b\b\b\b\b\b\b\b\b\b\b"
     ]
    },
    {
     "output_type": "stream",
     "name": "stdout",
     "text": [
      "\r"
     ]
    },
    {
     "output_type": "stream",
     "name": "stdout",
     "text": [
      " 919/1875 [=============>................]"
     ]
    },
    {
     "output_type": "stream",
     "name": "stdout",
     "text": [
      " - ETA: 1s - loss: 0.3669 - accuracy: 0.8655"
     ]
    },
    {
     "output_type": "stream",
     "name": "stdout",
     "text": [
      "\b\b\b\b\b\b\b\b\b\b\b\b\b\b\b\b\b\b\b\b\b\b\b\b\b\b\b\b\b\b\b\b\b\b\b\b\b\b\b\b\b\b\b\b\b\b\b\b\b\b\b\b\b\b\b\b\b\b\b\b\b\b\b\b\b\b\b\b\b\b\b\b\b\b\b\b\b\b\b\b\b\b\b\b\b\b"
     ]
    },
    {
     "output_type": "stream",
     "name": "stdout",
     "text": [
      "\r"
     ]
    },
    {
     "output_type": "stream",
     "name": "stdout",
     "text": [
      " 954/1875 [==============>...............]"
     ]
    },
    {
     "output_type": "stream",
     "name": "stdout",
     "text": [
      " - ETA: 1s - loss: 0.3668 - accuracy: 0.8654"
     ]
    },
    {
     "output_type": "stream",
     "name": "stdout",
     "text": [
      "\b\b\b\b\b\b\b\b\b\b\b\b\b\b\b\b\b\b\b\b\b\b\b\b\b\b\b\b\b\b\b\b\b\b\b\b\b\b\b\b\b\b\b\b\b\b\b\b\b\b\b\b\b\b\b\b\b\b\b\b\b\b\b\b\b\b\b\b\b\b\b\b\b\b\b\b\b\b\b\b\b\b\b\b\b\b"
     ]
    },
    {
     "output_type": "stream",
     "name": "stdout",
     "text": [
      "\r"
     ]
    },
    {
     "output_type": "stream",
     "name": "stdout",
     "text": [
      " 989/1875 [==============>...............]"
     ]
    },
    {
     "output_type": "stream",
     "name": "stdout",
     "text": [
      " - ETA: 1s - loss: 0.3649 - accuracy: 0.8662"
     ]
    },
    {
     "output_type": "stream",
     "name": "stdout",
     "text": [
      "\b\b\b\b\b\b\b\b\b\b\b\b\b\b\b\b\b\b\b\b\b\b\b\b\b\b\b\b\b\b\b\b\b\b\b\b\b\b\b\b\b\b\b\b\b\b\b\b\b\b\b\b\b\b\b\b\b\b\b\b\b\b\b\b\b\b\b\b\b\b\b\b\b\b\b\b\b\b\b\b\b\b\b\b\b\b"
     ]
    },
    {
     "output_type": "stream",
     "name": "stdout",
     "text": [
      "\r"
     ]
    },
    {
     "output_type": "stream",
     "name": "stdout",
     "text": [
      "1024/1875 [===============>..............]"
     ]
    },
    {
     "output_type": "stream",
     "name": "stdout",
     "text": [
      " - ETA: 1s - loss: 0.3660 - accuracy: 0.8658"
     ]
    },
    {
     "output_type": "stream",
     "name": "stdout",
     "text": [
      "\b\b\b\b\b\b\b\b\b\b\b\b\b\b\b\b\b\b\b\b\b\b\b\b\b\b\b\b\b\b\b\b\b\b\b\b\b\b\b\b\b\b\b\b\b\b\b\b\b\b\b\b\b\b\b\b\b\b\b\b\b\b\b\b\b\b\b\b\b\b\b\b\b\b\b\b\b\b\b\b\b\b\b\b\b\b"
     ]
    },
    {
     "output_type": "stream",
     "name": "stdout",
     "text": [
      "\r"
     ]
    },
    {
     "output_type": "stream",
     "name": "stdout",
     "text": [
      "1060/1875 [===============>..............]"
     ]
    },
    {
     "output_type": "stream",
     "name": "stdout",
     "text": [
      " - ETA: 1s - loss: 0.3666 - accuracy: 0.8656"
     ]
    },
    {
     "output_type": "stream",
     "name": "stdout",
     "text": [
      "\b\b\b\b\b\b\b\b\b\b\b\b\b\b\b\b\b\b\b\b\b\b\b\b\b\b\b\b\b\b\b\b\b\b\b\b\b\b\b\b\b\b\b\b\b\b\b\b\b\b\b\b\b\b\b\b\b\b\b\b\b\b\b\b\b\b\b\b\b\b\b\b\b\b\b\b\b\b\b\b\b\b\b\b\b\b"
     ]
    },
    {
     "output_type": "stream",
     "name": "stdout",
     "text": [
      "\r"
     ]
    },
    {
     "output_type": "stream",
     "name": "stdout",
     "text": [
      "1094/1875 [================>.............]"
     ]
    },
    {
     "output_type": "stream",
     "name": "stdout",
     "text": [
      " - ETA: 1s - loss: 0.3653 - accuracy: 0.8661"
     ]
    },
    {
     "output_type": "stream",
     "name": "stdout",
     "text": [
      "\b\b\b\b\b\b\b\b\b\b\b\b\b\b\b\b\b\b\b\b\b\b\b\b\b\b\b\b\b\b\b\b\b\b\b\b\b\b\b\b\b\b\b\b\b\b\b\b\b\b\b\b\b\b\b\b\b\b\b\b\b\b\b\b\b\b\b\b\b\b\b\b\b\b\b\b\b\b\b\b\b\b\b\b\b\b"
     ]
    },
    {
     "output_type": "stream",
     "name": "stdout",
     "text": [
      "\r"
     ]
    },
    {
     "output_type": "stream",
     "name": "stdout",
     "text": [
      "1129/1875 [=================>............]"
     ]
    },
    {
     "output_type": "stream",
     "name": "stdout",
     "text": [
      " - ETA: 1s - loss: 0.3645 - accuracy: 0.8667"
     ]
    },
    {
     "output_type": "stream",
     "name": "stdout",
     "text": [
      "\b\b\b\b\b\b\b\b\b\b\b\b\b\b\b\b\b\b\b\b\b\b\b\b\b\b\b\b\b\b\b\b\b\b\b\b\b\b\b\b\b\b\b\b\b\b\b\b\b\b\b\b\b\b\b\b\b\b\b\b\b\b\b\b\b\b\b\b\b\b\b\b\b\b\b\b\b\b\b\b\b\b\b\b\b\b"
     ]
    },
    {
     "output_type": "stream",
     "name": "stdout",
     "text": [
      "\r"
     ]
    },
    {
     "output_type": "stream",
     "name": "stdout",
     "text": [
      "1165/1875 [=================>............]"
     ]
    },
    {
     "output_type": "stream",
     "name": "stdout",
     "text": [
      " - ETA: 1s - loss: 0.3641 - accuracy: 0.8670"
     ]
    },
    {
     "output_type": "stream",
     "name": "stdout",
     "text": [
      "\b\b\b\b\b\b\b\b\b\b\b\b\b\b\b\b\b\b\b\b\b\b\b\b\b\b\b\b\b\b\b\b\b\b\b\b\b\b\b\b\b\b\b\b\b\b\b\b\b\b\b\b\b\b\b\b\b\b\b\b\b\b\b\b\b\b\b\b\b\b\b\b\b\b\b\b\b\b\b\b\b\b\b\b\b\b"
     ]
    },
    {
     "output_type": "stream",
     "name": "stdout",
     "text": [
      "\r"
     ]
    },
    {
     "output_type": "stream",
     "name": "stdout",
     "text": [
      "1199/1875 [==================>...........]"
     ]
    },
    {
     "output_type": "stream",
     "name": "stdout",
     "text": [
      " - ETA: 0s - loss: 0.3629 - accuracy: 0.8674"
     ]
    },
    {
     "output_type": "stream",
     "name": "stdout",
     "text": [
      "\b\b\b\b\b\b\b\b\b\b\b\b\b\b\b\b\b\b\b\b\b\b\b\b\b\b\b\b\b\b\b\b\b\b\b\b\b\b\b\b\b\b\b\b\b\b\b\b\b\b\b\b\b\b\b\b\b\b\b\b\b\b\b\b\b\b\b\b\b\b\b\b\b\b\b\b\b\b\b\b\b\b\b\b\b\b"
     ]
    },
    {
     "output_type": "stream",
     "name": "stdout",
     "text": [
      "\r"
     ]
    },
    {
     "output_type": "stream",
     "name": "stdout",
     "text": [
      "1233/1875 [==================>...........]"
     ]
    },
    {
     "output_type": "stream",
     "name": "stdout",
     "text": [
      " - ETA: 0s - loss: 0.3635 - accuracy: 0.8673"
     ]
    },
    {
     "output_type": "stream",
     "name": "stdout",
     "text": [
      "\b\b\b\b\b\b\b\b\b\b\b\b\b\b\b\b\b\b\b\b\b\b\b\b\b\b\b\b\b\b\b\b\b\b\b\b\b\b\b\b\b\b\b\b\b\b\b\b\b\b\b\b\b\b\b\b\b\b\b\b\b\b\b\b\b\b\b\b\b\b\b\b\b\b\b\b\b\b\b\b\b\b\b\b\b\b"
     ]
    },
    {
     "output_type": "stream",
     "name": "stdout",
     "text": [
      "\r"
     ]
    },
    {
     "output_type": "stream",
     "name": "stdout",
     "text": [
      "1267/1875 [===================>..........]"
     ]
    },
    {
     "output_type": "stream",
     "name": "stdout",
     "text": [
      " - ETA: 0s - loss: 0.3638 - accuracy: 0.8672"
     ]
    },
    {
     "output_type": "stream",
     "name": "stdout",
     "text": [
      "\b\b\b\b\b\b\b\b\b\b\b\b\b\b\b\b\b\b\b\b\b\b\b\b\b\b\b\b\b\b\b\b\b\b\b\b\b\b\b\b\b\b\b\b\b\b\b\b\b\b\b\b\b\b\b\b\b\b\b\b\b\b\b\b\b\b\b\b\b\b\b\b\b\b\b\b\b\b\b\b\b\b\b\b\b\b"
     ]
    },
    {
     "output_type": "stream",
     "name": "stdout",
     "text": [
      "\r"
     ]
    },
    {
     "output_type": "stream",
     "name": "stdout",
     "text": [
      "1302/1875 [===================>..........]"
     ]
    },
    {
     "output_type": "stream",
     "name": "stdout",
     "text": [
      " - ETA: 0s - loss: 0.3648 - accuracy: 0.8667"
     ]
    },
    {
     "output_type": "stream",
     "name": "stdout",
     "text": [
      "\b\b\b\b\b\b\b\b\b\b\b\b\b\b\b\b\b\b\b\b\b\b\b\b\b\b\b\b\b\b\b\b\b\b\b\b\b\b\b\b\b\b\b\b\b\b\b\b\b\b\b\b\b\b\b\b\b\b\b\b\b\b\b\b\b\b\b\b\b\b\b\b\b\b\b\b\b\b\b\b\b\b\b\b\b\b"
     ]
    },
    {
     "output_type": "stream",
     "name": "stdout",
     "text": [
      "\r"
     ]
    },
    {
     "output_type": "stream",
     "name": "stdout",
     "text": [
      "1337/1875 [====================>.........]"
     ]
    },
    {
     "output_type": "stream",
     "name": "stdout",
     "text": [
      " - ETA: 0s - loss: 0.3645 - accuracy: 0.8667"
     ]
    },
    {
     "output_type": "stream",
     "name": "stdout",
     "text": [
      "\b\b\b\b\b\b\b\b\b\b\b\b\b\b\b\b\b\b\b\b\b\b\b\b\b\b\b\b\b\b\b\b\b\b\b\b\b\b\b\b\b\b\b\b\b\b\b\b\b\b\b\b\b\b\b\b\b\b\b\b\b\b\b\b\b\b\b\b\b\b\b\b\b\b\b\b\b\b\b\b\b\b\b\b\b\b"
     ]
    },
    {
     "output_type": "stream",
     "name": "stdout",
     "text": [
      "\r"
     ]
    },
    {
     "output_type": "stream",
     "name": "stdout",
     "text": [
      "1372/1875 [====================>.........]"
     ]
    },
    {
     "output_type": "stream",
     "name": "stdout",
     "text": [
      " - ETA: 0s - loss: 0.3637 - accuracy: 0.8667"
     ]
    },
    {
     "output_type": "stream",
     "name": "stdout",
     "text": [
      "\b\b\b\b\b\b\b\b\b\b\b\b\b\b\b\b\b\b\b\b\b\b\b\b\b\b\b\b\b\b\b\b\b\b\b\b\b\b\b\b\b\b\b\b\b\b\b\b\b\b\b\b\b\b\b\b\b\b\b\b\b\b\b\b\b\b\b\b\b\b\b\b\b\b\b\b\b\b\b\b\b\b\b\b\b\b"
     ]
    },
    {
     "output_type": "stream",
     "name": "stdout",
     "text": [
      "\r"
     ]
    },
    {
     "output_type": "stream",
     "name": "stdout",
     "text": [
      "1407/1875 [=====================>........]"
     ]
    },
    {
     "output_type": "stream",
     "name": "stdout",
     "text": [
      " - ETA: 0s - loss: 0.3634 - accuracy: 0.8667"
     ]
    },
    {
     "output_type": "stream",
     "name": "stdout",
     "text": [
      "\b\b\b\b\b\b\b\b\b\b\b\b\b\b\b\b\b\b\b\b\b\b\b\b\b\b\b\b\b\b\b\b\b\b\b\b\b\b\b\b\b\b\b\b\b\b\b\b\b\b\b\b\b\b\b\b\b\b\b\b\b\b\b\b\b\b\b\b\b\b\b\b\b\b\b\b\b\b\b\b\b\b\b\b\b\b"
     ]
    },
    {
     "output_type": "stream",
     "name": "stdout",
     "text": [
      "\r"
     ]
    },
    {
     "output_type": "stream",
     "name": "stdout",
     "text": [
      "1441/1875 [======================>.......]"
     ]
    },
    {
     "output_type": "stream",
     "name": "stdout",
     "text": [
      " - ETA: 0s - loss: 0.3619 - accuracy: 0.8672"
     ]
    },
    {
     "output_type": "stream",
     "name": "stdout",
     "text": [
      "\b\b\b\b\b\b\b\b\b\b\b\b\b\b\b\b\b\b\b\b\b\b\b\b\b\b\b\b\b\b\b\b\b\b\b\b\b\b\b\b\b\b\b\b\b\b\b\b\b\b\b\b\b\b\b\b\b\b\b\b\b\b\b\b\b\b\b\b\b\b\b\b\b\b\b\b\b\b\b\b\b\b\b\b\b\b"
     ]
    },
    {
     "output_type": "stream",
     "name": "stdout",
     "text": [
      "\r"
     ]
    },
    {
     "output_type": "stream",
     "name": "stdout",
     "text": [
      "1476/1875 [======================>.......]"
     ]
    },
    {
     "output_type": "stream",
     "name": "stdout",
     "text": [
      " - ETA: 0s - loss: 0.3618 - accuracy: 0.8674"
     ]
    },
    {
     "output_type": "stream",
     "name": "stdout",
     "text": [
      "\b\b\b\b\b\b\b\b\b\b\b\b\b\b\b\b\b\b\b\b\b\b\b\b\b\b\b\b\b\b\b\b\b\b\b\b\b\b\b\b\b\b\b\b\b\b\b\b\b\b\b\b\b\b\b\b\b\b\b\b\b\b\b\b\b\b\b\b\b\b\b\b\b\b\b\b\b\b\b\b\b\b\b\b\b\b"
     ]
    },
    {
     "output_type": "stream",
     "name": "stdout",
     "text": [
      "\r"
     ]
    },
    {
     "output_type": "stream",
     "name": "stdout",
     "text": [
      "1511/1875 [=======================>......]"
     ]
    },
    {
     "output_type": "stream",
     "name": "stdout",
     "text": [
      " - ETA: 0s - loss: 0.3615 - accuracy: 0.8675"
     ]
    },
    {
     "output_type": "stream",
     "name": "stdout",
     "text": [
      "\b\b\b\b\b\b\b\b\b\b\b\b\b\b\b\b\b\b\b\b\b\b\b\b\b\b\b\b\b\b\b\b\b\b\b\b\b\b\b\b\b\b\b\b\b\b\b\b\b\b\b\b\b\b\b\b\b\b\b\b\b\b\b\b\b\b\b\b\b\b\b\b\b\b\b\b\b\b\b\b\b\b\b\b\b\b"
     ]
    },
    {
     "output_type": "stream",
     "name": "stdout",
     "text": [
      "\r"
     ]
    },
    {
     "output_type": "stream",
     "name": "stdout",
     "text": [
      "1546/1875 [=======================>......]"
     ]
    },
    {
     "output_type": "stream",
     "name": "stdout",
     "text": [
      " - ETA: 0s - loss: 0.3613 - accuracy: 0.8676"
     ]
    },
    {
     "output_type": "stream",
     "name": "stdout",
     "text": [
      "\b\b\b\b\b\b\b\b\b\b\b\b\b\b\b\b\b\b\b\b\b\b\b\b\b\b\b\b\b\b\b\b\b\b\b\b\b\b\b\b\b\b\b\b\b\b\b\b\b\b\b\b\b\b\b\b\b\b\b\b\b\b\b\b\b\b\b\b\b\b\b\b\b\b\b\b\b\b\b\b\b\b\b\b\b\b"
     ]
    },
    {
     "output_type": "stream",
     "name": "stdout",
     "text": [
      "\r"
     ]
    },
    {
     "output_type": "stream",
     "name": "stdout",
     "text": [
      "1582/1875 [========================>.....]"
     ]
    },
    {
     "output_type": "stream",
     "name": "stdout",
     "text": [
      " - ETA: 0s - loss: 0.3614 - accuracy: 0.8678"
     ]
    },
    {
     "output_type": "stream",
     "name": "stdout",
     "text": [
      "\b\b\b\b\b\b\b\b\b\b\b\b\b\b\b\b\b\b\b\b\b\b\b\b\b\b\b\b\b\b\b\b\b\b\b\b\b\b\b\b\b\b\b\b\b\b\b\b\b\b\b\b\b\b\b\b\b\b\b\b\b\b\b\b\b\b\b\b\b\b\b\b\b\b\b\b\b\b\b\b\b\b\b\b\b\b"
     ]
    },
    {
     "output_type": "stream",
     "name": "stdout",
     "text": [
      "\r"
     ]
    },
    {
     "output_type": "stream",
     "name": "stdout",
     "text": [
      "1617/1875 [========================>.....]"
     ]
    },
    {
     "output_type": "stream",
     "name": "stdout",
     "text": [
      " - ETA: 0s - loss: 0.3607 - accuracy: 0.8681"
     ]
    },
    {
     "output_type": "stream",
     "name": "stdout",
     "text": [
      "\b\b\b\b\b\b\b\b\b\b\b\b\b\b\b\b\b\b\b\b\b\b\b\b\b\b\b\b\b\b\b\b\b\b\b\b\b\b\b\b\b\b\b\b\b\b\b\b\b\b\b\b\b\b\b\b\b\b\b\b\b\b\b\b\b\b\b\b\b\b\b\b\b\b\b\b\b\b\b\b\b\b\b\b\b\b"
     ]
    },
    {
     "output_type": "stream",
     "name": "stdout",
     "text": [
      "\r"
     ]
    },
    {
     "output_type": "stream",
     "name": "stdout",
     "text": [
      "1653/1875 [=========================>....]"
     ]
    },
    {
     "output_type": "stream",
     "name": "stdout",
     "text": [
      " - ETA: 0s - loss: 0.3609 - accuracy: 0.8683"
     ]
    },
    {
     "output_type": "stream",
     "name": "stdout",
     "text": [
      "\b\b\b\b\b\b\b\b\b\b\b\b\b\b\b\b\b\b\b\b\b\b\b\b\b\b\b\b\b\b\b\b\b\b\b\b\b\b\b\b\b\b\b\b\b\b\b\b\b\b\b\b\b\b\b\b\b\b\b\b\b\b\b\b\b\b\b\b\b\b\b\b\b\b\b\b\b\b\b\b\b\b\b\b\b\b"
     ]
    },
    {
     "output_type": "stream",
     "name": "stdout",
     "text": [
      "\r"
     ]
    },
    {
     "output_type": "stream",
     "name": "stdout",
     "text": [
      "1688/1875 [==========================>...]"
     ]
    },
    {
     "output_type": "stream",
     "name": "stdout",
     "text": [
      " - ETA: 0s - loss: 0.3609 - accuracy: 0.8684"
     ]
    },
    {
     "output_type": "stream",
     "name": "stdout",
     "text": [
      "\b\b\b\b\b\b\b\b\b\b\b\b\b\b\b\b\b\b\b\b\b\b\b\b\b\b\b\b\b\b\b\b\b\b\b\b\b\b\b\b\b\b\b\b\b\b\b\b\b\b\b\b\b\b\b\b\b\b\b\b\b\b\b\b\b\b\b\b\b\b\b\b\b\b\b\b\b\b\b\b\b\b\b\b\b\b"
     ]
    },
    {
     "output_type": "stream",
     "name": "stdout",
     "text": [
      "\r"
     ]
    },
    {
     "output_type": "stream",
     "name": "stdout",
     "text": [
      "1724/1875 [==========================>...]"
     ]
    },
    {
     "output_type": "stream",
     "name": "stdout",
     "text": [
      " - ETA: 0s - loss: 0.3605 - accuracy: 0.8685"
     ]
    },
    {
     "output_type": "stream",
     "name": "stdout",
     "text": [
      "\b\b\b\b\b\b\b\b\b\b\b\b\b\b\b\b\b\b\b\b\b\b\b\b\b\b\b\b\b\b\b\b\b\b\b\b\b\b\b\b\b\b\b\b\b\b\b\b\b\b\b\b\b\b\b\b\b\b\b\b\b\b\b\b\b\b\b\b\b\b\b\b\b\b\b\b\b\b\b\b\b\b\b\b\b\b"
     ]
    },
    {
     "output_type": "stream",
     "name": "stdout",
     "text": [
      "\r"
     ]
    },
    {
     "output_type": "stream",
     "name": "stdout",
     "text": [
      "1758/1875 [===========================>..]"
     ]
    },
    {
     "output_type": "stream",
     "name": "stdout",
     "text": [
      " - ETA: 0s - loss: 0.3604 - accuracy: 0.8683"
     ]
    },
    {
     "output_type": "stream",
     "name": "stdout",
     "text": [
      "\b\b\b\b\b\b\b\b\b\b\b\b\b\b\b\b\b\b\b\b\b\b\b\b\b\b\b\b\b\b\b\b\b\b\b\b\b\b\b\b\b\b\b\b\b\b\b\b\b\b\b\b\b\b\b\b\b\b\b\b\b\b\b\b\b\b\b\b\b\b\b\b\b\b\b\b\b\b\b\b\b\b\b\b\b\b"
     ]
    },
    {
     "output_type": "stream",
     "name": "stdout",
     "text": [
      "\r"
     ]
    },
    {
     "output_type": "stream",
     "name": "stdout",
     "text": [
      "1794/1875 [===========================>..]"
     ]
    },
    {
     "output_type": "stream",
     "name": "stdout",
     "text": [
      " - ETA: 0s - loss: 0.3609 - accuracy: 0.8680"
     ]
    },
    {
     "output_type": "stream",
     "name": "stdout",
     "text": [
      "\b\b\b\b\b\b\b\b\b\b\b\b\b\b\b\b\b\b\b\b\b\b\b\b\b\b\b\b\b\b\b\b\b\b\b\b\b\b\b\b\b\b\b\b\b\b\b\b\b\b\b\b\b\b\b\b\b\b\b\b\b\b\b\b\b\b\b\b\b\b\b\b\b\b\b\b\b\b\b\b\b\b\b\b\b\b"
     ]
    },
    {
     "output_type": "stream",
     "name": "stdout",
     "text": [
      "\r"
     ]
    },
    {
     "output_type": "stream",
     "name": "stdout",
     "text": [
      "1828/1875 [============================>.]"
     ]
    },
    {
     "output_type": "stream",
     "name": "stdout",
     "text": [
      " - ETA: 0s - loss: 0.3606 - accuracy: 0.8681"
     ]
    },
    {
     "output_type": "stream",
     "name": "stdout",
     "text": [
      "\b\b\b\b\b\b\b\b\b\b\b\b\b\b\b\b\b\b\b\b\b\b\b\b\b\b\b\b\b\b\b\b\b\b\b\b\b\b\b\b\b\b\b\b\b\b\b\b\b\b\b\b\b\b\b\b\b\b\b\b\b\b\b\b\b\b\b\b\b\b\b\b\b\b\b\b\b\b\b\b\b\b\b\b\b\b"
     ]
    },
    {
     "output_type": "stream",
     "name": "stdout",
     "text": [
      "\r"
     ]
    },
    {
     "output_type": "stream",
     "name": "stdout",
     "text": [
      "1864/1875 [============================>.]"
     ]
    },
    {
     "output_type": "stream",
     "name": "stdout",
     "text": [
      " - ETA: 0s - loss: 0.3603 - accuracy: 0.8683"
     ]
    },
    {
     "output_type": "stream",
     "name": "stdout",
     "text": [
      "\b\b\b\b\b\b\b\b\b\b\b\b\b\b\b\b\b\b\b\b\b\b\b\b\b\b\b\b\b\b\b\b\b\b\b\b\b\b\b\b\b\b\b\b\b\b\b\b\b\b\b\b\b\b\b\b\b\b\b\b\b\b\b\b\b\b\b\b\b\b\b\b\b\b\b\b\b\b\b\b\b\b\b\b\b\b"
     ]
    },
    {
     "output_type": "stream",
     "name": "stdout",
     "text": [
      "\r"
     ]
    },
    {
     "output_type": "stream",
     "name": "stdout",
     "text": [
      "1875/1875 [==============================]"
     ]
    },
    {
     "output_type": "stream",
     "name": "stdout",
     "text": [
      " - 3s 2ms/step - loss: 0.3600 - accuracy: 0.8684 - val_loss: 0.3902 - val_accuracy: 0.8570\n"
     ]
    },
    {
     "output_type": "stream",
     "name": "stdout",
     "text": [
      "Epoch 3/10"
     ]
    },
    {
     "output_type": "stream",
     "name": "stdout",
     "text": [
      "\n"
     ]
    },
    {
     "output_type": "stream",
     "name": "stdout",
     "text": [
      "\r"
     ]
    },
    {
     "output_type": "stream",
     "name": "stdout",
     "text": [
      "   1/1875 [..............................]"
     ]
    },
    {
     "output_type": "stream",
     "name": "stdout",
     "text": [
      " - ETA: 0s - loss: 0.2835 - accuracy: 0.9375"
     ]
    },
    {
     "output_type": "stream",
     "name": "stdout",
     "text": [
      "\b\b\b\b\b\b\b\b\b\b\b\b\b\b\b\b\b\b\b\b\b\b\b\b\b\b\b\b\b\b\b\b\b\b\b\b\b\b\b\b\b\b\b\b\b\b\b\b\b\b\b\b\b\b\b\b\b\b\b\b\b\b\b\b\b\b\b\b\b\b\b\b\b\b\b\b\b\b\b\b\b\b\b\b\b\b"
     ]
    },
    {
     "output_type": "stream",
     "name": "stdout",
     "text": [
      "\r"
     ]
    },
    {
     "output_type": "stream",
     "name": "stdout",
     "text": [
      "  36/1875 [..............................]"
     ]
    },
    {
     "output_type": "stream",
     "name": "stdout",
     "text": [
      " - ETA: 2s - loss: 0.3259 - accuracy: 0.8637"
     ]
    },
    {
     "output_type": "stream",
     "name": "stdout",
     "text": [
      "\b\b\b\b\b\b\b\b\b\b\b\b\b\b\b\b\b\b\b\b\b\b\b\b\b\b\b\b\b\b\b\b\b\b\b\b\b\b\b\b\b\b\b\b\b\b\b\b\b\b\b\b\b\b\b\b\b\b\b\b\b\b\b\b\b\b\b\b\b\b\b\b\b\b\b\b\b\b\b\b\b\b\b\b\b\b"
     ]
    },
    {
     "output_type": "stream",
     "name": "stdout",
     "text": [
      "\r"
     ]
    },
    {
     "output_type": "stream",
     "name": "stdout",
     "text": [
      "  70/1875 [>.............................]"
     ]
    },
    {
     "output_type": "stream",
     "name": "stdout",
     "text": [
      " - ETA: 2s - loss: 0.3349 - accuracy: 0.8679"
     ]
    },
    {
     "output_type": "stream",
     "name": "stdout",
     "text": [
      "\b\b\b\b\b\b\b\b\b\b\b\b\b\b\b\b\b\b\b\b\b\b\b\b\b\b\b\b\b\b\b\b\b\b\b\b\b\b\b\b\b\b\b\b\b\b\b\b\b\b\b\b\b\b\b\b\b\b\b\b\b\b\b\b\b\b\b\b\b\b\b\b\b\b\b\b\b\b\b\b\b\b\b\b\b\b"
     ]
    },
    {
     "output_type": "stream",
     "name": "stdout",
     "text": [
      "\r"
     ]
    },
    {
     "output_type": "stream",
     "name": "stdout",
     "text": [
      " 106/1875 [>.............................]"
     ]
    },
    {
     "output_type": "stream",
     "name": "stdout",
     "text": [
      " - ETA: 2s - loss: 0.3357 - accuracy: 0.8703"
     ]
    },
    {
     "output_type": "stream",
     "name": "stdout",
     "text": [
      "\b\b\b\b\b\b\b\b\b\b\b\b\b\b\b\b\b\b\b\b\b\b\b\b\b\b\b\b\b\b\b\b\b\b\b\b\b\b\b\b\b\b\b\b\b\b\b\b\b\b\b\b\b\b\b\b\b\b\b\b\b\b\b\b\b\b\b\b\b\b\b\b\b\b\b\b\b\b\b\b\b\b\b\b\b\b"
     ]
    },
    {
     "output_type": "stream",
     "name": "stdout",
     "text": [
      "\r"
     ]
    },
    {
     "output_type": "stream",
     "name": "stdout",
     "text": [
      " 141/1875 [=>............................]"
     ]
    },
    {
     "output_type": "stream",
     "name": "stdout",
     "text": [
      " - ETA: 2s - loss: 0.3391 - accuracy: 0.8715"
     ]
    },
    {
     "output_type": "stream",
     "name": "stdout",
     "text": [
      "\b\b\b\b\b\b\b\b\b\b\b\b\b\b\b\b\b\b\b\b\b\b\b\b\b\b\b\b\b\b\b\b\b\b\b\b\b\b\b\b\b\b\b\b\b\b\b\b\b\b\b\b\b\b\b\b\b\b\b\b\b\b\b\b\b\b\b\b\b\b\b\b\b\b\b\b\b\b\b\b\b\b\b\b\b\b"
     ]
    },
    {
     "output_type": "stream",
     "name": "stdout",
     "text": [
      "\r"
     ]
    },
    {
     "output_type": "stream",
     "name": "stdout",
     "text": [
      " 175/1875 [=>............................]"
     ]
    },
    {
     "output_type": "stream",
     "name": "stdout",
     "text": [
      " - ETA: 2s - loss: 0.3285 - accuracy: 0.8764"
     ]
    },
    {
     "output_type": "stream",
     "name": "stdout",
     "text": [
      "\b\b\b\b\b\b\b\b\b\b\b\b\b\b\b\b\b\b\b\b\b\b\b\b\b\b\b\b\b\b\b\b\b\b\b\b\b\b\b\b\b\b\b\b\b\b\b\b\b\b\b\b\b\b\b\b\b\b\b\b\b\b\b\b\b\b\b\b\b\b\b\b\b\b\b\b\b\b\b\b\b\b\b\b\b\b"
     ]
    },
    {
     "output_type": "stream",
     "name": "stdout",
     "text": [
      "\r"
     ]
    },
    {
     "output_type": "stream",
     "name": "stdout",
     "text": [
      " 211/1875 [==>...........................]"
     ]
    },
    {
     "output_type": "stream",
     "name": "stdout",
     "text": [
      " - ETA: 2s - loss: 0.3262 - accuracy: 0.8775"
     ]
    },
    {
     "output_type": "stream",
     "name": "stdout",
     "text": [
      "\b\b\b\b\b\b\b\b\b\b\b\b\b\b\b\b\b\b\b\b\b\b\b\b\b\b\b\b\b\b\b\b\b\b\b\b\b\b\b\b\b\b\b\b\b\b\b\b\b\b\b\b\b\b\b\b\b\b\b\b\b\b\b\b\b\b\b\b\b\b\b\b\b\b\b\b\b\b\b\b\b\b\b\b\b\b"
     ]
    },
    {
     "output_type": "stream",
     "name": "stdout",
     "text": [
      "\r"
     ]
    },
    {
     "output_type": "stream",
     "name": "stdout",
     "text": [
      " 246/1875 [==>...........................]"
     ]
    },
    {
     "output_type": "stream",
     "name": "stdout",
     "text": [
      " - ETA: 2s - loss: 0.3275 - accuracy: 0.8778"
     ]
    },
    {
     "output_type": "stream",
     "name": "stdout",
     "text": [
      "\b\b\b\b\b\b\b\b\b\b\b\b\b\b\b\b\b\b\b\b\b\b\b\b\b\b\b\b\b\b\b\b\b\b\b\b\b\b\b\b\b\b\b\b\b\b\b\b\b\b\b\b\b\b\b\b\b\b\b\b\b\b\b\b\b\b\b\b\b\b\b\b\b\b\b\b\b\b\b\b\b\b\b\b\b\b"
     ]
    },
    {
     "output_type": "stream",
     "name": "stdout",
     "text": [
      "\r"
     ]
    },
    {
     "output_type": "stream",
     "name": "stdout",
     "text": [
      " 281/1875 [===>..........................]"
     ]
    },
    {
     "output_type": "stream",
     "name": "stdout",
     "text": [
      " - ETA: 2s - loss: 0.3314 - accuracy: 0.8767"
     ]
    },
    {
     "output_type": "stream",
     "name": "stdout",
     "text": [
      "\b\b\b\b\b\b\b\b\b\b\b\b\b\b\b\b\b\b\b\b\b\b\b\b\b\b\b\b\b\b\b\b\b\b\b\b\b\b\b\b\b\b\b\b\b\b\b\b\b\b\b\b\b\b\b\b\b\b\b\b\b\b\b\b\b\b\b\b\b\b\b\b\b\b\b\b\b\b\b\b\b\b\b\b\b\b"
     ]
    },
    {
     "output_type": "stream",
     "name": "stdout",
     "text": [
      "\r"
     ]
    },
    {
     "output_type": "stream",
     "name": "stdout",
     "text": [
      " 316/1875 [====>.........................]"
     ]
    },
    {
     "output_type": "stream",
     "name": "stdout",
     "text": [
      " - ETA: 2s - loss: 0.3301 - accuracy: 0.8780"
     ]
    },
    {
     "output_type": "stream",
     "name": "stdout",
     "text": [
      "\b\b\b\b\b\b\b\b\b\b\b\b\b\b\b\b\b\b\b\b\b\b\b\b\b\b\b\b\b\b\b\b\b\b\b\b\b\b\b\b\b\b\b\b\b\b\b\b\b\b\b\b\b\b\b\b\b\b\b\b\b\b\b\b\b\b\b\b\b\b\b\b\b\b\b\b\b\b\b\b\b\b\b\b\b\b"
     ]
    },
    {
     "output_type": "stream",
     "name": "stdout",
     "text": [
      "\r"
     ]
    },
    {
     "output_type": "stream",
     "name": "stdout",
     "text": [
      " 352/1875 [====>.........................]"
     ]
    },
    {
     "output_type": "stream",
     "name": "stdout",
     "text": [
      " - ETA: 2s - loss: 0.3288 - accuracy: 0.8793"
     ]
    },
    {
     "output_type": "stream",
     "name": "stdout",
     "text": [
      "\b\b\b\b\b\b\b\b\b\b\b\b\b\b\b\b\b\b\b\b\b\b\b\b\b\b\b\b\b\b\b\b\b\b\b\b\b\b\b\b\b\b\b\b\b\b\b\b\b\b\b\b\b\b\b\b\b\b\b\b\b\b\b\b\b\b\b\b\b\b\b\b\b\b\b\b\b\b\b\b\b\b\b\b\b\b"
     ]
    },
    {
     "output_type": "stream",
     "name": "stdout",
     "text": [
      "\r"
     ]
    },
    {
     "output_type": "stream",
     "name": "stdout",
     "text": [
      " 388/1875 [=====>........................]"
     ]
    },
    {
     "output_type": "stream",
     "name": "stdout",
     "text": [
      " - ETA: 2s - loss: 0.3310 - accuracy: 0.8781"
     ]
    },
    {
     "output_type": "stream",
     "name": "stdout",
     "text": [
      "\b\b\b\b\b\b\b\b\b\b\b\b\b\b\b\b\b\b\b\b\b\b\b\b\b\b\b\b\b\b\b\b\b\b\b\b\b\b\b\b\b\b\b\b\b\b\b\b\b\b\b\b\b\b\b\b\b\b\b\b\b\b\b\b\b\b\b\b\b\b\b\b\b\b\b\b\b\b\b\b\b\b\b\b\b\b"
     ]
    },
    {
     "output_type": "stream",
     "name": "stdout",
     "text": [
      "\r"
     ]
    },
    {
     "output_type": "stream",
     "name": "stdout",
     "text": [
      " 423/1875 [=====>........................]"
     ]
    },
    {
     "output_type": "stream",
     "name": "stdout",
     "text": [
      " - ETA: 2s - loss: 0.3311 - accuracy: 0.8777"
     ]
    },
    {
     "output_type": "stream",
     "name": "stdout",
     "text": [
      "\b\b\b\b\b\b\b\b\b\b\b\b\b\b\b\b\b\b\b\b\b\b\b\b\b\b\b\b\b\b\b\b\b\b\b\b\b\b\b\b\b\b\b\b\b\b\b\b\b\b\b\b\b\b\b\b\b\b\b\b\b\b\b\b\b\b\b\b\b\b\b\b\b\b\b\b\b\b\b\b\b\b\b\b\b\b"
     ]
    },
    {
     "output_type": "stream",
     "name": "stdout",
     "text": [
      "\r"
     ]
    },
    {
     "output_type": "stream",
     "name": "stdout",
     "text": [
      " 458/1875 [======>.......................]"
     ]
    },
    {
     "output_type": "stream",
     "name": "stdout",
     "text": [
      " - ETA: 2s - loss: 0.3318 - accuracy: 0.8777"
     ]
    },
    {
     "output_type": "stream",
     "name": "stdout",
     "text": [
      "\b\b\b\b\b\b\b\b\b\b\b\b\b\b\b\b\b\b\b\b\b\b\b\b\b\b\b\b\b\b\b\b\b\b\b\b\b\b\b\b\b\b\b\b\b\b\b\b\b\b\b\b\b\b\b\b\b\b\b\b\b\b\b\b\b\b\b\b\b\b\b\b\b\b\b\b\b\b\b\b\b\b\b\b\b\b"
     ]
    },
    {
     "output_type": "stream",
     "name": "stdout",
     "text": [
      "\r"
     ]
    },
    {
     "output_type": "stream",
     "name": "stdout",
     "text": [
      " 494/1875 [======>.......................]"
     ]
    },
    {
     "output_type": "stream",
     "name": "stdout",
     "text": [
      " - ETA: 1s - loss: 0.3322 - accuracy: 0.8772"
     ]
    },
    {
     "output_type": "stream",
     "name": "stdout",
     "text": [
      "\b\b\b\b\b\b\b\b\b\b\b\b\b\b\b\b\b\b\b\b\b\b\b\b\b\b\b\b\b\b\b\b\b\b\b\b\b\b\b\b\b\b\b\b\b\b\b\b\b\b\b\b\b\b\b\b\b\b\b\b\b\b\b\b\b\b\b\b\b\b\b\b\b\b\b\b\b\b\b\b\b\b\b\b\b\b"
     ]
    },
    {
     "output_type": "stream",
     "name": "stdout",
     "text": [
      "\r"
     ]
    },
    {
     "output_type": "stream",
     "name": "stdout",
     "text": [
      " 529/1875 [=======>......................]"
     ]
    },
    {
     "output_type": "stream",
     "name": "stdout",
     "text": [
      " - ETA: 1s - loss: 0.3308 - accuracy: 0.8784"
     ]
    },
    {
     "output_type": "stream",
     "name": "stdout",
     "text": [
      "\b\b\b\b\b\b\b\b\b\b\b\b\b\b\b\b\b\b\b\b\b\b\b\b\b\b\b\b\b\b\b\b\b\b\b\b\b\b\b\b\b\b\b\b\b\b\b\b\b\b\b\b\b\b\b\b\b\b\b\b\b\b\b\b\b\b\b\b\b\b\b\b\b\b\b\b\b\b\b\b\b\b\b\b\b\b"
     ]
    },
    {
     "output_type": "stream",
     "name": "stdout",
     "text": [
      "\r"
     ]
    },
    {
     "output_type": "stream",
     "name": "stdout",
     "text": [
      " 564/1875 [========>.....................]"
     ]
    },
    {
     "output_type": "stream",
     "name": "stdout",
     "text": [
      " - ETA: 1s - loss: 0.3291 - accuracy: 0.8789"
     ]
    },
    {
     "output_type": "stream",
     "name": "stdout",
     "text": [
      "\b\b\b\b\b\b\b\b\b\b\b\b\b\b\b\b\b\b\b\b\b\b\b\b\b\b\b\b\b\b\b\b\b\b\b\b\b\b\b\b\b\b\b\b\b\b\b\b\b\b\b\b\b\b\b\b\b\b\b\b\b\b\b\b\b\b\b\b\b\b\b\b\b\b\b\b\b\b\b\b\b\b\b\b\b\b"
     ]
    },
    {
     "output_type": "stream",
     "name": "stdout",
     "text": [
      "\r"
     ]
    },
    {
     "output_type": "stream",
     "name": "stdout",
     "text": [
      " 599/1875 [========>.....................]"
     ]
    },
    {
     "output_type": "stream",
     "name": "stdout",
     "text": [
      " - ETA: 1s - loss: 0.3287 - accuracy: 0.8790"
     ]
    },
    {
     "output_type": "stream",
     "name": "stdout",
     "text": [
      "\b\b\b\b\b\b\b\b\b\b\b\b\b\b\b\b\b\b\b\b\b\b\b\b\b\b\b\b\b\b\b\b\b\b\b\b\b\b\b\b\b\b\b\b\b\b\b\b\b\b\b\b\b\b\b\b\b\b\b\b\b\b\b\b\b\b\b\b\b\b\b\b\b\b\b\b\b\b\b\b\b\b\b\b\b\b"
     ]
    },
    {
     "output_type": "stream",
     "name": "stdout",
     "text": [
      "\r"
     ]
    },
    {
     "output_type": "stream",
     "name": "stdout",
     "text": [
      " 634/1875 [=========>....................]"
     ]
    },
    {
     "output_type": "stream",
     "name": "stdout",
     "text": [
      " - ETA: 1s - loss: 0.3313 - accuracy: 0.8782"
     ]
    },
    {
     "output_type": "stream",
     "name": "stdout",
     "text": [
      "\b\b\b\b\b\b\b\b\b\b\b\b\b\b\b\b\b\b\b\b\b\b\b\b\b\b\b\b\b\b\b\b\b\b\b\b\b\b\b\b\b\b\b\b\b\b\b\b\b\b\b\b\b\b\b\b\b\b\b\b\b\b\b\b\b\b\b\b\b\b\b\b\b\b\b\b\b\b\b\b\b\b\b\b\b\b"
     ]
    },
    {
     "output_type": "stream",
     "name": "stdout",
     "text": [
      "\r"
     ]
    },
    {
     "output_type": "stream",
     "name": "stdout",
     "text": [
      " 669/1875 [=========>....................]"
     ]
    },
    {
     "output_type": "stream",
     "name": "stdout",
     "text": [
      " - ETA: 1s - loss: 0.3297 - accuracy: 0.8786"
     ]
    },
    {
     "output_type": "stream",
     "name": "stdout",
     "text": [
      "\b\b\b\b\b\b\b\b\b\b\b\b\b\b\b\b\b\b\b\b\b\b\b\b\b\b\b\b\b\b\b\b\b\b\b\b\b\b\b\b\b\b\b\b\b\b\b\b\b\b\b\b\b\b\b\b\b\b\b\b\b\b\b\b\b\b\b\b\b\b\b\b\b\b\b\b\b\b\b\b\b\b\b\b\b\b"
     ]
    },
    {
     "output_type": "stream",
     "name": "stdout",
     "text": [
      "\r"
     ]
    },
    {
     "output_type": "stream",
     "name": "stdout",
     "text": [
      " 705/1875 [==========>...................]"
     ]
    },
    {
     "output_type": "stream",
     "name": "stdout",
     "text": [
      " - ETA: 1s - loss: 0.3292 - accuracy: 0.8787"
     ]
    },
    {
     "output_type": "stream",
     "name": "stdout",
     "text": [
      "\b\b\b\b\b\b\b\b\b\b\b\b\b\b\b\b\b\b\b\b\b\b\b\b\b\b\b\b\b\b\b\b\b\b\b\b\b\b\b\b\b\b\b\b\b\b\b\b\b\b\b\b\b\b\b\b\b\b\b\b\b\b\b\b\b\b\b\b\b\b\b\b\b\b\b\b\b\b\b\b\b\b\b\b\b\b"
     ]
    },
    {
     "output_type": "stream",
     "name": "stdout",
     "text": [
      "\r"
     ]
    },
    {
     "output_type": "stream",
     "name": "stdout",
     "text": [
      " 740/1875 [==========>...................]"
     ]
    },
    {
     "output_type": "stream",
     "name": "stdout",
     "text": [
      " - ETA: 1s - loss: 0.3286 - accuracy: 0.8787"
     ]
    },
    {
     "output_type": "stream",
     "name": "stdout",
     "text": [
      "\b\b\b\b\b\b\b\b\b\b\b\b\b\b\b\b\b\b\b\b\b\b\b\b\b\b\b\b\b\b\b\b\b\b\b\b\b\b\b\b\b\b\b\b\b\b\b\b\b\b\b\b\b\b\b\b\b\b\b\b\b\b\b\b\b\b\b\b\b\b\b\b\b\b\b\b\b\b\b\b\b\b\b\b\b\b"
     ]
    },
    {
     "output_type": "stream",
     "name": "stdout",
     "text": [
      "\r"
     ]
    },
    {
     "output_type": "stream",
     "name": "stdout",
     "text": [
      " 776/1875 [===========>..................]"
     ]
    },
    {
     "output_type": "stream",
     "name": "stdout",
     "text": [
      " - ETA: 1s - loss: 0.3277 - accuracy: 0.8787"
     ]
    },
    {
     "output_type": "stream",
     "name": "stdout",
     "text": [
      "\b\b\b\b\b\b\b\b\b\b\b\b\b\b\b\b\b\b\b\b\b\b\b\b\b\b\b\b\b\b\b\b\b\b\b\b\b\b\b\b\b\b\b\b\b\b\b\b\b\b\b\b\b\b\b\b\b\b\b\b\b\b\b\b\b\b\b\b\b\b\b\b\b\b\b\b\b\b\b\b\b\b\b\b\b\b"
     ]
    },
    {
     "output_type": "stream",
     "name": "stdout",
     "text": [
      "\r"
     ]
    },
    {
     "output_type": "stream",
     "name": "stdout",
     "text": [
      " 811/1875 [===========>..................]"
     ]
    },
    {
     "output_type": "stream",
     "name": "stdout",
     "text": [
      " - ETA: 1s - loss: 0.3275 - accuracy: 0.8790"
     ]
    },
    {
     "output_type": "stream",
     "name": "stdout",
     "text": [
      "\b\b\b\b\b\b\b\b\b\b\b\b\b\b\b\b\b\b\b\b\b\b\b\b\b\b\b\b\b\b\b\b\b\b\b\b\b\b\b\b\b\b\b\b\b\b\b\b\b\b\b\b\b\b\b\b\b\b\b\b\b\b\b\b\b\b\b\b\b\b\b\b\b\b\b\b\b\b\b\b\b\b\b\b\b\b"
     ]
    },
    {
     "output_type": "stream",
     "name": "stdout",
     "text": [
      "\r"
     ]
    },
    {
     "output_type": "stream",
     "name": "stdout",
     "text": [
      " 846/1875 [============>.................]"
     ]
    },
    {
     "output_type": "stream",
     "name": "stdout",
     "text": [
      " - ETA: 1s - loss: 0.3274 - accuracy: 0.8791"
     ]
    },
    {
     "output_type": "stream",
     "name": "stdout",
     "text": [
      "\b\b\b\b\b\b\b\b\b\b\b\b\b\b\b\b\b\b\b\b\b\b\b\b\b\b\b\b\b\b\b\b\b\b\b\b\b\b\b\b\b\b\b\b\b\b\b\b\b\b\b\b\b\b\b\b\b\b\b\b\b\b\b\b\b\b\b\b\b\b\b\b\b\b\b\b\b\b\b\b\b\b\b\b\b\b"
     ]
    },
    {
     "output_type": "stream",
     "name": "stdout",
     "text": [
      "\r"
     ]
    },
    {
     "output_type": "stream",
     "name": "stdout",
     "text": [
      " 881/1875 [=============>................]"
     ]
    },
    {
     "output_type": "stream",
     "name": "stdout",
     "text": [
      " - ETA: 1s - loss: 0.3278 - accuracy: 0.8786"
     ]
    },
    {
     "output_type": "stream",
     "name": "stdout",
     "text": [
      "\b\b\b\b\b\b\b\b\b\b\b\b\b\b\b\b\b\b\b\b\b\b\b\b\b\b\b\b\b\b\b\b\b\b\b\b\b\b\b\b\b\b\b\b\b\b\b\b\b\b\b\b\b\b\b\b\b\b\b\b\b\b\b\b\b\b\b\b\b\b\b\b\b\b\b\b\b\b\b\b\b\b\b\b\b\b"
     ]
    },
    {
     "output_type": "stream",
     "name": "stdout",
     "text": [
      "\r"
     ]
    },
    {
     "output_type": "stream",
     "name": "stdout",
     "text": [
      " 916/1875 [=============>................]"
     ]
    },
    {
     "output_type": "stream",
     "name": "stdout",
     "text": [
      " - ETA: 1s - loss: 0.3274 - accuracy: 0.8787"
     ]
    },
    {
     "output_type": "stream",
     "name": "stdout",
     "text": [
      "\b\b\b\b\b\b\b\b\b\b\b\b\b\b\b\b\b\b\b\b\b\b\b\b\b\b\b\b\b\b\b\b\b\b\b\b\b\b\b\b\b\b\b\b\b\b\b\b\b\b\b\b\b\b\b\b\b\b\b\b\b\b\b\b\b\b\b\b\b\b\b\b\b\b\b\b\b\b\b\b\b\b\b\b\b\b"
     ]
    },
    {
     "output_type": "stream",
     "name": "stdout",
     "text": [
      "\r"
     ]
    },
    {
     "output_type": "stream",
     "name": "stdout",
     "text": [
      " 952/1875 [==============>...............]"
     ]
    },
    {
     "output_type": "stream",
     "name": "stdout",
     "text": [
      " - ETA: 1s - loss: 0.3270 - accuracy: 0.8786"
     ]
    },
    {
     "output_type": "stream",
     "name": "stdout",
     "text": [
      "\b\b\b\b\b\b\b\b\b\b\b\b\b\b\b\b\b\b\b\b\b\b\b\b\b\b\b\b\b\b\b\b\b\b\b\b\b\b\b\b\b\b\b\b\b\b\b\b\b\b\b\b\b\b\b\b\b\b\b\b\b\b\b\b\b\b\b\b\b\b\b\b\b\b\b\b\b\b\b\b\b\b\b\b\b\b"
     ]
    },
    {
     "output_type": "stream",
     "name": "stdout",
     "text": [
      "\r"
     ]
    },
    {
     "output_type": "stream",
     "name": "stdout",
     "text": [
      " 987/1875 [==============>...............]"
     ]
    },
    {
     "output_type": "stream",
     "name": "stdout",
     "text": [
      " - ETA: 1s - loss: 0.3271 - accuracy: 0.8785"
     ]
    },
    {
     "output_type": "stream",
     "name": "stdout",
     "text": [
      "\b\b\b\b\b\b\b\b\b\b\b\b\b\b\b\b\b\b\b\b\b\b\b\b\b\b\b\b\b\b\b\b\b\b\b\b\b\b\b\b\b\b\b\b\b\b\b\b\b\b\b\b\b\b\b\b\b\b\b\b\b\b\b\b\b\b\b\b\b\b\b\b\b\b\b\b\b\b\b\b\b\b\b\b\b\b"
     ]
    },
    {
     "output_type": "stream",
     "name": "stdout",
     "text": [
      "\r"
     ]
    },
    {
     "output_type": "stream",
     "name": "stdout",
     "text": [
      "1023/1875 [===============>..............]"
     ]
    },
    {
     "output_type": "stream",
     "name": "stdout",
     "text": [
      " - ETA: 1s - loss: 0.3283 - accuracy: 0.8785"
     ]
    },
    {
     "output_type": "stream",
     "name": "stdout",
     "text": [
      "\b\b\b\b\b\b\b\b\b\b\b\b\b\b\b\b\b\b\b\b\b\b\b\b\b\b\b\b\b\b\b\b\b\b\b\b\b\b\b\b\b\b\b\b\b\b\b\b\b\b\b\b\b\b\b\b\b\b\b\b\b\b\b\b\b\b\b\b\b\b\b\b\b\b\b\b\b\b\b\b\b\b\b\b\b\b"
     ]
    },
    {
     "output_type": "stream",
     "name": "stdout",
     "text": [
      "\r"
     ]
    },
    {
     "output_type": "stream",
     "name": "stdout",
     "text": [
      "1058/1875 [===============>..............]"
     ]
    },
    {
     "output_type": "stream",
     "name": "stdout",
     "text": [
      " - ETA: 1s - loss: 0.3285 - accuracy: 0.8786"
     ]
    },
    {
     "output_type": "stream",
     "name": "stdout",
     "text": [
      "\b\b\b\b\b\b\b\b\b\b\b\b\b\b\b\b\b\b\b\b\b\b\b\b\b\b\b\b\b\b\b\b\b\b\b\b\b\b\b\b\b\b\b\b\b\b\b\b\b\b\b\b\b\b\b\b\b\b\b\b\b\b\b\b\b\b\b\b\b\b\b\b\b\b\b\b\b\b\b\b\b\b\b\b\b\b"
     ]
    },
    {
     "output_type": "stream",
     "name": "stdout",
     "text": [
      "\r"
     ]
    },
    {
     "output_type": "stream",
     "name": "stdout",
     "text": [
      "1093/1875 [================>.............]"
     ]
    },
    {
     "output_type": "stream",
     "name": "stdout",
     "text": [
      " - ETA: 1s - loss: 0.3293 - accuracy: 0.8783"
     ]
    },
    {
     "output_type": "stream",
     "name": "stdout",
     "text": [
      "\b\b\b\b\b\b\b\b\b\b\b\b\b\b\b\b\b\b\b\b\b\b\b\b\b\b\b\b\b\b\b\b\b\b\b\b\b\b\b\b\b\b\b\b\b\b\b\b\b\b\b\b\b\b\b\b\b\b\b\b\b\b\b\b\b\b\b\b\b\b\b\b\b\b\b\b\b\b\b\b\b\b\b\b\b\b"
     ]
    },
    {
     "output_type": "stream",
     "name": "stdout",
     "text": [
      "\r"
     ]
    },
    {
     "output_type": "stream",
     "name": "stdout",
     "text": [
      "1127/1875 [=================>............]"
     ]
    },
    {
     "output_type": "stream",
     "name": "stdout",
     "text": [
      " - ETA: 1s - loss: 0.3301 - accuracy: 0.8779"
     ]
    },
    {
     "output_type": "stream",
     "name": "stdout",
     "text": [
      "\b\b\b\b\b\b\b\b\b\b\b\b\b\b\b\b\b\b\b\b\b\b\b\b\b\b\b\b\b\b\b\b\b\b\b\b\b\b\b\b\b\b\b\b\b\b\b\b\b\b\b\b\b\b\b\b\b\b\b\b\b\b\b\b\b\b\b\b\b\b\b\b\b\b\b\b\b\b\b\b\b\b\b\b\b\b"
     ]
    },
    {
     "output_type": "stream",
     "name": "stdout",
     "text": [
      "\r"
     ]
    },
    {
     "output_type": "stream",
     "name": "stdout",
     "text": [
      "1162/1875 [=================>............]"
     ]
    },
    {
     "output_type": "stream",
     "name": "stdout",
     "text": [
      " - ETA: 1s - loss: 0.3303 - accuracy: 0.8781"
     ]
    },
    {
     "output_type": "stream",
     "name": "stdout",
     "text": [
      "\b\b\b\b\b\b\b\b\b\b\b\b\b\b\b\b\b\b\b\b\b\b\b\b\b\b\b\b\b\b\b\b\b\b\b\b\b\b\b\b\b\b\b\b\b\b\b\b\b\b\b\b\b\b\b\b\b\b\b\b\b\b\b\b\b\b\b\b\b\b\b\b\b\b\b\b\b\b\b\b\b\b\b\b\b\b"
     ]
    },
    {
     "output_type": "stream",
     "name": "stdout",
     "text": [
      "\r"
     ]
    },
    {
     "output_type": "stream",
     "name": "stdout",
     "text": [
      "1197/1875 [==================>...........]"
     ]
    },
    {
     "output_type": "stream",
     "name": "stdout",
     "text": [
      " - ETA: 0s - loss: 0.3306 - accuracy: 0.8778"
     ]
    },
    {
     "output_type": "stream",
     "name": "stdout",
     "text": [
      "\b\b\b\b\b\b\b\b\b\b\b\b\b\b\b\b\b\b\b\b\b\b\b\b\b\b\b\b\b\b\b\b\b\b\b\b\b\b\b\b\b\b\b\b\b\b\b\b\b\b\b\b\b\b\b\b\b\b\b\b\b\b\b\b\b\b\b\b\b\b\b\b\b\b\b\b\b\b\b\b\b\b\b\b\b\b"
     ]
    },
    {
     "output_type": "stream",
     "name": "stdout",
     "text": [
      "\r"
     ]
    },
    {
     "output_type": "stream",
     "name": "stdout",
     "text": [
      "1233/1875 [==================>...........]"
     ]
    },
    {
     "output_type": "stream",
     "name": "stdout",
     "text": [
      " - ETA: 0s - loss: 0.3303 - accuracy: 0.8781"
     ]
    },
    {
     "output_type": "stream",
     "name": "stdout",
     "text": [
      "\b\b\b\b\b\b\b\b\b\b\b\b\b\b\b\b\b\b\b\b\b\b\b\b\b\b\b\b\b\b\b\b\b\b\b\b\b\b\b\b\b\b\b\b\b\b\b\b\b\b\b\b\b\b\b\b\b\b\b\b\b\b\b\b\b\b\b\b\b\b\b\b\b\b\b\b\b\b\b\b\b\b\b\b\b\b"
     ]
    },
    {
     "output_type": "stream",
     "name": "stdout",
     "text": [
      "\r"
     ]
    },
    {
     "output_type": "stream",
     "name": "stdout",
     "text": [
      "1267/1875 [===================>..........]"
     ]
    },
    {
     "output_type": "stream",
     "name": "stdout",
     "text": [
      " - ETA: 0s - loss: 0.3308 - accuracy: 0.8778"
     ]
    },
    {
     "output_type": "stream",
     "name": "stdout",
     "text": [
      "\b\b\b\b\b\b\b\b\b\b\b\b\b\b\b\b\b\b\b\b\b\b\b\b\b\b\b\b\b\b\b\b\b\b\b\b\b\b\b\b\b\b\b\b\b\b\b\b\b\b\b\b\b\b\b\b\b\b\b\b\b\b\b\b\b\b\b\b\b\b\b\b\b\b\b\b\b\b\b\b\b\b\b\b\b\b"
     ]
    },
    {
     "output_type": "stream",
     "name": "stdout",
     "text": [
      "\r"
     ]
    },
    {
     "output_type": "stream",
     "name": "stdout",
     "text": [
      "1302/1875 [===================>..........]"
     ]
    },
    {
     "output_type": "stream",
     "name": "stdout",
     "text": [
      " - ETA: 0s - loss: 0.3306 - accuracy: 0.8778"
     ]
    },
    {
     "output_type": "stream",
     "name": "stdout",
     "text": [
      "\b\b\b\b\b\b\b\b\b\b\b\b\b\b\b\b\b\b\b\b\b\b\b\b\b\b\b\b\b\b\b\b\b\b\b\b\b\b\b\b\b\b\b\b\b\b\b\b\b\b\b\b\b\b\b\b\b\b\b\b\b\b\b\b\b\b\b\b\b\b\b\b\b\b\b\b\b\b\b\b\b\b\b\b\b\b"
     ]
    },
    {
     "output_type": "stream",
     "name": "stdout",
     "text": [
      "\r"
     ]
    },
    {
     "output_type": "stream",
     "name": "stdout",
     "text": [
      "1337/1875 [====================>.........]"
     ]
    },
    {
     "output_type": "stream",
     "name": "stdout",
     "text": [
      " - ETA: 0s - loss: 0.3306 - accuracy: 0.8779"
     ]
    },
    {
     "output_type": "stream",
     "name": "stdout",
     "text": [
      "\b\b\b\b\b\b\b\b\b\b\b\b\b\b\b\b\b\b\b\b\b\b\b\b\b\b\b\b\b\b\b\b\b\b\b\b\b\b\b\b\b\b\b\b\b\b\b\b\b\b\b\b\b\b\b\b\b\b\b\b\b\b\b\b\b\b\b\b\b\b\b\b\b\b\b\b\b\b\b\b\b\b\b\b\b\b"
     ]
    },
    {
     "output_type": "stream",
     "name": "stdout",
     "text": [
      "\r"
     ]
    },
    {
     "output_type": "stream",
     "name": "stdout",
     "text": [
      "1372/1875 [====================>.........]"
     ]
    },
    {
     "output_type": "stream",
     "name": "stdout",
     "text": [
      " - ETA: 0s - loss: 0.3292 - accuracy: 0.8784"
     ]
    },
    {
     "output_type": "stream",
     "name": "stdout",
     "text": [
      "\b\b\b\b\b\b\b\b\b\b\b\b\b\b\b\b\b\b\b\b\b\b\b\b\b\b\b\b\b\b\b\b\b\b\b\b\b\b\b\b\b\b\b\b\b\b\b\b\b\b\b\b\b\b\b\b\b\b\b\b\b\b\b\b\b\b\b\b\b\b\b\b\b\b\b\b\b\b\b\b\b\b\b\b\b\b"
     ]
    },
    {
     "output_type": "stream",
     "name": "stdout",
     "text": [
      "\r"
     ]
    },
    {
     "output_type": "stream",
     "name": "stdout",
     "text": [
      "1408/1875 [=====================>........]"
     ]
    },
    {
     "output_type": "stream",
     "name": "stdout",
     "text": [
      " - ETA: 0s - loss: 0.3292 - accuracy: 0.8788"
     ]
    },
    {
     "output_type": "stream",
     "name": "stdout",
     "text": [
      "\b\b\b\b\b\b\b\b\b\b\b\b\b\b\b\b\b\b\b\b\b\b\b\b\b\b\b\b\b\b\b\b\b\b\b\b\b\b\b\b\b\b\b\b\b\b\b\b\b\b\b\b\b\b\b\b\b\b\b\b\b\b\b\b\b\b\b\b\b\b\b\b\b\b\b\b\b\b\b\b\b\b\b\b\b\b"
     ]
    },
    {
     "output_type": "stream",
     "name": "stdout",
     "text": [
      "\r"
     ]
    },
    {
     "output_type": "stream",
     "name": "stdout",
     "text": [
      "1443/1875 [======================>.......]"
     ]
    },
    {
     "output_type": "stream",
     "name": "stdout",
     "text": [
      " - ETA: 0s - loss: 0.3294 - accuracy: 0.8788"
     ]
    },
    {
     "output_type": "stream",
     "name": "stdout",
     "text": [
      "\b\b\b\b\b\b\b\b\b\b\b\b\b\b\b\b\b\b\b\b\b\b\b\b\b\b\b\b\b\b\b\b\b\b\b\b\b\b\b\b\b\b\b\b\b\b\b\b\b\b\b\b\b\b\b\b\b\b\b\b\b\b\b\b\b\b\b\b\b\b\b\b\b\b\b\b\b\b\b\b\b\b\b\b\b\b"
     ]
    },
    {
     "output_type": "stream",
     "name": "stdout",
     "text": [
      "\r"
     ]
    },
    {
     "output_type": "stream",
     "name": "stdout",
     "text": [
      "1478/1875 [======================>.......]"
     ]
    },
    {
     "output_type": "stream",
     "name": "stdout",
     "text": [
      " - ETA: 0s - loss: 0.3285 - accuracy: 0.8792"
     ]
    },
    {
     "output_type": "stream",
     "name": "stdout",
     "text": [
      "\b\b\b\b\b\b\b\b\b\b\b\b\b\b\b\b\b\b\b\b\b\b\b\b\b\b\b\b\b\b\b\b\b\b\b\b\b\b\b\b\b\b\b\b\b\b\b\b\b\b\b\b\b\b\b\b\b\b\b\b\b\b\b\b\b\b\b\b\b\b\b\b\b\b\b\b\b\b\b\b\b\b\b\b\b\b"
     ]
    },
    {
     "output_type": "stream",
     "name": "stdout",
     "text": [
      "\r"
     ]
    },
    {
     "output_type": "stream",
     "name": "stdout",
     "text": [
      "1513/1875 [=======================>......]"
     ]
    },
    {
     "output_type": "stream",
     "name": "stdout",
     "text": [
      " - ETA: 0s - loss: 0.3291 - accuracy: 0.8790"
     ]
    },
    {
     "output_type": "stream",
     "name": "stdout",
     "text": [
      "\b\b\b\b\b\b\b\b\b\b\b\b\b\b\b\b\b\b\b\b\b\b\b\b\b\b\b\b\b\b\b\b\b\b\b\b\b\b\b\b\b\b\b\b\b\b\b\b\b\b\b\b\b\b\b\b\b\b\b\b\b\b\b\b\b\b\b\b\b\b\b\b\b\b\b\b\b\b\b\b\b\b\b\b\b\b"
     ]
    },
    {
     "output_type": "stream",
     "name": "stdout",
     "text": [
      "\r"
     ]
    },
    {
     "output_type": "stream",
     "name": "stdout",
     "text": [
      "1549/1875 [=======================>......]"
     ]
    },
    {
     "output_type": "stream",
     "name": "stdout",
     "text": [
      " - ETA: 0s - loss: 0.3293 - accuracy: 0.8789"
     ]
    },
    {
     "output_type": "stream",
     "name": "stdout",
     "text": [
      "\b\b\b\b\b\b\b\b\b\b\b\b\b\b\b\b\b\b\b\b\b\b\b\b\b\b\b\b\b\b\b\b\b\b\b\b\b\b\b\b\b\b\b\b\b\b\b\b\b\b\b\b\b\b\b\b\b\b\b\b\b\b\b\b\b\b\b\b\b\b\b\b\b\b\b\b\b\b\b\b\b\b\b\b\b\b"
     ]
    },
    {
     "output_type": "stream",
     "name": "stdout",
     "text": [
      "\r"
     ]
    },
    {
     "output_type": "stream",
     "name": "stdout",
     "text": [
      "1585/1875 [========================>.....]"
     ]
    },
    {
     "output_type": "stream",
     "name": "stdout",
     "text": [
      " - ETA: 0s - loss: 0.3291 - accuracy: 0.8786"
     ]
    },
    {
     "output_type": "stream",
     "name": "stdout",
     "text": [
      "\b\b\b\b\b\b\b\b\b\b\b\b\b\b\b\b\b\b\b\b\b\b\b\b\b\b\b\b\b\b\b\b\b\b\b\b\b\b\b\b\b\b\b\b\b\b\b\b\b\b\b\b\b\b\b\b\b\b\b\b\b\b\b\b\b\b\b\b\b\b\b\b\b\b\b\b\b\b\b\b\b\b\b\b\b\b"
     ]
    },
    {
     "output_type": "stream",
     "name": "stdout",
     "text": [
      "\r"
     ]
    },
    {
     "output_type": "stream",
     "name": "stdout",
     "text": [
      "1620/1875 [========================>.....]"
     ]
    },
    {
     "output_type": "stream",
     "name": "stdout",
     "text": [
      " - ETA: 0s - loss: 0.3279 - accuracy: 0.8788"
     ]
    },
    {
     "output_type": "stream",
     "name": "stdout",
     "text": [
      "\b\b\b\b\b\b\b\b\b\b\b\b\b\b\b\b\b\b\b\b\b\b\b\b\b\b\b\b\b\b\b\b\b\b\b\b\b\b\b\b\b\b\b\b\b\b\b\b\b\b\b\b\b\b\b\b\b\b\b\b\b\b\b\b\b\b\b\b\b\b\b\b\b\b\b\b\b\b\b\b\b\b\b\b\b\b"
     ]
    },
    {
     "output_type": "stream",
     "name": "stdout",
     "text": [
      "\r"
     ]
    },
    {
     "output_type": "stream",
     "name": "stdout",
     "text": [
      "1655/1875 [=========================>....]"
     ]
    },
    {
     "output_type": "stream",
     "name": "stdout",
     "text": [
      " - ETA: 0s - loss: 0.3276 - accuracy: 0.8788"
     ]
    },
    {
     "output_type": "stream",
     "name": "stdout",
     "text": [
      "\b\b\b\b\b\b\b\b\b\b\b\b\b\b\b\b\b\b\b\b\b\b\b\b\b\b\b\b\b\b\b\b\b\b\b\b\b\b\b\b\b\b\b\b\b\b\b\b\b\b\b\b\b\b\b\b\b\b\b\b\b\b\b\b\b\b\b\b\b\b\b\b\b\b\b\b\b\b\b\b\b\b\b\b\b\b"
     ]
    },
    {
     "output_type": "stream",
     "name": "stdout",
     "text": [
      "\r"
     ]
    },
    {
     "output_type": "stream",
     "name": "stdout",
     "text": [
      "1691/1875 [==========================>...]"
     ]
    },
    {
     "output_type": "stream",
     "name": "stdout",
     "text": [
      " - ETA: 0s - loss: 0.3266 - accuracy: 0.8790"
     ]
    },
    {
     "output_type": "stream",
     "name": "stdout",
     "text": [
      "\b\b\b\b\b\b\b\b\b\b\b\b\b\b\b\b\b\b\b\b\b\b\b\b\b\b\b\b\b\b\b\b\b\b\b\b\b\b\b\b\b\b\b\b\b\b\b\b\b\b\b\b\b\b\b\b\b\b\b\b\b\b\b\b\b\b\b\b\b\b\b\b\b\b\b\b\b\b\b\b\b\b\b\b\b\b"
     ]
    },
    {
     "output_type": "stream",
     "name": "stdout",
     "text": [
      "\r"
     ]
    },
    {
     "output_type": "stream",
     "name": "stdout",
     "text": [
      "1726/1875 [==========================>...]"
     ]
    },
    {
     "output_type": "stream",
     "name": "stdout",
     "text": [
      " - ETA: 0s - loss: 0.3266 - accuracy: 0.8790"
     ]
    },
    {
     "output_type": "stream",
     "name": "stdout",
     "text": [
      "\b\b\b\b\b\b\b\b\b\b\b\b\b\b\b\b\b\b\b\b\b\b\b\b\b\b\b\b\b\b\b\b\b\b\b\b\b\b\b\b\b\b\b\b\b\b\b\b\b\b\b\b\b\b\b\b\b\b\b\b\b\b\b\b\b\b\b\b\b\b\b\b\b\b\b\b\b\b\b\b\b\b\b\b\b\b"
     ]
    },
    {
     "output_type": "stream",
     "name": "stdout",
     "text": [
      "\r"
     ]
    },
    {
     "output_type": "stream",
     "name": "stdout",
     "text": [
      "1762/1875 [===========================>..]"
     ]
    },
    {
     "output_type": "stream",
     "name": "stdout",
     "text": [
      " - ETA: 0s - loss: 0.3261 - accuracy: 0.8793"
     ]
    },
    {
     "output_type": "stream",
     "name": "stdout",
     "text": [
      "\b\b\b\b\b\b\b\b\b\b\b\b\b\b\b\b\b\b\b\b\b\b\b\b\b\b\b\b\b\b\b\b\b\b\b\b\b\b\b\b\b\b\b\b\b\b\b\b\b\b\b\b\b\b\b\b\b\b\b\b\b\b\b\b\b\b\b\b\b\b\b\b\b\b\b\b\b\b\b\b\b\b\b\b\b\b"
     ]
    },
    {
     "output_type": "stream",
     "name": "stdout",
     "text": [
      "\r"
     ]
    },
    {
     "output_type": "stream",
     "name": "stdout",
     "text": [
      "1797/1875 [===========================>..]"
     ]
    },
    {
     "output_type": "stream",
     "name": "stdout",
     "text": [
      " - ETA: 0s - loss: 0.3255 - accuracy: 0.8795"
     ]
    },
    {
     "output_type": "stream",
     "name": "stdout",
     "text": [
      "\b\b\b\b\b\b\b\b\b\b\b\b\b\b\b\b\b\b\b\b\b\b\b\b\b\b\b\b\b\b\b\b\b\b\b\b\b\b\b\b\b\b\b\b\b\b\b\b\b\b\b\b\b\b\b\b\b\b\b\b\b\b\b\b\b\b\b\b\b\b\b\b\b\b\b\b\b\b\b\b\b\b\b\b\b\b"
     ]
    },
    {
     "output_type": "stream",
     "name": "stdout",
     "text": [
      "\r"
     ]
    },
    {
     "output_type": "stream",
     "name": "stdout",
     "text": [
      "1832/1875 [============================>.]"
     ]
    },
    {
     "output_type": "stream",
     "name": "stdout",
     "text": [
      " - ETA: 0s - loss: 0.3252 - accuracy: 0.8795"
     ]
    },
    {
     "output_type": "stream",
     "name": "stdout",
     "text": [
      "\b\b\b\b\b\b\b\b\b\b\b\b\b\b\b\b\b\b\b\b\b\b\b\b\b\b\b\b\b\b\b\b\b\b\b\b\b\b\b\b\b\b\b\b\b\b\b\b\b\b\b\b\b\b\b\b\b\b\b\b\b\b\b\b\b\b\b\b\b\b\b\b\b\b\b\b\b\b\b\b\b\b\b\b\b\b"
     ]
    },
    {
     "output_type": "stream",
     "name": "stdout",
     "text": [
      "\r"
     ]
    },
    {
     "output_type": "stream",
     "name": "stdout",
     "text": [
      "1867/1875 [============================>.]"
     ]
    },
    {
     "output_type": "stream",
     "name": "stdout",
     "text": [
      " - ETA: 0s - loss: 0.3255 - accuracy: 0.8793"
     ]
    },
    {
     "output_type": "stream",
     "name": "stdout",
     "text": [
      "\b\b\b\b\b\b\b\b\b\b\b\b\b\b\b\b\b\b\b\b\b\b\b\b\b\b\b\b\b\b\b\b\b\b\b\b\b\b\b\b\b\b\b\b\b\b\b\b\b\b\b\b\b\b\b\b\b\b\b\b\b\b\b\b\b\b\b\b\b\b\b\b\b\b\b\b\b\b\b\b\b\b\b\b\b\b"
     ]
    },
    {
     "output_type": "stream",
     "name": "stdout",
     "text": [
      "\r"
     ]
    },
    {
     "output_type": "stream",
     "name": "stdout",
     "text": [
      "1875/1875 [==============================]"
     ]
    },
    {
     "output_type": "stream",
     "name": "stdout",
     "text": [
      " - 3s 2ms/step - loss: 0.3253 - accuracy: 0.8794 - val_loss: 0.3670 - val_accuracy: 0.8689\n"
     ]
    },
    {
     "output_type": "stream",
     "name": "stdout",
     "text": [
      "Epoch 4/10"
     ]
    },
    {
     "output_type": "stream",
     "name": "stdout",
     "text": [
      "\n"
     ]
    },
    {
     "output_type": "stream",
     "name": "stdout",
     "text": [
      "\r"
     ]
    },
    {
     "output_type": "stream",
     "name": "stdout",
     "text": [
      "   1/1875 [..............................]"
     ]
    },
    {
     "output_type": "stream",
     "name": "stdout",
     "text": [
      " - ETA: 0s - loss: 0.2586 - accuracy: 0.8750"
     ]
    },
    {
     "output_type": "stream",
     "name": "stdout",
     "text": [
      "\b\b\b\b\b\b\b\b\b\b\b\b\b\b\b\b\b\b\b\b\b\b\b\b\b\b\b\b\b\b\b\b\b\b\b\b\b\b\b\b\b\b\b\b\b\b\b\b\b\b\b\b\b\b\b\b\b\b\b\b\b\b\b\b\b\b\b\b\b\b\b\b\b\b\b\b\b\b\b\b\b\b\b\b\b\b"
     ]
    },
    {
     "output_type": "stream",
     "name": "stdout",
     "text": [
      "\r"
     ]
    },
    {
     "output_type": "stream",
     "name": "stdout",
     "text": [
      "  37/1875 [..............................]"
     ]
    },
    {
     "output_type": "stream",
     "name": "stdout",
     "text": [
      " - ETA: 2s - loss: 0.3132 - accuracy: 0.8809"
     ]
    },
    {
     "output_type": "stream",
     "name": "stdout",
     "text": [
      "\b\b\b\b\b\b\b\b\b\b\b\b\b\b\b\b\b\b\b\b\b\b\b\b\b\b\b\b\b\b\b\b\b\b\b\b\b\b\b\b\b\b\b\b\b\b\b\b\b\b\b\b\b\b\b\b\b\b\b\b\b\b\b\b\b\b\b\b\b\b\b\b\b\b\b\b\b\b\b\b\b\b\b\b\b\b"
     ]
    },
    {
     "output_type": "stream",
     "name": "stdout",
     "text": [
      "\r"
     ]
    },
    {
     "output_type": "stream",
     "name": "stdout",
     "text": [
      "  72/1875 [>.............................]"
     ]
    },
    {
     "output_type": "stream",
     "name": "stdout",
     "text": [
      " - ETA: 2s - loss: 0.3036 - accuracy: 0.8854"
     ]
    },
    {
     "output_type": "stream",
     "name": "stdout",
     "text": [
      "\b\b\b\b\b\b\b\b\b\b\b\b\b\b\b\b\b\b\b\b\b\b\b\b\b\b\b\b\b\b\b\b\b\b\b\b\b\b\b\b\b\b\b\b\b\b\b\b\b\b\b\b\b\b\b\b\b\b\b\b\b\b\b\b\b\b\b\b\b\b\b\b\b\b\b\b\b\b\b\b\b\b\b\b\b\b"
     ]
    },
    {
     "output_type": "stream",
     "name": "stdout",
     "text": [
      "\r"
     ]
    },
    {
     "output_type": "stream",
     "name": "stdout",
     "text": [
      " 107/1875 [>.............................]"
     ]
    },
    {
     "output_type": "stream",
     "name": "stdout",
     "text": [
      " - ETA: 2s - loss: 0.2939 - accuracy: 0.8893"
     ]
    },
    {
     "output_type": "stream",
     "name": "stdout",
     "text": [
      "\b\b\b\b\b\b\b\b\b\b\b\b\b\b\b\b\b\b\b\b\b\b\b\b\b\b\b\b\b\b\b\b\b\b\b\b\b\b\b\b\b\b\b\b\b\b\b\b\b\b\b\b\b\b\b\b\b\b\b\b\b\b\b\b\b\b\b\b\b\b\b\b\b\b\b\b\b\b\b\b\b\b\b\b\b\b"
     ]
    },
    {
     "output_type": "stream",
     "name": "stdout",
     "text": [
      "\r"
     ]
    },
    {
     "output_type": "stream",
     "name": "stdout",
     "text": [
      " 142/1875 [=>............................]"
     ]
    },
    {
     "output_type": "stream",
     "name": "stdout",
     "text": [
      " - ETA: 2s - loss: 0.2962 - accuracy: 0.8891"
     ]
    },
    {
     "output_type": "stream",
     "name": "stdout",
     "text": [
      "\b\b\b\b\b\b\b\b\b\b\b\b\b\b\b\b\b\b\b\b\b\b\b\b\b\b\b\b\b\b\b\b\b\b\b\b\b\b\b\b\b\b\b\b\b\b\b\b\b\b\b\b\b\b\b\b\b\b\b\b\b\b\b\b\b\b\b\b\b\b\b\b\b\b\b\b\b\b\b\b\b\b\b\b\b\b"
     ]
    },
    {
     "output_type": "stream",
     "name": "stdout",
     "text": [
      "\r"
     ]
    },
    {
     "output_type": "stream",
     "name": "stdout",
     "text": [
      " 177/1875 [=>............................]"
     ]
    },
    {
     "output_type": "stream",
     "name": "stdout",
     "text": [
      " - ETA: 2s - loss: 0.2945 - accuracy: 0.8886"
     ]
    },
    {
     "output_type": "stream",
     "name": "stdout",
     "text": [
      "\b\b\b\b\b\b\b\b\b\b\b\b\b\b\b\b\b\b\b\b\b\b\b\b\b\b\b\b\b\b\b\b\b\b\b\b\b\b\b\b\b\b\b\b\b\b\b\b\b\b\b\b\b\b\b\b\b\b\b\b\b\b\b\b\b\b\b\b\b\b\b\b\b\b\b\b\b\b\b\b\b\b\b\b\b\b"
     ]
    },
    {
     "output_type": "stream",
     "name": "stdout",
     "text": [
      "\r"
     ]
    },
    {
     "output_type": "stream",
     "name": "stdout",
     "text": [
      " 212/1875 [==>...........................]"
     ]
    },
    {
     "output_type": "stream",
     "name": "stdout",
     "text": [
      " - ETA: 2s - loss: 0.3031 - accuracy: 0.8871"
     ]
    },
    {
     "output_type": "stream",
     "name": "stdout",
     "text": [
      "\b\b\b\b\b\b\b\b\b\b\b\b\b\b\b\b\b\b\b\b\b\b\b\b\b\b\b\b\b\b\b\b\b\b\b\b\b\b\b\b\b\b\b\b\b\b\b\b\b\b\b\b\b\b\b\b\b\b\b\b\b\b\b\b\b\b\b\b\b\b\b\b\b\b\b\b\b\b\b\b\b\b\b\b\b\b"
     ]
    },
    {
     "output_type": "stream",
     "name": "stdout",
     "text": [
      "\r"
     ]
    },
    {
     "output_type": "stream",
     "name": "stdout",
     "text": [
      " 247/1875 [==>...........................]"
     ]
    },
    {
     "output_type": "stream",
     "name": "stdout",
     "text": [
      " - ETA: 2s - loss: 0.3012 - accuracy: 0.8868"
     ]
    },
    {
     "output_type": "stream",
     "name": "stdout",
     "text": [
      "\b\b\b\b\b\b\b\b\b\b\b\b\b\b\b\b\b\b\b\b\b\b\b\b\b\b\b\b\b\b\b\b\b\b\b\b\b\b\b\b\b\b\b\b\b\b\b\b\b\b\b\b\b\b\b\b\b\b\b\b\b\b\b\b\b\b\b\b\b\b\b\b\b\b\b\b\b\b\b\b\b\b\b\b\b\b"
     ]
    },
    {
     "output_type": "stream",
     "name": "stdout",
     "text": [
      "\r"
     ]
    },
    {
     "output_type": "stream",
     "name": "stdout",
     "text": [
      " 283/1875 [===>..........................]"
     ]
    },
    {
     "output_type": "stream",
     "name": "stdout",
     "text": [
      " - ETA: 2s - loss: 0.3015 - accuracy: 0.8848"
     ]
    },
    {
     "output_type": "stream",
     "name": "stdout",
     "text": [
      "\b\b\b\b\b\b\b\b\b\b\b\b\b\b\b\b\b\b\b\b\b\b\b\b\b\b\b\b\b\b\b\b\b\b\b\b\b\b\b\b\b\b\b\b\b\b\b\b\b\b\b\b\b\b\b\b\b\b\b\b\b\b\b\b\b\b\b\b\b\b\b\b\b\b\b\b\b\b\b\b\b\b\b\b\b\b"
     ]
    },
    {
     "output_type": "stream",
     "name": "stdout",
     "text": [
      "\r"
     ]
    },
    {
     "output_type": "stream",
     "name": "stdout",
     "text": [
      " 318/1875 [====>.........................]"
     ]
    },
    {
     "output_type": "stream",
     "name": "stdout",
     "text": [
      " - ETA: 2s - loss: 0.2985 - accuracy: 0.8863"
     ]
    },
    {
     "output_type": "stream",
     "name": "stdout",
     "text": [
      "\b\b\b\b\b\b\b\b\b\b\b\b\b\b\b\b\b\b\b\b\b\b\b\b\b\b\b\b\b\b\b\b\b\b\b\b\b\b\b\b\b\b\b\b\b\b\b\b\b\b\b\b\b\b\b\b\b\b\b\b\b\b\b\b\b\b\b\b\b\b\b\b\b\b\b\b\b\b\b\b\b\b\b\b\b\b"
     ]
    },
    {
     "output_type": "stream",
     "name": "stdout",
     "text": [
      "\r"
     ]
    },
    {
     "output_type": "stream",
     "name": "stdout",
     "text": [
      " 351/1875 [====>.........................]"
     ]
    },
    {
     "output_type": "stream",
     "name": "stdout",
     "text": [
      " - ETA: 2s - loss: 0.2984 - accuracy: 0.8863"
     ]
    },
    {
     "output_type": "stream",
     "name": "stdout",
     "text": [
      "\b\b\b\b\b\b\b\b\b\b\b\b\b\b\b\b\b\b\b\b\b\b\b\b\b\b\b\b\b\b\b\b\b\b\b\b\b\b\b\b\b\b\b\b\b\b\b\b\b\b\b\b\b\b\b\b\b\b\b\b\b\b\b\b\b\b\b\b\b\b\b\b\b\b\b\b\b\b\b\b\b\b\b\b\b\b"
     ]
    },
    {
     "output_type": "stream",
     "name": "stdout",
     "text": [
      "\r"
     ]
    },
    {
     "output_type": "stream",
     "name": "stdout",
     "text": [
      " 387/1875 [=====>........................]"
     ]
    },
    {
     "output_type": "stream",
     "name": "stdout",
     "text": [
      " - ETA: 2s - loss: 0.3017 - accuracy: 0.8853"
     ]
    },
    {
     "output_type": "stream",
     "name": "stdout",
     "text": [
      "\b\b\b\b\b\b\b\b\b\b\b\b\b\b\b\b\b\b\b\b\b\b\b\b\b\b\b\b\b\b\b\b\b\b\b\b\b\b\b\b\b\b\b\b\b\b\b\b\b\b\b\b\b\b\b\b\b\b\b\b\b\b\b\b\b\b\b\b\b\b\b\b\b\b\b\b\b\b\b\b\b\b\b\b\b\b"
     ]
    },
    {
     "output_type": "stream",
     "name": "stdout",
     "text": [
      "\r"
     ]
    },
    {
     "output_type": "stream",
     "name": "stdout",
     "text": [
      " 422/1875 [=====>........................]"
     ]
    },
    {
     "output_type": "stream",
     "name": "stdout",
     "text": [
      " - ETA: 2s - loss: 0.3012 - accuracy: 0.8856"
     ]
    },
    {
     "output_type": "stream",
     "name": "stdout",
     "text": [
      "\b\b\b\b\b\b\b\b\b\b\b\b\b\b\b\b\b\b\b\b\b\b\b\b\b\b\b\b\b\b\b\b\b\b\b\b\b\b\b\b\b\b\b\b\b\b\b\b\b\b\b\b\b\b\b\b\b\b\b\b\b\b\b\b\b\b\b\b\b\b\b\b\b\b\b\b\b\b\b\b\b\b\b\b\b\b"
     ]
    },
    {
     "output_type": "stream",
     "name": "stdout",
     "text": [
      "\r"
     ]
    },
    {
     "output_type": "stream",
     "name": "stdout",
     "text": [
      " 457/1875 [======>.......................]"
     ]
    },
    {
     "output_type": "stream",
     "name": "stdout",
     "text": [
      " - ETA: 2s - loss: 0.3005 - accuracy: 0.8854"
     ]
    },
    {
     "output_type": "stream",
     "name": "stdout",
     "text": [
      "\b\b\b\b\b\b\b\b\b\b\b\b\b\b\b\b\b\b\b\b\b\b\b\b\b\b\b\b\b\b\b\b\b\b\b\b\b\b\b\b\b\b\b\b\b\b\b\b\b\b\b\b\b\b\b\b\b\b\b\b\b\b\b\b\b\b\b\b\b\b\b\b\b\b\b\b\b\b\b\b\b\b\b\b\b\b"
     ]
    },
    {
     "output_type": "stream",
     "name": "stdout",
     "text": [
      "\r"
     ]
    },
    {
     "output_type": "stream",
     "name": "stdout",
     "text": [
      " 491/1875 [======>.......................]"
     ]
    },
    {
     "output_type": "stream",
     "name": "stdout",
     "text": [
      " - ETA: 1s - loss: 0.3008 - accuracy: 0.8856"
     ]
    },
    {
     "output_type": "stream",
     "name": "stdout",
     "text": [
      "\b\b\b\b\b\b\b\b\b\b\b\b\b\b\b\b\b\b\b\b\b\b\b\b\b\b\b\b\b\b\b\b\b\b\b\b\b\b\b\b\b\b\b\b\b\b\b\b\b\b\b\b\b\b\b\b\b\b\b\b\b\b\b\b\b\b\b\b\b\b\b\b\b\b\b\b\b\b\b\b\b\b\b\b\b\b"
     ]
    },
    {
     "output_type": "stream",
     "name": "stdout",
     "text": [
      "\r"
     ]
    },
    {
     "output_type": "stream",
     "name": "stdout",
     "text": [
      " 526/1875 [=======>......................]"
     ]
    },
    {
     "output_type": "stream",
     "name": "stdout",
     "text": [
      " - ETA: 1s - loss: 0.3012 - accuracy: 0.8856"
     ]
    },
    {
     "output_type": "stream",
     "name": "stdout",
     "text": [
      "\b\b\b\b\b\b\b\b\b\b\b\b\b\b\b\b\b\b\b\b\b\b\b\b\b\b\b\b\b\b\b\b\b\b\b\b\b\b\b\b\b\b\b\b\b\b\b\b\b\b\b\b\b\b\b\b\b\b\b\b\b\b\b\b\b\b\b\b\b\b\b\b\b\b\b\b\b\b\b\b\b\b\b\b\b\b"
     ]
    },
    {
     "output_type": "stream",
     "name": "stdout",
     "text": [
      "\r"
     ]
    },
    {
     "output_type": "stream",
     "name": "stdout",
     "text": [
      " 561/1875 [=======>......................]"
     ]
    },
    {
     "output_type": "stream",
     "name": "stdout",
     "text": [
      " - ETA: 1s - loss: 0.3013 - accuracy: 0.8852"
     ]
    },
    {
     "output_type": "stream",
     "name": "stdout",
     "text": [
      "\b\b\b\b\b\b\b\b\b\b\b\b\b\b\b\b\b\b\b\b\b\b\b\b\b\b\b\b\b\b\b\b\b\b\b\b\b\b\b\b\b\b\b\b\b\b\b\b\b\b\b\b\b\b\b\b\b\b\b\b\b\b\b\b\b\b\b\b\b\b\b\b\b\b\b\b\b\b\b\b\b\b\b\b\b\b"
     ]
    },
    {
     "output_type": "stream",
     "name": "stdout",
     "text": [
      "\r"
     ]
    },
    {
     "output_type": "stream",
     "name": "stdout",
     "text": [
      " 596/1875 [========>.....................]"
     ]
    },
    {
     "output_type": "stream",
     "name": "stdout",
     "text": [
      " - ETA: 1s - loss: 0.3015 - accuracy: 0.8850"
     ]
    },
    {
     "output_type": "stream",
     "name": "stdout",
     "text": [
      "\b\b\b\b\b\b\b\b\b\b\b\b\b\b\b\b\b\b\b\b\b\b\b\b\b\b\b\b\b\b\b\b\b\b\b\b\b\b\b\b\b\b\b\b\b\b\b\b\b\b\b\b\b\b\b\b\b\b\b\b\b\b\b\b\b\b\b\b\b\b\b\b\b\b\b\b\b\b\b\b\b\b\b\b\b\b"
     ]
    },
    {
     "output_type": "stream",
     "name": "stdout",
     "text": [
      "\r"
     ]
    },
    {
     "output_type": "stream",
     "name": "stdout",
     "text": [
      " 631/1875 [=========>....................]"
     ]
    },
    {
     "output_type": "stream",
     "name": "stdout",
     "text": [
      " - ETA: 1s - loss: 0.3035 - accuracy: 0.8842"
     ]
    },
    {
     "output_type": "stream",
     "name": "stdout",
     "text": [
      "\b\b\b\b\b\b\b\b\b\b\b\b\b\b\b\b\b\b\b\b\b\b\b\b\b\b\b\b\b\b\b\b\b\b\b\b\b\b\b\b\b\b\b\b\b\b\b\b\b\b\b\b\b\b\b\b\b\b\b\b\b\b\b\b\b\b\b\b\b\b\b\b\b\b\b\b\b\b\b\b\b\b\b\b\b\b"
     ]
    },
    {
     "output_type": "stream",
     "name": "stdout",
     "text": [
      "\r"
     ]
    },
    {
     "output_type": "stream",
     "name": "stdout",
     "text": [
      " 666/1875 [=========>....................]"
     ]
    },
    {
     "output_type": "stream",
     "name": "stdout",
     "text": [
      " - ETA: 1s - loss: 0.3059 - accuracy: 0.8830"
     ]
    },
    {
     "output_type": "stream",
     "name": "stdout",
     "text": [
      "\b\b\b\b\b\b\b\b\b\b\b\b\b\b\b\b\b\b\b\b\b\b\b\b\b\b\b\b\b\b\b\b\b\b\b\b\b\b\b\b\b\b\b\b\b\b\b\b\b\b\b\b\b\b\b\b\b\b\b\b\b\b\b\b\b\b\b\b\b\b\b\b\b\b\b\b\b\b\b\b\b\b\b\b\b\b"
     ]
    },
    {
     "output_type": "stream",
     "name": "stdout",
     "text": [
      "\r"
     ]
    },
    {
     "output_type": "stream",
     "name": "stdout",
     "text": [
      " 701/1875 [==========>...................]"
     ]
    },
    {
     "output_type": "stream",
     "name": "stdout",
     "text": [
      " - ETA: 1s - loss: 0.3060 - accuracy: 0.8828"
     ]
    },
    {
     "output_type": "stream",
     "name": "stdout",
     "text": [
      "\b\b\b\b\b\b\b\b\b\b\b\b\b\b\b\b\b\b\b\b\b\b\b\b\b\b\b\b\b\b\b\b\b\b\b\b\b\b\b\b\b\b\b\b\b\b\b\b\b\b\b\b\b\b\b\b\b\b\b\b\b\b\b\b\b\b\b\b\b\b\b\b\b\b\b\b\b\b\b\b\b\b\b\b\b\b"
     ]
    },
    {
     "output_type": "stream",
     "name": "stdout",
     "text": [
      "\r"
     ]
    },
    {
     "output_type": "stream",
     "name": "stdout",
     "text": [
      " 737/1875 [==========>...................]"
     ]
    },
    {
     "output_type": "stream",
     "name": "stdout",
     "text": [
      " - ETA: 1s - loss: 0.3069 - accuracy: 0.8827"
     ]
    },
    {
     "output_type": "stream",
     "name": "stdout",
     "text": [
      "\b\b\b\b\b\b\b\b\b\b\b\b\b\b\b\b\b\b\b\b\b\b\b\b\b\b\b\b\b\b\b\b\b\b\b\b\b\b\b\b\b\b\b\b\b\b\b\b\b\b\b\b\b\b\b\b\b\b\b\b\b\b\b\b\b\b\b\b\b\b\b\b\b\b\b\b\b\b\b\b\b\b\b\b\b\b"
     ]
    },
    {
     "output_type": "stream",
     "name": "stdout",
     "text": [
      "\r"
     ]
    },
    {
     "output_type": "stream",
     "name": "stdout",
     "text": [
      " 773/1875 [===========>..................]"
     ]
    },
    {
     "output_type": "stream",
     "name": "stdout",
     "text": [
      " - ETA: 1s - loss: 0.3075 - accuracy: 0.8829"
     ]
    },
    {
     "output_type": "stream",
     "name": "stdout",
     "text": [
      "\b\b\b\b\b\b\b\b\b\b\b\b\b\b\b\b\b\b\b\b\b\b\b\b\b\b\b\b\b\b\b\b\b\b\b\b\b\b\b\b\b\b\b\b\b\b\b\b\b\b\b\b\b\b\b\b\b\b\b\b\b\b\b\b\b\b\b\b\b\b\b\b\b\b\b\b\b\b\b\b\b\b\b\b\b\b"
     ]
    },
    {
     "output_type": "stream",
     "name": "stdout",
     "text": [
      "\r"
     ]
    },
    {
     "output_type": "stream",
     "name": "stdout",
     "text": [
      " 809/1875 [===========>..................]"
     ]
    },
    {
     "output_type": "stream",
     "name": "stdout",
     "text": [
      " - ETA: 1s - loss: 0.3079 - accuracy: 0.8829"
     ]
    },
    {
     "output_type": "stream",
     "name": "stdout",
     "text": [
      "\b\b\b\b\b\b\b\b\b\b\b\b\b\b\b\b\b\b\b\b\b\b\b\b\b\b\b\b\b\b\b\b\b\b\b\b\b\b\b\b\b\b\b\b\b\b\b\b\b\b\b\b\b\b\b\b\b\b\b\b\b\b\b\b\b\b\b\b\b\b\b\b\b\b\b\b\b\b\b\b\b\b\b\b\b\b"
     ]
    },
    {
     "output_type": "stream",
     "name": "stdout",
     "text": [
      "\r"
     ]
    },
    {
     "output_type": "stream",
     "name": "stdout",
     "text": [
      " 845/1875 [============>.................]"
     ]
    },
    {
     "output_type": "stream",
     "name": "stdout",
     "text": [
      " - ETA: 1s - loss: 0.3084 - accuracy: 0.8831"
     ]
    },
    {
     "output_type": "stream",
     "name": "stdout",
     "text": [
      "\b\b\b\b\b\b\b\b\b\b\b\b\b\b\b\b\b\b\b\b\b\b\b\b\b\b\b\b\b\b\b\b\b\b\b\b\b\b\b\b\b\b\b\b\b\b\b\b\b\b\b\b\b\b\b\b\b\b\b\b\b\b\b\b\b\b\b\b\b\b\b\b\b\b\b\b\b\b\b\b\b\b\b\b\b\b"
     ]
    },
    {
     "output_type": "stream",
     "name": "stdout",
     "text": [
      "\r"
     ]
    },
    {
     "output_type": "stream",
     "name": "stdout",
     "text": [
      " 879/1875 [=============>................]"
     ]
    },
    {
     "output_type": "stream",
     "name": "stdout",
     "text": [
      " - ETA: 1s - loss: 0.3082 - accuracy: 0.8828"
     ]
    },
    {
     "output_type": "stream",
     "name": "stdout",
     "text": [
      "\b\b\b\b\b\b\b\b\b\b\b\b\b\b\b\b\b\b\b\b\b\b\b\b\b\b\b\b\b\b\b\b\b\b\b\b\b\b\b\b\b\b\b\b\b\b\b\b\b\b\b\b\b\b\b\b\b\b\b\b\b\b\b\b\b\b\b\b\b\b\b\b\b\b\b\b\b\b\b\b\b\b\b\b\b\b"
     ]
    },
    {
     "output_type": "stream",
     "name": "stdout",
     "text": [
      "\r"
     ]
    },
    {
     "output_type": "stream",
     "name": "stdout",
     "text": [
      " 914/1875 [=============>................]"
     ]
    },
    {
     "output_type": "stream",
     "name": "stdout",
     "text": [
      " - ETA: 1s - loss: 0.3081 - accuracy: 0.8832"
     ]
    },
    {
     "output_type": "stream",
     "name": "stdout",
     "text": [
      "\b\b\b\b\b\b\b\b\b\b\b\b\b\b\b\b\b\b\b\b\b\b\b\b\b\b\b\b\b\b\b\b\b\b\b\b\b\b\b\b\b\b\b\b\b\b\b\b\b\b\b\b\b\b\b\b\b\b\b\b\b\b\b\b\b\b\b\b\b\b\b\b\b\b\b\b\b\b\b\b\b\b\b\b\b\b"
     ]
    },
    {
     "output_type": "stream",
     "name": "stdout",
     "text": [
      "\r"
     ]
    },
    {
     "output_type": "stream",
     "name": "stdout",
     "text": [
      " 949/1875 [==============>...............]"
     ]
    },
    {
     "output_type": "stream",
     "name": "stdout",
     "text": [
      " - ETA: 1s - loss: 0.3081 - accuracy: 0.8831"
     ]
    },
    {
     "output_type": "stream",
     "name": "stdout",
     "text": [
      "\b\b\b\b\b\b\b\b\b\b\b\b\b\b\b\b\b\b\b\b\b\b\b\b\b\b\b\b\b\b\b\b\b\b\b\b\b\b\b\b\b\b\b\b\b\b\b\b\b\b\b\b\b\b\b\b\b\b\b\b\b\b\b\b\b\b\b\b\b\b\b\b\b\b\b\b\b\b\b\b\b\b\b\b\b\b"
     ]
    },
    {
     "output_type": "stream",
     "name": "stdout",
     "text": [
      "\r"
     ]
    },
    {
     "output_type": "stream",
     "name": "stdout",
     "text": [
      " 983/1875 [==============>...............]"
     ]
    },
    {
     "output_type": "stream",
     "name": "stdout",
     "text": [
      " - ETA: 1s - loss: 0.3082 - accuracy: 0.8832"
     ]
    },
    {
     "output_type": "stream",
     "name": "stdout",
     "text": [
      "\b\b\b\b\b\b\b\b\b\b\b\b\b\b\b\b\b\b\b\b\b\b\b\b\b\b\b\b\b\b\b\b\b\b\b\b\b\b\b\b\b\b\b\b\b\b\b\b\b\b\b\b\b\b\b\b\b\b\b\b\b\b\b\b\b\b\b\b\b\b\b\b\b\b\b\b\b\b\b\b\b\b\b\b\b\b"
     ]
    },
    {
     "output_type": "stream",
     "name": "stdout",
     "text": [
      "\r"
     ]
    },
    {
     "output_type": "stream",
     "name": "stdout",
     "text": [
      "1019/1875 [===============>..............]"
     ]
    },
    {
     "output_type": "stream",
     "name": "stdout",
     "text": [
      " - ETA: 1s - loss: 0.3090 - accuracy: 0.8834"
     ]
    },
    {
     "output_type": "stream",
     "name": "stdout",
     "text": [
      "\b\b\b\b\b\b\b\b\b\b\b\b\b\b\b\b\b\b\b\b\b\b\b\b\b\b\b\b\b\b\b\b\b\b\b\b\b\b\b\b\b\b\b\b\b\b\b\b\b\b\b\b\b\b\b\b\b\b\b\b\b\b\b\b\b\b\b\b\b\b\b\b\b\b\b\b\b\b\b\b\b\b\b\b\b\b"
     ]
    },
    {
     "output_type": "stream",
     "name": "stdout",
     "text": [
      "\r"
     ]
    },
    {
     "output_type": "stream",
     "name": "stdout",
     "text": [
      "1055/1875 [===============>..............]"
     ]
    },
    {
     "output_type": "stream",
     "name": "stdout",
     "text": [
      " - ETA: 1s - loss: 0.3099 - accuracy: 0.8834"
     ]
    },
    {
     "output_type": "stream",
     "name": "stdout",
     "text": [
      "\b\b\b\b\b\b\b\b\b\b\b\b\b\b\b\b\b\b\b\b\b\b\b\b\b\b\b\b\b\b\b\b\b\b\b\b\b\b\b\b\b\b\b\b\b\b\b\b\b\b\b\b\b\b\b\b\b\b\b\b\b\b\b\b\b\b\b\b\b\b\b\b\b\b\b\b\b\b\b\b\b\b\b\b\b\b"
     ]
    },
    {
     "output_type": "stream",
     "name": "stdout",
     "text": [
      "\r"
     ]
    },
    {
     "output_type": "stream",
     "name": "stdout",
     "text": [
      "1089/1875 [================>.............]"
     ]
    },
    {
     "output_type": "stream",
     "name": "stdout",
     "text": [
      " - ETA: 1s - loss: 0.3103 - accuracy: 0.8834"
     ]
    },
    {
     "output_type": "stream",
     "name": "stdout",
     "text": [
      "\b\b\b\b\b\b\b\b\b\b\b\b\b\b\b\b\b\b\b\b\b\b\b\b\b\b\b\b\b\b\b\b\b\b\b\b\b\b\b\b\b\b\b\b\b\b\b\b\b\b\b\b\b\b\b\b\b\b\b\b\b\b\b\b\b\b\b\b\b\b\b\b\b\b\b\b\b\b\b\b\b\b\b\b\b\b"
     ]
    },
    {
     "output_type": "stream",
     "name": "stdout",
     "text": [
      "\r"
     ]
    },
    {
     "output_type": "stream",
     "name": "stdout",
     "text": [
      "1123/1875 [================>.............]"
     ]
    },
    {
     "output_type": "stream",
     "name": "stdout",
     "text": [
      " - ETA: 1s - loss: 0.3105 - accuracy: 0.8835"
     ]
    },
    {
     "output_type": "stream",
     "name": "stdout",
     "text": [
      "\b\b\b\b\b\b\b\b\b\b\b\b\b\b\b\b\b\b\b\b\b\b\b\b\b\b\b\b\b\b\b\b\b\b\b\b\b\b\b\b\b\b\b\b\b\b\b\b\b\b\b\b\b\b\b\b\b\b\b\b\b\b\b\b\b\b\b\b\b\b\b\b\b\b\b\b\b\b\b\b\b\b\b\b\b\b"
     ]
    },
    {
     "output_type": "stream",
     "name": "stdout",
     "text": [
      "\r"
     ]
    },
    {
     "output_type": "stream",
     "name": "stdout",
     "text": [
      "1159/1875 [=================>............]"
     ]
    },
    {
     "output_type": "stream",
     "name": "stdout",
     "text": [
      " - ETA: 1s - loss: 0.3089 - accuracy: 0.8844"
     ]
    },
    {
     "output_type": "stream",
     "name": "stdout",
     "text": [
      "\b\b\b\b\b\b\b\b\b\b\b\b\b\b\b\b\b\b\b\b\b\b\b\b\b\b\b\b\b\b\b\b\b\b\b\b\b\b\b\b\b\b\b\b\b\b\b\b\b\b\b\b\b\b\b\b\b\b\b\b\b\b\b\b\b\b\b\b\b\b\b\b\b\b\b\b\b\b\b\b\b\b\b\b\b\b"
     ]
    },
    {
     "output_type": "stream",
     "name": "stdout",
     "text": [
      "\r"
     ]
    },
    {
     "output_type": "stream",
     "name": "stdout",
     "text": [
      "1195/1875 [==================>...........]"
     ]
    },
    {
     "output_type": "stream",
     "name": "stdout",
     "text": [
      " - ETA: 0s - loss: 0.3080 - accuracy: 0.8850"
     ]
    },
    {
     "output_type": "stream",
     "name": "stdout",
     "text": [
      "\b\b\b\b\b\b\b\b\b\b\b\b\b\b\b\b\b\b\b\b\b\b\b\b\b\b\b\b\b\b\b\b\b\b\b\b\b\b\b\b\b\b\b\b\b\b\b\b\b\b\b\b\b\b\b\b\b\b\b\b\b\b\b\b\b\b\b\b\b\b\b\b\b\b\b\b\b\b\b\b\b\b\b\b\b\b"
     ]
    },
    {
     "output_type": "stream",
     "name": "stdout",
     "text": [
      "\r"
     ]
    },
    {
     "output_type": "stream",
     "name": "stdout",
     "text": [
      "1231/1875 [==================>...........]"
     ]
    },
    {
     "output_type": "stream",
     "name": "stdout",
     "text": [
      " - ETA: 0s - loss: 0.3078 - accuracy: 0.8850"
     ]
    },
    {
     "output_type": "stream",
     "name": "stdout",
     "text": [
      "\b\b\b\b\b\b\b\b\b\b\b\b\b\b\b\b\b\b\b\b\b\b\b\b\b\b\b\b\b\b\b\b\b\b\b\b\b\b\b\b\b\b\b\b\b\b\b\b\b\b\b\b\b\b\b\b\b\b\b\b\b\b\b\b\b\b\b\b\b\b\b\b\b\b\b\b\b\b\b\b\b\b\b\b\b\b"
     ]
    },
    {
     "output_type": "stream",
     "name": "stdout",
     "text": [
      "\r"
     ]
    },
    {
     "output_type": "stream",
     "name": "stdout",
     "text": [
      "1266/1875 [===================>..........]"
     ]
    },
    {
     "output_type": "stream",
     "name": "stdout",
     "text": [
      " - ETA: 0s - loss: 0.3076 - accuracy: 0.8851"
     ]
    },
    {
     "output_type": "stream",
     "name": "stdout",
     "text": [
      "\b\b\b\b\b\b\b\b\b\b\b\b\b\b\b\b\b\b\b\b\b\b\b\b\b\b\b\b\b\b\b\b\b\b\b\b\b\b\b\b\b\b\b\b\b\b\b\b\b\b\b\b\b\b\b\b\b\b\b\b\b\b\b\b\b\b\b\b\b\b\b\b\b\b\b\b\b\b\b\b\b\b\b\b\b\b"
     ]
    },
    {
     "output_type": "stream",
     "name": "stdout",
     "text": [
      "\r"
     ]
    },
    {
     "output_type": "stream",
     "name": "stdout",
     "text": [
      "1303/1875 [===================>..........]"
     ]
    },
    {
     "output_type": "stream",
     "name": "stdout",
     "text": [
      " - ETA: 0s - loss: 0.3067 - accuracy: 0.8857"
     ]
    },
    {
     "output_type": "stream",
     "name": "stdout",
     "text": [
      "\b\b\b\b\b\b\b\b\b\b\b\b\b\b\b\b\b\b\b\b\b\b\b\b\b\b\b\b\b\b\b\b\b\b\b\b\b\b\b\b\b\b\b\b\b\b\b\b\b\b\b\b\b\b\b\b\b\b\b\b\b\b\b\b\b\b\b\b\b\b\b\b\b\b\b\b\b\b\b\b\b\b\b\b\b\b"
     ]
    },
    {
     "output_type": "stream",
     "name": "stdout",
     "text": [
      "\r"
     ]
    },
    {
     "output_type": "stream",
     "name": "stdout",
     "text": [
      "1339/1875 [====================>.........]"
     ]
    },
    {
     "output_type": "stream",
     "name": "stdout",
     "text": [
      " - ETA: 0s - loss: 0.3059 - accuracy: 0.8861"
     ]
    },
    {
     "output_type": "stream",
     "name": "stdout",
     "text": [
      "\b\b\b\b\b\b\b\b\b\b\b\b\b\b\b\b\b\b\b\b\b\b\b\b\b\b\b\b\b\b\b\b\b\b\b\b\b\b\b\b\b\b\b\b\b\b\b\b\b\b\b\b\b\b\b\b\b\b\b\b\b\b\b\b\b\b\b\b\b\b\b\b\b\b\b\b\b\b\b\b\b\b\b\b\b\b"
     ]
    },
    {
     "output_type": "stream",
     "name": "stdout",
     "text": [
      "\r"
     ]
    },
    {
     "output_type": "stream",
     "name": "stdout",
     "text": [
      "1375/1875 [=====================>........]"
     ]
    },
    {
     "output_type": "stream",
     "name": "stdout",
     "text": [
      " - ETA: 0s - loss: 0.3052 - accuracy: 0.8864"
     ]
    },
    {
     "output_type": "stream",
     "name": "stdout",
     "text": [
      "\b\b\b\b\b\b\b\b\b\b\b\b\b\b\b\b\b\b\b\b\b\b\b\b\b\b\b\b\b\b\b\b\b\b\b\b\b\b\b\b\b\b\b\b\b\b\b\b\b\b\b\b\b\b\b\b\b\b\b\b\b\b\b\b\b\b\b\b\b\b\b\b\b\b\b\b\b\b\b\b\b\b\b\b\b\b"
     ]
    },
    {
     "output_type": "stream",
     "name": "stdout",
     "text": [
      "\r"
     ]
    },
    {
     "output_type": "stream",
     "name": "stdout",
     "text": [
      "1411/1875 [=====================>........]"
     ]
    },
    {
     "output_type": "stream",
     "name": "stdout",
     "text": [
      " - ETA: 0s - loss: 0.3040 - accuracy: 0.8869"
     ]
    },
    {
     "output_type": "stream",
     "name": "stdout",
     "text": [
      "\b\b\b\b\b\b\b\b\b\b\b\b\b\b\b\b\b\b\b\b\b\b\b\b\b\b\b\b\b\b\b\b\b\b\b\b\b\b\b\b\b\b\b\b\b\b\b\b\b\b\b\b\b\b\b\b\b\b\b\b\b\b\b\b\b\b\b\b\b\b\b\b\b\b\b\b\b\b\b\b\b\b\b\b\b\b"
     ]
    },
    {
     "output_type": "stream",
     "name": "stdout",
     "text": [
      "\r"
     ]
    },
    {
     "output_type": "stream",
     "name": "stdout",
     "text": [
      "1448/1875 [======================>.......]"
     ]
    },
    {
     "output_type": "stream",
     "name": "stdout",
     "text": [
      " - ETA: 0s - loss: 0.3034 - accuracy: 0.8872"
     ]
    },
    {
     "output_type": "stream",
     "name": "stdout",
     "text": [
      "\b\b\b\b\b\b\b\b\b\b\b\b\b\b\b\b\b\b\b\b\b\b\b\b\b\b\b\b\b\b\b\b\b\b\b\b\b\b\b\b\b\b\b\b\b\b\b\b\b\b\b\b\b\b\b\b\b\b\b\b\b\b\b\b\b\b\b\b\b\b\b\b\b\b\b\b\b\b\b\b\b\b\b\b\b\b"
     ]
    },
    {
     "output_type": "stream",
     "name": "stdout",
     "text": [
      "\r"
     ]
    },
    {
     "output_type": "stream",
     "name": "stdout",
     "text": [
      "1484/1875 [======================>.......]"
     ]
    },
    {
     "output_type": "stream",
     "name": "stdout",
     "text": [
      " - ETA: 0s - loss: 0.3030 - accuracy: 0.8875"
     ]
    },
    {
     "output_type": "stream",
     "name": "stdout",
     "text": [
      "\b\b\b\b\b\b\b\b\b\b\b\b\b\b\b\b\b\b\b\b\b\b\b\b\b\b\b\b\b\b\b\b\b\b\b\b\b\b\b\b\b\b\b\b\b\b\b\b\b\b\b\b\b\b\b\b\b\b\b\b\b\b\b\b\b\b\b\b\b\b\b\b\b\b\b\b\b\b\b\b\b\b\b\b\b\b"
     ]
    },
    {
     "output_type": "stream",
     "name": "stdout",
     "text": [
      "\r"
     ]
    },
    {
     "output_type": "stream",
     "name": "stdout",
     "text": [
      "1519/1875 [=======================>......]"
     ]
    },
    {
     "output_type": "stream",
     "name": "stdout",
     "text": [
      " - ETA: 0s - loss: 0.3027 - accuracy: 0.8875"
     ]
    },
    {
     "output_type": "stream",
     "name": "stdout",
     "text": [
      "\b\b\b\b\b\b\b\b\b\b\b\b\b\b\b\b\b\b\b\b\b\b\b\b\b\b\b\b\b\b\b\b\b\b\b\b\b\b\b\b\b\b\b\b\b\b\b\b\b\b\b\b\b\b\b\b\b\b\b\b\b\b\b\b\b\b\b\b\b\b\b\b\b\b\b\b\b\b\b\b\b\b\b\b\b\b"
     ]
    },
    {
     "output_type": "stream",
     "name": "stdout",
     "text": [
      "\r"
     ]
    },
    {
     "output_type": "stream",
     "name": "stdout",
     "text": [
      "1554/1875 [=======================>......]"
     ]
    },
    {
     "output_type": "stream",
     "name": "stdout",
     "text": [
      " - ETA: 0s - loss: 0.3034 - accuracy: 0.8875"
     ]
    },
    {
     "output_type": "stream",
     "name": "stdout",
     "text": [
      "\b\b\b\b\b\b\b\b\b\b\b\b\b\b\b\b\b\b\b\b\b\b\b\b\b\b\b\b\b\b\b\b\b\b\b\b\b\b\b\b\b\b\b\b\b\b\b\b\b\b\b\b\b\b\b\b\b\b\b\b\b\b\b\b\b\b\b\b\b\b\b\b\b\b\b\b\b\b\b\b\b\b\b\b\b\b"
     ]
    },
    {
     "output_type": "stream",
     "name": "stdout",
     "text": [
      "\r"
     ]
    },
    {
     "output_type": "stream",
     "name": "stdout",
     "text": [
      "1589/1875 [========================>.....]"
     ]
    },
    {
     "output_type": "stream",
     "name": "stdout",
     "text": [
      " - ETA: 0s - loss: 0.3035 - accuracy: 0.8876"
     ]
    },
    {
     "output_type": "stream",
     "name": "stdout",
     "text": [
      "\b\b\b\b\b\b\b\b\b\b\b\b\b\b\b\b\b\b\b\b\b\b\b\b\b\b\b\b\b\b\b\b\b\b\b\b\b\b\b\b\b\b\b\b\b\b\b\b\b\b\b\b\b\b\b\b\b\b\b\b\b\b\b\b\b\b\b\b\b\b\b\b\b\b\b\b\b\b\b\b\b\b\b\b\b\b"
     ]
    },
    {
     "output_type": "stream",
     "name": "stdout",
     "text": [
      "\r"
     ]
    },
    {
     "output_type": "stream",
     "name": "stdout",
     "text": [
      "1625/1875 [=========================>....]"
     ]
    },
    {
     "output_type": "stream",
     "name": "stdout",
     "text": [
      " - ETA: 0s - loss: 0.3026 - accuracy: 0.8880"
     ]
    },
    {
     "output_type": "stream",
     "name": "stdout",
     "text": [
      "\b\b\b\b\b\b\b\b\b\b\b\b\b\b\b\b\b\b\b\b\b\b\b\b\b\b\b\b\b\b\b\b\b\b\b\b\b\b\b\b\b\b\b\b\b\b\b\b\b\b\b\b\b\b\b\b\b\b\b\b\b\b\b\b\b\b\b\b\b\b\b\b\b\b\b\b\b\b\b\b\b\b\b\b\b\b"
     ]
    },
    {
     "output_type": "stream",
     "name": "stdout",
     "text": [
      "\r"
     ]
    },
    {
     "output_type": "stream",
     "name": "stdout",
     "text": [
      "1661/1875 [=========================>....]"
     ]
    },
    {
     "output_type": "stream",
     "name": "stdout",
     "text": [
      " - ETA: 0s - loss: 0.3025 - accuracy: 0.8878"
     ]
    },
    {
     "output_type": "stream",
     "name": "stdout",
     "text": [
      "\b\b\b\b\b\b\b\b\b\b\b\b\b\b\b\b\b\b\b\b\b\b\b\b\b\b\b\b\b\b\b\b\b\b\b\b\b\b\b\b\b\b\b\b\b\b\b\b\b\b\b\b\b\b\b\b\b\b\b\b\b\b\b\b\b\b\b\b\b\b\b\b\b\b\b\b\b\b\b\b\b\b\b\b\b\b"
     ]
    },
    {
     "output_type": "stream",
     "name": "stdout",
     "text": [
      "\r"
     ]
    },
    {
     "output_type": "stream",
     "name": "stdout",
     "text": [
      "1696/1875 [==========================>...]"
     ]
    },
    {
     "output_type": "stream",
     "name": "stdout",
     "text": [
      " - ETA: 0s - loss: 0.3025 - accuracy: 0.8878"
     ]
    },
    {
     "output_type": "stream",
     "name": "stdout",
     "text": [
      "\b\b\b\b\b\b\b\b\b\b\b\b\b\b\b\b\b\b\b\b\b\b\b\b\b\b\b\b\b\b\b\b\b\b\b\b\b\b\b\b\b\b\b\b\b\b\b\b\b\b\b\b\b\b\b\b\b\b\b\b\b\b\b\b\b\b\b\b\b\b\b\b\b\b\b\b\b\b\b\b\b\b\b\b\b\b"
     ]
    },
    {
     "output_type": "stream",
     "name": "stdout",
     "text": [
      "\r"
     ]
    },
    {
     "output_type": "stream",
     "name": "stdout",
     "text": [
      "1731/1875 [==========================>...]"
     ]
    },
    {
     "output_type": "stream",
     "name": "stdout",
     "text": [
      " - ETA: 0s - loss: 0.3035 - accuracy: 0.8875"
     ]
    },
    {
     "output_type": "stream",
     "name": "stdout",
     "text": [
      "\b\b\b\b\b\b\b\b\b\b\b\b\b\b\b\b\b\b\b\b\b\b\b\b\b\b\b\b\b\b\b\b\b\b\b\b\b\b\b\b\b\b\b\b\b\b\b\b\b\b\b\b\b\b\b\b\b\b\b\b\b\b\b\b\b\b\b\b\b\b\b\b\b\b\b\b\b\b\b\b\b\b\b\b\b\b"
     ]
    },
    {
     "output_type": "stream",
     "name": "stdout",
     "text": [
      "\r"
     ]
    },
    {
     "output_type": "stream",
     "name": "stdout",
     "text": [
      "1767/1875 [===========================>..]"
     ]
    },
    {
     "output_type": "stream",
     "name": "stdout",
     "text": [
      " - ETA: 0s - loss: 0.3034 - accuracy: 0.8877"
     ]
    },
    {
     "output_type": "stream",
     "name": "stdout",
     "text": [
      "\b\b\b\b\b\b\b\b\b\b\b\b\b\b\b\b\b\b\b\b\b\b\b\b\b\b\b\b\b\b\b\b\b\b\b\b\b\b\b\b\b\b\b\b\b\b\b\b\b\b\b\b\b\b\b\b\b\b\b\b\b\b\b\b\b\b\b\b\b\b\b\b\b\b\b\b\b\b\b\b\b\b\b\b\b\b"
     ]
    },
    {
     "output_type": "stream",
     "name": "stdout",
     "text": [
      "\r"
     ]
    },
    {
     "output_type": "stream",
     "name": "stdout",
     "text": [
      "1803/1875 [===========================>..]"
     ]
    },
    {
     "output_type": "stream",
     "name": "stdout",
     "text": [
      " - ETA: 0s - loss: 0.3036 - accuracy: 0.8876"
     ]
    },
    {
     "output_type": "stream",
     "name": "stdout",
     "text": [
      "\b\b\b\b\b\b\b\b\b\b\b\b\b\b\b\b\b\b\b\b\b\b\b\b\b\b\b\b\b\b\b\b\b\b\b\b\b\b\b\b\b\b\b\b\b\b\b\b\b\b\b\b\b\b\b\b\b\b\b\b\b\b\b\b\b\b\b\b\b\b\b\b\b\b\b\b\b\b\b\b\b\b\b\b\b\b"
     ]
    },
    {
     "output_type": "stream",
     "name": "stdout",
     "text": [
      "\r"
     ]
    },
    {
     "output_type": "stream",
     "name": "stdout",
     "text": [
      "1839/1875 [============================>.]"
     ]
    },
    {
     "output_type": "stream",
     "name": "stdout",
     "text": [
      " - ETA: 0s - loss: 0.3039 - accuracy: 0.8874"
     ]
    },
    {
     "output_type": "stream",
     "name": "stdout",
     "text": [
      "\b\b\b\b\b\b\b\b\b\b\b\b\b\b\b\b\b\b\b\b\b\b\b\b\b\b\b\b\b\b\b\b\b\b\b\b\b\b\b\b\b\b\b\b\b\b\b\b\b\b\b\b\b\b\b\b\b\b\b\b\b\b\b\b\b\b\b\b\b\b\b\b\b\b\b\b\b\b\b\b\b\b\b\b\b\b"
     ]
    },
    {
     "output_type": "stream",
     "name": "stdout",
     "text": [
      "\r"
     ]
    },
    {
     "output_type": "stream",
     "name": "stdout",
     "text": [
      "1875/1875 [==============================]"
     ]
    },
    {
     "output_type": "stream",
     "name": "stdout",
     "text": [
      " - ETA: 0s - loss: 0.3038 - accuracy: 0.8874"
     ]
    },
    {
     "output_type": "stream",
     "name": "stdout",
     "text": [
      "\b\b\b\b\b\b\b\b\b\b\b\b\b\b\b\b\b\b\b\b\b\b\b\b\b\b\b\b\b\b\b\b\b\b\b\b\b\b\b\b\b\b\b\b\b\b\b\b\b\b\b\b\b\b\b\b\b\b\b\b\b\b\b\b\b\b\b\b\b\b\b\b\b\b\b\b\b\b\b\b\b\b\b\b\b\b"
     ]
    },
    {
     "output_type": "stream",
     "name": "stdout",
     "text": [
      "\r"
     ]
    },
    {
     "output_type": "stream",
     "name": "stdout",
     "text": [
      "1875/1875 [==============================]"
     ]
    },
    {
     "output_type": "stream",
     "name": "stdout",
     "text": [
      " - 3s 2ms/step - loss: 0.3038 - accuracy: 0.8874 - val_loss: 0.3714 - val_accuracy: 0.8684\n"
     ]
    },
    {
     "output_type": "stream",
     "name": "stdout",
     "text": [
      "Epoch 5/10"
     ]
    },
    {
     "output_type": "stream",
     "name": "stdout",
     "text": [
      "\n"
     ]
    },
    {
     "output_type": "stream",
     "name": "stdout",
     "text": [
      "\r"
     ]
    },
    {
     "output_type": "stream",
     "name": "stdout",
     "text": [
      "   1/1875 [..............................]"
     ]
    },
    {
     "output_type": "stream",
     "name": "stdout",
     "text": [
      " - ETA: 0s - loss: 0.1024 - accuracy: 0.9688"
     ]
    },
    {
     "output_type": "stream",
     "name": "stdout",
     "text": [
      "\b\b\b\b\b\b\b\b\b\b\b\b\b\b\b\b\b\b\b\b\b\b\b\b\b\b\b\b\b\b\b\b\b\b\b\b\b\b\b\b\b\b\b\b\b\b\b\b\b\b\b\b\b\b\b\b\b\b\b\b\b\b\b\b\b\b\b\b\b\b\b\b\b\b\b\b\b\b\b\b\b\b\b\b\b\b"
     ]
    },
    {
     "output_type": "stream",
     "name": "stdout",
     "text": [
      "\r"
     ]
    },
    {
     "output_type": "stream",
     "name": "stdout",
     "text": [
      "  38/1875 [..............................]"
     ]
    },
    {
     "output_type": "stream",
     "name": "stdout",
     "text": [
      " - ETA: 2s - loss: 0.3100 - accuracy: 0.8824"
     ]
    },
    {
     "output_type": "stream",
     "name": "stdout",
     "text": [
      "\b\b\b\b\b\b\b\b\b\b\b\b\b\b\b\b\b\b\b\b\b\b\b\b\b\b\b\b\b\b\b\b\b\b\b\b\b\b\b\b\b\b\b\b\b\b\b\b\b\b\b\b\b\b\b\b\b\b\b\b\b\b\b\b\b\b\b\b\b\b\b\b\b\b\b\b\b\b\b\b\b\b\b\b\b\b"
     ]
    },
    {
     "output_type": "stream",
     "name": "stdout",
     "text": [
      "\r"
     ]
    },
    {
     "output_type": "stream",
     "name": "stdout",
     "text": [
      "  73/1875 [>.............................]"
     ]
    },
    {
     "output_type": "stream",
     "name": "stdout",
     "text": [
      " - ETA: 2s - loss: 0.3011 - accuracy: 0.8878"
     ]
    },
    {
     "output_type": "stream",
     "name": "stdout",
     "text": [
      "\b\b\b\b\b\b\b\b\b\b\b\b\b\b\b\b\b\b\b\b\b\b\b\b\b\b\b\b\b\b\b\b\b\b\b\b\b\b\b\b\b\b\b\b\b\b\b\b\b\b\b\b\b\b\b\b\b\b\b\b\b\b\b\b\b\b\b\b\b\b\b\b\b\b\b\b\b\b\b\b\b\b\b\b\b\b"
     ]
    },
    {
     "output_type": "stream",
     "name": "stdout",
     "text": [
      "\r"
     ]
    },
    {
     "output_type": "stream",
     "name": "stdout",
     "text": [
      " 108/1875 [>.............................]"
     ]
    },
    {
     "output_type": "stream",
     "name": "stdout",
     "text": [
      " - ETA: 2s - loss: 0.3008 - accuracy: 0.8895"
     ]
    },
    {
     "output_type": "stream",
     "name": "stdout",
     "text": [
      "\b\b\b\b\b\b\b\b\b\b\b\b\b\b\b\b\b\b\b\b\b\b\b\b\b\b\b\b\b\b\b\b\b\b\b\b\b\b\b\b\b\b\b\b\b\b\b\b\b\b\b\b\b\b\b\b\b\b\b\b\b\b\b\b\b\b\b\b\b\b\b\b\b\b\b\b\b\b\b\b\b\b\b\b\b\b"
     ]
    },
    {
     "output_type": "stream",
     "name": "stdout",
     "text": [
      "\r"
     ]
    },
    {
     "output_type": "stream",
     "name": "stdout",
     "text": [
      " 144/1875 [=>............................]"
     ]
    },
    {
     "output_type": "stream",
     "name": "stdout",
     "text": [
      " - ETA: 2s - loss: 0.2956 - accuracy: 0.8898"
     ]
    },
    {
     "output_type": "stream",
     "name": "stdout",
     "text": [
      "\b\b\b\b\b\b\b\b\b\b\b\b\b\b\b\b\b\b\b\b\b\b\b\b\b\b\b\b\b\b\b\b\b\b\b\b\b\b\b\b\b\b\b\b\b\b\b\b\b\b\b\b\b\b\b\b\b\b\b\b\b\b\b\b\b\b\b\b\b\b\b\b\b\b\b\b\b\b\b\b\b\b\b\b\b\b"
     ]
    },
    {
     "output_type": "stream",
     "name": "stdout",
     "text": [
      "\r"
     ]
    },
    {
     "output_type": "stream",
     "name": "stdout",
     "text": [
      " 180/1875 [=>............................]"
     ]
    },
    {
     "output_type": "stream",
     "name": "stdout",
     "text": [
      " - ETA: 2s - loss: 0.2941 - accuracy: 0.8899"
     ]
    },
    {
     "output_type": "stream",
     "name": "stdout",
     "text": [
      "\b\b\b\b\b\b\b\b\b\b\b\b\b\b\b\b\b\b\b\b\b\b\b\b\b\b\b\b\b\b\b\b\b\b\b\b\b\b\b\b\b\b\b\b\b\b\b\b\b\b\b\b\b\b\b\b\b\b\b\b\b\b\b\b\b\b\b\b\b\b\b\b\b\b\b\b\b\b\b\b\b\b\b\b\b\b"
     ]
    },
    {
     "output_type": "stream",
     "name": "stdout",
     "text": [
      "\r"
     ]
    },
    {
     "output_type": "stream",
     "name": "stdout",
     "text": [
      " 216/1875 [==>...........................]"
     ]
    },
    {
     "output_type": "stream",
     "name": "stdout",
     "text": [
      " - ETA: 2s - loss: 0.2901 - accuracy: 0.8932"
     ]
    },
    {
     "output_type": "stream",
     "name": "stdout",
     "text": [
      "\b\b\b\b\b\b\b\b\b\b\b\b\b\b\b\b\b\b\b\b\b\b\b\b\b\b\b\b\b\b\b\b\b\b\b\b\b\b\b\b\b\b\b\b\b\b\b\b\b\b\b\b\b\b\b\b\b\b\b\b\b\b\b\b\b\b\b\b\b\b\b\b\b\b\b\b\b\b\b\b\b\b\b\b\b\b"
     ]
    },
    {
     "output_type": "stream",
     "name": "stdout",
     "text": [
      "\r"
     ]
    },
    {
     "output_type": "stream",
     "name": "stdout",
     "text": [
      " 252/1875 [===>..........................]"
     ]
    },
    {
     "output_type": "stream",
     "name": "stdout",
     "text": [
      " - ETA: 2s - loss: 0.2890 - accuracy: 0.8941"
     ]
    },
    {
     "output_type": "stream",
     "name": "stdout",
     "text": [
      "\b\b\b\b\b\b\b\b\b\b\b\b\b\b\b\b\b\b\b\b\b\b\b\b\b\b\b\b\b\b\b\b\b\b\b\b\b\b\b\b\b\b\b\b\b\b\b\b\b\b\b\b\b\b\b\b\b\b\b\b\b\b\b\b\b\b\b\b\b\b\b\b\b\b\b\b\b\b\b\b\b\b\b\b\b\b"
     ]
    },
    {
     "output_type": "stream",
     "name": "stdout",
     "text": [
      "\r"
     ]
    },
    {
     "output_type": "stream",
     "name": "stdout",
     "text": [
      " 288/1875 [===>..........................]"
     ]
    },
    {
     "output_type": "stream",
     "name": "stdout",
     "text": [
      " - ETA: 2s - loss: 0.2907 - accuracy: 0.8927"
     ]
    },
    {
     "output_type": "stream",
     "name": "stdout",
     "text": [
      "\b\b\b\b\b\b\b\b\b\b\b\b\b\b\b\b\b\b\b\b\b\b\b\b\b\b\b\b\b\b\b\b\b\b\b\b\b\b\b\b\b\b\b\b\b\b\b\b\b\b\b\b\b\b\b\b\b\b\b\b\b\b\b\b\b\b\b\b\b\b\b\b\b\b\b\b\b\b\b\b\b\b\b\b\b\b"
     ]
    },
    {
     "output_type": "stream",
     "name": "stdout",
     "text": [
      "\r"
     ]
    },
    {
     "output_type": "stream",
     "name": "stdout",
     "text": [
      " 323/1875 [====>.........................]"
     ]
    },
    {
     "output_type": "stream",
     "name": "stdout",
     "text": [
      " - ETA: 2s - loss: 0.2918 - accuracy: 0.8914"
     ]
    },
    {
     "output_type": "stream",
     "name": "stdout",
     "text": [
      "\b\b\b\b\b\b\b\b\b\b\b\b\b\b\b\b\b\b\b\b\b\b\b\b\b\b\b\b\b\b\b\b\b\b\b\b\b\b\b\b\b\b\b\b\b\b\b\b\b\b\b\b\b\b\b\b\b\b\b\b\b\b\b\b\b\b\b\b\b\b\b\b\b\b\b\b\b\b\b\b\b\b\b\b\b\b"
     ]
    },
    {
     "output_type": "stream",
     "name": "stdout",
     "text": [
      "\r"
     ]
    },
    {
     "output_type": "stream",
     "name": "stdout",
     "text": [
      " 359/1875 [====>.........................]"
     ]
    },
    {
     "output_type": "stream",
     "name": "stdout",
     "text": [
      " - ETA: 2s - loss: 0.2920 - accuracy: 0.8915"
     ]
    },
    {
     "output_type": "stream",
     "name": "stdout",
     "text": [
      "\b\b\b\b\b\b\b\b\b\b\b\b\b\b\b\b\b\b\b\b\b\b\b\b\b\b\b\b\b\b\b\b\b\b\b\b\b\b\b\b\b\b\b\b\b\b\b\b\b\b\b\b\b\b\b\b\b\b\b\b\b\b\b\b\b\b\b\b\b\b\b\b\b\b\b\b\b\b\b\b\b\b\b\b\b\b"
     ]
    },
    {
     "output_type": "stream",
     "name": "stdout",
     "text": [
      "\r"
     ]
    },
    {
     "output_type": "stream",
     "name": "stdout",
     "text": [
      " 395/1875 [=====>........................]"
     ]
    },
    {
     "output_type": "stream",
     "name": "stdout",
     "text": [
      " - ETA: 2s - loss: 0.2913 - accuracy: 0.8922"
     ]
    },
    {
     "output_type": "stream",
     "name": "stdout",
     "text": [
      "\b\b\b\b\b\b\b\b\b\b\b\b\b\b\b\b\b\b\b\b\b\b\b\b\b\b\b\b\b\b\b\b\b\b\b\b\b\b\b\b\b\b\b\b\b\b\b\b\b\b\b\b\b\b\b\b\b\b\b\b\b\b\b\b\b\b\b\b\b\b\b\b\b\b\b\b\b\b\b\b\b\b\b\b\b\b"
     ]
    },
    {
     "output_type": "stream",
     "name": "stdout",
     "text": [
      "\r"
     ]
    },
    {
     "output_type": "stream",
     "name": "stdout",
     "text": [
      " 431/1875 [=====>........................]"
     ]
    },
    {
     "output_type": "stream",
     "name": "stdout",
     "text": [
      " - ETA: 2s - loss: 0.2921 - accuracy: 0.8922"
     ]
    },
    {
     "output_type": "stream",
     "name": "stdout",
     "text": [
      "\b\b\b\b\b\b\b\b\b\b\b\b\b\b\b\b\b\b\b\b\b\b\b\b\b\b\b\b\b\b\b\b\b\b\b\b\b\b\b\b\b\b\b\b\b\b\b\b\b\b\b\b\b\b\b\b\b\b\b\b\b\b\b\b\b\b\b\b\b\b\b\b\b\b\b\b\b\b\b\b\b\b\b\b\b\b"
     ]
    },
    {
     "output_type": "stream",
     "name": "stdout",
     "text": [
      "\r"
     ]
    },
    {
     "output_type": "stream",
     "name": "stdout",
     "text": [
      " 467/1875 [======>.......................]"
     ]
    },
    {
     "output_type": "stream",
     "name": "stdout",
     "text": [
      " - ETA: 1s - loss: 0.2925 - accuracy: 0.8919"
     ]
    },
    {
     "output_type": "stream",
     "name": "stdout",
     "text": [
      "\b\b\b\b\b\b\b\b\b\b\b\b\b\b\b\b\b\b\b\b\b\b\b\b\b\b\b\b\b\b\b\b\b\b\b\b\b\b\b\b\b\b\b\b\b\b\b\b\b\b\b\b\b\b\b\b\b\b\b\b\b\b\b\b\b\b\b\b\b\b\b\b\b\b\b\b\b\b\b\b\b\b\b\b\b\b"
     ]
    },
    {
     "output_type": "stream",
     "name": "stdout",
     "text": [
      "\r"
     ]
    },
    {
     "output_type": "stream",
     "name": "stdout",
     "text": [
      " 502/1875 [=======>......................]"
     ]
    },
    {
     "output_type": "stream",
     "name": "stdout",
     "text": [
      " - ETA: 1s - loss: 0.2931 - accuracy: 0.8916"
     ]
    },
    {
     "output_type": "stream",
     "name": "stdout",
     "text": [
      "\b\b\b\b\b\b\b\b\b\b\b\b\b\b\b\b\b\b\b\b\b\b\b\b\b\b\b\b\b\b\b\b\b\b\b\b\b\b\b\b\b\b\b\b\b\b\b\b\b\b\b\b\b\b\b\b\b\b\b\b\b\b\b\b\b\b\b\b\b\b\b\b\b\b\b\b\b\b\b\b\b\b\b\b\b\b"
     ]
    },
    {
     "output_type": "stream",
     "name": "stdout",
     "text": [
      "\r"
     ]
    },
    {
     "output_type": "stream",
     "name": "stdout",
     "text": [
      " 538/1875 [=======>......................]"
     ]
    },
    {
     "output_type": "stream",
     "name": "stdout",
     "text": [
      " - ETA: 1s - loss: 0.2917 - accuracy: 0.8926"
     ]
    },
    {
     "output_type": "stream",
     "name": "stdout",
     "text": [
      "\b\b\b\b\b\b\b\b\b\b\b\b\b\b\b\b\b\b\b\b\b\b\b\b\b\b\b\b\b\b\b\b\b\b\b\b\b\b\b\b\b\b\b\b\b\b\b\b\b\b\b\b\b\b\b\b\b\b\b\b\b\b\b\b\b\b\b\b\b\b\b\b\b\b\b\b\b\b\b\b\b\b\b\b\b\b"
     ]
    },
    {
     "output_type": "stream",
     "name": "stdout",
     "text": [
      "\r"
     ]
    },
    {
     "output_type": "stream",
     "name": "stdout",
     "text": [
      " 573/1875 [========>.....................]"
     ]
    },
    {
     "output_type": "stream",
     "name": "stdout",
     "text": [
      " - ETA: 1s - loss: 0.2928 - accuracy: 0.8921"
     ]
    },
    {
     "output_type": "stream",
     "name": "stdout",
     "text": [
      "\b\b\b\b\b\b\b\b\b\b\b\b\b\b\b\b\b\b\b\b\b\b\b\b\b\b\b\b\b\b\b\b\b\b\b\b\b\b\b\b\b\b\b\b\b\b\b\b\b\b\b\b\b\b\b\b\b\b\b\b\b\b\b\b\b\b\b\b\b\b\b\b\b\b\b\b\b\b\b\b\b\b\b\b\b\b"
     ]
    },
    {
     "output_type": "stream",
     "name": "stdout",
     "text": [
      "\r"
     ]
    },
    {
     "output_type": "stream",
     "name": "stdout",
     "text": [
      " 608/1875 [========>.....................]"
     ]
    },
    {
     "output_type": "stream",
     "name": "stdout",
     "text": [
      " - ETA: 1s - loss: 0.2925 - accuracy: 0.8924"
     ]
    },
    {
     "output_type": "stream",
     "name": "stdout",
     "text": [
      "\b\b\b\b\b\b\b\b\b\b\b\b\b\b\b\b\b\b\b\b\b\b\b\b\b\b\b\b\b\b\b\b\b\b\b\b\b\b\b\b\b\b\b\b\b\b\b\b\b\b\b\b\b\b\b\b\b\b\b\b\b\b\b\b\b\b\b\b\b\b\b\b\b\b\b\b\b\b\b\b\b\b\b\b\b\b"
     ]
    },
    {
     "output_type": "stream",
     "name": "stdout",
     "text": [
      "\r"
     ]
    },
    {
     "output_type": "stream",
     "name": "stdout",
     "text": [
      " 644/1875 [=========>....................]"
     ]
    },
    {
     "output_type": "stream",
     "name": "stdout",
     "text": [
      " - ETA: 1s - loss: 0.2918 - accuracy: 0.8933"
     ]
    },
    {
     "output_type": "stream",
     "name": "stdout",
     "text": [
      "\b\b\b\b\b\b\b\b\b\b\b\b\b\b\b\b\b\b\b\b\b\b\b\b\b\b\b\b\b\b\b\b\b\b\b\b\b\b\b\b\b\b\b\b\b\b\b\b\b\b\b\b\b\b\b\b\b\b\b\b\b\b\b\b\b\b\b\b\b\b\b\b\b\b\b\b\b\b\b\b\b\b\b\b\b\b"
     ]
    },
    {
     "output_type": "stream",
     "name": "stdout",
     "text": [
      "\r"
     ]
    },
    {
     "output_type": "stream",
     "name": "stdout",
     "text": [
      " 681/1875 [=========>....................]"
     ]
    },
    {
     "output_type": "stream",
     "name": "stdout",
     "text": [
      " - ETA: 1s - loss: 0.2928 - accuracy: 0.8936"
     ]
    },
    {
     "output_type": "stream",
     "name": "stdout",
     "text": [
      "\b\b\b\b\b\b\b\b\b\b\b\b\b\b\b\b\b\b\b\b\b\b\b\b\b\b\b\b\b\b\b\b\b\b\b\b\b\b\b\b\b\b\b\b\b\b\b\b\b\b\b\b\b\b\b\b\b\b\b\b\b\b\b\b\b\b\b\b\b\b\b\b\b\b\b\b\b\b\b\b\b\b\b\b\b\b"
     ]
    },
    {
     "output_type": "stream",
     "name": "stdout",
     "text": [
      "\r"
     ]
    },
    {
     "output_type": "stream",
     "name": "stdout",
     "text": [
      " 717/1875 [==========>...................]"
     ]
    },
    {
     "output_type": "stream",
     "name": "stdout",
     "text": [
      " - ETA: 1s - loss: 0.2933 - accuracy: 0.8930"
     ]
    },
    {
     "output_type": "stream",
     "name": "stdout",
     "text": [
      "\b\b\b\b\b\b\b\b\b\b\b\b\b\b\b\b\b\b\b\b\b\b\b\b\b\b\b\b\b\b\b\b\b\b\b\b\b\b\b\b\b\b\b\b\b\b\b\b\b\b\b\b\b\b\b\b\b\b\b\b\b\b\b\b\b\b\b\b\b\b\b\b\b\b\b\b\b\b\b\b\b\b\b\b\b\b"
     ]
    },
    {
     "output_type": "stream",
     "name": "stdout",
     "text": [
      "\r"
     ]
    },
    {
     "output_type": "stream",
     "name": "stdout",
     "text": [
      " 753/1875 [===========>..................]"
     ]
    },
    {
     "output_type": "stream",
     "name": "stdout",
     "text": [
      " - ETA: 1s - loss: 0.2912 - accuracy: 0.8935"
     ]
    },
    {
     "output_type": "stream",
     "name": "stdout",
     "text": [
      "\b\b\b\b\b\b\b\b\b\b\b\b\b\b\b\b\b\b\b\b\b\b\b\b\b\b\b\b\b\b\b\b\b\b\b\b\b\b\b\b\b\b\b\b\b\b\b\b\b\b\b\b\b\b\b\b\b\b\b\b\b\b\b\b\b\b\b\b\b\b\b\b\b\b\b\b\b\b\b\b\b\b\b\b\b\b"
     ]
    },
    {
     "output_type": "stream",
     "name": "stdout",
     "text": [
      "\r"
     ]
    },
    {
     "output_type": "stream",
     "name": "stdout",
     "text": [
      " 790/1875 [===========>..................]"
     ]
    },
    {
     "output_type": "stream",
     "name": "stdout",
     "text": [
      " - ETA: 1s - loss: 0.2895 - accuracy: 0.8938"
     ]
    },
    {
     "output_type": "stream",
     "name": "stdout",
     "text": [
      "\b\b\b\b\b\b\b\b\b\b\b\b\b\b\b\b\b\b\b\b\b\b\b\b\b\b\b\b\b\b\b\b\b\b\b\b\b\b\b\b\b\b\b\b\b\b\b\b\b\b\b\b\b\b\b\b\b\b\b\b\b\b\b\b\b\b\b\b\b\b\b\b\b\b\b\b\b\b\b\b\b\b\b\b\b\b"
     ]
    },
    {
     "output_type": "stream",
     "name": "stdout",
     "text": [
      "\r"
     ]
    },
    {
     "output_type": "stream",
     "name": "stdout",
     "text": [
      " 826/1875 [============>.................]"
     ]
    },
    {
     "output_type": "stream",
     "name": "stdout",
     "text": [
      " - ETA: 1s - loss: 0.2891 - accuracy: 0.8939"
     ]
    },
    {
     "output_type": "stream",
     "name": "stdout",
     "text": [
      "\b\b\b\b\b\b\b\b\b\b\b\b\b\b\b\b\b\b\b\b\b\b\b\b\b\b\b\b\b\b\b\b\b\b\b\b\b\b\b\b\b\b\b\b\b\b\b\b\b\b\b\b\b\b\b\b\b\b\b\b\b\b\b\b\b\b\b\b\b\b\b\b\b\b\b\b\b\b\b\b\b\b\b\b\b\b"
     ]
    },
    {
     "output_type": "stream",
     "name": "stdout",
     "text": [
      "\r"
     ]
    },
    {
     "output_type": "stream",
     "name": "stdout",
     "text": [
      " 861/1875 [============>.................]"
     ]
    },
    {
     "output_type": "stream",
     "name": "stdout",
     "text": [
      " - ETA: 1s - loss: 0.2889 - accuracy: 0.8935"
     ]
    },
    {
     "output_type": "stream",
     "name": "stdout",
     "text": [
      "\b\b\b\b\b\b\b\b\b\b\b\b\b\b\b\b\b\b\b\b\b\b\b\b\b\b\b\b\b\b\b\b\b\b\b\b\b\b\b\b\b\b\b\b\b\b\b\b\b\b\b\b\b\b\b\b\b\b\b\b\b\b\b\b\b\b\b\b\b\b\b\b\b\b\b\b\b\b\b\b\b\b\b\b\b\b"
     ]
    },
    {
     "output_type": "stream",
     "name": "stdout",
     "text": [
      "\r"
     ]
    },
    {
     "output_type": "stream",
     "name": "stdout",
     "text": [
      " 896/1875 [=============>................]"
     ]
    },
    {
     "output_type": "stream",
     "name": "stdout",
     "text": [
      " - ETA: 1s - loss: 0.2880 - accuracy: 0.8940"
     ]
    },
    {
     "output_type": "stream",
     "name": "stdout",
     "text": [
      "\b\b\b\b\b\b\b\b\b\b\b\b\b\b\b\b\b\b\b\b\b\b\b\b\b\b\b\b\b\b\b\b\b\b\b\b\b\b\b\b\b\b\b\b\b\b\b\b\b\b\b\b\b\b\b\b\b\b\b\b\b\b\b\b\b\b\b\b\b\b\b\b\b\b\b\b\b\b\b\b\b\b\b\b\b\b"
     ]
    },
    {
     "output_type": "stream",
     "name": "stdout",
     "text": [
      "\r"
     ]
    },
    {
     "output_type": "stream",
     "name": "stdout",
     "text": [
      " 931/1875 [=============>................]"
     ]
    },
    {
     "output_type": "stream",
     "name": "stdout",
     "text": [
      " - ETA: 1s - loss: 0.2883 - accuracy: 0.8935"
     ]
    },
    {
     "output_type": "stream",
     "name": "stdout",
     "text": [
      "\b\b\b\b\b\b\b\b\b\b\b\b\b\b\b\b\b\b\b\b\b\b\b\b\b\b\b\b\b\b\b\b\b\b\b\b\b\b\b\b\b\b\b\b\b\b\b\b\b\b\b\b\b\b\b\b\b\b\b\b\b\b\b\b\b\b\b\b\b\b\b\b\b\b\b\b\b\b\b\b\b\b\b\b\b\b"
     ]
    },
    {
     "output_type": "stream",
     "name": "stdout",
     "text": [
      "\r"
     ]
    },
    {
     "output_type": "stream",
     "name": "stdout",
     "text": [
      " 966/1875 [==============>...............]"
     ]
    },
    {
     "output_type": "stream",
     "name": "stdout",
     "text": [
      " - ETA: 1s - loss: 0.2871 - accuracy: 0.8939"
     ]
    },
    {
     "output_type": "stream",
     "name": "stdout",
     "text": [
      "\b\b\b\b\b\b\b\b\b\b\b\b\b\b\b\b\b\b\b\b\b\b\b\b\b\b\b\b\b\b\b\b\b\b\b\b\b\b\b\b\b\b\b\b\b\b\b\b\b\b\b\b\b\b\b\b\b\b\b\b\b\b\b\b\b\b\b\b\b\b\b\b\b\b\b\b\b\b\b\b\b\b\b\b\b\b"
     ]
    },
    {
     "output_type": "stream",
     "name": "stdout",
     "text": [
      "\r"
     ]
    },
    {
     "output_type": "stream",
     "name": "stdout",
     "text": [
      "1001/1875 [===============>..............]"
     ]
    },
    {
     "output_type": "stream",
     "name": "stdout",
     "text": [
      " - ETA: 1s - loss: 0.2869 - accuracy: 0.8937"
     ]
    },
    {
     "output_type": "stream",
     "name": "stdout",
     "text": [
      "\b\b\b\b\b\b\b\b\b\b\b\b\b\b\b\b\b\b\b\b\b\b\b\b\b\b\b\b\b\b\b\b\b\b\b\b\b\b\b\b\b\b\b\b\b\b\b\b\b\b\b\b\b\b\b\b\b\b\b\b\b\b\b\b\b\b\b\b\b\b\b\b\b\b\b\b\b\b\b\b\b\b\b\b\b\b"
     ]
    },
    {
     "output_type": "stream",
     "name": "stdout",
     "text": [
      "\r"
     ]
    },
    {
     "output_type": "stream",
     "name": "stdout",
     "text": [
      "1037/1875 [===============>..............]"
     ]
    },
    {
     "output_type": "stream",
     "name": "stdout",
     "text": [
      " - ETA: 1s - loss: 0.2857 - accuracy: 0.8939"
     ]
    },
    {
     "output_type": "stream",
     "name": "stdout",
     "text": [
      "\b\b\b\b\b\b\b\b\b\b\b\b\b\b\b\b\b\b\b\b\b\b\b\b\b\b\b\b\b\b\b\b\b\b\b\b\b\b\b\b\b\b\b\b\b\b\b\b\b\b\b\b\b\b\b\b\b\b\b\b\b\b\b\b\b\b\b\b\b\b\b\b\b\b\b\b\b\b\b\b\b\b\b\b\b\b"
     ]
    },
    {
     "output_type": "stream",
     "name": "stdout",
     "text": [
      "\r"
     ]
    },
    {
     "output_type": "stream",
     "name": "stdout",
     "text": [
      "1074/1875 [================>.............]"
     ]
    },
    {
     "output_type": "stream",
     "name": "stdout",
     "text": [
      " - ETA: 1s - loss: 0.2857 - accuracy: 0.8938"
     ]
    },
    {
     "output_type": "stream",
     "name": "stdout",
     "text": [
      "\b\b\b\b\b\b\b\b\b\b\b\b\b\b\b\b\b\b\b\b\b\b\b\b\b\b\b\b\b\b\b\b\b\b\b\b\b\b\b\b\b\b\b\b\b\b\b\b\b\b\b\b\b\b\b\b\b\b\b\b\b\b\b\b\b\b\b\b\b\b\b\b\b\b\b\b\b\b\b\b\b\b\b\b\b\b"
     ]
    },
    {
     "output_type": "stream",
     "name": "stdout",
     "text": [
      "\r"
     ]
    },
    {
     "output_type": "stream",
     "name": "stdout",
     "text": [
      "1111/1875 [================>.............]"
     ]
    },
    {
     "output_type": "stream",
     "name": "stdout",
     "text": [
      " - ETA: 1s - loss: 0.2861 - accuracy: 0.8939"
     ]
    },
    {
     "output_type": "stream",
     "name": "stdout",
     "text": [
      "\b\b\b\b\b\b\b\b\b\b\b\b\b\b\b\b\b\b\b\b\b\b\b\b\b\b\b\b\b\b\b\b\b\b\b\b\b\b\b\b\b\b\b\b\b\b\b\b\b\b\b\b\b\b\b\b\b\b\b\b\b\b\b\b\b\b\b\b\b\b\b\b\b\b\b\b\b\b\b\b\b\b\b\b\b\b"
     ]
    },
    {
     "output_type": "stream",
     "name": "stdout",
     "text": [
      "\r"
     ]
    },
    {
     "output_type": "stream",
     "name": "stdout",
     "text": [
      "1147/1875 [=================>............]"
     ]
    },
    {
     "output_type": "stream",
     "name": "stdout",
     "text": [
      " - ETA: 1s - loss: 0.2871 - accuracy: 0.8932"
     ]
    },
    {
     "output_type": "stream",
     "name": "stdout",
     "text": [
      "\b\b\b\b\b\b\b\b\b\b\b\b\b\b\b\b\b\b\b\b\b\b\b\b\b\b\b\b\b\b\b\b\b\b\b\b\b\b\b\b\b\b\b\b\b\b\b\b\b\b\b\b\b\b\b\b\b\b\b\b\b\b\b\b\b\b\b\b\b\b\b\b\b\b\b\b\b\b\b\b\b\b\b\b\b\b"
     ]
    },
    {
     "output_type": "stream",
     "name": "stdout",
     "text": [
      "\r"
     ]
    },
    {
     "output_type": "stream",
     "name": "stdout",
     "text": [
      "1183/1875 [=================>............]"
     ]
    },
    {
     "output_type": "stream",
     "name": "stdout",
     "text": [
      " - ETA: 0s - loss: 0.2878 - accuracy: 0.8928"
     ]
    },
    {
     "output_type": "stream",
     "name": "stdout",
     "text": [
      "\b\b\b\b\b\b\b\b\b\b\b\b\b\b\b\b\b\b\b\b\b\b\b\b\b\b\b\b\b\b\b\b\b\b\b\b\b\b\b\b\b\b\b\b\b\b\b\b\b\b\b\b\b\b\b\b\b\b\b\b\b\b\b\b\b\b\b\b\b\b\b\b\b\b\b\b\b\b\b\b\b\b\b\b\b\b"
     ]
    },
    {
     "output_type": "stream",
     "name": "stdout",
     "text": [
      "\r"
     ]
    },
    {
     "output_type": "stream",
     "name": "stdout",
     "text": [
      "1220/1875 [==================>...........]"
     ]
    },
    {
     "output_type": "stream",
     "name": "stdout",
     "text": [
      " - ETA: 0s - loss: 0.2881 - accuracy: 0.8929"
     ]
    },
    {
     "output_type": "stream",
     "name": "stdout",
     "text": [
      "\b\b\b\b\b\b\b\b\b\b\b\b\b\b\b\b\b\b\b\b\b\b\b\b\b\b\b\b\b\b\b\b\b\b\b\b\b\b\b\b\b\b\b\b\b\b\b\b\b\b\b\b\b\b\b\b\b\b\b\b\b\b\b\b\b\b\b\b\b\b\b\b\b\b\b\b\b\b\b\b\b\b\b\b\b\b"
     ]
    },
    {
     "output_type": "stream",
     "name": "stdout",
     "text": [
      "\r"
     ]
    },
    {
     "output_type": "stream",
     "name": "stdout",
     "text": [
      "1255/1875 [===================>..........]"
     ]
    },
    {
     "output_type": "stream",
     "name": "stdout",
     "text": [
      " - ETA: 0s - loss: 0.2889 - accuracy: 0.8927"
     ]
    },
    {
     "output_type": "stream",
     "name": "stdout",
     "text": [
      "\b\b\b\b\b\b\b\b\b\b\b\b\b\b\b\b\b\b\b\b\b\b\b\b\b\b\b\b\b\b\b\b\b\b\b\b\b\b\b\b\b\b\b\b\b\b\b\b\b\b\b\b\b\b\b\b\b\b\b\b\b\b\b\b\b\b\b\b\b\b\b\b\b\b\b\b\b\b\b\b\b\b\b\b\b\b"
     ]
    },
    {
     "output_type": "stream",
     "name": "stdout",
     "text": [
      "\r"
     ]
    },
    {
     "output_type": "stream",
     "name": "stdout",
     "text": [
      "1292/1875 [===================>..........]"
     ]
    },
    {
     "output_type": "stream",
     "name": "stdout",
     "text": [
      " - ETA: 0s - loss: 0.2887 - accuracy: 0.8928"
     ]
    },
    {
     "output_type": "stream",
     "name": "stdout",
     "text": [
      "\b\b\b\b\b\b\b\b\b\b\b\b\b\b\b\b\b\b\b\b\b\b\b\b\b\b\b\b\b\b\b\b\b\b\b\b\b\b\b\b\b\b\b\b\b\b\b\b\b\b\b\b\b\b\b\b\b\b\b\b\b\b\b\b\b\b\b\b\b\b\b\b\b\b\b\b\b\b\b\b\b\b\b\b\b\b"
     ]
    },
    {
     "output_type": "stream",
     "name": "stdout",
     "text": [
      "\r"
     ]
    },
    {
     "output_type": "stream",
     "name": "stdout",
     "text": [
      "1328/1875 [====================>.........]"
     ]
    },
    {
     "output_type": "stream",
     "name": "stdout",
     "text": [
      " - ETA: 0s - loss: 0.2886 - accuracy: 0.8927"
     ]
    },
    {
     "output_type": "stream",
     "name": "stdout",
     "text": [
      "\b\b\b\b\b\b\b\b\b\b\b\b\b\b\b\b\b\b\b\b\b\b\b\b\b\b\b\b\b\b\b\b\b\b\b\b\b\b\b\b\b\b\b\b\b\b\b\b\b\b\b\b\b\b\b\b\b\b\b\b\b\b\b\b\b\b\b\b\b\b\b\b\b\b\b\b\b\b\b\b\b\b\b\b\b\b"
     ]
    },
    {
     "output_type": "stream",
     "name": "stdout",
     "text": [
      "\r"
     ]
    },
    {
     "output_type": "stream",
     "name": "stdout",
     "text": [
      "1364/1875 [====================>.........]"
     ]
    },
    {
     "output_type": "stream",
     "name": "stdout",
     "text": [
      " - ETA: 0s - loss: 0.2884 - accuracy: 0.8927"
     ]
    },
    {
     "output_type": "stream",
     "name": "stdout",
     "text": [
      "\b\b\b\b\b\b\b\b\b\b\b\b\b\b\b\b\b\b\b\b\b\b\b\b\b\b\b\b\b\b\b\b\b\b\b\b\b\b\b\b\b\b\b\b\b\b\b\b\b\b\b\b\b\b\b\b\b\b\b\b\b\b\b\b\b\b\b\b\b\b\b\b\b\b\b\b\b\b\b\b\b\b\b\b\b\b"
     ]
    },
    {
     "output_type": "stream",
     "name": "stdout",
     "text": [
      "\r"
     ]
    },
    {
     "output_type": "stream",
     "name": "stdout",
     "text": [
      "1400/1875 [=====================>........]"
     ]
    },
    {
     "output_type": "stream",
     "name": "stdout",
     "text": [
      " - ETA: 0s - loss: 0.2882 - accuracy: 0.8926"
     ]
    },
    {
     "output_type": "stream",
     "name": "stdout",
     "text": [
      "\b\b\b\b\b\b\b\b\b\b\b\b\b\b\b\b\b\b\b\b\b\b\b\b\b\b\b\b\b\b\b\b\b\b\b\b\b\b\b\b\b\b\b\b\b\b\b\b\b\b\b\b\b\b\b\b\b\b\b\b\b\b\b\b\b\b\b\b\b\b\b\b\b\b\b\b\b\b\b\b\b\b\b\b\b\b"
     ]
    },
    {
     "output_type": "stream",
     "name": "stdout",
     "text": [
      "\r"
     ]
    },
    {
     "output_type": "stream",
     "name": "stdout",
     "text": [
      "1435/1875 [=====================>........]"
     ]
    },
    {
     "output_type": "stream",
     "name": "stdout",
     "text": [
      " - ETA: 0s - loss: 0.2882 - accuracy: 0.8927"
     ]
    },
    {
     "output_type": "stream",
     "name": "stdout",
     "text": [
      "\b\b\b\b\b\b\b\b\b\b\b\b\b\b\b\b\b\b\b\b\b\b\b\b\b\b\b\b\b\b\b\b\b\b\b\b\b\b\b\b\b\b\b\b\b\b\b\b\b\b\b\b\b\b\b\b\b\b\b\b\b\b\b\b\b\b\b\b\b\b\b\b\b\b\b\b\b\b\b\b\b\b\b\b\b\b"
     ]
    },
    {
     "output_type": "stream",
     "name": "stdout",
     "text": [
      "\r"
     ]
    },
    {
     "output_type": "stream",
     "name": "stdout",
     "text": [
      "1470/1875 [======================>.......]"
     ]
    },
    {
     "output_type": "stream",
     "name": "stdout",
     "text": [
      " - ETA: 0s - loss: 0.2881 - accuracy: 0.8930"
     ]
    },
    {
     "output_type": "stream",
     "name": "stdout",
     "text": [
      "\b\b\b\b\b\b\b\b\b\b\b\b\b\b\b\b\b\b\b\b\b\b\b\b\b\b\b\b\b\b\b\b\b\b\b\b\b\b\b\b\b\b\b\b\b\b\b\b\b\b\b\b\b\b\b\b\b\b\b\b\b\b\b\b\b\b\b\b\b\b\b\b\b\b\b\b\b\b\b\b\b\b\b\b\b\b"
     ]
    },
    {
     "output_type": "stream",
     "name": "stdout",
     "text": [
      "\r"
     ]
    },
    {
     "output_type": "stream",
     "name": "stdout",
     "text": [
      "1506/1875 [=======================>......]"
     ]
    },
    {
     "output_type": "stream",
     "name": "stdout",
     "text": [
      " - ETA: 0s - loss: 0.2877 - accuracy: 0.8929"
     ]
    },
    {
     "output_type": "stream",
     "name": "stdout",
     "text": [
      "\b\b\b\b\b\b\b\b\b\b\b\b\b\b\b\b\b\b\b\b\b\b\b\b\b\b\b\b\b\b\b\b\b\b\b\b\b\b\b\b\b\b\b\b\b\b\b\b\b\b\b\b\b\b\b\b\b\b\b\b\b\b\b\b\b\b\b\b\b\b\b\b\b\b\b\b\b\b\b\b\b\b\b\b\b\b"
     ]
    },
    {
     "output_type": "stream",
     "name": "stdout",
     "text": [
      "\r"
     ]
    },
    {
     "output_type": "stream",
     "name": "stdout",
     "text": [
      "1541/1875 [=======================>......]"
     ]
    },
    {
     "output_type": "stream",
     "name": "stdout",
     "text": [
      " - ETA: 0s - loss: 0.2870 - accuracy: 0.8931"
     ]
    },
    {
     "output_type": "stream",
     "name": "stdout",
     "text": [
      "\b\b\b\b\b\b\b\b\b\b\b\b\b\b\b\b\b\b\b\b\b\b\b\b\b\b\b\b\b\b\b\b\b\b\b\b\b\b\b\b\b\b\b\b\b\b\b\b\b\b\b\b\b\b\b\b\b\b\b\b\b\b\b\b\b\b\b\b\b\b\b\b\b\b\b\b\b\b\b\b\b\b\b\b\b\b"
     ]
    },
    {
     "output_type": "stream",
     "name": "stdout",
     "text": [
      "\r"
     ]
    },
    {
     "output_type": "stream",
     "name": "stdout",
     "text": [
      "1577/1875 [========================>.....]"
     ]
    },
    {
     "output_type": "stream",
     "name": "stdout",
     "text": [
      " - ETA: 0s - loss: 0.2870 - accuracy: 0.8930"
     ]
    },
    {
     "output_type": "stream",
     "name": "stdout",
     "text": [
      "\b\b\b\b\b\b\b\b\b\b\b\b\b\b\b\b\b\b\b\b\b\b\b\b\b\b\b\b\b\b\b\b\b\b\b\b\b\b\b\b\b\b\b\b\b\b\b\b\b\b\b\b\b\b\b\b\b\b\b\b\b\b\b\b\b\b\b\b\b\b\b\b\b\b\b\b\b\b\b\b\b\b\b\b\b\b"
     ]
    },
    {
     "output_type": "stream",
     "name": "stdout",
     "text": [
      "\r"
     ]
    },
    {
     "output_type": "stream",
     "name": "stdout",
     "text": [
      "1612/1875 [========================>.....]"
     ]
    },
    {
     "output_type": "stream",
     "name": "stdout",
     "text": [
      " - ETA: 0s - loss: 0.2866 - accuracy: 0.8929"
     ]
    },
    {
     "output_type": "stream",
     "name": "stdout",
     "text": [
      "\b\b\b\b\b\b\b\b\b\b\b\b\b\b\b\b\b\b\b\b\b\b\b\b\b\b\b\b\b\b\b\b\b\b\b\b\b\b\b\b\b\b\b\b\b\b\b\b\b\b\b\b\b\b\b\b\b\b\b\b\b\b\b\b\b\b\b\b\b\b\b\b\b\b\b\b\b\b\b\b\b\b\b\b\b\b"
     ]
    },
    {
     "output_type": "stream",
     "name": "stdout",
     "text": [
      "\r"
     ]
    },
    {
     "output_type": "stream",
     "name": "stdout",
     "text": [
      "1647/1875 [=========================>....]"
     ]
    },
    {
     "output_type": "stream",
     "name": "stdout",
     "text": [
      " - ETA: 0s - loss: 0.2862 - accuracy: 0.8932"
     ]
    },
    {
     "output_type": "stream",
     "name": "stdout",
     "text": [
      "\b\b\b\b\b\b\b\b\b\b\b\b\b\b\b\b\b\b\b\b\b\b\b\b\b\b\b\b\b\b\b\b\b\b\b\b\b\b\b\b\b\b\b\b\b\b\b\b\b\b\b\b\b\b\b\b\b\b\b\b\b\b\b\b\b\b\b\b\b\b\b\b\b\b\b\b\b\b\b\b\b\b\b\b\b\b"
     ]
    },
    {
     "output_type": "stream",
     "name": "stdout",
     "text": [
      "\r"
     ]
    },
    {
     "output_type": "stream",
     "name": "stdout",
     "text": [
      "1682/1875 [=========================>....]"
     ]
    },
    {
     "output_type": "stream",
     "name": "stdout",
     "text": [
      " - ETA: 0s - loss: 0.2863 - accuracy: 0.8932"
     ]
    },
    {
     "output_type": "stream",
     "name": "stdout",
     "text": [
      "\b\b\b\b\b\b\b\b\b\b\b\b\b\b\b\b\b\b\b\b\b\b\b\b\b\b\b\b\b\b\b\b\b\b\b\b\b\b\b\b\b\b\b\b\b\b\b\b\b\b\b\b\b\b\b\b\b\b\b\b\b\b\b\b\b\b\b\b\b\b\b\b\b\b\b\b\b\b\b\b\b\b\b\b\b\b"
     ]
    },
    {
     "output_type": "stream",
     "name": "stdout",
     "text": [
      "\r"
     ]
    },
    {
     "output_type": "stream",
     "name": "stdout",
     "text": [
      "1718/1875 [==========================>...]"
     ]
    },
    {
     "output_type": "stream",
     "name": "stdout",
     "text": [
      " - ETA: 0s - loss: 0.2861 - accuracy: 0.8932"
     ]
    },
    {
     "output_type": "stream",
     "name": "stdout",
     "text": [
      "\b\b\b\b\b\b\b\b\b\b\b\b\b\b\b\b\b\b\b\b\b\b\b\b\b\b\b\b\b\b\b\b\b\b\b\b\b\b\b\b\b\b\b\b\b\b\b\b\b\b\b\b\b\b\b\b\b\b\b\b\b\b\b\b\b\b\b\b\b\b\b\b\b\b\b\b\b\b\b\b\b\b\b\b\b\b"
     ]
    },
    {
     "output_type": "stream",
     "name": "stdout",
     "text": [
      "\r"
     ]
    },
    {
     "output_type": "stream",
     "name": "stdout",
     "text": [
      "1753/1875 [===========================>..]"
     ]
    },
    {
     "output_type": "stream",
     "name": "stdout",
     "text": [
      " - ETA: 0s - loss: 0.2859 - accuracy: 0.8932"
     ]
    },
    {
     "output_type": "stream",
     "name": "stdout",
     "text": [
      "\b\b\b\b\b\b\b\b\b\b\b\b\b\b\b\b\b\b\b\b\b\b\b\b\b\b\b\b\b\b\b\b\b\b\b\b\b\b\b\b\b\b\b\b\b\b\b\b\b\b\b\b\b\b\b\b\b\b\b\b\b\b\b\b\b\b\b\b\b\b\b\b\b\b\b\b\b\b\b\b\b\b\b\b\b\b"
     ]
    },
    {
     "output_type": "stream",
     "name": "stdout",
     "text": [
      "\r"
     ]
    },
    {
     "output_type": "stream",
     "name": "stdout",
     "text": [
      "1789/1875 [===========================>..]"
     ]
    },
    {
     "output_type": "stream",
     "name": "stdout",
     "text": [
      " - ETA: 0s - loss: 0.2858 - accuracy: 0.8932"
     ]
    },
    {
     "output_type": "stream",
     "name": "stdout",
     "text": [
      "\b\b\b\b\b\b\b\b\b\b\b\b\b\b\b\b\b\b\b\b\b\b\b\b\b\b\b\b\b\b\b\b\b\b\b\b\b\b\b\b\b\b\b\b\b\b\b\b\b\b\b\b\b\b\b\b\b\b\b\b\b\b\b\b\b\b\b\b\b\b\b\b\b\b\b\b\b\b\b\b\b\b\b\b\b\b"
     ]
    },
    {
     "output_type": "stream",
     "name": "stdout",
     "text": [
      "\r"
     ]
    },
    {
     "output_type": "stream",
     "name": "stdout",
     "text": [
      "1824/1875 [============================>.]"
     ]
    },
    {
     "output_type": "stream",
     "name": "stdout",
     "text": [
      " - ETA: 0s - loss: 0.2849 - accuracy: 0.8937"
     ]
    },
    {
     "output_type": "stream",
     "name": "stdout",
     "text": [
      "\b\b\b\b\b\b\b\b\b\b\b\b\b\b\b\b\b\b\b\b\b\b\b\b\b\b\b\b\b\b\b\b\b\b\b\b\b\b\b\b\b\b\b\b\b\b\b\b\b\b\b\b\b\b\b\b\b\b\b\b\b\b\b\b\b\b\b\b\b\b\b\b\b\b\b\b\b\b\b\b\b\b\b\b\b\b"
     ]
    },
    {
     "output_type": "stream",
     "name": "stdout",
     "text": [
      "\r"
     ]
    },
    {
     "output_type": "stream",
     "name": "stdout",
     "text": [
      "1860/1875 [============================>.]"
     ]
    },
    {
     "output_type": "stream",
     "name": "stdout",
     "text": [
      " - ETA: 0s - loss: 0.2844 - accuracy: 0.8938"
     ]
    },
    {
     "output_type": "stream",
     "name": "stdout",
     "text": [
      "\b\b\b\b\b\b\b\b\b\b\b\b\b\b\b\b\b\b\b\b\b\b\b\b\b\b\b\b\b\b\b\b\b\b\b\b\b\b\b\b\b\b\b\b\b\b\b\b\b\b\b\b\b\b\b\b\b\b\b\b\b\b\b\b\b\b\b\b\b\b\b\b\b\b\b\b\b\b\b\b\b\b\b\b\b\b"
     ]
    },
    {
     "output_type": "stream",
     "name": "stdout",
     "text": [
      "\r"
     ]
    },
    {
     "output_type": "stream",
     "name": "stdout",
     "text": [
      "1875/1875 [==============================]"
     ]
    },
    {
     "output_type": "stream",
     "name": "stdout",
     "text": [
      " - 3s 2ms/step - loss: 0.2842 - accuracy: 0.8939 - val_loss: 0.3527 - val_accuracy: 0.8758\n"
     ]
    },
    {
     "output_type": "stream",
     "name": "stdout",
     "text": [
      "Epoch 6/10"
     ]
    },
    {
     "output_type": "stream",
     "name": "stdout",
     "text": [
      "\n"
     ]
    },
    {
     "output_type": "stream",
     "name": "stdout",
     "text": [
      "\r"
     ]
    },
    {
     "output_type": "stream",
     "name": "stdout",
     "text": [
      "   1/1875 [..............................]"
     ]
    },
    {
     "output_type": "stream",
     "name": "stdout",
     "text": [
      " - ETA: 0s - loss: 0.5311 - accuracy: 0.8438"
     ]
    },
    {
     "output_type": "stream",
     "name": "stdout",
     "text": [
      "\b\b\b\b\b\b\b\b\b\b\b\b\b\b\b\b\b\b\b\b\b\b\b\b\b\b\b\b\b\b\b\b\b\b\b\b\b\b\b\b\b\b\b\b\b\b\b\b\b\b\b\b\b\b\b\b\b\b\b\b\b\b\b\b\b\b\b\b\b\b\b\b\b\b\b\b\b\b\b\b\b\b\b\b\b\b"
     ]
    },
    {
     "output_type": "stream",
     "name": "stdout",
     "text": [
      "\r"
     ]
    },
    {
     "output_type": "stream",
     "name": "stdout",
     "text": [
      "  37/1875 [..............................]"
     ]
    },
    {
     "output_type": "stream",
     "name": "stdout",
     "text": [
      " - ETA: 2s - loss: 0.2853 - accuracy: 0.9029"
     ]
    },
    {
     "output_type": "stream",
     "name": "stdout",
     "text": [
      "\b\b\b\b\b\b\b\b\b\b\b\b\b\b\b\b\b\b\b\b\b\b\b\b\b\b\b\b\b\b\b\b\b\b\b\b\b\b\b\b\b\b\b\b\b\b\b\b\b\b\b\b\b\b\b\b\b\b\b\b\b\b\b\b\b\b\b\b\b\b\b\b\b\b\b\b\b\b\b\b\b\b\b\b\b\b"
     ]
    },
    {
     "output_type": "stream",
     "name": "stdout",
     "text": [
      "\r"
     ]
    },
    {
     "output_type": "stream",
     "name": "stdout",
     "text": [
      "  73/1875 [>.............................]"
     ]
    },
    {
     "output_type": "stream",
     "name": "stdout",
     "text": [
      " - ETA: 2s - loss: 0.2752 - accuracy: 0.9011"
     ]
    },
    {
     "output_type": "stream",
     "name": "stdout",
     "text": [
      "\b\b\b\b\b\b\b\b\b\b\b\b\b\b\b\b\b\b\b\b\b\b\b\b\b\b\b\b\b\b\b\b\b\b\b\b\b\b\b\b\b\b\b\b\b\b\b\b\b\b\b\b\b\b\b\b\b\b\b\b\b\b\b\b\b\b\b\b\b\b\b\b\b\b\b\b\b\b\b\b\b\b\b\b\b\b"
     ]
    },
    {
     "output_type": "stream",
     "name": "stdout",
     "text": [
      "\r"
     ]
    },
    {
     "output_type": "stream",
     "name": "stdout",
     "text": [
      " 109/1875 [>.............................]"
     ]
    },
    {
     "output_type": "stream",
     "name": "stdout",
     "text": [
      " - ETA: 2s - loss: 0.2674 - accuracy: 0.9028"
     ]
    },
    {
     "output_type": "stream",
     "name": "stdout",
     "text": [
      "\b\b\b\b\b\b\b\b\b\b\b\b\b\b\b\b\b\b\b\b\b\b\b\b\b\b\b\b\b\b\b\b\b\b\b\b\b\b\b\b\b\b\b\b\b\b\b\b\b\b\b\b\b\b\b\b\b\b\b\b\b\b\b\b\b\b\b\b\b\b\b\b\b\b\b\b\b\b\b\b\b\b\b\b\b\b"
     ]
    },
    {
     "output_type": "stream",
     "name": "stdout",
     "text": [
      "\r"
     ]
    },
    {
     "output_type": "stream",
     "name": "stdout",
     "text": [
      " 144/1875 [=>............................]"
     ]
    },
    {
     "output_type": "stream",
     "name": "stdout",
     "text": [
      " - ETA: 2s - loss: 0.2716 - accuracy: 0.9013"
     ]
    },
    {
     "output_type": "stream",
     "name": "stdout",
     "text": [
      "\b\b\b\b\b\b\b\b\b\b\b\b\b\b\b\b\b\b\b\b\b\b\b\b\b\b\b\b\b\b\b\b\b\b\b\b\b\b\b\b\b\b\b\b\b\b\b\b\b\b\b\b\b\b\b\b\b\b\b\b\b\b\b\b\b\b\b\b\b\b\b\b\b\b\b\b\b\b\b\b\b\b\b\b\b\b"
     ]
    },
    {
     "output_type": "stream",
     "name": "stdout",
     "text": [
      "\r"
     ]
    },
    {
     "output_type": "stream",
     "name": "stdout",
     "text": [
      " 179/1875 [=>............................]"
     ]
    },
    {
     "output_type": "stream",
     "name": "stdout",
     "text": [
      " - ETA: 2s - loss: 0.2745 - accuracy: 0.9003"
     ]
    },
    {
     "output_type": "stream",
     "name": "stdout",
     "text": [
      "\b\b\b\b\b\b\b\b\b\b\b\b\b\b\b\b\b\b\b\b\b\b\b\b\b\b\b\b\b\b\b\b\b\b\b\b\b\b\b\b\b\b\b\b\b\b\b\b\b\b\b\b\b\b\b\b\b\b\b\b\b\b\b\b\b\b\b\b\b\b\b\b\b\b\b\b\b\b\b\b\b\b\b\b\b\b"
     ]
    },
    {
     "output_type": "stream",
     "name": "stdout",
     "text": [
      "\r"
     ]
    },
    {
     "output_type": "stream",
     "name": "stdout",
     "text": [
      " 216/1875 [==>...........................]"
     ]
    },
    {
     "output_type": "stream",
     "name": "stdout",
     "text": [
      " - ETA: 2s - loss: 0.2770 - accuracy: 0.8981"
     ]
    },
    {
     "output_type": "stream",
     "name": "stdout",
     "text": [
      "\b\b\b\b\b\b\b\b\b\b\b\b\b\b\b\b\b\b\b\b\b\b\b\b\b\b\b\b\b\b\b\b\b\b\b\b\b\b\b\b\b\b\b\b\b\b\b\b\b\b\b\b\b\b\b\b\b\b\b\b\b\b\b\b\b\b\b\b\b\b\b\b\b\b\b\b\b\b\b\b\b\b\b\b\b\b"
     ]
    },
    {
     "output_type": "stream",
     "name": "stdout",
     "text": [
      "\r"
     ]
    },
    {
     "output_type": "stream",
     "name": "stdout",
     "text": [
      " 252/1875 [===>..........................]"
     ]
    },
    {
     "output_type": "stream",
     "name": "stdout",
     "text": [
      " - ETA: 2s - loss: 0.2790 - accuracy: 0.8989"
     ]
    },
    {
     "output_type": "stream",
     "name": "stdout",
     "text": [
      "\b\b\b\b\b\b\b\b\b\b\b\b\b\b\b\b\b\b\b\b\b\b\b\b\b\b\b\b\b\b\b\b\b\b\b\b\b\b\b\b\b\b\b\b\b\b\b\b\b\b\b\b\b\b\b\b\b\b\b\b\b\b\b\b\b\b\b\b\b\b\b\b\b\b\b\b\b\b\b\b\b\b\b\b\b\b"
     ]
    },
    {
     "output_type": "stream",
     "name": "stdout",
     "text": [
      "\r"
     ]
    },
    {
     "output_type": "stream",
     "name": "stdout",
     "text": [
      " 288/1875 [===>..........................]"
     ]
    },
    {
     "output_type": "stream",
     "name": "stdout",
     "text": [
      " - ETA: 2s - loss: 0.2795 - accuracy: 0.8976"
     ]
    },
    {
     "output_type": "stream",
     "name": "stdout",
     "text": [
      "\b\b\b\b\b\b\b\b\b\b\b\b\b\b\b\b\b\b\b\b\b\b\b\b\b\b\b\b\b\b\b\b\b\b\b\b\b\b\b\b\b\b\b\b\b\b\b\b\b\b\b\b\b\b\b\b\b\b\b\b\b\b\b\b\b\b\b\b\b\b\b\b\b\b\b\b\b\b\b\b\b\b\b\b\b\b"
     ]
    },
    {
     "output_type": "stream",
     "name": "stdout",
     "text": [
      "\r"
     ]
    },
    {
     "output_type": "stream",
     "name": "stdout",
     "text": [
      " 324/1875 [====>.........................]"
     ]
    },
    {
     "output_type": "stream",
     "name": "stdout",
     "text": [
      " - ETA: 2s - loss: 0.2805 - accuracy: 0.8970"
     ]
    },
    {
     "output_type": "stream",
     "name": "stdout",
     "text": [
      "\b\b\b\b\b\b\b\b\b\b\b\b\b\b\b\b\b\b\b\b\b\b\b\b\b\b\b\b\b\b\b\b\b\b\b\b\b\b\b\b\b\b\b\b\b\b\b\b\b\b\b\b\b\b\b\b\b\b\b\b\b\b\b\b\b\b\b\b\b\b\b\b\b\b\b\b\b\b\b\b\b\b\b\b\b\b"
     ]
    },
    {
     "output_type": "stream",
     "name": "stdout",
     "text": [
      "\r"
     ]
    },
    {
     "output_type": "stream",
     "name": "stdout",
     "text": [
      " 360/1875 [====>.........................]"
     ]
    },
    {
     "output_type": "stream",
     "name": "stdout",
     "text": [
      " - ETA: 2s - loss: 0.2793 - accuracy: 0.8975"
     ]
    },
    {
     "output_type": "stream",
     "name": "stdout",
     "text": [
      "\b\b\b\b\b\b\b\b\b\b\b\b\b\b\b\b\b\b\b\b\b\b\b\b\b\b\b\b\b\b\b\b\b\b\b\b\b\b\b\b\b\b\b\b\b\b\b\b\b\b\b\b\b\b\b\b\b\b\b\b\b\b\b\b\b\b\b\b\b\b\b\b\b\b\b\b\b\b\b\b\b\b\b\b\b\b"
     ]
    },
    {
     "output_type": "stream",
     "name": "stdout",
     "text": [
      "\r"
     ]
    },
    {
     "output_type": "stream",
     "name": "stdout",
     "text": [
      " 396/1875 [=====>........................]"
     ]
    },
    {
     "output_type": "stream",
     "name": "stdout",
     "text": [
      " - ETA: 2s - loss: 0.2763 - accuracy: 0.8985"
     ]
    },
    {
     "output_type": "stream",
     "name": "stdout",
     "text": [
      "\b\b\b\b\b\b\b\b\b\b\b\b\b\b\b\b\b\b\b\b\b\b\b\b\b\b\b\b\b\b\b\b\b\b\b\b\b\b\b\b\b\b\b\b\b\b\b\b\b\b\b\b\b\b\b\b\b\b\b\b\b\b\b\b\b\b\b\b\b\b\b\b\b\b\b\b\b\b\b\b\b\b\b\b\b\b"
     ]
    },
    {
     "output_type": "stream",
     "name": "stdout",
     "text": [
      "\r"
     ]
    },
    {
     "output_type": "stream",
     "name": "stdout",
     "text": [
      " 432/1875 [=====>........................]"
     ]
    },
    {
     "output_type": "stream",
     "name": "stdout",
     "text": [
      " - ETA: 2s - loss: 0.2758 - accuracy: 0.8995"
     ]
    },
    {
     "output_type": "stream",
     "name": "stdout",
     "text": [
      "\b\b\b\b\b\b\b\b\b\b\b\b\b\b\b\b\b\b\b\b\b\b\b\b\b\b\b\b\b\b\b\b\b\b\b\b\b\b\b\b\b\b\b\b\b\b\b\b\b\b\b\b\b\b\b\b\b\b\b\b\b\b\b\b\b\b\b\b\b\b\b\b\b\b\b\b\b\b\b\b\b\b\b\b\b\b"
     ]
    },
    {
     "output_type": "stream",
     "name": "stdout",
     "text": [
      "\r"
     ]
    },
    {
     "output_type": "stream",
     "name": "stdout",
     "text": [
      " 467/1875 [======>.......................]"
     ]
    },
    {
     "output_type": "stream",
     "name": "stdout",
     "text": [
      " - ETA: 1s - loss: 0.2740 - accuracy: 0.8994"
     ]
    },
    {
     "output_type": "stream",
     "name": "stdout",
     "text": [
      "\b\b\b\b\b\b\b\b\b\b\b\b\b\b\b\b\b\b\b\b\b\b\b\b\b\b\b\b\b\b\b\b\b\b\b\b\b\b\b\b\b\b\b\b\b\b\b\b\b\b\b\b\b\b\b\b\b\b\b\b\b\b\b\b\b\b\b\b\b\b\b\b\b\b\b\b\b\b\b\b\b\b\b\b\b\b"
     ]
    },
    {
     "output_type": "stream",
     "name": "stdout",
     "text": [
      "\r"
     ]
    },
    {
     "output_type": "stream",
     "name": "stdout",
     "text": [
      " 504/1875 [=======>......................]"
     ]
    },
    {
     "output_type": "stream",
     "name": "stdout",
     "text": [
      " - ETA: 1s - loss: 0.2725 - accuracy: 0.8994"
     ]
    },
    {
     "output_type": "stream",
     "name": "stdout",
     "text": [
      "\b\b\b\b\b\b\b\b\b\b\b\b\b\b\b\b\b\b\b\b\b\b\b\b\b\b\b\b\b\b\b\b\b\b\b\b\b\b\b\b\b\b\b\b\b\b\b\b\b\b\b\b\b\b\b\b\b\b\b\b\b\b\b\b\b\b\b\b\b\b\b\b\b\b\b\b\b\b\b\b\b\b\b\b\b\b"
     ]
    },
    {
     "output_type": "stream",
     "name": "stdout",
     "text": [
      "\r"
     ]
    },
    {
     "output_type": "stream",
     "name": "stdout",
     "text": [
      " 539/1875 [=======>......................]"
     ]
    },
    {
     "output_type": "stream",
     "name": "stdout",
     "text": [
      " - ETA: 1s - loss: 0.2731 - accuracy: 0.8989"
     ]
    },
    {
     "output_type": "stream",
     "name": "stdout",
     "text": [
      "\b\b\b\b\b\b\b\b\b\b\b\b\b\b\b\b\b\b\b\b\b\b\b\b\b\b\b\b\b\b\b\b\b\b\b\b\b\b\b\b\b\b\b\b\b\b\b\b\b\b\b\b\b\b\b\b\b\b\b\b\b\b\b\b\b\b\b\b\b\b\b\b\b\b\b\b\b\b\b\b\b\b\b\b\b\b"
     ]
    },
    {
     "output_type": "stream",
     "name": "stdout",
     "text": [
      "\r"
     ]
    },
    {
     "output_type": "stream",
     "name": "stdout",
     "text": [
      " 575/1875 [========>.....................]"
     ]
    },
    {
     "output_type": "stream",
     "name": "stdout",
     "text": [
      " - ETA: 1s - loss: 0.2735 - accuracy: 0.8983"
     ]
    },
    {
     "output_type": "stream",
     "name": "stdout",
     "text": [
      "\b\b\b\b\b\b\b\b\b\b\b\b\b\b\b\b\b\b\b\b\b\b\b\b\b\b\b\b\b\b\b\b\b\b\b\b\b\b\b\b\b\b\b\b\b\b\b\b\b\b\b\b\b\b\b\b\b\b\b\b\b\b\b\b\b\b\b\b\b\b\b\b\b\b\b\b\b\b\b\b\b\b\b\b\b\b"
     ]
    },
    {
     "output_type": "stream",
     "name": "stdout",
     "text": [
      "\r"
     ]
    },
    {
     "output_type": "stream",
     "name": "stdout",
     "text": [
      " 611/1875 [========>.....................]"
     ]
    },
    {
     "output_type": "stream",
     "name": "stdout",
     "text": [
      " - ETA: 1s - loss: 0.2740 - accuracy: 0.8977"
     ]
    },
    {
     "output_type": "stream",
     "name": "stdout",
     "text": [
      "\b\b\b\b\b\b\b\b\b\b\b\b\b\b\b\b\b\b\b\b\b\b\b\b\b\b\b\b\b\b\b\b\b\b\b\b\b\b\b\b\b\b\b\b\b\b\b\b\b\b\b\b\b\b\b\b\b\b\b\b\b\b\b\b\b\b\b\b\b\b\b\b\b\b\b\b\b\b\b\b\b\b\b\b\b\b"
     ]
    },
    {
     "output_type": "stream",
     "name": "stdout",
     "text": [
      "\r"
     ]
    },
    {
     "output_type": "stream",
     "name": "stdout",
     "text": [
      " 648/1875 [=========>....................]"
     ]
    },
    {
     "output_type": "stream",
     "name": "stdout",
     "text": [
      " - ETA: 1s - loss: 0.2731 - accuracy: 0.8980"
     ]
    },
    {
     "output_type": "stream",
     "name": "stdout",
     "text": [
      "\b\b\b\b\b\b\b\b\b\b\b\b\b\b\b\b\b\b\b\b\b\b\b\b\b\b\b\b\b\b\b\b\b\b\b\b\b\b\b\b\b\b\b\b\b\b\b\b\b\b\b\b\b\b\b\b\b\b\b\b\b\b\b\b\b\b\b\b\b\b\b\b\b\b\b\b\b\b\b\b\b\b\b\b\b\b"
     ]
    },
    {
     "output_type": "stream",
     "name": "stdout",
     "text": [
      "\r"
     ]
    },
    {
     "output_type": "stream",
     "name": "stdout",
     "text": [
      " 684/1875 [=========>....................]"
     ]
    },
    {
     "output_type": "stream",
     "name": "stdout",
     "text": [
      " - ETA: 1s - loss: 0.2728 - accuracy: 0.8983"
     ]
    },
    {
     "output_type": "stream",
     "name": "stdout",
     "text": [
      "\b\b\b\b\b\b\b\b\b\b\b\b\b\b\b\b\b\b\b\b\b\b\b\b\b\b\b\b\b\b\b\b\b\b\b\b\b\b\b\b\b\b\b\b\b\b\b\b\b\b\b\b\b\b\b\b\b\b\b\b\b\b\b\b\b\b\b\b\b\b\b\b\b\b\b\b\b\b\b\b\b\b\b\b\b\b"
     ]
    },
    {
     "output_type": "stream",
     "name": "stdout",
     "text": [
      "\r"
     ]
    },
    {
     "output_type": "stream",
     "name": "stdout",
     "text": [
      " 720/1875 [==========>...................]"
     ]
    },
    {
     "output_type": "stream",
     "name": "stdout",
     "text": [
      " - ETA: 1s - loss: 0.2711 - accuracy: 0.8989"
     ]
    },
    {
     "output_type": "stream",
     "name": "stdout",
     "text": [
      "\b\b\b\b\b\b\b\b\b\b\b\b\b\b\b\b\b\b\b\b\b\b\b\b\b\b\b\b\b\b\b\b\b\b\b\b\b\b\b\b\b\b\b\b\b\b\b\b\b\b\b\b\b\b\b\b\b\b\b\b\b\b\b\b\b\b\b\b\b\b\b\b\b\b\b\b\b\b\b\b\b\b\b\b\b\b"
     ]
    },
    {
     "output_type": "stream",
     "name": "stdout",
     "text": [
      "\r"
     ]
    },
    {
     "output_type": "stream",
     "name": "stdout",
     "text": [
      " 756/1875 [===========>..................]"
     ]
    },
    {
     "output_type": "stream",
     "name": "stdout",
     "text": [
      " - ETA: 1s - loss: 0.2717 - accuracy: 0.8989"
     ]
    },
    {
     "output_type": "stream",
     "name": "stdout",
     "text": [
      "\b\b\b\b\b\b\b\b\b\b\b\b\b\b\b\b\b\b\b\b\b\b\b\b\b\b\b\b\b\b\b\b\b\b\b\b\b\b\b\b\b\b\b\b\b\b\b\b\b\b\b\b\b\b\b\b\b\b\b\b\b\b\b\b\b\b\b\b\b\b\b\b\b\b\b\b\b\b\b\b\b\b\b\b\b\b"
     ]
    },
    {
     "output_type": "stream",
     "name": "stdout",
     "text": [
      "\r"
     ]
    },
    {
     "output_type": "stream",
     "name": "stdout",
     "text": [
      " 791/1875 [===========>..................]"
     ]
    },
    {
     "output_type": "stream",
     "name": "stdout",
     "text": [
      " - ETA: 1s - loss: 0.2708 - accuracy: 0.8992"
     ]
    },
    {
     "output_type": "stream",
     "name": "stdout",
     "text": [
      "\b\b\b\b\b\b\b\b\b\b\b\b\b\b\b\b\b\b\b\b\b\b\b\b\b\b\b\b\b\b\b\b\b\b\b\b\b\b\b\b\b\b\b\b\b\b\b\b\b\b\b\b\b\b\b\b\b\b\b\b\b\b\b\b\b\b\b\b\b\b\b\b\b\b\b\b\b\b\b\b\b\b\b\b\b\b"
     ]
    },
    {
     "output_type": "stream",
     "name": "stdout",
     "text": [
      "\r"
     ]
    },
    {
     "output_type": "stream",
     "name": "stdout",
     "text": [
      " 827/1875 [============>.................]"
     ]
    },
    {
     "output_type": "stream",
     "name": "stdout",
     "text": [
      " - ETA: 1s - loss: 0.2708 - accuracy: 0.8992"
     ]
    },
    {
     "output_type": "stream",
     "name": "stdout",
     "text": [
      "\b\b\b\b\b\b\b\b\b\b\b\b\b\b\b\b\b\b\b\b\b\b\b\b\b\b\b\b\b\b\b\b\b\b\b\b\b\b\b\b\b\b\b\b\b\b\b\b\b\b\b\b\b\b\b\b\b\b\b\b\b\b\b\b\b\b\b\b\b\b\b\b\b\b\b\b\b\b\b\b\b\b\b\b\b\b"
     ]
    },
    {
     "output_type": "stream",
     "name": "stdout",
     "text": [
      "\r"
     ]
    },
    {
     "output_type": "stream",
     "name": "stdout",
     "text": [
      " 863/1875 [============>.................]"
     ]
    },
    {
     "output_type": "stream",
     "name": "stdout",
     "text": [
      " - ETA: 1s - loss: 0.2697 - accuracy: 0.8997"
     ]
    },
    {
     "output_type": "stream",
     "name": "stdout",
     "text": [
      "\b\b\b\b\b\b\b\b\b\b\b\b\b\b\b\b\b\b\b\b\b\b\b\b\b\b\b\b\b\b\b\b\b\b\b\b\b\b\b\b\b\b\b\b\b\b\b\b\b\b\b\b\b\b\b\b\b\b\b\b\b\b\b\b\b\b\b\b\b\b\b\b\b\b\b\b\b\b\b\b\b\b\b\b\b\b"
     ]
    },
    {
     "output_type": "stream",
     "name": "stdout",
     "text": [
      "\r"
     ]
    },
    {
     "output_type": "stream",
     "name": "stdout",
     "text": [
      " 899/1875 [=============>................]"
     ]
    },
    {
     "output_type": "stream",
     "name": "stdout",
     "text": [
      " - ETA: 1s - loss: 0.2713 - accuracy: 0.8991"
     ]
    },
    {
     "output_type": "stream",
     "name": "stdout",
     "text": [
      "\b\b\b\b\b\b\b\b\b\b\b\b\b\b\b\b\b\b\b\b\b\b\b\b\b\b\b\b\b\b\b\b\b\b\b\b\b\b\b\b\b\b\b\b\b\b\b\b\b\b\b\b\b\b\b\b\b\b\b\b\b\b\b\b\b\b\b\b\b\b\b\b\b\b\b\b\b\b\b\b\b\b\b\b\b\b"
     ]
    },
    {
     "output_type": "stream",
     "name": "stdout",
     "text": [
      "\r"
     ]
    },
    {
     "output_type": "stream",
     "name": "stdout",
     "text": [
      " 935/1875 [=============>................]"
     ]
    },
    {
     "output_type": "stream",
     "name": "stdout",
     "text": [
      " - ETA: 1s - loss: 0.2709 - accuracy: 0.8992"
     ]
    },
    {
     "output_type": "stream",
     "name": "stdout",
     "text": [
      "\b\b\b\b\b\b\b\b\b\b\b\b\b\b\b\b\b\b\b\b\b\b\b\b\b\b\b\b\b\b\b\b\b\b\b\b\b\b\b\b\b\b\b\b\b\b\b\b\b\b\b\b\b\b\b\b\b\b\b\b\b\b\b\b\b\b\b\b\b\b\b\b\b\b\b\b\b\b\b\b\b\b\b\b\b\b"
     ]
    },
    {
     "output_type": "stream",
     "name": "stdout",
     "text": [
      "\r"
     ]
    },
    {
     "output_type": "stream",
     "name": "stdout",
     "text": [
      " 971/1875 [==============>...............]"
     ]
    },
    {
     "output_type": "stream",
     "name": "stdout",
     "text": [
      " - ETA: 1s - loss: 0.2688 - accuracy: 0.8998"
     ]
    },
    {
     "output_type": "stream",
     "name": "stdout",
     "text": [
      "\b\b\b\b\b\b\b\b\b\b\b\b\b\b\b\b\b\b\b\b\b\b\b\b\b\b\b\b\b\b\b\b\b\b\b\b\b\b\b\b\b\b\b\b\b\b\b\b\b\b\b\b\b\b\b\b\b\b\b\b\b\b\b\b\b\b\b\b\b\b\b\b\b\b\b\b\b\b\b\b\b\b\b\b\b\b"
     ]
    },
    {
     "output_type": "stream",
     "name": "stdout",
     "text": [
      "\r"
     ]
    },
    {
     "output_type": "stream",
     "name": "stdout",
     "text": [
      "1007/1875 [===============>..............]"
     ]
    },
    {
     "output_type": "stream",
     "name": "stdout",
     "text": [
      " - ETA: 1s - loss: 0.2691 - accuracy: 0.8996"
     ]
    },
    {
     "output_type": "stream",
     "name": "stdout",
     "text": [
      "\b\b\b\b\b\b\b\b\b\b\b\b\b\b\b\b\b\b\b\b\b\b\b\b\b\b\b\b\b\b\b\b\b\b\b\b\b\b\b\b\b\b\b\b\b\b\b\b\b\b\b\b\b\b\b\b\b\b\b\b\b\b\b\b\b\b\b\b\b\b\b\b\b\b\b\b\b\b\b\b\b\b\b\b\b\b"
     ]
    },
    {
     "output_type": "stream",
     "name": "stdout",
     "text": [
      "\r"
     ]
    },
    {
     "output_type": "stream",
     "name": "stdout",
     "text": [
      "1043/1875 [===============>..............]"
     ]
    },
    {
     "output_type": "stream",
     "name": "stdout",
     "text": [
      " - ETA: 1s - loss: 0.2682 - accuracy: 0.9003"
     ]
    },
    {
     "output_type": "stream",
     "name": "stdout",
     "text": [
      "\b\b\b\b\b\b\b\b\b\b\b\b\b\b\b\b\b\b\b\b\b\b\b\b\b\b\b\b\b\b\b\b\b\b\b\b\b\b\b\b\b\b\b\b\b\b\b\b\b\b\b\b\b\b\b\b\b\b\b\b\b\b\b\b\b\b\b\b\b\b\b\b\b\b\b\b\b\b\b\b\b\b\b\b\b\b"
     ]
    },
    {
     "output_type": "stream",
     "name": "stdout",
     "text": [
      "\r"
     ]
    },
    {
     "output_type": "stream",
     "name": "stdout",
     "text": [
      "1079/1875 [================>.............]"
     ]
    },
    {
     "output_type": "stream",
     "name": "stdout",
     "text": [
      " - ETA: 1s - loss: 0.2681 - accuracy: 0.9004"
     ]
    },
    {
     "output_type": "stream",
     "name": "stdout",
     "text": [
      "\b\b\b\b\b\b\b\b\b\b\b\b\b\b\b\b\b\b\b\b\b\b\b\b\b\b\b\b\b\b\b\b\b\b\b\b\b\b\b\b\b\b\b\b\b\b\b\b\b\b\b\b\b\b\b\b\b\b\b\b\b\b\b\b\b\b\b\b\b\b\b\b\b\b\b\b\b\b\b\b\b\b\b\b\b\b"
     ]
    },
    {
     "output_type": "stream",
     "name": "stdout",
     "text": [
      "\r"
     ]
    },
    {
     "output_type": "stream",
     "name": "stdout",
     "text": [
      "1115/1875 [================>.............]"
     ]
    },
    {
     "output_type": "stream",
     "name": "stdout",
     "text": [
      " - ETA: 1s - loss: 0.2686 - accuracy: 0.9001"
     ]
    },
    {
     "output_type": "stream",
     "name": "stdout",
     "text": [
      "\b\b\b\b\b\b\b\b\b\b\b\b\b\b\b\b\b\b\b\b\b\b\b\b\b\b\b\b\b\b\b\b\b\b\b\b\b\b\b\b\b\b\b\b\b\b\b\b\b\b\b\b\b\b\b\b\b\b\b\b\b\b\b\b\b\b\b\b\b\b\b\b\b\b\b\b\b\b\b\b\b\b\b\b\b\b"
     ]
    },
    {
     "output_type": "stream",
     "name": "stdout",
     "text": [
      "\r"
     ]
    },
    {
     "output_type": "stream",
     "name": "stdout",
     "text": [
      "1150/1875 [=================>............]"
     ]
    },
    {
     "output_type": "stream",
     "name": "stdout",
     "text": [
      " - ETA: 1s - loss: 0.2688 - accuracy: 0.8999"
     ]
    },
    {
     "output_type": "stream",
     "name": "stdout",
     "text": [
      "\b\b\b\b\b\b\b\b\b\b\b\b\b\b\b\b\b\b\b\b\b\b\b\b\b\b\b\b\b\b\b\b\b\b\b\b\b\b\b\b\b\b\b\b\b\b\b\b\b\b\b\b\b\b\b\b\b\b\b\b\b\b\b\b\b\b\b\b\b\b\b\b\b\b\b\b\b\b\b\b\b\b\b\b\b\b"
     ]
    },
    {
     "output_type": "stream",
     "name": "stdout",
     "text": [
      "\r"
     ]
    },
    {
     "output_type": "stream",
     "name": "stdout",
     "text": [
      "1186/1875 [=================>............]"
     ]
    },
    {
     "output_type": "stream",
     "name": "stdout",
     "text": [
      " - ETA: 0s - loss: 0.2699 - accuracy: 0.8995"
     ]
    },
    {
     "output_type": "stream",
     "name": "stdout",
     "text": [
      "\b\b\b\b\b\b\b\b\b\b\b\b\b\b\b\b\b\b\b\b\b\b\b\b\b\b\b\b\b\b\b\b\b\b\b\b\b\b\b\b\b\b\b\b\b\b\b\b\b\b\b\b\b\b\b\b\b\b\b\b\b\b\b\b\b\b\b\b\b\b\b\b\b\b\b\b\b\b\b\b\b\b\b\b\b\b"
     ]
    },
    {
     "output_type": "stream",
     "name": "stdout",
     "text": [
      "\r"
     ]
    },
    {
     "output_type": "stream",
     "name": "stdout",
     "text": [
      "1221/1875 [==================>...........]"
     ]
    },
    {
     "output_type": "stream",
     "name": "stdout",
     "text": [
      " - ETA: 0s - loss: 0.2696 - accuracy: 0.8995"
     ]
    },
    {
     "output_type": "stream",
     "name": "stdout",
     "text": [
      "\b\b\b\b\b\b\b\b\b\b\b\b\b\b\b\b\b\b\b\b\b\b\b\b\b\b\b\b\b\b\b\b\b\b\b\b\b\b\b\b\b\b\b\b\b\b\b\b\b\b\b\b\b\b\b\b\b\b\b\b\b\b\b\b\b\b\b\b\b\b\b\b\b\b\b\b\b\b\b\b\b\b\b\b\b\b"
     ]
    },
    {
     "output_type": "stream",
     "name": "stdout",
     "text": [
      "\r"
     ]
    },
    {
     "output_type": "stream",
     "name": "stdout",
     "text": [
      "1253/1875 [===================>..........]"
     ]
    },
    {
     "output_type": "stream",
     "name": "stdout",
     "text": [
      " - ETA: 0s - loss: 0.2692 - accuracy: 0.8996"
     ]
    },
    {
     "output_type": "stream",
     "name": "stdout",
     "text": [
      "\b\b\b\b\b\b\b\b\b\b\b\b\b\b\b\b\b\b\b\b\b\b\b\b\b\b\b\b\b\b\b\b\b\b\b\b\b\b\b\b\b\b\b\b\b\b\b\b\b\b\b\b\b\b\b\b\b\b\b\b\b\b\b\b\b\b\b\b\b\b\b\b\b\b\b\b\b\b\b\b\b\b\b\b\b\b"
     ]
    },
    {
     "output_type": "stream",
     "name": "stdout",
     "text": [
      "\r"
     ]
    },
    {
     "output_type": "stream",
     "name": "stdout",
     "text": [
      "1284/1875 [===================>..........]"
     ]
    },
    {
     "output_type": "stream",
     "name": "stdout",
     "text": [
      " - ETA: 0s - loss: 0.2688 - accuracy: 0.8999"
     ]
    },
    {
     "output_type": "stream",
     "name": "stdout",
     "text": [
      "\b\b\b\b\b\b\b\b\b\b\b\b\b\b\b\b\b\b\b\b\b\b\b\b\b\b\b\b\b\b\b\b\b\b\b\b\b\b\b\b\b\b\b\b\b\b\b\b\b\b\b\b\b\b\b\b\b\b\b\b\b\b\b\b\b\b\b\b\b\b\b\b\b\b\b\b\b\b\b\b\b\b\b\b\b\b"
     ]
    },
    {
     "output_type": "stream",
     "name": "stdout",
     "text": [
      "\r"
     ]
    },
    {
     "output_type": "stream",
     "name": "stdout",
     "text": [
      "1316/1875 [====================>.........]"
     ]
    },
    {
     "output_type": "stream",
     "name": "stdout",
     "text": [
      " - ETA: 0s - loss: 0.2683 - accuracy: 0.9003"
     ]
    },
    {
     "output_type": "stream",
     "name": "stdout",
     "text": [
      "\b\b\b\b\b\b\b\b\b\b\b\b\b\b\b\b\b\b\b\b\b\b\b\b\b\b\b\b\b\b\b\b\b\b\b\b\b\b\b\b\b\b\b\b\b\b\b\b\b\b\b\b\b\b\b\b\b\b\b\b\b\b\b\b\b\b\b\b\b\b\b\b\b\b\b\b\b\b\b\b\b\b\b\b\b\b"
     ]
    },
    {
     "output_type": "stream",
     "name": "stdout",
     "text": [
      "\r"
     ]
    },
    {
     "output_type": "stream",
     "name": "stdout",
     "text": [
      "1349/1875 [====================>.........]"
     ]
    },
    {
     "output_type": "stream",
     "name": "stdout",
     "text": [
      " - ETA: 0s - loss: 0.2678 - accuracy: 0.9004"
     ]
    },
    {
     "output_type": "stream",
     "name": "stdout",
     "text": [
      "\b\b\b\b\b\b\b\b\b\b\b\b\b\b\b\b\b\b\b\b\b\b\b\b\b\b\b\b\b\b\b\b\b\b\b\b\b\b\b\b\b\b\b\b\b\b\b\b\b\b\b\b\b\b\b\b\b\b\b\b\b\b\b\b\b\b\b\b\b\b\b\b\b\b\b\b\b\b\b\b\b\b\b\b\b\b"
     ]
    },
    {
     "output_type": "stream",
     "name": "stdout",
     "text": [
      "\r"
     ]
    },
    {
     "output_type": "stream",
     "name": "stdout",
     "text": [
      "1382/1875 [=====================>........]"
     ]
    },
    {
     "output_type": "stream",
     "name": "stdout",
     "text": [
      " - ETA: 0s - loss: 0.2685 - accuracy: 0.9001"
     ]
    },
    {
     "output_type": "stream",
     "name": "stdout",
     "text": [
      "\b\b\b\b\b\b\b\b\b\b\b\b\b\b\b\b\b\b\b\b\b\b\b\b\b\b\b\b\b\b\b\b\b\b\b\b\b\b\b\b\b\b\b\b\b\b\b\b\b\b\b\b\b\b\b\b\b\b\b\b\b\b\b\b\b\b\b\b\b\b\b\b\b\b\b\b\b\b\b\b\b\b\b\b\b\b"
     ]
    },
    {
     "output_type": "stream",
     "name": "stdout",
     "text": [
      "\r"
     ]
    },
    {
     "output_type": "stream",
     "name": "stdout",
     "text": [
      "1414/1875 [=====================>........]"
     ]
    },
    {
     "output_type": "stream",
     "name": "stdout",
     "text": [
      " - ETA: 0s - loss: 0.2677 - accuracy: 0.9004"
     ]
    },
    {
     "output_type": "stream",
     "name": "stdout",
     "text": [
      "\b\b\b\b\b\b\b\b\b\b\b\b\b\b\b\b\b\b\b\b\b\b\b\b\b\b\b\b\b\b\b\b\b\b\b\b\b\b\b\b\b\b\b\b\b\b\b\b\b\b\b\b\b\b\b\b\b\b\b\b\b\b\b\b\b\b\b\b\b\b\b\b\b\b\b\b\b\b\b\b\b\b\b\b\b\b"
     ]
    },
    {
     "output_type": "stream",
     "name": "stdout",
     "text": [
      "\r"
     ]
    },
    {
     "output_type": "stream",
     "name": "stdout",
     "text": [
      "1446/1875 [======================>.......]"
     ]
    },
    {
     "output_type": "stream",
     "name": "stdout",
     "text": [
      " - ETA: 0s - loss: 0.2682 - accuracy: 0.9001"
     ]
    },
    {
     "output_type": "stream",
     "name": "stdout",
     "text": [
      "\b\b\b\b\b\b\b\b\b\b\b\b\b\b\b\b\b\b\b\b\b\b\b\b\b\b\b\b\b\b\b\b\b\b\b\b\b\b\b\b\b\b\b\b\b\b\b\b\b\b\b\b\b\b\b\b\b\b\b\b\b\b\b\b\b\b\b\b\b\b\b\b\b\b\b\b\b\b\b\b\b\b\b\b\b\b"
     ]
    },
    {
     "output_type": "stream",
     "name": "stdout",
     "text": [
      "\r"
     ]
    },
    {
     "output_type": "stream",
     "name": "stdout",
     "text": [
      "1478/1875 [======================>.......]"
     ]
    },
    {
     "output_type": "stream",
     "name": "stdout",
     "text": [
      " - ETA: 0s - loss: 0.2677 - accuracy: 0.9002"
     ]
    },
    {
     "output_type": "stream",
     "name": "stdout",
     "text": [
      "\b\b\b\b\b\b\b\b\b\b\b\b\b\b\b\b\b\b\b\b\b\b\b\b\b\b\b\b\b\b\b\b\b\b\b\b\b\b\b\b\b\b\b\b\b\b\b\b\b\b\b\b\b\b\b\b\b\b\b\b\b\b\b\b\b\b\b\b\b\b\b\b\b\b\b\b\b\b\b\b\b\b\b\b\b\b"
     ]
    },
    {
     "output_type": "stream",
     "name": "stdout",
     "text": [
      "\r"
     ]
    },
    {
     "output_type": "stream",
     "name": "stdout",
     "text": [
      "1509/1875 [=======================>......]"
     ]
    },
    {
     "output_type": "stream",
     "name": "stdout",
     "text": [
      " - ETA: 0s - loss: 0.2676 - accuracy: 0.9004"
     ]
    },
    {
     "output_type": "stream",
     "name": "stdout",
     "text": [
      "\b\b\b\b\b\b\b\b\b\b\b\b\b\b\b\b\b\b\b\b\b\b\b\b\b\b\b\b\b\b\b\b\b\b\b\b\b\b\b\b\b\b\b\b\b\b\b\b\b\b\b\b\b\b\b\b\b\b\b\b\b\b\b\b\b\b\b\b\b\b\b\b\b\b\b\b\b\b\b\b\b\b\b\b\b\b"
     ]
    },
    {
     "output_type": "stream",
     "name": "stdout",
     "text": [
      "\r"
     ]
    },
    {
     "output_type": "stream",
     "name": "stdout",
     "text": [
      "1541/1875 [=======================>......]"
     ]
    },
    {
     "output_type": "stream",
     "name": "stdout",
     "text": [
      " - ETA: 0s - loss: 0.2668 - accuracy: 0.9007"
     ]
    },
    {
     "output_type": "stream",
     "name": "stdout",
     "text": [
      "\b\b\b\b\b\b\b\b\b\b\b\b\b\b\b\b\b\b\b\b\b\b\b\b\b\b\b\b\b\b\b\b\b\b\b\b\b\b\b\b\b\b\b\b\b\b\b\b\b\b\b\b\b\b\b\b\b\b\b\b\b\b\b\b\b\b\b\b\b\b\b\b\b\b\b\b\b\b\b\b\b\b\b\b\b\b"
     ]
    },
    {
     "output_type": "stream",
     "name": "stdout",
     "text": [
      "\r"
     ]
    },
    {
     "output_type": "stream",
     "name": "stdout",
     "text": [
      "1572/1875 [========================>.....]"
     ]
    },
    {
     "output_type": "stream",
     "name": "stdout",
     "text": [
      " - ETA: 0s - loss: 0.2674 - accuracy: 0.9006"
     ]
    },
    {
     "output_type": "stream",
     "name": "stdout",
     "text": [
      "\b\b\b\b\b\b\b\b\b\b\b\b\b\b\b\b\b\b\b\b\b\b\b\b\b\b\b\b\b\b\b\b\b\b\b\b\b\b\b\b\b\b\b\b\b\b\b\b\b\b\b\b\b\b\b\b\b\b\b\b\b\b\b\b\b\b\b\b\b\b\b\b\b\b\b\b\b\b\b\b\b\b\b\b\b\b"
     ]
    },
    {
     "output_type": "stream",
     "name": "stdout",
     "text": [
      "\r"
     ]
    },
    {
     "output_type": "stream",
     "name": "stdout",
     "text": [
      "1604/1875 [========================>.....]"
     ]
    },
    {
     "output_type": "stream",
     "name": "stdout",
     "text": [
      " - ETA: 0s - loss: 0.2673 - accuracy: 0.9007"
     ]
    },
    {
     "output_type": "stream",
     "name": "stdout",
     "text": [
      "\b\b\b\b\b\b\b\b\b\b\b\b\b\b\b\b\b\b\b\b\b\b\b\b\b\b\b\b\b\b\b\b\b\b\b\b\b\b\b\b\b\b\b\b\b\b\b\b\b\b\b\b\b\b\b\b\b\b\b\b\b\b\b\b\b\b\b\b\b\b\b\b\b\b\b\b\b\b\b\b\b\b\b\b\b\b"
     ]
    },
    {
     "output_type": "stream",
     "name": "stdout",
     "text": [
      "\r"
     ]
    },
    {
     "output_type": "stream",
     "name": "stdout",
     "text": [
      "1636/1875 [=========================>....]"
     ]
    },
    {
     "output_type": "stream",
     "name": "stdout",
     "text": [
      " - ETA: 0s - loss: 0.2673 - accuracy: 0.9010"
     ]
    },
    {
     "output_type": "stream",
     "name": "stdout",
     "text": [
      "\b\b\b\b\b\b\b\b\b\b\b\b\b\b\b\b\b\b\b\b\b\b\b\b\b\b\b\b\b\b\b\b\b\b\b\b\b\b\b\b\b\b\b\b\b\b\b\b\b\b\b\b\b\b\b\b\b\b\b\b\b\b\b\b\b\b\b\b\b\b\b\b\b\b\b\b\b\b\b\b\b\b\b\b\b\b"
     ]
    },
    {
     "output_type": "stream",
     "name": "stdout",
     "text": [
      "\r"
     ]
    },
    {
     "output_type": "stream",
     "name": "stdout",
     "text": [
      "1668/1875 [=========================>....]"
     ]
    },
    {
     "output_type": "stream",
     "name": "stdout",
     "text": [
      " - ETA: 0s - loss: 0.2677 - accuracy: 0.9009"
     ]
    },
    {
     "output_type": "stream",
     "name": "stdout",
     "text": [
      "\b\b\b\b\b\b\b\b\b\b\b\b\b\b\b\b\b\b\b\b\b\b\b\b\b\b\b\b\b\b\b\b\b\b\b\b\b\b\b\b\b\b\b\b\b\b\b\b\b\b\b\b\b\b\b\b\b\b\b\b\b\b\b\b\b\b\b\b\b\b\b\b\b\b\b\b\b\b\b\b\b\b\b\b\b\b"
     ]
    },
    {
     "output_type": "stream",
     "name": "stdout",
     "text": [
      "\r"
     ]
    },
    {
     "output_type": "stream",
     "name": "stdout",
     "text": [
      "1700/1875 [==========================>...]"
     ]
    },
    {
     "output_type": "stream",
     "name": "stdout",
     "text": [
      " - ETA: 0s - loss: 0.2677 - accuracy: 0.9008"
     ]
    },
    {
     "output_type": "stream",
     "name": "stdout",
     "text": [
      "\b\b\b\b\b\b\b\b\b\b\b\b\b\b\b\b\b\b\b\b\b\b\b\b\b\b\b\b\b\b\b\b\b\b\b\b\b\b\b\b\b\b\b\b\b\b\b\b\b\b\b\b\b\b\b\b\b\b\b\b\b\b\b\b\b\b\b\b\b\b\b\b\b\b\b\b\b\b\b\b\b\b\b\b\b\b"
     ]
    },
    {
     "output_type": "stream",
     "name": "stdout",
     "text": [
      "\r"
     ]
    },
    {
     "output_type": "stream",
     "name": "stdout",
     "text": [
      "1732/1875 [==========================>...]"
     ]
    },
    {
     "output_type": "stream",
     "name": "stdout",
     "text": [
      " - ETA: 0s - loss: 0.2683 - accuracy: 0.9007"
     ]
    },
    {
     "output_type": "stream",
     "name": "stdout",
     "text": [
      "\b\b\b\b\b\b\b\b\b\b\b\b\b\b\b\b\b\b\b\b\b\b\b\b\b\b\b\b\b\b\b\b\b\b\b\b\b\b\b\b\b\b\b\b\b\b\b\b\b\b\b\b\b\b\b\b\b\b\b\b\b\b\b\b\b\b\b\b\b\b\b\b\b\b\b\b\b\b\b\b\b\b\b\b\b\b"
     ]
    },
    {
     "output_type": "stream",
     "name": "stdout",
     "text": [
      "\r"
     ]
    },
    {
     "output_type": "stream",
     "name": "stdout",
     "text": [
      "1763/1875 [===========================>..]"
     ]
    },
    {
     "output_type": "stream",
     "name": "stdout",
     "text": [
      " - ETA: 0s - loss: 0.2681 - accuracy: 0.9009"
     ]
    },
    {
     "output_type": "stream",
     "name": "stdout",
     "text": [
      "\b\b\b\b\b\b\b\b\b\b\b\b\b\b\b\b\b\b\b\b\b\b\b\b\b\b\b\b\b\b\b\b\b\b\b\b\b\b\b\b\b\b\b\b\b\b\b\b\b\b\b\b\b\b\b\b\b\b\b\b\b\b\b\b\b\b\b\b\b\b\b\b\b\b\b\b\b\b\b\b\b\b\b\b\b\b"
     ]
    },
    {
     "output_type": "stream",
     "name": "stdout",
     "text": [
      "\r"
     ]
    },
    {
     "output_type": "stream",
     "name": "stdout",
     "text": [
      "1795/1875 [===========================>..]"
     ]
    },
    {
     "output_type": "stream",
     "name": "stdout",
     "text": [
      " - ETA: 0s - loss: 0.2677 - accuracy: 0.9008"
     ]
    },
    {
     "output_type": "stream",
     "name": "stdout",
     "text": [
      "\b\b\b\b\b\b\b\b\b\b\b\b\b\b\b\b\b\b\b\b\b\b\b\b\b\b\b\b\b\b\b\b\b\b\b\b\b\b\b\b\b\b\b\b\b\b\b\b\b\b\b\b\b\b\b\b\b\b\b\b\b\b\b\b\b\b\b\b\b\b\b\b\b\b\b\b\b\b\b\b\b\b\b\b\b\b"
     ]
    },
    {
     "output_type": "stream",
     "name": "stdout",
     "text": [
      "\r"
     ]
    },
    {
     "output_type": "stream",
     "name": "stdout",
     "text": [
      "1827/1875 [============================>.]"
     ]
    },
    {
     "output_type": "stream",
     "name": "stdout",
     "text": [
      " - ETA: 0s - loss: 0.2674 - accuracy: 0.9008"
     ]
    },
    {
     "output_type": "stream",
     "name": "stdout",
     "text": [
      "\b\b\b\b\b\b\b\b\b\b\b\b\b\b\b\b\b\b\b\b\b\b\b\b\b\b\b\b\b\b\b\b\b\b\b\b\b\b\b\b\b\b\b\b\b\b\b\b\b\b\b\b\b\b\b\b\b\b\b\b\b\b\b\b\b\b\b\b\b\b\b\b\b\b\b\b\b\b\b\b\b\b\b\b\b\b"
     ]
    },
    {
     "output_type": "stream",
     "name": "stdout",
     "text": [
      "\r"
     ]
    },
    {
     "output_type": "stream",
     "name": "stdout",
     "text": [
      "1858/1875 [============================>.]"
     ]
    },
    {
     "output_type": "stream",
     "name": "stdout",
     "text": [
      " - ETA: 0s - loss: 0.2677 - accuracy: 0.9005"
     ]
    },
    {
     "output_type": "stream",
     "name": "stdout",
     "text": [
      "\b\b\b\b\b\b\b\b\b\b\b\b\b\b\b\b\b\b\b\b\b\b\b\b\b\b\b\b\b\b\b\b\b\b\b\b\b\b\b\b\b\b\b\b\b\b\b\b\b\b\b\b\b\b\b\b\b\b\b\b\b\b\b\b\b\b\b\b\b\b\b\b\b\b\b\b\b\b\b\b\b\b\b\b\b\b"
     ]
    },
    {
     "output_type": "stream",
     "name": "stdout",
     "text": [
      "\r"
     ]
    },
    {
     "output_type": "stream",
     "name": "stdout",
     "text": [
      "1875/1875 [==============================]"
     ]
    },
    {
     "output_type": "stream",
     "name": "stdout",
     "text": [
      " - 3s 2ms/step - loss: 0.2678 - accuracy: 0.9005 - val_loss: 0.3334 - val_accuracy: 0.8785\n"
     ]
    },
    {
     "output_type": "stream",
     "name": "stdout",
     "text": [
      "Epoch 7/10"
     ]
    },
    {
     "output_type": "stream",
     "name": "stdout",
     "text": [
      "\n"
     ]
    },
    {
     "output_type": "stream",
     "name": "stdout",
     "text": [
      "\r"
     ]
    },
    {
     "output_type": "stream",
     "name": "stdout",
     "text": [
      "   1/1875 [..............................]"
     ]
    },
    {
     "output_type": "stream",
     "name": "stdout",
     "text": [
      " - ETA: 0s - loss: 0.3582 - accuracy: 0.8750"
     ]
    },
    {
     "output_type": "stream",
     "name": "stdout",
     "text": [
      "\b\b\b\b\b\b\b\b\b\b\b\b\b\b\b\b\b\b\b\b\b\b\b\b\b\b\b\b\b\b\b\b\b\b\b\b\b\b\b\b\b\b\b\b\b\b\b\b\b\b\b\b\b\b\b\b\b\b\b\b\b\b\b\b\b\b\b\b\b\b\b\b\b\b\b\b\b\b\b\b\b\b\b\b\b\b"
     ]
    },
    {
     "output_type": "stream",
     "name": "stdout",
     "text": [
      "\r"
     ]
    },
    {
     "output_type": "stream",
     "name": "stdout",
     "text": [
      "  33/1875 [..............................]"
     ]
    },
    {
     "output_type": "stream",
     "name": "stdout",
     "text": [
      " - ETA: 2s - loss: 0.2675 - accuracy: 0.9044"
     ]
    },
    {
     "output_type": "stream",
     "name": "stdout",
     "text": [
      "\b\b\b\b\b\b\b\b\b\b\b\b\b\b\b\b\b\b\b\b\b\b\b\b\b\b\b\b\b\b\b\b\b\b\b\b\b\b\b\b\b\b\b\b\b\b\b\b\b\b\b\b\b\b\b\b\b\b\b\b\b\b\b\b\b\b\b\b\b\b\b\b\b\b\b\b\b\b\b\b\b\b\b\b\b\b"
     ]
    },
    {
     "output_type": "stream",
     "name": "stdout",
     "text": [
      "\r"
     ]
    },
    {
     "output_type": "stream",
     "name": "stdout",
     "text": [
      "  66/1875 [>.............................]"
     ]
    },
    {
     "output_type": "stream",
     "name": "stdout",
     "text": [
      " - ETA: 2s - loss: 0.2576 - accuracy: 0.9110"
     ]
    },
    {
     "output_type": "stream",
     "name": "stdout",
     "text": [
      "\b\b\b\b\b\b\b\b\b\b\b\b\b\b\b\b\b\b\b\b\b\b\b\b\b\b\b\b\b\b\b\b\b\b\b\b\b\b\b\b\b\b\b\b\b\b\b\b\b\b\b\b\b\b\b\b\b\b\b\b\b\b\b\b\b\b\b\b\b\b\b\b\b\b\b\b\b\b\b\b\b\b\b\b\b\b"
     ]
    },
    {
     "output_type": "stream",
     "name": "stdout",
     "text": [
      "\r"
     ]
    },
    {
     "output_type": "stream",
     "name": "stdout",
     "text": [
      "  99/1875 [>.............................]"
     ]
    },
    {
     "output_type": "stream",
     "name": "stdout",
     "text": [
      " - ETA: 2s - loss: 0.2462 - accuracy: 0.9119"
     ]
    },
    {
     "output_type": "stream",
     "name": "stdout",
     "text": [
      "\b\b\b\b\b\b\b\b\b\b\b\b\b\b\b\b\b\b\b\b\b\b\b\b\b\b\b\b\b\b\b\b\b\b\b\b\b\b\b\b\b\b\b\b\b\b\b\b\b\b\b\b\b\b\b\b\b\b\b\b\b\b\b\b\b\b\b\b\b\b\b\b\b\b\b\b\b\b\b\b\b\b\b\b\b\b"
     ]
    },
    {
     "output_type": "stream",
     "name": "stdout",
     "text": [
      "\r"
     ]
    },
    {
     "output_type": "stream",
     "name": "stdout",
     "text": [
      " 132/1875 [=>............................]"
     ]
    },
    {
     "output_type": "stream",
     "name": "stdout",
     "text": [
      " - ETA: 2s - loss: 0.2383 - accuracy: 0.9117"
     ]
    },
    {
     "output_type": "stream",
     "name": "stdout",
     "text": [
      "\b\b\b\b\b\b\b\b\b\b\b\b\b\b\b\b\b\b\b\b\b\b\b\b\b\b\b\b\b\b\b\b\b\b\b\b\b\b\b\b\b\b\b\b\b\b\b\b\b\b\b\b\b\b\b\b\b\b\b\b\b\b\b\b\b\b\b\b\b\b\b\b\b\b\b\b\b\b\b\b\b\b\b\b\b\b"
     ]
    },
    {
     "output_type": "stream",
     "name": "stdout",
     "text": [
      "\r"
     ]
    },
    {
     "output_type": "stream",
     "name": "stdout",
     "text": [
      " 165/1875 [=>............................]"
     ]
    },
    {
     "output_type": "stream",
     "name": "stdout",
     "text": [
      " - ETA: 2s - loss: 0.2421 - accuracy: 0.9097"
     ]
    },
    {
     "output_type": "stream",
     "name": "stdout",
     "text": [
      "\b\b\b\b\b\b\b\b\b\b\b\b\b\b\b\b\b\b\b\b\b\b\b\b\b\b\b\b\b\b\b\b\b\b\b\b\b\b\b\b\b\b\b\b\b\b\b\b\b\b\b\b\b\b\b\b\b\b\b\b\b\b\b\b\b\b\b\b\b\b\b\b\b\b\b\b\b\b\b\b\b\b\b\b\b\b"
     ]
    },
    {
     "output_type": "stream",
     "name": "stdout",
     "text": [
      "\r"
     ]
    },
    {
     "output_type": "stream",
     "name": "stdout",
     "text": [
      " 197/1875 [==>...........................]"
     ]
    },
    {
     "output_type": "stream",
     "name": "stdout",
     "text": [
      " - ETA: 2s - loss: 0.2417 - accuracy: 0.9091"
     ]
    },
    {
     "output_type": "stream",
     "name": "stdout",
     "text": [
      "\b\b\b\b\b\b\b\b\b\b\b\b\b\b\b\b\b\b\b\b\b\b\b\b\b\b\b\b\b\b\b\b\b\b\b\b\b\b\b\b\b\b\b\b\b\b\b\b\b\b\b\b\b\b\b\b\b\b\b\b\b\b\b\b\b\b\b\b\b\b\b\b\b\b\b\b\b\b\b\b\b\b\b\b\b\b"
     ]
    },
    {
     "output_type": "stream",
     "name": "stdout",
     "text": [
      "\r"
     ]
    },
    {
     "output_type": "stream",
     "name": "stdout",
     "text": [
      " 230/1875 [==>...........................]"
     ]
    },
    {
     "output_type": "stream",
     "name": "stdout",
     "text": [
      " - ETA: 2s - loss: 0.2435 - accuracy: 0.9087"
     ]
    },
    {
     "output_type": "stream",
     "name": "stdout",
     "text": [
      "\b\b\b\b\b\b\b\b\b\b\b\b\b\b\b\b\b\b\b\b\b\b\b\b\b\b\b\b\b\b\b\b\b\b\b\b\b\b\b\b\b\b\b\b\b\b\b\b\b\b\b\b\b\b\b\b\b\b\b\b\b\b\b\b\b\b\b\b\b\b\b\b\b\b\b\b\b\b\b\b\b\b\b\b\b\b"
     ]
    },
    {
     "output_type": "stream",
     "name": "stdout",
     "text": [
      "\r"
     ]
    },
    {
     "output_type": "stream",
     "name": "stdout",
     "text": [
      " 263/1875 [===>..........................]"
     ]
    },
    {
     "output_type": "stream",
     "name": "stdout",
     "text": [
      " - ETA: 2s - loss: 0.2452 - accuracy: 0.9083"
     ]
    },
    {
     "output_type": "stream",
     "name": "stdout",
     "text": [
      "\b\b\b\b\b\b\b\b\b\b\b\b\b\b\b\b\b\b\b\b\b\b\b\b\b\b\b\b\b\b\b\b\b\b\b\b\b\b\b\b\b\b\b\b\b\b\b\b\b\b\b\b\b\b\b\b\b\b\b\b\b\b\b\b\b\b\b\b\b\b\b\b\b\b\b\b\b\b\b\b\b\b\b\b\b\b"
     ]
    },
    {
     "output_type": "stream",
     "name": "stdout",
     "text": [
      "\r"
     ]
    },
    {
     "output_type": "stream",
     "name": "stdout",
     "text": [
      " 295/1875 [===>..........................]"
     ]
    },
    {
     "output_type": "stream",
     "name": "stdout",
     "text": [
      " - ETA: 2s - loss: 0.2488 - accuracy: 0.9067"
     ]
    },
    {
     "output_type": "stream",
     "name": "stdout",
     "text": [
      "\b\b\b\b\b\b\b\b\b\b\b\b\b\b\b\b\b\b\b\b\b\b\b\b\b\b\b\b\b\b\b\b\b\b\b\b\b\b\b\b\b\b\b\b\b\b\b\b\b\b\b\b\b\b\b\b\b\b\b\b\b\b\b\b\b\b\b\b\b\b\b\b\b\b\b\b\b\b\b\b\b\b\b\b\b\b"
     ]
    },
    {
     "output_type": "stream",
     "name": "stdout",
     "text": [
      "\r"
     ]
    },
    {
     "output_type": "stream",
     "name": "stdout",
     "text": [
      " 328/1875 [====>.........................]"
     ]
    },
    {
     "output_type": "stream",
     "name": "stdout",
     "text": [
      " - ETA: 2s - loss: 0.2485 - accuracy: 0.9071"
     ]
    },
    {
     "output_type": "stream",
     "name": "stdout",
     "text": [
      "\b\b\b\b\b\b\b\b\b\b\b\b\b\b\b\b\b\b\b\b\b\b\b\b\b\b\b\b\b\b\b\b\b\b\b\b\b\b\b\b\b\b\b\b\b\b\b\b\b\b\b\b\b\b\b\b\b\b\b\b\b\b\b\b\b\b\b\b\b\b\b\b\b\b\b\b\b\b\b\b\b\b\b\b\b\b"
     ]
    },
    {
     "output_type": "stream",
     "name": "stdout",
     "text": [
      "\r"
     ]
    },
    {
     "output_type": "stream",
     "name": "stdout",
     "text": [
      " 361/1875 [====>.........................]"
     ]
    },
    {
     "output_type": "stream",
     "name": "stdout",
     "text": [
      " - ETA: 2s - loss: 0.2491 - accuracy: 0.9069"
     ]
    },
    {
     "output_type": "stream",
     "name": "stdout",
     "text": [
      "\b\b\b\b\b\b\b\b\b\b\b\b\b\b\b\b\b\b\b\b\b\b\b\b\b\b\b\b\b\b\b\b\b\b\b\b\b\b\b\b\b\b\b\b\b\b\b\b\b\b\b\b\b\b\b\b\b\b\b\b\b\b\b\b\b\b\b\b\b\b\b\b\b\b\b\b\b\b\b\b\b\b\b\b\b\b"
     ]
    },
    {
     "output_type": "stream",
     "name": "stdout",
     "text": [
      "\r"
     ]
    },
    {
     "output_type": "stream",
     "name": "stdout",
     "text": [
      " 393/1875 [=====>........................]"
     ]
    },
    {
     "output_type": "stream",
     "name": "stdout",
     "text": [
      " - ETA: 2s - loss: 0.2493 - accuracy: 0.9069"
     ]
    },
    {
     "output_type": "stream",
     "name": "stdout",
     "text": [
      "\b\b\b\b\b\b\b\b\b\b\b\b\b\b\b\b\b\b\b\b\b\b\b\b\b\b\b\b\b\b\b\b\b\b\b\b\b\b\b\b\b\b\b\b\b\b\b\b\b\b\b\b\b\b\b\b\b\b\b\b\b\b\b\b\b\b\b\b\b\b\b\b\b\b\b\b\b\b\b\b\b\b\b\b\b\b"
     ]
    },
    {
     "output_type": "stream",
     "name": "stdout",
     "text": [
      "\r"
     ]
    },
    {
     "output_type": "stream",
     "name": "stdout",
     "text": [
      " 425/1875 [=====>........................]"
     ]
    },
    {
     "output_type": "stream",
     "name": "stdout",
     "text": [
      " - ETA: 2s - loss: 0.2516 - accuracy: 0.9059"
     ]
    },
    {
     "output_type": "stream",
     "name": "stdout",
     "text": [
      "\b\b\b\b\b\b\b\b\b\b\b\b\b\b\b\b\b\b\b\b\b\b\b\b\b\b\b\b\b\b\b\b\b\b\b\b\b\b\b\b\b\b\b\b\b\b\b\b\b\b\b\b\b\b\b\b\b\b\b\b\b\b\b\b\b\b\b\b\b\b\b\b\b\b\b\b\b\b\b\b\b\b\b\b\b\b"
     ]
    },
    {
     "output_type": "stream",
     "name": "stdout",
     "text": [
      "\r"
     ]
    },
    {
     "output_type": "stream",
     "name": "stdout",
     "text": [
      " 456/1875 [======>.......................]"
     ]
    },
    {
     "output_type": "stream",
     "name": "stdout",
     "text": [
      " - ETA: 2s - loss: 0.2519 - accuracy: 0.9060"
     ]
    },
    {
     "output_type": "stream",
     "name": "stdout",
     "text": [
      "\b\b\b\b\b\b\b\b\b\b\b\b\b\b\b\b\b\b\b\b\b\b\b\b\b\b\b\b\b\b\b\b\b\b\b\b\b\b\b\b\b\b\b\b\b\b\b\b\b\b\b\b\b\b\b\b\b\b\b\b\b\b\b\b\b\b\b\b\b\b\b\b\b\b\b\b\b\b\b\b\b\b\b\b\b\b"
     ]
    },
    {
     "output_type": "stream",
     "name": "stdout",
     "text": [
      "\r"
     ]
    },
    {
     "output_type": "stream",
     "name": "stdout",
     "text": [
      " 487/1875 [======>.......................]"
     ]
    },
    {
     "output_type": "stream",
     "name": "stdout",
     "text": [
      " - ETA: 2s - loss: 0.2516 - accuracy: 0.9061"
     ]
    },
    {
     "output_type": "stream",
     "name": "stdout",
     "text": [
      "\b\b\b\b\b\b\b\b\b\b\b\b\b\b\b\b\b\b\b\b\b\b\b\b\b\b\b\b\b\b\b\b\b\b\b\b\b\b\b\b\b\b\b\b\b\b\b\b\b\b\b\b\b\b\b\b\b\b\b\b\b\b\b\b\b\b\b\b\b\b\b\b\b\b\b\b\b\b\b\b\b\b\b\b\b\b"
     ]
    },
    {
     "output_type": "stream",
     "name": "stdout",
     "text": [
      "\r"
     ]
    },
    {
     "output_type": "stream",
     "name": "stdout",
     "text": [
      " 519/1875 [=======>......................]"
     ]
    },
    {
     "output_type": "stream",
     "name": "stdout",
     "text": [
      " - ETA: 2s - loss: 0.2535 - accuracy: 0.9054"
     ]
    },
    {
     "output_type": "stream",
     "name": "stdout",
     "text": [
      "\b\b\b\b\b\b\b\b\b\b\b\b\b\b\b\b\b\b\b\b\b\b\b\b\b\b\b\b\b\b\b\b\b\b\b\b\b\b\b\b\b\b\b\b\b\b\b\b\b\b\b\b\b\b\b\b\b\b\b\b\b\b\b\b\b\b\b\b\b\b\b\b\b\b\b\b\b\b\b\b\b\b\b\b\b\b"
     ]
    },
    {
     "output_type": "stream",
     "name": "stdout",
     "text": [
      "\r"
     ]
    },
    {
     "output_type": "stream",
     "name": "stdout",
     "text": [
      " 551/1875 [=======>......................]"
     ]
    },
    {
     "output_type": "stream",
     "name": "stdout",
     "text": [
      " - ETA: 2s - loss: 0.2535 - accuracy: 0.9056"
     ]
    },
    {
     "output_type": "stream",
     "name": "stdout",
     "text": [
      "\b\b\b\b\b\b\b\b\b\b\b\b\b\b\b\b\b\b\b\b\b\b\b\b\b\b\b\b\b\b\b\b\b\b\b\b\b\b\b\b\b\b\b\b\b\b\b\b\b\b\b\b\b\b\b\b\b\b\b\b\b\b\b\b\b\b\b\b\b\b\b\b\b\b\b\b\b\b\b\b\b\b\b\b\b\b"
     ]
    },
    {
     "output_type": "stream",
     "name": "stdout",
     "text": [
      "\r"
     ]
    },
    {
     "output_type": "stream",
     "name": "stdout",
     "text": [
      " 583/1875 [========>.....................]"
     ]
    },
    {
     "output_type": "stream",
     "name": "stdout",
     "text": [
      " - ETA: 2s - loss: 0.2543 - accuracy: 0.9053"
     ]
    },
    {
     "output_type": "stream",
     "name": "stdout",
     "text": [
      "\b\b\b\b\b\b\b\b\b\b\b\b\b\b\b\b\b\b\b\b\b\b\b\b\b\b\b\b\b\b\b\b\b\b\b\b\b\b\b\b\b\b\b\b\b\b\b\b\b\b\b\b\b\b\b\b\b\b\b\b\b\b\b\b\b\b\b\b\b\b\b\b\b\b\b\b\b\b\b\b\b\b\b\b\b\b"
     ]
    },
    {
     "output_type": "stream",
     "name": "stdout",
     "text": [
      "\r"
     ]
    },
    {
     "output_type": "stream",
     "name": "stdout",
     "text": [
      " 614/1875 [========>.....................]"
     ]
    },
    {
     "output_type": "stream",
     "name": "stdout",
     "text": [
      " - ETA: 1s - loss: 0.2544 - accuracy: 0.9048"
     ]
    },
    {
     "output_type": "stream",
     "name": "stdout",
     "text": [
      "\b\b\b\b\b\b\b\b\b\b\b\b\b\b\b\b\b\b\b\b\b\b\b\b\b\b\b\b\b\b\b\b\b\b\b\b\b\b\b\b\b\b\b\b\b\b\b\b\b\b\b\b\b\b\b\b\b\b\b\b\b\b\b\b\b\b\b\b\b\b\b\b\b\b\b\b\b\b\b\b\b\b\b\b\b\b"
     ]
    },
    {
     "output_type": "stream",
     "name": "stdout",
     "text": [
      "\r"
     ]
    },
    {
     "output_type": "stream",
     "name": "stdout",
     "text": [
      " 646/1875 [=========>....................]"
     ]
    },
    {
     "output_type": "stream",
     "name": "stdout",
     "text": [
      " - ETA: 1s - loss: 0.2531 - accuracy: 0.9050"
     ]
    },
    {
     "output_type": "stream",
     "name": "stdout",
     "text": [
      "\b\b\b\b\b\b\b\b\b\b\b\b\b\b\b\b\b\b\b\b\b\b\b\b\b\b\b\b\b\b\b\b\b\b\b\b\b\b\b\b\b\b\b\b\b\b\b\b\b\b\b\b\b\b\b\b\b\b\b\b\b\b\b\b\b\b\b\b\b\b\b\b\b\b\b\b\b\b\b\b\b\b\b\b\b\b"
     ]
    },
    {
     "output_type": "stream",
     "name": "stdout",
     "text": [
      "\r"
     ]
    },
    {
     "output_type": "stream",
     "name": "stdout",
     "text": [
      " 679/1875 [=========>....................]"
     ]
    },
    {
     "output_type": "stream",
     "name": "stdout",
     "text": [
      " - ETA: 1s - loss: 0.2521 - accuracy: 0.9056"
     ]
    },
    {
     "output_type": "stream",
     "name": "stdout",
     "text": [
      "\b\b\b\b\b\b\b\b\b\b\b\b\b\b\b\b\b\b\b\b\b\b\b\b\b\b\b\b\b\b\b\b\b\b\b\b\b\b\b\b\b\b\b\b\b\b\b\b\b\b\b\b\b\b\b\b\b\b\b\b\b\b\b\b\b\b\b\b\b\b\b\b\b\b\b\b\b\b\b\b\b\b\b\b\b\b"
     ]
    },
    {
     "output_type": "stream",
     "name": "stdout",
     "text": [
      "\r"
     ]
    },
    {
     "output_type": "stream",
     "name": "stdout",
     "text": [
      " 711/1875 [==========>...................]"
     ]
    },
    {
     "output_type": "stream",
     "name": "stdout",
     "text": [
      " - ETA: 1s - loss: 0.2535 - accuracy: 0.9051"
     ]
    },
    {
     "output_type": "stream",
     "name": "stdout",
     "text": [
      "\b\b\b\b\b\b\b\b\b\b\b\b\b\b\b\b\b\b\b\b\b\b\b\b\b\b\b\b\b\b\b\b\b\b\b\b\b\b\b\b\b\b\b\b\b\b\b\b\b\b\b\b\b\b\b\b\b\b\b\b\b\b\b\b\b\b\b\b\b\b\b\b\b\b\b\b\b\b\b\b\b\b\b\b\b\b"
     ]
    },
    {
     "output_type": "stream",
     "name": "stdout",
     "text": [
      "\r"
     ]
    },
    {
     "output_type": "stream",
     "name": "stdout",
     "text": [
      " 743/1875 [==========>...................]"
     ]
    },
    {
     "output_type": "stream",
     "name": "stdout",
     "text": [
      " - ETA: 1s - loss: 0.2547 - accuracy: 0.9051"
     ]
    },
    {
     "output_type": "stream",
     "name": "stdout",
     "text": [
      "\b\b\b\b\b\b\b\b\b\b\b\b\b\b\b\b\b\b\b\b\b\b\b\b\b\b\b\b\b\b\b\b\b\b\b\b\b\b\b\b\b\b\b\b\b\b\b\b\b\b\b\b\b\b\b\b\b\b\b\b\b\b\b\b\b\b\b\b\b\b\b\b\b\b\b\b\b\b\b\b\b\b\b\b\b\b"
     ]
    },
    {
     "output_type": "stream",
     "name": "stdout",
     "text": [
      "\r"
     ]
    },
    {
     "output_type": "stream",
     "name": "stdout",
     "text": [
      " 775/1875 [===========>..................]"
     ]
    },
    {
     "output_type": "stream",
     "name": "stdout",
     "text": [
      " - ETA: 1s - loss: 0.2541 - accuracy: 0.9052"
     ]
    },
    {
     "output_type": "stream",
     "name": "stdout",
     "text": [
      "\b\b\b\b\b\b\b\b\b\b\b\b\b\b\b\b\b\b\b\b\b\b\b\b\b\b\b\b\b\b\b\b\b\b\b\b\b\b\b\b\b\b\b\b\b\b\b\b\b\b\b\b\b\b\b\b\b\b\b\b\b\b\b\b\b\b\b\b\b\b\b\b\b\b\b\b\b\b\b\b\b\b\b\b\b\b"
     ]
    },
    {
     "output_type": "stream",
     "name": "stdout",
     "text": [
      "\r"
     ]
    },
    {
     "output_type": "stream",
     "name": "stdout",
     "text": [
      " 809/1875 [===========>..................]"
     ]
    },
    {
     "output_type": "stream",
     "name": "stdout",
     "text": [
      " - ETA: 1s - loss: 0.2532 - accuracy: 0.9057"
     ]
    },
    {
     "output_type": "stream",
     "name": "stdout",
     "text": [
      "\b\b\b\b\b\b\b\b\b\b\b\b\b\b\b\b\b\b\b\b\b\b\b\b\b\b\b\b\b\b\b\b\b\b\b\b\b\b\b\b\b\b\b\b\b\b\b\b\b\b\b\b\b\b\b\b\b\b\b\b\b\b\b\b\b\b\b\b\b\b\b\b\b\b\b\b\b\b\b\b\b\b\b\b\b\b"
     ]
    },
    {
     "output_type": "stream",
     "name": "stdout",
     "text": [
      "\r"
     ]
    },
    {
     "output_type": "stream",
     "name": "stdout",
     "text": [
      " 841/1875 [============>.................]"
     ]
    },
    {
     "output_type": "stream",
     "name": "stdout",
     "text": [
      " - ETA: 1s - loss: 0.2522 - accuracy: 0.9059"
     ]
    },
    {
     "output_type": "stream",
     "name": "stdout",
     "text": [
      "\b\b\b\b\b\b\b\b\b\b\b\b\b\b\b\b\b\b\b\b\b\b\b\b\b\b\b\b\b\b\b\b\b\b\b\b\b\b\b\b\b\b\b\b\b\b\b\b\b\b\b\b\b\b\b\b\b\b\b\b\b\b\b\b\b\b\b\b\b\b\b\b\b\b\b\b\b\b\b\b\b\b\b\b\b\b"
     ]
    },
    {
     "output_type": "stream",
     "name": "stdout",
     "text": [
      "\r"
     ]
    },
    {
     "output_type": "stream",
     "name": "stdout",
     "text": [
      " 874/1875 [============>.................]"
     ]
    },
    {
     "output_type": "stream",
     "name": "stdout",
     "text": [
      " - ETA: 1s - loss: 0.2522 - accuracy: 0.9060"
     ]
    },
    {
     "output_type": "stream",
     "name": "stdout",
     "text": [
      "\b\b\b\b\b\b\b\b\b\b\b\b\b\b\b\b\b\b\b\b\b\b\b\b\b\b\b\b\b\b\b\b\b\b\b\b\b\b\b\b\b\b\b\b\b\b\b\b\b\b\b\b\b\b\b\b\b\b\b\b\b\b\b\b\b\b\b\b\b\b\b\b\b\b\b\b\b\b\b\b\b\b\b\b\b\b"
     ]
    },
    {
     "output_type": "stream",
     "name": "stdout",
     "text": [
      "\r"
     ]
    },
    {
     "output_type": "stream",
     "name": "stdout",
     "text": [
      " 907/1875 [=============>................]"
     ]
    },
    {
     "output_type": "stream",
     "name": "stdout",
     "text": [
      " - ETA: 1s - loss: 0.2522 - accuracy: 0.9059"
     ]
    },
    {
     "output_type": "stream",
     "name": "stdout",
     "text": [
      "\b\b\b\b\b\b\b\b\b\b\b\b\b\b\b\b\b\b\b\b\b\b\b\b\b\b\b\b\b\b\b\b\b\b\b\b\b\b\b\b\b\b\b\b\b\b\b\b\b\b\b\b\b\b\b\b\b\b\b\b\b\b\b\b\b\b\b\b\b\b\b\b\b\b\b\b\b\b\b\b\b\b\b\b\b\b"
     ]
    },
    {
     "output_type": "stream",
     "name": "stdout",
     "text": [
      "\r"
     ]
    },
    {
     "output_type": "stream",
     "name": "stdout",
     "text": [
      " 939/1875 [==============>...............]"
     ]
    },
    {
     "output_type": "stream",
     "name": "stdout",
     "text": [
      " - ETA: 1s - loss: 0.2510 - accuracy: 0.9060"
     ]
    },
    {
     "output_type": "stream",
     "name": "stdout",
     "text": [
      "\b\b\b\b\b\b\b\b\b\b\b\b\b\b\b\b\b\b\b\b\b\b\b\b\b\b\b\b\b\b\b\b\b\b\b\b\b\b\b\b\b\b\b\b\b\b\b\b\b\b\b\b\b\b\b\b\b\b\b\b\b\b\b\b\b\b\b\b\b\b\b\b\b\b\b\b\b\b\b\b\b\b\b\b\b\b"
     ]
    },
    {
     "output_type": "stream",
     "name": "stdout",
     "text": [
      "\r"
     ]
    },
    {
     "output_type": "stream",
     "name": "stdout",
     "text": [
      " 972/1875 [==============>...............]"
     ]
    },
    {
     "output_type": "stream",
     "name": "stdout",
     "text": [
      " - ETA: 1s - loss: 0.2514 - accuracy: 0.9061"
     ]
    },
    {
     "output_type": "stream",
     "name": "stdout",
     "text": [
      "\b\b\b\b\b\b\b\b\b\b\b\b\b\b\b\b\b\b\b\b\b\b\b\b\b\b\b\b\b\b\b\b\b\b\b\b\b\b\b\b\b\b\b\b\b\b\b\b\b\b\b\b\b\b\b\b\b\b\b\b\b\b\b\b\b\b\b\b\b\b\b\b\b\b\b\b\b\b\b\b\b\b\b\b\b\b"
     ]
    },
    {
     "output_type": "stream",
     "name": "stdout",
     "text": [
      "\r"
     ]
    },
    {
     "output_type": "stream",
     "name": "stdout",
     "text": [
      "1005/1875 [===============>..............]"
     ]
    },
    {
     "output_type": "stream",
     "name": "stdout",
     "text": [
      " - ETA: 1s - loss: 0.2525 - accuracy: 0.9056"
     ]
    },
    {
     "output_type": "stream",
     "name": "stdout",
     "text": [
      "\b\b\b\b\b\b\b\b\b\b\b\b\b\b\b\b\b\b\b\b\b\b\b\b\b\b\b\b\b\b\b\b\b\b\b\b\b\b\b\b\b\b\b\b\b\b\b\b\b\b\b\b\b\b\b\b\b\b\b\b\b\b\b\b\b\b\b\b\b\b\b\b\b\b\b\b\b\b\b\b\b\b\b\b\b\b"
     ]
    },
    {
     "output_type": "stream",
     "name": "stdout",
     "text": [
      "\r"
     ]
    },
    {
     "output_type": "stream",
     "name": "stdout",
     "text": [
      "1037/1875 [===============>..............]"
     ]
    },
    {
     "output_type": "stream",
     "name": "stdout",
     "text": [
      " - ETA: 1s - loss: 0.2517 - accuracy: 0.9059"
     ]
    },
    {
     "output_type": "stream",
     "name": "stdout",
     "text": [
      "\b\b\b\b\b\b\b\b\b\b\b\b\b\b\b\b\b\b\b\b\b\b\b\b\b\b\b\b\b\b\b\b\b\b\b\b\b\b\b\b\b\b\b\b\b\b\b\b\b\b\b\b\b\b\b\b\b\b\b\b\b\b\b\b\b\b\b\b\b\b\b\b\b\b\b\b\b\b\b\b\b\b\b\b\b\b"
     ]
    },
    {
     "output_type": "stream",
     "name": "stdout",
     "text": [
      "\r"
     ]
    },
    {
     "output_type": "stream",
     "name": "stdout",
     "text": [
      "1069/1875 [================>.............]"
     ]
    },
    {
     "output_type": "stream",
     "name": "stdout",
     "text": [
      " - ETA: 1s - loss: 0.2518 - accuracy: 0.9059"
     ]
    },
    {
     "output_type": "stream",
     "name": "stdout",
     "text": [
      "\b\b\b\b\b\b\b\b\b\b\b\b\b\b\b\b\b\b\b\b\b\b\b\b\b\b\b\b\b\b\b\b\b\b\b\b\b\b\b\b\b\b\b\b\b\b\b\b\b\b\b\b\b\b\b\b\b\b\b\b\b\b\b\b\b\b\b\b\b\b\b\b\b\b\b\b\b\b\b\b\b\b\b\b\b\b"
     ]
    },
    {
     "output_type": "stream",
     "name": "stdout",
     "text": [
      "\r"
     ]
    },
    {
     "output_type": "stream",
     "name": "stdout",
     "text": [
      "1101/1875 [================>.............]"
     ]
    },
    {
     "output_type": "stream",
     "name": "stdout",
     "text": [
      " - ETA: 1s - loss: 0.2512 - accuracy: 0.9062"
     ]
    },
    {
     "output_type": "stream",
     "name": "stdout",
     "text": [
      "\b\b\b\b\b\b\b\b\b\b\b\b\b\b\b\b\b\b\b\b\b\b\b\b\b\b\b\b\b\b\b\b\b\b\b\b\b\b\b\b\b\b\b\b\b\b\b\b\b\b\b\b\b\b\b\b\b\b\b\b\b\b\b\b\b\b\b\b\b\b\b\b\b\b\b\b\b\b\b\b\b\b\b\b\b\b"
     ]
    },
    {
     "output_type": "stream",
     "name": "stdout",
     "text": [
      "\r"
     ]
    },
    {
     "output_type": "stream",
     "name": "stdout",
     "text": [
      "1133/1875 [=================>............]"
     ]
    },
    {
     "output_type": "stream",
     "name": "stdout",
     "text": [
      " - ETA: 1s - loss: 0.2527 - accuracy: 0.9057"
     ]
    },
    {
     "output_type": "stream",
     "name": "stdout",
     "text": [
      "\b\b\b\b\b\b\b\b\b\b\b\b\b\b\b\b\b\b\b\b\b\b\b\b\b\b\b\b\b\b\b\b\b\b\b\b\b\b\b\b\b\b\b\b\b\b\b\b\b\b\b\b\b\b\b\b\b\b\b\b\b\b\b\b\b\b\b\b\b\b\b\b\b\b\b\b\b\b\b\b\b\b\b\b\b\b"
     ]
    },
    {
     "output_type": "stream",
     "name": "stdout",
     "text": [
      "\r"
     ]
    },
    {
     "output_type": "stream",
     "name": "stdout",
     "text": [
      "1165/1875 [=================>............]"
     ]
    },
    {
     "output_type": "stream",
     "name": "stdout",
     "text": [
      " - ETA: 1s - loss: 0.2523 - accuracy: 0.9058"
     ]
    },
    {
     "output_type": "stream",
     "name": "stdout",
     "text": [
      "\b\b\b\b\b\b\b\b\b\b\b\b\b\b\b\b\b\b\b\b\b\b\b\b\b\b\b\b\b\b\b\b\b\b\b\b\b\b\b\b\b\b\b\b\b\b\b\b\b\b\b\b\b\b\b\b\b\b\b\b\b\b\b\b\b\b\b\b\b\b\b\b\b\b\b\b\b\b\b\b\b\b\b\b\b\b"
     ]
    },
    {
     "output_type": "stream",
     "name": "stdout",
     "text": [
      "\r"
     ]
    },
    {
     "output_type": "stream",
     "name": "stdout",
     "text": [
      "1198/1875 [==================>...........]"
     ]
    },
    {
     "output_type": "stream",
     "name": "stdout",
     "text": [
      " - ETA: 1s - loss: 0.2526 - accuracy: 0.9055"
     ]
    },
    {
     "output_type": "stream",
     "name": "stdout",
     "text": [
      "\b\b\b\b\b\b\b\b\b\b\b\b\b\b\b\b\b\b\b\b\b\b\b\b\b\b\b\b\b\b\b\b\b\b\b\b\b\b\b\b\b\b\b\b\b\b\b\b\b\b\b\b\b\b\b\b\b\b\b\b\b\b\b\b\b\b\b\b\b\b\b\b\b\b\b\b\b\b\b\b\b\b\b\b\b\b"
     ]
    },
    {
     "output_type": "stream",
     "name": "stdout",
     "text": [
      "\r"
     ]
    },
    {
     "output_type": "stream",
     "name": "stdout",
     "text": [
      "1230/1875 [==================>...........]"
     ]
    },
    {
     "output_type": "stream",
     "name": "stdout",
     "text": [
      " - ETA: 1s - loss: 0.2537 - accuracy: 0.9050"
     ]
    },
    {
     "output_type": "stream",
     "name": "stdout",
     "text": [
      "\b\b\b\b\b\b\b\b\b\b\b\b\b\b\b\b\b\b\b\b\b\b\b\b\b\b\b\b\b\b\b\b\b\b\b\b\b\b\b\b\b\b\b\b\b\b\b\b\b\b\b\b\b\b\b\b\b\b\b\b\b\b\b\b\b\b\b\b\b\b\b\b\b\b\b\b\b\b\b\b\b\b\b\b\b\b"
     ]
    },
    {
     "output_type": "stream",
     "name": "stdout",
     "text": [
      "\r"
     ]
    },
    {
     "output_type": "stream",
     "name": "stdout",
     "text": [
      "1261/1875 [===================>..........]"
     ]
    },
    {
     "output_type": "stream",
     "name": "stdout",
     "text": [
      " - ETA: 0s - loss: 0.2536 - accuracy: 0.9054"
     ]
    },
    {
     "output_type": "stream",
     "name": "stdout",
     "text": [
      "\b\b\b\b\b\b\b\b\b\b\b\b\b\b\b\b\b\b\b\b\b\b\b\b\b\b\b\b\b\b\b\b\b\b\b\b\b\b\b\b\b\b\b\b\b\b\b\b\b\b\b\b\b\b\b\b\b\b\b\b\b\b\b\b\b\b\b\b\b\b\b\b\b\b\b\b\b\b\b\b\b\b\b\b\b\b"
     ]
    },
    {
     "output_type": "stream",
     "name": "stdout",
     "text": [
      "\r"
     ]
    },
    {
     "output_type": "stream",
     "name": "stdout",
     "text": [
      "1292/1875 [===================>..........]"
     ]
    },
    {
     "output_type": "stream",
     "name": "stdout",
     "text": [
      " - ETA: 0s - loss: 0.2532 - accuracy: 0.9055"
     ]
    },
    {
     "output_type": "stream",
     "name": "stdout",
     "text": [
      "\b\b\b\b\b\b\b\b\b\b\b\b\b\b\b\b\b\b\b\b\b\b\b\b\b\b\b\b\b\b\b\b\b\b\b\b\b\b\b\b\b\b\b\b\b\b\b\b\b\b\b\b\b\b\b\b\b\b\b\b\b\b\b\b\b\b\b\b\b\b\b\b\b\b\b\b\b\b\b\b\b\b\b\b\b\b"
     ]
    },
    {
     "output_type": "stream",
     "name": "stdout",
     "text": [
      "\r"
     ]
    },
    {
     "output_type": "stream",
     "name": "stdout",
     "text": [
      "1324/1875 [====================>.........]"
     ]
    },
    {
     "output_type": "stream",
     "name": "stdout",
     "text": [
      " - ETA: 0s - loss: 0.2535 - accuracy: 0.9050"
     ]
    },
    {
     "output_type": "stream",
     "name": "stdout",
     "text": [
      "\b\b\b\b\b\b\b\b\b\b\b\b\b\b\b\b\b\b\b\b\b\b\b\b\b\b\b\b\b\b\b\b\b\b\b\b\b\b\b\b\b\b\b\b\b\b\b\b\b\b\b\b\b\b\b\b\b\b\b\b\b\b\b\b\b\b\b\b\b\b\b\b\b\b\b\b\b\b\b\b\b\b\b\b\b\b"
     ]
    },
    {
     "output_type": "stream",
     "name": "stdout",
     "text": [
      "\r"
     ]
    },
    {
     "output_type": "stream",
     "name": "stdout",
     "text": [
      "1356/1875 [====================>.........]"
     ]
    },
    {
     "output_type": "stream",
     "name": "stdout",
     "text": [
      " - ETA: 0s - loss: 0.2523 - accuracy: 0.9057"
     ]
    },
    {
     "output_type": "stream",
     "name": "stdout",
     "text": [
      "\b\b\b\b\b\b\b\b\b\b\b\b\b\b\b\b\b\b\b\b\b\b\b\b\b\b\b\b\b\b\b\b\b\b\b\b\b\b\b\b\b\b\b\b\b\b\b\b\b\b\b\b\b\b\b\b\b\b\b\b\b\b\b\b\b\b\b\b\b\b\b\b\b\b\b\b\b\b\b\b\b\b\b\b\b\b"
     ]
    },
    {
     "output_type": "stream",
     "name": "stdout",
     "text": [
      "\r"
     ]
    },
    {
     "output_type": "stream",
     "name": "stdout",
     "text": [
      "1388/1875 [=====================>........]"
     ]
    },
    {
     "output_type": "stream",
     "name": "stdout",
     "text": [
      " - ETA: 0s - loss: 0.2517 - accuracy: 0.9059"
     ]
    },
    {
     "output_type": "stream",
     "name": "stdout",
     "text": [
      "\b\b\b\b\b\b\b\b\b\b\b\b\b\b\b\b\b\b\b\b\b\b\b\b\b\b\b\b\b\b\b\b\b\b\b\b\b\b\b\b\b\b\b\b\b\b\b\b\b\b\b\b\b\b\b\b\b\b\b\b\b\b\b\b\b\b\b\b\b\b\b\b\b\b\b\b\b\b\b\b\b\b\b\b\b\b"
     ]
    },
    {
     "output_type": "stream",
     "name": "stdout",
     "text": [
      "\r"
     ]
    },
    {
     "output_type": "stream",
     "name": "stdout",
     "text": [
      "1420/1875 [=====================>........]"
     ]
    },
    {
     "output_type": "stream",
     "name": "stdout",
     "text": [
      " - ETA: 0s - loss: 0.2517 - accuracy: 0.9059"
     ]
    },
    {
     "output_type": "stream",
     "name": "stdout",
     "text": [
      "\b\b\b\b\b\b\b\b\b\b\b\b\b\b\b\b\b\b\b\b\b\b\b\b\b\b\b\b\b\b\b\b\b\b\b\b\b\b\b\b\b\b\b\b\b\b\b\b\b\b\b\b\b\b\b\b\b\b\b\b\b\b\b\b\b\b\b\b\b\b\b\b\b\b\b\b\b\b\b\b\b\b\b\b\b\b"
     ]
    },
    {
     "output_type": "stream",
     "name": "stdout",
     "text": [
      "\r"
     ]
    },
    {
     "output_type": "stream",
     "name": "stdout",
     "text": [
      "1451/1875 [======================>.......]"
     ]
    },
    {
     "output_type": "stream",
     "name": "stdout",
     "text": [
      " - ETA: 0s - loss: 0.2519 - accuracy: 0.9060"
     ]
    },
    {
     "output_type": "stream",
     "name": "stdout",
     "text": [
      "\b\b\b\b\b\b\b\b\b\b\b\b\b\b\b\b\b\b\b\b\b\b\b\b\b\b\b\b\b\b\b\b\b\b\b\b\b\b\b\b\b\b\b\b\b\b\b\b\b\b\b\b\b\b\b\b\b\b\b\b\b\b\b\b\b\b\b\b\b\b\b\b\b\b\b\b\b\b\b\b\b\b\b\b\b\b"
     ]
    },
    {
     "output_type": "stream",
     "name": "stdout",
     "text": [
      "\r"
     ]
    },
    {
     "output_type": "stream",
     "name": "stdout",
     "text": [
      "1483/1875 [======================>.......]"
     ]
    },
    {
     "output_type": "stream",
     "name": "stdout",
     "text": [
      " - ETA: 0s - loss: 0.2525 - accuracy: 0.9059"
     ]
    },
    {
     "output_type": "stream",
     "name": "stdout",
     "text": [
      "\b\b\b\b\b\b\b\b\b\b\b\b\b\b\b\b\b\b\b\b\b\b\b\b\b\b\b\b\b\b\b\b\b\b\b\b\b\b\b\b\b\b\b\b\b\b\b\b\b\b\b\b\b\b\b\b\b\b\b\b\b\b\b\b\b\b\b\b\b\b\b\b\b\b\b\b\b\b\b\b\b\b\b\b\b\b"
     ]
    },
    {
     "output_type": "stream",
     "name": "stdout",
     "text": [
      "\r"
     ]
    },
    {
     "output_type": "stream",
     "name": "stdout",
     "text": [
      "1515/1875 [=======================>......]"
     ]
    },
    {
     "output_type": "stream",
     "name": "stdout",
     "text": [
      " - ETA: 0s - loss: 0.2516 - accuracy: 0.9064"
     ]
    },
    {
     "output_type": "stream",
     "name": "stdout",
     "text": [
      "\b\b\b\b\b\b\b\b\b\b\b\b\b\b\b\b\b\b\b\b\b\b\b\b\b\b\b\b\b\b\b\b\b\b\b\b\b\b\b\b\b\b\b\b\b\b\b\b\b\b\b\b\b\b\b\b\b\b\b\b\b\b\b\b\b\b\b\b\b\b\b\b\b\b\b\b\b\b\b\b\b\b\b\b\b\b"
     ]
    },
    {
     "output_type": "stream",
     "name": "stdout",
     "text": [
      "\r"
     ]
    },
    {
     "output_type": "stream",
     "name": "stdout",
     "text": [
      "1548/1875 [=======================>......]"
     ]
    },
    {
     "output_type": "stream",
     "name": "stdout",
     "text": [
      " - ETA: 0s - loss: 0.2519 - accuracy: 0.9064"
     ]
    },
    {
     "output_type": "stream",
     "name": "stdout",
     "text": [
      "\b\b\b\b\b\b\b\b\b\b\b\b\b\b\b\b\b\b\b\b\b\b\b\b\b\b\b\b\b\b\b\b\b\b\b\b\b\b\b\b\b\b\b\b\b\b\b\b\b\b\b\b\b\b\b\b\b\b\b\b\b\b\b\b\b\b\b\b\b\b\b\b\b\b\b\b\b\b\b\b\b\b\b\b\b\b"
     ]
    },
    {
     "output_type": "stream",
     "name": "stdout",
     "text": [
      "\r"
     ]
    },
    {
     "output_type": "stream",
     "name": "stdout",
     "text": [
      "1580/1875 [========================>.....]"
     ]
    },
    {
     "output_type": "stream",
     "name": "stdout",
     "text": [
      " - ETA: 0s - loss: 0.2526 - accuracy: 0.9059"
     ]
    },
    {
     "output_type": "stream",
     "name": "stdout",
     "text": [
      "\b\b\b\b\b\b\b\b\b\b\b\b\b\b\b\b\b\b\b\b\b\b\b\b\b\b\b\b\b\b\b\b\b\b\b\b\b\b\b\b\b\b\b\b\b\b\b\b\b\b\b\b\b\b\b\b\b\b\b\b\b\b\b\b\b\b\b\b\b\b\b\b\b\b\b\b\b\b\b\b\b\b\b\b\b\b"
     ]
    },
    {
     "output_type": "stream",
     "name": "stdout",
     "text": [
      "\r"
     ]
    },
    {
     "output_type": "stream",
     "name": "stdout",
     "text": [
      "1612/1875 [========================>.....]"
     ]
    },
    {
     "output_type": "stream",
     "name": "stdout",
     "text": [
      " - ETA: 0s - loss: 0.2531 - accuracy: 0.9058"
     ]
    },
    {
     "output_type": "stream",
     "name": "stdout",
     "text": [
      "\b\b\b\b\b\b\b\b\b\b\b\b\b\b\b\b\b\b\b\b\b\b\b\b\b\b\b\b\b\b\b\b\b\b\b\b\b\b\b\b\b\b\b\b\b\b\b\b\b\b\b\b\b\b\b\b\b\b\b\b\b\b\b\b\b\b\b\b\b\b\b\b\b\b\b\b\b\b\b\b\b\b\b\b\b\b"
     ]
    },
    {
     "output_type": "stream",
     "name": "stdout",
     "text": [
      "\r"
     ]
    },
    {
     "output_type": "stream",
     "name": "stdout",
     "text": [
      "1645/1875 [=========================>....]"
     ]
    },
    {
     "output_type": "stream",
     "name": "stdout",
     "text": [
      " - ETA: 0s - loss: 0.2531 - accuracy: 0.9058"
     ]
    },
    {
     "output_type": "stream",
     "name": "stdout",
     "text": [
      "\b\b\b\b\b\b\b\b\b\b\b\b\b\b\b\b\b\b\b\b\b\b\b\b\b\b\b\b\b\b\b\b\b\b\b\b\b\b\b\b\b\b\b\b\b\b\b\b\b\b\b\b\b\b\b\b\b\b\b\b\b\b\b\b\b\b\b\b\b\b\b\b\b\b\b\b\b\b\b\b\b\b\b\b\b\b"
     ]
    },
    {
     "output_type": "stream",
     "name": "stdout",
     "text": [
      "\r"
     ]
    },
    {
     "output_type": "stream",
     "name": "stdout",
     "text": [
      "1677/1875 [=========================>....]"
     ]
    },
    {
     "output_type": "stream",
     "name": "stdout",
     "text": [
      " - ETA: 0s - loss: 0.2533 - accuracy: 0.9058"
     ]
    },
    {
     "output_type": "stream",
     "name": "stdout",
     "text": [
      "\b\b\b\b\b\b\b\b\b\b\b\b\b\b\b\b\b\b\b\b\b\b\b\b\b\b\b\b\b\b\b\b\b\b\b\b\b\b\b\b\b\b\b\b\b\b\b\b\b\b\b\b\b\b\b\b\b\b\b\b\b\b\b\b\b\b\b\b\b\b\b\b\b\b\b\b\b\b\b\b\b\b\b\b\b\b"
     ]
    },
    {
     "output_type": "stream",
     "name": "stdout",
     "text": [
      "\r"
     ]
    },
    {
     "output_type": "stream",
     "name": "stdout",
     "text": [
      "1710/1875 [==========================>...]"
     ]
    },
    {
     "output_type": "stream",
     "name": "stdout",
     "text": [
      " - ETA: 0s - loss: 0.2533 - accuracy: 0.9056"
     ]
    },
    {
     "output_type": "stream",
     "name": "stdout",
     "text": [
      "\b\b\b\b\b\b\b\b\b\b\b\b\b\b\b\b\b\b\b\b\b\b\b\b\b\b\b\b\b\b\b\b\b\b\b\b\b\b\b\b\b\b\b\b\b\b\b\b\b\b\b\b\b\b\b\b\b\b\b\b\b\b\b\b\b\b\b\b\b\b\b\b\b\b\b\b\b\b\b\b\b\b\b\b\b\b"
     ]
    },
    {
     "output_type": "stream",
     "name": "stdout",
     "text": [
      "\r"
     ]
    },
    {
     "output_type": "stream",
     "name": "stdout",
     "text": [
      "1742/1875 [==========================>...]"
     ]
    },
    {
     "output_type": "stream",
     "name": "stdout",
     "text": [
      " - ETA: 0s - loss: 0.2535 - accuracy: 0.9055"
     ]
    },
    {
     "output_type": "stream",
     "name": "stdout",
     "text": [
      "\b\b\b\b\b\b\b\b\b\b\b\b\b\b\b\b\b\b\b\b\b\b\b\b\b\b\b\b\b\b\b\b\b\b\b\b\b\b\b\b\b\b\b\b\b\b\b\b\b\b\b\b\b\b\b\b\b\b\b\b\b\b\b\b\b\b\b\b\b\b\b\b\b\b\b\b\b\b\b\b\b\b\b\b\b\b"
     ]
    },
    {
     "output_type": "stream",
     "name": "stdout",
     "text": [
      "\r"
     ]
    },
    {
     "output_type": "stream",
     "name": "stdout",
     "text": [
      "1774/1875 [===========================>..]"
     ]
    },
    {
     "output_type": "stream",
     "name": "stdout",
     "text": [
      " - ETA: 0s - loss: 0.2532 - accuracy: 0.9055"
     ]
    },
    {
     "output_type": "stream",
     "name": "stdout",
     "text": [
      "\b\b\b\b\b\b\b\b\b\b\b\b\b\b\b\b\b\b\b\b\b\b\b\b\b\b\b\b\b\b\b\b\b\b\b\b\b\b\b\b\b\b\b\b\b\b\b\b\b\b\b\b\b\b\b\b\b\b\b\b\b\b\b\b\b\b\b\b\b\b\b\b\b\b\b\b\b\b\b\b\b\b\b\b\b\b"
     ]
    },
    {
     "output_type": "stream",
     "name": "stdout",
     "text": [
      "\r"
     ]
    },
    {
     "output_type": "stream",
     "name": "stdout",
     "text": [
      "1806/1875 [===========================>..]"
     ]
    },
    {
     "output_type": "stream",
     "name": "stdout",
     "text": [
      " - ETA: 0s - loss: 0.2532 - accuracy: 0.9054"
     ]
    },
    {
     "output_type": "stream",
     "name": "stdout",
     "text": [
      "\b\b\b\b\b\b\b\b\b\b\b\b\b\b\b\b\b\b\b\b\b\b\b\b\b\b\b\b\b\b\b\b\b\b\b\b\b\b\b\b\b\b\b\b\b\b\b\b\b\b\b\b\b\b\b\b\b\b\b\b\b\b\b\b\b\b\b\b\b\b\b\b\b\b\b\b\b\b\b\b\b\b\b\b\b\b"
     ]
    },
    {
     "output_type": "stream",
     "name": "stdout",
     "text": [
      "\r"
     ]
    },
    {
     "output_type": "stream",
     "name": "stdout",
     "text": [
      "1838/1875 [============================>.]"
     ]
    },
    {
     "output_type": "stream",
     "name": "stdout",
     "text": [
      " - ETA: 0s - loss: 0.2530 - accuracy: 0.9056"
     ]
    },
    {
     "output_type": "stream",
     "name": "stdout",
     "text": [
      "\b\b\b\b\b\b\b\b\b\b\b\b\b\b\b\b\b\b\b\b\b\b\b\b\b\b\b\b\b\b\b\b\b\b\b\b\b\b\b\b\b\b\b\b\b\b\b\b\b\b\b\b\b\b\b\b\b\b\b\b\b\b\b\b\b\b\b\b\b\b\b\b\b\b\b\b\b\b\b\b\b\b\b\b\b\b"
     ]
    },
    {
     "output_type": "stream",
     "name": "stdout",
     "text": [
      "\r"
     ]
    },
    {
     "output_type": "stream",
     "name": "stdout",
     "text": [
      "1869/1875 [============================>.]"
     ]
    },
    {
     "output_type": "stream",
     "name": "stdout",
     "text": [
      " - ETA: 0s - loss: 0.2532 - accuracy: 0.9055"
     ]
    },
    {
     "output_type": "stream",
     "name": "stdout",
     "text": [
      "\b\b\b\b\b\b\b\b\b\b\b\b\b\b\b\b\b\b\b\b\b\b\b\b\b\b\b\b\b\b\b\b\b\b\b\b\b\b\b\b\b\b\b\b\b\b\b\b\b\b\b\b\b\b\b\b\b\b\b\b\b\b\b\b\b\b\b\b\b\b\b\b\b\b\b\b\b\b\b\b\b\b\b\b\b\b"
     ]
    },
    {
     "output_type": "stream",
     "name": "stdout",
     "text": [
      "\r"
     ]
    },
    {
     "output_type": "stream",
     "name": "stdout",
     "text": [
      "1875/1875 [==============================]"
     ]
    },
    {
     "output_type": "stream",
     "name": "stdout",
     "text": [
      " - 3s 2ms/step - loss: 0.2533 - accuracy: 0.9055 - val_loss: 0.3277 - val_accuracy: 0.8834\n"
     ]
    },
    {
     "output_type": "stream",
     "name": "stdout",
     "text": [
      "Epoch 8/10"
     ]
    },
    {
     "output_type": "stream",
     "name": "stdout",
     "text": [
      "\n"
     ]
    },
    {
     "output_type": "stream",
     "name": "stdout",
     "text": [
      "\r"
     ]
    },
    {
     "output_type": "stream",
     "name": "stdout",
     "text": [
      "   1/1875 [..............................]"
     ]
    },
    {
     "output_type": "stream",
     "name": "stdout",
     "text": [
      " - ETA: 0s - loss: 0.0631 - accuracy: 0.9688"
     ]
    },
    {
     "output_type": "stream",
     "name": "stdout",
     "text": [
      "\b\b\b\b\b\b\b\b\b\b\b\b\b\b\b\b\b\b\b\b\b\b\b\b\b\b\b\b\b\b\b\b\b\b\b\b\b\b\b\b\b\b\b\b\b\b\b\b\b\b\b\b\b\b\b\b\b\b\b\b\b\b\b\b\b\b\b\b\b\b\b\b\b\b\b\b\b\b\b\b\b\b\b\b\b\b"
     ]
    },
    {
     "output_type": "stream",
     "name": "stdout",
     "text": [
      "\r"
     ]
    },
    {
     "output_type": "stream",
     "name": "stdout",
     "text": [
      "  33/1875 [..............................]"
     ]
    },
    {
     "output_type": "stream",
     "name": "stdout",
     "text": [
      " - ETA: 2s - loss: 0.2230 - accuracy: 0.9167"
     ]
    },
    {
     "output_type": "stream",
     "name": "stdout",
     "text": [
      "\b\b\b\b\b\b\b\b\b\b\b\b\b\b\b\b\b\b\b\b\b\b\b\b\b\b\b\b\b\b\b\b\b\b\b\b\b\b\b\b\b\b\b\b\b\b\b\b\b\b\b\b\b\b\b\b\b\b\b\b\b\b\b\b\b\b\b\b\b\b\b\b\b\b\b\b\b\b\b\b\b\b\b\b\b\b"
     ]
    },
    {
     "output_type": "stream",
     "name": "stdout",
     "text": [
      "\r"
     ]
    },
    {
     "output_type": "stream",
     "name": "stdout",
     "text": [
      "  65/1875 [>.............................]"
     ]
    },
    {
     "output_type": "stream",
     "name": "stdout",
     "text": [
      " - ETA: 2s - loss: 0.2211 - accuracy: 0.9178"
     ]
    },
    {
     "output_type": "stream",
     "name": "stdout",
     "text": [
      "\b\b\b\b\b\b\b\b\b\b\b\b\b\b\b\b\b\b\b\b\b\b\b\b\b\b\b\b\b\b\b\b\b\b\b\b\b\b\b\b\b\b\b\b\b\b\b\b\b\b\b\b\b\b\b\b\b\b\b\b\b\b\b\b\b\b\b\b\b\b\b\b\b\b\b\b\b\b\b\b\b\b\b\b\b\b"
     ]
    },
    {
     "output_type": "stream",
     "name": "stdout",
     "text": [
      "\r"
     ]
    },
    {
     "output_type": "stream",
     "name": "stdout",
     "text": [
      "  97/1875 [>.............................]"
     ]
    },
    {
     "output_type": "stream",
     "name": "stdout",
     "text": [
      " - ETA: 2s - loss: 0.2342 - accuracy: 0.9098"
     ]
    },
    {
     "output_type": "stream",
     "name": "stdout",
     "text": [
      "\b\b\b\b\b\b\b\b\b\b\b\b\b\b\b\b\b\b\b\b\b\b\b\b\b\b\b\b\b\b\b\b\b\b\b\b\b\b\b\b\b\b\b\b\b\b\b\b\b\b\b\b\b\b\b\b\b\b\b\b\b\b\b\b\b\b\b\b\b\b\b\b\b\b\b\b\b\b\b\b\b\b\b\b\b\b"
     ]
    },
    {
     "output_type": "stream",
     "name": "stdout",
     "text": [
      "\r"
     ]
    },
    {
     "output_type": "stream",
     "name": "stdout",
     "text": [
      " 128/1875 [=>............................]"
     ]
    },
    {
     "output_type": "stream",
     "name": "stdout",
     "text": [
      " - ETA: 2s - loss: 0.2297 - accuracy: 0.9143"
     ]
    },
    {
     "output_type": "stream",
     "name": "stdout",
     "text": [
      "\b\b\b\b\b\b\b\b\b\b\b\b\b\b\b\b\b\b\b\b\b\b\b\b\b\b\b\b\b\b\b\b\b\b\b\b\b\b\b\b\b\b\b\b\b\b\b\b\b\b\b\b\b\b\b\b\b\b\b\b\b\b\b\b\b\b\b\b\b\b\b\b\b\b\b\b\b\b\b\b\b\b\b\b\b\b"
     ]
    },
    {
     "output_type": "stream",
     "name": "stdout",
     "text": [
      "\r"
     ]
    },
    {
     "output_type": "stream",
     "name": "stdout",
     "text": [
      " 163/1875 [=>............................]"
     ]
    },
    {
     "output_type": "stream",
     "name": "stdout",
     "text": [
      " - ETA: 2s - loss: 0.2288 - accuracy: 0.9153"
     ]
    },
    {
     "output_type": "stream",
     "name": "stdout",
     "text": [
      "\b\b\b\b\b\b\b\b\b\b\b\b\b\b\b\b\b\b\b\b\b\b\b\b\b\b\b\b\b\b\b\b\b\b\b\b\b\b\b\b\b\b\b\b\b\b\b\b\b\b\b\b\b\b\b\b\b\b\b\b\b\b\b\b\b\b\b\b\b\b\b\b\b\b\b\b\b\b\b\b\b\b\b\b\b\b"
     ]
    },
    {
     "output_type": "stream",
     "name": "stdout",
     "text": [
      "\r"
     ]
    },
    {
     "output_type": "stream",
     "name": "stdout",
     "text": [
      " 198/1875 [==>...........................]"
     ]
    },
    {
     "output_type": "stream",
     "name": "stdout",
     "text": [
      " - ETA: 2s - loss: 0.2294 - accuracy: 0.9148"
     ]
    },
    {
     "output_type": "stream",
     "name": "stdout",
     "text": [
      "\b\b\b\b\b\b\b\b\b\b\b\b\b\b\b\b\b\b\b\b\b\b\b\b\b\b\b\b\b\b\b\b\b\b\b\b\b\b\b\b\b\b\b\b\b\b\b\b\b\b\b\b\b\b\b\b\b\b\b\b\b\b\b\b\b\b\b\b\b\b\b\b\b\b\b\b\b\b\b\b\b\b\b\b\b\b"
     ]
    },
    {
     "output_type": "stream",
     "name": "stdout",
     "text": [
      "\r"
     ]
    },
    {
     "output_type": "stream",
     "name": "stdout",
     "text": [
      " 234/1875 [==>...........................]"
     ]
    },
    {
     "output_type": "stream",
     "name": "stdout",
     "text": [
      " - ETA: 2s - loss: 0.2313 - accuracy: 0.9132"
     ]
    },
    {
     "output_type": "stream",
     "name": "stdout",
     "text": [
      "\b\b\b\b\b\b\b\b\b\b\b\b\b\b\b\b\b\b\b\b\b\b\b\b\b\b\b\b\b\b\b\b\b\b\b\b\b\b\b\b\b\b\b\b\b\b\b\b\b\b\b\b\b\b\b\b\b\b\b\b\b\b\b\b\b\b\b\b\b\b\b\b\b\b\b\b\b\b\b\b\b\b\b\b\b\b"
     ]
    },
    {
     "output_type": "stream",
     "name": "stdout",
     "text": [
      "\r"
     ]
    },
    {
     "output_type": "stream",
     "name": "stdout",
     "text": [
      " 270/1875 [===>..........................]"
     ]
    },
    {
     "output_type": "stream",
     "name": "stdout",
     "text": [
      " - ETA: 2s - loss: 0.2317 - accuracy: 0.9137"
     ]
    },
    {
     "output_type": "stream",
     "name": "stdout",
     "text": [
      "\b\b\b\b\b\b\b\b\b\b\b\b\b\b\b\b\b\b\b\b\b\b\b\b\b\b\b\b\b\b\b\b\b\b\b\b\b\b\b\b\b\b\b\b\b\b\b\b\b\b\b\b\b\b\b\b\b\b\b\b\b\b\b\b\b\b\b\b\b\b\b\b\b\b\b\b\b\b\b\b\b\b\b\b\b\b"
     ]
    },
    {
     "output_type": "stream",
     "name": "stdout",
     "text": [
      "\r"
     ]
    },
    {
     "output_type": "stream",
     "name": "stdout",
     "text": [
      " 306/1875 [===>..........................]"
     ]
    },
    {
     "output_type": "stream",
     "name": "stdout",
     "text": [
      " - ETA: 2s - loss: 0.2280 - accuracy: 0.9149"
     ]
    },
    {
     "output_type": "stream",
     "name": "stdout",
     "text": [
      "\b\b\b\b\b\b\b\b\b\b\b\b\b\b\b\b\b\b\b\b\b\b\b\b\b\b\b\b\b\b\b\b\b\b\b\b\b\b\b\b\b\b\b\b\b\b\b\b\b\b\b\b\b\b\b\b\b\b\b\b\b\b\b\b\b\b\b\b\b\b\b\b\b\b\b\b\b\b\b\b\b\b\b\b\b\b"
     ]
    },
    {
     "output_type": "stream",
     "name": "stdout",
     "text": [
      "\r"
     ]
    },
    {
     "output_type": "stream",
     "name": "stdout",
     "text": [
      " 342/1875 [====>.........................]"
     ]
    },
    {
     "output_type": "stream",
     "name": "stdout",
     "text": [
      " - ETA: 2s - loss: 0.2332 - accuracy: 0.9142"
     ]
    },
    {
     "output_type": "stream",
     "name": "stdout",
     "text": [
      "\b\b\b\b\b\b\b\b\b\b\b\b\b\b\b\b\b\b\b\b\b\b\b\b\b\b\b\b\b\b\b\b\b\b\b\b\b\b\b\b\b\b\b\b\b\b\b\b\b\b\b\b\b\b\b\b\b\b\b\b\b\b\b\b\b\b\b\b\b\b\b\b\b\b\b\b\b\b\b\b\b\b\b\b\b\b"
     ]
    },
    {
     "output_type": "stream",
     "name": "stdout",
     "text": [
      "\r"
     ]
    },
    {
     "output_type": "stream",
     "name": "stdout",
     "text": [
      " 377/1875 [=====>........................]"
     ]
    },
    {
     "output_type": "stream",
     "name": "stdout",
     "text": [
      " - ETA: 2s - loss: 0.2328 - accuracy: 0.9137"
     ]
    },
    {
     "output_type": "stream",
     "name": "stdout",
     "text": [
      "\b\b\b\b\b\b\b\b\b\b\b\b\b\b\b\b\b\b\b\b\b\b\b\b\b\b\b\b\b\b\b\b\b\b\b\b\b\b\b\b\b\b\b\b\b\b\b\b\b\b\b\b\b\b\b\b\b\b\b\b\b\b\b\b\b\b\b\b\b\b\b\b\b\b\b\b\b\b\b\b\b\b\b\b\b\b"
     ]
    },
    {
     "output_type": "stream",
     "name": "stdout",
     "text": [
      "\r"
     ]
    },
    {
     "output_type": "stream",
     "name": "stdout",
     "text": [
      " 413/1875 [=====>........................]"
     ]
    },
    {
     "output_type": "stream",
     "name": "stdout",
     "text": [
      " - ETA: 2s - loss: 0.2381 - accuracy: 0.9112"
     ]
    },
    {
     "output_type": "stream",
     "name": "stdout",
     "text": [
      "\b\b\b\b\b\b\b\b\b\b\b\b\b\b\b\b\b\b\b\b\b\b\b\b\b\b\b\b\b\b\b\b\b\b\b\b\b\b\b\b\b\b\b\b\b\b\b\b\b\b\b\b\b\b\b\b\b\b\b\b\b\b\b\b\b\b\b\b\b\b\b\b\b\b\b\b\b\b\b\b\b\b\b\b\b\b"
     ]
    },
    {
     "output_type": "stream",
     "name": "stdout",
     "text": [
      "\r"
     ]
    },
    {
     "output_type": "stream",
     "name": "stdout",
     "text": [
      " 449/1875 [======>.......................]"
     ]
    },
    {
     "output_type": "stream",
     "name": "stdout",
     "text": [
      " - ETA: 2s - loss: 0.2389 - accuracy: 0.9113"
     ]
    },
    {
     "output_type": "stream",
     "name": "stdout",
     "text": [
      "\b\b\b\b\b\b\b\b\b\b\b\b\b\b\b\b\b\b\b\b\b\b\b\b\b\b\b\b\b\b\b\b\b\b\b\b\b\b\b\b\b\b\b\b\b\b\b\b\b\b\b\b\b\b\b\b\b\b\b\b\b\b\b\b\b\b\b\b\b\b\b\b\b\b\b\b\b\b\b\b\b\b\b\b\b\b"
     ]
    },
    {
     "output_type": "stream",
     "name": "stdout",
     "text": [
      "\r"
     ]
    },
    {
     "output_type": "stream",
     "name": "stdout",
     "text": [
      " 485/1875 [======>.......................]"
     ]
    },
    {
     "output_type": "stream",
     "name": "stdout",
     "text": [
      " - ETA: 2s - loss: 0.2386 - accuracy: 0.9114"
     ]
    },
    {
     "output_type": "stream",
     "name": "stdout",
     "text": [
      "\b\b\b\b\b\b\b\b\b\b\b\b\b\b\b\b\b\b\b\b\b\b\b\b\b\b\b\b\b\b\b\b\b\b\b\b\b\b\b\b\b\b\b\b\b\b\b\b\b\b\b\b\b\b\b\b\b\b\b\b\b\b\b\b\b\b\b\b\b\b\b\b\b\b\b\b\b\b\b\b\b\b\b\b\b\b"
     ]
    },
    {
     "output_type": "stream",
     "name": "stdout",
     "text": [
      "\r"
     ]
    },
    {
     "output_type": "stream",
     "name": "stdout",
     "text": [
      " 520/1875 [=======>......................]"
     ]
    },
    {
     "output_type": "stream",
     "name": "stdout",
     "text": [
      " - ETA: 1s - loss: 0.2405 - accuracy: 0.9102"
     ]
    },
    {
     "output_type": "stream",
     "name": "stdout",
     "text": [
      "\b\b\b\b\b\b\b\b\b\b\b\b\b\b\b\b\b\b\b\b\b\b\b\b\b\b\b\b\b\b\b\b\b\b\b\b\b\b\b\b\b\b\b\b\b\b\b\b\b\b\b\b\b\b\b\b\b\b\b\b\b\b\b\b\b\b\b\b\b\b\b\b\b\b\b\b\b\b\b\b\b\b\b\b\b\b"
     ]
    },
    {
     "output_type": "stream",
     "name": "stdout",
     "text": [
      "\r"
     ]
    },
    {
     "output_type": "stream",
     "name": "stdout",
     "text": [
      " 556/1875 [=======>......................]"
     ]
    },
    {
     "output_type": "stream",
     "name": "stdout",
     "text": [
      " - ETA: 1s - loss: 0.2390 - accuracy: 0.9108"
     ]
    },
    {
     "output_type": "stream",
     "name": "stdout",
     "text": [
      "\b\b\b\b\b\b\b\b\b\b\b\b\b\b\b\b\b\b\b\b\b\b\b\b\b\b\b\b\b\b\b\b\b\b\b\b\b\b\b\b\b\b\b\b\b\b\b\b\b\b\b\b\b\b\b\b\b\b\b\b\b\b\b\b\b\b\b\b\b\b\b\b\b\b\b\b\b\b\b\b\b\b\b\b\b\b"
     ]
    },
    {
     "output_type": "stream",
     "name": "stdout",
     "text": [
      "\r"
     ]
    },
    {
     "output_type": "stream",
     "name": "stdout",
     "text": [
      " 592/1875 [========>.....................]"
     ]
    },
    {
     "output_type": "stream",
     "name": "stdout",
     "text": [
      " - ETA: 1s - loss: 0.2395 - accuracy: 0.9104"
     ]
    },
    {
     "output_type": "stream",
     "name": "stdout",
     "text": [
      "\b\b\b\b\b\b\b\b\b\b\b\b\b\b\b\b\b\b\b\b\b\b\b\b\b\b\b\b\b\b\b\b\b\b\b\b\b\b\b\b\b\b\b\b\b\b\b\b\b\b\b\b\b\b\b\b\b\b\b\b\b\b\b\b\b\b\b\b\b\b\b\b\b\b\b\b\b\b\b\b\b\b\b\b\b\b"
     ]
    },
    {
     "output_type": "stream",
     "name": "stdout",
     "text": [
      "\r"
     ]
    },
    {
     "output_type": "stream",
     "name": "stdout",
     "text": [
      " 628/1875 [=========>....................]"
     ]
    },
    {
     "output_type": "stream",
     "name": "stdout",
     "text": [
      " - ETA: 1s - loss: 0.2371 - accuracy: 0.9114"
     ]
    },
    {
     "output_type": "stream",
     "name": "stdout",
     "text": [
      "\b\b\b\b\b\b\b\b\b\b\b\b\b\b\b\b\b\b\b\b\b\b\b\b\b\b\b\b\b\b\b\b\b\b\b\b\b\b\b\b\b\b\b\b\b\b\b\b\b\b\b\b\b\b\b\b\b\b\b\b\b\b\b\b\b\b\b\b\b\b\b\b\b\b\b\b\b\b\b\b\b\b\b\b\b\b"
     ]
    },
    {
     "output_type": "stream",
     "name": "stdout",
     "text": [
      "\r"
     ]
    },
    {
     "output_type": "stream",
     "name": "stdout",
     "text": [
      " 664/1875 [=========>....................]"
     ]
    },
    {
     "output_type": "stream",
     "name": "stdout",
     "text": [
      " - ETA: 1s - loss: 0.2358 - accuracy: 0.9117"
     ]
    },
    {
     "output_type": "stream",
     "name": "stdout",
     "text": [
      "\b\b\b\b\b\b\b\b\b\b\b\b\b\b\b\b\b\b\b\b\b\b\b\b\b\b\b\b\b\b\b\b\b\b\b\b\b\b\b\b\b\b\b\b\b\b\b\b\b\b\b\b\b\b\b\b\b\b\b\b\b\b\b\b\b\b\b\b\b\b\b\b\b\b\b\b\b\b\b\b\b\b\b\b\b\b"
     ]
    },
    {
     "output_type": "stream",
     "name": "stdout",
     "text": [
      "\r"
     ]
    },
    {
     "output_type": "stream",
     "name": "stdout",
     "text": [
      " 701/1875 [==========>...................]"
     ]
    },
    {
     "output_type": "stream",
     "name": "stdout",
     "text": [
      " - ETA: 1s - loss: 0.2375 - accuracy: 0.9115"
     ]
    },
    {
     "output_type": "stream",
     "name": "stdout",
     "text": [
      "\b\b\b\b\b\b\b\b\b\b\b\b\b\b\b\b\b\b\b\b\b\b\b\b\b\b\b\b\b\b\b\b\b\b\b\b\b\b\b\b\b\b\b\b\b\b\b\b\b\b\b\b\b\b\b\b\b\b\b\b\b\b\b\b\b\b\b\b\b\b\b\b\b\b\b\b\b\b\b\b\b\b\b\b\b\b"
     ]
    },
    {
     "output_type": "stream",
     "name": "stdout",
     "text": [
      "\r"
     ]
    },
    {
     "output_type": "stream",
     "name": "stdout",
     "text": [
      " 736/1875 [==========>...................]"
     ]
    },
    {
     "output_type": "stream",
     "name": "stdout",
     "text": [
      " - ETA: 1s - loss: 0.2370 - accuracy: 0.9118"
     ]
    },
    {
     "output_type": "stream",
     "name": "stdout",
     "text": [
      "\b\b\b\b\b\b\b\b\b\b\b\b\b\b\b\b\b\b\b\b\b\b\b\b\b\b\b\b\b\b\b\b\b\b\b\b\b\b\b\b\b\b\b\b\b\b\b\b\b\b\b\b\b\b\b\b\b\b\b\b\b\b\b\b\b\b\b\b\b\b\b\b\b\b\b\b\b\b\b\b\b\b\b\b\b\b"
     ]
    },
    {
     "output_type": "stream",
     "name": "stdout",
     "text": [
      "\r"
     ]
    },
    {
     "output_type": "stream",
     "name": "stdout",
     "text": [
      " 773/1875 [===========>..................]"
     ]
    },
    {
     "output_type": "stream",
     "name": "stdout",
     "text": [
      " - ETA: 1s - loss: 0.2367 - accuracy: 0.9122"
     ]
    },
    {
     "output_type": "stream",
     "name": "stdout",
     "text": [
      "\b\b\b\b\b\b\b\b\b\b\b\b\b\b\b\b\b\b\b\b\b\b\b\b\b\b\b\b\b\b\b\b\b\b\b\b\b\b\b\b\b\b\b\b\b\b\b\b\b\b\b\b\b\b\b\b\b\b\b\b\b\b\b\b\b\b\b\b\b\b\b\b\b\b\b\b\b\b\b\b\b\b\b\b\b\b"
     ]
    },
    {
     "output_type": "stream",
     "name": "stdout",
     "text": [
      "\r"
     ]
    },
    {
     "output_type": "stream",
     "name": "stdout",
     "text": [
      " 810/1875 [===========>..................]"
     ]
    },
    {
     "output_type": "stream",
     "name": "stdout",
     "text": [
      " - ETA: 1s - loss: 0.2379 - accuracy: 0.9118"
     ]
    },
    {
     "output_type": "stream",
     "name": "stdout",
     "text": [
      "\b\b\b\b\b\b\b\b\b\b\b\b\b\b\b\b\b\b\b\b\b\b\b\b\b\b\b\b\b\b\b\b\b\b\b\b\b\b\b\b\b\b\b\b\b\b\b\b\b\b\b\b\b\b\b\b\b\b\b\b\b\b\b\b\b\b\b\b\b\b\b\b\b\b\b\b\b\b\b\b\b\b\b\b\b\b"
     ]
    },
    {
     "output_type": "stream",
     "name": "stdout",
     "text": [
      "\r"
     ]
    },
    {
     "output_type": "stream",
     "name": "stdout",
     "text": [
      " 846/1875 [============>.................]"
     ]
    },
    {
     "output_type": "stream",
     "name": "stdout",
     "text": [
      " - ETA: 1s - loss: 0.2374 - accuracy: 0.9119"
     ]
    },
    {
     "output_type": "stream",
     "name": "stdout",
     "text": [
      "\b\b\b\b\b\b\b\b\b\b\b\b\b\b\b\b\b\b\b\b\b\b\b\b\b\b\b\b\b\b\b\b\b\b\b\b\b\b\b\b\b\b\b\b\b\b\b\b\b\b\b\b\b\b\b\b\b\b\b\b\b\b\b\b\b\b\b\b\b\b\b\b\b\b\b\b\b\b\b\b\b\b\b\b\b\b"
     ]
    },
    {
     "output_type": "stream",
     "name": "stdout",
     "text": [
      "\r"
     ]
    },
    {
     "output_type": "stream",
     "name": "stdout",
     "text": [
      " 881/1875 [=============>................]"
     ]
    },
    {
     "output_type": "stream",
     "name": "stdout",
     "text": [
      " - ETA: 1s - loss: 0.2394 - accuracy: 0.9113"
     ]
    },
    {
     "output_type": "stream",
     "name": "stdout",
     "text": [
      "\b\b\b\b\b\b\b\b\b\b\b\b\b\b\b\b\b\b\b\b\b\b\b\b\b\b\b\b\b\b\b\b\b\b\b\b\b\b\b\b\b\b\b\b\b\b\b\b\b\b\b\b\b\b\b\b\b\b\b\b\b\b\b\b\b\b\b\b\b\b\b\b\b\b\b\b\b\b\b\b\b\b\b\b\b\b"
     ]
    },
    {
     "output_type": "stream",
     "name": "stdout",
     "text": [
      "\r"
     ]
    },
    {
     "output_type": "stream",
     "name": "stdout",
     "text": [
      " 917/1875 [=============>................]"
     ]
    },
    {
     "output_type": "stream",
     "name": "stdout",
     "text": [
      " - ETA: 1s - loss: 0.2394 - accuracy: 0.9114"
     ]
    },
    {
     "output_type": "stream",
     "name": "stdout",
     "text": [
      "\b\b\b\b\b\b\b\b\b\b\b\b\b\b\b\b\b\b\b\b\b\b\b\b\b\b\b\b\b\b\b\b\b\b\b\b\b\b\b\b\b\b\b\b\b\b\b\b\b\b\b\b\b\b\b\b\b\b\b\b\b\b\b\b\b\b\b\b\b\b\b\b\b\b\b\b\b\b\b\b\b\b\b\b\b\b"
     ]
    },
    {
     "output_type": "stream",
     "name": "stdout",
     "text": [
      "\r"
     ]
    },
    {
     "output_type": "stream",
     "name": "stdout",
     "text": [
      " 952/1875 [==============>...............]"
     ]
    },
    {
     "output_type": "stream",
     "name": "stdout",
     "text": [
      " - ETA: 1s - loss: 0.2397 - accuracy: 0.9111"
     ]
    },
    {
     "output_type": "stream",
     "name": "stdout",
     "text": [
      "\b\b\b\b\b\b\b\b\b\b\b\b\b\b\b\b\b\b\b\b\b\b\b\b\b\b\b\b\b\b\b\b\b\b\b\b\b\b\b\b\b\b\b\b\b\b\b\b\b\b\b\b\b\b\b\b\b\b\b\b\b\b\b\b\b\b\b\b\b\b\b\b\b\b\b\b\b\b\b\b\b\b\b\b\b\b"
     ]
    },
    {
     "output_type": "stream",
     "name": "stdout",
     "text": [
      "\r"
     ]
    },
    {
     "output_type": "stream",
     "name": "stdout",
     "text": [
      " 988/1875 [==============>...............]"
     ]
    },
    {
     "output_type": "stream",
     "name": "stdout",
     "text": [
      " - ETA: 1s - loss: 0.2413 - accuracy: 0.9104"
     ]
    },
    {
     "output_type": "stream",
     "name": "stdout",
     "text": [
      "\b\b\b\b\b\b\b\b\b\b\b\b\b\b\b\b\b\b\b\b\b\b\b\b\b\b\b\b\b\b\b\b\b\b\b\b\b\b\b\b\b\b\b\b\b\b\b\b\b\b\b\b\b\b\b\b\b\b\b\b\b\b\b\b\b\b\b\b\b\b\b\b\b\b\b\b\b\b\b\b\b\b\b\b\b\b"
     ]
    },
    {
     "output_type": "stream",
     "name": "stdout",
     "text": [
      "\r"
     ]
    },
    {
     "output_type": "stream",
     "name": "stdout",
     "text": [
      "1024/1875 [===============>..............]"
     ]
    },
    {
     "output_type": "stream",
     "name": "stdout",
     "text": [
      " - ETA: 1s - loss: 0.2407 - accuracy: 0.9106"
     ]
    },
    {
     "output_type": "stream",
     "name": "stdout",
     "text": [
      "\b\b\b\b\b\b\b\b\b\b\b\b\b\b\b\b\b\b\b\b\b\b\b\b\b\b\b\b\b\b\b\b\b\b\b\b\b\b\b\b\b\b\b\b\b\b\b\b\b\b\b\b\b\b\b\b\b\b\b\b\b\b\b\b\b\b\b\b\b\b\b\b\b\b\b\b\b\b\b\b\b\b\b\b\b\b"
     ]
    },
    {
     "output_type": "stream",
     "name": "stdout",
     "text": [
      "\r"
     ]
    },
    {
     "output_type": "stream",
     "name": "stdout",
     "text": [
      "1059/1875 [===============>..............]"
     ]
    },
    {
     "output_type": "stream",
     "name": "stdout",
     "text": [
      " - ETA: 1s - loss: 0.2406 - accuracy: 0.9105"
     ]
    },
    {
     "output_type": "stream",
     "name": "stdout",
     "text": [
      "\b\b\b\b\b\b\b\b\b\b\b\b\b\b\b\b\b\b\b\b\b\b\b\b\b\b\b\b\b\b\b\b\b\b\b\b\b\b\b\b\b\b\b\b\b\b\b\b\b\b\b\b\b\b\b\b\b\b\b\b\b\b\b\b\b\b\b\b\b\b\b\b\b\b\b\b\b\b\b\b\b\b\b\b\b\b"
     ]
    },
    {
     "output_type": "stream",
     "name": "stdout",
     "text": [
      "\r"
     ]
    },
    {
     "output_type": "stream",
     "name": "stdout",
     "text": [
      "1095/1875 [================>.............]"
     ]
    },
    {
     "output_type": "stream",
     "name": "stdout",
     "text": [
      " - ETA: 1s - loss: 0.2419 - accuracy: 0.9099"
     ]
    },
    {
     "output_type": "stream",
     "name": "stdout",
     "text": [
      "\b\b\b\b\b\b\b\b\b\b\b\b\b\b\b\b\b\b\b\b\b\b\b\b\b\b\b\b\b\b\b\b\b\b\b\b\b\b\b\b\b\b\b\b\b\b\b\b\b\b\b\b\b\b\b\b\b\b\b\b\b\b\b\b\b\b\b\b\b\b\b\b\b\b\b\b\b\b\b\b\b\b\b\b\b\b"
     ]
    },
    {
     "output_type": "stream",
     "name": "stdout",
     "text": [
      "\r"
     ]
    },
    {
     "output_type": "stream",
     "name": "stdout",
     "text": [
      "1131/1875 [=================>............]"
     ]
    },
    {
     "output_type": "stream",
     "name": "stdout",
     "text": [
      " - ETA: 1s - loss: 0.2413 - accuracy: 0.9101"
     ]
    },
    {
     "output_type": "stream",
     "name": "stdout",
     "text": [
      "\b\b\b\b\b\b\b\b\b\b\b\b\b\b\b\b\b\b\b\b\b\b\b\b\b\b\b\b\b\b\b\b\b\b\b\b\b\b\b\b\b\b\b\b\b\b\b\b\b\b\b\b\b\b\b\b\b\b\b\b\b\b\b\b\b\b\b\b\b\b\b\b\b\b\b\b\b\b\b\b\b\b\b\b\b\b"
     ]
    },
    {
     "output_type": "stream",
     "name": "stdout",
     "text": [
      "\r"
     ]
    },
    {
     "output_type": "stream",
     "name": "stdout",
     "text": [
      "1167/1875 [=================>............]"
     ]
    },
    {
     "output_type": "stream",
     "name": "stdout",
     "text": [
      " - ETA: 1s - loss: 0.2417 - accuracy: 0.9099"
     ]
    },
    {
     "output_type": "stream",
     "name": "stdout",
     "text": [
      "\b\b\b\b\b\b\b\b\b\b\b\b\b\b\b\b\b\b\b\b\b\b\b\b\b\b\b\b\b\b\b\b\b\b\b\b\b\b\b\b\b\b\b\b\b\b\b\b\b\b\b\b\b\b\b\b\b\b\b\b\b\b\b\b\b\b\b\b\b\b\b\b\b\b\b\b\b\b\b\b\b\b\b\b\b\b"
     ]
    },
    {
     "output_type": "stream",
     "name": "stdout",
     "text": [
      "\r"
     ]
    },
    {
     "output_type": "stream",
     "name": "stdout",
     "text": [
      "1203/1875 [==================>...........]"
     ]
    },
    {
     "output_type": "stream",
     "name": "stdout",
     "text": [
      " - ETA: 0s - loss: 0.2420 - accuracy: 0.9096"
     ]
    },
    {
     "output_type": "stream",
     "name": "stdout",
     "text": [
      "\b\b\b\b\b\b\b\b\b\b\b\b\b\b\b\b\b\b\b\b\b\b\b\b\b\b\b\b\b\b\b\b\b\b\b\b\b\b\b\b\b\b\b\b\b\b\b\b\b\b\b\b\b\b\b\b\b\b\b\b\b\b\b\b\b\b\b\b\b\b\b\b\b\b\b\b\b\b\b\b\b\b\b\b\b\b"
     ]
    },
    {
     "output_type": "stream",
     "name": "stdout",
     "text": [
      "\r"
     ]
    },
    {
     "output_type": "stream",
     "name": "stdout",
     "text": [
      "1239/1875 [==================>...........]"
     ]
    },
    {
     "output_type": "stream",
     "name": "stdout",
     "text": [
      " - ETA: 0s - loss: 0.2427 - accuracy: 0.9095"
     ]
    },
    {
     "output_type": "stream",
     "name": "stdout",
     "text": [
      "\b\b\b\b\b\b\b\b\b\b\b\b\b\b\b\b\b\b\b\b\b\b\b\b\b\b\b\b\b\b\b\b\b\b\b\b\b\b\b\b\b\b\b\b\b\b\b\b\b\b\b\b\b\b\b\b\b\b\b\b\b\b\b\b\b\b\b\b\b\b\b\b\b\b\b\b\b\b\b\b\b\b\b\b\b\b"
     ]
    },
    {
     "output_type": "stream",
     "name": "stdout",
     "text": [
      "\r"
     ]
    },
    {
     "output_type": "stream",
     "name": "stdout",
     "text": [
      "1275/1875 [===================>..........]"
     ]
    },
    {
     "output_type": "stream",
     "name": "stdout",
     "text": [
      " - ETA: 0s - loss: 0.2423 - accuracy: 0.9096"
     ]
    },
    {
     "output_type": "stream",
     "name": "stdout",
     "text": [
      "\b\b\b\b\b\b\b\b\b\b\b\b\b\b\b\b\b\b\b\b\b\b\b\b\b\b\b\b\b\b\b\b\b\b\b\b\b\b\b\b\b\b\b\b\b\b\b\b\b\b\b\b\b\b\b\b\b\b\b\b\b\b\b\b\b\b\b\b\b\b\b\b\b\b\b\b\b\b\b\b\b\b\b\b\b\b"
     ]
    },
    {
     "output_type": "stream",
     "name": "stdout",
     "text": [
      "\r"
     ]
    },
    {
     "output_type": "stream",
     "name": "stdout",
     "text": [
      "1311/1875 [===================>..........]"
     ]
    },
    {
     "output_type": "stream",
     "name": "stdout",
     "text": [
      " - ETA: 0s - loss: 0.2425 - accuracy: 0.9098"
     ]
    },
    {
     "output_type": "stream",
     "name": "stdout",
     "text": [
      "\b\b\b\b\b\b\b\b\b\b\b\b\b\b\b\b\b\b\b\b\b\b\b\b\b\b\b\b\b\b\b\b\b\b\b\b\b\b\b\b\b\b\b\b\b\b\b\b\b\b\b\b\b\b\b\b\b\b\b\b\b\b\b\b\b\b\b\b\b\b\b\b\b\b\b\b\b\b\b\b\b\b\b\b\b\b"
     ]
    },
    {
     "output_type": "stream",
     "name": "stdout",
     "text": [
      "\r"
     ]
    },
    {
     "output_type": "stream",
     "name": "stdout",
     "text": [
      "1347/1875 [====================>.........]"
     ]
    },
    {
     "output_type": "stream",
     "name": "stdout",
     "text": [
      " - ETA: 0s - loss: 0.2415 - accuracy: 0.9101"
     ]
    },
    {
     "output_type": "stream",
     "name": "stdout",
     "text": [
      "\b\b\b\b\b\b\b\b\b\b\b\b\b\b\b\b\b\b\b\b\b\b\b\b\b\b\b\b\b\b\b\b\b\b\b\b\b\b\b\b\b\b\b\b\b\b\b\b\b\b\b\b\b\b\b\b\b\b\b\b\b\b\b\b\b\b\b\b\b\b\b\b\b\b\b\b\b\b\b\b\b\b\b\b\b\b"
     ]
    },
    {
     "output_type": "stream",
     "name": "stdout",
     "text": [
      "\r"
     ]
    },
    {
     "output_type": "stream",
     "name": "stdout",
     "text": [
      "1383/1875 [=====================>........]"
     ]
    },
    {
     "output_type": "stream",
     "name": "stdout",
     "text": [
      " - ETA: 0s - loss: 0.2415 - accuracy: 0.9102"
     ]
    },
    {
     "output_type": "stream",
     "name": "stdout",
     "text": [
      "\b\b\b\b\b\b\b\b\b\b\b\b\b\b\b\b\b\b\b\b\b\b\b\b\b\b\b\b\b\b\b\b\b\b\b\b\b\b\b\b\b\b\b\b\b\b\b\b\b\b\b\b\b\b\b\b\b\b\b\b\b\b\b\b\b\b\b\b\b\b\b\b\b\b\b\b\b\b\b\b\b\b\b\b\b\b"
     ]
    },
    {
     "output_type": "stream",
     "name": "stdout",
     "text": [
      "\r"
     ]
    },
    {
     "output_type": "stream",
     "name": "stdout",
     "text": [
      "1420/1875 [=====================>........]"
     ]
    },
    {
     "output_type": "stream",
     "name": "stdout",
     "text": [
      " - ETA: 0s - loss: 0.2414 - accuracy: 0.9103"
     ]
    },
    {
     "output_type": "stream",
     "name": "stdout",
     "text": [
      "\b\b\b\b\b\b\b\b\b\b\b\b\b\b\b\b\b\b\b\b\b\b\b\b\b\b\b\b\b\b\b\b\b\b\b\b\b\b\b\b\b\b\b\b\b\b\b\b\b\b\b\b\b\b\b\b\b\b\b\b\b\b\b\b\b\b\b\b\b\b\b\b\b\b\b\b\b\b\b\b\b\b\b\b\b\b"
     ]
    },
    {
     "output_type": "stream",
     "name": "stdout",
     "text": [
      "\r"
     ]
    },
    {
     "output_type": "stream",
     "name": "stdout",
     "text": [
      "1456/1875 [======================>.......]"
     ]
    },
    {
     "output_type": "stream",
     "name": "stdout",
     "text": [
      " - ETA: 0s - loss: 0.2414 - accuracy: 0.9101"
     ]
    },
    {
     "output_type": "stream",
     "name": "stdout",
     "text": [
      "\b\b\b\b\b\b\b\b\b\b\b\b\b\b\b\b\b\b\b\b\b\b\b\b\b\b\b\b\b\b\b\b\b\b\b\b\b\b\b\b\b\b\b\b\b\b\b\b\b\b\b\b\b\b\b\b\b\b\b\b\b\b\b\b\b\b\b\b\b\b\b\b\b\b\b\b\b\b\b\b\b\b\b\b\b\b"
     ]
    },
    {
     "output_type": "stream",
     "name": "stdout",
     "text": [
      "\r"
     ]
    },
    {
     "output_type": "stream",
     "name": "stdout",
     "text": [
      "1493/1875 [======================>.......]"
     ]
    },
    {
     "output_type": "stream",
     "name": "stdout",
     "text": [
      " - ETA: 0s - loss: 0.2417 - accuracy: 0.9097"
     ]
    },
    {
     "output_type": "stream",
     "name": "stdout",
     "text": [
      "\b\b\b\b\b\b\b\b\b\b\b\b\b\b\b\b\b\b\b\b\b\b\b\b\b\b\b\b\b\b\b\b\b\b\b\b\b\b\b\b\b\b\b\b\b\b\b\b\b\b\b\b\b\b\b\b\b\b\b\b\b\b\b\b\b\b\b\b\b\b\b\b\b\b\b\b\b\b\b\b\b\b\b\b\b\b"
     ]
    },
    {
     "output_type": "stream",
     "name": "stdout",
     "text": [
      "\r"
     ]
    },
    {
     "output_type": "stream",
     "name": "stdout",
     "text": [
      "1529/1875 [=======================>......]"
     ]
    },
    {
     "output_type": "stream",
     "name": "stdout",
     "text": [
      " - ETA: 0s - loss: 0.2421 - accuracy: 0.9097"
     ]
    },
    {
     "output_type": "stream",
     "name": "stdout",
     "text": [
      "\b\b\b\b\b\b\b\b\b\b\b\b\b\b\b\b\b\b\b\b\b\b\b\b\b\b\b\b\b\b\b\b\b\b\b\b\b\b\b\b\b\b\b\b\b\b\b\b\b\b\b\b\b\b\b\b\b\b\b\b\b\b\b\b\b\b\b\b\b\b\b\b\b\b\b\b\b\b\b\b\b\b\b\b\b\b"
     ]
    },
    {
     "output_type": "stream",
     "name": "stdout",
     "text": [
      "\r"
     ]
    },
    {
     "output_type": "stream",
     "name": "stdout",
     "text": [
      "1565/1875 [========================>.....]"
     ]
    },
    {
     "output_type": "stream",
     "name": "stdout",
     "text": [
      " - ETA: 0s - loss: 0.2420 - accuracy: 0.9098"
     ]
    },
    {
     "output_type": "stream",
     "name": "stdout",
     "text": [
      "\b\b\b\b\b\b\b\b\b\b\b\b\b\b\b\b\b\b\b\b\b\b\b\b\b\b\b\b\b\b\b\b\b\b\b\b\b\b\b\b\b\b\b\b\b\b\b\b\b\b\b\b\b\b\b\b\b\b\b\b\b\b\b\b\b\b\b\b\b\b\b\b\b\b\b\b\b\b\b\b\b\b\b\b\b\b"
     ]
    },
    {
     "output_type": "stream",
     "name": "stdout",
     "text": [
      "\r"
     ]
    },
    {
     "output_type": "stream",
     "name": "stdout",
     "text": [
      "1601/1875 [========================>.....]"
     ]
    },
    {
     "output_type": "stream",
     "name": "stdout",
     "text": [
      " - ETA: 0s - loss: 0.2427 - accuracy: 0.9098"
     ]
    },
    {
     "output_type": "stream",
     "name": "stdout",
     "text": [
      "\b\b\b\b\b\b\b\b\b\b\b\b\b\b\b\b\b\b\b\b\b\b\b\b\b\b\b\b\b\b\b\b\b\b\b\b\b\b\b\b\b\b\b\b\b\b\b\b\b\b\b\b\b\b\b\b\b\b\b\b\b\b\b\b\b\b\b\b\b\b\b\b\b\b\b\b\b\b\b\b\b\b\b\b\b\b"
     ]
    },
    {
     "output_type": "stream",
     "name": "stdout",
     "text": [
      "\r"
     ]
    },
    {
     "output_type": "stream",
     "name": "stdout",
     "text": [
      "1637/1875 [=========================>....]"
     ]
    },
    {
     "output_type": "stream",
     "name": "stdout",
     "text": [
      " - ETA: 0s - loss: 0.2436 - accuracy: 0.9095"
     ]
    },
    {
     "output_type": "stream",
     "name": "stdout",
     "text": [
      "\b\b\b\b\b\b\b\b\b\b\b\b\b\b\b\b\b\b\b\b\b\b\b\b\b\b\b\b\b\b\b\b\b\b\b\b\b\b\b\b\b\b\b\b\b\b\b\b\b\b\b\b\b\b\b\b\b\b\b\b\b\b\b\b\b\b\b\b\b\b\b\b\b\b\b\b\b\b\b\b\b\b\b\b\b\b"
     ]
    },
    {
     "output_type": "stream",
     "name": "stdout",
     "text": [
      "\r"
     ]
    },
    {
     "output_type": "stream",
     "name": "stdout",
     "text": [
      "1673/1875 [=========================>....]"
     ]
    },
    {
     "output_type": "stream",
     "name": "stdout",
     "text": [
      " - ETA: 0s - loss: 0.2432 - accuracy: 0.9094"
     ]
    },
    {
     "output_type": "stream",
     "name": "stdout",
     "text": [
      "\b\b\b\b\b\b\b\b\b\b\b\b\b\b\b\b\b\b\b\b\b\b\b\b\b\b\b\b\b\b\b\b\b\b\b\b\b\b\b\b\b\b\b\b\b\b\b\b\b\b\b\b\b\b\b\b\b\b\b\b\b\b\b\b\b\b\b\b\b\b\b\b\b\b\b\b\b\b\b\b\b\b\b\b\b\b"
     ]
    },
    {
     "output_type": "stream",
     "name": "stdout",
     "text": [
      "\r"
     ]
    },
    {
     "output_type": "stream",
     "name": "stdout",
     "text": [
      "1708/1875 [==========================>...]"
     ]
    },
    {
     "output_type": "stream",
     "name": "stdout",
     "text": [
      " - ETA: 0s - loss: 0.2438 - accuracy: 0.9092"
     ]
    },
    {
     "output_type": "stream",
     "name": "stdout",
     "text": [
      "\b\b\b\b\b\b\b\b\b\b\b\b\b\b\b\b\b\b\b\b\b\b\b\b\b\b\b\b\b\b\b\b\b\b\b\b\b\b\b\b\b\b\b\b\b\b\b\b\b\b\b\b\b\b\b\b\b\b\b\b\b\b\b\b\b\b\b\b\b\b\b\b\b\b\b\b\b\b\b\b\b\b\b\b\b\b"
     ]
    },
    {
     "output_type": "stream",
     "name": "stdout",
     "text": [
      "\r"
     ]
    },
    {
     "output_type": "stream",
     "name": "stdout",
     "text": [
      "1744/1875 [==========================>...]"
     ]
    },
    {
     "output_type": "stream",
     "name": "stdout",
     "text": [
      " - ETA: 0s - loss: 0.2439 - accuracy: 0.9090"
     ]
    },
    {
     "output_type": "stream",
     "name": "stdout",
     "text": [
      "\b\b\b\b\b\b\b\b\b\b\b\b\b\b\b\b\b\b\b\b\b\b\b\b\b\b\b\b\b\b\b\b\b\b\b\b\b\b\b\b\b\b\b\b\b\b\b\b\b\b\b\b\b\b\b\b\b\b\b\b\b\b\b\b\b\b\b\b\b\b\b\b\b\b\b\b\b\b\b\b\b\b\b\b\b\b"
     ]
    },
    {
     "output_type": "stream",
     "name": "stdout",
     "text": [
      "\r"
     ]
    },
    {
     "output_type": "stream",
     "name": "stdout",
     "text": [
      "1779/1875 [===========================>..]"
     ]
    },
    {
     "output_type": "stream",
     "name": "stdout",
     "text": [
      " - ETA: 0s - loss: 0.2443 - accuracy: 0.9091"
     ]
    },
    {
     "output_type": "stream",
     "name": "stdout",
     "text": [
      "\b\b\b\b\b\b\b\b\b\b\b\b\b\b\b\b\b\b\b\b\b\b\b\b\b\b\b\b\b\b\b\b\b\b\b\b\b\b\b\b\b\b\b\b\b\b\b\b\b\b\b\b\b\b\b\b\b\b\b\b\b\b\b\b\b\b\b\b\b\b\b\b\b\b\b\b\b\b\b\b\b\b\b\b\b\b"
     ]
    },
    {
     "output_type": "stream",
     "name": "stdout",
     "text": [
      "\r"
     ]
    },
    {
     "output_type": "stream",
     "name": "stdout",
     "text": [
      "1815/1875 [============================>.]"
     ]
    },
    {
     "output_type": "stream",
     "name": "stdout",
     "text": [
      " - ETA: 0s - loss: 0.2440 - accuracy: 0.9090"
     ]
    },
    {
     "output_type": "stream",
     "name": "stdout",
     "text": [
      "\b\b\b\b\b\b\b\b\b\b\b\b\b\b\b\b\b\b\b\b\b\b\b\b\b\b\b\b\b\b\b\b\b\b\b\b\b\b\b\b\b\b\b\b\b\b\b\b\b\b\b\b\b\b\b\b\b\b\b\b\b\b\b\b\b\b\b\b\b\b\b\b\b\b\b\b\b\b\b\b\b\b\b\b\b\b"
     ]
    },
    {
     "output_type": "stream",
     "name": "stdout",
     "text": [
      "\r"
     ]
    },
    {
     "output_type": "stream",
     "name": "stdout",
     "text": [
      "1850/1875 [============================>.]"
     ]
    },
    {
     "output_type": "stream",
     "name": "stdout",
     "text": [
      " - ETA: 0s - loss: 0.2440 - accuracy: 0.9091"
     ]
    },
    {
     "output_type": "stream",
     "name": "stdout",
     "text": [
      "\b\b\b\b\b\b\b\b\b\b\b\b\b\b\b\b\b\b\b\b\b\b\b\b\b\b\b\b\b\b\b\b\b\b\b\b\b\b\b\b\b\b\b\b\b\b\b\b\b\b\b\b\b\b\b\b\b\b\b\b\b\b\b\b\b\b\b\b\b\b\b\b\b\b\b\b\b\b\b\b\b\b\b\b\b\b"
     ]
    },
    {
     "output_type": "stream",
     "name": "stdout",
     "text": [
      "\r"
     ]
    },
    {
     "output_type": "stream",
     "name": "stdout",
     "text": [
      "1875/1875 [==============================]"
     ]
    },
    {
     "output_type": "stream",
     "name": "stdout",
     "text": [
      " - 3s 2ms/step - loss: 0.2445 - accuracy: 0.9089 - val_loss: 0.3487 - val_accuracy: 0.8768\n"
     ]
    },
    {
     "output_type": "stream",
     "name": "stdout",
     "text": [
      "Epoch 9/10"
     ]
    },
    {
     "output_type": "stream",
     "name": "stdout",
     "text": [
      "\n"
     ]
    },
    {
     "output_type": "stream",
     "name": "stdout",
     "text": [
      "\r"
     ]
    },
    {
     "output_type": "stream",
     "name": "stdout",
     "text": [
      "   1/1875 [..............................]"
     ]
    },
    {
     "output_type": "stream",
     "name": "stdout",
     "text": [
      " - ETA: 0s - loss: 0.2992 - accuracy: 0.9688"
     ]
    },
    {
     "output_type": "stream",
     "name": "stdout",
     "text": [
      "\b\b\b\b\b\b\b\b\b\b\b\b\b\b\b\b\b\b\b\b\b\b\b\b\b\b\b\b\b\b\b\b\b\b\b\b\b\b\b\b\b\b\b\b\b\b\b\b\b\b\b\b\b\b\b\b\b\b\b\b\b\b\b\b\b\b\b\b\b\b\b\b\b\b\b\b\b\b\b\b\b\b\b\b\b\b"
     ]
    },
    {
     "output_type": "stream",
     "name": "stdout",
     "text": [
      "\r"
     ]
    },
    {
     "output_type": "stream",
     "name": "stdout",
     "text": [
      "  38/1875 [..............................]"
     ]
    },
    {
     "output_type": "stream",
     "name": "stdout",
     "text": [
      " - ETA: 2s - loss: 0.2225 - accuracy: 0.9120"
     ]
    },
    {
     "output_type": "stream",
     "name": "stdout",
     "text": [
      "\b\b\b\b\b\b\b\b\b\b\b\b\b\b\b\b\b\b\b\b\b\b\b\b\b\b\b\b\b\b\b\b\b\b\b\b\b\b\b\b\b\b\b\b\b\b\b\b\b\b\b\b\b\b\b\b\b\b\b\b\b\b\b\b\b\b\b\b\b\b\b\b\b\b\b\b\b\b\b\b\b\b\b\b\b\b"
     ]
    },
    {
     "output_type": "stream",
     "name": "stdout",
     "text": [
      "\r"
     ]
    },
    {
     "output_type": "stream",
     "name": "stdout",
     "text": [
      "  73/1875 [>.............................]"
     ]
    },
    {
     "output_type": "stream",
     "name": "stdout",
     "text": [
      " - ETA: 2s - loss: 0.2292 - accuracy: 0.9097"
     ]
    },
    {
     "output_type": "stream",
     "name": "stdout",
     "text": [
      "\b\b\b\b\b\b\b\b\b\b\b\b\b\b\b\b\b\b\b\b\b\b\b\b\b\b\b\b\b\b\b\b\b\b\b\b\b\b\b\b\b\b\b\b\b\b\b\b\b\b\b\b\b\b\b\b\b\b\b\b\b\b\b\b\b\b\b\b\b\b\b\b\b\b\b\b\b\b\b\b\b\b\b\b\b\b"
     ]
    },
    {
     "output_type": "stream",
     "name": "stdout",
     "text": [
      "\r"
     ]
    },
    {
     "output_type": "stream",
     "name": "stdout",
     "text": [
      " 108/1875 [>.............................]"
     ]
    },
    {
     "output_type": "stream",
     "name": "stdout",
     "text": [
      " - ETA: 2s - loss: 0.2248 - accuracy: 0.9091"
     ]
    },
    {
     "output_type": "stream",
     "name": "stdout",
     "text": [
      "\b\b\b\b\b\b\b\b\b\b\b\b\b\b\b\b\b\b\b\b\b\b\b\b\b\b\b\b\b\b\b\b\b\b\b\b\b\b\b\b\b\b\b\b\b\b\b\b\b\b\b\b\b\b\b\b\b\b\b\b\b\b\b\b\b\b\b\b\b\b\b\b\b\b\b\b\b\b\b\b\b\b\b\b\b\b"
     ]
    },
    {
     "output_type": "stream",
     "name": "stdout",
     "text": [
      "\r"
     ]
    },
    {
     "output_type": "stream",
     "name": "stdout",
     "text": [
      " 144/1875 [=>............................]"
     ]
    },
    {
     "output_type": "stream",
     "name": "stdout",
     "text": [
      " - ETA: 2s - loss: 0.2319 - accuracy: 0.9095"
     ]
    },
    {
     "output_type": "stream",
     "name": "stdout",
     "text": [
      "\b\b\b\b\b\b\b\b\b\b\b\b\b\b\b\b\b\b\b\b\b\b\b\b\b\b\b\b\b\b\b\b\b\b\b\b\b\b\b\b\b\b\b\b\b\b\b\b\b\b\b\b\b\b\b\b\b\b\b\b\b\b\b\b\b\b\b\b\b\b\b\b\b\b\b\b\b\b\b\b\b\b\b\b\b\b"
     ]
    },
    {
     "output_type": "stream",
     "name": "stdout",
     "text": [
      "\r"
     ]
    },
    {
     "output_type": "stream",
     "name": "stdout",
     "text": [
      " 180/1875 [=>............................]"
     ]
    },
    {
     "output_type": "stream",
     "name": "stdout",
     "text": [
      " - ETA: 2s - loss: 0.2349 - accuracy: 0.9101"
     ]
    },
    {
     "output_type": "stream",
     "name": "stdout",
     "text": [
      "\b\b\b\b\b\b\b\b\b\b\b\b\b\b\b\b\b\b\b\b\b\b\b\b\b\b\b\b\b\b\b\b\b\b\b\b\b\b\b\b\b\b\b\b\b\b\b\b\b\b\b\b\b\b\b\b\b\b\b\b\b\b\b\b\b\b\b\b\b\b\b\b\b\b\b\b\b\b\b\b\b\b\b\b\b\b"
     ]
    },
    {
     "output_type": "stream",
     "name": "stdout",
     "text": [
      "\r"
     ]
    },
    {
     "output_type": "stream",
     "name": "stdout",
     "text": [
      " 216/1875 [==>...........................]"
     ]
    },
    {
     "output_type": "stream",
     "name": "stdout",
     "text": [
      " - ETA: 2s - loss: 0.2372 - accuracy: 0.9084"
     ]
    },
    {
     "output_type": "stream",
     "name": "stdout",
     "text": [
      "\b\b\b\b\b\b\b\b\b\b\b\b\b\b\b\b\b\b\b\b\b\b\b\b\b\b\b\b\b\b\b\b\b\b\b\b\b\b\b\b\b\b\b\b\b\b\b\b\b\b\b\b\b\b\b\b\b\b\b\b\b\b\b\b\b\b\b\b\b\b\b\b\b\b\b\b\b\b\b\b\b\b\b\b\b\b"
     ]
    },
    {
     "output_type": "stream",
     "name": "stdout",
     "text": [
      "\r"
     ]
    },
    {
     "output_type": "stream",
     "name": "stdout",
     "text": [
      " 252/1875 [===>..........................]"
     ]
    },
    {
     "output_type": "stream",
     "name": "stdout",
     "text": [
      " - ETA: 2s - loss: 0.2318 - accuracy: 0.9115"
     ]
    },
    {
     "output_type": "stream",
     "name": "stdout",
     "text": [
      "\b\b\b\b\b\b\b\b\b\b\b\b\b\b\b\b\b\b\b\b\b\b\b\b\b\b\b\b\b\b\b\b\b\b\b\b\b\b\b\b\b\b\b\b\b\b\b\b\b\b\b\b\b\b\b\b\b\b\b\b\b\b\b\b\b\b\b\b\b\b\b\b\b\b\b\b\b\b\b\b\b\b\b\b\b\b"
     ]
    },
    {
     "output_type": "stream",
     "name": "stdout",
     "text": [
      "\r"
     ]
    },
    {
     "output_type": "stream",
     "name": "stdout",
     "text": [
      " 288/1875 [===>..........................]"
     ]
    },
    {
     "output_type": "stream",
     "name": "stdout",
     "text": [
      " - ETA: 2s - loss: 0.2302 - accuracy: 0.9122"
     ]
    },
    {
     "output_type": "stream",
     "name": "stdout",
     "text": [
      "\b\b\b\b\b\b\b\b\b\b\b\b\b\b\b\b\b\b\b\b\b\b\b\b\b\b\b\b\b\b\b\b\b\b\b\b\b\b\b\b\b\b\b\b\b\b\b\b\b\b\b\b\b\b\b\b\b\b\b\b\b\b\b\b\b\b\b\b\b\b\b\b\b\b\b\b\b\b\b\b\b\b\b\b\b\b"
     ]
    },
    {
     "output_type": "stream",
     "name": "stdout",
     "text": [
      "\r"
     ]
    },
    {
     "output_type": "stream",
     "name": "stdout",
     "text": [
      " 324/1875 [====>.........................]"
     ]
    },
    {
     "output_type": "stream",
     "name": "stdout",
     "text": [
      " - ETA: 2s - loss: 0.2344 - accuracy: 0.9104"
     ]
    },
    {
     "output_type": "stream",
     "name": "stdout",
     "text": [
      "\b\b\b\b\b\b\b\b\b\b\b\b\b\b\b\b\b\b\b\b\b\b\b\b\b\b\b\b\b\b\b\b\b\b\b\b\b\b\b\b\b\b\b\b\b\b\b\b\b\b\b\b\b\b\b\b\b\b\b\b\b\b\b\b\b\b\b\b\b\b\b\b\b\b\b\b\b\b\b\b\b\b\b\b\b\b"
     ]
    },
    {
     "output_type": "stream",
     "name": "stdout",
     "text": [
      "\r"
     ]
    },
    {
     "output_type": "stream",
     "name": "stdout",
     "text": [
      " 360/1875 [====>.........................]"
     ]
    },
    {
     "output_type": "stream",
     "name": "stdout",
     "text": [
      " - ETA: 2s - loss: 0.2356 - accuracy: 0.9100"
     ]
    },
    {
     "output_type": "stream",
     "name": "stdout",
     "text": [
      "\b\b\b\b\b\b\b\b\b\b\b\b\b\b\b\b\b\b\b\b\b\b\b\b\b\b\b\b\b\b\b\b\b\b\b\b\b\b\b\b\b\b\b\b\b\b\b\b\b\b\b\b\b\b\b\b\b\b\b\b\b\b\b\b\b\b\b\b\b\b\b\b\b\b\b\b\b\b\b\b\b\b\b\b\b\b"
     ]
    },
    {
     "output_type": "stream",
     "name": "stdout",
     "text": [
      "\r"
     ]
    },
    {
     "output_type": "stream",
     "name": "stdout",
     "text": [
      " 397/1875 [=====>........................]"
     ]
    },
    {
     "output_type": "stream",
     "name": "stdout",
     "text": [
      " - ETA: 2s - loss: 0.2356 - accuracy: 0.9107"
     ]
    },
    {
     "output_type": "stream",
     "name": "stdout",
     "text": [
      "\b\b\b\b\b\b\b\b\b\b\b\b\b\b\b\b\b\b\b\b\b\b\b\b\b\b\b\b\b\b\b\b\b\b\b\b\b\b\b\b\b\b\b\b\b\b\b\b\b\b\b\b\b\b\b\b\b\b\b\b\b\b\b\b\b\b\b\b\b\b\b\b\b\b\b\b\b\b\b\b\b\b\b\b\b\b"
     ]
    },
    {
     "output_type": "stream",
     "name": "stdout",
     "text": [
      "\r"
     ]
    },
    {
     "output_type": "stream",
     "name": "stdout",
     "text": [
      " 434/1875 [=====>........................]"
     ]
    },
    {
     "output_type": "stream",
     "name": "stdout",
     "text": [
      " - ETA: 2s - loss: 0.2342 - accuracy: 0.9112"
     ]
    },
    {
     "output_type": "stream",
     "name": "stdout",
     "text": [
      "\b\b\b\b\b\b\b\b\b\b\b\b\b\b\b\b\b\b\b\b\b\b\b\b\b\b\b\b\b\b\b\b\b\b\b\b\b\b\b\b\b\b\b\b\b\b\b\b\b\b\b\b\b\b\b\b\b\b\b\b\b\b\b\b\b\b\b\b\b\b\b\b\b\b\b\b\b\b\b\b\b\b\b\b\b\b"
     ]
    },
    {
     "output_type": "stream",
     "name": "stdout",
     "text": [
      "\r"
     ]
    },
    {
     "output_type": "stream",
     "name": "stdout",
     "text": [
      " 470/1875 [======>.......................]"
     ]
    },
    {
     "output_type": "stream",
     "name": "stdout",
     "text": [
      " - ETA: 1s - loss: 0.2348 - accuracy: 0.9112"
     ]
    },
    {
     "output_type": "stream",
     "name": "stdout",
     "text": [
      "\b\b\b\b\b\b\b\b\b\b\b\b\b\b\b\b\b\b\b\b\b\b\b\b\b\b\b\b\b\b\b\b\b\b\b\b\b\b\b\b\b\b\b\b\b\b\b\b\b\b\b\b\b\b\b\b\b\b\b\b\b\b\b\b\b\b\b\b\b\b\b\b\b\b\b\b\b\b\b\b\b\b\b\b\b\b"
     ]
    },
    {
     "output_type": "stream",
     "name": "stdout",
     "text": [
      "\r"
     ]
    },
    {
     "output_type": "stream",
     "name": "stdout",
     "text": [
      " 506/1875 [=======>......................]"
     ]
    },
    {
     "output_type": "stream",
     "name": "stdout",
     "text": [
      " - ETA: 1s - loss: 0.2315 - accuracy: 0.9122"
     ]
    },
    {
     "output_type": "stream",
     "name": "stdout",
     "text": [
      "\b\b\b\b\b\b\b\b\b\b\b\b\b\b\b\b\b\b\b\b\b\b\b\b\b\b\b\b\b\b\b\b\b\b\b\b\b\b\b\b\b\b\b\b\b\b\b\b\b\b\b\b\b\b\b\b\b\b\b\b\b\b\b\b\b\b\b\b\b\b\b\b\b\b\b\b\b\b\b\b\b\b\b\b\b\b"
     ]
    },
    {
     "output_type": "stream",
     "name": "stdout",
     "text": [
      "\r"
     ]
    },
    {
     "output_type": "stream",
     "name": "stdout",
     "text": [
      " 542/1875 [=======>......................]"
     ]
    },
    {
     "output_type": "stream",
     "name": "stdout",
     "text": [
      " - ETA: 1s - loss: 0.2315 - accuracy: 0.9122"
     ]
    },
    {
     "output_type": "stream",
     "name": "stdout",
     "text": [
      "\b\b\b\b\b\b\b\b\b\b\b\b\b\b\b\b\b\b\b\b\b\b\b\b\b\b\b\b\b\b\b\b\b\b\b\b\b\b\b\b\b\b\b\b\b\b\b\b\b\b\b\b\b\b\b\b\b\b\b\b\b\b\b\b\b\b\b\b\b\b\b\b\b\b\b\b\b\b\b\b\b\b\b\b\b\b"
     ]
    },
    {
     "output_type": "stream",
     "name": "stdout",
     "text": [
      "\r"
     ]
    },
    {
     "output_type": "stream",
     "name": "stdout",
     "text": [
      " 578/1875 [========>.....................]"
     ]
    },
    {
     "output_type": "stream",
     "name": "stdout",
     "text": [
      " - ETA: 1s - loss: 0.2324 - accuracy: 0.9121"
     ]
    },
    {
     "output_type": "stream",
     "name": "stdout",
     "text": [
      "\b\b\b\b\b\b\b\b\b\b\b\b\b\b\b\b\b\b\b\b\b\b\b\b\b\b\b\b\b\b\b\b\b\b\b\b\b\b\b\b\b\b\b\b\b\b\b\b\b\b\b\b\b\b\b\b\b\b\b\b\b\b\b\b\b\b\b\b\b\b\b\b\b\b\b\b\b\b\b\b\b\b\b\b\b\b"
     ]
    },
    {
     "output_type": "stream",
     "name": "stdout",
     "text": [
      "\r"
     ]
    },
    {
     "output_type": "stream",
     "name": "stdout",
     "text": [
      " 614/1875 [========>.....................]"
     ]
    },
    {
     "output_type": "stream",
     "name": "stdout",
     "text": [
      " - ETA: 1s - loss: 0.2314 - accuracy: 0.9121"
     ]
    },
    {
     "output_type": "stream",
     "name": "stdout",
     "text": [
      "\b\b\b\b\b\b\b\b\b\b\b\b\b\b\b\b\b\b\b\b\b\b\b\b\b\b\b\b\b\b\b\b\b\b\b\b\b\b\b\b\b\b\b\b\b\b\b\b\b\b\b\b\b\b\b\b\b\b\b\b\b\b\b\b\b\b\b\b\b\b\b\b\b\b\b\b\b\b\b\b\b\b\b\b\b\b"
     ]
    },
    {
     "output_type": "stream",
     "name": "stdout",
     "text": [
      "\r"
     ]
    },
    {
     "output_type": "stream",
     "name": "stdout",
     "text": [
      " 650/1875 [=========>....................]"
     ]
    },
    {
     "output_type": "stream",
     "name": "stdout",
     "text": [
      " - ETA: 1s - loss: 0.2293 - accuracy: 0.9130"
     ]
    },
    {
     "output_type": "stream",
     "name": "stdout",
     "text": [
      "\b\b\b\b\b\b\b\b\b\b\b\b\b\b\b\b\b\b\b\b\b\b\b\b\b\b\b\b\b\b\b\b\b\b\b\b\b\b\b\b\b\b\b\b\b\b\b\b\b\b\b\b\b\b\b\b\b\b\b\b\b\b\b\b\b\b\b\b\b\b\b\b\b\b\b\b\b\b\b\b\b\b\b\b\b\b"
     ]
    },
    {
     "output_type": "stream",
     "name": "stdout",
     "text": [
      "\r"
     ]
    },
    {
     "output_type": "stream",
     "name": "stdout",
     "text": [
      " 685/1875 [=========>....................]"
     ]
    },
    {
     "output_type": "stream",
     "name": "stdout",
     "text": [
      " - ETA: 1s - loss: 0.2303 - accuracy: 0.9129"
     ]
    },
    {
     "output_type": "stream",
     "name": "stdout",
     "text": [
      "\b\b\b\b\b\b\b\b\b\b\b\b\b\b\b\b\b\b\b\b\b\b\b\b\b\b\b\b\b\b\b\b\b\b\b\b\b\b\b\b\b\b\b\b\b\b\b\b\b\b\b\b\b\b\b\b\b\b\b\b\b\b\b\b\b\b\b\b\b\b\b\b\b\b\b\b\b\b\b\b\b\b\b\b\b\b"
     ]
    },
    {
     "output_type": "stream",
     "name": "stdout",
     "text": [
      "\r"
     ]
    },
    {
     "output_type": "stream",
     "name": "stdout",
     "text": [
      " 721/1875 [==========>...................]"
     ]
    },
    {
     "output_type": "stream",
     "name": "stdout",
     "text": [
      " - ETA: 1s - loss: 0.2312 - accuracy: 0.9124"
     ]
    },
    {
     "output_type": "stream",
     "name": "stdout",
     "text": [
      "\b\b\b\b\b\b\b\b\b\b\b\b\b\b\b\b\b\b\b\b\b\b\b\b\b\b\b\b\b\b\b\b\b\b\b\b\b\b\b\b\b\b\b\b\b\b\b\b\b\b\b\b\b\b\b\b\b\b\b\b\b\b\b\b\b\b\b\b\b\b\b\b\b\b\b\b\b\b\b\b\b\b\b\b\b\b"
     ]
    },
    {
     "output_type": "stream",
     "name": "stdout",
     "text": [
      "\r"
     ]
    },
    {
     "output_type": "stream",
     "name": "stdout",
     "text": [
      " 756/1875 [===========>..................]"
     ]
    },
    {
     "output_type": "stream",
     "name": "stdout",
     "text": [
      " - ETA: 1s - loss: 0.2313 - accuracy: 0.9122"
     ]
    },
    {
     "output_type": "stream",
     "name": "stdout",
     "text": [
      "\b\b\b\b\b\b\b\b\b\b\b\b\b\b\b\b\b\b\b\b\b\b\b\b\b\b\b\b\b\b\b\b\b\b\b\b\b\b\b\b\b\b\b\b\b\b\b\b\b\b\b\b\b\b\b\b\b\b\b\b\b\b\b\b\b\b\b\b\b\b\b\b\b\b\b\b\b\b\b\b\b\b\b\b\b\b"
     ]
    },
    {
     "output_type": "stream",
     "name": "stdout",
     "text": [
      "\r"
     ]
    },
    {
     "output_type": "stream",
     "name": "stdout",
     "text": [
      " 792/1875 [===========>..................]"
     ]
    },
    {
     "output_type": "stream",
     "name": "stdout",
     "text": [
      " - ETA: 1s - loss: 0.2304 - accuracy: 0.9129"
     ]
    },
    {
     "output_type": "stream",
     "name": "stdout",
     "text": [
      "\b\b\b\b\b\b\b\b\b\b\b\b\b\b\b\b\b\b\b\b\b\b\b\b\b\b\b\b\b\b\b\b\b\b\b\b\b\b\b\b\b\b\b\b\b\b\b\b\b\b\b\b\b\b\b\b\b\b\b\b\b\b\b\b\b\b\b\b\b\b\b\b\b\b\b\b\b\b\b\b\b\b\b\b\b\b"
     ]
    },
    {
     "output_type": "stream",
     "name": "stdout",
     "text": [
      "\r"
     ]
    },
    {
     "output_type": "stream",
     "name": "stdout",
     "text": [
      " 828/1875 [============>.................]"
     ]
    },
    {
     "output_type": "stream",
     "name": "stdout",
     "text": [
      " - ETA: 1s - loss: 0.2310 - accuracy: 0.9127"
     ]
    },
    {
     "output_type": "stream",
     "name": "stdout",
     "text": [
      "\b\b\b\b\b\b\b\b\b\b\b\b\b\b\b\b\b\b\b\b\b\b\b\b\b\b\b\b\b\b\b\b\b\b\b\b\b\b\b\b\b\b\b\b\b\b\b\b\b\b\b\b\b\b\b\b\b\b\b\b\b\b\b\b\b\b\b\b\b\b\b\b\b\b\b\b\b\b\b\b\b\b\b\b\b\b"
     ]
    },
    {
     "output_type": "stream",
     "name": "stdout",
     "text": [
      "\r"
     ]
    },
    {
     "output_type": "stream",
     "name": "stdout",
     "text": [
      " 864/1875 [============>.................]"
     ]
    },
    {
     "output_type": "stream",
     "name": "stdout",
     "text": [
      " - ETA: 1s - loss: 0.2311 - accuracy: 0.9124"
     ]
    },
    {
     "output_type": "stream",
     "name": "stdout",
     "text": [
      "\b\b\b\b\b\b\b\b\b\b\b\b\b\b\b\b\b\b\b\b\b\b\b\b\b\b\b\b\b\b\b\b\b\b\b\b\b\b\b\b\b\b\b\b\b\b\b\b\b\b\b\b\b\b\b\b\b\b\b\b\b\b\b\b\b\b\b\b\b\b\b\b\b\b\b\b\b\b\b\b\b\b\b\b\b\b"
     ]
    },
    {
     "output_type": "stream",
     "name": "stdout",
     "text": [
      "\r"
     ]
    },
    {
     "output_type": "stream",
     "name": "stdout",
     "text": [
      " 900/1875 [=============>................]"
     ]
    },
    {
     "output_type": "stream",
     "name": "stdout",
     "text": [
      " - ETA: 1s - loss: 0.2319 - accuracy: 0.9118"
     ]
    },
    {
     "output_type": "stream",
     "name": "stdout",
     "text": [
      "\b\b\b\b\b\b\b\b\b\b\b\b\b\b\b\b\b\b\b\b\b\b\b\b\b\b\b\b\b\b\b\b\b\b\b\b\b\b\b\b\b\b\b\b\b\b\b\b\b\b\b\b\b\b\b\b\b\b\b\b\b\b\b\b\b\b\b\b\b\b\b\b\b\b\b\b\b\b\b\b\b\b\b\b\b\b"
     ]
    },
    {
     "output_type": "stream",
     "name": "stdout",
     "text": [
      "\r"
     ]
    },
    {
     "output_type": "stream",
     "name": "stdout",
     "text": [
      " 936/1875 [=============>................]"
     ]
    },
    {
     "output_type": "stream",
     "name": "stdout",
     "text": [
      " - ETA: 1s - loss: 0.2324 - accuracy: 0.9119"
     ]
    },
    {
     "output_type": "stream",
     "name": "stdout",
     "text": [
      "\b\b\b\b\b\b\b\b\b\b\b\b\b\b\b\b\b\b\b\b\b\b\b\b\b\b\b\b\b\b\b\b\b\b\b\b\b\b\b\b\b\b\b\b\b\b\b\b\b\b\b\b\b\b\b\b\b\b\b\b\b\b\b\b\b\b\b\b\b\b\b\b\b\b\b\b\b\b\b\b\b\b\b\b\b\b"
     ]
    },
    {
     "output_type": "stream",
     "name": "stdout",
     "text": [
      "\r"
     ]
    },
    {
     "output_type": "stream",
     "name": "stdout",
     "text": [
      " 971/1875 [==============>...............]"
     ]
    },
    {
     "output_type": "stream",
     "name": "stdout",
     "text": [
      " - ETA: 1s - loss: 0.2322 - accuracy: 0.9120"
     ]
    },
    {
     "output_type": "stream",
     "name": "stdout",
     "text": [
      "\b\b\b\b\b\b\b\b\b\b\b\b\b\b\b\b\b\b\b\b\b\b\b\b\b\b\b\b\b\b\b\b\b\b\b\b\b\b\b\b\b\b\b\b\b\b\b\b\b\b\b\b\b\b\b\b\b\b\b\b\b\b\b\b\b\b\b\b\b\b\b\b\b\b\b\b\b\b\b\b\b\b\b\b\b\b"
     ]
    },
    {
     "output_type": "stream",
     "name": "stdout",
     "text": [
      "\r"
     ]
    },
    {
     "output_type": "stream",
     "name": "stdout",
     "text": [
      "1006/1875 [===============>..............]"
     ]
    },
    {
     "output_type": "stream",
     "name": "stdout",
     "text": [
      " - ETA: 1s - loss: 0.2315 - accuracy: 0.9121"
     ]
    },
    {
     "output_type": "stream",
     "name": "stdout",
     "text": [
      "\b\b\b\b\b\b\b\b\b\b\b\b\b\b\b\b\b\b\b\b\b\b\b\b\b\b\b\b\b\b\b\b\b\b\b\b\b\b\b\b\b\b\b\b\b\b\b\b\b\b\b\b\b\b\b\b\b\b\b\b\b\b\b\b\b\b\b\b\b\b\b\b\b\b\b\b\b\b\b\b\b\b\b\b\b\b"
     ]
    },
    {
     "output_type": "stream",
     "name": "stdout",
     "text": [
      "\r"
     ]
    },
    {
     "output_type": "stream",
     "name": "stdout",
     "text": [
      "1041/1875 [===============>..............]"
     ]
    },
    {
     "output_type": "stream",
     "name": "stdout",
     "text": [
      " - ETA: 1s - loss: 0.2313 - accuracy: 0.9123"
     ]
    },
    {
     "output_type": "stream",
     "name": "stdout",
     "text": [
      "\b\b\b\b\b\b\b\b\b\b\b\b\b\b\b\b\b\b\b\b\b\b\b\b\b\b\b\b\b\b\b\b\b\b\b\b\b\b\b\b\b\b\b\b\b\b\b\b\b\b\b\b\b\b\b\b\b\b\b\b\b\b\b\b\b\b\b\b\b\b\b\b\b\b\b\b\b\b\b\b\b\b\b\b\b\b"
     ]
    },
    {
     "output_type": "stream",
     "name": "stdout",
     "text": [
      "\r"
     ]
    },
    {
     "output_type": "stream",
     "name": "stdout",
     "text": [
      "1077/1875 [================>.............]"
     ]
    },
    {
     "output_type": "stream",
     "name": "stdout",
     "text": [
      " - ETA: 1s - loss: 0.2317 - accuracy: 0.9123"
     ]
    },
    {
     "output_type": "stream",
     "name": "stdout",
     "text": [
      "\b\b\b\b\b\b\b\b\b\b\b\b\b\b\b\b\b\b\b\b\b\b\b\b\b\b\b\b\b\b\b\b\b\b\b\b\b\b\b\b\b\b\b\b\b\b\b\b\b\b\b\b\b\b\b\b\b\b\b\b\b\b\b\b\b\b\b\b\b\b\b\b\b\b\b\b\b\b\b\b\b\b\b\b\b\b"
     ]
    },
    {
     "output_type": "stream",
     "name": "stdout",
     "text": [
      "\r"
     ]
    },
    {
     "output_type": "stream",
     "name": "stdout",
     "text": [
      "1113/1875 [================>.............]"
     ]
    },
    {
     "output_type": "stream",
     "name": "stdout",
     "text": [
      " - ETA: 1s - loss: 0.2321 - accuracy: 0.9117"
     ]
    },
    {
     "output_type": "stream",
     "name": "stdout",
     "text": [
      "\b\b\b\b\b\b\b\b\b\b\b\b\b\b\b\b\b\b\b\b\b\b\b\b\b\b\b\b\b\b\b\b\b\b\b\b\b\b\b\b\b\b\b\b\b\b\b\b\b\b\b\b\b\b\b\b\b\b\b\b\b\b\b\b\b\b\b\b\b\b\b\b\b\b\b\b\b\b\b\b\b\b\b\b\b\b"
     ]
    },
    {
     "output_type": "stream",
     "name": "stdout",
     "text": [
      "\r"
     ]
    },
    {
     "output_type": "stream",
     "name": "stdout",
     "text": [
      "1148/1875 [=================>............]"
     ]
    },
    {
     "output_type": "stream",
     "name": "stdout",
     "text": [
      " - ETA: 1s - loss: 0.2321 - accuracy: 0.9118"
     ]
    },
    {
     "output_type": "stream",
     "name": "stdout",
     "text": [
      "\b\b\b\b\b\b\b\b\b\b\b\b\b\b\b\b\b\b\b\b\b\b\b\b\b\b\b\b\b\b\b\b\b\b\b\b\b\b\b\b\b\b\b\b\b\b\b\b\b\b\b\b\b\b\b\b\b\b\b\b\b\b\b\b\b\b\b\b\b\b\b\b\b\b\b\b\b\b\b\b\b\b\b\b\b\b"
     ]
    },
    {
     "output_type": "stream",
     "name": "stdout",
     "text": [
      "\r"
     ]
    },
    {
     "output_type": "stream",
     "name": "stdout",
     "text": [
      "1185/1875 [=================>............]"
     ]
    },
    {
     "output_type": "stream",
     "name": "stdout",
     "text": [
      " - ETA: 0s - loss: 0.2320 - accuracy: 0.9119"
     ]
    },
    {
     "output_type": "stream",
     "name": "stdout",
     "text": [
      "\b\b\b\b\b\b\b\b\b\b\b\b\b\b\b\b\b\b\b\b\b\b\b\b\b\b\b\b\b\b\b\b\b\b\b\b\b\b\b\b\b\b\b\b\b\b\b\b\b\b\b\b\b\b\b\b\b\b\b\b\b\b\b\b\b\b\b\b\b\b\b\b\b\b\b\b\b\b\b\b\b\b\b\b\b\b"
     ]
    },
    {
     "output_type": "stream",
     "name": "stdout",
     "text": [
      "\r"
     ]
    },
    {
     "output_type": "stream",
     "name": "stdout",
     "text": [
      "1222/1875 [==================>...........]"
     ]
    },
    {
     "output_type": "stream",
     "name": "stdout",
     "text": [
      " - ETA: 0s - loss: 0.2331 - accuracy: 0.9117"
     ]
    },
    {
     "output_type": "stream",
     "name": "stdout",
     "text": [
      "\b\b\b\b\b\b\b\b\b\b\b\b\b\b\b\b\b\b\b\b\b\b\b\b\b\b\b\b\b\b\b\b\b\b\b\b\b\b\b\b\b\b\b\b\b\b\b\b\b\b\b\b\b\b\b\b\b\b\b\b\b\b\b\b\b\b\b\b\b\b\b\b\b\b\b\b\b\b\b\b\b\b\b\b\b\b"
     ]
    },
    {
     "output_type": "stream",
     "name": "stdout",
     "text": [
      "\r"
     ]
    },
    {
     "output_type": "stream",
     "name": "stdout",
     "text": [
      "1258/1875 [===================>..........]"
     ]
    },
    {
     "output_type": "stream",
     "name": "stdout",
     "text": [
      " - ETA: 0s - loss: 0.2327 - accuracy: 0.9120"
     ]
    },
    {
     "output_type": "stream",
     "name": "stdout",
     "text": [
      "\b\b\b\b\b\b\b\b\b\b\b\b\b\b\b\b\b\b\b\b\b\b\b\b\b\b\b\b\b\b\b\b\b\b\b\b\b\b\b\b\b\b\b\b\b\b\b\b\b\b\b\b\b\b\b\b\b\b\b\b\b\b\b\b\b\b\b\b\b\b\b\b\b\b\b\b\b\b\b\b\b\b\b\b\b\b"
     ]
    },
    {
     "output_type": "stream",
     "name": "stdout",
     "text": [
      "\r"
     ]
    },
    {
     "output_type": "stream",
     "name": "stdout",
     "text": [
      "1294/1875 [===================>..........]"
     ]
    },
    {
     "output_type": "stream",
     "name": "stdout",
     "text": [
      " - ETA: 0s - loss: 0.2325 - accuracy: 0.9120"
     ]
    },
    {
     "output_type": "stream",
     "name": "stdout",
     "text": [
      "\b\b\b\b\b\b\b\b\b\b\b\b\b\b\b\b\b\b\b\b\b\b\b\b\b\b\b\b\b\b\b\b\b\b\b\b\b\b\b\b\b\b\b\b\b\b\b\b\b\b\b\b\b\b\b\b\b\b\b\b\b\b\b\b\b\b\b\b\b\b\b\b\b\b\b\b\b\b\b\b\b\b\b\b\b\b"
     ]
    },
    {
     "output_type": "stream",
     "name": "stdout",
     "text": [
      "\r"
     ]
    },
    {
     "output_type": "stream",
     "name": "stdout",
     "text": [
      "1330/1875 [====================>.........]"
     ]
    },
    {
     "output_type": "stream",
     "name": "stdout",
     "text": [
      " - ETA: 0s - loss: 0.2323 - accuracy: 0.9120"
     ]
    },
    {
     "output_type": "stream",
     "name": "stdout",
     "text": [
      "\b\b\b\b\b\b\b\b\b\b\b\b\b\b\b\b\b\b\b\b\b\b\b\b\b\b\b\b\b\b\b\b\b\b\b\b\b\b\b\b\b\b\b\b\b\b\b\b\b\b\b\b\b\b\b\b\b\b\b\b\b\b\b\b\b\b\b\b\b\b\b\b\b\b\b\b\b\b\b\b\b\b\b\b\b\b"
     ]
    },
    {
     "output_type": "stream",
     "name": "stdout",
     "text": [
      "\r"
     ]
    },
    {
     "output_type": "stream",
     "name": "stdout",
     "text": [
      "1366/1875 [====================>.........]"
     ]
    },
    {
     "output_type": "stream",
     "name": "stdout",
     "text": [
      " - ETA: 0s - loss: 0.2329 - accuracy: 0.9119"
     ]
    },
    {
     "output_type": "stream",
     "name": "stdout",
     "text": [
      "\b\b\b\b\b\b\b\b\b\b\b\b\b\b\b\b\b\b\b\b\b\b\b\b\b\b\b\b\b\b\b\b\b\b\b\b\b\b\b\b\b\b\b\b\b\b\b\b\b\b\b\b\b\b\b\b\b\b\b\b\b\b\b\b\b\b\b\b\b\b\b\b\b\b\b\b\b\b\b\b\b\b\b\b\b\b"
     ]
    },
    {
     "output_type": "stream",
     "name": "stdout",
     "text": [
      "\r"
     ]
    },
    {
     "output_type": "stream",
     "name": "stdout",
     "text": [
      "1402/1875 [=====================>........]"
     ]
    },
    {
     "output_type": "stream",
     "name": "stdout",
     "text": [
      " - ETA: 0s - loss: 0.2336 - accuracy: 0.9118"
     ]
    },
    {
     "output_type": "stream",
     "name": "stdout",
     "text": [
      "\b\b\b\b\b\b\b\b\b\b\b\b\b\b\b\b\b\b\b\b\b\b\b\b\b\b\b\b\b\b\b\b\b\b\b\b\b\b\b\b\b\b\b\b\b\b\b\b\b\b\b\b\b\b\b\b\b\b\b\b\b\b\b\b\b\b\b\b\b\b\b\b\b\b\b\b\b\b\b\b\b\b\b\b\b\b"
     ]
    },
    {
     "output_type": "stream",
     "name": "stdout",
     "text": [
      "\r"
     ]
    },
    {
     "output_type": "stream",
     "name": "stdout",
     "text": [
      "1438/1875 [======================>.......]"
     ]
    },
    {
     "output_type": "stream",
     "name": "stdout",
     "text": [
      " - ETA: 0s - loss: 0.2339 - accuracy: 0.9117"
     ]
    },
    {
     "output_type": "stream",
     "name": "stdout",
     "text": [
      "\b\b\b\b\b\b\b\b\b\b\b\b\b\b\b\b\b\b\b\b\b\b\b\b\b\b\b\b\b\b\b\b\b\b\b\b\b\b\b\b\b\b\b\b\b\b\b\b\b\b\b\b\b\b\b\b\b\b\b\b\b\b\b\b\b\b\b\b\b\b\b\b\b\b\b\b\b\b\b\b\b\b\b\b\b\b"
     ]
    },
    {
     "output_type": "stream",
     "name": "stdout",
     "text": [
      "\r"
     ]
    },
    {
     "output_type": "stream",
     "name": "stdout",
     "text": [
      "1474/1875 [======================>.......]"
     ]
    },
    {
     "output_type": "stream",
     "name": "stdout",
     "text": [
      " - ETA: 0s - loss: 0.2338 - accuracy: 0.9117"
     ]
    },
    {
     "output_type": "stream",
     "name": "stdout",
     "text": [
      "\b\b\b\b\b\b\b\b\b\b\b\b\b\b\b\b\b\b\b\b\b\b\b\b\b\b\b\b\b\b\b\b\b\b\b\b\b\b\b\b\b\b\b\b\b\b\b\b\b\b\b\b\b\b\b\b\b\b\b\b\b\b\b\b\b\b\b\b\b\b\b\b\b\b\b\b\b\b\b\b\b\b\b\b\b\b"
     ]
    },
    {
     "output_type": "stream",
     "name": "stdout",
     "text": [
      "\r"
     ]
    },
    {
     "output_type": "stream",
     "name": "stdout",
     "text": [
      "1510/1875 [=======================>......]"
     ]
    },
    {
     "output_type": "stream",
     "name": "stdout",
     "text": [
      " - ETA: 0s - loss: 0.2344 - accuracy: 0.9116"
     ]
    },
    {
     "output_type": "stream",
     "name": "stdout",
     "text": [
      "\b\b\b\b\b\b\b\b\b\b\b\b\b\b\b\b\b\b\b\b\b\b\b\b\b\b\b\b\b\b\b\b\b\b\b\b\b\b\b\b\b\b\b\b\b\b\b\b\b\b\b\b\b\b\b\b\b\b\b\b\b\b\b\b\b\b\b\b\b\b\b\b\b\b\b\b\b\b\b\b\b\b\b\b\b\b"
     ]
    },
    {
     "output_type": "stream",
     "name": "stdout",
     "text": [
      "\r"
     ]
    },
    {
     "output_type": "stream",
     "name": "stdout",
     "text": [
      "1547/1875 [=======================>......]"
     ]
    },
    {
     "output_type": "stream",
     "name": "stdout",
     "text": [
      " - ETA: 0s - loss: 0.2347 - accuracy: 0.9115"
     ]
    },
    {
     "output_type": "stream",
     "name": "stdout",
     "text": [
      "\b\b\b\b\b\b\b\b\b\b\b\b\b\b\b\b\b\b\b\b\b\b\b\b\b\b\b\b\b\b\b\b\b\b\b\b\b\b\b\b\b\b\b\b\b\b\b\b\b\b\b\b\b\b\b\b\b\b\b\b\b\b\b\b\b\b\b\b\b\b\b\b\b\b\b\b\b\b\b\b\b\b\b\b\b\b"
     ]
    },
    {
     "output_type": "stream",
     "name": "stdout",
     "text": [
      "\r"
     ]
    },
    {
     "output_type": "stream",
     "name": "stdout",
     "text": [
      "1583/1875 [========================>.....]"
     ]
    },
    {
     "output_type": "stream",
     "name": "stdout",
     "text": [
      " - ETA: 0s - loss: 0.2350 - accuracy: 0.9113"
     ]
    },
    {
     "output_type": "stream",
     "name": "stdout",
     "text": [
      "\b\b\b\b\b\b\b\b\b\b\b\b\b\b\b\b\b\b\b\b\b\b\b\b\b\b\b\b\b\b\b\b\b\b\b\b\b\b\b\b\b\b\b\b\b\b\b\b\b\b\b\b\b\b\b\b\b\b\b\b\b\b\b\b\b\b\b\b\b\b\b\b\b\b\b\b\b\b\b\b\b\b\b\b\b\b"
     ]
    },
    {
     "output_type": "stream",
     "name": "stdout",
     "text": [
      "\r"
     ]
    },
    {
     "output_type": "stream",
     "name": "stdout",
     "text": [
      "1618/1875 [========================>.....]"
     ]
    },
    {
     "output_type": "stream",
     "name": "stdout",
     "text": [
      " - ETA: 0s - loss: 0.2351 - accuracy: 0.9113"
     ]
    },
    {
     "output_type": "stream",
     "name": "stdout",
     "text": [
      "\b\b\b\b\b\b\b\b\b\b\b\b\b\b\b\b\b\b\b\b\b\b\b\b\b\b\b\b\b\b\b\b\b\b\b\b\b\b\b\b\b\b\b\b\b\b\b\b\b\b\b\b\b\b\b\b\b\b\b\b\b\b\b\b\b\b\b\b\b\b\b\b\b\b\b\b\b\b\b\b\b\b\b\b\b\b"
     ]
    },
    {
     "output_type": "stream",
     "name": "stdout",
     "text": [
      "\r"
     ]
    },
    {
     "output_type": "stream",
     "name": "stdout",
     "text": [
      "1654/1875 [=========================>....]"
     ]
    },
    {
     "output_type": "stream",
     "name": "stdout",
     "text": [
      " - ETA: 0s - loss: 0.2352 - accuracy: 0.9113"
     ]
    },
    {
     "output_type": "stream",
     "name": "stdout",
     "text": [
      "\b\b\b\b\b\b\b\b\b\b\b\b\b\b\b\b\b\b\b\b\b\b\b\b\b\b\b\b\b\b\b\b\b\b\b\b\b\b\b\b\b\b\b\b\b\b\b\b\b\b\b\b\b\b\b\b\b\b\b\b\b\b\b\b\b\b\b\b\b\b\b\b\b\b\b\b\b\b\b\b\b\b\b\b\b\b"
     ]
    },
    {
     "output_type": "stream",
     "name": "stdout",
     "text": [
      "\r"
     ]
    },
    {
     "output_type": "stream",
     "name": "stdout",
     "text": [
      "1689/1875 [==========================>...]"
     ]
    },
    {
     "output_type": "stream",
     "name": "stdout",
     "text": [
      " - ETA: 0s - loss: 0.2350 - accuracy: 0.9116"
     ]
    },
    {
     "output_type": "stream",
     "name": "stdout",
     "text": [
      "\b\b\b\b\b\b\b\b\b\b\b\b\b\b\b\b\b\b\b\b\b\b\b\b\b\b\b\b\b\b\b\b\b\b\b\b\b\b\b\b\b\b\b\b\b\b\b\b\b\b\b\b\b\b\b\b\b\b\b\b\b\b\b\b\b\b\b\b\b\b\b\b\b\b\b\b\b\b\b\b\b\b\b\b\b\b"
     ]
    },
    {
     "output_type": "stream",
     "name": "stdout",
     "text": [
      "\r"
     ]
    },
    {
     "output_type": "stream",
     "name": "stdout",
     "text": [
      "1723/1875 [==========================>...]"
     ]
    },
    {
     "output_type": "stream",
     "name": "stdout",
     "text": [
      " - ETA: 0s - loss: 0.2348 - accuracy: 0.9116"
     ]
    },
    {
     "output_type": "stream",
     "name": "stdout",
     "text": [
      "\b\b\b\b\b\b\b\b\b\b\b\b\b\b\b\b\b\b\b\b\b\b\b\b\b\b\b\b\b\b\b\b\b\b\b\b\b\b\b\b\b\b\b\b\b\b\b\b\b\b\b\b\b\b\b\b\b\b\b\b\b\b\b\b\b\b\b\b\b\b\b\b\b\b\b\b\b\b\b\b\b\b\b\b\b\b"
     ]
    },
    {
     "output_type": "stream",
     "name": "stdout",
     "text": [
      "\r"
     ]
    },
    {
     "output_type": "stream",
     "name": "stdout",
     "text": [
      "1759/1875 [===========================>..]"
     ]
    },
    {
     "output_type": "stream",
     "name": "stdout",
     "text": [
      " - ETA: 0s - loss: 0.2350 - accuracy: 0.9116"
     ]
    },
    {
     "output_type": "stream",
     "name": "stdout",
     "text": [
      "\b\b\b\b\b\b\b\b\b\b\b\b\b\b\b\b\b\b\b\b\b\b\b\b\b\b\b\b\b\b\b\b\b\b\b\b\b\b\b\b\b\b\b\b\b\b\b\b\b\b\b\b\b\b\b\b\b\b\b\b\b\b\b\b\b\b\b\b\b\b\b\b\b\b\b\b\b\b\b\b\b\b\b\b\b\b"
     ]
    },
    {
     "output_type": "stream",
     "name": "stdout",
     "text": [
      "\r"
     ]
    },
    {
     "output_type": "stream",
     "name": "stdout",
     "text": [
      "1795/1875 [===========================>..]"
     ]
    },
    {
     "output_type": "stream",
     "name": "stdout",
     "text": [
      " - ETA: 0s - loss: 0.2346 - accuracy: 0.9117"
     ]
    },
    {
     "output_type": "stream",
     "name": "stdout",
     "text": [
      "\b\b\b\b\b\b\b\b\b\b\b\b\b\b\b\b\b\b\b\b\b\b\b\b\b\b\b\b\b\b\b\b\b\b\b\b\b\b\b\b\b\b\b\b\b\b\b\b\b\b\b\b\b\b\b\b\b\b\b\b\b\b\b\b\b\b\b\b\b\b\b\b\b\b\b\b\b\b\b\b\b\b\b\b\b\b"
     ]
    },
    {
     "output_type": "stream",
     "name": "stdout",
     "text": [
      "\r"
     ]
    },
    {
     "output_type": "stream",
     "name": "stdout",
     "text": [
      "1831/1875 [============================>.]"
     ]
    },
    {
     "output_type": "stream",
     "name": "stdout",
     "text": [
      " - ETA: 0s - loss: 0.2351 - accuracy: 0.9116"
     ]
    },
    {
     "output_type": "stream",
     "name": "stdout",
     "text": [
      "\b\b\b\b\b\b\b\b\b\b\b\b\b\b\b\b\b\b\b\b\b\b\b\b\b\b\b\b\b\b\b\b\b\b\b\b\b\b\b\b\b\b\b\b\b\b\b\b\b\b\b\b\b\b\b\b\b\b\b\b\b\b\b\b\b\b\b\b\b\b\b\b\b\b\b\b\b\b\b\b\b\b\b\b\b\b"
     ]
    },
    {
     "output_type": "stream",
     "name": "stdout",
     "text": [
      "\r"
     ]
    },
    {
     "output_type": "stream",
     "name": "stdout",
     "text": [
      "1867/1875 [============================>.]"
     ]
    },
    {
     "output_type": "stream",
     "name": "stdout",
     "text": [
      " - ETA: 0s - loss: 0.2353 - accuracy: 0.9116"
     ]
    },
    {
     "output_type": "stream",
     "name": "stdout",
     "text": [
      "\b\b\b\b\b\b\b\b\b\b\b\b\b\b\b\b\b\b\b\b\b\b\b\b\b\b\b\b\b\b\b\b\b\b\b\b\b\b\b\b\b\b\b\b\b\b\b\b\b\b\b\b\b\b\b\b\b\b\b\b\b\b\b\b\b\b\b\b\b\b\b\b\b\b\b\b\b\b\b\b\b\b\b\b\b\b"
     ]
    },
    {
     "output_type": "stream",
     "name": "stdout",
     "text": [
      "\r"
     ]
    },
    {
     "output_type": "stream",
     "name": "stdout",
     "text": [
      "1875/1875 [==============================]"
     ]
    },
    {
     "output_type": "stream",
     "name": "stdout",
     "text": [
      " - 3s 2ms/step - loss: 0.2352 - accuracy: 0.9116 - val_loss: 0.3352 - val_accuracy: 0.8843\n"
     ]
    },
    {
     "output_type": "stream",
     "name": "stdout",
     "text": [
      "Epoch 10/10"
     ]
    },
    {
     "output_type": "stream",
     "name": "stdout",
     "text": [
      "\n"
     ]
    },
    {
     "output_type": "stream",
     "name": "stdout",
     "text": [
      "\r"
     ]
    },
    {
     "output_type": "stream",
     "name": "stdout",
     "text": [
      "   1/1875 [..............................]"
     ]
    },
    {
     "output_type": "stream",
     "name": "stdout",
     "text": [
      " - ETA: 0s - loss: 0.2772 - accuracy: 0.8750"
     ]
    },
    {
     "output_type": "stream",
     "name": "stdout",
     "text": [
      "\b\b\b\b\b\b\b\b\b\b\b\b\b\b\b\b\b\b\b\b\b\b\b\b\b\b\b\b\b\b\b\b\b\b\b\b\b\b\b\b\b\b\b\b\b\b\b\b\b\b\b\b\b\b\b\b\b\b\b\b\b\b\b\b\b\b\b\b\b\b\b\b\b\b\b\b\b\b\b\b\b\b\b\b\b\b"
     ]
    },
    {
     "output_type": "stream",
     "name": "stdout",
     "text": [
      "\r"
     ]
    },
    {
     "output_type": "stream",
     "name": "stdout",
     "text": [
      "  37/1875 [..............................]"
     ]
    },
    {
     "output_type": "stream",
     "name": "stdout",
     "text": [
      " - ETA: 2s - loss: 0.2074 - accuracy: 0.9265"
     ]
    },
    {
     "output_type": "stream",
     "name": "stdout",
     "text": [
      "\b\b\b\b\b\b\b\b\b\b\b\b\b\b\b\b\b\b\b\b\b\b\b\b\b\b\b\b\b\b\b\b\b\b\b\b\b\b\b\b\b\b\b\b\b\b\b\b\b\b\b\b\b\b\b\b\b\b\b\b\b\b\b\b\b\b\b\b\b\b\b\b\b\b\b\b\b\b\b\b\b\b\b\b\b\b"
     ]
    },
    {
     "output_type": "stream",
     "name": "stdout",
     "text": [
      "\r"
     ]
    },
    {
     "output_type": "stream",
     "name": "stdout",
     "text": [
      "  73/1875 [>.............................]"
     ]
    },
    {
     "output_type": "stream",
     "name": "stdout",
     "text": [
      " - ETA: 2s - loss: 0.2037 - accuracy: 0.9255"
     ]
    },
    {
     "output_type": "stream",
     "name": "stdout",
     "text": [
      "\b\b\b\b\b\b\b\b\b\b\b\b\b\b\b\b\b\b\b\b\b\b\b\b\b\b\b\b\b\b\b\b\b\b\b\b\b\b\b\b\b\b\b\b\b\b\b\b\b\b\b\b\b\b\b\b\b\b\b\b\b\b\b\b\b\b\b\b\b\b\b\b\b\b\b\b\b\b\b\b\b\b\b\b\b\b"
     ]
    },
    {
     "output_type": "stream",
     "name": "stdout",
     "text": [
      "\r"
     ]
    },
    {
     "output_type": "stream",
     "name": "stdout",
     "text": [
      " 109/1875 [>.............................]"
     ]
    },
    {
     "output_type": "stream",
     "name": "stdout",
     "text": [
      " - ETA: 2s - loss: 0.2152 - accuracy: 0.9212"
     ]
    },
    {
     "output_type": "stream",
     "name": "stdout",
     "text": [
      "\b\b\b\b\b\b\b\b\b\b\b\b\b\b\b\b\b\b\b\b\b\b\b\b\b\b\b\b\b\b\b\b\b\b\b\b\b\b\b\b\b\b\b\b\b\b\b\b\b\b\b\b\b\b\b\b\b\b\b\b\b\b\b\b\b\b\b\b\b\b\b\b\b\b\b\b\b\b\b\b\b\b\b\b\b\b"
     ]
    },
    {
     "output_type": "stream",
     "name": "stdout",
     "text": [
      "\r"
     ]
    },
    {
     "output_type": "stream",
     "name": "stdout",
     "text": [
      " 145/1875 [=>............................]"
     ]
    },
    {
     "output_type": "stream",
     "name": "stdout",
     "text": [
      " - ETA: 2s - loss: 0.2153 - accuracy: 0.9211"
     ]
    },
    {
     "output_type": "stream",
     "name": "stdout",
     "text": [
      "\b\b\b\b\b\b\b\b\b\b\b\b\b\b\b\b\b\b\b\b\b\b\b\b\b\b\b\b\b\b\b\b\b\b\b\b\b\b\b\b\b\b\b\b\b\b\b\b\b\b\b\b\b\b\b\b\b\b\b\b\b\b\b\b\b\b\b\b\b\b\b\b\b\b\b\b\b\b\b\b\b\b\b\b\b\b"
     ]
    },
    {
     "output_type": "stream",
     "name": "stdout",
     "text": [
      "\r"
     ]
    },
    {
     "output_type": "stream",
     "name": "stdout",
     "text": [
      " 180/1875 [=>............................]"
     ]
    },
    {
     "output_type": "stream",
     "name": "stdout",
     "text": [
      " - ETA: 2s - loss: 0.2170 - accuracy: 0.9208"
     ]
    },
    {
     "output_type": "stream",
     "name": "stdout",
     "text": [
      "\b\b\b\b\b\b\b\b\b\b\b\b\b\b\b\b\b\b\b\b\b\b\b\b\b\b\b\b\b\b\b\b\b\b\b\b\b\b\b\b\b\b\b\b\b\b\b\b\b\b\b\b\b\b\b\b\b\b\b\b\b\b\b\b\b\b\b\b\b\b\b\b\b\b\b\b\b\b\b\b\b\b\b\b\b\b"
     ]
    },
    {
     "output_type": "stream",
     "name": "stdout",
     "text": [
      "\r"
     ]
    },
    {
     "output_type": "stream",
     "name": "stdout",
     "text": [
      " 215/1875 [==>...........................]"
     ]
    },
    {
     "output_type": "stream",
     "name": "stdout",
     "text": [
      " - ETA: 2s - loss: 0.2150 - accuracy: 0.9211"
     ]
    },
    {
     "output_type": "stream",
     "name": "stdout",
     "text": [
      "\b\b\b\b\b\b\b\b\b\b\b\b\b\b\b\b\b\b\b\b\b\b\b\b\b\b\b\b\b\b\b\b\b\b\b\b\b\b\b\b\b\b\b\b\b\b\b\b\b\b\b\b\b\b\b\b\b\b\b\b\b\b\b\b\b\b\b\b\b\b\b\b\b\b\b\b\b\b\b\b\b\b\b\b\b\b"
     ]
    },
    {
     "output_type": "stream",
     "name": "stdout",
     "text": [
      "\r"
     ]
    },
    {
     "output_type": "stream",
     "name": "stdout",
     "text": [
      " 251/1875 [===>..........................]"
     ]
    },
    {
     "output_type": "stream",
     "name": "stdout",
     "text": [
      " - ETA: 2s - loss: 0.2178 - accuracy: 0.9204"
     ]
    },
    {
     "output_type": "stream",
     "name": "stdout",
     "text": [
      "\b\b\b\b\b\b\b\b\b\b\b\b\b\b\b\b\b\b\b\b\b\b\b\b\b\b\b\b\b\b\b\b\b\b\b\b\b\b\b\b\b\b\b\b\b\b\b\b\b\b\b\b\b\b\b\b\b\b\b\b\b\b\b\b\b\b\b\b\b\b\b\b\b\b\b\b\b\b\b\b\b\b\b\b\b\b"
     ]
    },
    {
     "output_type": "stream",
     "name": "stdout",
     "text": [
      "\r"
     ]
    },
    {
     "output_type": "stream",
     "name": "stdout",
     "text": [
      " 287/1875 [===>..........................]"
     ]
    },
    {
     "output_type": "stream",
     "name": "stdout",
     "text": [
      " - ETA: 2s - loss: 0.2181 - accuracy: 0.9198"
     ]
    },
    {
     "output_type": "stream",
     "name": "stdout",
     "text": [
      "\b\b\b\b\b\b\b\b\b\b\b\b\b\b\b\b\b\b\b\b\b\b\b\b\b\b\b\b\b\b\b\b\b\b\b\b\b\b\b\b\b\b\b\b\b\b\b\b\b\b\b\b\b\b\b\b\b\b\b\b\b\b\b\b\b\b\b\b\b\b\b\b\b\b\b\b\b\b\b\b\b\b\b\b\b\b"
     ]
    },
    {
     "output_type": "stream",
     "name": "stdout",
     "text": [
      "\r"
     ]
    },
    {
     "output_type": "stream",
     "name": "stdout",
     "text": [
      " 323/1875 [====>.........................]"
     ]
    },
    {
     "output_type": "stream",
     "name": "stdout",
     "text": [
      " - ETA: 2s - loss: 0.2161 - accuracy: 0.9197"
     ]
    },
    {
     "output_type": "stream",
     "name": "stdout",
     "text": [
      "\b\b\b\b\b\b\b\b\b\b\b\b\b\b\b\b\b\b\b\b\b\b\b\b\b\b\b\b\b\b\b\b\b\b\b\b\b\b\b\b\b\b\b\b\b\b\b\b\b\b\b\b\b\b\b\b\b\b\b\b\b\b\b\b\b\b\b\b\b\b\b\b\b\b\b\b\b\b\b\b\b\b\b\b\b\b"
     ]
    },
    {
     "output_type": "stream",
     "name": "stdout",
     "text": [
      "\r"
     ]
    },
    {
     "output_type": "stream",
     "name": "stdout",
     "text": [
      " 359/1875 [====>.........................]"
     ]
    },
    {
     "output_type": "stream",
     "name": "stdout",
     "text": [
      " - ETA: 2s - loss: 0.2134 - accuracy: 0.9200"
     ]
    },
    {
     "output_type": "stream",
     "name": "stdout",
     "text": [
      "\b\b\b\b\b\b\b\b\b\b\b\b\b\b\b\b\b\b\b\b\b\b\b\b\b\b\b\b\b\b\b\b\b\b\b\b\b\b\b\b\b\b\b\b\b\b\b\b\b\b\b\b\b\b\b\b\b\b\b\b\b\b\b\b\b\b\b\b\b\b\b\b\b\b\b\b\b\b\b\b\b\b\b\b\b\b"
     ]
    },
    {
     "output_type": "stream",
     "name": "stdout",
     "text": [
      "\r"
     ]
    },
    {
     "output_type": "stream",
     "name": "stdout",
     "text": [
      " 394/1875 [=====>........................]"
     ]
    },
    {
     "output_type": "stream",
     "name": "stdout",
     "text": [
      " - ETA: 2s - loss: 0.2131 - accuracy: 0.9201"
     ]
    },
    {
     "output_type": "stream",
     "name": "stdout",
     "text": [
      "\b\b\b\b\b\b\b\b\b\b\b\b\b\b\b\b\b\b\b\b\b\b\b\b\b\b\b\b\b\b\b\b\b\b\b\b\b\b\b\b\b\b\b\b\b\b\b\b\b\b\b\b\b\b\b\b\b\b\b\b\b\b\b\b\b\b\b\b\b\b\b\b\b\b\b\b\b\b\b\b\b\b\b\b\b\b"
     ]
    },
    {
     "output_type": "stream",
     "name": "stdout",
     "text": [
      "\r"
     ]
    },
    {
     "output_type": "stream",
     "name": "stdout",
     "text": [
      " 430/1875 [=====>........................]"
     ]
    },
    {
     "output_type": "stream",
     "name": "stdout",
     "text": [
      " - ETA: 2s - loss: 0.2117 - accuracy: 0.9203"
     ]
    },
    {
     "output_type": "stream",
     "name": "stdout",
     "text": [
      "\b\b\b\b\b\b\b\b\b\b\b\b\b\b\b\b\b\b\b\b\b\b\b\b\b\b\b\b\b\b\b\b\b\b\b\b\b\b\b\b\b\b\b\b\b\b\b\b\b\b\b\b\b\b\b\b\b\b\b\b\b\b\b\b\b\b\b\b\b\b\b\b\b\b\b\b\b\b\b\b\b\b\b\b\b\b"
     ]
    },
    {
     "output_type": "stream",
     "name": "stdout",
     "text": [
      "\r"
     ]
    },
    {
     "output_type": "stream",
     "name": "stdout",
     "text": [
      " 466/1875 [======>.......................]"
     ]
    },
    {
     "output_type": "stream",
     "name": "stdout",
     "text": [
      " - ETA: 1s - loss: 0.2123 - accuracy: 0.9207"
     ]
    },
    {
     "output_type": "stream",
     "name": "stdout",
     "text": [
      "\b\b\b\b\b\b\b\b\b\b\b\b\b\b\b\b\b\b\b\b\b\b\b\b\b\b\b\b\b\b\b\b\b\b\b\b\b\b\b\b\b\b\b\b\b\b\b\b\b\b\b\b\b\b\b\b\b\b\b\b\b\b\b\b\b\b\b\b\b\b\b\b\b\b\b\b\b\b\b\b\b\b\b\b\b\b"
     ]
    },
    {
     "output_type": "stream",
     "name": "stdout",
     "text": [
      "\r"
     ]
    },
    {
     "output_type": "stream",
     "name": "stdout",
     "text": [
      " 501/1875 [=======>......................]"
     ]
    },
    {
     "output_type": "stream",
     "name": "stdout",
     "text": [
      " - ETA: 1s - loss: 0.2150 - accuracy: 0.9190"
     ]
    },
    {
     "output_type": "stream",
     "name": "stdout",
     "text": [
      "\b\b\b\b\b\b\b\b\b\b\b\b\b\b\b\b\b\b\b\b\b\b\b\b\b\b\b\b\b\b\b\b\b\b\b\b\b\b\b\b\b\b\b\b\b\b\b\b\b\b\b\b\b\b\b\b\b\b\b\b\b\b\b\b\b\b\b\b\b\b\b\b\b\b\b\b\b\b\b\b\b\b\b\b\b\b"
     ]
    },
    {
     "output_type": "stream",
     "name": "stdout",
     "text": [
      "\r"
     ]
    },
    {
     "output_type": "stream",
     "name": "stdout",
     "text": [
      " 536/1875 [=======>......................]"
     ]
    },
    {
     "output_type": "stream",
     "name": "stdout",
     "text": [
      " - ETA: 1s - loss: 0.2152 - accuracy: 0.9194"
     ]
    },
    {
     "output_type": "stream",
     "name": "stdout",
     "text": [
      "\b\b\b\b\b\b\b\b\b\b\b\b\b\b\b\b\b\b\b\b\b\b\b\b\b\b\b\b\b\b\b\b\b\b\b\b\b\b\b\b\b\b\b\b\b\b\b\b\b\b\b\b\b\b\b\b\b\b\b\b\b\b\b\b\b\b\b\b\b\b\b\b\b\b\b\b\b\b\b\b\b\b\b\b\b\b"
     ]
    },
    {
     "output_type": "stream",
     "name": "stdout",
     "text": [
      "\r"
     ]
    },
    {
     "output_type": "stream",
     "name": "stdout",
     "text": [
      " 573/1875 [========>.....................]"
     ]
    },
    {
     "output_type": "stream",
     "name": "stdout",
     "text": [
      " - ETA: 1s - loss: 0.2165 - accuracy: 0.9185"
     ]
    },
    {
     "output_type": "stream",
     "name": "stdout",
     "text": [
      "\b\b\b\b\b\b\b\b\b\b\b\b\b\b\b\b\b\b\b\b\b\b\b\b\b\b\b\b\b\b\b\b\b\b\b\b\b\b\b\b\b\b\b\b\b\b\b\b\b\b\b\b\b\b\b\b\b\b\b\b\b\b\b\b\b\b\b\b\b\b\b\b\b\b\b\b\b\b\b\b\b\b\b\b\b\b"
     ]
    },
    {
     "output_type": "stream",
     "name": "stdout",
     "text": [
      "\r"
     ]
    },
    {
     "output_type": "stream",
     "name": "stdout",
     "text": [
      " 608/1875 [========>.....................]"
     ]
    },
    {
     "output_type": "stream",
     "name": "stdout",
     "text": [
      " - ETA: 1s - loss: 0.2153 - accuracy: 0.9192"
     ]
    },
    {
     "output_type": "stream",
     "name": "stdout",
     "text": [
      "\b\b\b\b\b\b\b\b\b\b\b\b\b\b\b\b\b\b\b\b\b\b\b\b\b\b\b\b\b\b\b\b\b\b\b\b\b\b\b\b\b\b\b\b\b\b\b\b\b\b\b\b\b\b\b\b\b\b\b\b\b\b\b\b\b\b\b\b\b\b\b\b\b\b\b\b\b\b\b\b\b\b\b\b\b\b"
     ]
    },
    {
     "output_type": "stream",
     "name": "stdout",
     "text": [
      "\r"
     ]
    },
    {
     "output_type": "stream",
     "name": "stdout",
     "text": [
      " 644/1875 [=========>....................]"
     ]
    },
    {
     "output_type": "stream",
     "name": "stdout",
     "text": [
      " - ETA: 1s - loss: 0.2168 - accuracy: 0.9183"
     ]
    },
    {
     "output_type": "stream",
     "name": "stdout",
     "text": [
      "\b\b\b\b\b\b\b\b\b\b\b\b\b\b\b\b\b\b\b\b\b\b\b\b\b\b\b\b\b\b\b\b\b\b\b\b\b\b\b\b\b\b\b\b\b\b\b\b\b\b\b\b\b\b\b\b\b\b\b\b\b\b\b\b\b\b\b\b\b\b\b\b\b\b\b\b\b\b\b\b\b\b\b\b\b\b"
     ]
    },
    {
     "output_type": "stream",
     "name": "stdout",
     "text": [
      "\r"
     ]
    },
    {
     "output_type": "stream",
     "name": "stdout",
     "text": [
      " 680/1875 [=========>....................]"
     ]
    },
    {
     "output_type": "stream",
     "name": "stdout",
     "text": [
      " - ETA: 1s - loss: 0.2181 - accuracy: 0.9181"
     ]
    },
    {
     "output_type": "stream",
     "name": "stdout",
     "text": [
      "\b\b\b\b\b\b\b\b\b\b\b\b\b\b\b\b\b\b\b\b\b\b\b\b\b\b\b\b\b\b\b\b\b\b\b\b\b\b\b\b\b\b\b\b\b\b\b\b\b\b\b\b\b\b\b\b\b\b\b\b\b\b\b\b\b\b\b\b\b\b\b\b\b\b\b\b\b\b\b\b\b\b\b\b\b\b"
     ]
    },
    {
     "output_type": "stream",
     "name": "stdout",
     "text": [
      "\r"
     ]
    },
    {
     "output_type": "stream",
     "name": "stdout",
     "text": [
      " 716/1875 [==========>...................]"
     ]
    },
    {
     "output_type": "stream",
     "name": "stdout",
     "text": [
      " - ETA: 1s - loss: 0.2171 - accuracy: 0.9184"
     ]
    },
    {
     "output_type": "stream",
     "name": "stdout",
     "text": [
      "\b\b\b\b\b\b\b\b\b\b\b\b\b\b\b\b\b\b\b\b\b\b\b\b\b\b\b\b\b\b\b\b\b\b\b\b\b\b\b\b\b\b\b\b\b\b\b\b\b\b\b\b\b\b\b\b\b\b\b\b\b\b\b\b\b\b\b\b\b\b\b\b\b\b\b\b\b\b\b\b\b\b\b\b\b\b"
     ]
    },
    {
     "output_type": "stream",
     "name": "stdout",
     "text": [
      "\r"
     ]
    },
    {
     "output_type": "stream",
     "name": "stdout",
     "text": [
      " 753/1875 [===========>..................]"
     ]
    },
    {
     "output_type": "stream",
     "name": "stdout",
     "text": [
      " - ETA: 1s - loss: 0.2178 - accuracy: 0.9182"
     ]
    },
    {
     "output_type": "stream",
     "name": "stdout",
     "text": [
      "\b\b\b\b\b\b\b\b\b\b\b\b\b\b\b\b\b\b\b\b\b\b\b\b\b\b\b\b\b\b\b\b\b\b\b\b\b\b\b\b\b\b\b\b\b\b\b\b\b\b\b\b\b\b\b\b\b\b\b\b\b\b\b\b\b\b\b\b\b\b\b\b\b\b\b\b\b\b\b\b\b\b\b\b\b\b"
     ]
    },
    {
     "output_type": "stream",
     "name": "stdout",
     "text": [
      "\r"
     ]
    },
    {
     "output_type": "stream",
     "name": "stdout",
     "text": [
      " 788/1875 [===========>..................]"
     ]
    },
    {
     "output_type": "stream",
     "name": "stdout",
     "text": [
      " - ETA: 1s - loss: 0.2182 - accuracy: 0.9183"
     ]
    },
    {
     "output_type": "stream",
     "name": "stdout",
     "text": [
      "\b\b\b\b\b\b\b\b\b\b\b\b\b\b\b\b\b\b\b\b\b\b\b\b\b\b\b\b\b\b\b\b\b\b\b\b\b\b\b\b\b\b\b\b\b\b\b\b\b\b\b\b\b\b\b\b\b\b\b\b\b\b\b\b\b\b\b\b\b\b\b\b\b\b\b\b\b\b\b\b\b\b\b\b\b\b"
     ]
    },
    {
     "output_type": "stream",
     "name": "stdout",
     "text": [
      "\r"
     ]
    },
    {
     "output_type": "stream",
     "name": "stdout",
     "text": [
      " 824/1875 [============>.................]"
     ]
    },
    {
     "output_type": "stream",
     "name": "stdout",
     "text": [
      " - ETA: 1s - loss: 0.2192 - accuracy: 0.9176"
     ]
    },
    {
     "output_type": "stream",
     "name": "stdout",
     "text": [
      "\b\b\b\b\b\b\b\b\b\b\b\b\b\b\b\b\b\b\b\b\b\b\b\b\b\b\b\b\b\b\b\b\b\b\b\b\b\b\b\b\b\b\b\b\b\b\b\b\b\b\b\b\b\b\b\b\b\b\b\b\b\b\b\b\b\b\b\b\b\b\b\b\b\b\b\b\b\b\b\b\b\b\b\b\b\b"
     ]
    },
    {
     "output_type": "stream",
     "name": "stdout",
     "text": [
      "\r"
     ]
    },
    {
     "output_type": "stream",
     "name": "stdout",
     "text": [
      " 860/1875 [============>.................]"
     ]
    },
    {
     "output_type": "stream",
     "name": "stdout",
     "text": [
      " - ETA: 1s - loss: 0.2188 - accuracy: 0.9176"
     ]
    },
    {
     "output_type": "stream",
     "name": "stdout",
     "text": [
      "\b\b\b\b\b\b\b\b\b\b\b\b\b\b\b\b\b\b\b\b\b\b\b\b\b\b\b\b\b\b\b\b\b\b\b\b\b\b\b\b\b\b\b\b\b\b\b\b\b\b\b\b\b\b\b\b\b\b\b\b\b\b\b\b\b\b\b\b\b\b\b\b\b\b\b\b\b\b\b\b\b\b\b\b\b\b"
     ]
    },
    {
     "output_type": "stream",
     "name": "stdout",
     "text": [
      "\r"
     ]
    },
    {
     "output_type": "stream",
     "name": "stdout",
     "text": [
      " 896/1875 [=============>................]"
     ]
    },
    {
     "output_type": "stream",
     "name": "stdout",
     "text": [
      " - ETA: 1s - loss: 0.2198 - accuracy: 0.9172"
     ]
    },
    {
     "output_type": "stream",
     "name": "stdout",
     "text": [
      "\b\b\b\b\b\b\b\b\b\b\b\b\b\b\b\b\b\b\b\b\b\b\b\b\b\b\b\b\b\b\b\b\b\b\b\b\b\b\b\b\b\b\b\b\b\b\b\b\b\b\b\b\b\b\b\b\b\b\b\b\b\b\b\b\b\b\b\b\b\b\b\b\b\b\b\b\b\b\b\b\b\b\b\b\b\b"
     ]
    },
    {
     "output_type": "stream",
     "name": "stdout",
     "text": [
      "\r"
     ]
    },
    {
     "output_type": "stream",
     "name": "stdout",
     "text": [
      " 932/1875 [=============>................]"
     ]
    },
    {
     "output_type": "stream",
     "name": "stdout",
     "text": [
      " - ETA: 1s - loss: 0.2204 - accuracy: 0.9173"
     ]
    },
    {
     "output_type": "stream",
     "name": "stdout",
     "text": [
      "\b\b\b\b\b\b\b\b\b\b\b\b\b\b\b\b\b\b\b\b\b\b\b\b\b\b\b\b\b\b\b\b\b\b\b\b\b\b\b\b\b\b\b\b\b\b\b\b\b\b\b\b\b\b\b\b\b\b\b\b\b\b\b\b\b\b\b\b\b\b\b\b\b\b\b\b\b\b\b\b\b\b\b\b\b\b"
     ]
    },
    {
     "output_type": "stream",
     "name": "stdout",
     "text": [
      "\r"
     ]
    },
    {
     "output_type": "stream",
     "name": "stdout",
     "text": [
      " 967/1875 [==============>...............]"
     ]
    },
    {
     "output_type": "stream",
     "name": "stdout",
     "text": [
      " - ETA: 1s - loss: 0.2208 - accuracy: 0.9171"
     ]
    },
    {
     "output_type": "stream",
     "name": "stdout",
     "text": [
      "\b\b\b\b\b\b\b\b\b\b\b\b\b\b\b\b\b\b\b\b\b\b\b\b\b\b\b\b\b\b\b\b\b\b\b\b\b\b\b\b\b\b\b\b\b\b\b\b\b\b\b\b\b\b\b\b\b\b\b\b\b\b\b\b\b\b\b\b\b\b\b\b\b\b\b\b\b\b\b\b\b\b\b\b\b\b"
     ]
    },
    {
     "output_type": "stream",
     "name": "stdout",
     "text": [
      "\r"
     ]
    },
    {
     "output_type": "stream",
     "name": "stdout",
     "text": [
      "1002/1875 [===============>..............]"
     ]
    },
    {
     "output_type": "stream",
     "name": "stdout",
     "text": [
      " - ETA: 1s - loss: 0.2212 - accuracy: 0.9169"
     ]
    },
    {
     "output_type": "stream",
     "name": "stdout",
     "text": [
      "\b\b\b\b\b\b\b\b\b\b\b\b\b\b\b\b\b\b\b\b\b\b\b\b\b\b\b\b\b\b\b\b\b\b\b\b\b\b\b\b\b\b\b\b\b\b\b\b\b\b\b\b\b\b\b\b\b\b\b\b\b\b\b\b\b\b\b\b\b\b\b\b\b\b\b\b\b\b\b\b\b\b\b\b\b\b"
     ]
    },
    {
     "output_type": "stream",
     "name": "stdout",
     "text": [
      "\r"
     ]
    },
    {
     "output_type": "stream",
     "name": "stdout",
     "text": [
      "1037/1875 [===============>..............]"
     ]
    },
    {
     "output_type": "stream",
     "name": "stdout",
     "text": [
      " - ETA: 1s - loss: 0.2210 - accuracy: 0.9168"
     ]
    },
    {
     "output_type": "stream",
     "name": "stdout",
     "text": [
      "\b\b\b\b\b\b\b\b\b\b\b\b\b\b\b\b\b\b\b\b\b\b\b\b\b\b\b\b\b\b\b\b\b\b\b\b\b\b\b\b\b\b\b\b\b\b\b\b\b\b\b\b\b\b\b\b\b\b\b\b\b\b\b\b\b\b\b\b\b\b\b\b\b\b\b\b\b\b\b\b\b\b\b\b\b\b"
     ]
    },
    {
     "output_type": "stream",
     "name": "stdout",
     "text": [
      "\r"
     ]
    },
    {
     "output_type": "stream",
     "name": "stdout",
     "text": [
      "1072/1875 [================>.............]"
     ]
    },
    {
     "output_type": "stream",
     "name": "stdout",
     "text": [
      " - ETA: 1s - loss: 0.2227 - accuracy: 0.9158"
     ]
    },
    {
     "output_type": "stream",
     "name": "stdout",
     "text": [
      "\b\b\b\b\b\b\b\b\b\b\b\b\b\b\b\b\b\b\b\b\b\b\b\b\b\b\b\b\b\b\b\b\b\b\b\b\b\b\b\b\b\b\b\b\b\b\b\b\b\b\b\b\b\b\b\b\b\b\b\b\b\b\b\b\b\b\b\b\b\b\b\b\b\b\b\b\b\b\b\b\b\b\b\b\b\b"
     ]
    },
    {
     "output_type": "stream",
     "name": "stdout",
     "text": [
      "\r"
     ]
    },
    {
     "output_type": "stream",
     "name": "stdout",
     "text": [
      "1107/1875 [================>.............]"
     ]
    },
    {
     "output_type": "stream",
     "name": "stdout",
     "text": [
      " - ETA: 1s - loss: 0.2231 - accuracy: 0.9155"
     ]
    },
    {
     "output_type": "stream",
     "name": "stdout",
     "text": [
      "\b\b\b\b\b\b\b\b\b\b\b\b\b\b\b\b\b\b\b\b\b\b\b\b\b\b\b\b\b\b\b\b\b\b\b\b\b\b\b\b\b\b\b\b\b\b\b\b\b\b\b\b\b\b\b\b\b\b\b\b\b\b\b\b\b\b\b\b\b\b\b\b\b\b\b\b\b\b\b\b\b\b\b\b\b\b"
     ]
    },
    {
     "output_type": "stream",
     "name": "stdout",
     "text": [
      "\r"
     ]
    },
    {
     "output_type": "stream",
     "name": "stdout",
     "text": [
      "1142/1875 [=================>............]"
     ]
    },
    {
     "output_type": "stream",
     "name": "stdout",
     "text": [
      " - ETA: 1s - loss: 0.2250 - accuracy: 0.9149"
     ]
    },
    {
     "output_type": "stream",
     "name": "stdout",
     "text": [
      "\b\b\b\b\b\b\b\b\b\b\b\b\b\b\b\b\b\b\b\b\b\b\b\b\b\b\b\b\b\b\b\b\b\b\b\b\b\b\b\b\b\b\b\b\b\b\b\b\b\b\b\b\b\b\b\b\b\b\b\b\b\b\b\b\b\b\b\b\b\b\b\b\b\b\b\b\b\b\b\b\b\b\b\b\b\b"
     ]
    },
    {
     "output_type": "stream",
     "name": "stdout",
     "text": [
      "\r"
     ]
    },
    {
     "output_type": "stream",
     "name": "stdout",
     "text": [
      "1178/1875 [=================>............]"
     ]
    },
    {
     "output_type": "stream",
     "name": "stdout",
     "text": [
      " - ETA: 0s - loss: 0.2243 - accuracy: 0.9153"
     ]
    },
    {
     "output_type": "stream",
     "name": "stdout",
     "text": [
      "\b\b\b\b\b\b\b\b\b\b\b\b\b\b\b\b\b\b\b\b\b\b\b\b\b\b\b\b\b\b\b\b\b\b\b\b\b\b\b\b\b\b\b\b\b\b\b\b\b\b\b\b\b\b\b\b\b\b\b\b\b\b\b\b\b\b\b\b\b\b\b\b\b\b\b\b\b\b\b\b\b\b\b\b\b\b"
     ]
    },
    {
     "output_type": "stream",
     "name": "stdout",
     "text": [
      "\r"
     ]
    },
    {
     "output_type": "stream",
     "name": "stdout",
     "text": [
      "1214/1875 [==================>...........]"
     ]
    },
    {
     "output_type": "stream",
     "name": "stdout",
     "text": [
      " - ETA: 0s - loss: 0.2241 - accuracy: 0.9153"
     ]
    },
    {
     "output_type": "stream",
     "name": "stdout",
     "text": [
      "\b\b\b\b\b\b\b\b\b\b\b\b\b\b\b\b\b\b\b\b\b\b\b\b\b\b\b\b\b\b\b\b\b\b\b\b\b\b\b\b\b\b\b\b\b\b\b\b\b\b\b\b\b\b\b\b\b\b\b\b\b\b\b\b\b\b\b\b\b\b\b\b\b\b\b\b\b\b\b\b\b\b\b\b\b\b"
     ]
    },
    {
     "output_type": "stream",
     "name": "stdout",
     "text": [
      "\r"
     ]
    },
    {
     "output_type": "stream",
     "name": "stdout",
     "text": [
      "1250/1875 [===================>..........]"
     ]
    },
    {
     "output_type": "stream",
     "name": "stdout",
     "text": [
      " - ETA: 0s - loss: 0.2239 - accuracy: 0.9153"
     ]
    },
    {
     "output_type": "stream",
     "name": "stdout",
     "text": [
      "\b\b\b\b\b\b\b\b\b\b\b\b\b\b\b\b\b\b\b\b\b\b\b\b\b\b\b\b\b\b\b\b\b\b\b\b\b\b\b\b\b\b\b\b\b\b\b\b\b\b\b\b\b\b\b\b\b\b\b\b\b\b\b\b\b\b\b\b\b\b\b\b\b\b\b\b\b\b\b\b\b\b\b\b\b\b"
     ]
    },
    {
     "output_type": "stream",
     "name": "stdout",
     "text": [
      "\r"
     ]
    },
    {
     "output_type": "stream",
     "name": "stdout",
     "text": [
      "1285/1875 [===================>..........]"
     ]
    },
    {
     "output_type": "stream",
     "name": "stdout",
     "text": [
      " - ETA: 0s - loss: 0.2238 - accuracy: 0.9153"
     ]
    },
    {
     "output_type": "stream",
     "name": "stdout",
     "text": [
      "\b\b\b\b\b\b\b\b\b\b\b\b\b\b\b\b\b\b\b\b\b\b\b\b\b\b\b\b\b\b\b\b\b\b\b\b\b\b\b\b\b\b\b\b\b\b\b\b\b\b\b\b\b\b\b\b\b\b\b\b\b\b\b\b\b\b\b\b\b\b\b\b\b\b\b\b\b\b\b\b\b\b\b\b\b\b"
     ]
    },
    {
     "output_type": "stream",
     "name": "stdout",
     "text": [
      "\r"
     ]
    },
    {
     "output_type": "stream",
     "name": "stdout",
     "text": [
      "1320/1875 [====================>.........]"
     ]
    },
    {
     "output_type": "stream",
     "name": "stdout",
     "text": [
      " - ETA: 0s - loss: 0.2229 - accuracy: 0.9156"
     ]
    },
    {
     "output_type": "stream",
     "name": "stdout",
     "text": [
      "\b\b\b\b\b\b\b\b\b\b\b\b\b\b\b\b\b\b\b\b\b\b\b\b\b\b\b\b\b\b\b\b\b\b\b\b\b\b\b\b\b\b\b\b\b\b\b\b\b\b\b\b\b\b\b\b\b\b\b\b\b\b\b\b\b\b\b\b\b\b\b\b\b\b\b\b\b\b\b\b\b\b\b\b\b\b"
     ]
    },
    {
     "output_type": "stream",
     "name": "stdout",
     "text": [
      "\r"
     ]
    },
    {
     "output_type": "stream",
     "name": "stdout",
     "text": [
      "1356/1875 [====================>.........]"
     ]
    },
    {
     "output_type": "stream",
     "name": "stdout",
     "text": [
      " - ETA: 0s - loss: 0.2230 - accuracy: 0.9156"
     ]
    },
    {
     "output_type": "stream",
     "name": "stdout",
     "text": [
      "\b\b\b\b\b\b\b\b\b\b\b\b\b\b\b\b\b\b\b\b\b\b\b\b\b\b\b\b\b\b\b\b\b\b\b\b\b\b\b\b\b\b\b\b\b\b\b\b\b\b\b\b\b\b\b\b\b\b\b\b\b\b\b\b\b\b\b\b\b\b\b\b\b\b\b\b\b\b\b\b\b\b\b\b\b\b"
     ]
    },
    {
     "output_type": "stream",
     "name": "stdout",
     "text": [
      "\r"
     ]
    },
    {
     "output_type": "stream",
     "name": "stdout",
     "text": [
      "1391/1875 [=====================>........]"
     ]
    },
    {
     "output_type": "stream",
     "name": "stdout",
     "text": [
      " - ETA: 0s - loss: 0.2228 - accuracy: 0.9157"
     ]
    },
    {
     "output_type": "stream",
     "name": "stdout",
     "text": [
      "\b\b\b\b\b\b\b\b\b\b\b\b\b\b\b\b\b\b\b\b\b\b\b\b\b\b\b\b\b\b\b\b\b\b\b\b\b\b\b\b\b\b\b\b\b\b\b\b\b\b\b\b\b\b\b\b\b\b\b\b\b\b\b\b\b\b\b\b\b\b\b\b\b\b\b\b\b\b\b\b\b\b\b\b\b\b"
     ]
    },
    {
     "output_type": "stream",
     "name": "stdout",
     "text": [
      "\r"
     ]
    },
    {
     "output_type": "stream",
     "name": "stdout",
     "text": [
      "1426/1875 [=====================>........]"
     ]
    },
    {
     "output_type": "stream",
     "name": "stdout",
     "text": [
      " - ETA: 0s - loss: 0.2226 - accuracy: 0.9159"
     ]
    },
    {
     "output_type": "stream",
     "name": "stdout",
     "text": [
      "\b\b\b\b\b\b\b\b\b\b\b\b\b\b\b\b\b\b\b\b\b\b\b\b\b\b\b\b\b\b\b\b\b\b\b\b\b\b\b\b\b\b\b\b\b\b\b\b\b\b\b\b\b\b\b\b\b\b\b\b\b\b\b\b\b\b\b\b\b\b\b\b\b\b\b\b\b\b\b\b\b\b\b\b\b\b"
     ]
    },
    {
     "output_type": "stream",
     "name": "stdout",
     "text": [
      "\r"
     ]
    },
    {
     "output_type": "stream",
     "name": "stdout",
     "text": [
      "1462/1875 [======================>.......]"
     ]
    },
    {
     "output_type": "stream",
     "name": "stdout",
     "text": [
      " - ETA: 0s - loss: 0.2224 - accuracy: 0.9160"
     ]
    },
    {
     "output_type": "stream",
     "name": "stdout",
     "text": [
      "\b\b\b\b\b\b\b\b\b\b\b\b\b\b\b\b\b\b\b\b\b\b\b\b\b\b\b\b\b\b\b\b\b\b\b\b\b\b\b\b\b\b\b\b\b\b\b\b\b\b\b\b\b\b\b\b\b\b\b\b\b\b\b\b\b\b\b\b\b\b\b\b\b\b\b\b\b\b\b\b\b\b\b\b\b\b"
     ]
    },
    {
     "output_type": "stream",
     "name": "stdout",
     "text": [
      "\r"
     ]
    },
    {
     "output_type": "stream",
     "name": "stdout",
     "text": [
      "1498/1875 [======================>.......]"
     ]
    },
    {
     "output_type": "stream",
     "name": "stdout",
     "text": [
      " - ETA: 0s - loss: 0.2228 - accuracy: 0.9158"
     ]
    },
    {
     "output_type": "stream",
     "name": "stdout",
     "text": [
      "\b\b\b\b\b\b\b\b\b\b\b\b\b\b\b\b\b\b\b\b\b\b\b\b\b\b\b\b\b\b\b\b\b\b\b\b\b\b\b\b\b\b\b\b\b\b\b\b\b\b\b\b\b\b\b\b\b\b\b\b\b\b\b\b\b\b\b\b\b\b\b\b\b\b\b\b\b\b\b\b\b\b\b\b\b\b"
     ]
    },
    {
     "output_type": "stream",
     "name": "stdout",
     "text": [
      "\r"
     ]
    },
    {
     "output_type": "stream",
     "name": "stdout",
     "text": [
      "1533/1875 [=======================>......]"
     ]
    },
    {
     "output_type": "stream",
     "name": "stdout",
     "text": [
      " - ETA: 0s - loss: 0.2232 - accuracy: 0.9156"
     ]
    },
    {
     "output_type": "stream",
     "name": "stdout",
     "text": [
      "\b\b\b\b\b\b\b\b\b\b\b\b\b\b\b\b\b\b\b\b\b\b\b\b\b\b\b\b\b\b\b\b\b\b\b\b\b\b\b\b\b\b\b\b\b\b\b\b\b\b\b\b\b\b\b\b\b\b\b\b\b\b\b\b\b\b\b\b\b\b\b\b\b\b\b\b\b\b\b\b\b\b\b\b\b\b"
     ]
    },
    {
     "output_type": "stream",
     "name": "stdout",
     "text": [
      "\r"
     ]
    },
    {
     "output_type": "stream",
     "name": "stdout",
     "text": [
      "1569/1875 [========================>.....]"
     ]
    },
    {
     "output_type": "stream",
     "name": "stdout",
     "text": [
      " - ETA: 0s - loss: 0.2238 - accuracy: 0.9153"
     ]
    },
    {
     "output_type": "stream",
     "name": "stdout",
     "text": [
      "\b\b\b\b\b\b\b\b\b\b\b\b\b\b\b\b\b\b\b\b\b\b\b\b\b\b\b\b\b\b\b\b\b\b\b\b\b\b\b\b\b\b\b\b\b\b\b\b\b\b\b\b\b\b\b\b\b\b\b\b\b\b\b\b\b\b\b\b\b\b\b\b\b\b\b\b\b\b\b\b\b\b\b\b\b\b"
     ]
    },
    {
     "output_type": "stream",
     "name": "stdout",
     "text": [
      "\r"
     ]
    },
    {
     "output_type": "stream",
     "name": "stdout",
     "text": [
      "1605/1875 [========================>.....]"
     ]
    },
    {
     "output_type": "stream",
     "name": "stdout",
     "text": [
      " - ETA: 0s - loss: 0.2239 - accuracy: 0.9153"
     ]
    },
    {
     "output_type": "stream",
     "name": "stdout",
     "text": [
      "\b\b\b\b\b\b\b\b\b\b\b\b\b\b\b\b\b\b\b\b\b\b\b\b\b\b\b\b\b\b\b\b\b\b\b\b\b\b\b\b\b\b\b\b\b\b\b\b\b\b\b\b\b\b\b\b\b\b\b\b\b\b\b\b\b\b\b\b\b\b\b\b\b\b\b\b\b\b\b\b\b\b\b\b\b\b"
     ]
    },
    {
     "output_type": "stream",
     "name": "stdout",
     "text": [
      "\r"
     ]
    },
    {
     "output_type": "stream",
     "name": "stdout",
     "text": [
      "1641/1875 [=========================>....]"
     ]
    },
    {
     "output_type": "stream",
     "name": "stdout",
     "text": [
      " - ETA: 0s - loss: 0.2244 - accuracy: 0.9151"
     ]
    },
    {
     "output_type": "stream",
     "name": "stdout",
     "text": [
      "\b\b\b\b\b\b\b\b\b\b\b\b\b\b\b\b\b\b\b\b\b\b\b\b\b\b\b\b\b\b\b\b\b\b\b\b\b\b\b\b\b\b\b\b\b\b\b\b\b\b\b\b\b\b\b\b\b\b\b\b\b\b\b\b\b\b\b\b\b\b\b\b\b\b\b\b\b\b\b\b\b\b\b\b\b\b"
     ]
    },
    {
     "output_type": "stream",
     "name": "stdout",
     "text": [
      "\r"
     ]
    },
    {
     "output_type": "stream",
     "name": "stdout",
     "text": [
      "1677/1875 [=========================>....]"
     ]
    },
    {
     "output_type": "stream",
     "name": "stdout",
     "text": [
      " - ETA: 0s - loss: 0.2242 - accuracy: 0.9153"
     ]
    },
    {
     "output_type": "stream",
     "name": "stdout",
     "text": [
      "\b\b\b\b\b\b\b\b\b\b\b\b\b\b\b\b\b\b\b\b\b\b\b\b\b\b\b\b\b\b\b\b\b\b\b\b\b\b\b\b\b\b\b\b\b\b\b\b\b\b\b\b\b\b\b\b\b\b\b\b\b\b\b\b\b\b\b\b\b\b\b\b\b\b\b\b\b\b\b\b\b\b\b\b\b\b"
     ]
    },
    {
     "output_type": "stream",
     "name": "stdout",
     "text": [
      "\r"
     ]
    },
    {
     "output_type": "stream",
     "name": "stdout",
     "text": [
      "1714/1875 [==========================>...]"
     ]
    },
    {
     "output_type": "stream",
     "name": "stdout",
     "text": [
      " - ETA: 0s - loss: 0.2250 - accuracy: 0.9148"
     ]
    },
    {
     "output_type": "stream",
     "name": "stdout",
     "text": [
      "\b\b\b\b\b\b\b\b\b\b\b\b\b\b\b\b\b\b\b\b\b\b\b\b\b\b\b\b\b\b\b\b\b\b\b\b\b\b\b\b\b\b\b\b\b\b\b\b\b\b\b\b\b\b\b\b\b\b\b\b\b\b\b\b\b\b\b\b\b\b\b\b\b\b\b\b\b\b\b\b\b\b\b\b\b\b"
     ]
    },
    {
     "output_type": "stream",
     "name": "stdout",
     "text": [
      "\r"
     ]
    },
    {
     "output_type": "stream",
     "name": "stdout",
     "text": [
      "1751/1875 [===========================>..]"
     ]
    },
    {
     "output_type": "stream",
     "name": "stdout",
     "text": [
      " - ETA: 0s - loss: 0.2250 - accuracy: 0.9146"
     ]
    },
    {
     "output_type": "stream",
     "name": "stdout",
     "text": [
      "\b\b\b\b\b\b\b\b\b\b\b\b\b\b\b\b\b\b\b\b\b\b\b\b\b\b\b\b\b\b\b\b\b\b\b\b\b\b\b\b\b\b\b\b\b\b\b\b\b\b\b\b\b\b\b\b\b\b\b\b\b\b\b\b\b\b\b\b\b\b\b\b\b\b\b\b\b\b\b\b\b\b\b\b\b\b"
     ]
    },
    {
     "output_type": "stream",
     "name": "stdout",
     "text": [
      "\r"
     ]
    },
    {
     "output_type": "stream",
     "name": "stdout",
     "text": [
      "1788/1875 [===========================>..]"
     ]
    },
    {
     "output_type": "stream",
     "name": "stdout",
     "text": [
      " - ETA: 0s - loss: 0.2255 - accuracy: 0.9145"
     ]
    },
    {
     "output_type": "stream",
     "name": "stdout",
     "text": [
      "\b\b\b\b\b\b\b\b\b\b\b\b\b\b\b\b\b\b\b\b\b\b\b\b\b\b\b\b\b\b\b\b\b\b\b\b\b\b\b\b\b\b\b\b\b\b\b\b\b\b\b\b\b\b\b\b\b\b\b\b\b\b\b\b\b\b\b\b\b\b\b\b\b\b\b\b\b\b\b\b\b\b\b\b\b\b"
     ]
    },
    {
     "output_type": "stream",
     "name": "stdout",
     "text": [
      "\r"
     ]
    },
    {
     "output_type": "stream",
     "name": "stdout",
     "text": [
      "1824/1875 [============================>.]"
     ]
    },
    {
     "output_type": "stream",
     "name": "stdout",
     "text": [
      " - ETA: 0s - loss: 0.2258 - accuracy: 0.9144"
     ]
    },
    {
     "output_type": "stream",
     "name": "stdout",
     "text": [
      "\b\b\b\b\b\b\b\b\b\b\b\b\b\b\b\b\b\b\b\b\b\b\b\b\b\b\b\b\b\b\b\b\b\b\b\b\b\b\b\b\b\b\b\b\b\b\b\b\b\b\b\b\b\b\b\b\b\b\b\b\b\b\b\b\b\b\b\b\b\b\b\b\b\b\b\b\b\b\b\b\b\b\b\b\b\b"
     ]
    },
    {
     "output_type": "stream",
     "name": "stdout",
     "text": [
      "\r"
     ]
    },
    {
     "output_type": "stream",
     "name": "stdout",
     "text": [
      "1860/1875 [============================>.]"
     ]
    },
    {
     "output_type": "stream",
     "name": "stdout",
     "text": [
      " - ETA: 0s - loss: 0.2255 - accuracy: 0.9146"
     ]
    },
    {
     "output_type": "stream",
     "name": "stdout",
     "text": [
      "\b\b\b\b\b\b\b\b\b\b\b\b\b\b\b\b\b\b\b\b\b\b\b\b\b\b\b\b\b\b\b\b\b\b\b\b\b\b\b\b\b\b\b\b\b\b\b\b\b\b\b\b\b\b\b\b\b\b\b\b\b\b\b\b\b\b\b\b\b\b\b\b\b\b\b\b\b\b\b\b\b\b\b\b\b\b"
     ]
    },
    {
     "output_type": "stream",
     "name": "stdout",
     "text": [
      "\r"
     ]
    },
    {
     "output_type": "stream",
     "name": "stdout",
     "text": [
      "1875/1875 [==============================]"
     ]
    },
    {
     "output_type": "stream",
     "name": "stdout",
     "text": [
      " - 3s 2ms/step - loss: 0.2260 - accuracy: 0.9145 - val_loss: 0.3457 - val_accuracy: 0.8814\n"
     ]
    },
    {
     "output_type": "execute_result",
     "data": {
      "text/plain": [
       "<tensorflow.python.keras.callbacks.History at 0x7f1f802512b0>"
      ]
     },
     "metadata": {},
     "execution_count": 10
    }
   ],
   "metadata": {
    "id": "McO82AXOuxXh"
   }
  },
  {
   "cell_type": "markdown",
   "source": [
    "The `my_dir/intro_to_kt` directory contains detailed logs and checkpoints for every trial (model configuration) run during the hyperparameter search. If you re-run the hyperparameter search, the Keras Tuner uses the existing state from these logs to resume the search. To disable this behavior, pass an additional `overwrite = True` argument while instantiating the tuner."
   ],
   "metadata": {
    "id": "EQRpPHZsz-eC"
   }
  },
  {
   "cell_type": "markdown",
   "source": [
    "## Summary\n",
    "\n",
    "In this tutorial, you learned how to use the Keras Tuner to tune hyperparameters for a model. To learn more about the Keras Tuner, check out these additional resources:\n",
    "\n",
    "* [Keras Tuner on the TensorFlow blog](https://blog.tensorflow.org/2020/01/hyperparameter-tuning-with-keras-tuner.html)\n",
    "* [Keras Tuner website](https://keras-team.github.io/keras-tuner/)\n",
    "\n",
    "Also check out the [HParams Dashboard](https://www.tensorflow.org/tensorboard/hyperparameter_tuning_with_hparams) in TensorBoard to interactively tune your model hyperparameters."
   ],
   "metadata": {
    "id": "sKwLOzKpFGAj"
   }
  }
 ],
 "metadata": {
  "colab": {
   "collapsed_sections": [
    "Tce3stUlHN0L"
   ],
   "name": "keras_tuner.ipynb",
   "toc_visible": true
  },
  "kernelspec": {
   "name": "python3",
   "display_name": "Python 3.8.11 64-bit ('py38_tf23': conda)"
  },
  "language_info": {
   "codemirror_mode": {
    "name": "ipython",
    "version": 3
   },
   "file_extension": ".py",
   "mimetype": "text/x-python",
   "name": "python",
   "nbconvert_exporter": "python",
   "pygments_lexer": "ipython3",
   "version": "3.8.11"
  },
  "interpreter": {
   "hash": "12258280f3a01847609cecdf288ec4ca09bb9de7961a66e3094524ad48475df7"
  }
 },
 "nbformat": 4,
 "nbformat_minor": 2
}